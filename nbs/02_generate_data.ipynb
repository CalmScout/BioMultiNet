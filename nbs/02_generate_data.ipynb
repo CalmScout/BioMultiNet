{
 "cells": [
  {
   "cell_type": "markdown",
   "metadata": {},
   "source": [
    "# Dataset generation"
   ]
  },
  {
   "cell_type": "markdown",
   "metadata": {},
   "source": [
    "There are several approaches to generate data to start work with multilayer networks:\n",
    "\n",
    "1. Generate synthetic dataset\n",
    "2. Generate subset of existing large dataset for faster iterations\n",
    "3. Download and prepare for the work real large dataset"
   ]
  },
  {
   "cell_type": "markdown",
   "metadata": {},
   "source": [
    "## 0. Imports and paths"
   ]
  },
  {
   "cell_type": "code",
   "execution_count": 1,
   "metadata": {},
   "outputs": [],
   "source": [
    "#| default_exp utils"
   ]
  },
  {
   "cell_type": "code",
   "execution_count": 2,
   "metadata": {},
   "outputs": [],
   "source": [
    "#| hide\n",
    "from nbdev.showdoc import *"
   ]
  },
  {
   "cell_type": "code",
   "execution_count": 3,
   "metadata": {},
   "outputs": [],
   "source": [
    "#| export\n",
    "import networkx as nx\n",
    "import csv\n",
    "from pathlib import Path\n",
    "import random\n",
    "import string"
   ]
  },
  {
   "cell_type": "code",
   "execution_count": 4,
   "metadata": {},
   "outputs": [],
   "source": [
    "#| hide\n",
    "import nbdev; nbdev.nbdev_export()"
   ]
  },
  {
   "cell_type": "code",
   "execution_count": 5,
   "metadata": {},
   "outputs": [],
   "source": [
    "path_data = Path(\"../data\")\n",
    "path_data.mkdir(exist_ok=True)"
   ]
  },
  {
   "cell_type": "markdown",
   "metadata": {},
   "source": [
    "## 1. Generate synthetic dataset\n",
    "Create a small multilayer graph for testing purposes."
   ]
  },
  {
   "cell_type": "code",
   "execution_count": 30,
   "metadata": {},
   "outputs": [],
   "source": [
    "#| export \n",
    "def obfuscate_nodes(n_nodes:int,\n",
    "                    node_labels_pool:list[str]=None,\n",
    "                    str_len:int=10) -> dict:\n",
    "    \"\"\"\n",
    "    Maps nodes from range [0, n_nodes) to unique random strings of length str_len.\n",
    "    All upper case letters and digits are used, starts with a letter.\n",
    "    If node_labels_pool is provided, nodes selected from it if len(node_labels_pool) >= n_nodes,\n",
    "    otherwise, additional unique nodes are generated.\n",
    "    \"\"\"\n",
    "    if node_labels_pool is not None:\n",
    "        assert len(node_labels_pool[0]) == str_len\n",
    "    \n",
    "    def encode(str_len):\n",
    "        return ''.join(random.choices(string.ascii_uppercase, k=1)) +\\\n",
    "               ''.join(random.choices(string.ascii_uppercase + string.digits, k=(str_len-1)))\n",
    "    \n",
    "    if node_labels_pool is not None:\n",
    "        if len(node_labels_pool) >= n_nodes:\n",
    "            # select random nodes from node_labels_pool\n",
    "            random.shuffle(node_labels_pool)\n",
    "            vals = node_labels_pool[:n_nodes]\n",
    "            d = dict(zip(range(n_nodes), vals))\n",
    "        elif len(node_labels_pool) < n_nodes:\n",
    "            # use all nodes from node_labels_pool\n",
    "            random.shuffle(node_labels_pool)\n",
    "            vals = node_labels_pool[:]\n",
    "            # generate additional unique nodes\n",
    "            for i in range(n_nodes - len(node_labels_pool)):\n",
    "                x = encode(str_len)\n",
    "                while x in vals: # guarantee uniqueness\n",
    "                    x = encode(str_len)\n",
    "                vals.append(x)\n",
    "            # shuffle pre-defined and newly generated nodes\n",
    "            random.shuffle(vals)\n",
    "            d = dict(zip(range(n_nodes), vals))\n",
    "    else:   # no node_labels_pool provided\n",
    "        d = {}\n",
    "        for i in range(n_nodes):\n",
    "            x = encode(str_len)\n",
    "            # gaurantee uniqueness\n",
    "            while x in d.values():\n",
    "                x = encode(str_len)\n",
    "            \n",
    "            d[i] = x\n",
    "    \n",
    "    return d"
   ]
  },
  {
   "cell_type": "code",
   "execution_count": 35,
   "metadata": {},
   "outputs": [
    {
     "data": {
      "text/plain": [
       "{0: 'TRYBYAJRMJ', 1: 'CLPEH5WCKO', 2: 'OXAJ0N6W56'}"
      ]
     },
     "execution_count": 35,
     "metadata": {},
     "output_type": "execute_result"
    }
   ],
   "source": [
    "d = obfuscate_nodes(n_nodes=3)\n",
    "d"
   ]
  },
  {
   "cell_type": "code",
   "execution_count": 38,
   "metadata": {},
   "outputs": [
    {
     "data": {
      "text/plain": [
       "{0: 'G54WMQPO11', 1: 'TI672Y15ZU'}"
      ]
     },
     "execution_count": 38,
     "metadata": {},
     "output_type": "execute_result"
    }
   ],
   "source": [
    "node_labels_pool = ['TI672Y15ZU', 'S0SM5PZWDN','G54WMQPO11']\n",
    "d = obfuscate_nodes(n_nodes=2, node_labels_pool=node_labels_pool)\n",
    "d"
   ]
  },
  {
   "cell_type": "code",
   "execution_count": 39,
   "metadata": {},
   "outputs": [
    {
     "data": {
      "text/plain": [
       "{0: 'AM8P8D1UV8',\n",
       " 1: 'XHNLHK4GVE',\n",
       " 2: 'S0SM5PZWDN',\n",
       " 3: 'TI672Y15ZU',\n",
       " 4: 'G54WMQPO11'}"
      ]
     },
     "execution_count": 39,
     "metadata": {},
     "output_type": "execute_result"
    }
   ],
   "source": [
    "d = obfuscate_nodes(n_nodes=5, node_labels_pool=node_labels_pool)\n",
    "d"
   ]
  },
  {
   "cell_type": "markdown",
   "metadata": {},
   "source": [
    "The following is a thin wrapper around the random graph generators from [networkx](https://networkx.org/documentation/stable/reference/generators.html#module-networkx.generators.random_graphs) package."
   ]
  },
  {
   "cell_type": "code",
   "execution_count": 8,
   "metadata": {},
   "outputs": [],
   "source": [
    "#| export\n",
    "def create_random_graph(generator:callable, obfuscate:bool=True, **kwargs):\n",
    "    \"\"\"Thin wrapper around networkx's random graph generator\n",
    "\n",
    "    Args:\n",
    "        generator (callable): networkx's random graph generator\n",
    "        **kwargs: passed to generator\n",
    "    Example:\n",
    "        >>> G = create_random_graph(nx.erdos_renyi_graph, n=10, p=0.6, directed=False)\n",
    "    \"\"\"\n",
    "    G = generator(**kwargs)\n",
    "    if obfuscate:\n",
    "        G = nx.relabel_nodes(G, obfuscate_nodes(G.number_of_nodes()))\n",
    "    return G"
   ]
  },
  {
   "cell_type": "code",
   "execution_count": 9,
   "metadata": {},
   "outputs": [],
   "source": [
    "G = create_random_graph(nx.erdos_renyi_graph, n=10, p=0.6, directed=False)"
   ]
  },
  {
   "cell_type": "code",
   "execution_count": 10,
   "metadata": {},
   "outputs": [
    {
     "data": {
      "text/plain": [
       "NodeView(('MDVP1J58F6', 'B795PK40SH', 'G1BSY7WMCF', 'MVC97CN6T1', 'CG8QWJ8N8M', 'Z3ZZU63QTP', 'NY4QOEJ6WP', 'I8BFARR4ZZ', 'GMD9EKVQ0X', 'I4X7ZHEC29'))"
      ]
     },
     "execution_count": 10,
     "metadata": {},
     "output_type": "execute_result"
    }
   ],
   "source": [
    "G.nodes()"
   ]
  },
  {
   "cell_type": "markdown",
   "metadata": {},
   "source": [
    "Create random graph and write it to the disk:"
   ]
  },
  {
   "cell_type": "code",
   "execution_count": 11,
   "metadata": {},
   "outputs": [],
   "source": [
    "#| export\n",
    "def create_and_save_random_graph(generator:callable,\n",
    "                                 label_edges:str,\n",
    "                                 path_to:str|Path,\n",
    "                                 obfuscate:bool=True,\n",
    "                                 **kwargs):\n",
    "    \"\"\"\n",
    "    Creates a random graph and saves it to path_to.\n",
    "\n",
    "    Args:\n",
    "        generator (callable): networkx's random graph generator\n",
    "        obfuscate (bool, optional): if true, obfuscates node names. Defaults to True.\n",
    "        path_to (str|Path, optional): path to save the graph. Defaults to None.\n",
    "    \n",
    "    Example:\n",
    "        >>> create_random_graph_and_save(nx.erdos_renyi_graph, n=10, p=0.6, directed=False, path_to=path_data / 'synthetic' / '1.csv')\n",
    "    \"\"\"\n",
    "\n",
    "    G = create_random_graph(generator=generator, obfuscate=obfuscate, **kwargs)\n",
    "    edges = G.edges()\n",
    "    with open(path_to, 'w', newline='') as csvfile:\n",
    "        writer = csv.writer(csvfile, delimiter=' ')\n",
    "        for edge in edges:\n",
    "            writer.writerow([edge[0], edge[1], label_edges])"
   ]
  },
  {
   "cell_type": "markdown",
   "metadata": {},
   "source": [
    "Create three layers. For experiments with CmmD algorithm we need at least several hundreds of nodes to see the difference in the clustering with a variety of $\\gamma$ values:"
   ]
  },
  {
   "cell_type": "code",
   "execution_count": 12,
   "metadata": {},
   "outputs": [],
   "source": [
    "path_dir_to = path_data / 'synthetic'\n",
    "path_dir_to.mkdir(exist_ok=True)"
   ]
  },
  {
   "cell_type": "code",
   "execution_count": 13,
   "metadata": {},
   "outputs": [],
   "source": [
    "n, p, label_edges = 300, 0.6, \"first\"\n",
    "create_and_save_random_graph(nx.erdos_renyi_graph, label_edges, path_dir_to / '1.csv', n=n, p=p)\n",
    "\n",
    "n, p, label_edges = 500, 0.4, \"second\"\n",
    "create_and_save_random_graph(nx.erdos_renyi_graph, label_edges, path_dir_to / '2.csv', n=n, p=p)\n",
    "\n",
    "n, p, label_edges = 400, 0.7, \"third\"\n",
    "create_and_save_random_graph(nx.erdos_renyi_graph, label_edges, path_dir_to / '3.csv', n=n, p=p)"
   ]
  },
  {
   "cell_type": "markdown",
   "metadata": {},
   "source": [
    "The method above generates obfuscated graph with node labels different from layer to layer. However, for multilayer community analysis we need that at least some nodes share labels among layers."
   ]
  },
  {
   "cell_type": "code",
   "execution_count": 14,
   "metadata": {},
   "outputs": [
    {
     "data": {
      "text/plain": [
       "NodeView(('J1XAJ30WKZ', 'UCWIM36L4Q', 'D67YFUCGEB', 'GEQN1KPO3E', 'PJ5KUHO20B', 'H4SI4921B4', 'WQ84ODHC6Z', 'I4KADRE2P9', 'SDPGQ3YXDS', 'H6FNN7JP5D', 'CVV0O56KW0', 'SNC9VTAD3B', 'KIQL3VTXM7', 'LC7ZJUU6R7', 'BCBUH8EXFS', 'BH3O7QJUNJ', 'V0W0QWF2Q4', 'B004CWIY7Q', 'KP1MKK46G4', 'EN57S6V1KS', 'P9IG7RZJSK', 'C06PFIHIYO', 'OIPZLJ2WMX', 'BUQAYJXVP5', 'DC2V5RPCFP', 'RNODMQ39QF', 'WVUY3HHALM', 'F7KSFUZW59', 'DH9RNSHIW9', 'OI6XLDT9NI', 'MG2ZCQMNE2', 'OR9GI71DT7', 'LTDA4GJOLZ', 'OHZNL1T3C6', 'IV81III7T6', 'GO50K6S795', 'KOX79N08XZ', 'H7ZB7RAYUE', 'J4ZSAEOG7C', 'IG43OHUBK4', 'B8DR4LNXJZ', 'B2PN9376UY', 'O6B561OUQM', 'TFQJBYAD9D', 'LWCJ9GUHVT', 'PNO223DLH7', 'X0YO9ILGDT', 'GN1YMQU5R6', 'LRH199ETON', 'R0THC5E2C4', 'PV870KPFTD', 'C3L5O2M9P7', 'XHI4CS9SQO', 'DSRQFRM2IE', 'NO4JENLMH9', 'SRTA94VN76', 'CDFNV0XVC8', 'HOC4DIYZ9I', 'ZJLKBDXL3V', 'QQEKQ3PXYY', 'F68HN3PRCZ', 'DVALRIY6EK', 'JYV8PMNB8E', 'HNVE0AAARR', 'ONS81VYTWN', 'UREG6YSNQP', 'S4V0B01U99', 'FELW5SZOY9', 'YCZKJPT65A', 'CGSZTYE7GA', 'SIT60VWT3K', 'N1N4RUZATA', 'JG8O8KQIQ2', 'R0411Z3E57', 'BPCD9UB5XD', 'IVKBLEP91P', 'VN3CQ5S7PG', 'DYUGXJSVFK', 'ZIQ0Z0UZKH', 'JQZA80OWS4', 'RVKGSA4YFD', 'HIXIHVYEWO', 'VP3CQ0A614', 'KPO1H89QWK', 'O604810HPS', 'PB63HT1VF5', 'QS1EPOFQCH', 'ECZE8QX8XP', 'H01SYR6KTS', 'IVYRYOFQHS', 'BO91UTN22H', 'AUAN9D1K0Q', 'UL6UTFL67W', 'GOOEJRYVV0', 'WZRLO9W0M8', 'YA69FGTIOR', 'NVH262SX2M', 'UDHLGRSK1J', 'U1SYKYOF57', 'JWEWH2QVW2', 'DKF4K2DPQ0', 'FWU6013RZ2', 'RS85ADO20O', 'UFY3P7APQK', 'MYD2WIUHW1', 'HEH4Y4895O', 'GPE9TEIKQ0', 'ZBM5XPM8LT', 'WTV5J9AFO7', 'C9AK783QN3', 'HF1C8H77YP', 'AEG34NL3FV', 'NXEEY5VEJJ', 'YCEZEWNBR0', 'VZTE6WDDOG', 'Z9AX8PRTNO', 'QFRF2NG1H2', 'HXTSZ16YW2', 'AJY8GXQ0ME', 'HORWLVEQQP', 'SX7H2S6N13', 'CKLWMO3SHV', 'LJMUXZOC2G', 'KR7W3DVXDG', 'VYM6171JEW', 'J42MUC9M9T', 'UIKQCHWCA1', 'TDLFINJK4M', 'Q4X77XKQX2', 'L96VNHSZRK', 'H5JWUCJ3AL', 'GI2B6VI2DO', 'IB7IY0QBC3', 'AFGKKH1SC1', 'BZTDL5Z7Q0', 'S94Q15QU0J', 'R56ONK1RMG', 'KTTO7J1D97', 'WT4QRORVAY', 'HMQ0HTGJJL', 'BKNMZTRYSY', 'FGGAKE8H31', 'JOFC3YVFCN', 'KSA6IK35UG', 'AJVI3S9UON', 'K412XH8HNE', 'HW77II14SQ', 'R02T4NLKY7', 'IJ8SOQK7H4', 'GMIXTRU852', 'JR9TZAUKCQ', 'NVD1JWL0C0', 'EMGNPGEO5L', 'SC3Y0R1B00', 'M4D1JUH2GP', 'HW9I05W1PA', 'LGNF80CTV1', 'RU4259DRNR', 'L5TN5ZE1TI', 'HNX417WKA6', 'K3LWPBHUE8', 'P7BK0E6ES6', 'CTMJ5HWFOH', 'QUNR2WTPIP', 'SZQWPDG3DM', 'WOS2X3BYT7', 'JKCREWZB0W', 'SUKYUYAO2B', 'MRBG5F73ES', 'ZE1987BIVF', 'WSN1749M6J', 'OPTNA1DNVL', 'X6BWLC78WQ', 'RC7JSAO4BA', 'WWF5R7K64K', 'IKVGOEXUVD', 'QJ9JUC547X', 'I9PUSCYNX1', 'FFJ94H6I83', 'VHRCUNOQ0A', 'ITDJJ17GCK', 'JX5V8WO05D', 'R0PCY0TH7H', 'ENKG1ZEG45', 'WBI20BO0VM', 'VY7WNZ0SWC', 'HCMZKV8OM1', 'GM1NHV3YYY', 'FUOF6CHCKR', 'IOB2Z59O7D', 'G2D2YZ69KG', 'RBKM0Z5HK7', 'AQN3SJFLL2', 'RUBM9UTZFX', 'PN3NP8MAFG', 'EVFSRP4T3S', 'XYROZ68O4P', 'C3WQ2PFXKA', 'G9G5F9VLWK', 'O26W3PVCAE', 'I8A11JUZLK', 'LU20GCYVDO', 'VQO0OM0WYX', 'CQKJWLANEQ', 'VS2EKH2QT8', 'E3AZOC62IC', 'V77SIWUTAX', 'OYX5XQB6M6', 'U4JU0YVP4N', 'IH3BM2IMI9', 'FEJ9G2SQ0Z', 'IW27A31CNN', 'V6NSF55EAV', 'MSW3W0NZTN', 'LDVDCDTY6Q', 'P8VHU3LQ1I', 'HFT9PF4ENU', 'N9JXZ3TYZQ', 'T0HQJHG9KO', 'HBEXP6TLHD', 'YKCUH6YN5B', 'GSQWH2A6EX', 'PYLZ6HBGFP', 'U4M8T21N1R', 'JXBBMAR75E', 'O4WU4JBOS9', 'KRGCJLN51F', 'J7A8MHDPQH', 'JKQZCP4Z63', 'B3MD7CJMPU', 'MQKZHJ7JFF', 'HJONFAIQF3', 'A9U7HUIIUT', 'JDI8RNAI12', 'NWS5XHF4K7', 'S6LF4QOPS6', 'KOTTP0F7QX', 'KL5XMPEGK5', 'UFVHGS865U', 'V77HV7WV09', 'WWDHEG3YBP', 'E0RWU10200', 'NUAMNHHK8G', 'VY7LULUMEQ', 'LJCTDK0JGE', 'XB89BCB2L6', 'VDW36QC5N3', 'ZS3J75TA77', 'IG0ESI1SGR', 'BGHXUMD60Y', 'QS4KR9PIUY', 'NTA7BV5HBD', 'IBXO7H1JQ7', 'PXYJNJVP1V', 'OQ2E1722SX', 'EN5O9TSRYI', 'UNZFU3U7C5', 'ACSHN1CLKD', 'OOZ8NP05EH', 'BKNH1N4HIX', 'W3CD8WMTGT', 'TU66XQB2RN', 'GHBJZPM17T', 'I41EIPWUUN', 'WGABZCR1Z8', 'ZBOLJY7ZWC', 'U2046B38HG', 'EKKB0I0D6S', 'LZ3B2BP80N', 'Q3BF9YGW4P', 'DC85EBH3GY', 'X6QN44TR1F', 'TWYG8U15HN', 'HT60TDANU1', 'UX6CEAMRWB', 'Y35SY0EJFW', 'LLTE0DM95W', 'Q09O8GI9BF', 'CO8LKKB8M5', 'HMCLZI2565', 'EUYSGM7N47', 'NWHNLI6DF0', 'EQYIR70UYK', 'TX9M2HUDKS', 'ZAIXXO3KCH', 'WU7M3IJTEH', 'H4QVT61WC9', 'A7JZKQZRPO', 'CGRCHS8AN7', 'LC6XA1AETN', 'KWS65OKXVM', 'K7VG7HXV3W', 'A37CVA9C3O', 'RK1AZSWNQL', 'LG0JOF3TFD', 'K48P24ZGN4', 'TBQQVA1ZUG', 'RDPP57U3MV', 'AAS23BNDZ3', 'MGPE9GVYXJ'))"
      ]
     },
     "execution_count": 14,
     "metadata": {},
     "output_type": "execute_result"
    }
   ],
   "source": [
    "# define parameters of the multilayer network\n",
    "generator = nx.erdos_renyi_graph\n",
    "n_nodes = [300, 500, 400]\n",
    "p_edges = [0.6, 0.4, 0.7]\n",
    "label_edges = [\"first\", \"second\", \"third\"]\n",
    "\n",
    "# let's generate graphs step by step and propagate labels of edges between those graphs\n",
    "G_1 = create_random_graph(generator=generator, obfuscate=True, n=n_nodes[0], p=p_edges[0], directed=False)"
   ]
  },
  {
   "cell_type": "code",
   "execution_count": 17,
   "metadata": {},
   "outputs": [
    {
     "data": {
      "text/plain": [
       "300"
      ]
     },
     "execution_count": 17,
     "metadata": {},
     "output_type": "execute_result"
    }
   ],
   "source": [
    "nodes = list(G_1.nodes())"
   ]
  },
  {
   "cell_type": "code",
   "execution_count": null,
   "metadata": {},
   "outputs": [],
   "source": []
  }
 ],
 "metadata": {
  "kernelspec": {
   "display_name": "python3",
   "language": "python",
   "name": "python3"
  },
  "language_info": {
   "codemirror_mode": {
    "name": "ipython",
    "version": 3
   },
   "file_extension": ".py",
   "mimetype": "text/x-python",
   "name": "python",
   "nbconvert_exporter": "python",
   "pygments_lexer": "ipython3",
   "version": "3.12.5"
  }
 },
 "nbformat": 4,
 "nbformat_minor": 2
}
