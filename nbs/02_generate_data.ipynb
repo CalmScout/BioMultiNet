{
 "cells": [
  {
   "cell_type": "markdown",
   "metadata": {},
   "source": [
    "# Dataset generation"
   ]
  },
  {
   "cell_type": "markdown",
   "metadata": {},
   "source": [
    "There are several approaches to generate data to start work with multilayer networks:\n",
    "\n",
    "1. Generate synthetic dataset\n",
    "2. Generate subset of existing large dataset for faster iterations\n",
    "3. Download and prepare for the work real large dataset"
   ]
  },
  {
   "cell_type": "markdown",
   "metadata": {},
   "source": [
    "## 0. Imports and paths"
   ]
  },
  {
   "cell_type": "code",
   "execution_count": 1,
   "metadata": {},
   "outputs": [],
   "source": [
    "#| default_exp utils"
   ]
  },
  {
   "cell_type": "code",
   "execution_count": 2,
   "metadata": {},
   "outputs": [],
   "source": [
    "#| hide\n",
    "from nbdev.showdoc import *"
   ]
  },
  {
   "cell_type": "code",
   "execution_count": 3,
   "metadata": {},
   "outputs": [],
   "source": [
    "#| export\n",
    "import networkx as nx\n",
    "import csv\n",
    "from pathlib import Path\n",
    "import random\n",
    "import string"
   ]
  },
  {
   "cell_type": "code",
   "execution_count": 4,
   "metadata": {},
   "outputs": [],
   "source": [
    "#| hide\n",
    "import nbdev; nbdev.nbdev_export()"
   ]
  },
  {
   "cell_type": "code",
   "execution_count": 5,
   "metadata": {},
   "outputs": [],
   "source": [
    "path_data = Path(\"../data\")\n",
    "path_data.mkdir(exist_ok=True)"
   ]
  },
  {
   "cell_type": "markdown",
   "metadata": {},
   "source": [
    "## 1. Generate synthetic dataset\n",
    "Create a small multilayer graph for testing purposes."
   ]
  },
  {
   "cell_type": "code",
   "execution_count": 6,
   "metadata": {},
   "outputs": [],
   "source": [
    "#| export \n",
    "def obfuscate_nodes(n_nodes:int,\n",
    "                    node_labels_pool:list[str]=None,\n",
    "                    str_len:int=10) -> dict:\n",
    "    \"\"\"\n",
    "    Maps nodes from range [0, n_nodes) to unique random strings of length str_len.\n",
    "    All upper case letters and digits are used, starts with a letter.\n",
    "    If node_labels_pool is provided, nodes selected from it if len(node_labels_pool) >= n_nodes,\n",
    "    otherwise, additional unique nodes are generated.\n",
    "    \"\"\"\n",
    "    if node_labels_pool is not None and len(node_labels_pool) > 0:\n",
    "        assert len(node_labels_pool[0]) == str_len\n",
    "    \n",
    "    def encode(str_len):\n",
    "        return ''.join(random.choices(string.ascii_uppercase, k=1)) +\\\n",
    "               ''.join(random.choices(string.ascii_uppercase + string.digits, k=(str_len-1)))\n",
    "    \n",
    "    if node_labels_pool is not None:\n",
    "        if len(node_labels_pool) >= n_nodes:\n",
    "            # select random nodes from node_labels_pool\n",
    "            random.shuffle(node_labels_pool)\n",
    "            vals = node_labels_pool[:n_nodes]\n",
    "            d = dict(zip(range(n_nodes), vals))\n",
    "        elif len(node_labels_pool) < n_nodes:\n",
    "            # use all nodes from node_labels_pool\n",
    "            random.shuffle(node_labels_pool)\n",
    "            vals = node_labels_pool[:]\n",
    "            # generate additional unique nodes\n",
    "            for i in range(n_nodes - len(node_labels_pool)):\n",
    "                x = encode(str_len)\n",
    "                while x in vals: # guarantee uniqueness\n",
    "                    x = encode(str_len)\n",
    "                vals.append(x)\n",
    "            # shuffle pre-defined and newly generated nodes\n",
    "            random.shuffle(vals)\n",
    "            d = dict(zip(range(n_nodes), vals))\n",
    "    else:   # no node_labels_pool provided\n",
    "        d = {}\n",
    "        for i in range(n_nodes):\n",
    "            x = encode(str_len)\n",
    "            # gaurantee uniqueness\n",
    "            while x in d.values():\n",
    "                x = encode(str_len)\n",
    "            \n",
    "            d[i] = x\n",
    "    \n",
    "    return d"
   ]
  },
  {
   "cell_type": "code",
   "execution_count": 7,
   "metadata": {},
   "outputs": [
    {
     "data": {
      "text/plain": [
       "{0: 'PAZN0O9IIH', 1: 'MNMUZUM48X', 2: 'VDBU4HPMCC'}"
      ]
     },
     "execution_count": 7,
     "metadata": {},
     "output_type": "execute_result"
    }
   ],
   "source": [
    "d = obfuscate_nodes(n_nodes=3)\n",
    "d"
   ]
  },
  {
   "cell_type": "code",
   "execution_count": 8,
   "metadata": {},
   "outputs": [
    {
     "data": {
      "text/plain": [
       "{0: 'S0SM5PZWDN', 1: 'TI672Y15ZU'}"
      ]
     },
     "execution_count": 8,
     "metadata": {},
     "output_type": "execute_result"
    }
   ],
   "source": [
    "node_labels_pool = ['TI672Y15ZU', 'S0SM5PZWDN','G54WMQPO11']\n",
    "d = obfuscate_nodes(n_nodes=2, node_labels_pool=node_labels_pool)\n",
    "d"
   ]
  },
  {
   "cell_type": "code",
   "execution_count": 9,
   "metadata": {},
   "outputs": [
    {
     "data": {
      "text/plain": [
       "{0: 'JNFJDR2ZFN',\n",
       " 1: 'S0SM5PZWDN',\n",
       " 2: 'UTG42RLL53',\n",
       " 3: 'TI672Y15ZU',\n",
       " 4: 'G54WMQPO11'}"
      ]
     },
     "execution_count": 9,
     "metadata": {},
     "output_type": "execute_result"
    }
   ],
   "source": [
    "d = obfuscate_nodes(n_nodes=5, node_labels_pool=node_labels_pool)\n",
    "d"
   ]
  },
  {
   "cell_type": "markdown",
   "metadata": {},
   "source": [
    "The following is a thin wrapper around the random graph generators from [networkx](https://networkx.org/documentation/stable/reference/generators.html#module-networkx.generators.random_graphs) package."
   ]
  },
  {
   "cell_type": "code",
   "execution_count": 10,
   "metadata": {},
   "outputs": [],
   "source": [
    "#| export\n",
    "def create_random_graph(generator:callable, obfuscate:bool=True, node_labels_pool:list[str]=None, **kwargs):\n",
    "    \"\"\"Thin wrapper around networkx's random graph generator\n",
    "\n",
    "    Args:\n",
    "        generator (callable): networkx's random graph generator\n",
    "        **kwargs: passed to generator\n",
    "    Example:\n",
    "        >>> G = create_random_graph(nx.erdos_renyi_graph, n=10, p=0.6, directed=False)\n",
    "    \"\"\"\n",
    "    G = generator(**kwargs)\n",
    "    if obfuscate:\n",
    "        G = nx.relabel_nodes(G, obfuscate_nodes(G.number_of_nodes(), node_labels_pool=node_labels_pool))\n",
    "    return G"
   ]
  },
  {
   "cell_type": "code",
   "execution_count": 11,
   "metadata": {},
   "outputs": [
    {
     "data": {
      "text/plain": [
       "['G54WMQPO11', 'S0SM5PZWDN', 'TI672Y15ZU']"
      ]
     },
     "execution_count": 11,
     "metadata": {},
     "output_type": "execute_result"
    }
   ],
   "source": [
    "node_labels_pool"
   ]
  },
  {
   "cell_type": "code",
   "execution_count": 12,
   "metadata": {},
   "outputs": [],
   "source": [
    "G = create_random_graph(nx.erdos_renyi_graph, node_labels_pool=node_labels_pool, n=5, p=0.6, directed=False)"
   ]
  },
  {
   "cell_type": "code",
   "execution_count": 13,
   "metadata": {},
   "outputs": [
    {
     "data": {
      "text/plain": [
       "NodeView(('SBCUX8F7ST', 'S0SM5PZWDN', 'G54WMQPO11', 'TI672Y15ZU', 'JYSAI9KPVS'))"
      ]
     },
     "execution_count": 13,
     "metadata": {},
     "output_type": "execute_result"
    }
   ],
   "source": [
    "G.nodes()"
   ]
  },
  {
   "cell_type": "markdown",
   "metadata": {},
   "source": [
    "Create random graph and write it to the disk:"
   ]
  },
  {
   "cell_type": "code",
   "execution_count": 14,
   "metadata": {},
   "outputs": [],
   "source": [
    "#| export\n",
    "def create_and_save_random_graph(generator:callable,\n",
    "                                 label_edges:str,\n",
    "                                 path_to:str|Path,\n",
    "                                 obfuscate:bool=True,\n",
    "                                 node_labels_pool:list[str]=None,\n",
    "                                 **kwargs) -> nx.classes.graph.Graph:\n",
    "    \"\"\"\n",
    "    Creates a random graph and saves it to path_to.\n",
    "\n",
    "    Args:\n",
    "        generator (callable): networkx's random graph generator\n",
    "        obfuscate (bool, optional): if true, obfuscates node names. Defaults to True.\n",
    "        path_to (str|Path, optional): path to save the graph. Defaults to None.\n",
    "    \n",
    "    Example:\n",
    "        >>> create_random_graph_and_save(nx.erdos_renyi_graph, n=10, p=0.6, directed=False, path_to=path_data / 'synthetic' / '1.csv')\n",
    "    \"\"\"\n",
    "\n",
    "    G = create_random_graph(generator=generator, obfuscate=obfuscate, node_labels_pool=node_labels_pool, **kwargs)\n",
    "    edges = G.edges()\n",
    "    with open(path_to, 'w', newline='') as csvfile:\n",
    "        writer = csv.writer(csvfile, delimiter=' ')\n",
    "        for edge in edges:\n",
    "            writer.writerow([edge[0], edge[1], label_edges])\n",
    "    \n",
    "    return G"
   ]
  },
  {
   "cell_type": "markdown",
   "metadata": {},
   "source": [
    "Create three layers. For experiments with CmmD algorithm we need at least several hundreds of nodes to see the difference in the clustering with a variety of $\\gamma$ values:"
   ]
  },
  {
   "cell_type": "code",
   "execution_count": 15,
   "metadata": {},
   "outputs": [],
   "source": [
    "path_dir_to = path_data / 'synthetic'\n",
    "path_dir_to.mkdir(exist_ok=True)"
   ]
  },
  {
   "cell_type": "markdown",
   "metadata": {},
   "source": [
    "Leaving the `label_edge` empty allows to follow the required format for MolTi community detection software:"
   ]
  },
  {
   "cell_type": "code",
   "execution_count": 16,
   "metadata": {},
   "outputs": [],
   "source": [
    "node_labels_pool = []\n",
    "\n",
    "n, p, label_edges = 300, 0.2, \"\"\n",
    "G_1 = create_and_save_random_graph(nx.erdos_renyi_graph, label_edges, path_dir_to / '1.csv',\n",
    "                                   obfuscate=True, node_labels_pool=node_labels_pool, n=n, p=p)\n",
    "node_labels_pool.extend(list(G_1.nodes()))\n",
    "\n",
    "n, p, label_edges = 500, 0.2, \"\"\n",
    "G_2 = create_and_save_random_graph(nx.erdos_renyi_graph, label_edges, path_dir_to / '2.csv',\n",
    "                                   obfuscate=True, node_labels_pool=node_labels_pool, n=n, p=p)\n",
    "node_labels_pool.extend(list(G_2.nodes()))\n",
    "\n",
    "n, p, label_edges = 400, 0.2, \"\"\n",
    "G_3 = create_and_save_random_graph(nx.erdos_renyi_graph, label_edges, path_dir_to / '3.csv',\n",
    "                                   obfuscate=True, node_labels_pool=node_labels_pool, n=n, p=p)\n",
    "node_labels_pool.extend(list(G_3.nodes()))"
   ]
  },
  {
   "cell_type": "code",
   "execution_count": null,
   "metadata": {},
   "outputs": [],
   "source": []
  }
 ],
 "metadata": {
  "kernelspec": {
   "display_name": "python3",
   "language": "python",
   "name": "python3"
  },
  "language_info": {
   "codemirror_mode": {
    "name": "ipython",
    "version": 3
   },
   "file_extension": ".py",
   "mimetype": "text/x-python",
   "name": "python",
   "nbconvert_exporter": "python",
   "pygments_lexer": "ipython3",
   "version": "3.12.5"
  }
 },
 "nbformat": 4,
 "nbformat_minor": 2
}
