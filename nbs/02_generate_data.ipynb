{
 "cells": [
  {
   "cell_type": "markdown",
   "metadata": {},
   "source": [
    "# Dataset generation"
   ]
  },
  {
   "cell_type": "markdown",
   "metadata": {},
   "source": [
    "There are several approaches to generate data to start work with multilayer networks:\n",
    "\n",
    "1. Generate synthetic dataset\n",
    "2. Generate subset of existing large dataset for faster iterations\n",
    "3. Download and prepare for the work real large dataset"
   ]
  },
  {
   "cell_type": "markdown",
   "metadata": {},
   "source": [
    "## 0. Imports and paths"
   ]
  },
  {
   "cell_type": "code",
   "execution_count": 1,
   "metadata": {},
   "outputs": [],
   "source": [
    "#| default_exp utils"
   ]
  },
  {
   "cell_type": "code",
   "execution_count": 2,
   "metadata": {},
   "outputs": [],
   "source": [
    "#| hide\n",
    "from nbdev.showdoc import *"
   ]
  },
  {
   "cell_type": "code",
   "execution_count": 3,
   "metadata": {},
   "outputs": [],
   "source": [
    "#| export\n",
    "import networkx as nx\n",
    "import csv\n",
    "from pathlib import Path\n",
    "import random\n",
    "import string"
   ]
  },
  {
   "cell_type": "code",
   "execution_count": 4,
   "metadata": {},
   "outputs": [],
   "source": [
    "#| hide\n",
    "import nbdev; nbdev.nbdev_export()"
   ]
  },
  {
   "cell_type": "code",
   "execution_count": 5,
   "metadata": {},
   "outputs": [],
   "source": [
    "path_data = Path(\"../data\")\n",
    "path_data.mkdir(exist_ok=True)"
   ]
  },
  {
   "cell_type": "markdown",
   "metadata": {},
   "source": [
    "## 1. Generate synthetic dataset\n",
    "Create a small multilayer graph for testing purposes."
   ]
  },
  {
   "cell_type": "code",
   "execution_count": 6,
   "metadata": {},
   "outputs": [],
   "source": [
    "#| export \n",
    "def obfuscate_nodes(n_nodes:int, str_len:int=10) -> dict:\n",
    "    \"\"\"\n",
    "    Maps nodes from range [0, n_nodes) to random strings of length str_len\n",
    "    \"\"\"\n",
    "    d = {}\n",
    "    for i in range(n_nodes):\n",
    "        d[i] = ''.join(random.choices(string.ascii_uppercase, k=1)) +\\\n",
    "              ''.join(random.choices(string.ascii_uppercase + string.digits, k=(str_len-1)))\n",
    "    \n",
    "    #TODO:verify that there are no duplicates\n",
    "    return d"
   ]
  },
  {
   "cell_type": "code",
   "execution_count": 7,
   "metadata": {},
   "outputs": [
    {
     "data": {
      "text/plain": [
       "{0: 'ZEERP9X9YZ',\n",
       " 1: 'I69P25FUZY',\n",
       " 2: 'NOZRBIZW72',\n",
       " 3: 'SYKL461WOA',\n",
       " 4: 'BT33J1VILM',\n",
       " 5: 'RSFHAXR3DU',\n",
       " 6: 'GS2WXNO1O8',\n",
       " 7: 'DB4VF0FH1C',\n",
       " 8: 'I8XOJYKED0',\n",
       " 9: 'SD11TMJSK0'}"
      ]
     },
     "execution_count": 7,
     "metadata": {},
     "output_type": "execute_result"
    }
   ],
   "source": [
    "d = obfuscate_nodes(n_nodes=10)\n",
    "d"
   ]
  },
  {
   "cell_type": "code",
   "execution_count": 8,
   "metadata": {},
   "outputs": [],
   "source": [
    "#| export\n",
    "def create_random_graph(n_nodes:int, prob:float, directed:bool=False, path_to:str|Path=None, label:str=None):\n",
    "    G = nx.erdos_renyi_graph(n_nodes, prob, directed=directed)\n",
    "    edges = G.edges()\n",
    "    if path_to is not None:\n",
    "        with open(path_to, 'w', newline='') as csvfile:\n",
    "            writer = csv.writer(csvfile, delimiter=' ')\n",
    "            for edge in edges:\n",
    "                writer.writerow([edge[0], edge[1], label])\n",
    "        return None\n",
    "    return G"
   ]
  },
  {
   "cell_type": "markdown",
   "metadata": {},
   "source": [
    "Create three layers. For experiments with CmmD algorithm we need at least several hundreds of nodes to see the difference in the clustering with a variety of $\\gamma$ values:"
   ]
  },
  {
   "cell_type": "code",
   "execution_count": 9,
   "metadata": {},
   "outputs": [],
   "source": [
    "path_dir_to = path_data / 'synthetic'\n",
    "path_dir_to.mkdir(exist_ok=True)"
   ]
  },
  {
   "cell_type": "code",
   "execution_count": 10,
   "metadata": {},
   "outputs": [],
   "source": [
    "n_nodes, prob, label = 300, 0.6, \"first\"\n",
    "create_random_graph(n_nodes=n_nodes, prob=prob, path_to=path_dir_to / 'first.csv', label=label)\n",
    "\n",
    "n_nodes, prob, label = 500, 0.4, \"second\"\n",
    "create_random_graph(n_nodes=n_nodes, prob=prob, path_to=path_dir_to / 'second.csv', label=label)\n",
    "\n",
    "n_nodes, prob, label = 400, 0.7, \"third\"\n",
    "create_random_graph(n_nodes=n_nodes, prob=prob, path_to=path_dir_to / 'third.csv', label=label)"
   ]
  },
  {
   "cell_type": "code",
   "execution_count": null,
   "metadata": {},
   "outputs": [],
   "source": []
  }
 ],
 "metadata": {
  "kernelspec": {
   "display_name": "python3",
   "language": "python",
   "name": "python3"
  },
  "language_info": {
   "codemirror_mode": {
    "name": "ipython",
    "version": 3
   },
   "file_extension": ".py",
   "mimetype": "text/x-python",
   "name": "python",
   "nbconvert_exporter": "python",
   "pygments_lexer": "ipython3",
   "version": "3.12.5"
  }
 },
 "nbformat": 4,
 "nbformat_minor": 2
}
