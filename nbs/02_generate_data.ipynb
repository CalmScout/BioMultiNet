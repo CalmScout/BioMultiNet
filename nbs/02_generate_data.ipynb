{
 "cells": [
  {
   "cell_type": "markdown",
   "metadata": {},
   "source": [
    "# Dataset generation"
   ]
  },
  {
   "cell_type": "markdown",
   "metadata": {},
   "source": [
    "There are several approaches to generate data to start work with multilayer networks:\n",
    "\n",
    "1. Generate synthetic dataset\n",
    "2. Generate subset of existing large dataset for faster iterations\n",
    "3. Download and prepare for the work real large dataset"
   ]
  },
  {
   "cell_type": "markdown",
   "metadata": {},
   "source": [
    "## 0. Imports and paths"
   ]
  },
  {
   "cell_type": "code",
   "execution_count": 1,
   "metadata": {},
   "outputs": [],
   "source": [
    "#| default_exp utils"
   ]
  },
  {
   "cell_type": "code",
   "execution_count": 2,
   "metadata": {},
   "outputs": [],
   "source": [
    "#| hide\n",
    "from nbdev.showdoc import *"
   ]
  },
  {
   "cell_type": "code",
   "execution_count": 3,
   "metadata": {},
   "outputs": [],
   "source": [
    "#| export\n",
    "import networkx as nx\n",
    "import csv\n",
    "from pathlib import Path\n",
    "import random\n",
    "import string"
   ]
  },
  {
   "cell_type": "code",
   "execution_count": 4,
   "metadata": {},
   "outputs": [],
   "source": [
    "#| hide\n",
    "import nbdev; nbdev.nbdev_export()"
   ]
  },
  {
   "cell_type": "code",
   "execution_count": 5,
   "metadata": {},
   "outputs": [],
   "source": [
    "path_data = Path(\"../data\")\n",
    "path_data.mkdir(exist_ok=True)"
   ]
  },
  {
   "cell_type": "markdown",
   "metadata": {},
   "source": [
    "## 1. Generate synthetic dataset\n",
    "Create a small multilayer graph for testing purposes."
   ]
  },
  {
   "cell_type": "code",
   "execution_count": 6,
   "metadata": {},
   "outputs": [],
   "source": [
    "#| export \n",
    "def obfuscate_nodes(n_nodes:int, str_len:int=10) -> dict:\n",
    "    \"\"\"\n",
    "    Maps nodes from range [0, n_nodes) to unique random strings of length str_len.\n",
    "    All upper case letters and digits are used, starts with a letter.\n",
    "    \"\"\"\n",
    "    def encode(str_len):\n",
    "        return ''.join(random.choices(string.ascii_uppercase, k=1)) +\\\n",
    "               ''.join(random.choices(string.ascii_uppercase + string.digits, k=(str_len-1)))\n",
    "    \n",
    "    d = {}\n",
    "    for i in range(n_nodes):\n",
    "        x = encode(str_len)\n",
    "        # gaurantee uniqueness\n",
    "        while x in d.values():\n",
    "            x = encode(str_len)\n",
    "        \n",
    "        d[i] = x\n",
    "    \n",
    "    return d"
   ]
  },
  {
   "cell_type": "code",
   "execution_count": 7,
   "metadata": {},
   "outputs": [
    {
     "data": {
      "text/plain": [
       "{0: 'EH3XDJO27A',\n",
       " 1: 'VCR3LQTI4J',\n",
       " 2: 'H2TLNQRT25',\n",
       " 3: 'E1YYG4ZYOW',\n",
       " 4: 'VS6IXQ1XV2',\n",
       " 5: 'N0WNCK2YCT',\n",
       " 6: 'WDCEJ2MUZ8',\n",
       " 7: 'UEC61ZVTEW',\n",
       " 8: 'PNQJIJWMSF',\n",
       " 9: 'PG03UORXEN'}"
      ]
     },
     "execution_count": 7,
     "metadata": {},
     "output_type": "execute_result"
    }
   ],
   "source": [
    "d = obfuscate_nodes(n_nodes=10)\n",
    "d"
   ]
  },
  {
   "cell_type": "markdown",
   "metadata": {},
   "source": [
    "The following is a thin wrapper around the random graph generators from [networkx](https://networkx.org/documentation/stable/reference/generators.html#module-networkx.generators.random_graphs) package."
   ]
  },
  {
   "cell_type": "code",
   "execution_count": 8,
   "metadata": {},
   "outputs": [],
   "source": [
    "#| export\n",
    "def create_random_graph(generator:callable, obfuscate:bool=True, **kwargs):\n",
    "    \"\"\"Thin wrapper around networkx's random graph generator\n",
    "\n",
    "    Args:\n",
    "        generator (callable): networkx's random graph generator\n",
    "        **kwargs: passed to generator\n",
    "    Example:\n",
    "        >>> G = create_random_graph(nx.erdos_renyi_graph, n=10, p=0.6, directed=False)\n",
    "    \"\"\"\n",
    "    G = generator(**kwargs)\n",
    "    if obfuscate:\n",
    "        G = nx.relabel_nodes(G, obfuscate_nodes(G.number_of_nodes()))\n",
    "    return G"
   ]
  },
  {
   "cell_type": "code",
   "execution_count": 9,
   "metadata": {},
   "outputs": [],
   "source": [
    "G = create_random_graph(nx.erdos_renyi_graph, n=10, p=0.6, directed=False)"
   ]
  },
  {
   "cell_type": "code",
   "execution_count": 10,
   "metadata": {},
   "outputs": [
    {
     "data": {
      "text/plain": [
       "NodeView(('LD93XCQ5OS', 'ZV29NBKL64', 'CBYHJPXKEF', 'GFEJQT1UT3', 'ARJEENQ08A', 'JBT7NVJXW5', 'PE1P3YDXL5', 'BYMXLVBB2E', 'EXR76ODCYA', 'Q54BXC0AKM'))"
      ]
     },
     "execution_count": 10,
     "metadata": {},
     "output_type": "execute_result"
    }
   ],
   "source": [
    "G.nodes()"
   ]
  },
  {
   "cell_type": "markdown",
   "metadata": {},
   "source": [
    "Create random graph and write it to the disk:"
   ]
  },
  {
   "cell_type": "code",
   "execution_count": 11,
   "metadata": {},
   "outputs": [],
   "source": [
    "#| export\n",
    "def create_and_save_random_graph(generator:callable,\n",
    "                                 label:str,\n",
    "                                 path_to:str|Path,\n",
    "                                 obfuscate:bool=True,\n",
    "                                 **kwargs):\n",
    "    \"\"\"\n",
    "    Creates a random graph and saves it to path_to.\n",
    "\n",
    "    Args:\n",
    "        generator (callable): networkx's random graph generator\n",
    "        obfuscate (bool, optional): if true, obfuscates node names. Defaults to True.\n",
    "        path_to (str|Path, optional): path to save the graph. Defaults to None.\n",
    "    \n",
    "    Example:\n",
    "        >>> create_random_graph_and_save(nx.erdos_renyi_graph, n=10, p=0.6, directed=False, path_to=path_data / 'synthetic' / '1.csv')\n",
    "    \"\"\"\n",
    "\n",
    "    G = create_random_graph(generator=generator, obfuscate=obfuscate, **kwargs)\n",
    "    edges = G.edges()\n",
    "    with open(path_to, 'w', newline='') as csvfile:\n",
    "        writer = csv.writer(csvfile, delimiter=' ')\n",
    "        for edge in edges:\n",
    "            writer.writerow([edge[0], edge[1], label])"
   ]
  },
  {
   "cell_type": "markdown",
   "metadata": {},
   "source": [
    "Create three layers. For experiments with CmmD algorithm we need at least several hundreds of nodes to see the difference in the clustering with a variety of $\\gamma$ values:"
   ]
  },
  {
   "cell_type": "code",
   "execution_count": 12,
   "metadata": {},
   "outputs": [],
   "source": [
    "path_dir_to = path_data / 'synthetic'\n",
    "path_dir_to.mkdir(exist_ok=True)"
   ]
  },
  {
   "cell_type": "code",
   "execution_count": 13,
   "metadata": {},
   "outputs": [],
   "source": [
    "n, p, label = 300, 0.6, \"first\"\n",
    "create_and_save_random_graph(nx.erdos_renyi_graph, label, path_dir_to / '1.csv', n=n, p=p)\n",
    "\n",
    "n, p, label = 500, 0.4, \"second\"\n",
    "create_and_save_random_graph(nx.erdos_renyi_graph, label, path_dir_to / '2.csv', n=n, p=p)\n",
    "\n",
    "n, p, label = 400, 0.7, \"third\"\n",
    "create_and_save_random_graph(nx.erdos_renyi_graph, label, path_dir_to / '3.csv', n=n, p=p)"
   ]
  },
  {
   "cell_type": "markdown",
   "metadata": {},
   "source": [
    "The method above generates obfuscated graph with node labels different from layer to layer. However, for multilayer community analysis we need that at least some nodes share labels among layers."
   ]
  },
  {
   "cell_type": "code",
   "execution_count": null,
   "metadata": {},
   "outputs": [],
   "source": []
  }
 ],
 "metadata": {
  "kernelspec": {
   "display_name": "python3",
   "language": "python",
   "name": "python3"
  },
  "language_info": {
   "codemirror_mode": {
    "name": "ipython",
    "version": 3
   },
   "file_extension": ".py",
   "mimetype": "text/x-python",
   "name": "python",
   "nbconvert_exporter": "python",
   "pygments_lexer": "ipython3",
   "version": "3.12.5"
  }
 },
 "nbformat": 4,
 "nbformat_minor": 2
}
