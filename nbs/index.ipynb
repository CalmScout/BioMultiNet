{
 "cells": [
  {
   "cell_type": "code",
   "execution_count": null,
   "metadata": {},
   "outputs": [],
   "source": [
    "#| hide\n",
    "from BioMultiNet.core import *"
   ]
  },
  {
   "cell_type": "markdown",
   "metadata": {},
   "source": [
    "# BioMultiNet\n",
    "\n",
    "> Package for applying Multilayer Networks approaches to Life Science problems."
   ]
  },
  {
   "cell_type": "markdown",
   "metadata": {},
   "source": [
    "Multilayer networks as defined by [Kivelä et al. (2014)](https://academic.oup.com/comnet/article/2/3/203/2841130) generalize graphs to capture the rich network data often associated with complex systems, allowing us to study a broad range of phenomena using a common representation, using the same multilayer tools and methods. Formally, a multilayer network M is defined as a quadruple $M = (V_M, E_M, V, L)$, where the sequence $L = (L_a)_{a=1}^d$ defines sets $L_a$ of elementary layers, the set $V$ defines the nodes of the network, the node-layers are $V_M \\subseteq  V \\times  L_1 \\times  ... \\times  L_d$, and the edges $E_M \\subseteq  V_M \\times  V_M$ are defined between node-layers. Put simply, a node-layer is an association of a node $v \\in  V$ with a layer $\\in  L \\times ...\\times  L$ of dimensionality $d$, nodes can exist on an arbitrary number of layers, and edges can connect node-layers within layers and across arbitrary pairs of layers, which can differ in an arbitrary number of dimensions. The dimensions $1, 2, ..., d$ are called the aspects of the network (e.g., a two-aspect transport network could have time as its first aspect and transport mode as its second aspect)(description from [pymnet](https://mnets.github.io/pymnet/overview.html) package)."
   ]
  },
  {
   "cell_type": "markdown",
   "metadata": {},
   "source": [
    "## Roadmap"
   ]
  },
  {
   "cell_type": "markdown",
   "metadata": {},
   "source": [
    "- [ ] Generate small dataset and cover code by tests\n",
    "- [ ] Port implementation of CmmD algorithm from R to Python\n",
    "- [ ] Profile and optimize code (MNHACK24)\n",
    "- [ ] Explore alternatives to MolTi clustering\n",
    "- [ ] Reimplement Louvian clustering in Python, add additional community detection algorithms\n",
    "- [ ] PyG integration"
   ]
  },
  {
   "cell_type": "markdown",
   "metadata": {},
   "source": [
    "## Developer Guide"
   ]
  },
  {
   "cell_type": "markdown",
   "metadata": {},
   "source": [
    "If you are new to using `nbdev` here are some useful pointers to get you started."
   ]
  },
  {
   "cell_type": "markdown",
   "metadata": {},
   "source": [
    "### Install BioMultiNet in Development mode"
   ]
  },
  {
   "cell_type": "markdown",
   "metadata": {},
   "source": [
    "```sh\n",
    "# make sure BioMultiNet package is installed in development mode\n",
    "$ pip install -e .\n",
    "\n",
    "# make changes under nbs/ directory\n",
    "# ...\n",
    "\n",
    "# compile to have changes apply to BioMultiNet\n",
    "$ nbdev_prepare\n",
    "```"
   ]
  },
  {
   "cell_type": "markdown",
   "metadata": {},
   "source": [
    "## Usage"
   ]
  },
  {
   "cell_type": "markdown",
   "metadata": {},
   "source": [
    "### Installation"
   ]
  },
  {
   "cell_type": "markdown",
   "metadata": {},
   "source": [
    "Install latest from the GitHub [repository][repo]:\n",
    "\n",
    "```sh\n",
    "$ pip install git+https://github.com/CalmScout/BioMultiNet.git\n",
    "```\n",
    "\n",
    "or from [conda][conda]\n",
    "\n",
    "```sh\n",
    "$ conda install -c CalmScout BioMultiNet\n",
    "```\n",
    "\n",
    "or from [pypi][pypi]\n",
    "\n",
    "\n",
    "```sh\n",
    "$ pip install BioMultiNet\n",
    "```\n",
    "\n",
    "\n",
    "[repo]: https://github.com/CalmScout/BioMultiNet\n",
    "[docs]: https://CalmScout.github.io/BioMultiNet/\n",
    "[pypi]: https://pypi.org/project/BioMultiNet/\n",
    "[conda]: https://anaconda.org/CalmScout/BioMultiNet"
   ]
  },
  {
   "cell_type": "markdown",
   "metadata": {},
   "source": [
    "### Documentation"
   ]
  },
  {
   "cell_type": "markdown",
   "metadata": {},
   "source": [
    "Documentation can be found hosted on this GitHub [repository][repo]'s [pages][docs]. Additionally you can find package manager specific guidelines on [conda][conda] and [pypi][pypi] respectively.\n",
    "\n",
    "[repo]: https://github.com/CalmScout/BioMultiNet\n",
    "[docs]: https://CalmScout.github.io/BioMultiNet/\n",
    "[pypi]: https://pypi.org/project/BioMultiNet/\n",
    "[conda]: https://anaconda.org/CalmScout/BioMultiNet"
   ]
  },
  {
   "cell_type": "markdown",
   "metadata": {},
   "source": [
    "## How to use"
   ]
  },
  {
   "cell_type": "markdown",
   "metadata": {},
   "source": [
    "Examples of utilization will be here:"
   ]
  },
  {
   "cell_type": "code",
   "execution_count": null,
   "metadata": {},
   "outputs": [
    {
     "data": {
      "text/plain": [
       "2"
      ]
     },
     "execution_count": null,
     "metadata": {},
     "output_type": "execute_result"
    }
   ],
   "source": [
    "1+1"
   ]
  },
  {
   "cell_type": "code",
   "execution_count": null,
   "metadata": {},
   "outputs": [],
   "source": []
  }
 ],
 "metadata": {
  "kernelspec": {
   "display_name": "Python 3 (ipykernel)",
   "language": "python",
   "name": "python3"
  },
  "language_info": {
   "codemirror_mode": {
    "name": "ipython",
    "version": 3
   },
   "file_extension": ".py",
   "mimetype": "text/x-python",
   "name": "python",
   "nbconvert_exporter": "python",
   "pygments_lexer": "ipython3",
   "version": "3.11.8"
  }
 },
 "nbformat": 4,
 "nbformat_minor": 4
}
