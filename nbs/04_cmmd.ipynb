{
 "cells": [
  {
   "cell_type": "markdown",
   "metadata": {},
   "source": [
    "# CmmD: Continual Multiplex network Module Detector"
   ]
  },
  {
   "cell_type": "markdown",
   "metadata": {},
   "source": [
    "Python implementation of the algorithm originally proposed in [\"The multilayer community structure of medulloblastoma\" by Iker Núñez-Carpintero et. al.](https://www.sciencedirect.com/science/article/pii/S2589004221003333).\n",
    "\n",
    "Implementation relies on [MolTi-DREAM](https://github.com/gilles-didier/MolTi-DREAM) for communities detection problem.\n",
    "\n",
    "* Make sure to add molti-console as an executable program from any directory by adding it to your ~/.bashrc file. (This file may change depending on your OS ditribution)"
   ]
  },
  {
   "cell_type": "markdown",
   "metadata": {},
   "source": [
    "## 0. Import libraries and define paths"
   ]
  },
  {
   "cell_type": "code",
   "execution_count": 1,
   "metadata": {},
   "outputs": [],
   "source": [
    "import os\n",
    "import sys\n",
    "import subprocess\n",
    "import numpy as np\n",
    "from concurrent.futures import ThreadPoolExecutor\n",
    "from scipy.spatial.distance import pdist, squareform\n",
    "import seaborn as sns\n",
    "import pickle\n",
    "from pathlib import Path\n",
    "import pathlib\n",
    "import time"
   ]
  },
  {
   "cell_type": "markdown",
   "metadata": {},
   "source": [
    "Auxiliary function to measure the execution time:"
   ]
  },
  {
   "cell_type": "code",
   "execution_count": 2,
   "metadata": {},
   "outputs": [],
   "source": [
    "def time_it(func):\n",
    "    def wrapper(*args, **kwargs):\n",
    "        start_time = time.perf_counter()\n",
    "        result = func(*args, **kwargs)\n",
    "        end_time = time.perf_counter()\n",
    "        execution_time = end_time - start_time\n",
    "        minutes = int(execution_time // 60)\n",
    "        seconds = execution_time % 60\n",
    "        print(f\"Function '{func.__name__}' executed in {minutes} minutes, {seconds:.2f} seconds\")\n",
    "        return result\n",
    "    return wrapper"
   ]
  },
  {
   "cell_type": "markdown",
   "metadata": {},
   "source": [
    "## 1. Define function for community detection"
   ]
  },
  {
   "cell_type": "code",
   "execution_count": 3,
   "metadata": {},
   "outputs": [],
   "source": [
    "@time_it\n",
    "def communities_detection(input_layers:list[str]=None,\n",
    "                          gamma_min:float=None,\n",
    "                          gamma_max:float=None,\n",
    "                          gamma_step:float=None,\n",
    "                          path_to_communities:str=None,\n",
    "                          method:str=\"molti\"):\n",
    "    # Prepare inputs to generate the console order for MolTi's run.\n",
    "    layers = \" \".join(input_layers)\n",
    "    \n",
    "    resolution_gamma_step = np.arange(gamma_min, gamma_max + gamma_step, gamma_step)\n",
    "    desfile_vector = [f\"{path_to_communities}{res}.csv\" for res in resolution_gamma_step]\n",
    "    \n",
    "    # community analysis\n",
    "    if method == \"molti\":\n",
    "        for i, current_resolution in enumerate(resolution_gamma_step):\n",
    "            current_destfile = desfile_vector[i]\n",
    "            system_order = f\"molti-console -o {current_destfile} -p {current_resolution} {layers} > /dev/null\"\n",
    "            subprocess.run(system_order, shell=True)"
   ]
  },
  {
   "cell_type": "code",
   "execution_count": 4,
   "metadata": {},
   "outputs": [],
   "source": [
    "@time_it\n",
    "def continual_multiplex_analysis(nodelist:list[str]=None,\n",
    "                                 path_to_communities:str=None,\n",
    "                                 distmethod:str=\"hamming\",\n",
    "                                 n_jobs:int=1):\n",
    "        # reading MolTi output files\n",
    "        output_files = [f for f in os.listdir(path_to_communities) if \"_\" not in f]\n",
    "        \n",
    "        alllists = []\n",
    "        \n",
    "        for output_file in output_files:\n",
    "            with open(os.path.join(path_to_communities, output_file), 'r') as file:\n",
    "                red = file.readlines()\n",
    "            \n",
    "            cluster_ids = [i for i, line in enumerate(red) if \"Cluster\" in line]\n",
    "            lista = []\n",
    "            \n",
    "            for j, st in enumerate(cluster_ids):\n",
    "                if j == len(cluster_ids) - 1:\n",
    "                    en = len(red)\n",
    "                else:\n",
    "                    en = cluster_ids[j + 1]\n",
    "                current_cluster = red[st:en]\n",
    "                current_cluster2 = current_cluster[:-2] if j != len(cluster_ids) - 1 else current_cluster[:-1]\n",
    "                lista.append(current_cluster2[1:])\n",
    "            \n",
    "            alllists.append(lista)\n",
    "        \n",
    "        allgenes = list(set([gene for sublist in alllists for cluster in sublist for gene in cluster]))\n",
    "\n",
    "        if nodelist:\n",
    "            allgenes = list(set(allgenes).intersection(nodelist))\n",
    "        \n",
    "        # Calculating Gene/Community matrix\n",
    "        res_matrix = np.zeros((len(allgenes), len(alllists) + 1), dtype=int)\n",
    "        gene_indices = {gene: idx for idx, gene in enumerate(allgenes)}\n",
    "        \n",
    "        for j, output_file_list in enumerate(alllists):\n",
    "            for k, cluster in enumerate(output_file_list):\n",
    "                for gene in cluster:\n",
    "                    res_matrix[gene_indices[gene], j] = k + 1\n",
    "        \n",
    "        patterns = [\"_\".join(map(str, res_matrix[i, :-1])) for i in range(len(allgenes))]\n",
    "        res_matrix[:, -1] = np.array(patterns, dtype=str)\n",
    "        \n",
    "        # porcentajes = np.linspace(0, 100, num=21)\n",
    "        # for i, percentage in enumerate(np.round(np.linspace(0, 100, len(allgenes)), 4)):\n",
    "        #     if percentage in porcentajes:\n",
    "        #         print(f\"Progress: {percentage}%\")\n",
    "        \n",
    "        # Calculating Hamming distances for all gene pairs\n",
    "        gene_community_matrix = res_matrix[:, :-1].astype(np.int64)\n",
    "        genes_same_communities = {pattern: [] for pattern in np.unique(gene_community_matrix[:,-1])}\n",
    "        \n",
    "        for i, pattern in enumerate(gene_community_matrix[:,-1]):\n",
    "            genes_same_communities[pattern].append(allgenes[i])\n",
    "        \n",
    "        with ThreadPoolExecutor(max_workers=n_jobs) as executor:\n",
    "            distance_matrix = squareform(pdist(gene_community_matrix, metric=distmethod))\n",
    "        \n",
    "        final_output = {\n",
    "            \"gene_community_matrix\": gene_community_matrix,\n",
    "            \"l_constant\": genes_same_communities,\n",
    "            \"distance_matrix\": distance_matrix\n",
    "        }\n",
    "        \n",
    "        return final_output"
   ]
  },
  {
   "cell_type": "code",
   "execution_count": 5,
   "metadata": {},
   "outputs": [],
   "source": [
    "def cmmd(nodelist:list[str]|None=None,\n",
    "         input_layers:list[str]=None,\n",
    "         gamma_min:float=None,\n",
    "         gamma_max:float=None,\n",
    "         gamma_step:float=None, \n",
    "         distmethod:str=\"hamming\",\n",
    "         method:str=\"molti\",\n",
    "         n_jobs:int=1,\n",
    "         path_to_communities:str=None):\n",
    "    \n",
    "    \"\"\"\n",
    "    Compute CmmD multilayer community trajectory analysis for a set of given networks.\n",
    "\n",
    "    Parameters\n",
    "    ----------\n",
    "    nodelist : list, optional\n",
    "        A list with the unique nodes that we want to appear in the final output. If not given,\n",
    "        all nodes of the multiplex will be in the final output (nodelist= NULL)\n",
    "    input_layers : list\n",
    "        A vector of strings containing the paths where the different network layers are located\n",
    "        in the system. Networks should be a two column file representing the edges of the graph.\n",
    "    gamma_min : float\n",
    "        The first gamma resolution parameter to use in the different MolTi's analysis\n",
    "    gamma_max : float\n",
    "        The last gamma resolution parameter to use in the different MolTi's analysis.\n",
    "    gamma_step : float\n",
    "        The gamma_step of the resolution parameter to use. \n",
    "    distmethod : str, optional\n",
    "        A distance method metric to use to compute the trajectories. Defaults to \"hamming\" for hamming\n",
    "        distance, but accepts any other metric supplied by scipy.spatial.distance.pdist.\n",
    "    n_jobs : int, optional\n",
    "        The number of n_jobs to use for the computation of the distance matrix. Defaults to 1.\n",
    "    path_to_communities : str, optional\n",
    "        The path to save Molti's output files. Defaults to \"Output/\".\n",
    "\n",
    "    Returns\n",
    "    -------\n",
    "    A dictionary containing the following keys:\n",
    "        gene_community_matrix: A matrix where the rows correspond to the different genes, and the columns to the different community structures. The values of the matrix are the cluster to which the gene belongs in the corresponding community structure.\n",
    "        l_constant: A dictionary where the keys are the different community structures, and the values are the list of genes that belong to that community structure.\n",
    "        distance_matrix: A matrix with the hamming distances between all pairs of genes.\n",
    "    \"\"\"\n",
    "    # 0. check input correctness\n",
    "    if input_layers is None or len(input_layers) < 1:\n",
    "        raise ValueError(\"ERROR: Input_layers argument must be a list of at least 1 network file\")\n",
    "    \n",
    "    if not isinstance(gamma_max, (int, float)):\n",
    "        raise ValueError(\"ERROR: Resolution parameter must be a number\")\n",
    "    \n",
    "    if not isinstance(gamma_min, (int, float)):\n",
    "        raise ValueError(\"ERROR: Resolution parameter must be a number\")\n",
    "    \n",
    "    if not isinstance(gamma_step, (int, float)):\n",
    "        raise ValueError(\"ERROR: gamma_step value must be a number\")\n",
    "    \n",
    "    if not isinstance(path_to_communities, str):\n",
    "        raise ValueError(\"ERROR: path_to_communities expects a character string\")\n",
    "    \n",
    "    assert distmethod in ['braycurtis', 'canberra', 'chebyshev', 'cityblock',\n",
    "                          'correlation', 'cosine', 'dice', 'euclidean', 'hamming',\n",
    "                          'jaccard', 'jensenshannon', 'kulczynski1', 'mahalanobis',\n",
    "                          'matching', 'minkowski', 'rogerstanimoto', 'russellrao',\n",
    "                          'seuclidean', 'sokalmichener', 'sokalsneath', 'sqeuclidean',\n",
    "                          'yule']\n",
    "    \n",
    "    if not isinstance(n_jobs, int):\n",
    "        raise ValueError(\"ERROR: n_jobs must be a number corresponding to the number of cores available to use\")\n",
    "\n",
    "    # 1st part: community detection\n",
    "    Path(path_to_communities).mkdir(parents=True, exist_ok=True)\n",
    "    # if folder is empty, generate communities to populate it\n",
    "    if len(os.listdir(path_to_communities)) == 0:\n",
    "        communities_detection(input_layers=input_layers, gamma_min=gamma_min, gamma_max=gamma_max,\n",
    "                            gamma_step=gamma_step, method=method, path_to_communities=path_to_communities)\n",
    "    \n",
    "    # 2nd part: cmmd\n",
    "    final_output = continual_multiplex_analysis(nodelist=nodelist,\n",
    "                                                path_to_communities=path_to_communities,\n",
    "                                                distmethod=distmethod,\n",
    "                                                n_jobs=n_jobs)\n",
    "    \n",
    "    return final_output"
   ]
  },
  {
   "cell_type": "code",
   "execution_count": 6,
   "metadata": {},
   "outputs": [
    {
     "name": "stdout",
     "output_type": "stream",
     "text": [
      "Function 'continual_multiplex_analysis' executed in 0 minutes, 0.18 seconds\n"
     ]
    }
   ],
   "source": [
    "prefix = \"../data/bsc_baseline_tiny/\"\n",
    "input_layers = [prefix + \"1.csv\",\n",
    "                prefix + \"2.csv\"]\n",
    "\n",
    "for l in input_layers:\n",
    "    assert Path(l).exists()\n",
    "\n",
    "cmmd_output = cmmd(nodelist = None,\n",
    "     input_layers = input_layers,\n",
    "     gamma_min = 0,\n",
    "     gamma_max = 2,\n",
    "     gamma_step = 0.5,\n",
    "     path_to_communities = \"../out/communities/\",\n",
    "     distmethod = \"hamming\",\n",
    "     n_jobs = 6)\n"
   ]
  },
  {
   "cell_type": "markdown",
   "metadata": {},
   "source": [
    "Save object to the disk:"
   ]
  },
  {
   "cell_type": "code",
   "execution_count": 7,
   "metadata": {},
   "outputs": [],
   "source": [
    "# # save object to file\n",
    "# path_save = Path(\"../out/cmmd_pickle/\")\n",
    "# assert path_save.exists()\n",
    "\n",
    "# # pickle the object\n",
    "# with open(path_save / \"cmmd_output.pkl\", 'wb') as handle:\n",
    "#     pickle.dump(cmmd_output, handle, protocol=pickle.HIGHEST_PROTOCOL)"
   ]
  },
  {
   "cell_type": "code",
   "execution_count": 8,
   "metadata": {},
   "outputs": [],
   "source": [
    "# def test_cmmd(cmmd:dict, path_save:pathlib.Path|str=Path(\"../out/cmmd_pickle/cmmd_output.pkl\")) -> None:\n",
    "#     # load the cmmd object\n",
    "#     with open(path_save, 'rb') as handle:\n",
    "#         cmmd_old = pickle.load(handle)\n",
    "#     assert (cmmd[\"distance_matrix\"] == cmmd_old[\"distance_matrix\"]).all()\n",
    "#     assert (cmmd[\"gene_community_matrix\"] == cmmd_old[\"gene_community_matrix\"]).all()\n",
    "#     assert cmmd[\"l_constant\"] == cmmd_old[\"l_constant\"]"
   ]
  },
  {
   "cell_type": "markdown",
   "metadata": {},
   "source": [
    "Confirm new and old objects generate the same output:"
   ]
  },
  {
   "cell_type": "code",
   "execution_count": 9,
   "metadata": {},
   "outputs": [
    {
     "data": {
      "text/plain": [
       "dict_keys(['gene_community_matrix', 'l_constant', 'distance_matrix'])"
      ]
     },
     "execution_count": 9,
     "metadata": {},
     "output_type": "execute_result"
    }
   ],
   "source": [
    "#| eval: false\n",
    "cmmd_output.keys()"
   ]
  },
  {
   "cell_type": "code",
   "execution_count": 10,
   "metadata": {},
   "outputs": [
    {
     "data": {
      "text/plain": [
       "array([[0. , 1. , 0.8, ..., 0.8, 0.8, 0.8],\n",
       "       [1. , 0. , 1. , ..., 1. , 1. , 1. ],\n",
       "       [0.8, 1. , 0. , ..., 0.6, 0. , 0.6],\n",
       "       ...,\n",
       "       [0.8, 1. , 0.6, ..., 0. , 0.6, 0.6],\n",
       "       [0.8, 1. , 0. , ..., 0.6, 0. , 0.6],\n",
       "       [0.8, 1. , 0.6, ..., 0.6, 0.6, 0. ]])"
      ]
     },
     "execution_count": 10,
     "metadata": {},
     "output_type": "execute_result"
    }
   ],
   "source": [
    "cmmd_output[\"distance_matrix\"]"
   ]
  },
  {
   "cell_type": "code",
   "execution_count": 11,
   "metadata": {},
   "outputs": [
    {
     "name": "stdout",
     "output_type": "stream",
     "text": [
      "gene_community_matrix\n",
      "[[ 969  935  842  902  901]\n",
      " [ 711  712  711  710  698]\n",
      " [ 736  751 1002  810  901]\n",
      " ...\n",
      " [ 789  751  782  931  901]\n",
      " [ 736  751 1002  810  901]\n",
      " [ 966  751  986  852  901]]\n",
      "********************\n",
      "l_constant\n",
      "{np.int64(20): ['DDC\\n', 'SLC18A1\\n'], np.int64(60): ['RDH13\\n'], np.int64(126): ['OAT\\n'], np.int64(143): ['SLC6A14\\n', 'SLC43A2\\n', 'SLC6A19\\n'], np.int64(168): ['TYR\\n', 'SLC7A8\\n', 'TH\\n'], np.int64(195): ['HS3ST3A1\\n'], np.int64(227): ['CYP2D6\\n'], np.int64(239): ['CYP2C9\\n'], np.int64(308): ['SLC9A4\\n'], np.int64(443): ['HACD1\\n'], np.int64(448): ['GCSH\\n'], np.int64(450): ['NDUFAB1\\n', 'NDUFAF7\\n'], np.int64(466): ['NDUFA5\\n'], np.int64(478): ['NDUFC1\\n'], np.int64(482): ['SARDH\\n', 'CHDH\\n'], np.int64(514): ['DLAT\\n'], np.int64(522): ['SLC36A4\\n'], np.int64(553): ['SLC2A6\\n', 'SLC5A10\\n'], np.int64(582): ['DAO\\n'], np.int64(588): ['KCNQ4\\n'], np.int64(589): ['ADAMTS16\\n'], np.int64(590): ['SLITRK1\\n'], np.int64(591): ['HCN1\\n'], np.int64(592): ['KCNG2\\n'], np.int64(593): ['DMD\\n', 'TPM4\\n', 'MYL6\\n', 'PXN\\n'], np.int64(594): ['HPRT1\\n'], np.int64(595): ['DUS2\\n'], np.int64(596): ['EXOSC1\\n'], np.int64(597): ['TIMM9\\n'], np.int64(598): ['ADAT2\\n'], np.int64(599): ['GABRR3\\n', 'GABRR2\\n'], np.int64(600): ['PDK4\\n'], np.int64(601): ['ZNF383\\n'], np.int64(602): ['GRPEL1\\n'], np.int64(603): ['CNOT6\\n'], np.int64(604): ['ESAM\\n'], np.int64(605): ['EIF2AK2\\n', 'MX1\\n'], np.int64(606): ['MRPL37\\n'], np.int64(607): ['PLEKHA3\\n'], np.int64(608): ['ARPC3\\n', 'EFNB1\\n'], np.int64(609): ['ZNF521\\n'], np.int64(610): ['LYPD4\\n'], np.int64(611): ['ITFG2\\n'], np.int64(612): ['DDX23\\n'], np.int64(613): ['MMP20\\n'], np.int64(614): ['FNBP1L\\n'], np.int64(615): ['KRTAP12-1\\n'], np.int64(616): ['PRKD1\\n'], np.int64(617): ['DOT1L\\n'], np.int64(618): ['KRTAP10-6\\n'], np.int64(619): ['CHAC2\\n'], np.int64(620): ['UCHL3\\n'], np.int64(621): ['GATA6\\n', 'JMJD1C\\n'], np.int64(622): ['LRP12\\n'], np.int64(623): ['MUC17\\n'], np.int64(624): ['FANCF\\n'], np.int64(625): ['LILRB5\\n'], np.int64(626): ['NMNAT3\\n'], np.int64(627): ['WNT10A\\n'], np.int64(628): ['LRPPRC\\n', 'SDHB\\n', 'NDUFS6\\n', 'UQCR11\\n', 'COQ10A\\n', 'NDUFS2\\n', 'NDUFB2\\n', 'NDUFS1\\n'], np.int64(629): ['GJD2\\n', 'GJB4\\n'], np.int64(630): ['MMGT1\\n', 'LRRC8C\\n'], np.int64(631): ['TMEM132A\\n'], np.int64(632): ['BLOC1S4\\n'], np.int64(633): ['HTD2\\n'], np.int64(634): ['TNFSF13\\n', 'TNFRSF11B\\n'], np.int64(635): ['CACNA1S\\n'], np.int64(636): ['MUC12\\n', 'GALNT16\\n'], np.int64(637): ['ADPGK\\n'], np.int64(638): ['ENPEP\\n'], np.int64(639): ['PARVA\\n'], np.int64(640): ['NOX4\\n'], np.int64(641): ['TTC37\\n'], np.int64(642): ['AK5\\n'], np.int64(643): ['SOCS5\\n'], np.int64(644): ['IPPK\\n'], np.int64(645): ['AK6\\n'], np.int64(646): ['TPI1\\n'], np.int64(647): ['DOK6\\n'], np.int64(648): ['TEX101\\n', 'RAET1L\\n'], np.int64(649): ['ENO2\\n'], np.int64(650): ['BRPF3\\n'], np.int64(651): ['TRIM11\\n'], np.int64(652): ['PTGR1\\n'], np.int64(653): ['SLC29A2\\n', 'SLC29A1\\n'], np.int64(654): ['KRTAP10-3\\n'], np.int64(655): ['CD163\\n'], np.int64(656): ['GPIHBP1\\n'], np.int64(657): ['FKBP14\\n'], np.int64(658): ['NDUFB9\\n', 'NDUFA11\\n', 'NDUFB10\\n', 'NDUFA3\\n', 'NDUFB4\\n', 'NDUFAF4\\n', 'NDUFB8\\n', 'NDUFB7\\n', 'NDUFA10\\n', 'NUBPL\\n', 'SCO1\\n', 'MT-ND1\\n'], np.int64(659): ['HMGN1\\n', 'POLD2\\n'], np.int64(660): ['DENND1B\\n'], np.int64(661): ['RBL2\\n'], np.int64(662): ['SFTPA1\\n'], np.int64(663): ['TOMM22\\n'], np.int64(664): ['ZNF439\\n'], np.int64(665): ['TBC1D7\\n', 'AMBRA1\\n'], np.int64(666): ['IL31RA\\n'], np.int64(667): ['CD1B\\n', 'PILRA\\n'], np.int64(668): ['TPGS1\\n'], np.int64(669): ['SBSPON\\n'], np.int64(670): ['LCLAT1\\n'], np.int64(671): ['COG3\\n', 'MAN2A2\\n'], np.int64(672): ['NIPAL1\\n', 'NIPAL4\\n'], np.int64(673): ['IFNA13\\n', 'IRF5\\n'], np.int64(674): ['ATP6V1E2\\n'], np.int64(675): ['STX17\\n'], np.int64(676): ['TBC1D10A\\n'], np.int64(677): ['LY6G6D\\n'], np.int64(678): ['CHCHD5\\n'], np.int64(679): ['OCLN\\n'], np.int64(680): ['RBM28\\n', 'NOL9\\n'], np.int64(681): ['PLET1\\n'], np.int64(682): ['RIC1\\n'], np.int64(683): ['PLA2G4D\\n'], np.int64(684): ['TIMM23\\n'], np.int64(685): ['VPS29\\n'], np.int64(686): ['CYP4A22\\n'], np.int64(687): ['PLAAT5\\n'], np.int64(688): ['ARHGEF25\\n', 'HTR2B\\n'], np.int64(689): ['TCAP\\n'], np.int64(690): ['TXNRD2\\n', 'GPX8\\n'], np.int64(691): ['NT5C1B\\n'], np.int64(692): ['PLA2G2F\\n'], np.int64(693): ['GPHB5\\n'], np.int64(694): ['UGT1A5\\n'], np.int64(695): ['PPP6R3\\n'], np.int64(696): ['MED28\\n'], np.int64(697): ['MCEE\\n'], np.int64(698): ['CRHR1\\n', 'INSL3\\n', 'TAAR5\\n', 'RXFP2\\n'], np.int64(699): ['RYK\\n', 'FZD6\\n'], np.int64(700): ['TPCN1\\n'], np.int64(701): ['LIPH\\n', 'GPAT2\\n'], np.int64(702): ['POC1B-GALNT4\\n'], np.int64(703): ['CHMP5\\n', '155908\\n'], np.int64(704): ['SPON2\\n', 'ADAMTS15\\n'], np.int64(705): ['PRKCI\\n'], np.int64(706): ['SMYD2\\n'], np.int64(707): ['CHCHD4\\n', 'TIMM8B\\n', 'USP17L5\\n', 'HSPA9\\n', 'PAM16\\n', 'TIMM17B\\n'], np.int64(708): ['VNN3\\n'], np.int64(709): ['SLC17A5\\n'], np.int64(710): ['THSD7A\\n'], np.int64(711): ['886418\\n'], np.int64(712): ['ZNF124\\n'], np.int64(713): ['ACVRL1\\n', 'SMAD9\\n'], np.int64(714): ['AZGP1\\n'], np.int64(715): ['MAX\\n'], np.int64(716): ['CHMP6\\n'], np.int64(717): ['DYNLRB2\\n'], np.int64(718): ['TNNI2\\n'], np.int64(719): ['KRTAP5-7\\n'], np.int64(720): ['NEIL3\\n'], np.int64(721): ['CHCHD10\\n'], np.int64(722): ['NDUFAF6\\n'], np.int64(723): ['SH3KBP1\\n', 'PCSK9\\n', 'CLTA\\n'], np.int64(724): ['SESN2\\n'], np.int64(725): ['COX16\\n', 'SESN3\\n'], np.int64(726): ['TMOD3\\n'], np.int64(727): ['TRIM72\\n'], np.int64(728): ['CYFIP2\\n'], np.int64(729): ['JAK3\\n'], np.int64(730): ['ABCG1\\n'], np.int64(731): ['AMD1\\n'], np.int64(732): ['LPIN3\\n'], np.int64(733): ['KCNK2\\n', 'KCNK13\\n'], np.int64(734): ['TNS4\\n'], np.int64(735): ['ANKRD27\\n'], np.int64(736): ['KCNK17\\n'], np.int64(737): ['KIR2DL3\\n'], np.int64(738): ['ENPP7\\n'], np.int64(739): ['ST3GAL6\\n'], np.int64(740): ['GALNT11\\n'], np.int64(741): ['STON1-GTF2A1L\\n', 'SYT12\\n', 'NECAP1\\n', 'VAMP4\\n', 'REPS1\\n'], np.int64(742): ['NRP1\\n'], np.int64(743): ['FNIP1\\n', 'BMT2\\n'], np.int64(744): ['888777\\n'], np.int64(745): ['FCSK\\n'], np.int64(746): ['KLHL13\\n'], np.int64(747): ['EPB41L3\\n'], np.int64(748): ['CHCHD3\\n', 'ATP5ME\\n'], np.int64(749): ['ZNF226\\n', 'ZNF740\\n'], np.int64(750): ['ADAMTS13\\n'], np.int64(751): ['KRTAP5-3\\n'], np.int64(752): ['PPP1CA\\n', 'NR1D1\\n', 'SIRT1\\n', 'PPP1CB\\n'], np.int64(753): ['KCNA7\\n'], np.int64(754): ['DEFB107A\\n', 'DEFA3\\n', 'DEFB115\\n', 'DEFB103A\\n'], np.int64(755): ['MTMR2\\n'], np.int64(756): ['SYT10\\n'], np.int64(757): ['DENND1A\\n'], np.int64(758): ['GDAP1\\n', 'SLC25A17\\n', 'PEX14\\n', 'PEX3\\n'], np.int64(759): ['3636229\\n'], np.int64(760): ['NSMCE4A\\n'], np.int64(761): ['TNFSF4\\n'], np.int64(762): ['SAG\\n'], np.int64(763): ['DSE\\n'], np.int64(764): ['CNOT7\\n'], np.int64(765): ['DENND6B\\n'], np.int64(766): ['GNPAT\\n'], np.int64(767): ['YIPF6\\n'], np.int64(768): ['TRIM34\\n'], np.int64(769): ['KLRG1\\n'], np.int64(770): ['3361714\\n'], np.int64(771): ['LMF1\\n'], np.int64(772): ['KIF1B\\n', 'KIF27\\n', 'KDELR1\\n'], np.int64(773): ['CERS4\\n', 'SPHK2\\n'], np.int64(774): ['PLG\\n', 'ADAMTS18\\n', 'ADAMTS1\\n'], np.int64(775): ['ZNF169\\n', 'ZNF480\\n'], np.int64(776): ['CACNG6\\n'], np.int64(777): ['DEFB112\\n'], np.int64(778): ['ELAC2\\n'], np.int64(779): ['ITGA8\\n'], np.int64(780): ['RFT1\\n'], np.int64(781): ['ATP2B1\\n', 'ATP8B3\\n', 'ATP7B\\n', 'ATP10A\\n'], np.int64(782): ['MUC16\\n'], np.int64(783): ['ZRSR2\\n', 'SMNDC1\\n', 'SNRPD2\\n'], np.int64(784): ['ARAP1\\n'], np.int64(785): ['CHCHD7\\n', 'TIMM10B\\n'], np.int64(786): ['MUC13\\n'], np.int64(787): ['ARFIP2\\n'], np.int64(788): ['LCE1F\\n', 'LCE1D\\n'], np.int64(789): ['THSD4\\n'], np.int64(790): ['RAB39B\\n', 'RAB17\\n'], np.int64(791): ['DMAC2L\\n'], np.int64(792): ['CHRNA4\\n'], np.int64(793): ['ALS2CL\\n', 'TRAPPC5\\n'], np.int64(794): ['NR2C2\\n'], np.int64(795): ['PRLH\\n'], np.int64(796): ['LIPF\\n'], np.int64(797): ['CASTOR2\\n'], np.int64(798): ['KRT19\\n'], np.int64(799): ['PARD6B\\n'], np.int64(800): ['ANKLE2\\n'], np.int64(801): ['KIF20B\\n', 'NSF\\n'], np.int64(802): ['MUC19\\n'], np.int64(803): ['PJA2\\n'], np.int64(804): ['ATP6V0D2\\n'], np.int64(805): ['CDK19\\n'], np.int64(806): ['SLC41A2\\n'], np.int64(807): ['NRBP1\\n', 'NR2F1\\n'], np.int64(808): ['SF3B5\\n'], np.int64(809): ['CLCA4\\n'], np.int64(810): ['GPHN\\n'], np.int64(811): ['TIMM10\\n', 'OTC\\n'], np.int64(812): ['PLA2G1B\\n', 'PLA2G4E\\n', '3644711\\n'], np.int64(813): ['RAB1B\\n'], np.int64(814): ['IL1RAPL2\\n'], np.int64(815): ['CFLAR\\n', 'FADD\\n', 'CDC25B\\n'], np.int64(816): ['RPEL1\\n'], np.int64(817): ['KDELR3\\n'], np.int64(818): ['ABI2\\n'], np.int64(819): ['TRMT10A\\n'], np.int64(820): ['TAAR8\\n', 'PDE10A\\n'], np.int64(821): ['PGLYRP2\\n'], np.int64(822): ['KRT79\\n'], np.int64(823): ['MDH1\\n'], np.int64(824): ['IFNL1\\n'], np.int64(825): ['UBQLN1\\n'], np.int64(826): ['NDUFAF3\\n', 'MT-ND5\\n', 'NDUFS7\\n', 'NDUFA13\\n', 'MT-ND2\\n'], np.int64(827): ['HIRA\\n'], np.int64(828): ['ST6GAL2\\n', 'ST3GAL1\\n'], np.int64(829): ['E2F4\\n'], np.int64(830): ['AP4E1\\n'], np.int64(831): ['TTLL9\\n'], np.int64(832): ['TPM2\\n', 'SORBS1\\n', 'MYBPC2\\n'], np.int64(833): ['CACNG4\\n', 'CACNG8\\n'], np.int64(834): ['PAOX\\n'], np.int64(835): ['ENAH\\n'], np.int64(836): ['GSTO1\\n'], np.int64(837): ['MT1G\\n'], np.int64(838): ['TNXB\\n'], np.int64(839): ['XBP1\\n'], np.int64(840): ['FMOD\\n'], np.int64(841): ['CATSPERD\\n'], np.int64(842): ['PTHLH\\n'], np.int64(843): ['PLA2R1\\n', 'GPAT4\\n'], np.int64(844): ['WNK2\\n'], np.int64(845): ['CACNA2D3\\n', 'CACNB2\\n'], np.int64(846): ['ARAP3\\n'], np.int64(847): ['NR2C2AP\\n'], np.int64(848): ['ATP4A\\n'], np.int64(849): ['PARD6G\\n'], np.int64(850): ['KDM2A\\n'], np.int64(851): ['ZFP69B\\n'], np.int64(852): ['UCN2\\n', 'TTC21B\\n'], np.int64(853): ['NTS\\n'], np.int64(854): ['TBC1D17\\n'], np.int64(855): ['NT5C1B-RDH14\\n'], np.int64(856): ['CLCA1\\n'], np.int64(857): ['CASTOR1\\n'], np.int64(858): ['NGEF\\n'], np.int64(859): ['KCNU1\\n'], np.int64(860): ['SCN4A\\n', 'CACNA2D2\\n'], np.int64(861): ['ST8SIA2\\n'], np.int64(862): ['FAAP100\\n'], np.int64(863): ['CASC3\\n'], np.int64(864): ['PARP9\\n'], np.int64(865): ['IL18R1\\n'], np.int64(866): ['MLKL\\n', 'TRPC1\\n'], np.int64(867): ['DSC3\\n', 'KRT18\\n', 'KRTAP19-6\\n'], np.int64(868): ['VAC14\\n'], np.int64(869): ['MRGBP\\n'], np.int64(870): ['MIGA2\\n'], np.int64(871): ['RBP4\\n'], np.int64(872): ['LTBP3\\n'], np.int64(873): ['SUMF1\\n', 'B4GALNT1\\n', 'GLTP\\n'], np.int64(874): ['ATP10D\\n'], np.int64(875): ['MED9\\n'], np.int64(876): ['PRKG2\\n'], np.int64(877): ['TCHH\\n', 'KRT37\\n'], np.int64(878): ['OPN1MW3\\n'], np.int64(879): ['ZNF558\\n'], np.int64(880): ['APOBEC4\\n'], np.int64(881): ['COL25A1\\n'], np.int64(882): ['CLEC4G\\n'], np.int64(883): ['DEFB131A\\n', 'DEFA5\\n', 'DEFB113\\n', 'DEFB136\\n', 'DEFB130A\\n'], np.int64(884): ['PLXNA3\\n'], np.int64(885): ['DEPDC7\\n', 'ARHGAP11A\\n'], np.int64(886): ['UGT2A2\\n'], np.int64(887): ['CNTN3\\n'], np.int64(888): ['NIPA2\\n'], np.int64(889): ['EP400\\n'], np.int64(890): ['ARHGEF6\\n'], np.int64(891): ['INPP5E\\n'], np.int64(892): ['KRTAP17-1\\n', 'KRTAP19-3\\n', 'KRTAP8-1\\n', 'KRTAP4-8\\n', 'LORICRIN\\n', 'KRTAP2-4\\n', 'KRTAP27-1\\n', 'KRT28\\n', 'PCSK6\\n', 'KRT77\\n', 'CSTA\\n', 'KRT6B\\n', 'KRT5\\n', 'PRSS8\\n', 'KRTAP13-2\\n'], np.int64(893): ['NME3\\n'], np.int64(894): ['MYL4\\n', 'MYH3\\n', 'TNNT1\\n'], np.int64(895): ['ADAMTS20\\n'], np.int64(896): ['MSL1\\n'], np.int64(897): ['CYP4F22\\n'], np.int64(898): ['PLCD4\\n'], np.int64(899): ['ACBD7\\n'], np.int64(900): ['ECE2\\n'], np.int64(901): ['GTF2F1\\n', 'ANAPC5\\n', 'RNF115\\n', 'COL5A3\\n', 'INSR\\n', 'HRC\\n', 'PLRG1\\n', 'ACOT12\\n', 'BMP1\\n', 'ZNF676\\n', 'CNOT9\\n', 'GCG\\n', 'LIMK1\\n', 'SMG6\\n', 'EPHA5\\n', 'JAK1\\n', 'AP2A1\\n', 'POLR3C\\n', 'TRIM45\\n', 'NCOA1\\n', 'TOM1\\n', 'STC2\\n', 'BLM\\n', 'ARNTL\\n', 'CDK8\\n', 'DDB2\\n', 'HNRNPA3\\n', 'OR51L1\\n', 'OR6K2\\n', 'OR6C65\\n', 'PPIH\\n', 'SNRPF\\n', 'MAPKAPK2\\n', 'AHRR\\n', 'HERC6\\n', 'COPB1\\n', 'WDTC1\\n', 'OR1M1\\n', 'FBXW7\\n', 'CNIH2\\n', 'TAS2R14\\n', 'ADHFE1\\n', 'TMED10\\n', 'GRM8\\n', 'MCM3\\n', 'AP1G1\\n', 'ATG14\\n', 'LAMTOR4\\n', 'OR10J5\\n', 'PTPRB\\n', 'HGS\\n', 'SLAMF7\\n', 'MTHFD1L\\n', 'FGD2\\n', 'SUPT16H\\n', 'SFI1\\n', 'RBBP4\\n', 'ZNF705G\\n', 'ZNF175\\n', 'TRAPPC10\\n', 'CHRM3\\n', 'DCP2\\n', 'HSPA8\\n', 'IMP4\\n', 'PCP2\\n', 'SNX9\\n', 'OR6C4\\n', 'NTSR1\\n', 'F13B\\n', 'ZNF589\\n', 'PDE3A\\n', 'VCP\\n', 'EPHA7\\n', 'KIF4A\\n', 'ZNF30\\n', 'CCL4L2\\n', 'CDH2\\n', 'TAF12\\n', 'ADH6\\n', 'PVALB\\n', 'NEURL1B\\n', 'TOLLIP\\n', 'DVL2\\n', 'GNAI2\\n', 'KIFC3\\n', 'THBD\\n', 'DAG1\\n', 'OR10A6\\n', 'OCRL\\n', 'COPZ2\\n', 'UBE2M\\n', 'ITSN1\\n', 'CNOT11\\n', 'PPP3R1\\n', 'RPS8\\n', 'KRTAP23-1\\n', 'RNF103-CHMP3\\n', 'RIPK2\\n', 'ALOX15\\n', 'DYNLL1\\n', 'ZNF446\\n', 'KRTAP11-1\\n', 'P2RY6\\n', 'H2BC13\\n', 'MAFK\\n', 'SLIT1\\n', 'EDEM2\\n', 'FOXO1\\n', 'INTS4\\n', 'TNFAIP6\\n', 'STAT4\\n', 'TAF4\\n', 'CALCA\\n', 'TAGLN2\\n', 'DCTN1\\n', 'TRIM69\\n', 'APOBEC3G\\n', 'HBG1\\n', 'ATG9A\\n', 'AMBN\\n', 'ARHGEF12\\n', 'ZNF286A\\n', 'SPSB4\\n', 'SRSF4\\n', 'OR52E6\\n', 'ZNF70\\n', 'COMMD6\\n', 'OR4K14\\n', 'ZNF736\\n', 'SERPINB12\\n', 'SNRPA1\\n', 'LILRA2\\n', 'ORM1\\n', 'ZNF26\\n', 'COPS6\\n', 'SUPT20H\\n', 'ADGRG3\\n', 'OR6P1\\n', 'OR7G3\\n', 'UBE2O\\n', 'PRMT3\\n', 'RGS12\\n', 'SKA2\\n', 'USP24\\n', 'IFT27\\n', 'OR51B2\\n', 'TAAR9\\n', 'DERL2\\n', 'THOC3\\n', 'RGS22\\n', 'HCAR3\\n', 'CD300A\\n', 'RAB3A\\n', 'ZNF214\\n', 'PRMT5\\n', 'COL1A2\\n', 'NPEPPS\\n', 'RDH8\\n', 'TADA1\\n', 'NEU1\\n', 'UBE2U\\n', 'RPL39L\\n', 'RAPGEF2\\n', 'PROK2\\n', 'MMP15\\n', 'PPIL6\\n', 'ARID2\\n', 'NRG4\\n', 'BAP1\\n', 'ZNF583\\n', 'C3AR1\\n', 'ORM2\\n', 'PRKAR1A\\n', 'CD177\\n', 'SNAP25\\n', 'OR3A3\\n', 'CNR1\\n', 'OR5H1\\n', 'ANGPT1\\n', 'MLNR\\n', 'GRN\\n', 'TAB3\\n', 'LTBP1\\n', 'NLRX1\\n', 'FBXO30\\n', 'THOC7\\n', 'ZNF354B\\n', 'PMF1\\n', 'ZNF440\\n', 'TAS2R60\\n', 'SELL\\n', 'NAPG\\n', 'FEM1B\\n', 'ZNF548\\n', 'CALM2\\n', 'CABLES2\\n', 'TBC1D20\\n', 'OR2L5\\n', 'ZNF746\\n', 'RPL13A\\n', 'TUBGCP5\\n', 'GSPT1\\n', 'CD68\\n', 'ZNF570\\n', 'WSB2\\n', 'SEC24C\\n', 'HSPG2\\n', 'AKR1C3\\n', 'UBE2D1\\n', 'OR51A4\\n', 'C3\\n', 'DR1\\n', 'WBP11\\n', 'LCE3C\\n', 'OR2T2\\n', 'ADRA2C\\n', 'NUP98\\n', 'AFP\\n', 'MLH1\\n', 'ZNF564\\n', 'LYN\\n', 'ZDHHC2\\n', 'CSTF2\\n', 'GEN1\\n', 'GPR143\\n', 'PMCH\\n', '390441\\n', 'SULT2A1\\n', 'BABAM1\\n', 'IFI30\\n', 'RPS25\\n', 'H2BC12\\n', 'IRF3\\n', 'USP17L8\\n', 'C1orf35\\n', 'SNRNP70\\n', 'PSME1\\n', 'RPS4Y1\\n', 'SRGAP2\\n', 'STAT5A\\n', 'CDC6\\n', 'ZNF429\\n', 'FGFR3\\n', 'CXCR6\\n', 'OR8K3\\n', 'ASB12\\n', 'IRF2\\n', 'SARS1\\n', 'LDHB\\n', 'UBE2D3\\n', 'EIF3M\\n', 'KDM7A\\n', 'HLA-DPB1\\n', 'OR11H4\\n', 'CSK\\n', 'CYCS\\n', 'USP44\\n', 'MAP2K4\\n', 'BTBD1\\n', 'PSME3\\n', 'PRPF40A\\n', 'FLNA\\n', 'CBX8\\n', 'STARD13\\n', 'KIF3C\\n', 'RPS17\\n', 'OPN4\\n', 'GYG1\\n', 'RPLP1\\n', 'ELOA\\n', 'GGA3\\n', 'ZNF202\\n', 'ASB7\\n', 'CLSPN\\n', 'POLR1C\\n', 'MYL9\\n', 'HUS1\\n', 'ADGRE3\\n', 'LAMB3\\n', 'GRM5\\n', 'KDM1A\\n', 'SDCBP\\n', 'RPL18A\\n', 'HDAC4\\n', 'ITGA9\\n', 'CSPG5\\n', 'DZIP1\\n', 'ATP8B4\\n', 'EPS15\\n', 'OR6C76\\n', 'VCL\\n', 'SARNP\\n', 'MYL12B\\n', 'CAPN6\\n', 'NCOA6\\n', 'OR4C13\\n', 'ZNF317\\n', 'LTB4R\\n', 'ZNF793\\n', 'CLEC10A\\n', 'AGO2\\n', 'KCTD6\\n', 'H4C6\\n', 'RRAGD\\n', 'CCP110\\n', 'GSTP1\\n', 'RPGRIP1L\\n', 'CSNK2A1\\n', 'USP8\\n', 'MSL2\\n', 'IRF7\\n', 'EPHB2\\n', 'CHI3L1\\n', 'BARD1\\n', 'COMMD9\\n', 'CAMK2B\\n', 'ZNF140\\n', 'USP17L25\\n', 'HLA-F\\n', 'DCTN3\\n', 'OR5J2\\n', 'ATP1B3\\n', 'ACTR1B\\n', 'OR52N4\\n', 'NUP50\\n', 'SPRR2D\\n', 'ZNF721\\n', 'XRCC5\\n', 'RPS16\\n', 'TOP3A\\n', 'PAX6\\n', 'CCNE1\\n', 'PKP4\\n', 'SFTPA2\\n', 'MAFB\\n', 'PKP3\\n', 'ZNF875\\n', 'UBE2Q1\\n', 'OR2L3\\n', 'RAC1\\n', 'DYNLT2\\n', 'SRGN\\n', 'CTNNA1\\n', 'REEP6\\n', 'RHOU\\n', 'HSPA1A\\n', 'SH2B1\\n', 'SUPT4H1\\n', 'HECTD1\\n', 'RORA\\n', 'C6orf120\\n', 'ALDH3A2\\n', 'CTSK\\n', 'TADA3\\n', 'ADORA2A\\n', 'F11R\\n', 'ZNF302\\n', 'PSTK\\n', 'REEP2\\n', 'RPS21\\n', 'TAF13\\n', 'INTU\\n', 'ZNF468\\n', '155030\\n', 'ABHD5\\n', 'GPRC6A\\n', 'RHOV\\n', 'LAMB2\\n', 'OR51V1\\n', 'ADRB2\\n', 'SLC25A13\\n', 'NFAM1\\n', 'CCNT2\\n', 'GAN\\n', 'THEM4\\n', 'ZNF620\\n', 'ELP1\\n', 'COPS8\\n', 'RBSN\\n', 'LDB1\\n', 'B9D1\\n', 'CD47\\n', 'MYH14\\n', 'ADCY4\\n', 'G6PD\\n', 'ARHGEF5\\n', 'LCN2\\n', 'ZNF184\\n', 'MT-CO2\\n', 'IRAK2\\n', 'PRDX4\\n', 'GSDMD\\n', 'SMAD7\\n', 'NET1\\n', 'EDNRA\\n', 'NFIL3\\n', 'EFNB2\\n', 'IFNA2\\n', 'CD96\\n', 'EIF3H\\n', 'UBE2I\\n', 'NDUFA2\\n', 'GNAZ\\n', 'ACTR1A\\n', 'OR4F5\\n', 'HLA-DRB5\\n', 'GABPB1\\n', 'CPPED1\\n', 'KDM3A\\n', 'GRM6\\n', 'ARL8A\\n', 'ZNF41\\n', 'ATP6V1G1\\n', 'TAF5\\n', 'TAS2R19\\n', 'ZNF735\\n', 'FADS1\\n', 'LRRFIP1\\n', 'SGPP1\\n', 'TLN1\\n', 'SRP19\\n', 'H3C15\\n', 'SLC2A3\\n', 'GH2\\n', 'ZNF624\\n', 'EPHB6\\n', 'SERPINB6\\n', 'TCTN1\\n', 'PPARGC1B\\n', 'SMC2\\n', 'OR2W1\\n', 'ZNF215\\n', 'MAGED1\\n', 'IL1B\\n', 'ZNF577\\n', 'PCF11\\n', 'CASR\\n', 'TEX10\\n', 'RAD51B\\n', 'RNF111\\n', 'KMT5C\\n', 'LIN9\\n', 'PER2\\n', 'GSK3B\\n', 'LCE2A\\n', 'ANAPC4\\n', 'CRTAM\\n', 'COL12A1\\n', 'TEX12\\n', 'ZNF718\\n', 'KRT14\\n', 'OR5H15\\n', 'CENPS-CORT\\n', 'OR8G5\\n', 'VNN1\\n', 'RNASE1\\n', 'SULT1A2\\n', 'SLC44A2\\n', 'LAS1L\\n', 'NOC4L\\n', 'IFIH1\\n', 'SPP2\\n', 'SAP30\\n', 'PELI1\\n', 'SRSF2\\n', 'ZNF131\\n', 'ZBED1\\n', 'PLXNB1\\n', '3707572\\n', 'FGD3\\n', 'RLN3\\n', 'COMMD2\\n', 'MFN1\\n', 'PDE7A\\n', 'RPL35A\\n', 'TUBGCP3\\n', 'ZNF354C\\n', 'ZNF33A\\n', 'OR1D5\\n', 'ZNF705D\\n', 'FBXL22\\n', 'RIN3\\n', 'PDE8A\\n', 'GPR37\\n', 'OR7A10\\n', 'ITGB8\\n', 'PEBP1\\n', 'COL4A6\\n', 'TMED9\\n', 'GLI1\\n', 'ARFGAP3\\n', 'LAMTOR1\\n', 'ZNF571\\n', 'USP17L21\\n', 'BTRC\\n', 'TLE3\\n', 'CXXC5\\n', 'DIAPH3\\n', 'IDE\\n', 'FGF5\\n', 'BCL2L1\\n', 'JUP\\n', 'CHIT1\\n', 'APLNR\\n', 'POLR3B\\n', 'ULBP3\\n', 'RNF130\\n', 'CALM3\\n', 'ERCC8\\n', 'TICAM1\\n', 'IL1A\\n', 'PPP2R5B\\n', 'NCOA3\\n', 'NIT2\\n', 'MCHR2\\n', 'GTF2A2\\n', 'ANO5\\n', 'NUP43\\n', 'GRM3\\n', 'FGA\\n', 'AOC3\\n', 'OR2G6\\n', 'WRN\\n', 'TRIP10\\n', 'PLBD1\\n', 'TAS1R2\\n', 'GPSM2\\n', 'WAS\\n', 'G0S2\\n', 'ITPK1\\n', 'DGKH\\n', 'ADRB3\\n', 'PYGO1\\n', 'GATAD2B\\n', 'CD58\\n', 'NDUFA1\\n', 'LCE1C\\n', 'ATP6V1A\\n', 'LIN7C\\n', 'GNA14\\n', 'ANO2\\n', 'DHH\\n', 'KRTAP13-1\\n', 'AVP\\n', 'OR51H1\\n', 'PLK1\\n', 'PLCG1\\n', 'S1PR4\\n', 'CD74\\n', 'DOCK10\\n', 'DGKD\\n', 'OASL\\n', 'OR10K1\\n', 'OR1S2\\n', 'CD109\\n', 'SEC31A\\n', 'UTP18\\n', 'PTX3\\n', 'AVPR1B\\n', 'COL4A4\\n', 'OR6Q1\\n', 'ZNF420\\n', 'HMGCS1\\n', 'BTK\\n', 'DIAPH1\\n', 'POLR1B\\n', 'ARHGAP19\\n', 'ZNF761\\n', 'NCBP2\\n', 'OR1A2\\n', 'ZNF563\\n', 'ZNF205\\n', 'CACNA1H\\n', 'PERP\\n', 'COG8\\n', 'EGLN3\\n', 'NBN\\n', 'NGF\\n', 'RGS1\\n', 'GTF3C2\\n', 'UNC79\\n', 'ARHGAP44\\n', 'EIF3L\\n', 'ALAD\\n', 'PPP1R12A\\n', 'POLR3A\\n', 'GOT2\\n', 'CXCL13\\n', 'IFNA4\\n', 'XCL2\\n', 'USP17L11\\n', 'NPY\\n', 'ZNF716\\n', 'CHRDL1\\n', 'RAB6B\\n', 'OR2A14\\n', 'DEFA4\\n', 'H3C10\\n', 'OR51B4\\n', 'H2AC11\\n', 'OR2B3\\n', 'PRKAR2B\\n', 'NFYC\\n', 'OBSL1\\n', 'SPSB3\\n', 'AGTRAP\\n', 'GPC3\\n', 'TAS2R1\\n', 'ZNF619\\n', 'MTA3\\n', 'OR14A16\\n', 'SNX3\\n', 'KMT2D\\n', 'LPCAT1\\n', 'ADGRE5\\n', 'DDAH1\\n', 'POT1\\n', 'SIN3A\\n', 'UIMC1\\n', 'PRPF4\\n', 'MCHR1\\n', 'ZNF460\\n', 'MAP1LC3C\\n', 'SHISA5\\n', 'EAF1\\n', 'OR8K5\\n', 'TUBGCP6\\n', 'ULK1\\n', 'ZNF562\\n', 'SPINK5\\n', 'EFEMP2\\n', 'UTP11\\n', 'RNF7\\n', 'DROSHA\\n', 'KLK2\\n', 'IGFBP1\\n', 'ZNF99\\n', 'IDH1\\n', 'TAS2R43\\n', 'CYLD\\n', 'HAUS7\\n', 'OR4C12\\n', 'SEC24A\\n', 'ARHGAP9\\n', 'AHCTF1\\n', 'HSPB1\\n', 'YY1\\n', 'MCM6\\n', 'APOB\\n', 'RARRES2\\n', 'FFAR4\\n', 'RPL7\\n', 'SSRP1\\n', 'OR5L2\\n', 'FPR1\\n', 'NDE1\\n', 'KRT6C\\n', 'CLINT1\\n', 'PARP1\\n', 'HIPK2\\n', 'LILRA4\\n', 'CXCL6\\n', 'GPR4\\n', 'ECM1\\n', 'SUPT3H\\n', 'DGCR8\\n', 'ZKSCAN8\\n', 'EPGN\\n', 'HAUS3\\n', 'RAB5C\\n', 'PSMD13\\n', 'OR2T1\\n', 'OR2AT4\\n', 'SUDS3\\n', 'OR51A2\\n', 'HRG\\n', 'WEE1\\n', 'BCAP31\\n', 'MGST1\\n', 'PTGER3\\n', 'XCL1\\n', 'CGA\\n', 'TXN2\\n', 'TCIRG1\\n', 'H2AC19\\n', 'HMGB1\\n', 'GOSR2\\n', 'SUMO3\\n', 'ZNF689\\n', 'TMED2\\n', 'OR5M11\\n', 'KRTAP19-2\\n', 'ARHGEF33\\n', 'ZNF490\\n', 'TRIM71\\n', 'PLA2G6\\n', 'OR6C70\\n', 'PRKAG1\\n', 'ARHGAP22\\n', 'DSG4\\n', 'MCPH1\\n', 'RAB8A\\n', 'ECHS1\\n', 'USP17L29\\n', 'PPP2R5A\\n', 'XPO1\\n', 'OR2A2\\n', 'AJUBA\\n', 'FBXO4\\n', 'OR51E1\\n', 'CPT1A\\n', 'SIRT3\\n', 'C5\\n', 'DDX39A\\n', 'MAP3K11\\n', 'HELZ2\\n', 'NOL11\\n', 'ITGB3BP\\n', '813949\\n', 'OR2A42\\n', 'ZNF45\\n', 'TMEM63A\\n', 'HLA-C\\n', 'YEATS2\\n', 'COL6A2\\n', 'GDI2\\n', 'JADE1\\n', 'SNRPD1\\n', 'AKT1S1\\n', 'BATF\\n', 'GTPBP2\\n', 'COPS3\\n', 'MED30\\n', 'OR10T2\\n', 'SEC24D\\n', 'CYP2E1\\n', 'FCAR\\n', 'LRSAM1\\n', 'TUBAL3\\n', 'DDX47\\n', 'GALC\\n', 'NRTN\\n', 'GLB1\\n', 'H2AB1\\n', 'ADRA2A\\n', 'OR8B2\\n', 'C4B\\n', 'ARHGAP45\\n', 'ARF6\\n', 'GABPA\\n', 'F2RL1\\n', 'H2BC5\\n', 'ELN\\n', 'GGA1\\n', 'TGOLN2\\n', 'USP7\\n', 'RAB27A\\n', 'SERPINA10\\n', 'SLC9C1\\n', 'MTMR3\\n', 'OR8H1\\n', 'ZNF442\\n', 'ADAM22\\n', 'KIT\\n', 'OR2T34\\n', 'VDAC1\\n', 'TIMELESS\\n', 'CEP57\\n', 'KRT78\\n', 'TTF1\\n', 'TUBG1\\n', 'DKC1\\n', 'RNF220\\n', 'ZNF727\\n', 'LRRC7\\n', 'HSPA5\\n', 'OR52A1\\n', 'CHRM2\\n', 'MYLIP\\n', 'OR52K2\\n', 'OR12D2\\n', '100861532\\n', 'ARNT2\\n', 'GRB2\\n', 'CREM\\n', 'ADCY6\\n', 'DSC2\\n', 'OR5D14\\n', 'EPX\\n', 'CAPN7\\n', 'CD63\\n', 'SOCS2\\n', 'AGT\\n', 'ACTN1\\n', 'NPY4R\\n', 'BGN\\n', 'OR9I1\\n', 'APOA1\\n', 'OR5AN1\\n', 'GNA15\\n', 'ARHGAP23\\n', 'ETFA\\n', 'PPIL4\\n', 'OR51A7\\n', 'SKP2\\n', 'PSMC3IP\\n', 'USP17L30\\n', 'CRH\\n', 'FRMPD3\\n', 'CDK7\\n', 'OR6B1\\n', 'ZNF607\\n', 'SLC8A1\\n', 'ERP44\\n', 'TRIM39\\n', 'ZNF506\\n', 'TNRC6C\\n', 'PRKACB\\n', 'OR4F21\\n', 'CDC27\\n', 'ATP6V1H\\n', 'EP300\\n', 'ACTN4\\n', 'POLR2I\\n', 'POLR3D\\n', 'USP9X\\n', 'ELL3\\n', 'RNF5\\n', 'PSAP\\n', 'DEFA1B\\n', 'IGFBP3\\n', 'KNL1\\n', 'AP1S1\\n', 'WNT9A\\n', 'CTSZ\\n', 'SLC4A1\\n', 'KDM4C\\n', 'ARRB2\\n', 'OLFM4\\n', 'IVL\\n', 'MAPK11\\n', 'BRAP\\n', 'FOS\\n', 'TGM1\\n', 'FBXO41\\n', 'ARHGAP20\\n', 'KRTAP4-9\\n', 'OR4M1\\n', 'INTS5\\n', 'KLHL2\\n', 'DDX58\\n', 'CDK5R1\\n', 'AP1M1\\n', 'OR52H1\\n', 'ZNF324\\n', 'MT-CO3\\n', 'PAK2\\n', 'GNAL\\n', 'RPL19\\n', 'DCAF11\\n', 'PICK1\\n', 'RPS24\\n', 'CDKN2B\\n', 'MSL3\\n', 'AKT2\\n', 'CBLL2\\n', 'SLC18A3\\n', 'ESR2\\n', 'RCOR1\\n', 'RUNX2\\n', 'OR13C4\\n', 'PTGS2\\n', 'H4C12\\n', 'IMP3\\n', 'NOTCH1\\n', 'PREX2\\n', 'MIB2\\n', 'RANBP2\\n', 'DNAJC5\\n', 'APH1A\\n', 'ATG9B\\n', 'CRY1\\n', 'ZNF141\\n', 'OR2T3\\n', 'USP11\\n', 'RSPO2\\n', 'KRTAP10-7\\n', 'S1PR1\\n', 'ERCC5\\n', 'EDNRB\\n', 'PTPN6\\n', 'TTR\\n', 'OR14I1\\n', 'GNG11\\n', 'GPR83\\n', 'CXCL1\\n', 'FCHO2\\n', 'CEP78\\n', 'MORF4L1\\n', 'FBXO27\\n', 'RANGAP1\\n', 'GNAT1\\n', 'GBP6\\n', 'GNA12\\n', 'OR2T33\\n', 'TUBB1\\n', 'CEBPB\\n', 'ERCC2\\n', 'CEACAM6\\n', 'RPL12\\n', '956529\\n', 'CC2D2A\\n', 'HNRNPH2\\n', 'SH2B2\\n', 'RPS9\\n', 'TACR1\\n', 'ZNF425\\n', 'UBE3A\\n', 'RASGEF1A\\n', 'ADRA1B\\n', 'BUB1\\n', 'AGO1\\n', 'CHD9\\n', 'CTDP1\\n', 'RAB7B\\n', 'TALDO1\\n', 'PER1\\n', 'KISS1R\\n', 'F2RL2\\n', 'DYNLT1\\n', 'ACER3\\n', 'EZH2\\n', 'ATP6V0B\\n', 'TBC1D10C\\n', 'TRHR\\n', 'APOOL\\n', 'IGLL1\\n', 'ELOA2\\n', 'RPS5\\n', 'S100A7\\n', 'GRIN1\\n', 'OPRK1\\n', 'HAUS8\\n', 'RELB\\n', 'CEP152\\n', 'ADAMTS9\\n', 'JAM3\\n', 'HEY1\\n', 'LSS\\n', 'ASB11\\n', 'FGF10\\n', 'PF4\\n', 'ZNF585B\\n', 'YEATS4\\n', 'MXRA8\\n', 'TINF2\\n', 'SGO1\\n', 'ZNF493\\n', 'LILRB3\\n', 'VEGFD\\n', 'DVL3\\n', 'OR6S1\\n', 'MIS12\\n', 'AP2M1\\n', 'SUMO2\\n', 'CCR5\\n', 'SDS\\n', 'FBXL19\\n', 'ZNF706\\n', 'UBTF\\n', 'BOP1\\n', 'TUBA1C\\n', 'RAF1\\n', 'ARHGAP8\\n', 'PDIA3\\n', 'YWHAH\\n', 'PSMA4\\n', 'PIK3CA\\n', 'SMC3\\n', 'OSM\\n', 'IHH\\n', 'PFN1\\n', 'PPFIA4\\n', 'EYA1\\n', 'PRKDC\\n', 'NXF2B\\n', 'TGFB2\\n', 'ZFP90\\n', 'LAMA1\\n', 'FGD4\\n', 'BRCC3\\n', 'NTHL1\\n', 'LMNA\\n', 'RGS4\\n', 'BCAR1\\n', 'ZNF530\\n', 'TSPAN33\\n', 'LDLR\\n', 'SDC2\\n', 'OFD1\\n', 'CHST13\\n', 'ATP6V0E2\\n', 'LPAR6\\n', 'BST2\\n', 'RPTN\\n', 'IL12B\\n', 'ERBB2\\n', 'ANO10\\n', 'H4C14\\n', 'APAF1\\n', 'ADAMTS5\\n', 'OR4A15\\n', 'IKBKB\\n', 'TUBB2B\\n', 'PRCP\\n', 'CD59\\n', 'CDC34\\n', 'ZNF554\\n', 'MAPKAPK5\\n', 'IFT46\\n', 'CENPS\\n', 'RAB3D\\n', 'MAFG\\n', 'OXGR1\\n', 'GATA1\\n', 'SLPI\\n', 'OR1S1\\n', 'OTUD3\\n', 'AKR1D1\\n', 'CASQ2\\n', 'FGR\\n', 'ERLEC1\\n', 'TGFA\\n', 'KNG1\\n', 'PYGL\\n', 'SNAP23\\n', 'H3C6\\n', 'SPP1\\n', 'HEBP1\\n', 'PSMB7\\n', 'FCER1A\\n', 'ZNF343\\n', 'KRTAP1-4\\n', 'SFTPD\\n', 'DDA1\\n', 'SPSB1\\n', 'ALS2\\n', 'KCNH6\\n', 'ATP2A1\\n', 'KRT23\\n', 'FABP7\\n', 'USP30\\n', 'ZNF484\\n', 'MVP\\n', 'FBXL13\\n', 'RFC1\\n', 'COPS2\\n', 'PHC3\\n', 'DRD4\\n', 'RASGRP3\\n', 'PRKAG3\\n', 'PDE4A\\n', '728929\\n', 'OR8J1\\n', 'OR10J3\\n', 'ADCY2\\n', 'COX8A\\n', 'OR5H6\\n', 'PDCD11\\n', 'RTF1\\n', 'H4C13\\n', 'HECTD3\\n', 'SPPL2B\\n', 'OAS1\\n', 'NEDD4L\\n', 'ORC4\\n', 'OR4X2\\n', 'ZWINT\\n', 'ZNF443\\n', 'SF3B2\\n', 'PSMA8\\n', 'TP73\\n', 'ESRRA\\n', 'TREML2\\n', 'EIF4A3\\n', 'NUP210\\n', 'H2AC8\\n', 'NDUFC2\\n', 'ZNF557\\n', 'RAB35\\n', 'BYSL\\n', 'F2RL3\\n', 'TUBGCP2\\n', 'SNRPE\\n', 'TOR1A\\n', 'YAP1\\n', 'PSMC6\\n', 'CDK11B\\n', 'GMNN\\n', 'IGFBP7\\n', 'HOXD1\\n', 'RPP14\\n', 'EPM2A\\n', 'ABCG2\\n', 'DSN1\\n', 'RPL32\\n', 'ZNF71\\n', 'BBC3\\n', 'ZNF300\\n', 'TAF7\\n', 'STAMBP\\n', 'HRAS\\n', 'SP7\\n', 'EFTUD2\\n', 'OR6M1\\n', 'FKBP8\\n', 'STK11IP\\n', 'GATA3\\n', 'KIF23\\n', 'FGF23\\n', 'ASB13\\n', 'ACADS\\n', 'HDAC1\\n', 'ALDH1B1\\n', 'KRT73\\n', 'ERCC6\\n', 'ERCC1\\n', 'DYNLL2\\n', 'RCL1\\n', 'OR1I1\\n', 'USP3\\n', 'OR13C2\\n', 'ENDOD1\\n', 'IL23A\\n', 'ATP13A5\\n', 'TXK\\n', 'SULT2B1\\n', 'KMT2C\\n', 'GNG2\\n', 'CNKSR1\\n', 'FBXW9\\n', 'UBE2G1\\n', 'SNRNP25\\n', 'A1BG\\n', 'PEX11A\\n', 'ZNF708\\n', 'FCER1G\\n', 'TRIB3\\n', 'COLGALT1\\n', 'COX11\\n', 'HOXA1\\n', 'BCAT2\\n', 'DOK3\\n', 'GATA5\\n', 'PRKAB1\\n', 'NPY5R\\n', 'GALR3\\n', 'CUL5\\n', 'OR2T11\\n', 'COL8A2\\n', 'NR2E1\\n', 'BCKDHA\\n', 'TCP1\\n', 'FGF8\\n', 'RBMX\\n', 'S100A12\\n', 'UBAP1\\n', 'CLEC4C\\n', 'ZNF320\\n', 'SCAMP1\\n', 'OR4D6\\n', 'ITGA1\\n', 'NPB\\n', 'SERPINB3\\n', 'GRM4\\n', 'CTSL\\n', 'RBM8A\\n', 'MEAF6\\n', 'RAD50\\n', 'FBXW8\\n', 'ACKR3\\n', 'OR6C75\\n', 'POLE\\n', 'POLR3K\\n', 'CCNE2\\n', 'CD3D\\n', 'UBA6\\n', 'PARP2\\n', 'KRT26\\n', 'ATP6V0C\\n', 'SSTR1\\n', 'MIA2\\n', 'COL4A5\\n', 'ALB\\n', 'CENPC\\n', 'GNB2\\n', 'VAMP8\\n', 'PRDX1\\n', 'ARPC4\\n', 'PLAU\\n', 'ZKSCAN1\\n', 'SPTAN1\\n', 'PHYKPL\\n', 'UGT1A9\\n', 'OR51T1\\n', 'MAT2B\\n', 'TRIM41\\n', 'DSG2\\n', 'L1CAM\\n', 'PSMA1\\n', 'MTOR\\n', 'ANAPC1\\n', 'GPX2\\n', 'FDPS\\n', 'RPL10A\\n', 'RACGAP1\\n', 'GALNS\\n', 'AR\\n', 'OR2F1\\n', 'KIF18B\\n', 'PCBP2\\n', 'CREB1\\n', 'NUAK1\\n', 'OR10A3\\n', 'AP2A2\\n', 'OR1B1\\n', 'AGTR1\\n', 'LONRF1\\n', 'TRIM26\\n', 'AHCYL1\\n', 'ATP6V1B2\\n', 'RORC\\n', 'LPAR4\\n', 'KIF26B\\n', 'PSMD11\\n', 'POLR2L\\n', 'SRGAP1\\n', 'TRAPPC6B\\n', 'GNB3\\n', 'HECTD2\\n', 'POLE2\\n', 'OR1N2\\n', 'OR6X1\\n', 'ESRP1\\n', 'IFI16\\n', 'ITGB3\\n', 'ZNF561\\n', 'BMP4\\n', 'KCNJ9\\n', 'COL6A5\\n', 'H4C1\\n', 'CHD1L\\n', 'IL5\\n', 'RAD23B\\n', 'OPN5\\n', 'GTF2E1\\n', 'CEACAM8\\n', 'TOP1\\n', 'PECAM1\\n', 'GMFG\\n', 'PITPNA\\n', 'ARHGEF1\\n', 'OR6A2\\n', 'ZNF782\\n', 'PMF1-BGLAP\\n', 'VPS72\\n', 'ZFP14\\n', 'OR2T29\\n', 'NAPB\\n', 'CABLES1\\n', 'BCL9L\\n', 'GLA\\n', 'F8\\n', 'SCTR\\n', 'DHX37\\n', 'ZNF267\\n', 'RAD51D\\n', 'NRIP1\\n', 'SYT5\\n', 'ZNRF2\\n', 'OR10G3\\n', 'ZNF221\\n', 'TRAIP\\n', 'COL17A1\\n', 'SIAH2\\n', 'ARHGAP1\\n', 'ATP6V0A1\\n', 'SNRPD3\\n', 'RPS10\\n', 'SRSF1\\n', 'H3-3A\\n', 'H4-16\\n', 'HNRNPF\\n', 'OR4F17\\n', 'FBN1\\n', 'WDR75\\n', 'PSMD14\\n', '956536\\n', 'COG1\\n', 'RPS6\\n', 'TMPRSS6\\n', 'ANO6\\n', 'CHD4\\n', 'OR4F4\\n', 'ITGA6\\n', 'TAF9\\n', 'ZNF253\\n', 'NOL12\\n', 'ATM\\n', 'WDR61\\n', 'GPR31\\n', 'SULT1A1\\n', 'MSI1\\n', 'LEF1\\n', 'ERCC4\\n', 'RAB12\\n', 'RNF123\\n', 'MDC1\\n', 'MED23\\n', 'ZNF549\\n', 'ARHGAP6\\n', 'SCNN1D\\n', 'SMAD1\\n', 'ZNF665\\n', 'TAF1A\\n', 'NABP2\\n', 'FYN\\n', 'CTSE\\n', 'AADAT\\n', 'TCN1\\n', 'CENPT\\n', 'OR11H2\\n', '79296\\n', 'FASN\\n', 'RPS27A\\n', 'TRAPPC4\\n', 'PAX3\\n', 'OR10C1\\n', 'KLC1\\n', 'ZNF25\\n', 'RHOG\\n', 'UBE2G2\\n', '884327\\n', 'TMED7-TICAM2\\n', 'PUM2\\n', 'CCL3\\n', 'MMP10\\n', 'KIF15\\n', 'MAPK13\\n', 'SMG9\\n', 'NAE1\\n', 'KBTBD6\\n', 'TBXA2R\\n', 'SCARB2\\n', 'STXBP2\\n', 'ZNF688\\n', 'GBP5\\n', 'DEFA1\\n', 'B4GALT7\\n', 'OR1E2\\n', 'GGH\\n', 'FXYD6\\n', 'OR4D5\\n', 'STAM2\\n', 'RPL11\\n', 'ZNF415\\n', 'PDS5A\\n', 'PSMD7\\n', 'WWOX\\n', 'FLNB\\n', 'SERPINB10\\n', 'RNF128\\n', 'OSTM1\\n', 'CLEC2B\\n', 'EPHA3\\n', 'OR7G1\\n', 'OR2J1\\n', 'NCR3LG1\\n', 'H3-3B\\n', 'MT-CO1\\n', 'TBC1D1\\n', 'HAUS2\\n', 'DNM2\\n', 'ZNF599\\n', 'FAM120B\\n', 'FFAR2\\n', 'TMC6\\n', 'CSNK1G2\\n', 'RPL10L\\n', 'OR2C1\\n', 'ARHGAP29\\n', 'U2AF1\\n', 'CHGB\\n', 'SRRM1\\n', 'RPL38\\n', 'LSM7\\n', 'NDRG1\\n', 'FBXW11\\n', 'TAF10\\n', 'TRIM3\\n', 'GTF2E2\\n', 'UBE2J2\\n', 'ARNT\\n', 'PGM2\\n', 'ZNF655\\n', 'RAD1\\n', 'GABBR2\\n', 'PSMD2\\n', 'OR2C3\\n', 'ZNF208\\n', 'ZNF582\\n', 'CBLB\\n', 'CENPI\\n', 'IQCB1\\n', 'POLR1E\\n', 'USP26\\n', 'XK\\n', 'MMP8\\n', 'METTL7A\\n', 'AADAC\\n', 'RAP2C\\n', 'GAST\\n', 'MED16\\n', 'TNFRSF10A\\n', 'CDKN2D\\n', 'OR5V1\\n', 'KRBA1\\n', 'PIK3CB\\n', 'GAPDHS\\n', 'ABL1\\n', 'NUDT2\\n', 'KMT2B\\n', 'SETD2\\n', 'PLEKHG2\\n', 'NCOR2\\n', 'IGFALS\\n', 'POLB\\n', 'RPL36A\\n', 'TAS2R4\\n', 'RFC3\\n', 'TNFRSF1B\\n', 'NXF1\\n', 'USP5\\n', 'RPS12\\n', 'GGPS1\\n', 'VAMP3\\n', 'OR4M2\\n', 'CHD1\\n', 'ARHGAP32\\n', 'VWA1\\n', 'H4C3\\n', 'RPS2\\n', 'NELFCD\\n', 'USP17L4\\n', 'KRTAP9-2\\n', 'POLH\\n', 'LMAN2\\n', 'OR5T3\\n', 'AMTN\\n', 'SLC27A1\\n', 'DBT\\n', 'ITGAE\\n', 'GALR1\\n', 'HNRNPUL1\\n', 'CENPJ\\n', 'INTS13\\n', 'GPR39\\n', 'NIP7\\n', 'PSMC5\\n', 'CDK5RAP2\\n', 'LHFPL2\\n', 'ANAPC2\\n', 'FMNL2\\n', 'ZDHHC21\\n', 'B4GALT1\\n', 'POP7\\n', 'SYTL4\\n', 'RBBP5\\n', 'ARG1\\n', 'EIF3C\\n', 'FCGR3A\\n', 'CYP1A1\\n', 'CBL\\n', 'ZNF454\\n', 'STAT1\\n', 'IFT88\\n', 'PDE1A\\n', 'DCUN1D5\\n', 'CDKN2A\\n', 'POLR2B\\n', 'CASP2\\n', 'POLR2D\\n', 'H2AC1\\n', 'PRKCSH\\n', 'ZNF433\\n', 'HAUS6\\n', 'OR2W5P\\n', 'ARHGEF17\\n', 'OR1D2\\n', 'MED15\\n', 'SETD1B\\n', 'DOK4\\n', 'RPL30\\n', 'NEURL2\\n', 'LEO1\\n', 'PPP2CA\\n', 'NR4A3\\n', 'DSP\\n', 'PSG2\\n', 'NDUFS5\\n', 'KAT5\\n', 'KRT17\\n', 'RAB6A\\n', 'CRISP3\\n', 'VGF\\n', 'PSMD9\\n', 'HOXC4\\n', 'CAMP\\n', 'RPS20\\n', 'IL3RA\\n', 'GPAM\\n', 'STMN1\\n', 'STUB1\\n', 'TCF7L1\\n', 'CAPZA1\\n', 'CEP72\\n', 'CSF3\\n', 'CTSF\\n', 'HADHA\\n', 'ZNF514\\n', 'IFNA10\\n', 'ZNF154\\n', 'NUP188\\n', 'CRK\\n', 'OR8A1\\n', 'ZNF10\\n', 'DOCK2\\n', 'ROCK1\\n', 'CD300E\\n', 'HLA-DRB3\\n', 'COPS4\\n', 'EEFSEC\\n', 'H2BC14\\n', 'FSCN1\\n', 'PCDH7\\n', 'RTP2\\n', 'FCER2\\n', 'CDCA8\\n', 'CX3CL1\\n', 'GHDC\\n', 'NINL\\n', 'SEC61G\\n', 'CDK9\\n', 'ABAT\\n', 'SF3B6\\n', 'TAF1\\n', 'RTP3\\n', 'CSTF3\\n', 'MYH11\\n', 'BBOX1\\n', 'USP17L19\\n', 'KIF2B\\n', 'CUL1\\n', 'CTCF\\n', 'ADCY9\\n', 'CTNNBL1\\n', 'TUBB\\n', 'COL27A1\\n', 'MIB1\\n', 'OR8D2\\n', 'PCNT\\n', 'ZNF12\\n', 'TRIM50\\n', 'MS4A2\\n', 'ACTR10\\n', 'POLR2H\\n', 'TAS2R46\\n', 'ORMDL3\\n', 'RGS17\\n', 'GM2A\\n', 'POLDIP3\\n', 'TAS2R39\\n', 'HLA-DMB\\n', 'GNAT2\\n', 'TUBA1B\\n', 'OR2A25\\n', 'OR6C2\\n', 'CR1\\n', 'MBD2\\n', 'CLASP2\\n', 'LCE4A\\n', 'SERPINB1\\n', 'ZNF273\\n', 'THUMPD1\\n', 'DNA2\\n', 'NCK1\\n', 'OR10H4\\n', 'SBF2\\n', 'APLN\\n', 'GALR2\\n', 'H2AC14\\n', 'PDE7B\\n', 'LGMN\\n', 'PSMF1\\n', 'OR6N2\\n', 'NRGN\\n', 'H2BC21\\n', 'GFRA2\\n', 'TLR10\\n', 'OR7E24\\n', 'ARHGEF19\\n', 'KRTAP21-3\\n', 'RPRD1B\\n', 'LAMA4\\n', 'SRSF10\\n', 'FPR2\\n', 'UTP25\\n', 'LRTOMT\\n', 'OR4C16\\n', 'COL16A1\\n', 'TRAPPC6A\\n', 'SSNA1\\n', 'SLC7A9\\n', 'GBP4\\n', 'CSNK1D\\n', 'SMAD3\\n', 'CRNKL1\\n', 'SERPINA1\\n', 'FTH1\\n', 'HDAC8\\n', 'NTSR2\\n', 'KRT12\\n', 'H2BU1\\n', 'GMIP\\n', 'BTBD6\\n', 'MC2R\\n', 'KIR3DL1\\n', 'SMG1\\n', 'OR3A2\\n', 'TLR2\\n', 'FSHR\\n', 'ECHDC2\\n', 'USP17L3\\n', 'DCAF6\\n', 'CLCNKA\\n', 'PROKR2\\n', 'FGB\\n', 'GAL\\n', 'ZNF584\\n', 'CD55\\n', 'FOSB\\n', 'VAV3\\n', 'WDR43\\n', 'RPL9\\n', 'VAMP7\\n', 'LHX3\\n', 'UTS2B\\n', 'CPSF1\\n', 'GTF3C5\\n', 'AP2S1\\n', 'DCAF10\\n', 'OR6C6\\n', 'KAT2A\\n', 'OR52L1\\n', 'PPFIA1\\n', 'MON1A\\n', 'OR2AK2\\n', 'ARHGEF4\\n', 'TAF6L\\n', 'OR5K4\\n', 'DOCK1\\n', 'OR5H14\\n', 'RPS3A\\n', 'VHL\\n', 'REPS2\\n', 'CEP164\\n', 'RNF185\\n', 'INS\\n', 'RNF34\\n', 'GTF2H2\\n', 'PSMB10\\n', 'KAT6A\\n', 'ARRB1\\n', 'TFDP1\\n', 'GPX7\\n', 'GOLGA7\\n', 'KRTAP9-8\\n', 'CUL4B\\n', 'SFN\\n', 'MC3R\\n', 'TRNT1\\n', 'OR10G4\\n', 'APLP2\\n', 'OR5P3\\n', 'RAB31\\n', 'NCAPD3\\n', 'OR5D16\\n', 'CPSF2\\n', 'RPS26\\n', 'TUBG2\\n', 'IRAK4\\n', 'CTSW\\n', 'KRTAP21-2\\n', 'TSPAN5\\n', 'IL5RA\\n', 'KRT3\\n', 'LUM\\n', 'OR5K2\\n', 'DCTN6\\n', 'PSMB2\\n', 'USP17L22\\n', 'SNAPC5\\n', 'OR9Q1\\n', 'ST6GALNAC4\\n', 'MAP3K14\\n', 'SOCS1\\n', 'SDR9C7\\n', 'STK10\\n', 'C1D\\n', 'COL4A2\\n', 'GJA5\\n', 'DERA\\n', 'CNOT1\\n', 'DDX21\\n', 'KIF21B\\n', 'OR13H1\\n', 'VAV1\\n', 'HTR4\\n', 'LGALS1\\n', 'RHOT1\\n', 'FBXL5\\n', 'ZNF529\\n', 'AEBP2\\n', 'FOXA1\\n', 'RAMP3\\n', 'PRKCG\\n', 'OR2H1\\n', 'SUZ12\\n', 'DMAP1\\n', 'PYGB\\n', 'AGXT2\\n', 'ZNF114\\n', 'OR51D1\\n', 'HSPA2\\n', 'ZNF671\\n', 'RIOK1\\n', 'CALCR\\n', 'GPR27\\n', 'ADCY7\\n', 'KIF18A\\n', 'OR2T10\\n', 'BCL2\\n', 'TAS2R41\\n', 'EGR1\\n', 'IL1RN\\n', 'CYFIP1\\n', 'PRDX2\\n', 'OR52I2\\n', 'OR2H2\\n', 'PNRC2\\n', 'H2AJ\\n', 'OR10A2\\n', 'CXCR1\\n', 'E2F2\\n', 'KRT84\\n', 'MED29\\n', 'H2AZ1\\n', 'HABP4\\n', 'PLCB2\\n', 'ASB9\\n', 'GPR32\\n', 'TUBA1A\\n', 'PLCB4\\n', 'HIVEP3\\n', 'P2RY10\\n', 'LEFTY2\\n', 'AMELX\\n', 'PSG3\\n', 'NUP62\\n', 'DIS3\\n', 'OR1N1\\n', 'FGFR4\\n', 'ARFGAP1\\n', 'HBB\\n', 'ARSA\\n', 'PRMT7\\n', 'UBE2K\\n', 'ZNF248\\n', 'ZNRF1\\n', 'CRTC1\\n', 'GLI3\\n', 'H2AC17\\n', 'MYO5A\\n', 'RAD51\\n', 'PPM1A\\n', '956531\\n', 'PSMB8\\n', 'CLEC12A\\n', 'OR4L1\\n', 'UBE2E3\\n', 'ACADM\\n', 'ATP6V1D\\n', 'OR5AR1\\n', 'PIAS3\\n', 'PAK3\\n', 'GLMN\\n', 'CXADR\\n', 'ZNF550\\n', 'OR6C68\\n', 'ZNF223\\n', 'MBD3\\n', 'ARHGAP11B\\n', 'SYVN1\\n', 'SNW1\\n', 'EIF2S3\\n', 'PRKAR2A\\n', 'KLC4\\n', 'POLR2E\\n', 'DCAF7\\n', 'TLE2\\n', 'H4C15\\n', 'FABP1\\n', 'ASB5\\n', 'ITGA2\\n', 'CEP290\\n', 'PPP1R13B\\n', 'TRIM9\\n', 'OR8H3\\n', 'XRN2\\n', 'RNF213\\n', 'CYBB\\n', '956528\\n', 'OR9K2\\n', 'CHL1\\n', 'GTF2H5\\n', 'ZNF197\\n', 'LAMC1\\n', 'KRT33B\\n', 'ZNF17\\n', 'ZNF250\\n', 'ZNF445\\n', 'GNAT3\\n', 'CCL13\\n', 'CCNA1\\n', 'BAG5\\n', 'GCA\\n', 'TMED7\\n', 'NDEL1\\n', 'OR52N1\\n', 'MMP1\\n', 'COPE\\n', 'SAP130\\n', 'CCL3L1\\n', 'STIM1\\n', 'CENPH\\n', 'COTL1\\n', 'KRTAP24-1\\n', 'RPS27\\n', 'XAB2\\n', 'OR5C1\\n', 'CEP76\\n', 'MS4A3\\n', 'GLP1R\\n', 'GORASP1\\n', 'DBI\\n', 'PSMC4\\n', 'ANPEP\\n', 'GCC1\\n', 'OR2G3\\n', 'PVR\\n', 'BHLHE40\\n', 'EIF3F\\n', 'KRTAP1-3\\n', 'RAD21\\n', 'ICOS\\n', 'DDX49\\n', 'SMO\\n', 'RAB44\\n', 'PAPOLA\\n', 'EEF2\\n', 'CDC26\\n', 'ADCY3\\n', 'TIMP1\\n', 'ABCB5\\n', 'PHC2\\n', 'ULBP1\\n', 'INTS6\\n', 'OR2T27\\n', 'KLRC2\\n', 'ASB8\\n', 'ACLY\\n', 'NBAS\\n', 'FBXO44\\n', 'ADRA1A\\n', 'NPAS2\\n', 'RHOB\\n', 'ALDH9A1\\n', 'AAAS\\n', 'HJURP\\n', 'ZNF471\\n', 'KRT71\\n', 'SAA1\\n', 'GNAS\\n', 'SERPINE1\\n', 'CX3CR1\\n', 'CUL2\\n', 'RNASET2\\n', 'CXCR2\\n', 'GPS1\\n', 'PPP2R1B\\n', 'POMC\\n', 'MAGOH\\n', '162699\\n', 'ARHGEF37\\n', 'FBXW10\\n', 'SH2B3\\n', 'OR52J3\\n', 'OR5H2\\n', 'GADD45A\\n', 'FERMT3\\n', 'CCNB1\\n', 'ITPR1\\n', 'TLR6\\n', 'RASAL3\\n', 'GRK3\\n', 'HNRNPL\\n', 'AHSG\\n', 'H2AZ2\\n', 'TMEM179B\\n', 'FFAR3\\n', 'CASP14\\n', 'FN1\\n', 'IFNA16\\n', 'EPN1\\n', 'AQR\\n', 'RAB5A\\n', 'SPARC\\n', 'AGL\\n', 'GRIN3A\\n', 'CTSC\\n', 'SP1\\n', 'ZNF334\\n', 'LRR1\\n', 'LAMP2\\n', 'SRSF11\\n', 'ZNF543\\n', 'SLC25A21\\n', 'KRTAP4-3\\n', 'UBC\\n', 'RASGRP1\\n', 'NFE2\\n', 'GAD2\\n', 'PYCARD\\n', 'MAP2K2\\n', 'ALYREF\\n', 'OR56A1\\n', 'TMX3\\n', 'OR52W1\\n', 'CDC7\\n', 'TYK2\\n', 'CEP131\\n', 'PPIL1\\n', 'DLG3\\n', 'SYNGR1\\n', 'SERPING1\\n', 'UBE2B\\n', 'KLHL21\\n', 'RAI1\\n', 'SPTBN2\\n', 'BRAF\\n', 'BRI3\\n', 'PICALM\\n', 'RPA3\\n', 'TAF11\\n', 'KRT40\\n', 'CAMK2D\\n', 'PKNOX1\\n', 'ITGAX\\n', 'DYNLRB1\\n', 'NEURL1\\n', 'ZNF611\\n', 'DOCK5\\n', 'SHC1\\n', 'TREM1\\n', 'ADCY8\\n', 'OPN1SW\\n', 'KRT15\\n', 'MED12\\n', 'PPP2R1A\\n', 'PTBP1\\n', 'CPT1C\\n', 'KCNJ11\\n', 'HDAC5\\n', 'CD244\\n', 'ARHGEF2\\n', 'CRHR2\\n', 'FURIN\\n', 'PAIP1\\n', 'FAM20C\\n', 'BDKRB1\\n', 'ARHGEF35\\n', 'CDK13\\n', 'ZNF225\\n', 'OR2L2\\n', 'CCR3\\n', 'APP\\n', 'IER3\\n', 'UTS2\\n', 'ZNF224\\n', 'CTH\\n', 'NSL1\\n', 'PAF1\\n', 'COG5\\n', 'PSMD3\\n', 'RPS19\\n', 'GPR68\\n', 'LMAN2L\\n', 'POM121\\n', 'IKBKG\\n', 'NR1H4\\n', 'OR1E1\\n', 'OR4F6\\n', 'RRP36\\n', 'WSB1\\n', 'SPN\\n', 'ACSL1\\n', 'MLEC\\n', 'CXCL3\\n', 'SPHK1\\n', 'SSU72\\n', 'MED11\\n', 'SLC22A6\\n', 'DLL4\\n', 'TNFAIP3\\n', 'DNM3\\n', 'PRMT6\\n', 'PCBP1\\n', 'IL1RAP\\n', 'CSF2RA\\n', 'KRT16\\n', 'DOCK8\\n', 'GTF2A1\\n', 'MCM5\\n', 'FBXL3\\n', 'GPI\\n', 'FOXO4\\n', 'PDHX\\n', 'H2AC15\\n', 'NMBR\\n', 'GBP1\\n', 'EGR2\\n', 'EXOSC3\\n', 'TAF6\\n', 'GAPDH\\n', 'TAS2R38\\n', 'OR4A16\\n', 'TGFBR2\\n', 'USP25\\n', 'GP1BA\\n', 'ACTL6B\\n', 'ORC3\\n', 'MUL1\\n', 'OPRD1\\n', 'ZNF707\\n', 'ZFP37\\n', 'CPNE1\\n', 'OR5AP2\\n', 'GRK5\\n', 'CXCL5\\n', 'MCRS1\\n', 'NHLRC2\\n', 'EVPL\\n', 'MC4R\\n', 'SREBF2\\n', 'ZNF418\\n', 'ZNF560\\n', 'RASGRF2\\n', 'ITGAV\\n', 'XRCC6\\n', 'INO80D\\n', 'ZKSCAN3\\n', 'LAIR1\\n', 'RAB18\\n', 'STOM\\n', 'KIF26A\\n', 'NPS\\n', 'SEC61B\\n', 'OR6C1\\n', 'MED6\\n', 'ZDHHC7\\n', 'LAMTOR2\\n', 'TRIM36\\n', 'HCFC1\\n', 'NCF4\\n', 'FGF9\\n', 'APOA2\\n', 'HNRNPC\\n', 'CCZ1\\n', 'OR2L8\\n', 'OR2T6\\n', 'RPL10\\n', 'OR2AP1\\n', 'HMOX1\\n', 'DZIP3\\n', 'GRIN2A\\n', 'HEATR1\\n', 'IL6\\n', 'CHMP3\\n', 'ITGB7\\n', 'KLRK1\\n', 'DYNC1LI2\\n', 'PRPF6\\n', 'H3C1\\n', 'PDGFRB\\n', 'KIF5A\\n', 'ZNF479\\n', 'MYC\\n', 'ITCH\\n', 'TAS2R3\\n', 'COL10A1\\n', 'MMP9\\n', 'UBE2H\\n', 'P2RX1\\n', 'NUP153\\n', 'GAK\\n', 'SLC6A1\\n', 'HSPA1B\\n', 'CFHR3\\n', 'RAD51AP1\\n', 'P2RY13\\n', 'TUBB4A\\n', 'HAO1\\n', 'COX6B1\\n', 'LTA4H\\n', 'ALDOB\\n', 'E2F3\\n', 'UNG\\n', 'ALDH1A3\\n', 'ANXA1\\n', 'ZNRF3\\n', 'CPB1\\n', 'TAF15\\n', 'LSM4\\n', 'NXT1\\n', 'DAB2\\n', 'ABCB9\\n', 'IL13RA2\\n', 'NCSTN\\n', 'WASF1\\n', 'RAB14\\n', 'DCUN1D3\\n', 'B4GALT5\\n', 'OR2Z1\\n', 'OR5D13\\n', 'PRKG1\\n', 'H2BC18\\n', 'PHAX\\n', 'OR4D10\\n', 'ZNF75D\\n', 'TGFB1\\n', 'GNB4\\n', 'OR11L1\\n', 'SMARCD3\\n', 'WAPL\\n', 'RPS4X\\n', 'MINK1\\n', 'KPNB1\\n', 'U2AF1L4\\n', 'LAT\\n', 'PHF20\\n', 'EIF3J\\n', 'ERI1\\n', 'TRAF2\\n', 'LNPEP\\n', 'ZNF304\\n', 'OR1G1\\n', 'JUNB\\n', 'CIAO2B\\n', 'BRMS1\\n', 'PTH2\\n', 'HTR1E\\n', 'ZNF662\\n', 'RAB9B\\n', 'NCK2\\n', 'CLEC4D\\n', 'PIK3R4\\n', 'OR2B2\\n', 'OR7G2\\n', 'FCN1\\n', 'ARF1\\n', 'ZNF333\\n', 'PPARG\\n', 'AKAP10\\n', 'CFL1\\n', 'NTN4\\n', 'MVB12B\\n', 'FCHO1\\n', 'ZNF700\\n', 'ZNF430\\n', 'FGFR1\\n', 'P4HB\\n', 'MUS81\\n', 'UBQLN2\\n', 'OR51B6\\n', 'CCL23\\n', 'PRKN\\n', 'ZNF20\\n', 'KIFC1\\n', 'NUP37\\n', 'UBE2C\\n', 'GHSR\\n', 'INO80C\\n', 'FPR3\\n', 'KIF24\\n', 'KLHL41\\n', 'TGFB3\\n', 'UBR1\\n', 'CDK6\\n', 'OXT\\n', 'HLA-DRB1\\n', 'TAF9B\\n', 'MAGOHB\\n', 'RPP30\\n', '3802042\\n', 'WDR20\\n', 'KDELR2\\n', 'OR5M8\\n', 'OR2AG2\\n', 'CHEK2\\n', 'PRSS23\\n', 'PABPC1\\n', 'PRKAG2\\n', 'OR2T5\\n', 'CD3G\\n', 'CAPZA2\\n', 'VPS35L\\n', 'MAPK8\\n', 'ADH5\\n', 'GRIN2C\\n', 'UTP14C\\n', 'OR5A2\\n', 'ADORA3\\n', 'OS9\\n', 'TCF12\\n', 'COPS7B\\n', 'ANXA2\\n', 'COPS5\\n', 'NELFB\\n', 'ZNF682\\n', 'NAPA\\n', 'AXIN2\\n', 'U2SURP\\n', 'ANAPC15\\n', 'FLG2\\n', 'ARF3\\n', 'H3C4\\n', 'SLCO1B3\\n', 'PRR5\\n', 'NOB1\\n', 'TAS1R3\\n', 'SPTBN1\\n', 'CUL9\\n', 'OR2A12\\n', 'TSHR\\n', 'ATP2A3\\n', 'ZNF100\\n', 'PGR\\n', 'ARHGAP17\\n', 'BBS2\\n', 'BRS3\\n', 'COL24A1\\n', 'SFTPC\\n', 'SCOC\\n', 'SPDL1\\n', 'ATP2B3\\n', 'ZNF398\\n', 'P2RY14\\n', 'ZNF347\\n', 'ZNF790\\n', 'RUNX3\\n', 'KRTAP3-2\\n', 'SOS1\\n', 'E2F8\\n', 'PTGER4\\n', 'PEA15\\n', 'WNT7B\\n', 'BEST3\\n', 'STAT3\\n', 'ITPR2\\n', 'DCTN4\\n', 'KIFC2\\n', 'OR5D18\\n', 'AGGF1\\n', 'GTF3A\\n', 'GNAO1\\n', 'SRRT\\n', 'CCT4\\n', 'GFI1\\n', 'ZNF496\\n', 'HGSNAT\\n', 'CDC16\\n', 'CLEC3B\\n', 'TRIM10\\n', 'TUBA3E\\n', 'GLIPR1\\n', 'CTSO\\n', 'ZNF528\\n', 'PPY\\n', 'TSR1\\n', 'SKA1\\n', 'POLR1F\\n', 'ZNF775\\n', 'SFRP2\\n', 'TF\\n', 'OR52I1\\n', 'ADCYAP1\\n', 'TLR1\\n', 'TOMM70\\n', 'RPL14\\n', 'MAPK14\\n', 'CSTB\\n', 'IGFBP5\\n', 'NDUFA6\\n', 'SMARCA5\\n', 'NFYA\\n', 'ZNF670\\n', 'POU2F1\\n', 'REEP4\\n', 'OR4B1\\n', 'PPIL3\\n', 'GPS2\\n', 'OR2W3\\n', 'IFT140\\n', 'ZNF703\\n', 'ZNF461\\n', 'ITK\\n', 'KRTAP25-1\\n', 'ZNF75A\\n', '341568\\n', 'OR4D1\\n', 'SFRP1\\n', 'RUVBL2\\n', 'SIRPA\\n', 'ORC6\\n', 'PADI1\\n', 'NCOA2\\n', 'ALDH7A1\\n', 'RNF146\\n', 'RAB3GAP2\\n', 'SLC6A11\\n', 'H2BC15\\n', 'TBC1D4\\n', 'HAUS5\\n', 'RGS11\\n', 'OR7C1\\n', 'FGF19\\n', 'H2AC21\\n', 'HIF1A\\n', 'TNFRSF1A\\n', 'UBA3\\n', 'IL4R\\n', 'GNB1\\n', 'H4C2\\n', 'OR5B21\\n', 'E2F5\\n', 'MAPKAPK3\\n', 'PRELP\\n', 'FBXL15\\n', 'TNF\\n', 'CCR6\\n', 'TAS2R9\\n', 'CENPX\\n', 'SNURF\\n', 'TLL2\\n', 'C12orf66\\n', 'LRP6\\n', 'LCE2D\\n', 'DCTN2\\n', 'FEM1A\\n', 'ADRA1D\\n', 'ZFP69\\n', 'CDKN1A\\n', 'NFKB1\\n', 'PELP1\\n', 'CYP4A11\\n', 'ROBO2\\n', 'FZD3\\n', 'RPS14\\n', 'CCND1\\n', 'GRIA1\\n', 'OTUD5\\n', 'OR8K1\\n', 'EDEM1\\n', 'CPT1B\\n', 'ZNF233\\n', 'AMER1\\n', 'NUP205\\n', 'DLD\\n', 'FAM20A\\n', 'UCN\\n', 'NFASC\\n', 'TRAT1\\n', 'FGF7\\n', 'ADAM10\\n', 'MAN2B1\\n', 'SPTA1\\n', 'CDH1\\n', 'TUBB3\\n', 'GPR37L1\\n', 'BLOC1S1\\n', 'CHTOP\\n', 'RBM5\\n', 'OR51E2\\n', 'LTN1\\n', 'PSTPIP1\\n', 'EPC1\\n', 'SRI\\n', 'AP1M2\\n', 'USP22\\n', 'NUP155\\n', 'XRCC2\\n', 'FZD5\\n', 'RGS18\\n', 'POLR2A\\n', 'KRTAP26-1\\n', 'PTGER2\\n', 'CHRM5\\n', 'COL4A1\\n', 'EEF1A1\\n', 'SNRNP27\\n', 'USP17L12\\n', 'ZKSCAN7\\n', 'GTF2H3\\n', 'CXCL9\\n', 'TRIM48\\n', 'SRC\\n', 'STK11\\n', 'SLC32A1\\n', 'CTSD\\n', 'POLE3\\n', 'RFC2\\n', 'PSMD12\\n', 'EXO1\\n', 'SYCP1\\n', 'UTP6\\n', 'ZNF157\\n', 'TCEA1\\n', 'AURKB\\n', 'SESN1\\n', 'ZNF777\\n', 'PRPF19\\n', 'NCBP1\\n', 'KRT1\\n', 'NUP35\\n', 'TPR\\n', 'ZSCAN25\\n', 'CDK2\\n', 'CD14\\n', 'IBSP\\n', 'FCGR2A\\n', 'AAK1\\n', 'CD226\\n', 'IL10\\n', 'DRD1\\n', 'USP17L2\\n', 'COMMD3-BMI1\\n', 'TRIM68\\n', 'CDC37L1\\n', 'TFF3\\n', 'WIPI2\\n', 'SGIP1\\n', 'CCR4\\n', 'OR2G2\\n', 'YKT6\\n', 'CEP135\\n', 'RNASE2\\n', 'RPP21\\n', 'UBB\\n', 'TBP\\n', 'DLG4\\n', 'ETS1\\n', 'TMOD4\\n', 'AMFR\\n', 'CENPF\\n', 'OR4D9\\n', 'POLR2K\\n', 'HGF\\n', 'EGFR\\n', 'POLG2\\n', 'COLGALT2\\n', 'INTS3\\n', 'LAMA5\\n', 'CD8A\\n', 'OR6T1\\n', 'OR5I1\\n', 'IRF6\\n', 'PRG3\\n', 'TUBA4A\\n', 'GJB3\\n', 'USP17L18\\n', 'OR5B2\\n', 'HSPH1\\n', 'ZNF256\\n', 'MAMLD1\\n', 'MMP13\\n', 'CDC42EP5\\n', 'SRP14\\n', 'CALML5\\n', 'DAAM1\\n', 'PDGFB\\n', 'RHOD\\n', 'OR52B2\\n', 'FRK\\n', 'PRTN3\\n', 'WWC1\\n', 'SLIT2\\n', 'GFRA3\\n', 'ZC3H8\\n', 'SYK\\n', 'NPBWR1\\n', 'MET\\n', '956535\\n', 'PTGIS\\n', 'RXRB\\n', 'NID1\\n', 'FBN3\\n', 'FOLR3\\n', 'GPSM3\\n', 'NR2F6\\n', 'USP2\\n', 'HP\\n', 'PSMD1\\n', 'OR9A4\\n', 'HRNR\\n', 'IL2RA\\n', 'HERC1\\n', 'PROKR1\\n', 'PPIA\\n', 'FABP12\\n', 'GNGT2\\n', 'OR10R2\\n', 'KRAS\\n', 'OR8U1\\n', 'ATG4B\\n', 'PHC1\\n', 'CD53\\n', 'SNRNP48\\n', 'GNG12\\n', 'SPRED2\\n', 'GLE1\\n', 'ZNF792\\n', 'KRT36\\n', 'HLA-E\\n', 'FBXO40\\n', 'FBXO2\\n', 'NOTCH3\\n', 'OR13G1\\n', 'CDT1\\n', 'LAG3\\n', 'PABPN1\\n', 'RPS7\\n', 'CENPN\\n', 'NME2\\n', 'POLR2G\\n', 'RTP5\\n', 'DENND2D\\n', 'OR4C5\\n', 'CD40LG\\n', 'HK3\\n', 'AOC2\\n', 'LIG3\\n', 'RPL8\\n', 'OR52Z1\\n', 'HLA-DPA1\\n', 'CUL4A\\n', 'OR5K3\\n', 'TRA2B\\n', 'ZNF227\\n', 'POU2F2\\n', 'TGFBR1\\n', 'TMEM115\\n', 'GRK2\\n', 'AKAP9\\n', 'NOL6\\n', 'OR10J1\\n', 'CCKAR\\n', 'CTSB\\n', 'MYBBP1A\\n', 'IRAK1\\n', 'MYB\\n', 'CALR\\n', 'FOXG1\\n', 'OR5AC2\\n', 'EIF4G3\\n', 'KIF7\\n', 'RPS19BP1\\n', 'WDR48\\n', 'IL4I1\\n', 'KPNA1\\n', 'SF3B1\\n', 'F2R\\n', 'ASB15\\n', 'OR5P2\\n', 'OR1L8\\n', 'RPS23\\n', 'ZNF213\\n', 'WDR46\\n', 'ESPL1\\n', 'SNRPA\\n', 'ZNF710\\n', 'GCGR\\n', 'KLHL25\\n', 'EVA1A\\n', 'ABR\\n', 'DCUN1D4\\n', 'SENP8\\n', 'OR4S2\\n', 'ADORA2B\\n', 'RPL26\\n', 'KIF1C\\n', 'IFNA8\\n', 'ZNF350\\n', 'ADCY5\\n', 'EIF3A\\n', 'COMMD4\\n', 'CLTC\\n', 'TBL3\\n', 'SIGLEC8\\n', 'OR4K1\\n', 'STIP1\\n', 'PAXIP1\\n', 'CD86\\n', 'ATP6AP2\\n', 'MED24\\n', 'FBXW12\\n', 'HTR1A\\n', 'OR2M2\\n', 'KSR1\\n', 'BLMH\\n', 'REEP1\\n', 'ARPC2\\n', 'KRTAP10-1\\n', 'ZNF679\\n', 'SELP\\n', 'FER\\n', 'ABCA1\\n', 'AURKA\\n', 'UPF3B\\n', 'PPIE\\n', 'TRIM29\\n', 'BANF1\\n', 'ZNF776\\n', 'CCNT1\\n', 'MMP11\\n', 'FAM13B\\n', 'LDHAL6A\\n', 'CEP192\\n', 'BCKDHB\\n', 'PKP2\\n', 'H2BC1\\n', 'APEH\\n', 'JAG2\\n', 'ZNF331\\n', 'IL27RA\\n', 'ZNF774\\n', 'MCM4\\n', 'CMTM6\\n', 'ANAPC11\\n', 'TIMP3\\n', 'SCLT1\\n', 'KRT7\\n', 'TMSB4X\\n', 'DNAJC3\\n', 'PSG11\\n', 'ARHGEF39\\n', 'EIF1AX\\n', 'GPX3\\n', 'HLA-DRA\\n', 'HSPA6\\n', 'CSTF1\\n', 'PDAP1\\n', 'IQGAP1\\n', 'TNKS\\n', 'UBE2Z\\n', 'HEYL\\n', 'HOXB2\\n', 'APRT\\n', 'NHLRC3\\n', 'GSPT2\\n', 'FGF16\\n', 'ASB1\\n', 'RBBP6\\n', 'ITGA11\\n', 'KRTAP10-2\\n', 'ELL\\n', 'MAF1\\n', 'NCKAP1\\n', 'LIN7B\\n', 'DDX52\\n', 'H2BC10\\n', 'MED4\\n', 'GOT1\\n', 'TP53RK\\n', 'USP16\\n', 'NR1I3\\n', 'BIRC2\\n', 'RPL28\\n', 'NRG1\\n', 'EPHA2\\n', 'MYBL2\\n', 'LCE3E\\n', 'SUPT5H\\n', 'WDR5\\n', 'OR52E2\\n', 'TAPBP\\n', 'CXCL11\\n', 'ADCY1\\n', 'VWF\\n', 'ALCAM\\n', 'NR1H2\\n', 'AGPAT2\\n', 'CSNK2A2\\n', 'UBE2V1\\n', 'CDC73\\n', 'EIF3K\\n', 'FTL\\n', 'DDB1\\n', 'MC5R\\n', 'ACADVL\\n', 'GAPVD1\\n', 'MOV10\\n', 'ZW10\\n', 'OR2M5\\n', 'KLK5\\n', 'ARHGAP25\\n', 'TRAPPC1\\n', 'ABRAXAS1\\n', 'TULP4\\n', 'MAD2L1\\n', 'VAV2\\n', 'DOCK7\\n', 'USP42\\n', 'PIK3R5\\n', 'CRCP\\n', 'FBXL8\\n', 'COL28A1\\n', 'NPFFR2\\n', 'SSTR5\\n', 'H2AW\\n', 'KCTD7\\n', 'USP17L1\\n', 'OR14J1\\n', 'PSMC1\\n', 'SMURF1\\n', 'SRP68\\n', 'H3C3\\n', 'ING5\\n', 'SLC6A12\\n', 'TAT\\n', 'CAMK2G\\n', 'BUB3\\n', 'CCNA2\\n', 'MAVS\\n', 'IRF4\\n', 'ZNF285\\n', 'PTEN\\n', 'PA2G4\\n', 'HCRT\\n', 'CCT8\\n', 'ARFGAP2\\n', 'MAP3K7\\n', 'KRTAP2-3\\n', 'ULK3\\n', 'OR2V2\\n', 'MAOA\\n', 'SCN3B\\n', 'PPP4R2\\n', 'SPINK9\\n', 'FGF22\\n', 'CENPE\\n', 'SHC3\\n', 'SYT8\\n', 'RAB4A\\n', 'MAFF\\n', 'EDN3\\n', 'YBX1\\n', 'HAUS4\\n', 'BIRC5\\n', 'SPCS2\\n', 'SRP72\\n', 'CSH1\\n', 'RPS11\\n', 'EHMT2\\n', 'PRDX6\\n', 'SF3B3\\n', 'PENK\\n', 'RPAP2\\n', 'GAB1\\n', 'OR4K15\\n', 'TAC3\\n', 'KIF13B\\n', 'RAD51C\\n', 'MAML3\\n', 'CENPM\\n', 'H4C9\\n', 'JAG1\\n', 'COP1\\n', 'INPP5B\\n', 'COMMD3\\n', 'TRIM63\\n', 'CAPN11\\n', 'SMARCC2\\n', 'RAB21\\n', 'EPS15L1\\n', 'PHF8\\n', 'CD33\\n', 'TNFSF12-TNFSF13\\n', 'OR5B17\\n', 'PRCC\\n', 'SLC27A2\\n', 'PLK4\\n', 'AGO3\\n', 'KIF6\\n', 'ZNF839\\n', 'INCENP\\n', 'C5AR1\\n', 'KLRD1\\n', 'OR56A3\\n', 'LRRTM3\\n', 'CARD9\\n', 'OR2B11\\n', 'COL1A1\\n', 'ZSWIM8\\n', 'ACD\\n', 'CENPO\\n', 'MDM2\\n', 'PAFAH1B2\\n', 'UGCG\\n', 'CCL22\\n', 'PDE4D\\n', 'PTGES3\\n', 'OR11H1\\n', 'RPA2\\n', 'RAB1A\\n', 'CYB5R3\\n', 'PPP1CC\\n', 'SSTR4\\n', 'HIPK1\\n', 'OR4N5\\n', 'NRG2\\n', 'OR8D1\\n', 'OR4E1\\n', 'SST\\n', 'CEACAM1\\n', 'RGR\\n', 'SLCO4C1\\n', 'PIK3R1\\n', 'FAM114A2\\n', 'OR4N2\\n', 'OR4C3\\n', 'LHB\\n', 'SLC16A1\\n', 'PIAS4\\n', 'RCHY1\\n', 'KIF2C\\n', 'OR4F15\\n', 'ADH1B\\n', 'GAS6\\n', 'PDGFC\\n', 'ZNF547\\n', 'EIF3E\\n', 'ZNF510\\n', 'SF3A1\\n', 'S1PR3\\n', 'CCKBR\\n', 'SMYD3\\n', 'FBXW2\\n', 'TNC\\n', 'CD19\\n', 'CFD\\n', 'INSL5\\n', 'OR51S1\\n', 'LCK\\n', 'CDA\\n', 'RCN1\\n', 'LAMP1\\n', 'HMG20B\\n', 'MAP2K6\\n', 'SH2D1B\\n', 'ZNF799\\n', 'USF2\\n', 'EBAG9\\n', 'KDM6A\\n', 'RAB4B\\n', 'RHNO1\\n', 'SYT2\\n', 'OR13F1\\n', 'CXCR4\\n', 'RAD9B\\n', 'CTSG\\n', 'MCF2L\\n', 'IMPDH1\\n', 'ACTR8\\n', 'WNT2B\\n', 'ESR1\\n', 'ZKSCAN4\\n', 'TRAPPC11\\n', 'HPD\\n', 'ACOX2\\n', 'TUBA8\\n', 'ATR\\n', 'ENY2\\n', 'SYT9\\n', 'CRTC2\\n', 'OR4K17\\n', 'BMP15\\n', 'OR52D1\\n', 'SRSF9\\n', 'CLEC7A\\n', 'PSME4\\n', 'RHOJ\\n', 'ZNF726\\n', 'GFRA1\\n', 'PHF5A\\n', 'OR2K2\\n', 'COL11A2\\n', 'TIMP2\\n', 'H2BC17\\n', 'B2M\\n', 'JADE2\\n', 'HEBP2\\n', 'TNIK\\n', 'KBTBD8\\n', 'FGG\\n', 'STAT5B\\n', 'PRKAA1\\n', 'PFKFB3\\n', 'ZNF473\\n', 'H3C14\\n', 'HSD3B2\\n', 'APOA5\\n', 'KLC3\\n', 'NEFL\\n', 'TERT\\n', 'TSPAN15\\n', 'OR51M1\\n', 'ITGAM\\n', 'KLHL11\\n', 'VIM\\n', 'KIF3B\\n', 'PJA1\\n', 'FEM1C\\n', 'MAPK12\\n', 'COL23A1\\n', 'GRPR\\n', 'ZNF573\\n', 'KCNC2\\n', 'BEST4\\n', 'C9\\n', 'CCL1\\n', 'POLR1D\\n', 'MAD1L1\\n', 'GNRH1\\n', 'PCGF2\\n', 'UBE2Q2\\n', 'CD36\\n', 'NOS2\\n', 'DSC1\\n', 'GTF2F2\\n', 'BDP1\\n', 'SHH\\n', 'ZNF485\\n', 'CAV2\\n', 'TMEM30A\\n', 'CCAR1\\n', 'TAF1B\\n', 'FBXO17\\n', 'ANAPC10\\n', 'ZNF681\\n', 'KAT2B\\n', 'GPC2\\n', 'ZNF23\\n', 'SPSB2\\n', 'NUP107\\n', 'FUCA1\\n', 'VPREB3\\n', 'H2AC13\\n', 'ZFYVE9\\n', 'H2AC7\\n', 'NALCN\\n', 'MECP2\\n', 'GPSM1\\n', 'TRAF1\\n', 'CEP89\\n', 'ZNF254\\n', 'OR4K2\\n', 'WDR45B\\n', 'DYNC1LI1\\n', 'ZNF626\\n', 'CHMP2B\\n', 'SOX2\\n', 'ZNF43\\n', 'AGTR2\\n', 'NR1H3\\n', 'CCNB2\\n', 'MYO9A\\n', 'CDC45\\n', 'GNRH2\\n', 'ZNF830\\n', 'CAPZB\\n', 'OR13J1\\n', 'OR56B4\\n', 'MADCAM1\\n', 'COPA\\n', 'CREG1\\n', 'PPM1B\\n', 'TAOK1\\n', 'SURF4\\n', 'GRP\\n', 'GREB1\\n', 'SIK1B\\n', 'ZNF664\\n', 'MFAP3\\n', 'NUF2\\n', 'FZD2\\n', 'ANAPC16\\n', 'KRTAP1-5\\n', 'MID1\\n', 'AGPAT3\\n', 'AKT1\\n', 'TOPBP1\\n', 'CYP7A1\\n', 'GRIN2B\\n', 'IL7R\\n', 'COL7A1\\n', 'RBCK1\\n', 'PEX13\\n', 'CCL25\\n', 'TSPAN14\\n', 'PAPPA\\n', 'PAK1\\n', 'ERCC3\\n', 'PSMD4\\n', 'A2M\\n', 'FBXO32\\n', 'ASB4\\n', 'DHX15\\n', 'HIBADH\\n', 'IFITM1\\n', 'MMP17\\n', 'AGO4\\n', 'MED26\\n', 'HOMER1\\n', 'CSNK1A1\\n', 'PSME2\\n', 'ITGB1\\n', 'RPL27\\n', 'IGF2R\\n', 'ARHGEF18\\n', 'DERL1\\n', 'PTK2\\n', 'OR10W1\\n', 'RXFP4\\n', 'GATA2\\n', 'KLHL42\\n', 'GNAI1\\n', 'ACADSB\\n', 'OR1J4\\n', 'ATF2\\n', 'AP4B1\\n', 'OR9Q2\\n', 'LRRTM2\\n', 'NRAS\\n', 'COL14A1\\n', 'IL17F\\n', 'CCND2\\n', 'ZNF431\\n', 'ZNF555\\n', 'ARHGDIB\\n', 'HIF3A\\n', 'DOCK11\\n', 'UBA1\\n', 'SERPINA3\\n', 'ZNF18\\n', 'CD1D\\n', 'RGS7\\n', 'YWHAG\\n', 'WNT3A\\n', 'OGDH\\n', 'NPFFR1\\n', 'OR2T35\\n', 'REEP3\\n', 'TOP2B\\n', 'CCR9\\n', 'SPRR2A\\n', 'MAP2K7\\n', 'TSHB\\n', 'ELP2\\n', 'CHML\\n', 'PIK3R2\\n', 'UTS2R\\n', 'PELI3\\n', 'RRN3\\n', 'ZNF730\\n', 'OSTF1\\n', 'PRL\\n', 'RPL22L1\\n', 'KCNB1\\n', 'MED17\\n', 'CSF2\\n', 'OR8B3\\n', 'ZBTB16\\n', 'VDAC2\\n', 'HLA-A\\n', 'SPTSSA\\n', 'H3C2\\n', 'ZNF2\\n', 'KCNAB1\\n', 'BRCA1\\n', 'UBE2R2\\n', 'ABI1\\n', 'MALT1\\n', 'GPR17\\n', 'ASIC1\\n', 'TAB1\\n', 'RPL23A\\n', 'ARIH2\\n', 'TBL1XR1\\n', 'RBBP7\\n', 'TTBK2\\n', 'TCF3\\n', 'CBX5\\n', 'PTGDR\\n', 'OR2T8\\n', 'OR10AD1\\n', 'TAF2\\n', 'ZNF217\\n', 'H2BC8\\n', 'OR13C8\\n', 'GJD4\\n', 'ZNF701\\n', 'GNG8\\n', 'ARPC5\\n', 'DSG3\\n', 'ARHGAP31\\n', 'DDX5\\n', 'KCNS3\\n', 'RHOA\\n', 'CEBPG\\n', 'KDM5B\\n', 'DOCK9\\n', 'OR4P4\\n', 'CREBBP\\n', 'COL26A1\\n', 'TAF7L\\n', 'CENPL\\n', 'PSIP1\\n', 'LMO7\\n', 'OR4C11\\n', 'SIRT4\\n', 'RMI1\\n', 'OR4N4\\n', 'U2AF2\\n', 'RNF138\\n', 'ATP1A2\\n', 'KRTAP10-9\\n', 'PNOC\\n', 'KIF19\\n', 'MTARC2\\n', 'QPCT\\n', '100506888\\n', 'UBE4A\\n', 'MAPK1\\n', '155459\\n', 'CFP\\n', 'KRTAP19-7\\n', 'HPSE\\n', 'OR2D2\\n', 'NUP160\\n', 'CAPN5\\n', 'HLA-DQB2\\n', 'FBXW5\\n', 'DCAF16\\n', 'ARSB\\n', 'KIF9\\n', 'SOAT2\\n', 'COG7\\n', 'CTR9\\n', 'IL6R\\n', 'CCDC8\\n', 'LPAR2\\n', 'DENND4A\\n', 'KRBOX4\\n', 'TSC1\\n', 'BCAS2\\n', 'OR8G1\\n', 'MMP2\\n', 'P2RY2\\n', 'RPL37A\\n', 'RAB3IP\\n', 'OR3A1\\n', 'POLD3\\n', 'EIF3G\\n', 'ZNF552\\n', 'GRIN2D\\n', 'PLCB1\\n', 'ARAF\\n', 'CHMP2A\\n', 'STBD1\\n', 'SHANK2\\n', 'FFAR1\\n', 'SNRNP200\\n', 'IGF1\\n', 'USP4\\n', 'POLR3G\\n', 'OR10G9\\n', 'FGF3\\n', 'RYR2\\n', 'KIF11\\n', 'MAT1A\\n', 'PYY\\n', 'HACE1\\n', 'UPF2\\n', 'MAPK3\\n', 'LEP\\n', 'KRT33A\\n', 'MCF2\\n', 'REST\\n', 'POLRMT\\n', 'TNKS2\\n', 'SNRPB\\n', 'OR10G7\\n', 'CAPN1\\n', 'EPAS1\\n', 'H2BC11\\n', 'OR4D11\\n', 'GPR84\\n', 'MAPRE1\\n', 'ELOC\\n', 'PSEN1\\n', 'CEACAM3\\n', 'GSR\\n', 'STRN\\n', 'NCKAP1L\\n', 'ZNF860\\n', 'H2AC16\\n', 'KRT13\\n', 'PSMA7\\n', 'RPL18\\n', 'KLRF1\\n', 'ZNF778\\n', 'LY96\\n', 'ATXN7\\n', 'TPP2\\n', 'KLF4\\n', 'NPSR1\\n', 'COMT\\n', 'RXFP1\\n', 'MYL3\\n', 'LIN37\\n', 'OR6V1\\n', 'THOP1\\n', 'LY6G6F\\n', 'ZNF79\\n', 'ZC3H11A\\n', 'UBE2V2\\n', 'KLHL20\\n', 'POLK\\n', 'OR2A4\\n', 'PARP10\\n', 'SEC13\\n', 'IL3\\n', 'S100P\\n', 'UBE2S\\n', 'GRHL1\\n', 'EIF2S1\\n', 'DNASE1L1\\n', 'RPL6\\n', 'OR51F2\\n', 'ZNF160\\n', 'TAS2R8\\n', 'CLU\\n', 'RGS13\\n', 'GABARAPL1\\n', 'LCP2\\n', 'RAB24\\n', 'CKS1B\\n', 'FBXL12\\n', 'OR1L3\\n', 'MPRIP\\n', 'ALDOC\\n', 'ALDOA\\n', 'KRTAP5-8\\n', 'RARA\\n', 'ICAM3\\n', 'CDKN2C\\n', 'IQGAP2\\n', 'MBD6\\n', 'RBX1\\n', 'STAG2\\n', 'USF1\\n', 'OR5M10\\n', 'OPHN1\\n', 'SH3GL1\\n', 'CAPZA3\\n', 'CPNE3\\n', 'SYNE1\\n', 'OR10H3\\n', 'OR1Q1\\n', 'PAFAH1B1\\n', 'CXCL2\\n', 'THOC2\\n', 'APC\\n', 'HLA-DQA2\\n', 'WASF3\\n', 'USP17L27\\n', 'HLA-DQB1\\n', 'USP10\\n', 'MGRN1\\n', 'FGF17\\n', 'ZNF324B\\n', 'ADRB1\\n', 'OR52K1\\n', 'GHRHR\\n', 'ROCK2\\n', 'RPL5\\n', 'TPTEP2-CSNK1E\\n', 'CENPU\\n', 'SP100\\n', 'KRTAP4-4\\n', 'RPS13\\n', 'INO80\\n', 'ASB10\\n', 'SDC1\\n', 'CEP63\\n', 'RCC2\\n', 'HRH1\\n', 'CAMK2A\\n', 'COX20\\n', 'CCT6A\\n', 'HLA-DRB4\\n', 'ZNF195\\n', 'PPBP\\n', 'NSD2\\n', 'PROK1\\n', 'OR2B6\\n', 'MANBA\\n', 'RUVBL1\\n', 'SHMT1\\n', 'PFDN4\\n', 'PERM1\\n', 'HVCN1\\n', 'FBXO15\\n', 'CD200\\n', 'KAT14\\n', 'TXNDC5\\n', 'CYP21A2\\n', 'MTNR1B\\n', 'KRTAP9-6\\n', 'SYMPK\\n', 'KIF2A\\n', 'CCNC\\n', 'KRT6A\\n', 'KRT9\\n', 'ACTG1\\n', 'EPN2\\n', 'PPARA\\n', 'ARHGEF10L\\n', 'DET1\\n', 'NDUFS4\\n', 'CENPP\\n', 'PIAS1\\n', 'CCT5\\n', 'TNFRSF11A\\n', 'SQLE\\n', 'LRG1\\n', 'OSCAR\\n', 'PSMA2\\n', 'DDX46\\n', 'ZNF737\\n', 'CENPK\\n', 'EXOSC4\\n', 'H2AC12\\n', 'COL5A2\\n', 'WDR19\\n', 'NEK2\\n', 'JUND\\n', 'USP14\\n', 'CAB39L\\n', 'TAF1D\\n', 'ERLIN2\\n', 'OR10A5\\n', 'MNAT1\\n', 'BRIP1\\n', 'FGF18\\n', 'ASB18\\n', 'ADAMTS7\\n', 'ASAH1\\n', 'OLR1\\n', 'OPRL1\\n', 'GPR132\\n', 'TUBB6\\n', 'VTN\\n', 'TUBA3D\\n', 'ACKR4\\n', 'E2F1\\n', 'LDHC\\n', 'CXCL12\\n', 'GIP\\n', 'ELP6\\n', 'RNF168\\n', 'MAGED2\\n', 'HERC2\\n', 'CCL5\\n', 'COL15A1\\n', 'ZNF587\\n', 'ZNF74\\n', 'TRAF6\\n', 'NDUFA7\\n', 'OR5L1\\n', 'RNF152\\n', 'RPS3\\n', 'CRYM\\n', 'KDM6B\\n', 'OR7A5\\n', 'SIGLEC14\\n', 'KRT34\\n', 'LCE1B\\n', 'TRRAP\\n', 'DTX2\\n', 'UNC13D\\n', 'DLL1\\n', 'RRP9\\n', 'UBR2\\n', 'TERF1\\n', 'FGF4\\n', 'TFAM\\n', 'SCAI\\n', 'OR51B5\\n', 'CCL4\\n', 'CCL27\\n', 'TEX264\\n', 'UBE3C\\n', 'UBE2F\\n', 'ENGASE\\n', 'CEP41\\n', 'N6AMT1\\n', 'NOS1\\n', 'PDPR\\n', 'AVPR1A\\n', 'GHRL\\n', 'RUNX1\\n', 'VDAC3\\n', 'CLTCL1\\n', 'ZNF517\\n', 'PFKL\\n', 'IL1RL1\\n', 'PPP4C\\n', 'TAAR6\\n', 'H2BC7\\n', 'DCAF17\\n', 'COL5A1\\n', 'ARF4\\n', 'HEY2\\n', 'PLA2G4C\\n', 'OR6N1\\n', 'FBXO9\\n', 'CAPNS1\\n', 'CCR2\\n', 'RPS4Y2\\n', 'SEL1L\\n', 'ZNF264\\n', 'UBE2L6\\n', 'RPL27A\\n', 'PUF60\\n', 'H2BC4\\n', 'TAS2R31\\n', 'H2AC4\\n', 'KBTBD7\\n', 'NUB1\\n', 'IL33\\n', 'RAPGEF3\\n', 'ZWILCH\\n', 'PCM1\\n', 'PSMB4\\n', 'OAS2\\n', 'RRH\\n', 'FGL2\\n', 'FGF2\\n', 'HTR1D\\n', 'CCK\\n', 'RGS6\\n', 'ZNF112\\n', 'MED7\\n', 'CSPG4\\n', 'ITGB2\\n', 'SULT1A3\\n', 'ICAM4\\n', 'TBK1\\n', 'PSMB5\\n', 'EIF3I\\n', 'ZNF729\\n', 'RALGAPB\\n', 'PTPN11\\n', 'NUP58\\n', 'CFH\\n', 'HERC5\\n', 'OR52M1\\n', 'POLD1\\n', 'OR4C6\\n', 'PSMB9\\n', 'TRIM37\\n', 'STON2\\n', 'TYROBP\\n', 'RPL3\\n', 'XPC\\n', 'ZNF606\\n', 'WNT11\\n', 'DNAJB1\\n', 'WWTR1\\n', 'EXOSC7\\n', 'ASXL1\\n', 'SLC22A1\\n', 'IGF2\\n', 'ZNF311\\n', 'PLEKHA1\\n', 'ERBB4\\n', 'TMBIM1\\n', 'RNF25\\n', 'CTNNB1\\n', 'KALRN\\n', 'PRLHR\\n', 'CALU\\n', 'OR6B2\\n', 'PRKAA2\\n', 'MLN\\n', 'ZNF3\\n', 'PDPK1\\n', 'RPL24\\n', 'LDHAL6B\\n', 'EHMT1\\n', 'HOXD3\\n', 'BPIFB2\\n', 'LYZ\\n', 'OR2V1\\n', 'ARHGAP15\\n', 'PSMD8\\n', 'MLYCD\\n', 'CD40\\n', 'USP17L10\\n', 'CWC22\\n', 'ASB6\\n', 'RPL26L1\\n', 'CCR8\\n', 'MYDGF\\n', 'RPL41\\n', 'OR1L6\\n', 'NUCB1\\n', 'HNRNPH1\\n', 'RASA1\\n', 'MTHFD2\\n', 'SNCA\\n', 'FGF1\\n', 'TBC1D16\\n', 'TBX5\\n', 'MAPK4\\n', 'PNLIP\\n', 'ZNF540\\n', 'GPR20\\n', 'NUP133\\n', 'HUWE1\\n', 'SLC6A13\\n', 'DEGS1\\n', 'KRTAP10-12\\n', 'SEC61A2\\n', 'LTB4R2\\n', 'CKAP4\\n', 'CDO1\\n', 'NOS3\\n', 'TICAM2\\n', 'RHOF\\n', 'CYSLTR2\\n', 'CCT3\\n', 'HMGA1\\n', 'SUPT7L\\n', 'NPY2R\\n', 'AKAP13\\n', 'SVIP\\n', 'IP6K2\\n', 'SUMO1\\n', 'SLC2A4\\n', 'DCAF13\\n', 'ISG15\\n', 'ZNF600\\n', 'ZNF394\\n', 'RGS16\\n', 'S1PR5\\n', 'THOC1\\n', 'H2BC6\\n', 'CBX2\\n', 'HSP90AA1\\n', 'FMNL3\\n', 'NUP214\\n', 'USP20\\n', 'ZNF791\\n', 'ARHGAP10\\n', 'ZNF668\\n', 'JAK2\\n', 'SMAD4\\n', 'OR4K13\\n', 'GPC6\\n', 'GSN\\n', 'PSMA6\\n', 'HAUS1\\n', 'MRTFA\\n', 'OR56A4\\n', 'OR8H2\\n', 'UBA52\\n', 'MEN1\\n', 'SPTB\\n', 'IRAG2\\n', 'YPEL5\\n', 'GTF2H4\\n', 'POLR2C\\n', 'OR6C3\\n', 'RPS29\\n', 'MKS1\\n', 'NLN\\n', 'POLE4\\n', 'EBF1\\n', 'USP1\\n', 'HERC3\\n', 'PRNP\\n', 'PCLAF\\n', 'DYNC1H1\\n', 'CDC20\\n', 'USP21\\n', 'ZNF785\\n', 'OR2T12\\n', 'USP33\\n', 'OR5M9\\n', 'UBE2E1\\n', 'SPCS3\\n', 'RFC5\\n', 'SCG3\\n', 'AGRN\\n', 'INTS10\\n', 'SRP9\\n', 'NPDC1\\n', 'RPL29\\n', 'ZNF556\\n', 'LAMTOR5\\n', 'CORIN\\n', 'COL6A3\\n', 'ALDH3A1\\n', 'OR5B12\\n', 'BRCA2\\n', 'UTP14A\\n', 'PTAFR\\n', 'LPAR3\\n', 'PSMC2\\n', 'VIPR2\\n', 'VAMP2\\n', 'OR4D2\\n', 'ZNF33B\\n', 'SATB2\\n', 'DPP7\\n', 'MYD88\\n', 'SLC22A3\\n', 'OR10AG1\\n', 'RGS10\\n', 'THRAP3\\n', 'YWHAZ\\n', 'RPL3L\\n', 'CCNK\\n', 'ARMC8\\n', 'LTBR\\n', 'OR4A5\\n', 'H3-4\\n', 'BABAM2\\n', 'ADRA2B\\n', 'UBR4\\n', 'TAS2R40\\n', 'EMILIN1\\n', 'ATP2A2\\n', 'PLPP2\\n', 'KCNAB2\\n', 'HLA-DOA\\n', 'PSG8\\n', 'TWIST1\\n', 'INTS9\\n', 'ZNF268\\n', 'PRKACA\\n', 'CBX4\\n', 'ODAM\\n', 'SNRPG\\n', 'ZNF211\\n', 'CCT2\\n', 'CRISPLD2\\n', 'NECAP2\\n', 'AZU1\\n', 'SUCNR1\\n', 'CHST15\\n', 'TMEM67\\n', 'AP1S2\\n', 'GNAI3\\n', 'RPS27L\\n', 'NANOG\\n', 'RLN2\\n', 'COLEC12\\n', 'ZNF692\\n', 'DMBT1\\n', 'TLR4\\n', 'ZFP28\\n', 'PSMA5\\n', 'BTC\\n', 'OR1J1\\n', 'PRSS2\\n', 'SSR2\\n', 'CORT\\n', 'OR1L4\\n', 'GNB5\\n', 'GPC1\\n', 'ZNF621\\n', '956532\\n', 'GLP2R\\n', 'OR56A5\\n', 'STAG3\\n', 'ITGA5\\n', 'H2AC6\\n', 'CLCNKB\\n', 'ASB16\\n', 'RPS6KA2\\n', 'PRDM7\\n', 'CD9\\n', 'BUD23\\n', 'ACP3\\n', 'FMNL1\\n', 'MTA2\\n', 'BNIP1\\n', 'RPN2\\n', 'PTPRJ\\n', 'COMMD5\\n', 'RNF14\\n', 'GRSF1\\n', 'COG6\\n', 'DYSF\\n', 'TNRC6A\\n', 'GBP7\\n', 'MKRN1\\n', 'TAS2R13\\n', 'GUCY2D\\n', 'ADH1C\\n', 'CDC42\\n', 'KLK13\\n', 'LHX2\\n', 'FANCL\\n', 'CAP1\\n', 'EME1\\n', 'USP47\\n', 'ISG20L2\\n', 'ATRIP\\n', 'SERPINC1\\n', 'SF1\\n', 'FOLR1\\n', 'CYBA\\n', 'GPR45\\n', 'EPHA10\\n', 'CYP17A1\\n', 'ATP11A\\n', 'DSG1\\n', 'LAMC2\\n', 'IMPDH2\\n', 'NUP93\\n', 'ERBB3\\n', 'HOXA2\\n', 'SEC22B\\n', 'NEDD1\\n', 'PPARGC1A\\n', 'SSTR2\\n', 'KIF22\\n', 'TUBA3C\\n', 'DEPDC1B\\n', 'H4C5\\n', 'IFI35\\n', 'PADI2\\n', 'STON1\\n', 'USP12\\n', 'RELA\\n', 'OR4S1\\n', 'P2RY11\\n', 'CDK4\\n', 'GAB2\\n', 'EDN1\\n', 'ALDH3B1\\n', 'UFL1\\n', 'TAP1\\n', 'RFC4\\n', 'TRAP1\\n', 'CRACR2A\\n', 'IRS2\\n', 'H2AX\\n', 'ZNF771\\n', 'COL18A1\\n', 'OR6K6\\n', 'MED8\\n', 'HDAC3\\n', 'TRAF3\\n', 'ZNF705E\\n', 'OR51I2\\n', 'EHD2\\n', 'BDKRB2\\n', 'ADORA1\\n', 'ZNF416\\n', 'DVL1\\n', 'TTN\\n', 'OGT\\n', 'TAF3\\n', 'TAS2R30\\n', 'TAL1\\n', 'RETN\\n', 'SEPSECS\\n', 'FBXO6\\n', 'PSENEN\\n', 'ZNF180\\n', 'ENAM\\n', 'RING1\\n', 'PLD1\\n', 'ZNF585A\\n', 'FGF20\\n', 'CAB39\\n', 'XPO5\\n', 'MAML1\\n', 'CTSH\\n', 'ZNF546\\n', 'STING1\\n', 'NAPRT\\n', 'RPA1\\n', 'ZNF764\\n', 'EEF1AKMT2\\n', 'SEC11C\\n', 'TNFSF12\\n', 'ANKRD1\\n', 'ZNF566\\n', 'ISY1-RAB43\\n', 'ITGA7\\n', 'NUP85\\n', 'MLLT1\\n', 'ZNF684\\n', 'CSNK2B\\n', 'VAPA\\n', 'IFT122\\n', 'OR2AE1\\n', 'YWHAE\\n', 'OR4F29\\n', 'MIF\\n', 'ANAPC7\\n', 'HDAC7\\n', 'HRH4\\n', 'CHD3\\n', 'RIPK1\\n', 'TRIM5\\n', 'ZNF136\\n', 'SAP18\\n', 'OR10H1\\n', 'EXOSC2\\n', 'RPS15A\\n', 'SEMA4D\\n', 'PSMB6\\n', 'ATG7\\n', 'KLHL22\\n', 'SIGLEC9\\n', 'CDK1\\n', 'ZNF419\\n', 'SNAP91\\n', 'ATP8A2\\n', 'ZNF143\\n', 'TOPORS\\n', 'SH3GL2\\n', 'GNA11\\n', 'XRN1\\n', 'APOE\\n', 'TEAD4\\n', 'RPS15\\n', 'GPR183\\n', 'PNPLA2\\n', 'FANCI\\n', 'EMD\\n', 'OR51G2\\n', 'PIANP\\n', 'AVPR2\\n', 'H2BC3\\n', 'ME1\\n', 'NEO1\\n', 'PPP1R12B\\n', 'CFTR\\n', 'CCL21\\n', 'RBP3\\n', 'MPHOSPH6\\n', 'RNF144B\\n', 'HOXB3\\n', 'DNMT3B\\n', 'ZNF750\\n', 'OR6F1\\n', 'BMS1\\n', 'AKR1A1\\n', 'CXCL10\\n', 'ZNF675\\n', 'ANGPTL4\\n', 'XRCC1\\n', 'ICAM2\\n', 'CHEK1\\n', 'GNG13\\n', 'F5\\n', 'IFNA17\\n', 'PRKAR1B\\n', 'TGM5\\n', 'RBBP8\\n', 'ITGA2B\\n', 'MAP3K3\\n', 'MMP3\\n', 'RAD9A\\n', 'OR8B12\\n', 'OR51G1\\n', 'DCUN1D1\\n', 'PBX1\\n', 'FBXL20\\n', 'TPD52\\n', 'DNAJA4\\n', 'KRT83\\n', 'PRKACG\\n', 'KDM2B\\n', 'TSC2\\n', 'SRF\\n', 'RAD18\\n', 'ASB14\\n', 'CCNF\\n', 'OR5T2\\n', 'VPREB1\\n', 'ZNF605\\n', 'FBXO7\\n', 'ZNF804B\\n', '35556781\\n', 'CUL3\\n', 'SKP1\\n', 'ZNF613\\n', 'ACOX1\\n', 'PMVK\\n', 'COL6A1\\n', 'ABCA3\\n', 'YES1\\n', 'MCM2\\n', 'BIN2\\n', 'OGG1\\n', 'S100A9\\n', 'OR14C36\\n', 'AGFG1\\n', 'RPS18\\n', 'OR10X1\\n', 'AOX1\\n', 'RPL4\\n', 'MEX3C\\n', 'KRTAP13-3\\n', 'UBA5\\n', 'OR10A7\\n', 'KRT82\\n', 'KRTAP29-1\\n', 'PSMD5\\n', 'BMI1\\n', 'ZNF559\\n', 'IL2RB\\n', 'FZD4\\n', 'TP53BP1\\n', 'DLGAP4\\n', 'CAPN3\\n', 'BCL10\\n', 'ITGA3\\n', 'SLC38A9\\n', 'PRKAB2\\n', 'GPLD1\\n', 'ZKSCAN5\\n', 'SLC5A7\\n', 'TRAPPC2\\n', 'CALM1\\n', 'ZNF189\\n', 'FBXL16\\n', 'SLC15A4\\n', 'IRF9\\n', 'ZNF257\\n', 'RRAGB\\n', 'SOCS3\\n', 'CPSF3\\n', 'LRRTM4\\n', 'OR7A17\\n', 'PDGFA\\n', 'ATP7A\\n', 'DCAF1\\n', 'ZNF436\\n', 'PARK7\\n', '441669\\n', 'RPL35\\n', 'MDM4\\n', 'LIN7A\\n', 'TXNL4A\\n', 'TRIM21\\n', 'CACNA1D\\n', 'SLC22A2\\n', 'MME\\n', 'RPL15\\n', 'HLA-G\\n', 'TIAM2\\n', 'NMU\\n', 'COPS7A\\n', 'BCAT1\\n', 'OR10P1\\n', 'KDM4B\\n', 'RAB37\\n', 'DMC1\\n', 'PDS5B\\n', 'SSR1\\n', 'NR6A1\\n', 'FBXL7\\n', 'OR2A7\\n', 'RRP8\\n', 'KRT8\\n', 'NPBWR2\\n', 'TUBB8\\n', 'GRM2\\n', 'SIGLEC5\\n', 'OR8U9\\n', 'DEFB133\\n', 'POLR2F\\n', 'PPP6R1\\n', 'WDR36\\n', 'HSPA14\\n', 'ATP11B\\n', 'ORC2\\n', 'CDC5L\\n', 'RPL22\\n', 'ELP3\\n', 'CDC37\\n', 'ZNF37A\\n', 'RAB33B\\n', 'PPP2R5C\\n', 'GNL3\\n', 'PPP2R5E\\n', 'GPR150\\n', 'DDX42\\n', 'BET1L\\n', 'CD44\\n', 'UBE2D2\\n', 'USP15\\n', 'RGS19\\n', 'MED20\\n', 'HTR2A\\n', 'MRE11\\n', 'XCR1\\n', 'PRKCD\\n', 'OR10A4\\n', 'SRSF5\\n', 'OPN1MW\\n', 'PDE6A\\n', 'SOCS6\\n', 'EREG\\n', 'RGS21\\n', 'OR2T4\\n', 'SDCCAG8\\n', 'S100A8\\n', 'TAS2R50\\n', 'SET\\n', 'ABCC10\\n', 'KMT2A\\n', 'CEACAM5\\n', 'TAF8\\n', 'FBXO11\\n', 'FXYD3\\n', 'LAMA3\\n', 'PIP4K2C\\n', 'QRFP\\n', 'PIK3C2A\\n', 'UBE3D\\n', 'CPLX1\\n', 'ATP13A4\\n', 'SCN8A\\n', 'MED27\\n', 'EXOSC9\\n', 'ZNF519\\n', 'IGFBP4\\n', 'CENPQ\\n', 'OR1C1\\n', 'KDR\\n', 'ORC5\\n', 'F2\\n', 'PRDM9\\n', 'SLC9C2\\n', 'POLA1\\n', 'ALDH3B2\\n', 'FLRT2\\n', 'RMI2\\n', 'PNP\\n', 'CDC23\\n', 'KEAP1\\n', 'ZIK1\\n', 'DEFB118\\n', 'HCAR1\\n', 'NPW\\n', 'NEDD8\\n', 'S1PR2\\n', 'CDCA5\\n', 'EPHA4\\n', 'EIF4E\\n', 'CCL19\\n', 'SMARCA2\\n', 'ERCC6L\\n', 'OR8I2\\n', 'THOC5\\n', 'MANF\\n', 'GNG10\\n', 'ABCA13\\n', 'HLA-B\\n', 'POLR1H\\n', 'OR4K5\\n', 'MLH3\\n', 'SLU7\\n', 'DTL\\n', 'B9D2\\n', 'OR13D1\\n', 'FIP1L1\\n', '956527\\n', 'CEP97\\n', 'OR10Z1\\n', 'ADAMTS14\\n', 'MAGT1\\n', 'CLEC5A\\n', 'UBXN7\\n', 'CASK\\n', 'CAPN14\\n', 'IFNA6\\n', 'SDSL\\n', 'RPL36\\n', 'ZNF77\\n', 'NMUR2\\n', 'UEVLD\\n', 'GOLGA2\\n', 'COPG1\\n', 'PTPRC\\n', 'STAG1\\n', 'ZNF773\\n', 'PSMB1\\n', 'ZNF720\\n', 'RAE1\\n', 'CTSA\\n', 'OR2J3\\n', 'HBA1\\n', 'ZNF282\\n', 'PPP2R3B\\n', 'UGT1A3\\n', 'OR6Y1\\n', 'PTK6\\n', 'MZT1\\n', 'ZFP2\\n', 'SNAPC2\\n', 'WNT6\\n', 'OPTN\\n', 'PEMT\\n', 'CUL7\\n', 'FGD1\\n', 'IFT57\\n', 'PDXK\\n', 'LCE6A\\n', 'KLHDC3\\n', 'ALOX5\\n', 'SPIDR\\n', 'CANT1\\n', 'ADRM1\\n', 'CXCL8\\n', 'PRLR\\n', 'EIF4A1\\n', 'ARHGEF9\\n', 'DIAPH2\\n', 'ZNF565\\n', 'ITGB6\\n', 'SYCE2\\n', 'OR4F3\\n', 'ZNF354A\\n', 'COX6A1\\n', 'SENP3\\n', 'H4C4\\n', 'EXOSC5\\n', 'RPL37\\n', 'ZNF483\\n', 'UBE2L3\\n', 'RPP38\\n', 'LBP\\n', 'EIF4A2\\n', 'EGF\\n', 'TCTN3\\n', 'SGF29\\n', 'SOD1\\n', 'BIRC3\\n', 'FBXO22\\n', 'ST14\\n', 'KIF3A\\n', 'TFDP2\\n', 'OR8G2P\\n', 'OR6C74\\n', 'COL8A1\\n', 'LDLRAP1\\n', 'PRSS3\\n', 'SNRPN\\n', 'NOD1\\n', 'OR13C5\\n', 'ARIH1\\n', 'ZNF699\\n', 'IFNA7\\n', 'SLC22A5\\n', 'RAP1B\\n', 'OR5T1\\n', 'KRT75\\n', 'OR10V1\\n', 'AP4S1\\n', 'PRG2\\n', 'ZNF610\\n', 'PPP3CA\\n', 'ALAS1\\n', 'RPL23\\n', 'MYH10\\n', 'WWP1\\n', 'ZNF704\\n', 'SNU13\\n', 'MTA1\\n', 'ARTN\\n', 'RAB2A\\n', 'ZNF649\\n', 'HES1\\n', 'CLCN2\\n', 'RPL36AL\\n', 'NCF1\\n', 'RNF19A\\n', 'CHERP\\n', 'TACR3\\n', 'DHX38\\n', 'P2RY12\\n', 'PNO1\\n', 'TENT4A\\n', 'PSMA3\\n', 'MPIG6B\\n', 'ITPR3\\n', 'TAAR1\\n', 'PTPRN2\\n', 'NME1-NME2\\n', 'FGF6\\n', 'UQCRB\\n', 'KLHL3\\n', 'TACR2\\n', 'DYNC1I2\\n', 'LNX1\\n', 'PDE1B\\n', 'HDAC11\\n', 'SMC1B\\n', 'KRTAP9-4\\n', 'STARD8\\n', 'CCR10\\n', 'BCKDK\\n', 'CNOT4\\n', 'ZNF705A\\n', 'PEDS1-UBE2V1\\n', 'OR51Q1\\n', 'PLEKHO2\\n', 'TRH\\n', 'ATP6V1B1\\n', 'GPR65\\n', 'GTF2B\\n', 'CAND1\\n', 'OR52B6\\n', 'NOP56\\n', 'PPP2CB\\n', 'KRT85\\n', 'F9\\n', 'HSP90AB1\\n', 'OR4X1\\n', 'CD300LG\\n', 'LTF\\n', 'GOLM1\\n', 'LIPN\\n', 'IFI27\\n', 'ZNF200\\n', 'CD93\\n', 'OXER1\\n', 'TMED3\\n', 'ANO8\\n', 'DPY30\\n', 'UBE2A\\n', 'NCAN\\n', 'DHX9\\n', 'KRT74\\n', 'EIF3B\\n', 'H2AC20\\n', 'ASB17\\n', 'AKT3\\n', 'GUSB\\n', 'SGO2\\n', 'OR52R1\\n', 'ELAVL2\\n', 'SLC24A5\\n', 'DCN\\n', 'KCMF1\\n', 'PARN\\n', '904054\\n', 'PCYOX1L\\n', 'LCE2C\\n', 'THBS1\\n', 'COX18\\n', 'TOP2A\\n', 'PSMC3\\n', 'TIRAP\\n', 'CHMP4B\\n', 'HTR6\\n', 'UBE2D4\\n', 'RAB27B\\n', 'ILF2\\n', 'ZNF337\\n', 'NFYB\\n', 'PPP2R5D\\n', 'KRTAP5-2\\n', 'IL18BP\\n', 'EEF1AKMT4-ECE2\\n', 'PQBP1\\n', 'GNG3\\n', 'OR8B8\\n', 'EVL\\n', 'MCM7\\n', 'GSTK1\\n', 'NLGN4Y\\n', 'AGK\\n', 'BRPF1\\n', 'PDIA6\\n', 'MTREX\\n', 'ZNF92\\n', 'ZNF234\\n', 'OR1K1\\n', 'RINL\\n', 'GCK\\n', 'ATP1B1\\n', 'OR56B1\\n', 'TUBB4B\\n', 'OR7C2\\n', 'OR8D4\\n', 'CXCR3\\n', 'RNF135\\n', 'PWP2\\n', 'WDR3\\n', 'H3C7\\n', 'TRIM32\\n', 'SRSF6\\n', 'HEXB\\n', 'ZNF747\\n', 'RPL31\\n', 'GZMH\\n', 'KRT81\\n', 'P4HA3\\n', 'OR1A1\\n', 'SNAPC4\\n', 'RPSA\\n', 'VPS28\\n', 'SUV39H1\\n', 'H3C11\\n', 'SMARCA4\\n', 'BRF1\\n', '155971\\n', 'MPHOSPH10\\n', 'OR11H6\\n', 'HBEGF\\n', 'RAB7A\\n', 'MAML2\\n', 'LAMB1\\n', 'CKAP5\\n', 'LSM5\\n', 'OR2J2\\n', 'TFAP2B\\n', 'KRTAP10-10\\n', 'UBA7\\n', 'KANK1\\n', 'IFNA21\\n', 'TAS2R16\\n', 'TAF4B\\n', 'TDG\\n', 'FDFT1\\n', 'KRTAP5-5\\n', 'KRTAP2-1\\n', 'CLASP1\\n', 'ASB3\\n', 'KL\\n', 'SERPIND1\\n', 'KRT20\\n', 'SCRIB\\n', 'COMP\\n', 'MNDA\\n', 'UTP4\\n', 'INTS2\\n', 'KIF25\\n', 'DNMT3A\\n', 'HTR1B\\n', 'FCGR1A\\n', 'COX7C\\n', 'PIK3R3\\n', 'ITGA4\\n', 'PRKCQ\\n', 'BCAN\\n', 'ADAM17\\n', 'NMB\\n', 'OR2F2\\n', 'OAZ2\\n', 'IL12A\\n', 'GNS\\n', 'SLC11A1\\n', 'RPS6KA1\\n', 'RAP2B\\n', 'RTP4\\n', 'COL9A3\\n', 'GAD1\\n', 'LIMS1\\n', 'MGAM\\n', 'CLPS\\n', 'ITGAL\\n', 'CCNH\\n', 'F13A1\\n', 'NCAM1\\n', 'CTSS\\n', 'ZNF212\\n', 'GNG5\\n', 'YWHAB\\n', 'GHRH\\n', 'FBXL4\\n', 'PKP1\\n', 'ZNF426\\n', 'ARSG\\n', 'MAP3K1\\n', 'RPS28\\n', 'LILRA3\\n', 'GIPR\\n', 'RNF114\\n', 'FBXO21\\n', 'DTX1\\n', 'OR1L1\\n', 'H3C8\\n', 'WNK3\\n', 'CCL28\\n', 'MTM1\\n', 'TLR9\\n', 'U2AF1L5\\n', 'CEP250\\n', 'TNRC6B\\n', 'QRFPR\\n', 'SRSF7\\n', 'AXIN1\\n', 'OR11A1\\n', 'IL2RG\\n', 'RGS9\\n', 'BST1\\n', 'MED25\\n', 'PGLYRP1\\n', 'KIF12\\n', 'CAPN2\\n', 'AREG\\n', 'CSTF2T\\n', 'REEP5\\n', 'CXCL16\\n', 'VPS36\\n', 'ZNF691\\n', 'INTS11\\n', 'RTP1\\n', 'TAB2\\n', 'KIF21A\\n', 'GPR18\\n', 'ORC1\\n', 'SGK1\\n', 'SPRED1\\n', 'MPO\\n', 'PROC\\n', 'ASH2L\\n', 'MED22\\n', 'SIAH1\\n', 'VIP\\n', 'ACTN2\\n', 'ZNF568\\n', 'PSMD6\\n', 'RXRA\\n', 'GPR161\\n', 'DLC1\\n', 'UBE3B\\n', 'RNF4\\n', 'OR8U3\\n', 'USP34\\n', 'ZCRB1\\n', 'TAS2R5\\n', 'LAMTOR3\\n', 'ELOB\\n', 'ZNF627\\n', 'OTUB1\\n', 'OR13A1\\n', 'HRH3\\n', 'RAB41\\n', 'ACBD3\\n', 'DNM1\\n', 'RPLP0\\n', 'ADH7\\n', 'KRT10\\n', 'FANCA\\n', 'GP6\\n', 'ZNF658\\n', 'HECW2\\n', 'NDC1\\n', 'ZNF586\\n', 'HDAC2\\n', 'KRTAP4-5\\n', 'RRAGC\\n', 'PCNA\\n', 'SPCS1\\n', 'TAAR2\\n', 'ZNF551\\n', 'HMOX2\\n', 'POLR2J\\n', 'CCL16\\n', 'ACTB\\n', 'NEDD4\\n', 'BRD8\\n', 'GNGT1\\n', 'TPX2\\n', 'LDHA\\n', 'PDE2A\\n', 'OR4C15\\n', 'ZNF432\\n', 'DLST\\n', 'CD207\\n', 'OR1J2\\n', 'PGAM1\\n', 'GRM1\\n', 'H2BC9\\n', 'FOXK1\\n', 'THOC6\\n', 'SMC1A\\n', 'FZR1\\n', 'WNT5A\\n', 'MELTF\\n', 'LRRC41\\n', 'NUMB\\n', 'SETD1A\\n', 'ATAT1\\n', 'DYNC1I1\\n', 'NMUR1\\n', 'ELANE\\n', 'EIF4G1\\n', 'COL3A1\\n', 'CD3E\\n', 'PHF21A\\n', 'ZNF772\\n', 'CD80\\n', 'OR4F16\\n', 'ETF1\\n', 'DNAJC13\\n', 'RAC3\\n', 'PSMD10\\n', 'ARHGAP36\\n', 'FZD7\\n', 'ZNF770\\n', 'SLC10A1\\n', 'COMMD1\\n', 'DENND2A\\n', 'TRIO\\n', 'PTPRS\\n', 'KBTBD13\\n', 'OR5K1\\n', 'ISY1\\n', 'IKZF1\\n', 'H4C11\\n', 'SRSF3\\n', 'STX1A\\n', 'BSG\\n', 'OR5B3\\n', 'SPTBN4\\n', 'TAS1R1\\n', 'NUP88\\n', 'CEP43\\n', 'EXOSC8\\n', 'GP9\\n', 'APCS\\n', 'DCTN5\\n', 'CDC40\\n', 'RPL21\\n', 'ATP2B4\\n', 'OR2L13\\n', 'OR2AG1\\n', 'CD4\\n', 'TCF7\\n', 'ALDH2\\n', 'WDR33\\n', 'KITLG\\n', 'ZNF667\\n', 'OR2A1\\n', 'MOSPD2\\n', 'RAC2\\n', 'TCF7L2\\n', 'DTX3L\\n', 'DDX39B\\n', 'FUCA2\\n', 'KHSRP\\n', 'CHUK\\n', 'RNASEL\\n', 'FCF1\\n', 'SLC22A8\\n', 'SLX1B\\n', 'H2AC18\\n', 'OR52N2\\n', 'CARNS1\\n', 'SEC24B\\n', 'SPC24\\n', 'GPR55\\n', 'AP2B1\\n', 'RBM4\\n', 'TAS2R10\\n', 'ZNF696\\n', 'ZNF680\\n', 'EIF3D\\n', 'RPTOR\\n', 'NDUFB3\\n', 'ABCC9\\n', 'CMC2\\n', 'POLR3F\\n', 'DEFB105A\\n', 'MED14\\n', 'ARHGDIA\\n', 'COL4A3\\n', 'EPHB4\\n', 'NFATC1\\n', 'ZNF34\\n', 'ZNF544\\n', 'MEF2C\\n', 'DNMT3L\\n', 'NR5A2\\n', 'WASF2\\n', 'ABCB1\\n', 'IRS1\\n', 'ARCN1\\n', 'CETN2\\n', 'TERF2IP\\n', 'RPL7A\\n', 'GAA\\n', 'ZNF614\\n', 'OR9A2\\n', '956533\\n', 'NFKBIA\\n', 'CARM1\\n', 'CAPN12\\n', 'HLA-DOB\\n', 'ZNF709\\n', 'INTS8\\n', 'CST3\\n', 'CNTRL\\n', 'SPC25\\n', 'KLHL9\\n', 'H4C8\\n', 'FKBP4\\n', 'FBXL14\\n', 'RHO\\n', 'BUB1B\\n', 'MAP2K1\\n', 'ASB2\\n', 'ARHGEF16\\n', 'BICD2\\n', 'GNA13\\n', 'TFRC\\n', 'TFB2M\\n', 'OR10H5\\n', 'SPTBN5\\n', 'RCE1\\n', 'OR2M4\\n', 'ZNF615\\n', 'SLC25A12\\n', 'EBNA1BP2\\n', 'TAF1L\\n', 'SCUBE3\\n', 'CLP1\\n', 'OPN1MW2\\n', 'ALPL\\n', 'PROS1\\n', 'DECR2\\n', 'MMP19\\n', 'MED1\\n', 'PTTG1\\n', 'NPY4R2\\n', 'CNIH1\\n', 'ZNF155\\n', 'FCGR3B\\n', 'ALMS1\\n', 'CHRNB4\\n', 'ZNF230\\n', 'PSMB11\\n', 'CSF1\\n', 'RIN1\\n', 'PDGFRA\\n', 'GTF2H1\\n', 'NID2\\n', 'BECN1\\n', 'TLE1\\n', 'CLIP1\\n', 'RGS20\\n', 'RPLP2\\n', 'ATXN7L3\\n', 'RHOQ\\n', 'RAB5B\\n', 'MED13L\\n', 'GYPA\\n', 'SHC2\\n', 'ZNF567\\n', 'RBFOX2\\n', 'UBE2N\\n', 'H3C12\\n', 'UBAC1\\n', 'DLG1\\n', 'RNPS1\\n', 'USP17L28\\n', 'OR2Y1\\n', 'OR5A1\\n', 'PTGES2\\n', 'POLR3GL\\n', 'PLAUR\\n', 'FBXW4\\n', 'PTH\\n', 'AGTPBP1\\n', 'GPC4\\n', 'CPSF4\\n', 'POLD4\\n', 'RAB13\\n', 'EED\\n', 'CTSV\\n', 'NFKB2\\n', 'NPC2\\n', 'LHCGR\\n', 'GOLGA1\\n', 'OR5M1\\n', 'HNRNPK\\n', 'ZNF500\\n', 'RPL17\\n', 'MIS18BP1\\n', 'ARHGEF40\\n', 'RBL1\\n', 'MLST8\\n', 'PKM\\n', 'OR51I1\\n', 'PTK2B\\n', 'RHOBTB2\\n', 'CASP8\\n', 'OR6K3\\n', 'LMNB1\\n', 'TREM2\\n', 'FUS\\n', 'NOD2\\n', 'ARHGEF15\\n', 'RPL39\\n', 'ZNF266\\n', 'OR5W2\\n', 'NUMA1\\n', 'GNG7\\n', 'ZNF641\\n', 'OR2A5\\n', 'VPS45\\n', 'CYSTM1\\n', 'RNF217\\n', 'SEH1L\\n', 'MCEMP1\\n', 'SSTR3\\n', 'KLB\\n', 'PREB\\n', 'ZIM3\\n', 'CCL20\\n', 'MMP25\\n', 'ADH1A\\n', 'APH1B\\n', 'KRTAP4-2\\n', 'AHI1\\n', 'ZNF274\\n', 'OR13C3\\n', 'CD101\\n', 'OR10H2\\n', 'RAP1A\\n', 'ZNF470\\n', 'TRIM62\\n', 'CCDC22\\n', 'HNRNPM\\n', 'ADH4\\n', 'FABP5\\n', 'CASP3\\n', 'ELP4\\n', 'EFNA2\\n', 'OR8B4\\n', 'AHR\\n', 'GABBR1\\n', 'OBSCN\\n', 'NELFA\\n', 'GNG4\\n', 'IGF2BP1\\n', 'RPL13\\n', 'ATN1\\n', 'SLC2A5\\n', 'SLC16A7\\n', 'NRG3\\n', 'RDX\\n', 'CENPA\\n', 'COL9A1\\n', 'NBEAL2\\n', 'RAMP1\\n', 'ACTR3\\n', 'FRS2\\n', 'ADSS2\\n', 'RGL1\\n', 'TFAP2A\\n', 'PSMB3\\n', 'DIMT1\\n', 'HSF1\\n', 'ANKRD9\\n', 'UPF3A\\n', 'MED10\\n', 'PNPLA5\\n', 'TERF2\\n', 'ZIM2\\n', 'ATP9A\\n', 'FAF2\\n', 'USP17L17\\n', 'MED31\\n', 'VEGFA\\n', 'RXFP3\\n', 'OR5F1\\n', 'PRPF8\\n', 'CLIC2\\n', 'UBD\\n', 'PTPRA\\n', 'NDC80\\n', 'COL20A1\\n', 'POLR1A\\n', 'APBB1\\n', 'NCOR1\\n', 'PLCG2\\n', 'DNMT1\\n', 'HSD3B1\\n', 'USP13\\n', 'SNAP29\\n', 'KLHL5\\n', 'KNTC1\\n', 'PRKCB\\n', 'USP19\\n', 'PLIN1\\n', 'H3C13\\n', 'TRIP12\\n', 'COL9A2\\n', 'NDUFV1\\n', 'DAB2IP\\n', 'CYP4B1\\n', 'OR2M3\\n', 'TNNC1\\n', 'MZT2B\\n', 'GLYAT\\n', 'DBNL\\n', 'SCMH1\\n', 'CRTC3\\n', 'WDR18\\n', 'ODF2\\n', 'POP5\\n', 'RPL34\\n', 'SYNJ1\\n', 'JUN\\n', 'CBFB\\n', 'MED13\\n', 'ERBIN\\n', 'PLAC8\\n', 'ZNF417\\n', 'FGFR2\\n', 'EXOC5\\n', 'S100A11\\n', 'SEC61A1\\n', 'GPER1\\n', 'RAD17\\n', 'TRAF7\\n', 'CSNK1E\\n', 'SH3GL3\\n', 'HSP90B1\\n', 'LHX4\\n', 'POLR1G\\n', 'OR9G4\\n', 'CLOCK\\n', 'CDC14B\\n', 'OPTC\\n', 'PACSIN3\\n', 'CNKSR2\\n', 'FTSJ3\\n', 'AMY2B\\n', 'SEC23A\\n', 'ENPP4\\n', 'SCNN1B\\n', 'TAC1\\n', 'ADA2\\n', 'PHLPP1\\n', 'SH3RF1\\n', 'P2RY1\\n', 'CSF2RB\\n', 'NUP54\\n', 'QSOX1\\n', 'OXTR\\n', 'ZNF138\\n', 'ADAM8\\n', 'LGALS3\\n', 'MFGE8\\n', 'PIK3CD\\n', 'NUDC\\n', 'TNFRSF10D\\n', 'CSAD\\n', 'KIF4B\\n', 'OR6B3\\n', 'COPG2\\n', 'AGA\\n', 'NELFE\\n', 'DEK\\n', 'ACTL6A\\n', 'CIITA\\n', 'NUP42\\n', 'ACTR2\\n', 'DNAJB6\\n', 'RRP7A\\n', 'UNKL\\n', 'OR52N5\\n', 'LMAN1L\\n', 'SIRPB1\\n', 'LRP1\\n', 'ARHGEF10\\n', 'IST1\\n', 'FBL\\n', 'RB1\\n', 'HCRTR2\\n', 'OR4A47\\n', 'PTRH2\\n', 'OR52E8\\n', 'PIGR\\n', 'MBD1\\n', 'ZFP1\\n', 'LPAR1\\n', 'TRIM25\\n', 'ZNF616\\n', 'TIAM1\\n', 'TBL1X\\n', 'TAF1C\\n', 'ZNF101\\n', 'TP53\\n', 'ZNF660\\n', 'GATAD2A\\n', 'TGS1\\n', 'VCAN\\n', 'P4HA1\\n', 'CHMP4A\\n', 'SREBF1\\n', 'TXNRD1\\n', 'CARD11\\n', 'CAV1\\n', 'RGS5\\n', 'ARPC1A\\n', 'SEM1\\n', 'OR52E4\\n', 'NDUFB5\\n', 'PGM1\\n', 'ARHGEF3\\n', 'CNTN1\\n', 'NPY1R\\n', 'CEP70\\n', 'MARK3\\n', 'OPRM1\\n', 'ELMO2\\n', 'EPHA1\\n', 'CD99L2\\n', 'OR51J1\\n', 'BPI\\n', 'OR2S2\\n', 'SF3B4\\n', 'PHF19\\n', 'TUBB2A\\n', 'ZNF597\\n', 'RNASE3\\n', 'USP17L20\\n', 'YWHAQ\\n'], np.int64(902): ['SNCAIP\\n'], np.int64(903): ['TIMM17A\\n', 'ATP5MC3\\n'], np.int64(904): ['AK7\\n'], np.int64(905): ['DNAJC6\\n', 'SNAPIN\\n'], np.int64(906): ['LSM6\\n'], np.int64(907): ['CLDN15\\n'], np.int64(908): ['RAB30\\n'], np.int64(909): ['SGK2\\n'], np.int64(910): ['NNT\\n'], np.int64(911): ['LTV1\\n'], np.int64(912): ['EXOC6\\n', 'KIF5C\\n'], np.int64(913): ['MERTK\\n'], np.int64(914): ['MT-ATP6\\n'], np.int64(915): ['MIA3\\n', 'FSTL3\\n'], np.int64(916): ['PITRM1\\n'], np.int64(917): ['BET1\\n'], np.int64(918): ['TNNT3\\n'], np.int64(919): ['HDGF\\n'], np.int64(920): ['TBC1D8B\\n'], np.int64(921): ['B3GLCT\\n', 'ADAMTS12\\n'], np.int64(922): ['THRB\\n', 'IAPP\\n'], np.int64(923): ['AKAP1\\n'], np.int64(924): ['ARSD\\n'], np.int64(925): ['MRPL12\\n', 'MRPL49\\n', 'MRPL19\\n', 'MRPS2\\n', 'GADD45GIP1\\n', 'MRPS36\\n', 'MRPL34\\n', 'MRPS9\\n', 'TSFM\\n', 'OXA1L\\n', 'MRPS35\\n', 'ERAL1\\n', 'MRPL16\\n', 'MRPL41\\n', 'MTRF1L\\n', 'DAP3\\n', 'MRPS31\\n', 'MRPL39\\n', 'MRPL14\\n', 'MRPS15\\n', 'MRPL36\\n', 'MRPL47\\n', 'MRPS33\\n', 'MRPS10\\n', 'MRPL23\\n', 'MRPS28\\n', 'MRPL32\\n', 'MRPL57\\n', 'MRPL51\\n', 'MRPL27\\n', 'CHCHD1\\n', 'AURKAIP1\\n', 'MRPS22\\n', 'MRPS12\\n', 'MRPS27\\n', 'MRPS25\\n', 'MRPL43\\n', 'MRPL38\\n', 'PTCD3\\n', 'MRPL1\\n', 'MRPL55\\n', 'MRPL21\\n', 'MTFMT\\n', 'MRPL22\\n', 'MRPL53\\n', 'MRPS30\\n', 'MRPL24\\n', 'MRPL58\\n', 'MRPL11\\n', 'MRPS21\\n', 'GFM2\\n', 'MRPS24\\n', 'MRPL35\\n', 'MRPS23\\n', 'MRPS11\\n', 'MRPS34\\n', 'MRPS14\\n', 'MRPL33\\n', 'MRPL52\\n', 'MRPL54\\n', 'MRPS18A\\n', 'MRPL28\\n', 'MRPL40\\n', 'MRPL50\\n', 'MRPS17\\n', 'MRPS16\\n', 'MRPL44\\n', 'MRPL42\\n', 'MRPL48\\n', 'MRPL9\\n', 'MRPL4\\n', 'MRPL30\\n', 'MRPL15\\n', 'MRPS6\\n', 'TUFM\\n', 'MRPL18\\n', 'MRPL10\\n', 'MRPS26\\n', 'MRPL46\\n'], np.int64(926): ['TNFSF11\\n'], np.int64(927): ['CITED1\\n'], np.int64(928): ['THBS2\\n', 'LILRA1\\n', 'CD200R1\\n'], np.int64(929): ['SEC22A\\n'], np.int64(930): ['WDR35\\n', 'DYNC2LI1\\n'], np.int64(931): ['ADSL\\n'], np.int64(932): ['WBP4\\n', 'SF3A2\\n'], np.int64(933): ['GIT1\\n', 'EPHB1\\n', 'MYL12A\\n', 'EPHA8\\n'], np.int64(934): ['ST3GAL4\\n', 'GCNT1\\n'], np.int64(935): ['SLC9A9\\n'], np.int64(936): ['MICA\\n', 'JAML\\n', 'KIR2DL2\\n', 'SIGLEC7\\n'], np.int64(937): ['ME2\\n'], np.int64(938): ['GOLIM4\\n'], np.int64(939): ['KRT27\\n', 'KRT25\\n', 'KRTAP6-1\\n'], np.int64(940): ['KCNK4\\n'], np.int64(941): ['MSLN\\n'], np.int64(942): ['NOP58\\n', 'EXOSC10\\n'], np.int64(943): ['MRPS18C\\n'], np.int64(944): ['ZNF732\\n'], np.int64(945): ['KMT5A\\n'], np.int64(946): ['PYGO2\\n'], np.int64(947): ['TSR3\\n'], np.int64(948): ['SOS2\\n', 'ARHGEF38\\n', 'RHOT2\\n']}\n",
      "********************\n",
      "distance_matrix\n",
      "[[0.  1.  0.8 ... 0.8 0.8 0.8]\n",
      " [1.  0.  1.  ... 1.  1.  1. ]\n",
      " [0.8 1.  0.  ... 0.6 0.  0.6]\n",
      " ...\n",
      " [0.8 1.  0.6 ... 0.  0.6 0.6]\n",
      " [0.8 1.  0.  ... 0.6 0.  0.6]\n",
      " [0.8 1.  0.6 ... 0.6 0.6 0. ]]\n",
      "********************\n"
     ]
    }
   ],
   "source": [
    "#| eval: false\n",
    "for key in cmmd_output.keys():\n",
    "    print(key)\n",
    "    print(cmmd_output[key])\n",
    "    print(\"*\" * 20)"
   ]
  },
  {
   "cell_type": "code",
   "execution_count": 12,
   "metadata": {},
   "outputs": [
    {
     "data": {
      "text/plain": [
       "(5609, 5609)"
      ]
     },
     "execution_count": 12,
     "metadata": {},
     "output_type": "execute_result"
    }
   ],
   "source": [
    "#| eval: false\n",
    "cmmd_output[\"distance_matrix\"].shape"
   ]
  },
  {
   "cell_type": "code",
   "execution_count": 13,
   "metadata": {},
   "outputs": [
    {
     "data": {
      "text/plain": [
       "array([[0. , 1. , 0.8, ..., 0.8, 0.8, 0.8],\n",
       "       [1. , 0. , 1. , ..., 1. , 1. , 1. ],\n",
       "       [0.8, 1. , 0. , ..., 0.6, 0. , 0.6],\n",
       "       ...,\n",
       "       [0.8, 1. , 0.6, ..., 0. , 0.6, 0.6],\n",
       "       [0.8, 1. , 0. , ..., 0.6, 0. , 0.6],\n",
       "       [0.8, 1. , 0.6, ..., 0.6, 0.6, 0. ]])"
      ]
     },
     "execution_count": 13,
     "metadata": {},
     "output_type": "execute_result"
    }
   ],
   "source": [
    "#| eval: false\n",
    "dm = cmmd_output[\"distance_matrix\"]\n",
    "dm"
   ]
  },
  {
   "cell_type": "code",
   "execution_count": 14,
   "metadata": {},
   "outputs": [
    {
     "data": {
      "text/plain": [
       "array([0. , 0.2, 0.4, 0.6, 0.8, 1. ])"
      ]
     },
     "execution_count": 14,
     "metadata": {},
     "output_type": "execute_result"
    }
   ],
   "source": [
    "#| eval: false\n",
    "np.unique(dm)"
   ]
  },
  {
   "cell_type": "code",
   "execution_count": 15,
   "metadata": {},
   "outputs": [
    {
     "data": {
      "image/png": "[encoded data removed]",
      "text/plain": [
       "<Figure size 640x480 with 1 Axes>"
      ]
     },
     "metadata": {},
     "output_type": "display_data"
    }
   ],
   "source": [
    "#| eval: false\n",
    "sns.histplot(cmmd_output[\"distance_matrix\"].flatten(), stat=\"density\");"
   ]
  },
  {
   "cell_type": "code",
   "execution_count": 16,
   "metadata": {},
   "outputs": [
    {
     "data": {
      "text/plain": [
       "array([[ 969,  935,  842,  902,  901],\n",
       "       [ 711,  712,  711,  710,  698],\n",
       "       [ 736,  751, 1002,  810,  901],\n",
       "       ...,\n",
       "       [ 789,  751,  782,  931,  901],\n",
       "       [ 736,  751, 1002,  810,  901],\n",
       "       [ 966,  751,  986,  852,  901]])"
      ]
     },
     "execution_count": 16,
     "metadata": {},
     "output_type": "execute_result"
    }
   ],
   "source": [
    "#| eval: false\n",
    "gcm = cmmd_output[\"gene_community_matrix\"]\n",
    "gcm"
   ]
  },
  {
   "cell_type": "code",
   "execution_count": 17,
   "metadata": {},
   "outputs": [
    {
     "data": {
      "text/plain": [
       "(5609, 5)"
      ]
     },
     "execution_count": 17,
     "metadata": {},
     "output_type": "execute_result"
    }
   ],
   "source": [
    "#| eval: false\n",
    "gcm.shape"
   ]
  },
  {
   "cell_type": "code",
   "execution_count": 18,
   "metadata": {},
   "outputs": [
    {
     "data": {
      "text/plain": [
       "dict"
      ]
     },
     "execution_count": 18,
     "metadata": {},
     "output_type": "execute_result"
    }
   ],
   "source": [
    "#| eval: false\n",
    "l_constant = cmmd_output[\"l_constant\"]\n",
    "type(l_constant)"
   ]
  },
  {
   "cell_type": "code",
   "execution_count": 19,
   "metadata": {},
   "outputs": [
    {
     "data": {
      "text/plain": [
       "380"
      ]
     },
     "execution_count": 19,
     "metadata": {},
     "output_type": "execute_result"
    }
   ],
   "source": [
    "#| eval: false\n",
    "len(l_constant.keys())"
   ]
  },
  {
   "cell_type": "code",
   "execution_count": 20,
   "metadata": {},
   "outputs": [
    {
     "data": {
      "text/plain": [
       "dict_keys(['gene_community_matrix', 'l_constant', 'distance_matrix'])"
      ]
     },
     "execution_count": 20,
     "metadata": {},
     "output_type": "execute_result"
    }
   ],
   "source": [
    "cmmd_output.keys()"
   ]
  },
  {
   "cell_type": "code",
   "execution_count": null,
   "metadata": {},
   "outputs": [],
   "source": []
  }
 ],
 "metadata": {
  "kernelspec": {
   "display_name": "python3",
   "language": "python",
   "name": "python3"
  },
  "language_info": {
   "codemirror_mode": {
    "name": "ipython",
    "version": 3
   },
   "file_extension": ".py",
   "mimetype": "text/x-python",
   "name": "python",
   "nbconvert_exporter": "python",
   "pygments_lexer": "ipython3",
   "version": "3.12.5"
  }
 },
 "nbformat": 4,
 "nbformat_minor": 2
}
