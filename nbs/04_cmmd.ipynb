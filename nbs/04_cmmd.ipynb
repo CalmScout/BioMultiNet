{
 "cells": [
  {
   "cell_type": "markdown",
   "metadata": {},
   "source": [
    "# CmmD: Continual Multiplex network Module Detector"
   ]
  },
  {
   "cell_type": "markdown",
   "metadata": {},
   "source": [
    "Python implementation of the algorithm originally proposed in [\"The multilayer community structure of medulloblastoma\" by Iker Núñez-Carpintero et. al.](https://www.sciencedirect.com/science/article/pii/S2589004221003333).\n",
    "\n",
    "Implementation relies on [MolTi-DREAM](https://github.com/gilles-didier/MolTi-DREAM) for communities detection problem.\n",
    "\n",
    "* Make sure to add molti-console as an executable program from any directory by adding it to your ~/.bashrc file. (This file may change depending on your OS ditribution)"
   ]
  },
  {
   "cell_type": "markdown",
   "metadata": {},
   "source": [
    "## 0. Import libraries and define paths"
   ]
  },
  {
   "cell_type": "code",
   "execution_count": 24,
   "metadata": {},
   "outputs": [],
   "source": [
    "import os\n",
    "import sys\n",
    "import subprocess\n",
    "import numpy as np\n",
    "from concurrent.futures import ThreadPoolExecutor\n",
    "from scipy.spatial.distance import pdist, squareform\n",
    "import seaborn as sns"
   ]
  },
  {
   "cell_type": "code",
   "execution_count": 5,
   "metadata": {},
   "outputs": [],
   "source": [
    "def CmmD(nodelist=None, input_layers=None, resolution_start=None, resolution_end=None, interval=None, \n",
    "         distmethod=\"hamming\", threads=1, destfile_community_analysis=None):\n",
    "    \n",
    "    \"\"\"\n",
    "    Compute CmmD multilayer community trajectory analysis for a set of given networks.\n",
    "\n",
    "    Parameters\n",
    "    ----------\n",
    "    nodelist : list, optional\n",
    "        A list with the unique nodes that we want to appear in the final output. If not given, all nodes of the multiplex will be in the final output (nodelist= NULL)\n",
    "    input_layers : list\n",
    "        A vector of strings containing the paths where the different network layers are located in the system. Networks should be a two column file representing the edges of the graph.\n",
    "    resolution_start : float\n",
    "        The first gamma resolution parameter to use in the different MolTi's analysis\n",
    "    resolution_end : float\n",
    "        The last gamma resolution parameter to use in the different MolTi's analysis.\n",
    "    interval : float\n",
    "        The interval of the resolution parameter to use. \n",
    "    distmethod : str, optional\n",
    "        A distance method metric to use to compute the trajectories. Defaults to \"hamming\" for hamming distance, but accepts any other metric supplied by scipy.spatial.distance.pdist.\n",
    "    threads : int, optional\n",
    "        The number of threads to use for the computation of the distance matrix. Defaults to 1.\n",
    "    destfile_community_analysis : str, optional\n",
    "        The path to save Molti's output files. Defaults to \"Output/\".\n",
    "\n",
    "    Returns\n",
    "    -------\n",
    "    A dictionary containing the following keys:\n",
    "        gene_community_matrix: A matrix where the rows correspond to the different genes, and the columns to the different community structures. The values of the matrix are the cluster to which the gene belongs in the corresponding community structure.\n",
    "        l_constant: A dictionary where the keys are the different community structures, and the values are the list of genes that belong to that community structure.\n",
    "        distance_matrix: A matrix with the hamming distances between all pairs of genes.\n",
    "    \"\"\"\n",
    "    if input_layers is None or len(input_layers) < 1:\n",
    "        raise ValueError(\"ERROR: Input_layers argument must be a list of at least 1 network file\")\n",
    "    \n",
    "    if not isinstance(resolution_end, (int, float)):\n",
    "        raise ValueError(\"ERROR: Resolution parameter must be a number\")\n",
    "    \n",
    "    if not isinstance(resolution_start, (int, float)):\n",
    "        raise ValueError(\"ERROR: Resolution parameter must be a number\")\n",
    "    \n",
    "    if not isinstance(interval, (int, float)):\n",
    "        raise ValueError(\"ERROR: Interval value must be a number\")\n",
    "    \n",
    "    if not isinstance(destfile_community_analysis, str):\n",
    "        raise ValueError(\"ERROR: destfile_community_analysis expects a character string\")\n",
    "    \n",
    "    if not isinstance(distmethod, str):\n",
    "        raise ValueError(\"ERROR: distmethod expects a character string\")\n",
    "    \n",
    "    if not isinstance(threads, int):\n",
    "        raise ValueError(\"ERROR: Threads must be a number corresponding to the number of cores available to use\")\n",
    "\n",
    "    # Prepare inputs to generate the console order for MolTi's run.\n",
    "    layers = \" \".join(input_layers)\n",
    "    print(f\"Resolution parameter starts at: {resolution_start}\")\n",
    "    print(f\"Resolution parameter ends at: {resolution_end}\")\n",
    "    \n",
    "    resolution_interval = np.arange(resolution_start, resolution_end + interval, interval)\n",
    "    desfile_vector = [f\"{destfile_community_analysis}{res}.csv\" for res in resolution_interval]\n",
    "    \n",
    "    print(\"Starting community analysis.\")\n",
    "    \n",
    "    for i, current_resolution in enumerate(resolution_interval):\n",
    "        current_destfile = desfile_vector[i]\n",
    "        print(f\"Resolution parameter: {current_resolution}\")\n",
    "        print(f\"{current_resolution}: {os.popen('date').read().strip()}\")\n",
    "        system_order = f\"molti-console -o {current_destfile} -p {current_resolution} {layers}\"\n",
    "        subprocess.run(system_order, shell=True)\n",
    "    \n",
    "    print(\"Reading MolTi output files. Calculating Gene/Community matrix\")\n",
    "    output_files = [f for f in os.listdir(destfile_community_analysis) if \"_\" not in f]\n",
    "    \n",
    "    alllists = []\n",
    "    \n",
    "    for output_file in output_files:\n",
    "        with open(os.path.join(destfile_community_analysis, output_file), 'r') as file:\n",
    "            red = file.readlines()\n",
    "        \n",
    "        cluster_ids = [i for i, line in enumerate(red) if \"Cluster\" in line]\n",
    "        lista = []\n",
    "        \n",
    "        for j, st in enumerate(cluster_ids):\n",
    "            if j == len(cluster_ids) - 1:\n",
    "                en = len(red)\n",
    "            else:\n",
    "                en = cluster_ids[j + 1]\n",
    "            current_cluster = red[st:en]\n",
    "            current_cluster2 = current_cluster[:-2] if j != len(cluster_ids) - 1 else current_cluster[:-1]\n",
    "            lista.append(current_cluster2[1:])\n",
    "        \n",
    "        alllists.append(lista)\n",
    "    \n",
    "    allgenes = list(set([gene for sublist in alllists for cluster in sublist for gene in cluster]))\n",
    "\n",
    "    if nodelist:\n",
    "        allgenes = list(set(allgenes).intersection(nodelist))\n",
    "    \n",
    "    print(\"Files read. Calculating Gene/Community matrix\")\n",
    "    res_matrix = np.zeros((len(allgenes), len(alllists) + 1), dtype=int)\n",
    "    gene_indices = {gene: idx for idx, gene in enumerate(allgenes)}\n",
    "    \n",
    "    for j, output_file_list in enumerate(alllists):\n",
    "        for k, cluster in enumerate(output_file_list):\n",
    "            for gene in cluster:\n",
    "                res_matrix[gene_indices[gene], j] = k + 1\n",
    "    \n",
    "    patterns = [\"_\".join(map(str, res_matrix[i, :-1])) for i in range(len(allgenes))]\n",
    "    res_matrix[:, -1] = np.array(patterns, dtype=str)\n",
    "    \n",
    "    porcentajes = np.linspace(0, 100, num=21)\n",
    "    \n",
    "    for i, percentage in enumerate(np.round(np.linspace(0, 100, len(allgenes)), 4)):\n",
    "        if percentage in porcentajes:\n",
    "            print(f\"Progress: {percentage}%\")\n",
    "    \n",
    "    print(\"Gene/Community matrix calculated, calculating Hamming distances for all gene pairs. This process may take a while...\")\n",
    "    \n",
    "    gene_community_matrix = res_matrix[:, :-1].astype(int)\n",
    "    genes_same_communities = {pattern: [] for pattern in np.unique(gene_community_matrix[:,-1])}\n",
    "    \n",
    "    for i, pattern in enumerate(gene_community_matrix[:,-1]):\n",
    "        genes_same_communities[pattern].append(allgenes[i])\n",
    "    \n",
    "    with ThreadPoolExecutor(max_workers=threads) as executor:\n",
    "        distance_matrix = squareform(pdist(gene_community_matrix, metric=distmethod))\n",
    "    \n",
    "    final_output = {\n",
    "        \"gene_community_matrix\": gene_community_matrix,\n",
    "        \"l_constant\": genes_same_communities,\n",
    "        \"distance_matrix\": distance_matrix\n",
    "    }\n",
    "    \n",
    "    return final_output\n"
   ]
  },
  {
   "cell_type": "code",
   "execution_count": 6,
   "metadata": {},
   "outputs": [
    {
     "name": "stdout",
     "output_type": "stream",
     "text": [
      "Resolution parameter starts at: 0\n",
      "Resolution parameter ends at: 2\n",
      "Starting community analysis.\n",
      "Resolution parameter: 0.0\n",
      "0.0: Tue Oct  1 05:23:35 PM CEST 2024\n",
      "Reading file ../data/networks-tiny-tiny/1.csv\n",
      "855 nodes\n",
      "Reading file ../data/networks-tiny-tiny/2.csv\n",
      "5911 nodes\n",
      "Resolution parameter: 0.5\n",
      "0.5: Tue Oct  1 05:23:41 PM CEST 2024\n",
      "Reading file ../data/networks-tiny-tiny/1.csv\n",
      "855 nodes\n",
      "Reading file ../data/networks-tiny-tiny/2.csv\n",
      "5911 nodes\n",
      "Resolution parameter: 1.0\n",
      "1.0: Tue Oct  1 05:23:47 PM CEST 2024\n",
      "Reading file ../data/networks-tiny-tiny/1.csv\n",
      "855 nodes\n",
      "Reading file ../data/networks-tiny-tiny/2.csv\n",
      "5911 nodes\n",
      "Resolution parameter: 1.5\n",
      "1.5: Tue Oct  1 05:23:53 PM CEST 2024\n",
      "Reading file ../data/networks-tiny-tiny/1.csv\n",
      "855 nodes\n",
      "Reading file ../data/networks-tiny-tiny/2.csv\n",
      "5911 nodes\n",
      "Resolution parameter: 2.0\n",
      "2.0: Tue Oct  1 05:23:58 PM CEST 2024\n",
      "Reading file ../data/networks-tiny-tiny/1.csv\n",
      "855 nodes\n",
      "Reading file ../data/networks-tiny-tiny/2.csv\n",
      "5911 nodes\n",
      "Reading MolTi output files. Calculating Gene/Community matrix\n",
      "Files read. Calculating Gene/Community matrix\n",
      "Progress: 0.0%\n",
      "Progress: 25.0%\n",
      "Progress: 50.0%\n",
      "Progress: 75.0%\n",
      "Progress: 100.0%\n",
      "Gene/Community matrix calculated, calculating Hamming distances for all gene pairs. This process may take a while...\n"
     ]
    }
   ],
   "source": [
    "#| eval: false\n",
    "\n",
    "prefix = \"../data/networks-tiny-tiny/\"\n",
    "input_layers = [prefix + \"1.csv\",\n",
    "                prefix + \"2.csv\"]\n",
    "\n",
    "cmmd_output = CmmD(nodelist = None,\n",
    "     input_layers = input_layers,\n",
    "     resolution_start = 0,\n",
    "     resolution_end = 2,\n",
    "     interval = 0.5,\n",
    "     destfile_community_analysis = \"../out/\",\n",
    "     distmethod = \"hamming\",\n",
    "     threads = 6)\n"
   ]
  },
  {
   "cell_type": "code",
   "execution_count": 9,
   "metadata": {},
   "outputs": [
    {
     "data": {
      "text/plain": [
       "dict_keys(['gene_community_matrix', 'l_constant', 'distance_matrix'])"
      ]
     },
     "execution_count": 9,
     "metadata": {},
     "output_type": "execute_result"
    }
   ],
   "source": [
    "#| eval: false\n",
    "cmmd_output.keys()"
   ]
  },
  {
   "cell_type": "code",
   "execution_count": 12,
   "metadata": {},
   "outputs": [
    {
     "name": "stdout",
     "output_type": "stream",
     "text": [
      "gene_community_matrix\n",
      "[[969 935 842 902 901]\n",
      " [894 924 782 818 901]\n",
      " [801 751 644 860 901]\n",
      " ...\n",
      " [938 751 908 984 901]\n",
      " [967 924 913 997 901]\n",
      " [789 924 970 944 901]]\n",
      "********************\n",
      "l_constant\n",
      "{np.int64(20): ['SLC18A1\\n', 'DDC\\n'], np.int64(60): ['RDH13\\n'], np.int64(126): ['OAT\\n'], np.int64(143): ['SLC6A14\\n', 'SLC43A2\\n', 'SLC6A19\\n'], np.int64(168): ['SLC7A8\\n', 'TYR\\n', 'TH\\n'], np.int64(195): ['HS3ST3A1\\n'], np.int64(227): ['CYP2D6\\n'], np.int64(239): ['CYP2C9\\n'], np.int64(308): ['SLC9A4\\n'], np.int64(443): ['HACD1\\n'], np.int64(448): ['GCSH\\n'], np.int64(450): ['NDUFAF7\\n', 'NDUFAB1\\n'], np.int64(466): ['NDUFA5\\n'], np.int64(478): ['NDUFC1\\n'], np.int64(482): ['SARDH\\n', 'CHDH\\n'], np.int64(514): ['DLAT\\n'], np.int64(522): ['SLC36A4\\n'], np.int64(553): ['SLC5A10\\n', 'SLC2A6\\n'], np.int64(582): ['DAO\\n'], np.int64(588): ['KCNQ4\\n'], np.int64(589): ['ADAMTS16\\n'], np.int64(590): ['SLITRK1\\n'], np.int64(591): ['HCN1\\n'], np.int64(592): ['KCNG2\\n'], np.int64(593): ['MYL6\\n', 'PXN\\n', 'TPM4\\n', 'DMD\\n'], np.int64(594): ['HPRT1\\n'], np.int64(595): ['DUS2\\n'], np.int64(596): ['EXOSC1\\n'], np.int64(597): ['TIMM9\\n'], np.int64(598): ['ADAT2\\n'], np.int64(599): ['GABRR2\\n', 'GABRR3\\n'], np.int64(600): ['PDK4\\n'], np.int64(601): ['ZNF383\\n'], np.int64(602): ['GRPEL1\\n'], np.int64(603): ['CNOT6\\n'], np.int64(604): ['ESAM\\n'], np.int64(605): ['EIF2AK2\\n', 'MX1\\n'], np.int64(606): ['MRPL37\\n'], np.int64(607): ['PLEKHA3\\n'], np.int64(608): ['ARPC3\\n', 'EFNB1\\n'], np.int64(609): ['ZNF521\\n'], np.int64(610): ['LYPD4\\n'], np.int64(611): ['ITFG2\\n'], np.int64(612): ['DDX23\\n'], np.int64(613): ['MMP20\\n'], np.int64(614): ['FNBP1L\\n'], np.int64(615): ['KRTAP12-1\\n'], np.int64(616): ['PRKD1\\n'], np.int64(617): ['DOT1L\\n'], np.int64(618): ['KRTAP10-6\\n'], np.int64(619): ['CHAC2\\n'], np.int64(620): ['UCHL3\\n'], np.int64(621): ['JMJD1C\\n', 'GATA6\\n'], np.int64(622): ['LRP12\\n'], np.int64(623): ['MUC17\\n'], np.int64(624): ['FANCF\\n'], np.int64(625): ['LILRB5\\n'], np.int64(626): ['NMNAT3\\n'], np.int64(627): ['WNT10A\\n'], np.int64(628): ['UQCR11\\n', 'LRPPRC\\n', 'COQ10A\\n', 'NDUFS6\\n', 'NDUFB2\\n', 'SDHB\\n', 'NDUFS1\\n', 'NDUFS2\\n'], np.int64(629): ['GJB4\\n', 'GJD2\\n'], np.int64(630): ['LRRC8C\\n', 'MMGT1\\n'], np.int64(631): ['TMEM132A\\n'], np.int64(632): ['BLOC1S4\\n'], np.int64(633): ['HTD2\\n'], np.int64(634): ['TNFSF13\\n', 'TNFRSF11B\\n'], np.int64(635): ['CACNA1S\\n'], np.int64(636): ['MUC12\\n', 'GALNT16\\n'], np.int64(637): ['ADPGK\\n'], np.int64(638): ['ENPEP\\n'], np.int64(639): ['PARVA\\n'], np.int64(640): ['NOX4\\n'], np.int64(641): ['TTC37\\n'], np.int64(642): ['AK5\\n'], np.int64(643): ['SOCS5\\n'], np.int64(644): ['IPPK\\n'], np.int64(645): ['AK6\\n'], np.int64(646): ['TPI1\\n'], np.int64(647): ['DOK6\\n'], np.int64(648): ['TEX101\\n', 'RAET1L\\n'], np.int64(649): ['ENO2\\n'], np.int64(650): ['BRPF3\\n'], np.int64(651): ['TRIM11\\n'], np.int64(652): ['PTGR1\\n'], np.int64(653): ['SLC29A2\\n', 'SLC29A1\\n'], np.int64(654): ['KRTAP10-3\\n'], np.int64(655): ['CD163\\n'], np.int64(656): ['GPIHBP1\\n'], np.int64(657): ['FKBP14\\n'], np.int64(658): ['NDUFA10\\n', 'NDUFB9\\n', 'NDUFB10\\n', 'NDUFAF4\\n', 'NDUFB7\\n', 'MT-ND1\\n', 'NDUFB4\\n', 'NDUFA3\\n', 'NUBPL\\n', 'NDUFB8\\n', 'NDUFA11\\n', 'SCO1\\n'], np.int64(659): ['POLD2\\n', 'HMGN1\\n'], np.int64(660): ['DENND1B\\n'], np.int64(661): ['RBL2\\n'], np.int64(662): ['SFTPA1\\n'], np.int64(663): ['TOMM22\\n'], np.int64(664): ['ZNF439\\n'], np.int64(665): ['AMBRA1\\n', 'TBC1D7\\n'], np.int64(666): ['IL31RA\\n'], np.int64(667): ['CD1B\\n', 'PILRA\\n'], np.int64(668): ['TPGS1\\n'], np.int64(669): ['SBSPON\\n'], np.int64(670): ['LCLAT1\\n'], np.int64(671): ['MAN2A2\\n', 'COG3\\n'], np.int64(672): ['NIPAL1\\n', 'NIPAL4\\n'], np.int64(673): ['IRF5\\n', 'IFNA13\\n'], np.int64(674): ['ATP6V1E2\\n'], np.int64(675): ['STX17\\n'], np.int64(676): ['TBC1D10A\\n'], np.int64(677): ['LY6G6D\\n'], np.int64(678): ['CHCHD5\\n'], np.int64(679): ['OCLN\\n'], np.int64(680): ['NOL9\\n', 'RBM28\\n'], np.int64(681): ['PLET1\\n'], np.int64(682): ['RIC1\\n'], np.int64(683): ['PLA2G4D\\n'], np.int64(684): ['TIMM23\\n'], np.int64(685): ['VPS29\\n'], np.int64(686): ['CYP4A22\\n'], np.int64(687): ['PLAAT5\\n'], np.int64(688): ['ARHGEF25\\n', 'HTR2B\\n'], np.int64(689): ['TCAP\\n'], np.int64(690): ['GPX8\\n', 'TXNRD2\\n'], np.int64(691): ['NT5C1B\\n'], np.int64(692): ['PLA2G2F\\n'], np.int64(693): ['GPHB5\\n'], np.int64(694): ['UGT1A5\\n'], np.int64(695): ['PPP6R3\\n'], np.int64(696): ['MED28\\n'], np.int64(697): ['MCEE\\n'], np.int64(698): ['TAAR5\\n', 'RXFP2\\n', 'CRHR1\\n', 'INSL3\\n'], np.int64(699): ['RYK\\n', 'FZD6\\n'], np.int64(700): ['TPCN1\\n'], np.int64(701): ['LIPH\\n', 'GPAT2\\n'], np.int64(702): ['POC1B-GALNT4\\n'], np.int64(703): ['CHMP5\\n', '155908\\n'], np.int64(704): ['ADAMTS15\\n', 'SPON2\\n'], np.int64(705): ['PRKCI\\n'], np.int64(706): ['SMYD2\\n'], np.int64(707): ['CHCHD4\\n', 'USP17L5\\n', 'TIMM8B\\n', 'HSPA9\\n', 'TIMM17B\\n', 'PAM16\\n'], np.int64(708): ['VNN3\\n'], np.int64(709): ['SLC17A5\\n'], np.int64(710): ['THSD7A\\n'], np.int64(711): ['886418\\n'], np.int64(712): ['ZNF124\\n'], np.int64(713): ['SMAD9\\n', 'ACVRL1\\n'], np.int64(714): ['AZGP1\\n'], np.int64(715): ['MAX\\n'], np.int64(716): ['CHMP6\\n'], np.int64(717): ['DYNLRB2\\n'], np.int64(718): ['TNNI2\\n'], np.int64(719): ['KRTAP5-7\\n'], np.int64(720): ['NEIL3\\n'], np.int64(721): ['CHCHD10\\n'], np.int64(722): ['NDUFAF6\\n'], np.int64(723): ['SH3KBP1\\n', 'PCSK9\\n', 'CLTA\\n'], np.int64(724): ['SESN2\\n'], np.int64(725): ['COX16\\n', 'SESN3\\n'], np.int64(726): ['TMOD3\\n'], np.int64(727): ['TRIM72\\n'], np.int64(728): ['CYFIP2\\n'], np.int64(729): ['JAK3\\n'], np.int64(730): ['ABCG1\\n'], np.int64(731): ['AMD1\\n'], np.int64(732): ['LPIN3\\n'], np.int64(733): ['KCNK2\\n', 'KCNK13\\n'], np.int64(734): ['TNS4\\n'], np.int64(735): ['ANKRD27\\n'], np.int64(736): ['KCNK17\\n'], np.int64(737): ['KIR2DL3\\n'], np.int64(738): ['ENPP7\\n'], np.int64(739): ['ST3GAL6\\n'], np.int64(740): ['GALNT11\\n'], np.int64(741): ['REPS1\\n', 'SYT12\\n', 'STON1-GTF2A1L\\n', 'VAMP4\\n', 'NECAP1\\n'], np.int64(742): ['NRP1\\n'], np.int64(743): ['BMT2\\n', 'FNIP1\\n'], np.int64(744): ['888777\\n'], np.int64(745): ['FCSK\\n'], np.int64(746): ['KLHL13\\n'], np.int64(747): ['EPB41L3\\n'], np.int64(748): ['ATP5ME\\n', 'CHCHD3\\n'], np.int64(749): ['ZNF740\\n', 'ZNF226\\n'], np.int64(750): ['ADAMTS13\\n'], np.int64(751): ['KRTAP5-3\\n'], np.int64(752): ['NR1D1\\n', 'PPP1CB\\n', 'SIRT1\\n', 'PPP1CA\\n'], np.int64(753): ['KCNA7\\n'], np.int64(754): ['DEFB115\\n', 'DEFB103A\\n', 'DEFA3\\n', 'DEFB107A\\n'], np.int64(755): ['MTMR2\\n'], np.int64(756): ['SYT10\\n'], np.int64(757): ['DENND1A\\n'], np.int64(758): ['PEX14\\n', 'SLC25A17\\n', 'GDAP1\\n', 'PEX3\\n'], np.int64(759): ['3636229\\n'], np.int64(760): ['NSMCE4A\\n'], np.int64(761): ['TNFSF4\\n'], np.int64(762): ['SAG\\n'], np.int64(763): ['DSE\\n'], np.int64(764): ['CNOT7\\n'], np.int64(765): ['DENND6B\\n'], np.int64(766): ['GNPAT\\n'], np.int64(767): ['YIPF6\\n'], np.int64(768): ['TRIM34\\n'], np.int64(769): ['KLRG1\\n'], np.int64(770): ['3361714\\n'], np.int64(771): ['LMF1\\n'], np.int64(772): ['KIF27\\n', 'KDELR1\\n', 'KIF1B\\n'], np.int64(773): ['CERS4\\n', 'SPHK2\\n'], np.int64(774): ['PLG\\n', 'ADAMTS18\\n', 'ADAMTS1\\n'], np.int64(775): ['ZNF169\\n', 'ZNF480\\n'], np.int64(776): ['CACNG6\\n'], np.int64(777): ['DEFB112\\n'], np.int64(778): ['ELAC2\\n'], np.int64(779): ['ITGA8\\n'], np.int64(780): ['RFT1\\n'], np.int64(781): ['ATP8B3\\n', 'ATP7B\\n', 'ATP10A\\n', 'ATP2B1\\n'], np.int64(782): ['MUC16\\n'], np.int64(783): ['SNRPD2\\n', 'ZRSR2\\n', 'SMNDC1\\n'], np.int64(784): ['ARAP1\\n'], np.int64(785): ['CHCHD7\\n', 'TIMM10B\\n'], np.int64(786): ['MUC13\\n'], np.int64(787): ['ARFIP2\\n'], np.int64(788): ['LCE1D\\n', 'LCE1F\\n'], np.int64(789): ['THSD4\\n'], np.int64(790): ['RAB17\\n', 'RAB39B\\n'], np.int64(791): ['DMAC2L\\n'], np.int64(792): ['CHRNA4\\n'], np.int64(793): ['ALS2CL\\n', 'TRAPPC5\\n'], np.int64(794): ['NR2C2\\n'], np.int64(795): ['PRLH\\n'], np.int64(796): ['LIPF\\n'], np.int64(797): ['CASTOR2\\n'], np.int64(798): ['KRT19\\n'], np.int64(799): ['PARD6B\\n'], np.int64(800): ['ANKLE2\\n'], np.int64(801): ['NSF\\n', 'KIF20B\\n'], np.int64(802): ['MUC19\\n'], np.int64(803): ['PJA2\\n'], np.int64(804): ['ATP6V0D2\\n'], np.int64(805): ['CDK19\\n'], np.int64(806): ['SLC41A2\\n'], np.int64(807): ['NRBP1\\n', 'NR2F1\\n'], np.int64(808): ['SF3B5\\n'], np.int64(809): ['CLCA4\\n'], np.int64(810): ['GPHN\\n'], np.int64(811): ['OTC\\n', 'TIMM10\\n'], np.int64(812): ['PLA2G1B\\n', '3644711\\n', 'PLA2G4E\\n'], np.int64(813): ['RAB1B\\n'], np.int64(814): ['IL1RAPL2\\n'], np.int64(815): ['CDC25B\\n', 'FADD\\n', 'CFLAR\\n'], np.int64(816): ['RPEL1\\n'], np.int64(817): ['KDELR3\\n'], np.int64(818): ['ABI2\\n'], np.int64(819): ['TRMT10A\\n'], np.int64(820): ['TAAR8\\n', 'PDE10A\\n'], np.int64(821): ['PGLYRP2\\n'], np.int64(822): ['KRT79\\n'], np.int64(823): ['MDH1\\n'], np.int64(824): ['IFNL1\\n'], np.int64(825): ['UBQLN1\\n'], np.int64(826): ['MT-ND5\\n', 'NDUFAF3\\n', 'MT-ND2\\n', 'NDUFS7\\n', 'NDUFA13\\n'], np.int64(827): ['HIRA\\n'], np.int64(828): ['ST3GAL1\\n', 'ST6GAL2\\n'], np.int64(829): ['E2F4\\n'], np.int64(830): ['AP4E1\\n'], np.int64(831): ['TTLL9\\n'], np.int64(832): ['MYBPC2\\n', 'TPM2\\n', 'SORBS1\\n'], np.int64(833): ['CACNG4\\n', 'CACNG8\\n'], np.int64(834): ['PAOX\\n'], np.int64(835): ['ENAH\\n'], np.int64(836): ['GSTO1\\n'], np.int64(837): ['MT1G\\n'], np.int64(838): ['TNXB\\n'], np.int64(839): ['XBP1\\n'], np.int64(840): ['FMOD\\n'], np.int64(841): ['CATSPERD\\n'], np.int64(842): ['PTHLH\\n'], np.int64(843): ['GPAT4\\n', 'PLA2R1\\n'], np.int64(844): ['WNK2\\n'], np.int64(845): ['CACNB2\\n', 'CACNA2D3\\n'], np.int64(846): ['ARAP3\\n'], np.int64(847): ['NR2C2AP\\n'], np.int64(848): ['ATP4A\\n'], np.int64(849): ['PARD6G\\n'], np.int64(850): ['KDM2A\\n'], np.int64(851): ['ZFP69B\\n'], np.int64(852): ['TTC21B\\n', 'UCN2\\n'], np.int64(853): ['NTS\\n'], np.int64(854): ['TBC1D17\\n'], np.int64(855): ['NT5C1B-RDH14\\n'], np.int64(856): ['CLCA1\\n'], np.int64(857): ['CASTOR1\\n'], np.int64(858): ['NGEF\\n'], np.int64(859): ['KCNU1\\n'], np.int64(860): ['CACNA2D2\\n', 'SCN4A\\n'], np.int64(861): ['ST8SIA2\\n'], np.int64(862): ['FAAP100\\n'], np.int64(863): ['CASC3\\n'], np.int64(864): ['PARP9\\n'], np.int64(865): ['IL18R1\\n'], np.int64(866): ['MLKL\\n', 'TRPC1\\n'], np.int64(867): ['DSC3\\n', 'KRTAP19-6\\n', 'KRT18\\n'], np.int64(868): ['VAC14\\n'], np.int64(869): ['MRGBP\\n'], np.int64(870): ['MIGA2\\n'], np.int64(871): ['RBP4\\n'], np.int64(872): ['LTBP3\\n'], np.int64(873): ['SUMF1\\n', 'GLTP\\n', 'B4GALNT1\\n'], np.int64(874): ['ATP10D\\n'], np.int64(875): ['MED9\\n'], np.int64(876): ['PRKG2\\n'], np.int64(877): ['KRT37\\n', 'TCHH\\n'], np.int64(878): ['OPN1MW3\\n'], np.int64(879): ['ZNF558\\n'], np.int64(880): ['APOBEC4\\n'], np.int64(881): ['COL25A1\\n'], np.int64(882): ['CLEC4G\\n'], np.int64(883): ['DEFB136\\n', 'DEFA5\\n', 'DEFB131A\\n', 'DEFB113\\n', 'DEFB130A\\n'], np.int64(884): ['PLXNA3\\n'], np.int64(885): ['DEPDC7\\n', 'ARHGAP11A\\n'], np.int64(886): ['UGT2A2\\n'], np.int64(887): ['CNTN3\\n'], np.int64(888): ['NIPA2\\n'], np.int64(889): ['EP400\\n'], np.int64(890): ['ARHGEF6\\n'], np.int64(891): ['INPP5E\\n'], np.int64(892): ['PCSK6\\n', 'KRTAP17-1\\n', 'KRTAP19-3\\n', 'CSTA\\n', 'KRTAP2-4\\n', 'KRT6B\\n', 'KRT5\\n', 'PRSS8\\n', 'KRT28\\n', 'KRT77\\n', 'LORICRIN\\n', 'KRTAP13-2\\n', 'KRTAP27-1\\n', 'KRTAP8-1\\n', 'KRTAP4-8\\n'], np.int64(893): ['NME3\\n'], np.int64(894): ['MYH3\\n', 'TNNT1\\n', 'MYL4\\n'], np.int64(895): ['ADAMTS20\\n'], np.int64(896): ['MSL1\\n'], np.int64(897): ['CYP4F22\\n'], np.int64(898): ['PLCD4\\n'], np.int64(899): ['ACBD7\\n'], np.int64(900): ['ECE2\\n'], np.int64(901): ['MCM7\\n', 'ATP2A3\\n', 'TRNT1\\n', 'RGS16\\n', 'RANBP2\\n', 'RNF5\\n', 'SEC13\\n', 'RNF152\\n', 'PRSS3\\n', 'KRTAP2-1\\n', 'USP17L21\\n', 'KCNJ11\\n', 'PSMC5\\n', 'HLA-DQB1\\n', 'EIF1AX\\n', 'MT-CO3\\n', 'ZSCAN25\\n', 'GATA1\\n', 'LAG3\\n', 'EIF3K\\n', 'ARSB\\n', 'CHRM3\\n', 'SUCNR1\\n', 'SIAH2\\n', 'RAB31\\n', 'CEP250\\n', 'TREML2\\n', 'MED20\\n', 'ORC6\\n', 'DECR2\\n', 'ELL3\\n', 'INTS9\\n', 'IL3\\n', 'ACTR1A\\n', 'OR8D2\\n', 'CYSTM1\\n', 'PVALB\\n', 'GTF2H3\\n', 'ZNF559\\n', 'UBE2O\\n', 'UBE3C\\n', 'HVCN1\\n', 'OR10G3\\n', 'SNAPC4\\n', 'HBB\\n', 'ZKSCAN1\\n', 'INS\\n', 'ITGB2\\n', 'WNT2B\\n', 'NOB1\\n', 'PSMD10\\n', 'UNG\\n', 'OPN1SW\\n', 'ADH1B\\n', 'COL10A1\\n', 'GPR37L1\\n', 'GAB1\\n', 'OR13D1\\n', 'DCTN4\\n', 'LMAN2\\n', 'USP1\\n', 'LAMA5\\n', 'OR52L1\\n', 'SMAD7\\n', 'RPL18\\n', 'BTC\\n', 'GCG\\n', 'RGL1\\n', 'PLEKHO2\\n', 'LYN\\n', 'H2AX\\n', 'TALDO1\\n', 'OR2A1\\n', 'OR2A2\\n', 'PFKFB3\\n', 'FFAR4\\n', 'P4HA3\\n', 'ZNF324\\n', 'KL\\n', 'CALR\\n', 'CASP14\\n', 'OR10G9\\n', 'ZSWIM8\\n', 'IGFBP7\\n', 'TXNDC5\\n', 'USP42\\n', 'OR5H1\\n', 'KRT82\\n', 'PROK1\\n', 'OR10H1\\n', 'OR14C36\\n', 'RGS12\\n', 'ZNF563\\n', 'RHNO1\\n', 'MAP2K2\\n', 'WWP1\\n', 'CCDC22\\n', 'PLCG2\\n', 'ARHGEF37\\n', 'USP17L4\\n', 'ARPC2\\n', 'KRTAP19-7\\n', 'CREBBP\\n', 'CCKBR\\n', 'RAC2\\n', 'AGO4\\n', 'OLFM4\\n', 'TMED2\\n', 'MTA2\\n', 'USP17L28\\n', 'EEF1A1\\n', 'PARK7\\n', 'FOXK1\\n', 'OR7C1\\n', 'UBE3B\\n', 'HPSE\\n', 'SNRPN\\n', 'MNAT1\\n', 'GRP\\n', 'GRIN2D\\n', 'ALDH3B1\\n', 'HECTD1\\n', 'PSMD1\\n', 'CENPK\\n', 'ZNF41\\n', 'PSMC2\\n', '956529\\n', 'GPC1\\n', 'COL4A4\\n', 'ZNF417\\n', 'RPS12\\n', 'ETFA\\n', 'MED27\\n', 'APC\\n', 'PTGER3\\n', 'TRIM5\\n', 'CALM3\\n', 'ACADSB\\n', 'RSPO2\\n', 'HEBP2\\n', 'KRT85\\n', 'PTGES3\\n', 'SLC16A1\\n', 'KIFC2\\n', 'NXT1\\n', 'HLA-DMB\\n', 'ZNF705A\\n', 'TYK2\\n', 'GCGR\\n', 'CRISP3\\n', 'CAMP\\n', 'OR4C6\\n', 'TOPBP1\\n', 'P4HB\\n', 'ZNF791\\n', 'OR52N2\\n', 'OR2T8\\n', 'VIPR2\\n', 'OCRL\\n', 'ATP6V1B2\\n', 'ALDH3A2\\n', 'GPR83\\n', 'ZNF716\\n', 'OR52E2\\n', 'HRC\\n', 'PREX2\\n', 'CD40\\n', 'TRIM9\\n', 'OPTC\\n', 'KRT73\\n', 'KRTAP9-4\\n', 'H2AB1\\n', 'PPARGC1A\\n', 'AP2A1\\n', 'JAG1\\n', 'NPAS2\\n', 'RGS22\\n', 'ZNF708\\n', 'SEC24A\\n', 'IL13RA2\\n', '956532\\n', 'UBAP1\\n', 'CCDC8\\n', 'ZNF691\\n', 'MSL2\\n', 'GATA2\\n', 'RPS6KA1\\n', 'CNOT9\\n', 'CTSO\\n', 'ARPC5\\n', 'CHML\\n', 'MRE11\\n', 'GP6\\n', 'LDHB\\n', 'ITGB3BP\\n', 'MLLT1\\n', 'ZNF2\\n', 'RPTN\\n', 'KLC3\\n', 'RPS20\\n', 'OR1L1\\n', 'ADRA1A\\n', 'ARHGAP22\\n', 'LMNB1\\n', 'RNF14\\n', 'CSNK1D\\n', 'KLHL11\\n', 'DOCK1\\n', 'OR5M9\\n', 'TUBGCP2\\n', 'DDX52\\n', 'EIF2S3\\n', 'COMP\\n', 'ASB8\\n', 'COL11A2\\n', 'EIF4A2\\n', 'FEM1C\\n', 'CXCL1\\n', 'POLR3GL\\n', 'ARNTL\\n', 'SRSF2\\n', 'MED15\\n', 'ARHGEF17\\n', 'S100A12\\n', 'CCNE1\\n', 'RHOB\\n', 'TFF3\\n', 'BTRC\\n', 'ADRA2C\\n', 'GCK\\n', 'TUBB1\\n', 'NCOA6\\n', 'PLAC8\\n', 'RPS23\\n', 'GATAD2A\\n', 'DNAJC5\\n', 'OR4F16\\n', 'OR1Q1\\n', 'AREG\\n', 'RGS19\\n', 'CENPO\\n', 'SUV39H1\\n', 'PRKAG3\\n', 'H2AC14\\n', 'LAS1L\\n', 'PSIP1\\n', 'INTS4\\n', 'NUP210\\n', 'OR7A17\\n', 'RNF103-CHMP3\\n', 'UBE3D\\n', '956536\\n', 'OR13F1\\n', 'COL8A2\\n', 'HK3\\n', 'MTA3\\n', 'SIN3A\\n', 'UBE2D1\\n', 'MKS1\\n', 'MAFK\\n', 'CAPN14\\n', 'PRDX6\\n', 'E2F1\\n', 'SOS1\\n', 'OR2V1\\n', 'SF3B6\\n', 'WDR45B\\n', 'UBE2Q1\\n', 'PYY\\n', 'PHLPP1\\n', 'ABCC9\\n', 'PLCB4\\n', 'OR52E6\\n', 'ZNF600\\n', 'AAAS\\n', 'AGTR2\\n', 'PSMB6\\n', 'OR1L8\\n', 'JUNB\\n', 'RHOG\\n', 'ZNF320\\n', 'CDK13\\n', 'LILRA3\\n', '904054\\n', 'ARHGAP6\\n', 'SRGN\\n', 'SLC9C2\\n', 'P2RX1\\n', 'H2BU1\\n', 'OR5L2\\n', 'OR10H3\\n', 'MAP2K7\\n', 'TRIM41\\n', 'RAC1\\n', 'CAV1\\n', 'ZNF286A\\n', 'H2BC7\\n', 'TERF2\\n', 'MAFG\\n', 'SHMT1\\n', 'EGR2\\n', 'COPS3\\n', 'CUL7\\n', 'STXBP2\\n', 'VDAC2\\n', 'CXCR2\\n', 'TFB2M\\n', 'CENPN\\n', 'OR2B2\\n', 'FCER2\\n', 'KRT16\\n', 'KIF26A\\n', 'IFT122\\n', 'PTGIS\\n', 'OR4S1\\n', 'GRIN3A\\n', 'FGF1\\n', 'RNASET2\\n', 'PAXIP1\\n', 'ZNF649\\n', 'NME1-NME2\\n', 'GAN\\n', 'TAF6L\\n', 'STC2\\n', 'CDK4\\n', 'LY6G6F\\n', 'TRAF3\\n', 'OR8H3\\n', 'TWIST1\\n', 'OR5K4\\n', 'ITGA2\\n', 'SIK1B\\n', 'RTP4\\n', 'PAX6\\n', 'CCNF\\n', 'NELFB\\n', 'OPRL1\\n', 'ZNRF2\\n', 'ALDH2\\n', 'SUPT3H\\n', 'UBE2D4\\n', 'KRTAP29-1\\n', 'UTS2B\\n', 'HBA1\\n', 'KIF5A\\n', 'CNTRL\\n', 'MYD88\\n', 'IFI35\\n', 'OR1G1\\n', 'CD4\\n', 'H4C12\\n', 'PYCARD\\n', 'CXCL3\\n', 'TRIM25\\n', 'VNN1\\n', 'CALCR\\n', 'FGFR2\\n', 'KRTAP1-3\\n', 'MTNR1B\\n', 'CYSLTR2\\n', 'CDC42EP5\\n', 'USP17L8\\n', 'SRSF3\\n', 'TLR6\\n', 'RAI1\\n', 'MAD1L1\\n', 'ZNF729\\n', 'CLCN2\\n', 'CD9\\n', 'TFAP2A\\n', 'IL1RN\\n', 'ZNF225\\n', 'KLHL22\\n', 'KRTAP1-5\\n', 'CXCL5\\n', 'RPL29\\n', 'H3-3A\\n', 'ZKSCAN3\\n', 'RNASEL\\n', 'ABL1\\n', 'ZNF665\\n', 'WDR36\\n', 'IL1B\\n', 'PEMT\\n', 'H2AJ\\n', 'ANO10\\n', 'TUBB\\n', 'OAZ2\\n', 'SHISA5\\n', 'HSPH1\\n', 'ELMO2\\n', 'COMMD9\\n', 'UBE2Z\\n', 'ADRB3\\n', 'FBXL22\\n', 'NEURL1B\\n', 'P2RY1\\n', 'PLCB1\\n', 'NBEAL2\\n', 'DEPDC1B\\n', 'HRNR\\n', 'SIGLEC9\\n', 'IGFBP5\\n', 'YKT6\\n', 'GAK\\n', 'EPS15\\n', 'TRIM48\\n', 'SUDS3\\n', 'TMBIM1\\n', 'MCF2\\n', 'NUMA1\\n', 'TIMP3\\n', 'SERPINC1\\n', 'SGK1\\n', 'ANAPC16\\n', 'OR6K6\\n', 'SLC22A1\\n', 'MIS12\\n', 'ADA2\\n', 'NIP7\\n', 'ORM1\\n', 'IRAK2\\n', 'PLK4\\n', 'GNG11\\n', 'SENP3\\n', 'EHMT2\\n', 'C6orf120\\n', 'NFKB2\\n', 'ZNF681\\n', 'CXXC5\\n', 'DYNC1I1\\n', 'OR2V2\\n', 'OR3A3\\n', 'NFE2\\n', 'AADAT\\n', 'MECP2\\n', 'PMVK\\n', 'GRN\\n', 'H2BC10\\n', 'MMP25\\n', 'ARL8A\\n', 'ATP11B\\n', 'OR2T5\\n', 'FGF23\\n', 'USP12\\n', 'CDKN1A\\n', 'SULT1A1\\n', 'SPINK5\\n', 'MOV10\\n', 'RAPGEF2\\n', 'TRIO\\n', 'CD68\\n', 'OPN4\\n', 'BABAM2\\n', 'PSMD4\\n', 'LAMTOR5\\n', 'H2BC12\\n', 'MMP8\\n', 'PCBP1\\n', 'PER2\\n', 'EIF2S1\\n', 'CTSA\\n', 'TAT\\n', 'ZNF736\\n', 'SLC11A1\\n', 'CAPZB\\n', 'SNRPB\\n', 'ZNF750\\n', 'INTS8\\n', 'ECHDC2\\n', 'MKRN1\\n', 'MZT2B\\n', 'OR52N1\\n', 'ZNF274\\n', 'OR56B4\\n', 'OR2L3\\n', 'CTSW\\n', 'RAB7A\\n', 'OR2H2\\n', 'CCP110\\n', 'KRT6C\\n', 'ALDH3B2\\n', 'ITGB7\\n', 'H4C13\\n', 'HLA-DRB3\\n', 'MLN\\n', 'CDK9\\n', 'VPS35L\\n', 'CAPN12\\n', 'OR9Q2\\n', 'ARSA\\n', 'CHERP\\n', 'PLAU\\n', 'ERBB3\\n', 'PSME2\\n', 'SNRPG\\n', 'UBE2B\\n', 'WWTR1\\n', 'IGF1\\n', 'HOXD1\\n', 'SLC10A1\\n', 'AHCTF1\\n', 'PIAS3\\n', 'NAPG\\n', 'RRP9\\n', 'TAS2R14\\n', 'FEM1B\\n', 'LCE1B\\n', 'RPL19\\n', 'KIT\\n', 'NFAM1\\n', 'EEF1AKMT2\\n', 'OR5K1\\n', 'ITGAM\\n', 'EYA1\\n', 'ZNF479\\n', 'OR2T1\\n', 'SSNA1\\n', 'MNDA\\n', 'FSCN1\\n', 'ZNF517\\n', 'KMT2D\\n', 'PRKAR1B\\n', 'PEX13\\n', 'REEP6\\n', 'WSB2\\n', 'CCR10\\n', 'CAP1\\n', 'CNOT1\\n', 'USP17L20\\n', 'ZNF175\\n', 'U2AF1L4\\n', 'DET1\\n', 'RAD51D\\n', 'HGF\\n', 'MMP10\\n', 'VPS28\\n', 'RRN3\\n', 'RPL35\\n', 'NUP153\\n', 'OR2T29\\n', 'ZNF778\\n', 'CXCL12\\n', 'RPL22\\n', 'NUP43\\n', 'CEP135\\n', 'SCLT1\\n', 'EPN1\\n', 'LPAR6\\n', 'NXF2B\\n', 'TCEA1\\n', 'FGFR1\\n', 'ZNF530\\n', 'PARP1\\n', 'CCR8\\n', 'UBE2L6\\n', 'AP2B1\\n', 'FBXO44\\n', 'WDR46\\n', 'MAGOHB\\n', 'MTHFD2\\n', 'SNRPD1\\n', 'OFD1\\n', 'ITGB8\\n', 'COL5A1\\n', 'AXIN1\\n', 'COL1A2\\n', 'TSPAN15\\n', 'USP2\\n', 'TUBA1B\\n', 'SF3B4\\n', 'FZR1\\n', 'GABPA\\n', 'RAB27A\\n', 'YWHAH\\n', 'PHAX\\n', 'OR5V1\\n', 'NR4A3\\n', 'ITGAX\\n', 'OR2AE1\\n', 'ANAPC10\\n', 'KMT2C\\n', 'OR51B2\\n', 'UBC\\n', 'NUP214\\n', 'OR8G5\\n', 'CSPG4\\n', 'JADE2\\n', 'LEFTY2\\n', 'RAC3\\n', 'LUM\\n', 'HMG20B\\n', 'CBFB\\n', 'ZNF468\\n', 'TAF15\\n', 'COL5A3\\n', 'DPP7\\n', 'CCL21\\n', 'FUS\\n', 'NR6A1\\n', 'OR4F17\\n', 'G0S2\\n', 'KRTAP4-5\\n', 'COPG1\\n', 'GPR161\\n', 'TDG\\n', 'CD55\\n', 'KRTAP13-3\\n', 'RBBP8\\n', 'TTF1\\n', 'DDX49\\n', 'CDCA5\\n', 'OR2B3\\n', 'CNKSR1\\n', 'H2BC3\\n', 'COL4A1\\n', 'IER3\\n', 'FBXO11\\n', 'SRRT\\n', 'CEP164\\n', 'SH3RF1\\n', 'GOLGA1\\n', 'OR2A25\\n', 'CKAP5\\n', 'EIF3F\\n', 'NR1H4\\n', 'SYVN1\\n', 'TPR\\n', 'NLN\\n', 'TOPORS\\n', 'SMARCA5\\n', 'PWP2\\n', 'LCK\\n', 'GNRH2\\n', 'KNL1\\n', 'ZNF112\\n', 'KIF3B\\n', 'PSMB9\\n', 'OR7G1\\n', 'RNF19A\\n', 'TLR9\\n', 'PSMA7\\n', 'GAST\\n', 'CUL3\\n', 'TULP4\\n', 'GPR45\\n', 'RNF25\\n', 'USP20\\n', 'RPL11\\n', 'LAMB2\\n', 'RPA3\\n', 'H2AC18\\n', 'PTGDR\\n', 'ATP6V1H\\n', 'H2AC6\\n', 'PPFIA1\\n', 'ARHGAP36\\n', 'NCR3LG1\\n', 'KRTAP11-1\\n', 'NDRG1\\n', 'MAP3K7\\n', 'NBN\\n', 'PSMD12\\n', 'USP22\\n', 'ABRAXAS1\\n', 'CARD9\\n', 'FBXO15\\n', 'OR4D9\\n', 'THOC6\\n', 'HSP90AB1\\n', 'CNOT4\\n', 'KRTAP21-2\\n', 'PARP2\\n', 'OR8B4\\n', 'NUP88\\n', 'PNPLA5\\n', 'TRAPPC11\\n', 'AGRN\\n', 'MS4A2\\n', 'ELP3\\n', 'ADRB2\\n', 'MFAP3\\n', 'COX6B1\\n', 'GATA3\\n', 'OR4N2\\n', 'TIMELESS\\n', 'KLHL20\\n', 'KRTAP10-7\\n', 'VPREB3\\n', 'ARHGEF10\\n', 'ZNF616\\n', 'AJUBA\\n', 'BECN1\\n', 'LRP6\\n', 'POLR1G\\n', 'CENPL\\n', 'MIA2\\n', 'TNFSF12-TNFSF13\\n', 'UBE2G2\\n', 'ZNF610\\n', 'CRHR2\\n', 'OR1N2\\n', 'RPL28\\n', 'SATB2\\n', 'CCR4\\n', 'KIF23\\n', 'PRKG1\\n', 'RPP21\\n', 'PPM1B\\n', 'ADH7\\n', 'ANAPC4\\n', 'PRPF8\\n', 'SENP8\\n', 'ARHGAP32\\n', 'STARD13\\n', 'KRTAP26-1\\n', 'SPSB4\\n', 'MLYCD\\n', 'H2BC21\\n', 'OR6Y1\\n', 'ZNF18\\n', 'ZNF680\\n', 'BPI\\n', 'EIF4G1\\n', 'AGO1\\n', 'BCKDHB\\n', 'OR4X1\\n', 'ATR\\n', 'HLA-DRB1\\n', '956528\\n', 'DYNLL2\\n', 'OR10A7\\n', 'MTOR\\n', 'BRS3\\n', 'OSTM1\\n', 'NUP62\\n', 'ZNF114\\n', 'STAT4\\n', 'IL1A\\n', 'HCRTR2\\n', 'PRDX1\\n', 'OR6C65\\n', 'EED\\n', 'TENT4A\\n', 'OR52W1\\n', 'AOC2\\n', 'TUBB6\\n', 'PRDX4\\n', 'UBE2E3\\n', 'MED31\\n', 'OR2M3\\n', 'ITGA11\\n', 'PTH2\\n', 'HCFC1\\n', 'RIOK1\\n', 'NUB1\\n', 'LRRTM2\\n', 'CLTC\\n', 'MEF2C\\n', 'CIAO2B\\n', 'ADORA2A\\n', 'ADAM17\\n', 'TAAR2\\n', 'ASB16\\n', 'PSMD8\\n', 'CCL20\\n', 'MPIG6B\\n', 'TF\\n', 'MDM4\\n', 'STIP1\\n', 'GPI\\n', 'SET\\n', 'CDCA8\\n', 'OR1S2\\n', 'OR2T27\\n', 'PRKACG\\n', 'BBC3\\n', 'COMT\\n', 'NPY4R2\\n', 'PYGB\\n', 'PTTG1\\n', 'YPEL5\\n', 'OR2A12\\n', 'TAS2R19\\n', 'ZNF37A\\n', 'HSPA5\\n', 'VAMP3\\n', 'OR5M11\\n', 'PROKR2\\n', 'MED13L\\n', 'ARHGAP19\\n', 'CRISPLD2\\n', 'NMB\\n', 'RPL39L\\n', 'RTP2\\n', 'ARHGEF12\\n', 'LYZ\\n', 'ZNF70\\n', 'OR2T6\\n', 'OR8B8\\n', 'CHTOP\\n', 'CNIH2\\n', 'TMC6\\n', 'PPP2R5B\\n', 'HLA-DRA\\n', 'HAUS1\\n', 'NPFFR1\\n', 'ASB3\\n', 'VAMP2\\n', 'KRTAP1-4\\n', 'F11R\\n', 'KCNH6\\n', 'OR2AT4\\n', 'UBD\\n', 'ZNF730\\n', 'COL6A5\\n', 'SH2B3\\n', 'OR6Q1\\n', 'TLE2\\n', 'OR7G2\\n', 'ALDH7A1\\n', 'ADCY8\\n', 'FBXL13\\n', 'LONRF1\\n', 'UTP18\\n', 'CXCL6\\n', 'PSMA4\\n', 'ZNF775\\n', 'RYR2\\n', 'PDPR\\n', 'OR6C4\\n', 'MGST1\\n', 'LRRC7\\n', 'CLEC12A\\n', 'LSM4\\n', 'RMI1\\n', 'CEP76\\n', 'OR51H1\\n', 'OR2W1\\n', 'FPR2\\n', 'GPC2\\n', 'WNT7B\\n', 'DCUN1D1\\n', 'CABLES1\\n', 'MBD2\\n', 'OR8J1\\n', 'SST\\n', 'OPRM1\\n', 'OR13C8\\n', 'RBM8A\\n', 'PPIL6\\n', 'SLC38A9\\n', 'FBXL7\\n', 'RAD17\\n', 'MYL3\\n', 'NUP107\\n', 'DNMT1\\n', 'PSG11\\n', 'RBBP6\\n', 'LPAR1\\n', 'NRGN\\n', 'CDC40\\n', 'SRSF7\\n', 'KLRD1\\n', 'ZFP2\\n', 'ZNF709\\n', 'KRT36\\n', 'PPY\\n', 'GPR143\\n', 'ABCB9\\n', 'SAP30\\n', 'MCPH1\\n', 'KRTAP13-1\\n', 'OR1E2\\n', 'RPS21\\n', 'USP25\\n', 'RMI2\\n', 'HOMER1\\n', 'UBA3\\n', 'MAFF\\n', 'KLC1\\n', 'PDGFC\\n', 'GRM8\\n', 'CCNH\\n', 'CTNNA1\\n', 'PDE7A\\n', 'OXT\\n', 'RPL7\\n', 'FGD3\\n', 'UBQLN2\\n', 'FCGR2A\\n', 'IL10\\n', 'GNRH1\\n', 'OR10K1\\n', 'CHD1L\\n', 'ZNF772\\n', 'H2BC14\\n', 'SLC25A12\\n', 'AGGF1\\n', 'CCNK\\n', 'ENAM\\n', 'SHC2\\n', 'KAT5\\n', 'WNT6\\n', 'FFAR2\\n', 'ZNF230\\n', 'TNFRSF1B\\n', 'GTF2A2\\n', 'ATP1B1\\n', 'DIAPH3\\n', 'RIN1\\n', 'TINF2\\n', 'NBAS\\n', 'KMT2A\\n', 'DMC1\\n', 'MSI1\\n', 'GTF3C2\\n', 'TAB1\\n', 'YWHAG\\n', 'INTS6\\n', 'TNC\\n', 'BET1L\\n', 'HLA-DQB2\\n', 'ZDHHC2\\n', 'MED22\\n', 'PPP3CA\\n', 'TAF1A\\n', 'BLMH\\n', 'BRAP\\n', 'CCL23\\n', 'CREB1\\n', 'USP17L3\\n', 'POLR3F\\n', '441669\\n', 'SULT1A2\\n', 'P2RY13\\n', 'WNT3A\\n', 'CALCA\\n', 'DYNC1LI2\\n', 'TRAPPC2\\n', 'MMP19\\n', 'TREM1\\n', 'KRTAP19-2\\n', 'SMG1\\n', 'AP2S1\\n', 'EPHA5\\n', 'LHX4\\n', 'UGCG\\n', 'TBL1X\\n', 'ARHGEF33\\n', 'GDI2\\n', 'GNAL\\n', 'APBB1\\n', 'MDC1\\n', 'RGS18\\n', 'RAB13\\n', 'PDGFRA\\n', 'SRC\\n', 'GOLM1\\n', 'CD93\\n', 'CAPNS1\\n', 'ZNF446\\n', 'OR13C5\\n', 'TAS2R1\\n', 'COG5\\n', 'DEFA1\\n', 'USP26\\n', 'F2RL1\\n', 'RXRA\\n', 'SUMO2\\n', 'BCKDK\\n', 'SAP18\\n', 'NUP133\\n', 'NSD2\\n', 'C3AR1\\n', 'RPL34\\n', 'OR5B12\\n', 'KRT13\\n', 'SETD1A\\n', 'REST\\n', 'KRT71\\n', 'USF2\\n', 'ZNF688\\n', 'CEP57\\n', 'BMP15\\n', 'OR1I1\\n', 'RNF185\\n', 'HMGB1\\n', 'FCHO2\\n', 'PCLAF\\n', 'SERPINB12\\n', 'CRK\\n', 'ZNF519\\n', 'OR2L8\\n', 'USP11\\n', 'APOE\\n', 'OXER1\\n', 'SIRT3\\n', '884327\\n', 'PEX11A\\n', 'ADAMTS9\\n', 'RFC3\\n', 'ABCA1\\n', 'ZIM3\\n', 'L1CAM\\n', 'IFNA10\\n', 'ROCK1\\n', 'RPL10L\\n', 'PRELP\\n', 'RAD18\\n', 'ZNF560\\n', 'ZNF682\\n', 'KIF11\\n', 'MET\\n', 'COPS8\\n', 'DAB2IP\\n', 'MIF\\n', 'GPSM3\\n', 'KLK13\\n', 'H3C12\\n', 'EGFR\\n', 'IFNA4\\n', 'TGM5\\n', 'THOP1\\n', 'ZDHHC21\\n', 'ARHGEF10L\\n', 'KRTAP23-1\\n', 'NUP205\\n', 'ZNF684\\n', 'TRIM45\\n', 'MEAF6\\n', 'CEP63\\n', 'SMC1A\\n', 'PHYKPL\\n', 'ZNF473\\n', 'FZD5\\n', 'PERM1\\n', 'OR7E24\\n', 'SFTPC\\n', 'OR10A4\\n', 'MYO5A\\n', 'PLRG1\\n', 'ZNF506\\n', 'TAS2R41\\n', 'KRT1\\n', 'NDEL1\\n', 'EBF1\\n', 'PDAP1\\n', 'ELOA2\\n', 'FTL\\n', 'INTS13\\n', 'EREG\\n', 'ZKSCAN7\\n', 'GALR3\\n', 'POT1\\n', 'RPS19\\n', 'PFDN4\\n', 'H2BC18\\n', 'RBSN\\n', 'NDUFS5\\n', 'CORIN\\n', 'PPIL1\\n', 'RAD50\\n', 'TMPRSS6\\n', 'FDFT1\\n', 'FGF8\\n', 'PCF11\\n', 'ELP6\\n', 'PGLYRP1\\n', 'WDR3\\n', 'POP5\\n', 'TRIM37\\n', 'ZNF253\\n', 'ZNF585A\\n', '956533\\n', 'SPARC\\n', 'FGA\\n', 'BAP1\\n', 'CD86\\n', 'APRT\\n', 'EFTUD2\\n', 'HLA-G\\n', 'DYNLRB1\\n', 'ASB2\\n', 'RHOBTB2\\n', 'TAAR9\\n', 'FN1\\n', 'RBCK1\\n', 'DSG2\\n', 'PRKN\\n', 'AMFR\\n', 'OR1J2\\n', 'RPL27\\n', 'H3C6\\n', 'TUBA8\\n', 'OR4D5\\n', 'TMEM30A\\n', 'VPREB1\\n', 'AP2A2\\n', 'CCL3\\n', 'TRAPPC10\\n', 'COL5A2\\n', 'TNFAIP6\\n', 'GRM4\\n', 'RNF168\\n', 'NUP58\\n', 'TFAM\\n', 'KIFC3\\n', 'ARF6\\n', 'OR2F1\\n', 'OR5A1\\n', 'USP17L12\\n', 'SLC22A6\\n', 'CD99L2\\n', 'THUMPD1\\n', 'RAP1A\\n', 'NDUFB5\\n', 'TEX264\\n', 'BBOX1\\n', 'ASH2L\\n', 'KRTAP10-10\\n', 'CCT5\\n', 'DERL2\\n', 'FBXW12\\n', 'CDC27\\n', 'CHMP4A\\n', 'AGT\\n', 'ZNF324B\\n', 'BHLHE40\\n', 'SRSF1\\n', 'OR10A3\\n', 'TNFRSF10D\\n', 'GSTK1\\n', 'OR5B21\\n', 'FBXO41\\n', 'ZNF571\\n', 'OR4N4\\n', 'ANKRD1\\n', 'ZNF300\\n', 'CDK2\\n', 'COL16A1\\n', 'RXFP1\\n', 'TEX10\\n', 'CLP1\\n', 'TFDP2\\n', 'TLL2\\n', 'RAB5C\\n', 'NOTCH3\\n', 'HMOX2\\n', 'USP34\\n', 'GLA\\n', 'IL12A\\n', 'DCUN1D5\\n', 'OR52N5\\n', 'GPS2\\n', 'CCL16\\n', 'PSMB10\\n', 'OR4B1\\n', 'AGO2\\n', 'YWHAZ\\n', 'SCNN1D\\n', 'ATG7\\n', 'AP1G1\\n', 'CHIT1\\n', 'SLC22A3\\n', 'FBXL20\\n', 'OR2Z1\\n', 'PIK3R1\\n', 'USP5\\n', 'PTBP1\\n', 'OR13A1\\n', 'RIN3\\n', 'CCL22\\n', 'TP73\\n', 'STAG1\\n', 'SLC24A5\\n', 'SVIP\\n', 'NANOG\\n', 'KDM6B\\n', 'GOT1\\n', 'USP30\\n', 'RAB3GAP2\\n', 'TAS2R10\\n', 'TRIP10\\n', 'OR5D14\\n', 'TICAM1\\n', 'RPLP1\\n', 'IMPDH1\\n', 'TRAPPC4\\n', 'PHF20\\n', 'UTP11\\n', 'KSR1\\n', 'CENPE\\n', 'FGF3\\n', 'ALDOC\\n', 'TCF3\\n', 'OR3A2\\n', 'ZNF197\\n', 'OR1L4\\n', 'ZNF45\\n', 'RCL1\\n', 'TIAM2\\n', 'RPS18\\n', 'RAD1\\n', 'OSTF1\\n', 'ZNF138\\n', 'UQCRB\\n', 'MVB12B\\n', 'EXOSC2\\n', 'CD47\\n', 'TAS2R31\\n', 'COL26A1\\n', 'KIF6\\n', 'WASF3\\n', 'PRNP\\n', 'BYSL\\n', 'TLE1\\n', 'EIF3E\\n', 'INSR\\n', 'AFP\\n', 'SRRM1\\n', 'EIF3D\\n', 'TAC1\\n', 'BANF1\\n', 'QPCT\\n', 'IP6K2\\n', 'PRMT3\\n', 'NOS3\\n', 'SUPT16H\\n', 'CPT1C\\n', 'NUAK1\\n', 'RPL6\\n', 'DCTN3\\n', 'SDCBP\\n', 'ADCY5\\n', 'ZNF26\\n', 'PPARGC1B\\n', 'RAD21\\n', 'SYNE1\\n', 'IGFBP3\\n', 'CXCL13\\n', 'ZNF774\\n', 'ATG4B\\n', 'TADA3\\n', 'KIF25\\n', 'KAT2B\\n', 'FYN\\n', 'MAD2L1\\n', 'H4C2\\n', 'RAB12\\n', 'OR8B12\\n', 'S1PR1\\n', 'TAF1\\n', 'P2RY6\\n', 'PRKAR2B\\n', 'TAF5\\n', 'MMP1\\n', 'OR52I1\\n', 'ZNF233\\n', 'OR6C75\\n', 'SLC27A1\\n', 'FLG2\\n', 'GRSF1\\n', 'ARF3\\n', 'OR10G7\\n', 'USP8\\n', 'H3C8\\n', 'HERC1\\n', 'UBE2R2\\n', 'VDAC1\\n', 'GNG8\\n', 'THOC5\\n', 'SYT8\\n', '79296\\n', 'GSPT2\\n', 'TIMP1\\n', 'BCL2\\n', 'IGFBP4\\n', 'SRGAP1\\n', 'CAPN7\\n', 'COX11\\n', 'ADH6\\n', 'USP17L19\\n', 'GNA12\\n', 'CAB39\\n', 'CSH1\\n', 'ALDOA\\n', 'DVL3\\n', 'HNRNPUL1\\n', 'SLIT1\\n', 'ZNF704\\n', 'ZFP69\\n', 'BRI3\\n', 'ELN\\n', 'PDGFB\\n', 'IFNA2\\n', 'TFRC\\n', 'EPAS1\\n', 'OR10J3\\n', 'RGS5\\n', 'PSMD13\\n', 'ZNF208\\n', 'AGPAT3\\n', 'TIRAP\\n', 'AGTRAP\\n', 'ATP8B4\\n', 'GNG13\\n', 'CGA\\n', 'RGS21\\n', 'POLR2B\\n', 'TOP2B\\n', 'GHRL\\n', 'PTPRJ\\n', 'KRTAP5-2\\n', 'PPP2R5E\\n', 'GNGT1\\n', 'CD80\\n', 'RRP8\\n', 'SNRNP70\\n', 'IQGAP1\\n', 'FIP1L1\\n', 'LCE3E\\n', 'SKP2\\n', 'PRKCG\\n', 'KRT33A\\n', 'H2AC1\\n', 'GPR18\\n', 'SYCP1\\n', 'RPL10A\\n', 'TP53BP1\\n', 'ZNF626\\n', 'PARN\\n', 'NCBP2\\n', 'UBXN7\\n', 'IL2RA\\n', 'ZNF706\\n', 'KNG1\\n', 'ATRIP\\n', 'CHD9\\n', 'OR56A1\\n', 'ZNF607\\n', 'ZNF577\\n', 'LTB4R2\\n', 'H3C11\\n', 'FBXL4\\n', 'LIN37\\n', 'KRTAP4-9\\n', 'HTR1E\\n', 'OR2F2\\n', 'PRR5\\n', 'DMAP1\\n', 'ZNF25\\n', 'AOC3\\n', 'PDE1B\\n', 'GNAT1\\n', 'PRCP\\n', 'TBC1D1\\n', 'OR5M8\\n', 'RNF4\\n', 'ENDOD1\\n', 'AKR1A1\\n', 'GPLD1\\n', 'CTSV\\n', 'NID1\\n', 'TSC1\\n', 'CDC37L1\\n', 'NRG1\\n', 'TMED7-TICAM2\\n', 'P2RY14\\n', 'SEC61A1\\n', 'MCM3\\n', 'H4C5\\n', 'TAS1R1\\n', 'AHCYL1\\n', 'XCR1\\n', 'GRIA1\\n', 'KRT33B\\n', 'NFYA\\n', 'PDIA3\\n', 'SCN8A\\n', 'ZNF839\\n', 'VTN\\n', 'ORC3\\n', 'OR52B6\\n', 'UTS2R\\n', 'OR2T11\\n', 'FZD2\\n', 'LAIR1\\n', 'PRCC\\n', 'CCND2\\n', 'TSR1\\n', 'OR1M1\\n', 'NR2E1\\n', 'TAF8\\n', 'DNAJA4\\n', 'ADORA2B\\n', 'CLINT1\\n', '35556781\\n', 'SPTA1\\n', 'CENPI\\n', 'IL6R\\n', 'DSG1\\n', 'OR7A10\\n', 'BUD23\\n', 'CXCL9\\n', 'KCMF1\\n', 'PTPN6\\n', 'INTS3\\n', 'PICALM\\n', 'RAD51\\n', 'CSF2RA\\n', 'DAAM1\\n', 'RBL1\\n', 'NCOR1\\n', 'LGALS3\\n', 'OR13H1\\n', 'FCN1\\n', 'DNMT3B\\n', 'ZNF416\\n', 'SREBF2\\n', 'CAND1\\n', 'UBE2H\\n', 'TRAP1\\n', 'OR5H2\\n', 'DCAF6\\n', 'PPP1R12B\\n', 'AKR1C3\\n', 'LIN7B\\n', 'SIRPB1\\n', 'EXOSC4\\n', 'OR8B2\\n', 'UBA6\\n', 'TAB2\\n', 'F13A1\\n', 'PSMB2\\n', 'TMED7\\n', 'CEP131\\n', 'ASB10\\n', 'ZNF195\\n', 'TAF4\\n', 'FBXW4\\n', 'ZNF514\\n', 'POLR1E\\n', 'COL1A1\\n', 'SPTBN2\\n', 'CAMK2B\\n', 'RNF213\\n', 'OR4L1\\n', 'PDPK1\\n', 'PUF60\\n', 'USP21\\n', 'AKT3\\n', 'ZNF419\\n', 'SNAP29\\n', 'ROBO2\\n', 'GRPR\\n', 'GAB2\\n', 'BCL2L1\\n', 'NUP54\\n', 'B9D1\\n', 'KRT20\\n', 'GNAZ\\n', 'KRTAP4-4\\n', 'SNRNP25\\n', 'CCNE2\\n', 'FAM13B\\n', 'NFATC1\\n', 'ADAMTS7\\n', 'PRL\\n', 'JAG2\\n', 'CMC2\\n', 'POMC\\n', '155030\\n', 'TUBB4B\\n', 'NPFFR2\\n', 'FABP5\\n', 'EIF3B\\n', 'FAM20A\\n', 'NOS2\\n', 'CHMP2B\\n', 'RAB6A\\n', 'FCGR3B\\n', 'FGF5\\n', 'CCZ1\\n', 'C12orf66\\n', 'RPL17\\n', 'KISS1R\\n', 'RPS10\\n', 'PPIH\\n', 'COPA\\n', 'STK10\\n', 'DCUN1D3\\n', 'BIRC3\\n', 'SPTSSA\\n', 'HNRNPC\\n', 'MAPK3\\n', 'XRCC1\\n', 'TAF9\\n', 'SLC9C1\\n', 'MC3R\\n', 'IGFALS\\n', 'OR8G1\\n', 'RRP36\\n', 'ZNF557\\n', 'RBX1\\n', 'MAFB\\n', 'ATP13A5\\n', 'KDM7A\\n', 'CDC6\\n', 'OR10H2\\n', 'CD200\\n', 'SSTR3\\n', 'KRT78\\n', 'ZFP37\\n', 'OR10V1\\n', 'H3C7\\n', 'ADCY7\\n', 'NR1H2\\n', 'CXADR\\n', 'ADCY9\\n', 'A2M\\n', 'HMGA1\\n', 'HDAC2\\n', 'HSD3B2\\n', 'MAPK12\\n', 'UBE2A\\n', 'FKBP4\\n', 'GSR\\n', 'ABCC10\\n', 'APOB\\n', 'ESR1\\n', 'OR51A4\\n', 'HLA-DRB5\\n', 'NABP2\\n', 'IFNA21\\n', 'LBP\\n', 'IGF2\\n', 'CLCNKB\\n', 'LCE6A\\n', 'ZNF256\\n', 'SPRED1\\n', 'MED12\\n', 'SEC24C\\n', 'ULK1\\n', 'OR1C1\\n', 'GPR32\\n', 'SOCS1\\n', 'GPSM2\\n', 'ARHGAP8\\n', 'CD58\\n', 'SH2B1\\n', 'HCAR1\\n', 'CRNKL1\\n', 'PLXNB1\\n', 'BOP1\\n', 'PSG8\\n', 'AADAC\\n', 'SFTPD\\n', 'PADI1\\n', 'ZNF561\\n', 'NDUFA7\\n', 'GPR65\\n', 'OR56A4\\n', 'FADS1\\n', 'ZNF620\\n', 'CDC7\\n', 'RGS9\\n', 'DNAJC3\\n', 'SCUBE3\\n', 'RPL3L\\n', 'TGFB1\\n', 'DRD1\\n', 'RPL38\\n', 'WAS\\n', 'TNFAIP3\\n', 'SUPT7L\\n', 'H3C2\\n', 'FBXW8\\n', 'GRIN2C\\n', 'WASF2\\n', 'TXNL4A\\n', 'OR9A2\\n', 'HSD3B1\\n', 'ZNF420\\n', 'SERPINB10\\n', 'CD59\\n', 'PCNA\\n', 'ANAPC5\\n', 'CSF3\\n', 'FOLR1\\n', 'ANAPC7\\n', 'MYL12B\\n', 'CPT1B\\n', 'JAM3\\n', 'OR5T2\\n', 'NEDD1\\n', '956527\\n', 'DCN\\n', 'MANF\\n', 'UBE2Q2\\n', 'HIF3A\\n', 'CSF2\\n', 'H2AZ2\\n', 'ZNF471\\n', 'TGS1\\n', 'POLA1\\n', 'ADRM1\\n', 'CCL4L2\\n', 'MAGED1\\n', 'COPS7B\\n', 'SPHK1\\n', 'LRG1\\n', 'APAF1\\n', 'PCP2\\n', 'PQBP1\\n', 'SCNN1B\\n', 'PRG2\\n', 'CD101\\n', 'OR1B1\\n', 'HUS1\\n', 'MT-CO2\\n', 'IL4R\\n', 'ALOX5\\n', 'TGFB2\\n', 'BCAP31\\n', 'RNF138\\n', 'TGOLN2\\n', 'KAT14\\n', 'MED11\\n', 'WDR75\\n', 'GPC6\\n', 'RAB18\\n', 'SPPL2B\\n', 'ARHGAP9\\n', 'GNAI3\\n', 'MMP13\\n', 'MFGE8\\n', 'MUS81\\n', 'FPR1\\n', 'PCBP2\\n', 'GPR84\\n', 'GPX7\\n', 'MED23\\n', 'TAF7\\n', 'ANAPC11\\n', 'GJD4\\n', 'ZNF273\\n', 'RPS2\\n', 'SLC44A2\\n', 'RPS15\\n', 'COMMD1\\n', 'GABBR1\\n', 'OR5AC2\\n', 'IGF2BP1\\n', 'NDUFA2\\n', 'YBX1\\n', 'ERLIN2\\n', 'AVPR1A\\n', 'MLH3\\n', 'RAMP1\\n', 'LCE2A\\n', 'FZD4\\n', 'CD177\\n', 'CCL13\\n', 'ARHGAP29\\n', 'ARFGAP3\\n', 'NOS1\\n', 'TEAD4\\n', 'HNRNPF\\n', 'SLC7A9\\n', 'PSMA1\\n', 'SCAI\\n', 'ZNF202\\n', 'PIK3R2\\n', 'NCAM1\\n', 'BRCC3\\n', 'USP15\\n', 'GMFG\\n', 'RPL37A\\n', 'HJURP\\n', 'UBA1\\n', 'KCNAB1\\n', 'SP1\\n', 'ACADS\\n', 'FAM114A2\\n', 'TRIM62\\n', 'DYNC1I2\\n', 'EMD\\n', 'TCF7\\n', 'ZNF573\\n', 'ZNF679\\n', 'IGLL1\\n', 'AP1S2\\n', 'H3C10\\n', 'FBXL5\\n', 'CCT3\\n', 'HECTD3\\n', 'USP7\\n', 'ZNF675\\n', 'MYL9\\n', 'VPS45\\n', 'LILRB3\\n', 'ZNF700\\n', 'PPP1R13B\\n', 'ZNF317\\n', 'AURKA\\n', 'GPC4\\n', 'DLC1\\n', 'IRF3\\n', 'DBI\\n', 'SMG9\\n', 'DOCK10\\n', 'ZNF92\\n', 'ALOX15\\n', 'FTSJ3\\n', 'CHMP3\\n', 'ACBD3\\n', 'PECAM1\\n', 'ZNF267\\n', 'UNC13D\\n', 'GNB5\\n', 'SEPSECS\\n', 'ADRB1\\n', 'OR8K3\\n', 'IMP4\\n', 'PPIE\\n', 'KLHL2\\n', 'E2F8\\n', 'CD53\\n', 'PTX3\\n', 'RPL39\\n', 'LAMTOR3\\n', 'APLN\\n', 'TAS1R3\\n', 'NOD1\\n', 'UBE2D3\\n', 'HEXB\\n', 'CTSS\\n', 'LDHAL6B\\n', 'MED16\\n', 'POU2F1\\n', 'ANXA1\\n', 'DCTN1\\n', 'ZNF692\\n', 'RPS8\\n', 'ASB1\\n', 'ANO8\\n', 'APP\\n', 'XRCC6\\n', 'A1BG\\n', 'SULT1A3\\n', 'WDR20\\n', 'VHL\\n', 'MCF2L\\n', 'FAM120B\\n', 'PTAFR\\n', 'TRIM63\\n', 'STON1\\n', 'PHC3\\n', 'MYDGF\\n', 'COMMD5\\n', 'RNASE3\\n', 'HLA-DOA\\n', 'DNMT3A\\n', 'ZNF212\\n', 'ARHGEF16\\n', 'TAF11\\n', 'SETD1B\\n', 'H3C1\\n', 'ACER3\\n', 'PSMA8\\n', 'USP9X\\n', 'CXCL16\\n', 'KDM3A\\n', 'RPS27\\n', 'PIAS1\\n', 'TMED10\\n', 'GATA5\\n', 'TGFBR1\\n', 'KIF19\\n', 'LTF\\n', 'POLR3G\\n', 'CRTC3\\n', 'VWF\\n', 'CSNK1G2\\n', 'CBLL2\\n', 'LMAN2L\\n', 'CENPM\\n', 'OR4A16\\n', 'ZNF215\\n', 'PERP\\n', 'HDAC5\\n', 'ESPL1\\n', 'PACSIN3\\n', 'CCNA1\\n', 'OR11H4\\n', 'ELANE\\n', 'GRM3\\n', 'THBD\\n', 'WBP11\\n', 'ALDH1B1\\n', 'SPSB2\\n', 'TSPAN5\\n', 'UBE2C\\n', 'OR2J1\\n', 'OR5K2\\n', 'SPCS2\\n', 'OR10C1\\n', 'CNKSR2\\n', 'HDAC8\\n', 'OR8U3\\n', 'GPX3\\n', 'LDHC\\n', 'RNF123\\n', 'ETS1\\n', 'LAMTOR1\\n', 'MYB\\n', 'ATP9A\\n', 'CHMP4B\\n', 'MED26\\n', 'RPS3\\n', 'TMEM67\\n', 'STOM\\n', 'PRKAG1\\n', 'PPP6R1\\n', 'OR4E1\\n', 'OR4A5\\n', 'IL5\\n', 'SPSB1\\n', 'ACTN4\\n', 'ACTR3\\n', 'STMN1\\n', 'S1PR5\\n', 'CSTF2T\\n', 'NEU1\\n', 'DEK\\n', 'MAPRE1\\n', 'TBC1D10C\\n', 'POLK\\n', 'IQCB1\\n', 'CHUK\\n', 'OBSL1\\n', 'CXCR6\\n', 'ASIC1\\n', 'H3-4\\n', 'RPL7A\\n', 'TBL3\\n', 'VAMP8\\n', 'SRP68\\n', 'TNIK\\n', 'CEP43\\n', 'E2F3\\n', 'ZNF354A\\n', 'GALNS\\n', 'STX1A\\n', 'COL28A1\\n', 'ACTN2\\n', 'PSMD5\\n', 'GOLGA2\\n', 'EDNRB\\n', 'P2RY2\\n', 'SF3B3\\n', 'CTSE\\n', 'NAPRT\\n', 'KALRN\\n', 'ST14\\n', 'HOXD3\\n', 'RPL23\\n', 'H3-3B\\n', 'CENPJ\\n', 'DCAF17\\n', 'DEFB133\\n', 'NEFL\\n', 'EFNA2\\n', 'SNAP25\\n', 'ZNF804B\\n', 'NFKB1\\n', 'UBR4\\n', 'EPHA2\\n', 'ITPR3\\n', 'NUP98\\n', 'NRG3\\n', 'ARTN\\n', 'EPX\\n', 'IFNA16\\n', 'CSF1\\n', 'RPP14\\n', 'MAP3K14\\n', 'RGS1\\n', 'OR6K2\\n', 'ZNF547\\n', 'CCL4\\n', 'ZNF777\\n', 'BCKDHA\\n', 'ZNF496\\n', 'EFNB2\\n', 'ABCG2\\n', 'PRKCB\\n', 'CEP89\\n', 'TAC3\\n', 'DOCK9\\n', 'SLC6A11\\n', 'CD33\\n', 'MYH10\\n', 'NCAPD3\\n', 'ASB14\\n', 'CSNK2B\\n', 'HIBADH\\n', 'OR2T35\\n', 'OR10H4\\n', 'RPS17\\n', '728929\\n', 'H2AC20\\n', 'ADAM8\\n', 'RTF1\\n', 'CCKAR\\n', 'MAPK13\\n', 'CD226\\n', 'GNA15\\n', 'RPS7\\n', 'OR5T1\\n', 'OR5H6\\n', 'TMEM115\\n', 'MEN1\\n', 'TLR4\\n', 'CCR6\\n', 'TRAPPC6B\\n', 'NCF4\\n', 'TICAM2\\n', 'ERBIN\\n', 'H2AC11\\n', 'SYTL4\\n', 'LTB4R\\n', 'TBL1XR1\\n', 'XPO1\\n', 'MYC\\n', 'NCK2\\n', 'OR6N1\\n', 'RAB24\\n', 'UBE2U\\n', 'TGFA\\n', 'ADHFE1\\n', 'ZNF555\\n', 'OR10W1\\n', 'PSMB7\\n', 'TUBG2\\n', 'OR1D5\\n', 'CST3\\n', 'CCNT1\\n', 'ALDH3A1\\n', 'POLR1C\\n', 'PLIN1\\n', 'TRAT1\\n', 'IL2RG\\n', 'NINL\\n', 'TAF9B\\n', 'EDEM1\\n', 'ZNF302\\n', 'MED14\\n', 'GM2A\\n', 'PSMD3\\n', 'CBLB\\n', 'CCT8\\n', 'ARHGAP23\\n', 'H2AC16\\n', 'OR2G2\\n', 'OPHN1\\n', 'LIMS1\\n', 'CEP72\\n', 'OR52Z1\\n', 'OR5B2\\n', 'MYO9A\\n', 'ACTR1B\\n', 'AMER1\\n', 'ARID2\\n', 'USP33\\n', 'TAS2R9\\n', 'RPS4X\\n', 'RELA\\n', 'OR6A2\\n', 'NEURL1\\n', 'GPR4\\n', 'RGS7\\n', 'ZNF720\\n', 'ATG14\\n', 'MAML1\\n', 'PRKCQ\\n', 'RPS15A\\n', 'DCAF10\\n', 'CDH1\\n', 'RAB41\\n', 'UBA7\\n', 'PRPF6\\n', 'POLE\\n', 'OR52A1\\n', 'RHO\\n', 'CCL25\\n', 'BUB1\\n', 'TAS2R38\\n', 'ZNF587\\n', 'OR5C1\\n', 'GCC1\\n', 'RCHY1\\n', 'SPINK9\\n', 'ARHGAP45\\n', 'CX3CL1\\n', 'VAV1\\n', 'SSR2\\n', 'GNAO1\\n', 'USP10\\n', 'H2AC15\\n', 'SMARCA4\\n', 'IKBKB\\n', 'OR4F29\\n', 'SKP1\\n', 'ZNF440\\n', 'OR2A4\\n', 'SOD1\\n', 'OGG1\\n', 'UBB\\n', 'MYH11\\n', 'NMU\\n', 'FBXW5\\n', 'RPL8\\n', 'H3C13\\n', 'MBD3\\n', 'CLEC2B\\n', 'NUF2\\n', 'NPDC1\\n', 'RFC4\\n', 'NPY4R\\n', 'GBP7\\n', 'TMED9\\n', 'OR6P1\\n', 'OR1A2\\n', 'CCL28\\n', 'OR4K2\\n', 'OR5P2\\n', 'TAF1B\\n', 'ADCY4\\n', 'TUBB3\\n', 'RARRES2\\n', 'SNU13\\n', 'SH3GL3\\n', 'G6PD\\n', 'AGL\\n', 'SEL1L\\n', 'BST1\\n', 'NPY2R\\n', 'GAD1\\n', 'NCKAP1L\\n', 'OR6S1\\n', 'PNP\\n', 'OR10P1\\n', 'TOM1\\n', 'OR6X1\\n', 'PPIL3\\n', 'INCENP\\n', 'ERCC8\\n', 'MBD6\\n', 'MPRIP\\n', 'ADAM10\\n', 'CTSD\\n', 'FBXL3\\n', 'POLH\\n', 'IRAK4\\n', 'KRT8\\n', 'FAF2\\n', 'CYP4A11\\n', 'MED30\\n', 'KRT7\\n', 'BCL9L\\n', 'EPHA10\\n', 'USP17L25\\n', 'NFKBIA\\n', 'SRSF9\\n', 'PDCD11\\n', 'ZNF304\\n', 'XK\\n', 'CDK1\\n', 'CTSZ\\n', 'MAGED2\\n', 'ZNF71\\n', 'ACOX2\\n', 'ZNF12\\n', 'NMUR2\\n', 'N6AMT1\\n', 'CKS1B\\n', 'OR2K2\\n', 'POLR3D\\n', 'SPRED2\\n', 'NELFCD\\n', 'MAPK11\\n', 'MPO\\n', 'TNKS2\\n', 'OR56A5\\n', 'TRIM32\\n', 'TOMM70\\n', 'STK11\\n', 'DOCK11\\n', 'CLIP1\\n', 'PDHX\\n', 'PRLHR\\n', 'OR2T12\\n', 'AHR\\n', 'KRT17\\n', 'RAP2C\\n', 'ATP6V0C\\n', 'CAPN2\\n', 'ARHGAP44\\n', 'NMUR1\\n', 'IL5RA\\n', 'S100A7\\n', 'GSTP1\\n', 'APOBEC3G\\n', 'TACR1\\n', 'AGTPBP1\\n', 'CREM\\n', 'CAMK2G\\n', 'JAK1\\n', 'IKZF1\\n', 'COP1\\n', 'H2BC17\\n', 'ZNF543\\n', 'DGCR8\\n', 'INTS11\\n', 'ZNF548\\n', 'ZNF776\\n', 'KRT84\\n', 'ERCC4\\n', 'BRIP1\\n', 'SIGLEC14\\n', 'OR7C2\\n', 'PVR\\n', 'NFIL3\\n', 'MED1\\n', 'ARHGAP1\\n', 'PRKAA2\\n', 'UBE2K\\n', 'ABCA13\\n', 'GNL3\\n', 'KDR\\n', 'ZNF30\\n', 'HTR1B\\n', 'CYFIP1\\n', 'OR52I2\\n', 'EXOSC9\\n', 'SMARCC2\\n', 'GSPT1\\n', 'ZNF442\\n', 'AMELX\\n', 'OR4F5\\n', 'NPSR1\\n', 'BCAN\\n', 'OR1E1\\n', 'PCDH7\\n', 'CDC26\\n', 'RPS24\\n', 'IL1RL1\\n', 'POLR2J\\n', 'ZNF77\\n', 'FPR3\\n', 'AGTR1\\n', 'HIPK2\\n', 'DLL1\\n', 'TRAIP\\n', 'GNAT2\\n', 'PRKCSH\\n', 'OR2J2\\n', 'ACTG1\\n', 'BUB3\\n', 'CASP2\\n', 'ODAM\\n', 'TNNC1\\n', 'PDE1A\\n', 'SPIDR\\n', 'ZWILCH\\n', 'RPS28\\n', 'ZNF671\\n', 'RNASE1\\n', 'HP\\n', 'NCOA1\\n', 'UNC79\\n', 'HNRNPL\\n', 'RASGRF2\\n', 'EPM2A\\n', 'ZW10\\n', 'EGF\\n', 'KLRF1\\n', 'DHX38\\n', 'OR51I1\\n', 'NMBR\\n', 'FER\\n', 'RNF146\\n', 'TRIM71\\n', 'KRTAP21-3\\n', 'OSCAR\\n', 'GPAM\\n', 'KLK5\\n', 'SYCE2\\n', 'AP1M2\\n', 'KLHL42\\n', 'AOX1\\n', 'CD109\\n', 'MAGOH\\n', 'NECAP2\\n', 'MAMLD1\\n', 'SKA2\\n', 'CEP152\\n', 'LEP\\n', 'TAS2R46\\n', 'NCAN\\n', 'BDP1\\n', 'BCAT2\\n', 'STK11IP\\n', 'GRIN2B\\n', 'ZNF157\\n', 'TUBA4A\\n', 'ATP6V1G1\\n', 'ICAM2\\n', 'INTU\\n', 'TSC2\\n', 'COPS5\\n', 'GRIN1\\n', 'DYNLL1\\n', 'GADD45A\\n', 'WDR5\\n', 'RPL24\\n', 'UBE3A\\n', 'KLC4\\n', 'APLP2\\n', 'OR5J2\\n', 'SPTBN4\\n', 'GPX2\\n', 'IL27RA\\n', 'CD8A\\n', 'PTH\\n', 'GAA\\n', 'EEFSEC\\n', 'EPHB4\\n', 'PSENEN\\n', 'OR13C3\\n', 'PDE6A\\n', 'SOAT2\\n', 'SPRR2D\\n', 'ZNF484\\n', 'CALU\\n', 'DRD4\\n', 'PRDM7\\n', 'GLI3\\n', 'OASL\\n', 'ACADVL\\n', 'ADCY1\\n', 'RAB4A\\n', 'RPL15\\n', 'LRRC41\\n', 'OR10AD1\\n', 'TTR\\n', 'VWA1\\n', 'FMNL1\\n', 'GYG1\\n', 'PGM2\\n', 'KLRK1\\n', 'KIF3A\\n', 'NAPB\\n', 'FGL2\\n', 'ANO2\\n', 'ISG15\\n', 'PSMD9\\n', 'RACGAP1\\n', 'STAT5B\\n', 'SURF4\\n', 'RTP3\\n', 'ATP13A4\\n', 'CASP3\\n', 'OR11L1\\n', 'VIP\\n', 'CXCL2\\n', 'NDUFV1\\n', 'RPS11\\n', 'RPL30\\n', 'XPO5\\n', 'ATP6V0A1\\n', 'LRRTM3\\n', 'JADE1\\n', 'TUBA3E\\n', 'TUBB2B\\n', 'CCAR1\\n', 'PELI3\\n', 'ARNT2\\n', 'OPN5\\n', 'NGF\\n', 'RASA1\\n', 'EDN3\\n', 'SNAP23\\n', 'PSME4\\n', 'RXRB\\n', 'FERMT3\\n', 'F2R\\n', 'KPNA1\\n', 'TRIM3\\n', 'EVL\\n', 'SGIP1\\n', 'FXYD3\\n', 'PSTPIP1\\n', 'DGKD\\n', 'SARNP\\n', 'RPS16\\n', 'KRT40\\n', 'KRT83\\n', 'KLRC2\\n', 'B4GALT7\\n', 'MAP2K4\\n', 'TUBA1A\\n', 'RPL41\\n', 'HSPA14\\n', 'TNRC6C\\n', 'ZNF655\\n', 'GRK2\\n', 'FSHR\\n', 'SYK\\n', 'OR5AR1\\n', 'ARHGEF15\\n', 'CD14\\n', 'ATM\\n', 'PFKL\\n', 'TMX3\\n', 'RPL13\\n', 'OR52M1\\n', 'GORASP1\\n', 'HMGCS1\\n', 'PSMB4\\n', 'GP1BA\\n', 'MC4R\\n', 'OR6B1\\n', 'TMED3\\n', 'THRAP3\\n', 'ARHGAP20\\n', 'ARHGDIA\\n', 'OR52E8\\n', 'SYT9\\n', 'CD96\\n', 'HADHA\\n', 'TLR2\\n', 'TAF1D\\n', 'HABP4\\n', 'SEM1\\n', 'FZD3\\n', 'CXCL10\\n', 'NDUFA1\\n', 'NOC4L\\n', 'UTP14A\\n', 'DOK3\\n', 'SHC1\\n', 'OR4K5\\n', 'INSL5\\n', 'OR2D2\\n', 'ACKR4\\n', 'GAPDH\\n', 'ZNF582\\n', 'CX3CR1\\n', 'RAPGEF3\\n', 'OR4F15\\n', 'FUCA2\\n', 'CDO1\\n', 'H4C6\\n', 'HLA-C\\n', 'PKP3\\n', 'USF1\\n', 'TRAF7\\n', 'FOSB\\n', 'COMMD6\\n', 'OR5AN1\\n', 'RTP5\\n', 'CYP2E1\\n', 'AEBP2\\n', 'NHLRC2\\n', 'THEM4\\n', 'ATP6AP2\\n', 'CDA\\n', 'ARMC8\\n', 'GATAD2B\\n', 'CSTF1\\n', 'DROSHA\\n', 'C5\\n', 'CENPH\\n', 'OR7A5\\n', 'GGA1\\n', 'WNK3\\n', 'PSG2\\n', 'HEYL\\n', 'COL24A1\\n', 'ASB12\\n', 'FOS\\n', 'EIF3C\\n', 'SRSF11\\n', 'FBXW7\\n', 'FBXO2\\n', 'SF3A1\\n', 'CHD4\\n', 'FBXO4\\n', 'KBTBD13\\n', 'ELP4\\n', 'CRY1\\n', 'ELOB\\n', 'GLP1R\\n', 'RRAGD\\n', 'PRMT5\\n', 'MED29\\n', 'PPARA\\n', 'AKR1D1\\n', 'RLN3\\n', 'OR8A1\\n', 'LRTOMT\\n', 'PSMA3\\n', 'ARHGEF9\\n', 'ZNF224\\n', 'EIF3M\\n', 'SIRPA\\n', 'BIN2\\n', 'WNT5A\\n', 'INTS5\\n', 'RARA\\n', 'ZNF566\\n', 'SDR9C7\\n', 'OR5D18\\n', 'DDX39A\\n', 'GNB4\\n', 'ALCAM\\n', 'NELFE\\n', 'TCP1\\n', 'SRI\\n', 'ZNF331\\n', 'HAUS3\\n', 'MTHFD1L\\n', 'HIF1A\\n', 'COL23A1\\n', 'MOSPD2\\n', 'MAML3\\n', 'CFHR3\\n', 'ZC3H8\\n', 'NRG4\\n', 'RPL31\\n', 'F9\\n', 'TAOK1\\n', 'ZNF101\\n', 'DOCK7\\n', 'PRSS2\\n', 'ACADM\\n', 'HLA-DPB1\\n', 'PDGFA\\n', 'TNF\\n', 'PNLIP\\n', 'TPP2\\n', 'CCL1\\n', 'MORF4L1\\n', 'OR1J1\\n', 'OR2J3\\n', 'WDR18\\n', 'EIF4A1\\n', 'OR10J5\\n', 'PLD1\\n', 'TUBA1C\\n', 'CHRM5\\n', 'COL6A1\\n', 'PPP3R1\\n', 'H2BC15\\n', 'CDKN2D\\n', 'OR10G4\\n', 'JAK2\\n', 'CLEC4C\\n', 'AMTN\\n', 'AKT1\\n', 'RPL36\\n', 'NUP160\\n', 'SLC6A1\\n', 'CXCR1\\n', 'FGD1\\n', 'WAPL\\n', 'PLCG1\\n', 'MLH1\\n', 'COL18A1\\n', 'RAB7B\\n', 'TNFRSF11A\\n', 'E2F5\\n', 'POLR1B\\n', 'SPTB\\n', 'FBXL8\\n', 'SEH1L\\n', 'COL6A2\\n', 'OR2A14\\n', 'HIVEP3\\n', 'BRD8\\n', 'ULBP1\\n', 'RPL14\\n', 'CRTAM\\n', 'GTF3C5\\n', 'CTR9\\n', 'CREG1\\n', 'NUP155\\n', 'OR5AP2\\n', 'ATF2\\n', 'DDX39B\\n', 'FUCA1\\n', 'RPS6KA2\\n', 'TAPBP\\n', 'ZNF445\\n', 'ANO5\\n', 'TAS2R13\\n', 'SUMO3\\n', 'CD63\\n', 'GTF2H4\\n', 'PRDX2\\n', 'ZNF746\\n', 'CEP41\\n', 'MELTF\\n', 'TRIM50\\n', 'NAE1\\n', 'RANGAP1\\n', 'ASB13\\n', 'LAMTOR2\\n', 'SMURF1\\n', 'SMAD3\\n', 'COX6A1\\n', 'BLOC1S1\\n', 'MAP3K11\\n', 'ACSL1\\n', 'ZNF354C\\n', 'LTBR\\n', 'YAP1\\n', 'NPW\\n', 'IL17F\\n', 'KRAS\\n', 'LHCGR\\n', 'ITGA1\\n', 'OR5A2\\n', 'PSMA6\\n', 'EXOSC3\\n', 'SEMA4D\\n', 'GSK3B\\n', 'ZNF213\\n', 'F2\\n', 'CASP8\\n', 'GHRH\\n', 'UPF2\\n', 'CEP70\\n', 'BCAR1\\n', 'AP1M1\\n', 'STUB1\\n', 'NDC1\\n', 'KRT74\\n', 'CDK8\\n', 'TNKS\\n', 'SNRPA\\n', 'VAV2\\n', 'AGXT2\\n', 'ASB5\\n', 'CLEC3B\\n', 'ZNF615\\n', 'PSMB8\\n', 'ADRA1D\\n', 'MADCAM1\\n', 'FGF20\\n', 'BCAS2\\n', '162699\\n', 'GRK5\\n', 'SEC24D\\n', 'ITGB3\\n', 'KLHL5\\n', 'DYNC1LI1\\n', 'NR1I3\\n', 'FBXW11\\n', 'RAD51AP1\\n', 'ZNF79\\n', 'ZNF564\\n', 'MANBA\\n', 'GBP6\\n', 'ALS2\\n', 'OR6V1\\n', 'KHSRP\\n', 'BLM\\n', 'SEC24B\\n', 'OR9A4\\n', 'ZNF490\\n', 'PARP10\\n', 'LIN7C\\n', 'NDUFA6\\n', 'RNF130\\n', 'OR1S1\\n', 'GPSM1\\n', 'OR51Q1\\n', 'IMPDH2\\n', 'H2BC8\\n', 'ERCC6\\n', 'TCTN3\\n', 'GRM2\\n', 'CAPN1\\n', 'TMOD4\\n', 'ARHGEF1\\n', 'TACR3\\n', 'ATP8A2\\n', 'DVL2\\n', 'GTPBP2\\n', 'DBNL\\n', 'CHST13\\n', 'OR5W2\\n', 'COL9A2\\n', 'DR1\\n', 'SCOC\\n', 'CTH\\n', 'FOXO4\\n', 'RIPK1\\n', 'OR52H1\\n', 'CCND1\\n', 'TOLLIP\\n', 'IRF6\\n', 'OR5I1\\n', 'UBE2M\\n', 'HDAC7\\n', 'DEFA1B\\n', 'OTUD5\\n', 'ACP3\\n', 'POLR2I\\n', 'FBXL12\\n', 'TBX5\\n', 'SNAPC5\\n', 'RAB9B\\n', 'ZNF790\\n', 'U2SURP\\n', 'CFTR\\n', 'MED4\\n', 'ATP6V1B1\\n', 'PCM1\\n', 'HTR1A\\n', 'OR4D6\\n', 'AURKB\\n', 'MAVS\\n', 'PDE8A\\n', 'POLE2\\n', 'CNOT11\\n', 'OR13J1\\n', 'IL18BP\\n', 'TAS2R4\\n', 'RETN\\n', 'IRS1\\n', 'LCE4A\\n', 'KRT12\\n', 'OR2L13\\n', 'HSPG2\\n', 'ZNF160\\n', 'MTM1\\n', 'CHRDL1\\n', 'SCAMP1\\n', 'OR51I2\\n', 'EAF1\\n', 'EPHB6\\n', 'RPL21\\n', 'B4GALT1\\n', 'PSTK\\n', 'UTP14C\\n', 'DNM3\\n', 'RXFP3\\n', 'PKP2\\n', 'HAUS2\\n', 'RHOA\\n', 'MAP3K3\\n', 'ZNF184\\n', 'KIR3DL1\\n', 'OTUD3\\n', 'PDGFRB\\n', 'TRIM69\\n', 'GP9\\n', 'SERPING1\\n', 'DEFB105A\\n', 'LPAR3\\n', 'EVPL\\n', 'HOXA2\\n', 'FGF22\\n', 'ZNF154\\n', 'PFN1\\n', 'IL12B\\n', 'MC5R\\n', 'DOCK2\\n', 'MPHOSPH10\\n', 'OR2AG2\\n', 'CD244\\n', 'OR56A3\\n', 'SRSF6\\n', 'USP17L18\\n', 'OR51B5\\n', 'HAUS5\\n', 'PTGS2\\n', 'LNX1\\n', 'USP14\\n', 'STAT5A\\n', 'PRKAB1\\n', 'GPR17\\n', 'QRFP\\n', 'ANPEP\\n', 'COPS4\\n', 'ZNF660\\n', 'H2BC9\\n', 'MAPKAPK3\\n', 'ZNF614\\n', 'DIMT1\\n', 'MGAM\\n', 'ZNF584\\n', 'KBTBD7\\n', 'ZIK1\\n', 'TUBA3D\\n', 'HECTD2\\n', 'OR10J1\\n', 'JUN\\n', 'ILF2\\n', 'GNB3\\n', 'ITPR2\\n', 'H4C1\\n', 'OXTR\\n', 'COLGALT2\\n', 'PDE7B\\n', 'BRAF\\n', 'ZNF556\\n', 'RDH8\\n', 'ALAD\\n', 'EEF2\\n', 'PAX3\\n', 'CLASP2\\n', 'FANCL\\n', 'COL4A3\\n', 'CCNT2\\n', 'ZNF770\\n', 'ZNF250\\n', 'AP4S1\\n', 'ATG9A\\n', 'KLHDC3\\n', 'COMMD3-BMI1\\n', 'CASK\\n', 'ABHD5\\n', 'RNF34\\n', 'ASB6\\n', 'USP44\\n', 'PRPF19\\n', 'DZIP1\\n', 'OR5H14\\n', 'ACTR10\\n', 'NUDT2\\n', 'CUL1\\n', 'RHOQ\\n', 'ARAF\\n', '155971\\n', 'OR2L2\\n', 'GNG5\\n', 'ZCRB1\\n', 'LILRA4\\n', 'ERCC3\\n', 'CALML5\\n', 'TAS2R8\\n', 'HLA-F\\n', 'NRAS\\n', 'SSTR1\\n', 'SEC23A\\n', 'SERPINA1\\n', 'STIM1\\n', 'DNM1\\n', 'TOP1\\n', 'HRG\\n', 'OR2AG1\\n', 'DNAJB1\\n', 'NUP188\\n', 'OR9I1\\n', 'ZNF432\\n', 'PTGES2\\n', 'ZNF23\\n', 'RBP3\\n', 'RRAGB\\n', 'KDELR2\\n', 'GTF2E2\\n', 'ELOA\\n', 'FGF10\\n', 'REEP5\\n', 'ABCB1\\n', 'STAT3\\n', 'RRP7A\\n', 'LHFPL2\\n', 'TOR1A\\n', 'PTPRA\\n', 'DOCK5\\n', 'IFNA17\\n', 'VPS36\\n', 'SPP2\\n', 'POLE4\\n', 'COL9A3\\n', 'FGF2\\n', 'NOL12\\n', 'POLE3\\n', 'RAB1A\\n', 'CLU\\n', 'CD19\\n', 'PKP1\\n', 'UBE2S\\n', 'MCM2\\n', 'TAS2R3\\n', 'NEO1\\n', 'CAPZA1\\n', 'SELL\\n', 'GTF2E1\\n', 'OR11A1\\n', 'GTF2H1\\n', 'LGALS1\\n', 'DTX1\\n', 'IFIH1\\n', 'ACD\\n', 'SPC24\\n', 'KIF4B\\n', 'EIF4A3\\n', 'NPS\\n', 'COL8A1\\n', 'PLK1\\n', 'GIPR\\n', 'FFAR3\\n', 'APLNR\\n', 'MYBL2\\n', 'CDK6\\n', 'SLC2A4\\n', 'FBN1\\n', 'SDC2\\n', 'ORMDL3\\n', 'ZNF737\\n', 'ZNF658\\n', 'SUPT20H\\n', 'MAML2\\n', 'ZNRF1\\n', 'DTL\\n', 'KIF2C\\n', 'IVL\\n', 'ZFYVE9\\n', 'LRR1\\n', 'HOXC4\\n', 'ZNF705G\\n', 'ZNF334\\n', 'SDS\\n', 'GAPVD1\\n', 'LCE2D\\n', 'SPTAN1\\n', 'AP2M1\\n', 'FGF19\\n', 'BRCA1\\n', 'MAT1A\\n', 'RAB3IP\\n', 'OR1L3\\n', 'PRDM9\\n', 'GPR20\\n', 'PSAP\\n', 'PRKAR2A\\n', 'CLIC2\\n', 'MTREX\\n', 'CC2D2A\\n', 'TSPAN14\\n', 'PHF19\\n', 'RPLP2\\n', 'KEAP1\\n', 'OR4F21\\n', 'CYB5R3\\n', 'CENPS\\n', 'OR2T10\\n', 'SHC3\\n', 'KRT34\\n', 'ARG1\\n', 'KIF26B\\n', 'SRP19\\n', 'DENND2A\\n', 'EIF3G\\n', 'KIF9\\n', 'NR1H3\\n', 'OR4D11\\n', 'SESN1\\n', 'EIF4E\\n', 'ABAT\\n', 'ERLEC1\\n', 'FBXO7\\n', 'HLA-DRB4\\n', 'CYP7A1\\n', 'PABPN1\\n', 'UPF3B\\n', 'BMI1\\n', 'COL12A1\\n', 'DLGAP4\\n', 'RALGAPB\\n', 'KLHL25\\n', 'BMS1\\n', 'MYBBP1A\\n', 'NUP85\\n', 'ZNF799\\n', 'NDUFS4\\n', 'ERI1\\n', 'USP17L1\\n', 'ZNF689\\n', 'DLD\\n', 'TP53\\n', 'ATP1A2\\n', 'NPEPPS\\n', 'ZKSCAN5\\n', 'ANAPC15\\n', 'SNURF\\n', 'CBX4\\n', 'BRPF1\\n', 'RNF128\\n', 'ZNF568\\n', 'EZH2\\n', 'SUPT5H\\n', 'GNAS\\n', 'OR6T1\\n', 'GNGT2\\n', 'CENPX\\n', 'RNF111\\n', 'ERCC2\\n', 'OPRD1\\n', 'WDR61\\n', 'OR51T1\\n', 'NME2\\n', 'IL23A\\n', 'CRCP\\n', 'TRIM68\\n', 'OR5B3\\n', 'HAUS8\\n', 'BEST4\\n', 'TAF13\\n', 'PRPF4\\n', 'PAK2\\n', 'LGMN\\n', 'STAMBP\\n', 'DTX2\\n', 'PPIA\\n', 'TXN2\\n', 'KRTAP4-2\\n', 'OR52D1\\n', 'PNO1\\n', 'OR4C16\\n', 'MCM5\\n', 'CLEC10A\\n', 'FANCI\\n', 'SH3GL1\\n', 'OR4X2\\n', 'ZNF431\\n', 'GTF2A1\\n', 'DERL1\\n', 'PYGL\\n', 'KRT9\\n', 'H2AC13\\n', 'SLU7\\n', 'OR2AP1\\n', 'FRS2\\n', 'OR10Z1\\n', 'ZNF554\\n', 'ZNF619\\n', 'CTSH\\n', 'TFAP2B\\n', 'OR51J1\\n', 'DCAF7\\n', 'OR52B2\\n', 'PABPC1\\n', 'ZNF696\\n', 'ZNF350\\n', 'ZNF429\\n', 'YWHAQ\\n', 'EGR1\\n', 'RCOR1\\n', 'ODF2\\n', 'OR9G4\\n', 'SUMO1\\n', 'H4-16\\n', 'LAMP2\\n', 'USP17L10\\n', 'TMSB4X\\n', 'RPL3\\n', 'KLHL21\\n', 'GRM6\\n', 'GPR55\\n', 'FCHO1\\n', 'CAPN5\\n', 'PROKR1\\n', 'EP300\\n', 'SETD2\\n', 'ZNF707\\n', 'POLR2H\\n', 'FOXO1\\n', 'OR51D1\\n', 'NCK1\\n', 'PIGR\\n', 'APCS\\n', 'PSMC3\\n', 'DEFA4\\n', 'ARIH1\\n', 'TAS2R43\\n', 'LAT\\n', 'GNA13\\n', 'ATP11A\\n', 'IDE\\n', 'SEC61A2\\n', 'SP7\\n', 'CXCR4\\n', 'POLR1D\\n', 'ZNF705D\\n', 'MIB2\\n', 'MALT1\\n', 'ARHGAP15\\n', 'CRTC2\\n', 'ACKR3\\n', 'CCL19\\n', 'MAPK14\\n', 'TEX12\\n', 'POLG2\\n', 'EDN1\\n', 'OGT\\n', 'ANXA2\\n', 'CCR9\\n', 'BTK\\n', 'SDC1\\n', 'PSMC1\\n', 'SERPINB6\\n', 'GLIPR1\\n', 'LRP1\\n', 'LMO7\\n', 'TP53RK\\n', 'GHSR\\n', 'AGFG1\\n', 'MAP3K1\\n', 'RPL9\\n', 'UTP25\\n', 'BGN\\n', 'MAP2K6\\n', 'FURIN\\n', 'NUP37\\n', 'WNT11\\n', 'LAMB3\\n', 'CNTN1\\n', 'OR1N1\\n', 'PLCB2\\n', 'ARHGEF3\\n', 'MTA1\\n', 'PNOC\\n', 'SLC22A8\\n', 'INTS10\\n', 'AMBN\\n', 'DNAJB6\\n', 'SNX9\\n', 'CEACAM6\\n', 'PIANP\\n', 'SNRNP27\\n', 'OR8I2\\n', 'KPNB1\\n', 'SEC31A\\n', 'GAS6\\n', 'ECM1\\n', 'DCTN5\\n', 'HRH3\\n', 'SNAPC2\\n', 'KLK2\\n', 'CD300E\\n', 'NFASC\\n', 'UBE2L3\\n', 'ZNF418\\n', 'RPS13\\n', 'CD40LG\\n', 'FABP1\\n', 'BRCA2\\n', 'ZNF268\\n', 'ADRA2B\\n', 'RPL23A\\n', 'PSMD14\\n', 'PTK2B\\n', 'CLASP1\\n', 'ACLY\\n', 'TAF2\\n', 'RPL22L1\\n', 'HAUS6\\n', 'OR2C1\\n', 'LAMC2\\n', 'ISY1-RAB43\\n', 'ITSN1\\n', 'P2RY12\\n', 'CRTC1\\n', 'SYT5\\n', 'CDC16\\n', 'RNF7\\n', 'AGA\\n', 'CEACAM3\\n', 'IFT140\\n', 'CTSC\\n', 'RAB3D\\n', 'KCNC2\\n', 'RPL12\\n', 'PRSS23\\n', 'C4B\\n', 'PHF5A\\n', 'TAS2R30\\n', 'RPL37\\n', 'IL3RA\\n', 'RGS11\\n', 'KCNAB2\\n', 'DNAJC13\\n', 'ATP6V0B\\n', 'RUVBL1\\n', 'OR2G3\\n', 'ZNF20\\n', 'MCEMP1\\n', 'TAGLN2\\n', 'UBE2D2\\n', 'E2F2\\n', 'HDAC11\\n', 'OR4C5\\n', 'CTDP1\\n', 'RPS4Y2\\n', 'ZNF664\\n', 'RAE1\\n', 'RAP2B\\n', 'FGF17\\n', 'IFT27\\n', 'OGDH\\n', 'OR5T3\\n', 'GTF3A\\n', 'ZNF701\\n', 'IL4I1\\n', 'CUL4A\\n', 'ZDHHC7\\n', 'TAF4B\\n', 'ARHGAP11B\\n', 'PEBP1\\n', 'PRKCD\\n', 'TAAR6\\n', 'GNG4\\n', 'USP16\\n', 'ICAM3\\n', 'CAV2\\n', 'AGPAT2\\n', 'USP17L11\\n', 'OR6C1\\n', 'PDE3A\\n', 'TBC1D16\\n', 'ABCA3\\n', 'DYSF\\n', 'UBAC1\\n', 'FMNL3\\n', 'AGK\\n', 'DENND2D\\n', 'OR6C74\\n', 'GMIP\\n', 'ZNF860\\n', 'GOSR2\\n', 'XRCC5\\n', 'MID1\\n', 'OBSCN\\n', 'INPP5B\\n', 'SFRP1\\n', 'ARFGAP1\\n', 'SUZ12\\n', 'PSMA5\\n', 'OR51G1\\n', 'F8\\n', 'NAPA\\n', 'SRSF4\\n', 'CUL5\\n', 'HCAR3\\n', 'CHRM2\\n', 'TLR1\\n', 'YWHAB\\n', 'TRIM21\\n', 'NR2F6\\n', 'TSHB\\n', 'MED10\\n', 'KIF21B\\n', 'LAMP1\\n', 'PRKACB\\n', 'TGFB3\\n', 'POLR2D\\n', 'RAB21\\n', 'PA2G4\\n', 'OR2T34\\n', 'CARD11\\n', 'BUB1B\\n', 'NHLRC3\\n', 'NOD2\\n', 'TYROBP\\n', 'LAMB1\\n', 'RB1\\n', 'LPAR2\\n', 'COL4A6\\n', 'ARHGAP17\\n', 'RBBP4\\n', 'ARF4\\n', 'SPDL1\\n', 'ZNF611\\n', 'DAG1\\n', 'FBXO30\\n', 'TRIM10\\n', 'KIF24\\n', 'ZNF875\\n', 'SNRPF\\n', 'PDE4A\\n', 'MSL3\\n', 'GEN1\\n', 'ADORA3\\n', 'LRSAM1\\n', 'DCAF11\\n', 'OR8U9\\n', 'ZNF782\\n', 'OR1L6\\n', 'PSMC4\\n', 'P4HA1\\n', 'GUCY2D\\n', 'OR6C3\\n', 'ADCYAP1\\n', 'NXF1\\n', 'PPP1CC\\n', 'ADAM22\\n', 'NOTCH1\\n', 'CD3E\\n', 'PMCH\\n', 'SMAD4\\n', 'PBX1\\n', 'ZNF43\\n', 'SAP130\\n', 'FBXO9\\n', 'ALYREF\\n', 'HLA-DPA1\\n', 'KDM6A\\n', 'OR3A1\\n', 'TAL1\\n', '155459\\n', 'ZNF141\\n', 'MYLIP\\n', 'TMEM63A\\n', 'ACOX1\\n', 'FGB\\n', 'ZNF606\\n', 'TIMP2\\n', 'KDM2B\\n', 'FABP12\\n', 'FBXO40\\n', 'SH3GL2\\n', 'CSTF3\\n', 'ATP1B3\\n', 'TLN1\\n', 'PDIA6\\n', 'DSC1\\n', 'TRAF1\\n', 'POLB\\n', 'FGFR3\\n', 'ZNF549\\n', 'WWC1\\n', 'GNG3\\n', 'CPT1A\\n', 'CCNB2\\n', 'ITPR1\\n', 'BRF1\\n', 'OR2T4\\n', 'WDTC1\\n', 'ATP6V1D\\n', 'HSF1\\n', 'KRT26\\n', 'DCTN6\\n', 'EPHB2\\n', 'PLA2G6\\n', 'PPP2R1A\\n', 'SPTBN1\\n', 'RPRD1B\\n', 'WASF1\\n', 'ZNF668\\n', 'ZNF621\\n', 'GFI1\\n', 'KLHL3\\n', '3707572\\n', 'RHOV\\n', 'WNT9A\\n', 'LHX3\\n', 'COPB1\\n', 'LDB1\\n', 'HSPA6\\n', 'ZNF155\\n', 'NCKAP1\\n', 'TAS2R16\\n', 'RPLP0\\n', 'APOA1\\n', 'EME1\\n', 'ZNF460\\n', 'MMP17\\n', 'BABAM1\\n', 'GUSB\\n', 'ZNF699\\n', 'TNFRSF10A\\n', 'KIF7\\n', 'ZNF540\\n', 'APH1B\\n', 'MAPK4\\n', 'RAD9B\\n', 'PIP4K2C\\n', 'PPARG\\n', 'RPS25\\n', 'OR4M2\\n', 'SERPINA3\\n', 'IL2RB\\n', 'TAS2R60\\n', 'CABLES2\\n', 'TNRC6B\\n', 'THOC3\\n', 'OR9K2\\n', 'CHD1\\n', 'CSAD\\n', 'DCAF1\\n', 'SLC27A2\\n', 'KAT6A\\n', 'ENY2\\n', 'FGFR4\\n', 'CEP78\\n', 'CARNS1\\n', 'CDKN2B\\n', 'OR4P4\\n', 'ORC5\\n', 'PPBP\\n', 'FCER1G\\n', 'OR10AG1\\n', 'ALDOB\\n', 'PKP4\\n', 'RPS26\\n', 'BTBD1\\n', 'OR8B3\\n', 'RGS10\\n', 'CFP\\n', 'SCARB2\\n', 'OR6C6\\n', 'DEGS1\\n', 'U2AF2\\n', 'HDAC1\\n', 'COX20\\n', 'TRIM39\\n', 'FBXO32\\n', 'ZNF670\\n', 'GPR132\\n', 'ZNF426\\n', 'HUWE1\\n', 'ZNF248\\n', 'HSPA8\\n', 'STAG2\\n', 'ZNF676\\n', 'CYP4B1\\n', 'PMF1-BGLAP\\n', 'LCP2\\n', 'SREBF1\\n', 'DDX58\\n', 'PAK1\\n', 'CLEC4D\\n', 'DCUN1D4\\n', 'H2BC1\\n', 'ITGB1\\n', 'REEP2\\n', 'S1PR4\\n', 'TOP3A\\n', 'C1D\\n', 'HSPA1A\\n', 'ELL\\n', 'CRYM\\n', 'DDA1\\n', 'LY96\\n', 'MAN2B1\\n', 'RASGRP1\\n', 'MAPK1\\n', 'NCF1\\n', 'CDC45\\n', 'NRIP1\\n', 'CCL27\\n', 'RAD23B\\n', 'SLAMF7\\n', 'MEX3C\\n', 'KRTAP10-12\\n', 'HACE1\\n', 'ZNF562\\n', 'HPD\\n', 'ARHGEF2\\n', 'ITGA2B\\n', 'UFL1\\n', 'AKT1S1\\n', 'RPN2\\n', 'CCL3L1\\n', 'ZNF189\\n', 'RHOF\\n', 'RPS6\\n', 'PSMD7\\n', 'RHOT1\\n', 'TUBG1\\n', 'NALCN\\n', 'OR14A16\\n', 'RHOJ\\n', 'HLA-DOB\\n', 'ALPL\\n', 'RPS9\\n', 'WDR43\\n', 'RAB2A\\n', 'SLCO1B3\\n', 'SGO2\\n', 'GPRC6A\\n', 'OR6C70\\n', 'UBA5\\n', 'ZNF282\\n', 'ETF1\\n', 'ZNF398\\n', 'ARPC1A\\n', 'NDE1\\n', 'PADI2\\n', 'ZNF662\\n', 'KIF12\\n', 'ZNF641\\n', 'NUP93\\n', 'TERF1\\n', 'KMT2B\\n', 'PTPRB\\n', 'CAPN3\\n', 'RASAL3\\n', 'CD207\\n', 'SRGAP2\\n', 'IRF7\\n', 'KRT23\\n', 'OR13C4\\n', 'WDR48\\n', 'BNIP1\\n', 'PTPRS\\n', 'NTN4\\n', 'RPTOR\\n', 'PRKDC\\n', 'ZNF180\\n', 'ANGPTL4\\n', 'DDX5\\n', 'SLC5A7\\n', 'PPP2R1B\\n', 'RPL13A\\n', 'COG1\\n', 'SLC22A2\\n', 'GNG12\\n', 'PRKAB2\\n', 'STRN\\n', 'CMTM6\\n', 'ZNF75A\\n', 'SEC61G\\n', 'NPY\\n', 'ZNF470\\n', 'ACTL6A\\n', 'INTS2\\n', 'F2RL2\\n', 'TRAF2\\n', 'RING1\\n', 'SGF29\\n', 'OR5M1\\n', 'EEF1AKMT4-ECE2\\n', 'SSTR4\\n', 'OXGR1\\n', 'WDR33\\n', 'PHF8\\n', 'OR1J4\\n', 'OR52K2\\n', 'GPR27\\n', 'DTX3L\\n', 'PRMT7\\n', 'DHX9\\n', 'RUNX2\\n', 'CD36\\n', 'ULK3\\n', 'KLHL9\\n', 'PSG3\\n', 'KMT5C\\n', 'ZNF337\\n', 'SULT2B1\\n', 'COLEC12\\n', 'XCL2\\n', 'C5AR1\\n', 'AAK1\\n', 'ABR\\n', 'ECHS1\\n', 'KRT3\\n', 'ASAH1\\n', 'RPA1\\n', 'OR52K1\\n', 'OR8U1\\n', 'ZNF436\\n', 'H2AC21\\n', 'POLR2L\\n', 'KLB\\n', 'ZNF605\\n', 'COG7\\n', 'NCOA3\\n', 'HRAS\\n', 'SLC4A1\\n', 'ZNF500\\n', 'ADAMTS14\\n', 'IL1RAP\\n', 'CHEK2\\n', 'KCNB1\\n', 'DEFB118\\n', 'COX7C\\n', 'MED7\\n', 'OAS2\\n', 'C1orf35\\n', 'ZNF227\\n', 'COMMD2\\n', 'TTBK2\\n', 'OR5D16\\n', 'OR2H1\\n', 'ARHGEF5\\n', 'TCF7L2\\n', 'FRK\\n', 'MARK3\\n', 'SFN\\n', 'NEDD8\\n', 'HOXB2\\n', 'NUP35\\n', 'ASB17\\n', 'SYNJ1\\n', 'PPP4R2\\n', 'SLC6A13\\n', 'OR2L5\\n', 'FRMPD3\\n', 'UPF3A\\n', 'ORC1\\n', 'REEP3\\n', 'IRS2\\n', 'H2AC7\\n', 'IDH1\\n', 'SNRNP200\\n', 'DLG1\\n', 'DIS3\\n', 'APH1A\\n', 'HNRNPH1\\n', 'OR11H6\\n', 'GNB2\\n', 'FCF1\\n', 'ERCC5\\n', 'BIRC5\\n', 'S100A11\\n', 'GNB1\\n', 'OR10H5\\n', 'TCTN1\\n', 'ITGA4\\n', 'ZNF551\\n', 'PDE4D\\n', 'CASR\\n', 'CACNA1H\\n', 'EPHA3\\n', 'SRSF10\\n', 'ADRA1B\\n', 'CPSF2\\n', 'CYBA\\n', 'NTSR1\\n', 'STAG3\\n', 'CUL4B\\n', 'ARHGAP25\\n', 'F13B\\n', 'H2AZ1\\n', 'TRRAP\\n', 'HSPA1B\\n', 'RBFOX2\\n', 'OR2T33\\n', 'HEY1\\n', 'KIF21A\\n', 'GTF2F2\\n', 'PDE2A\\n', 'RDX\\n', 'ELAVL2\\n', 'EMILIN1\\n', 'TLE3\\n', 'CUL2\\n', 'CYLD\\n', 'WEE1\\n', 'CD1D\\n', 'OLR1\\n', 'TUBGCP6\\n', 'RAD51C\\n', 'CCR5\\n', 'HDAC3\\n', 'SNRPD3\\n', 'SFRP2\\n', 'MON1A\\n', 'GNA14\\n', 'H2BC5\\n', 'SMO\\n', 'PKM\\n', 'RPS27L\\n', 'ZNF830\\n', 'SNRPA1\\n', 'GRIN2A\\n', 'SUPT4H1\\n', 'PEA15\\n', 'CIITA\\n', 'IGF2R\\n', 'HNRNPK\\n', 'EIF3J\\n', 'RAB14\\n', 'DNM2\\n', 'KANK1\\n', 'CTNNBL1\\n', 'COLGALT1\\n', 'SEC11C\\n', 'UBE2J2\\n', 'H2AC12\\n', 'FGF4\\n', 'MIS18BP1\\n', 'CLTCL1\\n', 'GABPB1\\n', 'GPER1\\n', 'ZNF33B\\n', 'TNRC6A\\n', 'ZNF726\\n', 'NEK2\\n', 'ISY1\\n', 'MTARC2\\n', 'LTN1\\n', 'IRF4\\n', 'HAUS4\\n', 'ZNF10\\n', 'HTR6\\n', 'GTF2H2\\n', 'CSNK1A1\\n', 'DENND4A\\n', 'OR10A2\\n', 'NOL11\\n', 'H4C4\\n', 'RASGRP3\\n', 'OR4C3\\n', 'ADGRG3\\n', 'UBR2\\n', 'ANAPC2\\n', 'GLYAT\\n', 'PLEKHG2\\n', 'KBTBD8\\n', 'CBL\\n', 'STING1\\n', 'PTGER4\\n', 'MED24\\n', 'ACTR8\\n', 'IST1\\n', 'LCE3C\\n', 'SKA1\\n', 'OR8H2\\n', 'ZNF221\\n', 'ZNF764\\n', 'AVPR1B\\n', 'CENPF\\n', 'RFC1\\n', 'OR2M4\\n', 'SLC15A4\\n', 'RAB4B\\n', 'CTCF\\n', 'OR52J3\\n', 'PCYOX1L\\n', 'SPRR2A\\n', 'AP4B1\\n', 'PIK3C2A\\n', 'OR51B4\\n', 'PAF1\\n', 'CD3D\\n', 'RPL36AL\\n', 'MMP11\\n', 'ZNF333\\n', 'OR6C2\\n', 'CLOCK\\n', 'CANT1\\n', 'TUBB8\\n', 'EIF3L\\n', 'TBC1D20\\n', 'U2AF1\\n', 'SIGLEC8\\n', 'KRTAP9-6\\n', 'MED13\\n', 'ZNF583\\n', 'H2AC17\\n', 'KDM4C\\n', 'KRTAP2-3\\n', 'LCE2C\\n', 'KRTAP3-2\\n', 'VAMP7\\n', 'OR2A7\\n', 'CHGB\\n', 'ZNF570\\n', 'TAB3\\n', 'ARRB2\\n', 'PPP2CA\\n', 'MED25\\n', 'PSMD6\\n', 'KRT81\\n', 'POLD1\\n', 'OR8G2P\\n', 'OR2M5\\n', 'TXK\\n', 'PRMT6\\n', 'AHRR\\n', 'OR4C13\\n', 'SULT2A1\\n', 'ADGRE5\\n', 'PLAUR\\n', 'APOA5\\n', 'PSMD11\\n', 'GNAT3\\n', 'RHOD\\n', 'VIM\\n', 'NCBP1\\n', 'CEACAM8\\n', 'RNF217\\n', 'ZNF3\\n', 'USP17L29\\n', 'ZWINT\\n', 'HRH1\\n', 'OR7G3\\n', 'TCF7L1\\n', 'SPCS1\\n', 'OR11H2\\n', 'RELB\\n', 'CYP17A1\\n', 'BICD2\\n', 'ZNF747\\n', 'OR4K15\\n', 'F5\\n', 'ARF1\\n', 'DNASE1L1\\n', 'CEBPG\\n', 'EPGN\\n', 'H3C15\\n', 'TCN1\\n', 'IL33\\n', 'HNRNPM\\n', 'GGA3\\n', 'KRTAP9-8\\n', 'SNAP91\\n', 'IL7R\\n', 'ADGRE3\\n', 'PGM1\\n', 'OR2C3\\n', 'FBXO21\\n', 'AHI1\\n', 'YEATS2\\n', 'TRIM29\\n', 'KRTAP5-5\\n', 'ZNF311\\n', 'RAD9A\\n', 'XRCC2\\n', 'RPS27A\\n', 'IFI16\\n', 'OR51S1\\n', 'TUBB4A\\n', 'NPY5R\\n', 'OR1A1\\n', 'PAPOLA\\n', 'EDEM2\\n', 'CDH2\\n', 'EPS15L1\\n', 'ITGB6\\n', 'DDX46\\n', 'ZNF624\\n', 'ESRRA\\n', 'MLEC\\n', 'OR4D10\\n', 'OR51G2\\n', 'IRAK1\\n', 'DMBT1\\n', 'EIF3I\\n', 'OR10R2\\n', 'TNFRSF1A\\n', 'PIK3R5\\n', 'KCNS3\\n', 'VDAC3\\n', 'ZNF727\\n', 'NLRX1\\n', 'EHMT1\\n', 'VCAN\\n', 'PSMB3\\n', 'CEP290\\n', 'FGF16\\n', 'RPAP2\\n', 'HDAC4\\n', 'DKC1\\n', 'SLC25A21\\n', 'CENPS-CORT\\n', 'RAB37\\n', 'PMF1\\n', 'SPN\\n', 'ARRB1\\n', 'DHX15\\n', 'SYNGR1\\n', 'SDCCAG8\\n', 'ITGA6\\n', 'MAPKAPK2\\n', 'ZNF761\\n', 'CDKN2C\\n', 'PRLR\\n', 'TAF3\\n', 'DIAPH2\\n', 'RPS4Y1\\n', 'NELFA\\n', 'S100A9\\n', 'CDC73\\n', 'RASGEF1A\\n', 'SOCS6\\n', 'ADCY6\\n', 'OR8D1\\n', 'OR11H1\\n', 'OR2T3\\n', 'INO80\\n', 'HERC6\\n', 'TUBGCP3\\n', 'PPFIA4\\n', 'ORC4\\n', 'COL6A3\\n', 'SNRNP48\\n', 'OR51A2\\n', 'PPP4C\\n', 'DOCK8\\n', 'RINL\\n', 'CXCL8\\n', 'OR10A6\\n', 'COPS6\\n', 'DERA\\n', 'H3C14\\n', 'MRTFA\\n', 'OR6F1\\n', 'GREB1\\n', 'ELP2\\n', 'OR2AK2\\n', 'ASB11\\n', 'HTR1D\\n', 'RAB33B\\n', 'TUBAL3\\n', 'GIP\\n', 'TADA1\\n', 'MAP2K1\\n', 'ZNF510\\n', 'RIPK2\\n', 'F2RL3\\n', 'ADH1A\\n', 'LSM5\\n', 'CDK5RAP2\\n', 'HSPA2\\n', 'HTR4\\n', 'COL9A1\\n', 'GLE1\\n', 'RPP38\\n', 'GBP5\\n', 'LHB\\n', 'HOXA1\\n', 'CPPED1\\n', 'OR2B6\\n', 'ASXL1\\n', 'EPC1\\n', 'CARM1\\n', 'GAD2\\n', 'ANKRD9\\n', 'ZNF485\\n', 'UBE2I\\n', 'OR9Q1\\n', 'CLSPN\\n', 'TAF7L\\n', 'PF4\\n', 'EIF3H\\n', 'KRTAP25-1\\n', 'KIF18A\\n', 'ERBB2\\n', 'CCK\\n', 'KLHL41\\n', 'MT-CO1\\n', 'CFH\\n', 'LEO1\\n', 'SMARCA2\\n', 'OAS1\\n', 'PER1\\n', 'H4C11\\n', 'ZFP1\\n', 'UTS2\\n', 'ZNF100\\n', 'IFI27\\n', 'ZNF667\\n', 'RAB6B\\n', 'ZNF75D\\n', 'PTRH2\\n', 'IFI30\\n', 'INO80C\\n', 'OR1D2\\n', 'TRAPPC6A\\n', 'COPS7A\\n', 'COX18\\n', 'GGPS1\\n', 'SP100\\n', 'ZFP28\\n', 'TRH\\n', 'USP47\\n', 'MED8\\n', 'DCAF13\\n', 'USP17L27\\n', 'ADORA1\\n', 'SMYD3\\n', 'THOC7\\n', 'CDC23\\n', 'ZNF710\\n', 'AVP\\n', 'ALDH1A3\\n', 'LTBP1\\n', 'PRKAG2\\n', 'ASB18\\n', 'SSTR2\\n', 'PLA2G4C\\n', 'ASB4\\n', 'POLR2E\\n', 'LCN2\\n', 'NEURL2\\n', 'ZNF627\\n', 'OR6N2\\n', 'COMMD4\\n', 'TOP2A\\n', 'PAFAH1B2\\n', 'LMAN1L\\n', 'MIB1\\n', 'DOK4\\n', 'CD300LG\\n', 'UBE2F\\n', 'APEH\\n', 'SNX3\\n', 'DLG3\\n', 'COG6\\n', 'WWOX\\n', 'ANO6\\n', 'GNS\\n', 'BMP4\\n', 'ERBB4\\n', 'DSP\\n', 'SSU72\\n', 'CSNK2A1\\n', 'ARPC4\\n', 'RGR\\n', 'MS4A3\\n', 'ITGAV\\n', 'NFYC\\n', 'HES1\\n', 'VEGFA\\n', 'PLPP2\\n', 'H4C15\\n', 'SOCS3\\n', 'NEDD4L\\n', 'LEF1\\n', 'OR4F6\\n', 'PIK3CA\\n', 'ACTR2\\n', 'OR51L1\\n', 'GPR183\\n', 'HGSNAT\\n', 'DHX37\\n', 'TERT\\n', 'TRIM36\\n', 'ZNF34\\n', 'PCNT\\n', 'CAB39L\\n', 'CTSL\\n', 'EDNRA\\n', 'ERCC1\\n', 'MAPK8\\n', 'ITGAL\\n', 'KRTAP4-3\\n', 'RPL18A\\n', 'RUVBL2\\n', 'COL4A5\\n', 'SGPP1\\n', 'USP17L17\\n', 'SLC6A12\\n', 'OR52R1\\n', 'GFRA3\\n', 'OR4N5\\n', 'NPBWR2\\n', 'CDC14B\\n', '390441\\n', 'CEACAM1\\n', 'STBD1\\n', 'YWHAE\\n', 'YEATS4\\n', 'FGF6\\n', 'TUBB2A\\n', 'PTPN11\\n', 'MLST8\\n', 'ABCB5\\n', 'H2AW\\n', 'VGF\\n', 'TRA2B\\n', 'TMEM179B\\n', 'ELP1\\n', 'OR5P3\\n', 'SH2D1B\\n', 'HBEGF\\n', 'ATXN7\\n', 'OR5F1\\n', 'ERP44\\n', 'STON2\\n', 'OR13C2\\n', 'OR2A5\\n', 'CAPN11\\n', 'WIPI2\\n', 'PTGER2\\n', 'GH2\\n', 'IMP3\\n', 'NTHL1\\n', 'THOC2\\n', 'DCTN2\\n', 'SOCS2\\n', 'SSTR5\\n', 'ARFGAP2\\n', 'PDS5A\\n', 'ZNF565\\n', 'SLC22A5\\n', 'TSPAN33\\n', 'ZNF773\\n', 'NTSR2\\n', 'CHI3L1\\n', 'FGF9\\n', 'AKAP13\\n', 'PAPPA\\n', 'LDHA\\n', 'ST6GALNAC4\\n', 'CHMP2A\\n', 'ADH1C\\n', 'RGS4\\n', 'IFT88\\n', 'PROS1\\n', 'NPC2\\n', 'GNAI1\\n', 'NUMB\\n', 'CENPC\\n', 'ZNF528\\n', 'FBXL15\\n', 'OR5H15\\n', 'GPR68\\n', 'CDC42\\n', 'KRBA1\\n', 'ZNF33A\\n', 'RPL10\\n', 'KIF2B\\n', 'PENK\\n', 'NPB\\n', 'CNR1\\n', 'RPL32\\n', 'SRP72\\n', 'NCOR2\\n', 'CD3G\\n', 'PPP2R5D\\n', 'CSNK2A2\\n', 'OR2S2\\n', 'SDSL\\n', 'HSPB1\\n', 'KRT14\\n', 'RORC\\n', 'FFAR1\\n', 'FBXL14\\n', 'CAPZA2\\n', 'IBSP\\n', 'YY1\\n', 'H4C14\\n', 'MCM6\\n', 'CCNA2\\n', 'UBR1\\n', 'RBM4\\n', 'OR4A47\\n', 'ICOS\\n', 'ADCY2\\n', 'LCE1C\\n', 'TAF10\\n', 'H2BC13\\n', 'CHRNB4\\n', 'ANGPT1\\n', 'H2BC6\\n', 'RPS3A\\n', 'OTUB1\\n', 'GJA5\\n', 'ZNF792\\n', 'USP17L30\\n', 'DAB2\\n', 'HTR2A\\n', 'APOA2\\n', 'COPZ2\\n', 'FBXW10\\n', 'BSG\\n', 'SELP\\n', 'PRKAA1\\n', 'GAPDHS\\n', 'DCAF16\\n', 'PAK3\\n', 'DDAH1\\n', 'OR2W3\\n', 'SNW1\\n', 'GTF2B\\n', 'CKAP4\\n', 'RUNX3\\n', 'GALR2\\n', 'OR51E2\\n', 'CYP21A2\\n', 'COL17A1\\n', 'ABI1\\n', 'KRT15\\n', 'GBP4\\n', 'RAD51B\\n', 'KRT75\\n', 'AKAP10\\n', 'OR6B3\\n', 'SHANK2\\n', 'TBXA2R\\n', 'ZNF546\\n', 'DPY30\\n', 'PRG3\\n', 'EIF3A\\n', 'GPR37\\n', 'RPS29\\n', 'RPP30\\n', 'SERPINE1\\n', 'FKBP8\\n', 'CTSF\\n', 'AR\\n', 'XCL1\\n', 'CBX8\\n', 'SOX2\\n', 'PPP2R3B\\n', 'MMP15\\n', 'SRP9\\n', 'NFYB\\n', 'PICK1\\n', 'CENPQ\\n', 'C3\\n', 'OR14I1\\n', 'OR2T2\\n', 'ZNF285\\n', 'KAT2A\\n', 'B2M\\n', 'PTPRC\\n', 'UBE2N\\n', 'TAP1\\n', 'DNMT3L\\n', 'TXNRD1\\n', 'OR2W5P\\n', 'RPS19BP1\\n', 'GPR150\\n', 'COL27A1\\n', 'CDK11B\\n', 'CSK\\n', 'RNF144B\\n', 'SEC22B\\n', 'ZBTB16\\n', 'TUBA3C\\n', 'OR56B1\\n', 'POLR2K\\n', 'PITPNA\\n', 'TRAF6\\n', 'LIPN\\n', 'KIF1C\\n', 'JUND\\n', 'MMP2\\n', 'ARHGEF35\\n', 'TUBGCP5\\n', 'UTP4\\n', 'HELZ2\\n', 'ADSS2\\n', 'RFC2\\n', 'ZNF771\\n', 'SLC8A1\\n', 'TRHR\\n', 'FAM20C\\n', 'MUL1\\n', 'GPC3\\n', 'TTN\\n', 'KRBOX4\\n', 'OR2G6\\n', 'ALB\\n', 'OR2B11\\n', 'IFNA6\\n', 'HEATR1\\n', 'POLR1F\\n', 'MAOA\\n', 'ARSG\\n', 'MED17\\n', 'S100A8\\n', 'FBXW2\\n', 'RPL35A\\n', 'ATP6V0E2\\n', 'CPLX1\\n', 'ORM2\\n', 'CCR2\\n', 'IFT46\\n', 'SIAH1\\n', 'GABBR2\\n', 'SCN3B\\n', 'S100P\\n', 'CLPS\\n', 'CAMK2A\\n', 'OR4K14\\n', 'PGR\\n', 'WRN\\n', 'CD44\\n', 'EBNA1BP2\\n', 'CXCL11\\n', 'TAF6\\n', 'ZNF597\\n', 'PELI1\\n', 'IFT57\\n', 'FBXO22\\n', 'ACTL6B\\n', 'ATN1\\n', 'ZNF17\\n', 'CEP97\\n', 'ZNF430\\n', 'KITLG\\n', 'RGS20\\n', 'ZNF613\\n', 'FZD7\\n', 'OR12D2\\n', 'GLI1\\n', 'ISG20L2\\n', 'USP4\\n', 'SYT2\\n', 'ARHGEF39\\n', 'ROCK2\\n', 'LIN7A\\n', 'PPP2R5A\\n', 'DYNC1H1\\n', 'RAMP3\\n', 'ZNF223\\n', 'S1PR3\\n', 'EIF4G3\\n', 'AVPR2\\n', 'HAUS7\\n', 'MAGT1\\n', 'H4C9\\n', 'CBX5\\n', 'LAMA4\\n', 'WDR19\\n', 'HCRT\\n', 'SARS1\\n', 'CHST15\\n', 'JUP\\n', 'FOLR3\\n', 'PTK6\\n', 'CDK5R1\\n', 'KIF18B\\n', 'GZMH\\n', 'SFTPA2\\n', 'RNASE2\\n', 'GHRHR\\n', 'GNAI2\\n', 'EBAG9\\n', 'PSMC3IP\\n', 'EXOC5\\n', 'RORA\\n', 'CENPT\\n', 'HNRNPH2\\n', 'OPN1MW2\\n', 'TERF2IP\\n', 'PHF21A\\n', 'RAB44\\n', 'PJA1\\n', 'CPB1\\n', 'PIAS4\\n', 'OR4M1\\n', 'KRTAP10-2\\n', 'PRKACA\\n', 'SF1\\n', 'HSP90B1\\n', 'LIG3\\n', 'DSN1\\n', 'OR8H1\\n', 'FCGR1A\\n', 'COL14A1\\n', 'PSMD2\\n', 'ZNF74\\n', 'COPS2\\n', 'AZU1\\n', 'H2AC4\\n', 'DDB1\\n', 'LILRA2\\n', 'DDX21\\n', 'FOXG1\\n', 'TACR2\\n', 'ZNF529\\n', 'PREB\\n', 'GRM1\\n', 'H3C3\\n', 'OR4C12\\n', 'RCE1\\n', 'AHSG\\n', 'LIMK1\\n', 'DDB2\\n', 'ATXN7L3\\n', 'POLR2A\\n', 'PPP2CB\\n', 'SF3B2\\n', 'FGF18\\n', 'SERPIND1\\n', 'CD74\\n', 'PDXK\\n', 'GSN\\n', 'ZNF354B\\n', 'KNTC1\\n', 'ZC3H11A\\n', 'GSDMD\\n', 'NUP50\\n', 'ZFP90\\n', 'MCM4\\n', 'NPY1R\\n', 'ZNF425\\n', 'MINK1\\n', 'SPCS3\\n', 'GNA11\\n', 'GPS1\\n', 'AXIN2\\n', 'PHC2\\n', 'CBX2\\n', 'GLP2R\\n', 'POLR2F\\n', 'ZNF433\\n', 'SERPINB1\\n', 'ORC2\\n', 'PPM1A\\n', 'SH2B2\\n', 'TSHR\\n', 'DBT\\n', 'TPD52\\n', 'UNKL\\n', 'GOT2\\n', 'NCOA2\\n', 'ARHGAP31\\n', 'MYH14\\n', 'PGAM1\\n', 'CCNC\\n', 'FABP7\\n', 'OR51A7\\n', 'RPS14\\n', 'PSEN1\\n', 'CSTF2\\n', 'KBTBD6\\n', 'ATP7A\\n', 'POLR2C\\n', 'SLC2A5\\n', 'KRTAP24-1\\n', 'RXFP4\\n', 'PRTN3\\n', 'ATG9B\\n', 'H2AC19\\n', 'POLD4\\n', 'POP7\\n', 'RPL4\\n', 'SCTR\\n', 'UBE2G1\\n', 'EPHA4\\n', 'CLEC5A\\n', 'PELP1\\n', 'RLN2\\n', 'FTH1\\n', 'XPC\\n', 'KIF22\\n', 'SLC32A1\\n', 'OR2Y1\\n', 'ASB15\\n', 'FBXL19\\n', 'PYGO1\\n', 'SNCA\\n', 'POLR3B\\n', 'NDUFC2\\n', 'UGT1A3\\n', 'POLR3A\\n', 'CDC5L\\n', 'KCNJ9\\n', 'DYNLT2\\n', 'OR4S2\\n', 'POLR1A\\n', 'ESR2\\n', 'STAT1\\n', 'KRTAP10-9\\n', 'ADRA2A\\n', 'HOXB3\\n', 'CETN2\\n', 'FLNA\\n', 'NEDD4\\n', 'GNG10\\n', 'OR5B17\\n', 'RCN1\\n', 'ZNF721\\n', 'CD300A\\n', 'RGS6\\n', 'ULBP3\\n', 'ESRP1\\n', 'GABARAPL1\\n', 'DGKH\\n', 'GLMN\\n', 'GPR39\\n', 'BDKRB2\\n', 'USP24\\n', 'ZNF200\\n', 'ZNF143\\n', 'ARHGEF4\\n', 'TAS2R39\\n', 'CALM1\\n', 'NUP42\\n', 'OR1K1\\n', 'LPCAT1\\n', 'SRSF5\\n', 'POLDIP3\\n', 'PKNOX1\\n', 'LDLRAP1\\n', 'CYP1A1\\n', 'HECW2\\n', 'ARHGEF19\\n', 'CCNB1\\n', 'SMC2\\n', 'ZNF99\\n', 'SPP1\\n', 'ZNF544\\n', 'FLNB\\n', 'CR1\\n', 'FBXO27\\n', 'CDKN2A\\n', 'MED6\\n', 'NRG2\\n', 'FOXA1\\n', 'ZKSCAN8\\n', 'LDLR\\n', 'COPG2\\n', 'IQGAP2\\n', 'GAL\\n', 'PCGF2\\n', 'GPR31\\n', 'LSS\\n', 'KRTAP9-2\\n', 'EPN2\\n', 'SMG6\\n', 'ZKSCAN4\\n', 'FBN3\\n', 'OR4K17\\n', 'OR6C76\\n', 'ZBED1\\n', '3802042\\n', 'EFEMP2\\n', 'OR51M1\\n', 'NUDC\\n', 'EXOSC7\\n', 'SQLE\\n', 'KCTD7\\n', 'AP1S1\\n', '813949\\n', 'MAF1\\n', 'PDS5B\\n', 'ITGA9\\n', 'ELOC\\n', 'CDC20\\n', 'ZNF705E\\n', 'CLCNKA\\n', 'CSF2RB\\n', 'CCT2\\n', 'ITGA5\\n', 'RAB35\\n', 'ITGA3\\n', 'RBM5\\n', 'PHC1\\n', 'RPGRIP1L\\n', 'XRN2\\n', 'ADH5\\n', '100861532\\n', 'QRFPR\\n', 'RPA2\\n', 'PUM2\\n', 'ITCH\\n', 'MCHR2\\n', 'POLR3K\\n', 'SNRPE\\n', 'CSNK1E\\n', 'ENGASE\\n', 'MMP9\\n', 'PEDS1-UBE2V1\\n', 'PROK2\\n', 'HERC3\\n', 'TBP\\n', 'OR51F2\\n', 'ZNF785\\n', 'POLR3C\\n', 'RAB5B\\n', 'DIAPH1\\n', 'SFI1\\n', 'TAS2R50\\n', 'OPN1MW\\n', 'RTP1\\n', 'SMAD1\\n', 'FBXW9\\n', 'TIAM1\\n', 'KIF15\\n', 'CCT4\\n', 'NET1\\n', 'CLEC7A\\n', 'INO80D\\n', 'ZNF140\\n', 'OR4K1\\n', 'RPL26\\n', 'DYNLT1\\n', 'ATAT1\\n', 'SLC2A3\\n', 'POM121\\n', 'ATP2A2\\n', 'IHH\\n', 'TAF1C\\n', 'TAS1R2\\n', 'CNIH1\\n', 'RPS5\\n', 'OR51V1\\n', 'PSMC6\\n', 'ZNF567\\n', 'FBXO17\\n', 'ZNF211\\n', 'SSRP1\\n', 'KDM1A\\n', 'KCTD6\\n', 'CXCR3\\n', 'CFL1\\n', 'LIN9\\n', 'LMNA\\n', 'KIF3C\\n', 'MTMR3\\n', 'HLA-DQA2\\n', 'UCN\\n', 'OR6B2\\n', 'DLST\\n', 'PTK2\\n', 'CUL9\\n', 'ATP6V1A\\n', 'ASB7\\n', 'SLC25A13\\n', 'OR4D2\\n', 'U2AF1L5\\n', 'SCG3\\n', 'ZNF394\\n', 'OR52N4\\n', 'UIMC1\\n', 'SCRIB\\n', 'GRM5\\n', 'SLC16A7\\n', 'H2BC4\\n', 'GALC\\n', 'SRF\\n', '100506888\\n', 'B4GALT5\\n', 'LAMA3\\n', 'LPAR4\\n', 'TNFSF12\\n', 'MAT2B\\n', 'VAV3\\n', 'LRRFIP1\\n', 'ZNF585B\\n', 'RRH\\n', 'HGS\\n', 'NR5A2\\n', 'PPP2R5C\\n', 'PSMB5\\n', 'IKBKG\\n', 'RAB27B\\n', 'PTEN\\n', 'PNRC2\\n', 'GJB3\\n', 'DHH\\n', 'CEACAM5\\n', 'POLD3\\n', 'REPS2\\n', 'CYBB\\n', 'APOOL\\n', 'CENPU\\n', 'POLR2G\\n', 'COL20A1\\n', 'SBF2\\n', 'CENPA\\n', 'UBE2V2\\n', 'BTBD6\\n', 'CACNA1D\\n', 'IFNA7\\n', '956535\\n', 'NDC80\\n', 'TGM1\\n', 'SSR1\\n', 'RUNX1\\n', 'MAP1LC3C\\n', 'SHH\\n', 'CCT6A\\n', 'RNF115\\n', 'AGO3\\n', 'BCAT1\\n', 'BST2\\n', 'RPL5\\n', 'STARD8\\n', 'CTSK\\n', 'HRH4\\n', 'RAB8A\\n', 'CEBPB\\n', 'CSTB\\n', 'FGR\\n', 'BPIFB2\\n', 'ADH4\\n', 'FLRT2\\n', 'OR2A42\\n', 'SEC61B\\n', 'SMC3\\n', 'GMNN\\n', 'RNF114\\n', 'AMY2B\\n', 'OR4C15\\n', 'TAAR1\\n', 'CEP192\\n', 'NRTN\\n', 'LSM7\\n', 'ZNF735\\n', 'TRAPPC1\\n', 'CDK7\\n', 'RNPS1\\n', 'GTF2F1\\n', 'RNF220\\n', 'ACTB\\n', 'ZNF586\\n', 'CASQ2\\n', 'RBBP5\\n', 'HEBP1\\n', 'MME\\n', 'VCL\\n', 'SPSB3\\n', 'CPNE1\\n', 'SERPINB3\\n', 'GHDC\\n', 'LDHAL6A\\n', 'FCGR3A\\n', 'TLR10\\n', 'ING5\\n', 'HMOX1\\n', 'BATF\\n', 'PNPLA2\\n', 'UGT1A9\\n', 'SLIT2\\n', 'CTSG\\n', 'LAMA1\\n', 'ZNF136\\n', 'CAMK2D\\n', 'FXYD6\\n', 'COL4A2\\n', 'CPSF1\\n', 'ARHGEF40\\n', 'H3C4\\n', 'BMP1\\n', 'SIRT4\\n', 'COX8A\\n', 'RAP1B\\n', 'SLX1B\\n', 'FGD4\\n', 'ZNF266\\n', 'CDT1\\n', 'PRKAR1A\\n', 'PPIL4\\n', 'PTPRN2\\n', 'ATP2B4\\n', 'ZNRF3\\n', 'PIK3R3\\n', 'NID2\\n', 'MDM2\\n', 'CHL1\\n', 'RPSA\\n', 'TBC1D4\\n', 'ZNF703\\n', 'DNA2\\n', 'PIK3R4\\n', 'CHEK1\\n', 'ALMS1\\n', 'ZNF483\\n', 'SGO1\\n', 'ENPP4\\n', 'NOP56\\n', 'CTSB\\n', 'KIF4A\\n', 'KIFC1\\n', 'CRH\\n', 'SCMH1\\n', 'OR5K3\\n', 'ZNF718\\n', 'ZNF589\\n', 'TRIB3\\n', 'UBE2V1\\n', 'DVL1\\n', 'EHD2\\n', 'RCC2\\n', 'HBG1\\n', 'EPHA1\\n', 'COPE\\n', 'ZNF347\\n', 'IFITM1\\n', 'KLF4\\n', 'ITGAE\\n', 'NIT2\\n', 'PAFAH1B1\\n', 'OR6M1\\n', 'KIF13B\\n', 'RPL26L1\\n', 'ATP2A1\\n', 'RBBP7\\n', 'ICAM4\\n', 'POLR1H\\n', 'IL6\\n', 'CPSF3\\n', 'USP13\\n', 'S1PR2\\n', 'LAMTOR4\\n', 'ZNF461\\n', 'FEM1A\\n', 'RFC5\\n', 'PAIP1\\n', 'HIPK1\\n', 'WSB1\\n', 'ZNF550\\n', 'LRRTM4\\n', 'QSOX1\\n', 'ADCY3\\n', 'OPTN\\n', 'TCIRG1\\n', 'GALR1\\n', 'TFDP1\\n', 'UBE2E1\\n', 'BIRC2\\n', 'EVA1A\\n', 'RNF135\\n', 'COL7A1\\n', 'POU2F2\\n', 'ITK\\n', 'H2AC8\\n', 'PLEKHA1\\n', 'METTL7A\\n', 'PSMA2\\n', 'BBS2\\n', 'BEST3\\n', 'MAPKAPK5\\n', 'PIK3CD\\n', 'ARCN1\\n', 'ZNF234\\n', 'BAG5\\n', 'FCAR\\n', 'FMNL2\\n', 'COG8\\n', 'RAB3A\\n', 'ACTN1\\n', 'COL15A1\\n', 'PSME1\\n', 'AQR\\n', 'TPTEP2-CSNK1E\\n', 'MCHR1\\n', 'CENPP\\n', 'GRB2\\n', 'ZNF214\\n', 'GFRA2\\n', 'AKAP9\\n', 'OR8K1\\n', 'ASB9\\n', 'GRK3\\n', 'USP17L22\\n', 'GBP1\\n', 'FBXL16\\n', 'ALAS1\\n', 'CFD\\n', 'RHOU\\n', 'MMP3\\n', 'ZNF443\\n', 'GCA\\n', 'PSMF1\\n', 'DLL4\\n', 'ALDH9A1\\n', 'HNRNPA3\\n', 'H4C8\\n', 'ATP2B3\\n', 'SLPI\\n', 'IRF2\\n', 'RAF1\\n', 'BCL10\\n', 'PRPF40A\\n', 'OPRK1\\n', 'FASN\\n', 'UTP6\\n', 'FCER1A\\n', 'NCSTN\\n', 'SLC18A3\\n', 'OR10A5\\n', 'ZNF131\\n', 'VAPA\\n', 'SYMPK\\n', 'BDKRB1\\n', 'SLCO4C1\\n', 'TCF12\\n', 'FGD2\\n', 'THOC1\\n', 'ERCC6L\\n', 'COL3A1\\n', 'NUCB1\\n', 'FDPS\\n', 'KIF2A\\n', 'CDC37\\n', 'GLB1\\n', 'GGH\\n', '341568\\n', 'HLA-E\\n', 'RAB5A\\n', 'VCP\\n', 'REEP4\\n', 'KRT10\\n', 'FBL\\n', 'SIGLEC5\\n', 'ZFP14\\n', 'CCR3\\n', 'TBK1\\n', 'RBMX\\n', 'ZNF552\\n', 'GTF2H5\\n', 'UEVLD\\n', 'RPL36A\\n', 'IGFBP1\\n', 'ME1\\n', 'NDUFB3\\n', 'ZNF493\\n', 'CRACR2A\\n', 'ARHGEF18\\n', 'TGFBR2\\n', 'OSM\\n', 'GYPA\\n', 'H2BC11\\n', 'RGS17\\n', 'TRIM26\\n', 'HSP90AA1\\n', 'FGG\\n', 'ARHGDIB\\n', 'DZIP3\\n', 'CSPG5\\n', 'ANAPC1\\n', 'EPHA7\\n', 'PSME3\\n', 'DLG4\\n', 'CCL5\\n', 'UBA52\\n', 'USP3\\n', 'KDM5B\\n', 'TRIP12\\n', 'TAF12\\n', 'H4C3\\n', 'PIK3CB\\n', 'SPTBN5\\n', 'GOLGA7\\n', 'IFNA8\\n', 'ZNF254\\n', 'LTA4H\\n', 'CAPN6\\n', 'COTL1\\n', 'RGS13\\n', 'SRP14\\n', 'STAM2\\n', 'SPC25\\n', 'OR8K5\\n', 'REEP1\\n', 'OR5D13\\n', 'CPNE3\\n', 'DDX42\\n', 'MBD1\\n', 'SMARCD3\\n', 'HLA-A\\n', 'DCP2\\n', 'OR51E1\\n', 'KRTAP5-8\\n', 'ARIH2\\n', 'OR10X1\\n', 'OR4K13\\n', 'EXOSC5\\n', 'MFN1\\n', 'SMC1B\\n', 'NSL1\\n', 'VEGFD\\n', 'C9\\n', 'IRAG2\\n', 'ITGA7\\n', 'KDM4B\\n', 'P2RY11\\n', 'DDX47\\n', 'DSG3\\n', 'GRHL1\\n', '956531\\n', 'CWC22\\n', 'POLRMT\\n', 'NOL6\\n', 'OR4F4\\n', 'VPS72\\n', 'HAO1\\n', 'OR4A15\\n', 'ZNF454\\n', 'DSC2\\n', 'FBXO6\\n', 'ZNF415\\n', 'RPL27A\\n', 'ZNF264\\n', 'ZNF205\\n', 'XRN1\\n', 'ZNF599\\n', 'OS9\\n', 'COMMD3\\n', 'OR4D1\\n', 'AKT2\\n', 'ZNF257\\n', 'P2RY10\\n', 'MC2R\\n', 'FANCA\\n', 'EXOSC8\\n', 'OR6K3\\n', 'ZIM2\\n', 'IRF9\\n', 'BARD1\\n', 'MCRS1\\n', 'UBE4A\\n', 'LHX2\\n', 'CDC34\\n', 'TAS2R40\\n', 'PSMB11\\n', 'ZNF343\\n', 'CORT\\n', 'OR5L1\\n', 'OR4C11\\n', 'YES1\\n', 'OR52E4\\n', 'TAS2R5\\n', 'BRMS1\\n', 'THBS1\\n', 'USP17L2\\n', 'EXO1\\n', 'UBTF\\n', 'LAMC1\\n', 'OR6C68\\n', 'ITPK1\\n', 'ACOT12\\n', 'OR8D4\\n', 'SF3B1\\n', 'USP19\\n', 'OR5M10\\n', 'RRAGC\\n', 'CALM2\\n', 'ZNF217\\n', 'TREM2\\n', 'OR10T2\\n', 'DSG4\\n', 'OR2M2\\n', 'HERC5\\n', 'XAB2\\n', 'PLBD1\\n', 'MLNR\\n', 'OR14J1\\n', 'ARNT\\n', 'CYCS\\n', 'LNPEP\\n', 'HERC2\\n', 'GFRA1\\n', 'OR51B6\\n', 'PROC\\n', 'ZNF793\\n', 'GNG2\\n', 'TAF1L\\n', 'KRT6A\\n', 'OR4F3\\n', 'ADAMTS5\\n', 'MXRA8\\n', 'CTNNB1\\n', 'SERPINA10\\n', 'OR13G1\\n', 'MGRN1\\n', 'MZT1\\n', 'CHD3\\n', 'SAA1\\n', 'PPP1R12A\\n', 'CPSF4\\n', 'PSMB1\\n', 'ARHGAP10\\n', 'CAPZA3\\n', 'HEY2\\n', 'HLA-B\\n', 'EGLN3\\n', 'GNG7\\n', 'MPHOSPH6\\n', 'KRTAP10-1\\n', 'TPX2\\n', 'B9D2\\n', 'FGF7\\n', 'MVP\\n', 'NLGN4Y\\n', 'NPBWR1\\n'], np.int64(902): ['SNCAIP\\n'], np.int64(903): ['TIMM17A\\n', 'ATP5MC3\\n'], np.int64(904): ['AK7\\n'], np.int64(905): ['DNAJC6\\n', 'SNAPIN\\n'], np.int64(906): ['LSM6\\n'], np.int64(907): ['CLDN15\\n'], np.int64(908): ['RAB30\\n'], np.int64(909): ['SGK2\\n'], np.int64(910): ['NNT\\n'], np.int64(911): ['LTV1\\n'], np.int64(912): ['KIF5C\\n', 'EXOC6\\n'], np.int64(913): ['MERTK\\n'], np.int64(914): ['MT-ATP6\\n'], np.int64(915): ['MIA3\\n', 'FSTL3\\n'], np.int64(916): ['PITRM1\\n'], np.int64(917): ['BET1\\n'], np.int64(918): ['TNNT3\\n'], np.int64(919): ['HDGF\\n'], np.int64(920): ['TBC1D8B\\n'], np.int64(921): ['B3GLCT\\n', 'ADAMTS12\\n'], np.int64(922): ['IAPP\\n', 'THRB\\n'], np.int64(923): ['AKAP1\\n'], np.int64(924): ['ARSD\\n'], np.int64(925): ['MRPL55\\n', 'MRPL14\\n', 'TSFM\\n', 'MRPL50\\n', 'MRPS18A\\n', 'MRPL49\\n', 'MRPS27\\n', 'MTRF1L\\n', 'MRPS10\\n', 'MRPS26\\n', 'ERAL1\\n', 'MRPS31\\n', 'MRPL40\\n', 'MRPL36\\n', 'MRPL16\\n', 'MRPL51\\n', 'MRPL53\\n', 'MRPL48\\n', 'MRPL57\\n', 'MRPL46\\n', 'MRPS24\\n', 'MRPL47\\n', 'CHCHD1\\n', 'MRPS25\\n', 'MRPS33\\n', 'AURKAIP1\\n', 'MRPS30\\n', 'MRPS28\\n', 'TUFM\\n', 'MRPL11\\n', 'MRPL33\\n', 'GFM2\\n', 'MRPL4\\n', 'MRPL54\\n', 'MRPL9\\n', 'PTCD3\\n', 'MRPL58\\n', 'DAP3\\n', 'MRPS15\\n', 'MRPS2\\n', 'MRPS14\\n', 'MRPL22\\n', 'MRPS23\\n', 'MRPL52\\n', 'MRPS9\\n', 'MRPL18\\n', 'MRPL42\\n', 'MRPL39\\n', 'MRPS35\\n', 'MRPS34\\n', 'MRPS11\\n', 'OXA1L\\n', 'MRPS6\\n', 'MRPL28\\n', 'MRPS21\\n', 'MRPL10\\n', 'MRPL23\\n', 'MRPL43\\n', 'MRPL19\\n', 'MRPL34\\n', 'MRPL27\\n', 'MRPL24\\n', 'MRPL15\\n', 'MRPL41\\n', 'MRPL1\\n', 'MRPL32\\n', 'MTFMT\\n', 'MRPS17\\n', 'MRPS12\\n', 'MRPL30\\n', 'MRPL35\\n', 'MRPL12\\n', 'MRPS16\\n', 'MRPS22\\n', 'MRPL21\\n', 'GADD45GIP1\\n', 'MRPL44\\n', 'MRPL38\\n', 'MRPS36\\n'], np.int64(926): ['TNFSF11\\n'], np.int64(927): ['CITED1\\n'], np.int64(928): ['THBS2\\n', 'LILRA1\\n', 'CD200R1\\n'], np.int64(929): ['SEC22A\\n'], np.int64(930): ['WDR35\\n', 'DYNC2LI1\\n'], np.int64(931): ['ADSL\\n'], np.int64(932): ['SF3A2\\n', 'WBP4\\n'], np.int64(933): ['MYL12A\\n', 'EPHB1\\n', 'EPHA8\\n', 'GIT1\\n'], np.int64(934): ['ST3GAL4\\n', 'GCNT1\\n'], np.int64(935): ['SLC9A9\\n'], np.int64(936): ['SIGLEC7\\n', 'JAML\\n', 'KIR2DL2\\n', 'MICA\\n'], np.int64(937): ['ME2\\n'], np.int64(938): ['GOLIM4\\n'], np.int64(939): ['KRT25\\n', 'KRT27\\n', 'KRTAP6-1\\n'], np.int64(940): ['KCNK4\\n'], np.int64(941): ['MSLN\\n'], np.int64(942): ['EXOSC10\\n', 'NOP58\\n'], np.int64(943): ['MRPS18C\\n'], np.int64(944): ['ZNF732\\n'], np.int64(945): ['KMT5A\\n'], np.int64(946): ['PYGO2\\n'], np.int64(947): ['TSR3\\n'], np.int64(948): ['RHOT2\\n', 'SOS2\\n', 'ARHGEF38\\n']}\n",
      "********************\n",
      "distance_matrix\n",
      "[[0.  0.8 0.8 ... 0.8 0.8 0.8]\n",
      " [0.8 0.  0.8 ... 0.8 0.6 0.6]\n",
      " [0.8 0.8 0.  ... 0.6 0.8 0.8]\n",
      " ...\n",
      " [0.8 0.8 0.6 ... 0.  0.8 0.8]\n",
      " [0.8 0.6 0.8 ... 0.8 0.  0.6]\n",
      " [0.8 0.6 0.8 ... 0.8 0.6 0. ]]\n",
      "********************\n"
     ]
    }
   ],
   "source": [
    "#| eval: false\n",
    "for key in cmmd_output.keys():\n",
    "    print(key)\n",
    "    print(cmmd_output[key])\n",
    "    print(\"*\" * 20)"
   ]
  },
  {
   "cell_type": "code",
   "execution_count": 16,
   "metadata": {},
   "outputs": [
    {
     "data": {
      "text/plain": [
       "(5609, 5609)"
      ]
     },
     "execution_count": 16,
     "metadata": {},
     "output_type": "execute_result"
    }
   ],
   "source": [
    "#| eval: false\n",
    "cmmd_output[\"distance_matrix\"].shape"
   ]
  },
  {
   "cell_type": "code",
   "execution_count": 22,
   "metadata": {},
   "outputs": [
    {
     "data": {
      "text/plain": [
       "array([[0. , 0.8, 0.8, ..., 0.8, 0.8, 0.8],\n",
       "       [0.8, 0. , 0.8, ..., 0.8, 0.6, 0.6],\n",
       "       [0.8, 0.8, 0. , ..., 0.6, 0.8, 0.8],\n",
       "       ...,\n",
       "       [0.8, 0.8, 0.6, ..., 0. , 0.8, 0.8],\n",
       "       [0.8, 0.6, 0.8, ..., 0.8, 0. , 0.6],\n",
       "       [0.8, 0.6, 0.8, ..., 0.8, 0.6, 0. ]])"
      ]
     },
     "execution_count": 22,
     "metadata": {},
     "output_type": "execute_result"
    }
   ],
   "source": [
    "#| eval: false\n",
    "dm = cmmd_output[\"distance_matrix\"]\n",
    "dm"
   ]
  },
  {
   "cell_type": "code",
   "execution_count": 23,
   "metadata": {},
   "outputs": [
    {
     "data": {
      "text/plain": [
       "array([0. , 0.2, 0.4, 0.6, 0.8, 1. ])"
      ]
     },
     "execution_count": 23,
     "metadata": {},
     "output_type": "execute_result"
    }
   ],
   "source": [
    "#| eval: false\n",
    "np.unique(dm)"
   ]
  },
  {
   "cell_type": "code",
   "execution_count": 27,
   "metadata": {},
   "outputs": [
    {
     "data": {
      "image/png": "[encoded data removed]",
      "text/plain": [
       "<Figure size 640x480 with 1 Axes>"
      ]
     },
     "metadata": {},
     "output_type": "display_data"
    }
   ],
   "source": [
    "#| eval: false\n",
    "sns.histplot(cmmd_output[\"distance_matrix\"].flatten(), stat=\"density\");"
   ]
  },
  {
   "cell_type": "code",
   "execution_count": 29,
   "metadata": {},
   "outputs": [
    {
     "data": {
      "text/plain": [
       "array([[969, 935, 842, 902, 901],\n",
       "       [894, 924, 782, 818, 901],\n",
       "       [801, 751, 644, 860, 901],\n",
       "       ...,\n",
       "       [938, 751, 908, 984, 901],\n",
       "       [967, 924, 913, 997, 901],\n",
       "       [789, 924, 970, 944, 901]])"
      ]
     },
     "execution_count": 29,
     "metadata": {},
     "output_type": "execute_result"
    }
   ],
   "source": [
    "#| eval: false\n",
    "gcm = cmmd_output[\"gene_community_matrix\"]\n",
    "gcm"
   ]
  },
  {
   "cell_type": "code",
   "execution_count": 31,
   "metadata": {},
   "outputs": [
    {
     "data": {
      "text/plain": [
       "(5609, 5)"
      ]
     },
     "execution_count": 31,
     "metadata": {},
     "output_type": "execute_result"
    }
   ],
   "source": [
    "#| eval: false\n",
    "gcm.shape"
   ]
  },
  {
   "cell_type": "code",
   "execution_count": 33,
   "metadata": {},
   "outputs": [
    {
     "data": {
      "text/plain": [
       "dict"
      ]
     },
     "execution_count": 33,
     "metadata": {},
     "output_type": "execute_result"
    }
   ],
   "source": [
    "#| eval: false\n",
    "l_constant = cmmd_output[\"l_constant\"]\n",
    "type(l_constant)"
   ]
  },
  {
   "cell_type": "code",
   "execution_count": 34,
   "metadata": {},
   "outputs": [
    {
     "data": {
      "text/plain": [
       "380"
      ]
     },
     "execution_count": 34,
     "metadata": {},
     "output_type": "execute_result"
    }
   ],
   "source": [
    "#| eval: false\n",
    "len(l_constant.keys())"
   ]
  },
  {
   "cell_type": "code",
   "execution_count": null,
   "metadata": {},
   "outputs": [],
   "source": []
  }
 ],
 "metadata": {
  "kernelspec": {
   "display_name": "python3",
   "language": "python",
   "name": "python3"
  },
  "language_info": {
   "codemirror_mode": {
    "name": "ipython",
    "version": 3
   },
   "file_extension": ".py",
   "mimetype": "text/x-python",
   "name": "python",
   "nbconvert_exporter": "python",
   "pygments_lexer": "ipython3",
   "version": "3.12.5"
  }
 },
 "nbformat": 4,
 "nbformat_minor": 2
}
