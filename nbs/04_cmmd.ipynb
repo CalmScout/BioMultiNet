{
 "cells": [
  {
   "cell_type": "markdown",
   "metadata": {},
   "source": [
    "# CmmD: Continual Multiplex network Module Detector"
   ]
  },
  {
   "cell_type": "markdown",
   "metadata": {},
   "source": [
    "Python implementation of the algorithm originally proposed in [\"The multilayer community structure of medulloblastoma\" by Iker Núñez-Carpintero et. al.](https://www.sciencedirect.com/science/article/pii/S2589004221003333).\n",
    "\n",
    "Implementation relies on [MolTi-DREAM](https://github.com/gilles-didier/MolTi-DREAM) for communities detection problem.\n",
    "\n",
    "* Make sure to add molti-console as an executable program from any directory by adding it to your ~/.bashrc file. (This file may change depending on your OS ditribution)"
   ]
  },
  {
   "cell_type": "markdown",
   "metadata": {},
   "source": [
    "## 0. Import libraries and define paths"
   ]
  },
  {
   "cell_type": "code",
   "execution_count": 1,
   "metadata": {},
   "outputs": [],
   "source": [
    "import os\n",
    "import sys\n",
    "import subprocess\n",
    "import numpy as np\n",
    "from concurrent.futures import ThreadPoolExecutor\n",
    "from scipy.spatial.distance import pdist, squareform\n",
    "import seaborn as sns\n",
    "import pickle\n",
    "from pathlib import Path\n",
    "import pathlib\n",
    "import time"
   ]
  },
  {
   "cell_type": "markdown",
   "metadata": {},
   "source": [
    "Auxiliary function to measure the execution time:"
   ]
  },
  {
   "cell_type": "code",
   "execution_count": 2,
   "metadata": {},
   "outputs": [],
   "source": [
    "def time_it(func):\n",
    "    def wrapper(*args, **kwargs):\n",
    "        start_time = time.perf_counter()\n",
    "        result = func(*args, **kwargs)\n",
    "        end_time = time.perf_counter()\n",
    "        execution_time = end_time - start_time\n",
    "        minutes = int(execution_time // 60)\n",
    "        seconds = execution_time % 60\n",
    "        print(f\"Function '{func.__name__}' executed in {minutes} minutes, {seconds:.2f} seconds\")\n",
    "        return result\n",
    "    return wrapper"
   ]
  },
  {
   "cell_type": "markdown",
   "metadata": {},
   "source": [
    "## 1. Define function for community detection"
   ]
  },
  {
   "cell_type": "code",
   "execution_count": 3,
   "metadata": {},
   "outputs": [],
   "source": [
    "@time_it\n",
    "def communities_detection(input_layers:list[str]=None,\n",
    "                          gamma_min:float=None,\n",
    "                          gamma_max:float=None,\n",
    "                          gamma_step:float=None,\n",
    "                          path_to_communities:str=None,\n",
    "                          method:str=\"molti\"):\n",
    "    # Prepare inputs to generate the console order for MolTi's run.\n",
    "    layers = \" \".join(input_layers)\n",
    "    \n",
    "    resolution_gamma_step = np.arange(gamma_min, gamma_max + gamma_step, gamma_step)\n",
    "    desfile_vector = [f\"{path_to_communities}{res}.csv\" for res in resolution_gamma_step]\n",
    "    \n",
    "    # community analysis\n",
    "    if method == \"molti\":\n",
    "        for i, current_resolution in enumerate(resolution_gamma_step):\n",
    "            current_destfile = desfile_vector[i]\n",
    "            system_order = f\"molti-console -o {current_destfile} -p {current_resolution} {layers} > /dev/null\"\n",
    "            subprocess.run(system_order, shell=True)"
   ]
  },
  {
   "cell_type": "code",
   "execution_count": 4,
   "metadata": {},
   "outputs": [],
   "source": [
    "@time_it\n",
    "def continual_multiplex_analysis(nodelist:list[str]=None,\n",
    "                                 path_to_communities:str=None,\n",
    "                                 distmethod:str=\"hamming\",\n",
    "                                 n_jobs:int=1):\n",
    "        # reading MolTi output files\n",
    "        output_files = [f for f in os.listdir(path_to_communities) if \"_\" not in f]\n",
    "        \n",
    "        alllists = []\n",
    "        \n",
    "        for output_file in output_files:\n",
    "            with open(os.path.join(path_to_communities, output_file), 'r') as file:\n",
    "                red = file.readlines()\n",
    "            \n",
    "            cluster_ids = [i for i, line in enumerate(red) if \"Cluster\" in line]\n",
    "            lista = []\n",
    "            \n",
    "            for j, st in enumerate(cluster_ids):\n",
    "                if j == len(cluster_ids) - 1:\n",
    "                    en = len(red)\n",
    "                else:\n",
    "                    en = cluster_ids[j + 1]\n",
    "                current_cluster = red[st:en]\n",
    "                current_cluster2 = current_cluster[:-2] if j != len(cluster_ids) - 1 else current_cluster[:-1]\n",
    "                lista.append(current_cluster2[1:])\n",
    "            \n",
    "            alllists.append(lista)\n",
    "        \n",
    "        allgenes = list(set([gene for sublist in alllists for cluster in sublist for gene in cluster]))\n",
    "\n",
    "        if nodelist:\n",
    "            allgenes = list(set(allgenes).intersection(nodelist))\n",
    "        \n",
    "        # Calculating Gene/Community matrix\n",
    "        res_matrix = np.zeros((len(allgenes), len(alllists) + 1), dtype=int)\n",
    "        gene_indices = {gene: idx for idx, gene in enumerate(allgenes)}\n",
    "        \n",
    "        for j, output_file_list in enumerate(alllists):\n",
    "            for k, cluster in enumerate(output_file_list):\n",
    "                for gene in cluster:\n",
    "                    res_matrix[gene_indices[gene], j] = k + 1\n",
    "        \n",
    "        patterns = [\"_\".join(map(str, res_matrix[i, :-1])) for i in range(len(allgenes))]\n",
    "        res_matrix[:, -1] = np.array(patterns, dtype=str)\n",
    "        \n",
    "        # porcentajes = np.linspace(0, 100, num=21)\n",
    "        # for i, percentage in enumerate(np.round(np.linspace(0, 100, len(allgenes)), 4)):\n",
    "        #     if percentage in porcentajes:\n",
    "        #         print(f\"Progress: {percentage}%\")\n",
    "        \n",
    "        # Calculating Hamming distances for all gene pairs\n",
    "        gene_community_matrix = res_matrix[:, :-1].astype(int)\n",
    "        genes_same_communities = {pattern: [] for pattern in np.unique(gene_community_matrix[:,-1])}\n",
    "        \n",
    "        for i, pattern in enumerate(gene_community_matrix[:,-1]):\n",
    "            genes_same_communities[pattern].append(allgenes[i])\n",
    "        \n",
    "        with ThreadPoolExecutor(max_workers=n_jobs) as executor:\n",
    "            distance_matrix = squareform(pdist(gene_community_matrix, metric=distmethod))\n",
    "        \n",
    "        final_output = {\n",
    "            \"gene_community_matrix\": gene_community_matrix,\n",
    "            \"l_constant\": genes_same_communities,\n",
    "            \"distance_matrix\": distance_matrix\n",
    "        }\n",
    "        \n",
    "        return final_output"
   ]
  },
  {
   "cell_type": "code",
   "execution_count": 5,
   "metadata": {},
   "outputs": [],
   "source": [
    "def cmmd(nodelist:list[str]|None=None,\n",
    "         input_layers:list[str]=None,\n",
    "         gamma_min:float=None,\n",
    "         gamma_max:float=None,\n",
    "         gamma_step:float=None, \n",
    "         distmethod:str=\"hamming\",\n",
    "         method:str=\"molti\",\n",
    "         n_jobs:int=1,\n",
    "         path_to_communities:str=None):\n",
    "    \n",
    "    \"\"\"\n",
    "    Compute CmmD multilayer community trajectory analysis for a set of given networks.\n",
    "\n",
    "    Parameters\n",
    "    ----------\n",
    "    nodelist : list, optional\n",
    "        A list with the unique nodes that we want to appear in the final output. If not given,\n",
    "        all nodes of the multiplex will be in the final output (nodelist= NULL)\n",
    "    input_layers : list\n",
    "        A vector of strings containing the paths where the different network layers are located\n",
    "        in the system. Networks should be a two column file representing the edges of the graph.\n",
    "    gamma_min : float\n",
    "        The first gamma resolution parameter to use in the different MolTi's analysis\n",
    "    gamma_max : float\n",
    "        The last gamma resolution parameter to use in the different MolTi's analysis.\n",
    "    gamma_step : float\n",
    "        The gamma_step of the resolution parameter to use. \n",
    "    distmethod : str, optional\n",
    "        A distance method metric to use to compute the trajectories. Defaults to \"hamming\" for hamming\n",
    "        distance, but accepts any other metric supplied by scipy.spatial.distance.pdist.\n",
    "    n_jobs : int, optional\n",
    "        The number of n_jobs to use for the computation of the distance matrix. Defaults to 1.\n",
    "    path_to_communities : str, optional\n",
    "        The path to save Molti's output files. Defaults to \"Output/\".\n",
    "\n",
    "    Returns\n",
    "    -------\n",
    "    A dictionary containing the following keys:\n",
    "        gene_community_matrix: A matrix where the rows correspond to the different genes, and the columns to the different community structures. The values of the matrix are the cluster to which the gene belongs in the corresponding community structure.\n",
    "        l_constant: A dictionary where the keys are the different community structures, and the values are the list of genes that belong to that community structure.\n",
    "        distance_matrix: A matrix with the hamming distances between all pairs of genes.\n",
    "    \"\"\"\n",
    "    # 0. check input correctness\n",
    "    if input_layers is None or len(input_layers) < 1:\n",
    "        raise ValueError(\"ERROR: Input_layers argument must be a list of at least 1 network file\")\n",
    "    \n",
    "    if not isinstance(gamma_max, (int, float)):\n",
    "        raise ValueError(\"ERROR: Resolution parameter must be a number\")\n",
    "    \n",
    "    if not isinstance(gamma_min, (int, float)):\n",
    "        raise ValueError(\"ERROR: Resolution parameter must be a number\")\n",
    "    \n",
    "    if not isinstance(gamma_step, (int, float)):\n",
    "        raise ValueError(\"ERROR: gamma_step value must be a number\")\n",
    "    \n",
    "    if not isinstance(path_to_communities, str):\n",
    "        raise ValueError(\"ERROR: path_to_communities expects a character string\")\n",
    "    \n",
    "    assert distmethod in ['braycurtis', 'canberra', 'chebyshev', 'cityblock',\n",
    "                          'correlation', 'cosine', 'dice', 'euclidean', 'hamming',\n",
    "                          'jaccard', 'jensenshannon', 'kulczynski1', 'mahalanobis',\n",
    "                          'matching', 'minkowski', 'rogerstanimoto', 'russellrao',\n",
    "                          'seuclidean', 'sokalmichener', 'sokalsneath', 'sqeuclidean',\n",
    "                          'yule']\n",
    "    \n",
    "    if not isinstance(n_jobs, int):\n",
    "        raise ValueError(\"ERROR: n_jobs must be a number corresponding to the number of cores available to use\")\n",
    "\n",
    "    # 1st part: community detection\n",
    "    communities_detection(input_layers=input_layers, gamma_min=gamma_min, gamma_max=gamma_max,\n",
    "                          gamma_step=gamma_step, method=method, path_to_communities=path_to_communities)\n",
    "    \n",
    "    # 2nd part: cmmd\n",
    "    final_output = continual_multiplex_analysis(nodelist=nodelist,\n",
    "                                                path_to_communities=path_to_communities,\n",
    "                                                distmethod=distmethod,\n",
    "                                                n_jobs=n_jobs)\n",
    "    \n",
    "    return final_output"
   ]
  },
  {
   "cell_type": "code",
   "execution_count": 6,
   "metadata": {},
   "outputs": [
    {
     "name": "stdout",
     "output_type": "stream",
     "text": [
      "Function 'communities_detection' executed in 0 minutes, 34.06 seconds\n",
      "Function 'continual_multiplex_analysis' executed in 0 minutes, 0.21 seconds\n"
     ]
    }
   ],
   "source": [
    "prefix = \"../data/bsc_baseline_tiny/\"\n",
    "input_layers = [prefix + \"1.csv\",\n",
    "                prefix + \"2.csv\"]\n",
    "\n",
    "for l in input_layers:\n",
    "    assert Path(l).exists()\n",
    "\n",
    "cmmd_output = cmmd(nodelist = None,\n",
    "     input_layers = input_layers,\n",
    "     gamma_min = 0,\n",
    "     gamma_max = 2,\n",
    "     gamma_step = 0.5,\n",
    "     path_to_communities = \"../out/communities/\",\n",
    "     distmethod = \"hamming\",\n",
    "     n_jobs = 6)\n"
   ]
  },
  {
   "cell_type": "markdown",
   "metadata": {},
   "source": [
    "Save object to the disk:"
   ]
  },
  {
   "cell_type": "code",
   "execution_count": 7,
   "metadata": {},
   "outputs": [],
   "source": [
    "# # save object to file\n",
    "# path_save = Path(\"../out/cmmd_pickle/\")\n",
    "# assert path_save.exists()\n",
    "\n",
    "# # pickle the object\n",
    "# with open(path_save / \"cmmd_output.pkl\", 'wb') as handle:\n",
    "#     pickle.dump(cmmd_output, handle, protocol=pickle.HIGHEST_PROTOCOL)"
   ]
  },
  {
   "cell_type": "code",
   "execution_count": 8,
   "metadata": {},
   "outputs": [],
   "source": [
    "# def test_cmmd(cmmd:dict, path_save:pathlib.Path|str=Path(\"../out/cmmd_pickle/cmmd_output.pkl\")) -> None:\n",
    "#     # load the cmmd object\n",
    "#     with open(path_save, 'rb') as handle:\n",
    "#         cmmd_old = pickle.load(handle)\n",
    "#     assert (cmmd[\"distance_matrix\"] == cmmd_old[\"distance_matrix\"]).all()\n",
    "#     assert (cmmd[\"gene_community_matrix\"] == cmmd_old[\"gene_community_matrix\"]).all()\n",
    "#     assert cmmd[\"l_constant\"] == cmmd_old[\"l_constant\"]"
   ]
  },
  {
   "cell_type": "markdown",
   "metadata": {},
   "source": [
    "Confirm new and old objects generate the same output:"
   ]
  },
  {
   "cell_type": "code",
   "execution_count": 9,
   "metadata": {},
   "outputs": [
    {
     "data": {
      "text/plain": [
       "dict_keys(['gene_community_matrix', 'l_constant', 'distance_matrix'])"
      ]
     },
     "execution_count": 9,
     "metadata": {},
     "output_type": "execute_result"
    }
   ],
   "source": [
    "#| eval: false\n",
    "cmmd_output.keys()"
   ]
  },
  {
   "cell_type": "code",
   "execution_count": 10,
   "metadata": {},
   "outputs": [
    {
     "name": "stdout",
     "output_type": "stream",
     "text": [
      "gene_community_matrix\n",
      "[[938 924 983 960 901]\n",
      " [736 751 644 860 901]\n",
      " [951 941 930 947 901]\n",
      " ...\n",
      " [848 986 961 896 901]\n",
      " [789 924 971 944 901]\n",
      " [951 941 930 947 901]]\n",
      "********************\n",
      "l_constant\n",
      "{np.int64(20): ['SLC18A1\\n', 'DDC\\n'], np.int64(60): ['RDH13\\n'], np.int64(126): ['OAT\\n'], np.int64(143): ['SLC6A19\\n', 'SLC6A14\\n', 'SLC43A2\\n'], np.int64(168): ['TYR\\n', 'SLC7A8\\n', 'TH\\n'], np.int64(195): ['HS3ST3A1\\n'], np.int64(227): ['CYP2D6\\n'], np.int64(239): ['CYP2C9\\n'], np.int64(308): ['SLC9A4\\n'], np.int64(443): ['HACD1\\n'], np.int64(448): ['GCSH\\n'], np.int64(450): ['NDUFAB1\\n', 'NDUFAF7\\n'], np.int64(466): ['NDUFA5\\n'], np.int64(478): ['NDUFC1\\n'], np.int64(482): ['SARDH\\n', 'CHDH\\n'], np.int64(514): ['DLAT\\n'], np.int64(522): ['SLC36A4\\n'], np.int64(553): ['SLC5A10\\n', 'SLC2A6\\n'], np.int64(582): ['DAO\\n'], np.int64(588): ['KCNQ4\\n'], np.int64(589): ['ADAMTS16\\n'], np.int64(590): ['SLITRK1\\n'], np.int64(591): ['HCN1\\n'], np.int64(592): ['KCNG2\\n'], np.int64(593): ['MYL6\\n', 'DMD\\n', 'TPM4\\n', 'PXN\\n'], np.int64(594): ['HPRT1\\n'], np.int64(595): ['DUS2\\n'], np.int64(596): ['EXOSC1\\n'], np.int64(597): ['TIMM9\\n'], np.int64(598): ['ADAT2\\n'], np.int64(599): ['GABRR2\\n', 'GABRR3\\n'], np.int64(600): ['PDK4\\n'], np.int64(601): ['ZNF383\\n'], np.int64(602): ['GRPEL1\\n'], np.int64(603): ['CNOT6\\n'], np.int64(604): ['ESAM\\n'], np.int64(605): ['EIF2AK2\\n', 'MX1\\n'], np.int64(606): ['MRPL37\\n'], np.int64(607): ['PLEKHA3\\n'], np.int64(608): ['EFNB1\\n', 'ARPC3\\n'], np.int64(609): ['ZNF521\\n'], np.int64(610): ['LYPD4\\n'], np.int64(611): ['ITFG2\\n'], np.int64(612): ['DDX23\\n'], np.int64(613): ['MMP20\\n'], np.int64(614): ['FNBP1L\\n'], np.int64(615): ['KRTAP12-1\\n'], np.int64(616): ['PRKD1\\n'], np.int64(617): ['DOT1L\\n'], np.int64(618): ['KRTAP10-6\\n'], np.int64(619): ['CHAC2\\n'], np.int64(620): ['UCHL3\\n'], np.int64(621): ['GATA6\\n', 'JMJD1C\\n'], np.int64(622): ['LRP12\\n'], np.int64(623): ['MUC17\\n'], np.int64(624): ['FANCF\\n'], np.int64(625): ['LILRB5\\n'], np.int64(626): ['NMNAT3\\n'], np.int64(627): ['WNT10A\\n'], np.int64(628): ['SDHB\\n', 'NDUFS1\\n', 'NDUFB2\\n', 'NDUFS6\\n', 'COQ10A\\n', 'LRPPRC\\n', 'UQCR11\\n', 'NDUFS2\\n'], np.int64(629): ['GJB4\\n', 'GJD2\\n'], np.int64(630): ['LRRC8C\\n', 'MMGT1\\n'], np.int64(631): ['TMEM132A\\n'], np.int64(632): ['BLOC1S4\\n'], np.int64(633): ['HTD2\\n'], np.int64(634): ['TNFSF13\\n', 'TNFRSF11B\\n'], np.int64(635): ['CACNA1S\\n'], np.int64(636): ['MUC12\\n', 'GALNT16\\n'], np.int64(637): ['ADPGK\\n'], np.int64(638): ['ENPEP\\n'], np.int64(639): ['PARVA\\n'], np.int64(640): ['NOX4\\n'], np.int64(641): ['TTC37\\n'], np.int64(642): ['AK5\\n'], np.int64(643): ['SOCS5\\n'], np.int64(644): ['IPPK\\n'], np.int64(645): ['AK6\\n'], np.int64(646): ['TPI1\\n'], np.int64(647): ['DOK6\\n'], np.int64(648): ['TEX101\\n', 'RAET1L\\n'], np.int64(649): ['ENO2\\n'], np.int64(650): ['BRPF3\\n'], np.int64(651): ['TRIM11\\n'], np.int64(652): ['PTGR1\\n'], np.int64(653): ['SLC29A2\\n', 'SLC29A1\\n'], np.int64(654): ['KRTAP10-3\\n'], np.int64(655): ['CD163\\n'], np.int64(656): ['GPIHBP1\\n'], np.int64(657): ['FKBP14\\n'], np.int64(658): ['NDUFA10\\n', 'NDUFAF4\\n', 'NDUFB7\\n', 'NDUFB8\\n', 'NDUFB4\\n', 'NDUFA3\\n', 'NDUFB10\\n', 'NUBPL\\n', 'NDUFA11\\n', 'SCO1\\n', 'MT-ND1\\n', 'NDUFB9\\n'], np.int64(659): ['POLD2\\n', 'HMGN1\\n'], np.int64(660): ['DENND1B\\n'], np.int64(661): ['RBL2\\n'], np.int64(662): ['SFTPA1\\n'], np.int64(663): ['TOMM22\\n'], np.int64(664): ['ZNF439\\n'], np.int64(665): ['AMBRA1\\n', 'TBC1D7\\n'], np.int64(666): ['IL31RA\\n'], np.int64(667): ['PILRA\\n', 'CD1B\\n'], np.int64(668): ['TPGS1\\n'], np.int64(669): ['SBSPON\\n'], np.int64(670): ['LCLAT1\\n'], np.int64(671): ['MAN2A2\\n', 'COG3\\n'], np.int64(672): ['NIPAL4\\n', 'NIPAL1\\n'], np.int64(673): ['IFNA13\\n', 'IRF5\\n'], np.int64(674): ['ATP6V1E2\\n'], np.int64(675): ['STX17\\n'], np.int64(676): ['TBC1D10A\\n'], np.int64(677): ['LY6G6D\\n'], np.int64(678): ['CHCHD5\\n'], np.int64(679): ['OCLN\\n'], np.int64(680): ['NOL9\\n', 'RBM28\\n'], np.int64(681): ['PLET1\\n'], np.int64(682): ['RIC1\\n'], np.int64(683): ['PLA2G4D\\n'], np.int64(684): ['TIMM23\\n'], np.int64(685): ['VPS29\\n'], np.int64(686): ['CYP4A22\\n'], np.int64(687): ['PLAAT5\\n'], np.int64(688): ['ARHGEF25\\n', 'HTR2B\\n'], np.int64(689): ['TCAP\\n'], np.int64(690): ['TXNRD2\\n', 'GPX8\\n'], np.int64(691): ['NT5C1B\\n'], np.int64(692): ['PLA2G2F\\n'], np.int64(693): ['GPHB5\\n'], np.int64(694): ['UGT1A5\\n'], np.int64(695): ['PPP6R3\\n'], np.int64(696): ['MED28\\n'], np.int64(697): ['MCEE\\n'], np.int64(698): ['RXFP2\\n', 'INSL3\\n', 'TAAR5\\n', 'CRHR1\\n'], np.int64(699): ['RYK\\n', 'FZD6\\n'], np.int64(700): ['TPCN1\\n'], np.int64(701): ['LIPH\\n', 'GPAT2\\n'], np.int64(702): ['POC1B-GALNT4\\n'], np.int64(703): ['CHMP5\\n', '155908\\n'], np.int64(704): ['ADAMTS15\\n', 'SPON2\\n'], np.int64(705): ['PRKCI\\n'], np.int64(706): ['SMYD2\\n'], np.int64(707): ['PAM16\\n', 'CHCHD4\\n', 'TIMM17B\\n', 'TIMM8B\\n', 'HSPA9\\n', 'USP17L5\\n'], np.int64(708): ['VNN3\\n'], np.int64(709): ['SLC17A5\\n'], np.int64(710): ['THSD7A\\n'], np.int64(711): ['886418\\n'], np.int64(712): ['ZNF124\\n'], np.int64(713): ['SMAD9\\n', 'ACVRL1\\n'], np.int64(714): ['AZGP1\\n'], np.int64(715): ['MAX\\n'], np.int64(716): ['CHMP6\\n'], np.int64(717): ['DYNLRB2\\n'], np.int64(718): ['TNNI2\\n'], np.int64(719): ['KRTAP5-7\\n'], np.int64(720): ['NEIL3\\n'], np.int64(721): ['CHCHD10\\n'], np.int64(722): ['NDUFAF6\\n'], np.int64(723): ['SH3KBP1\\n', 'PCSK9\\n', 'CLTA\\n'], np.int64(724): ['SESN2\\n'], np.int64(725): ['SESN3\\n', 'COX16\\n'], np.int64(726): ['TMOD3\\n'], np.int64(727): ['TRIM72\\n'], np.int64(728): ['CYFIP2\\n'], np.int64(729): ['JAK3\\n'], np.int64(730): ['ABCG1\\n'], np.int64(731): ['AMD1\\n'], np.int64(732): ['LPIN3\\n'], np.int64(733): ['KCNK13\\n', 'KCNK2\\n'], np.int64(734): ['TNS4\\n'], np.int64(735): ['ANKRD27\\n'], np.int64(736): ['KCNK17\\n'], np.int64(737): ['KIR2DL3\\n'], np.int64(738): ['ENPP7\\n'], np.int64(739): ['ST3GAL6\\n'], np.int64(740): ['GALNT11\\n'], np.int64(741): ['STON1-GTF2A1L\\n', 'SYT12\\n', 'REPS1\\n', 'VAMP4\\n', 'NECAP1\\n'], np.int64(742): ['NRP1\\n'], np.int64(743): ['FNIP1\\n', 'BMT2\\n'], np.int64(744): ['888777\\n'], np.int64(745): ['FCSK\\n'], np.int64(746): ['KLHL13\\n'], np.int64(747): ['EPB41L3\\n'], np.int64(748): ['ATP5ME\\n', 'CHCHD3\\n'], np.int64(749): ['ZNF226\\n', 'ZNF740\\n'], np.int64(750): ['ADAMTS13\\n'], np.int64(751): ['KRTAP5-3\\n'], np.int64(752): ['SIRT1\\n', 'PPP1CB\\n', 'NR1D1\\n', 'PPP1CA\\n'], np.int64(753): ['KCNA7\\n'], np.int64(754): ['DEFB107A\\n', 'DEFB115\\n', 'DEFB103A\\n', 'DEFA3\\n'], np.int64(755): ['MTMR2\\n'], np.int64(756): ['SYT10\\n'], np.int64(757): ['DENND1A\\n'], np.int64(758): ['GDAP1\\n', 'SLC25A17\\n', 'PEX3\\n', 'PEX14\\n'], np.int64(759): ['3636229\\n'], np.int64(760): ['NSMCE4A\\n'], np.int64(761): ['TNFSF4\\n'], np.int64(762): ['SAG\\n'], np.int64(763): ['DSE\\n'], np.int64(764): ['CNOT7\\n'], np.int64(765): ['DENND6B\\n'], np.int64(766): ['GNPAT\\n'], np.int64(767): ['YIPF6\\n'], np.int64(768): ['TRIM34\\n'], np.int64(769): ['KLRG1\\n'], np.int64(770): ['3361714\\n'], np.int64(771): ['LMF1\\n'], np.int64(772): ['KIF27\\n', 'KDELR1\\n', 'KIF1B\\n'], np.int64(773): ['CERS4\\n', 'SPHK2\\n'], np.int64(774): ['ADAMTS18\\n', 'ADAMTS1\\n', 'PLG\\n'], np.int64(775): ['ZNF480\\n', 'ZNF169\\n'], np.int64(776): ['CACNG6\\n'], np.int64(777): ['DEFB112\\n'], np.int64(778): ['ELAC2\\n'], np.int64(779): ['ITGA8\\n'], np.int64(780): ['RFT1\\n'], np.int64(781): ['ATP7B\\n', 'ATP8B3\\n', 'ATP2B1\\n', 'ATP10A\\n'], np.int64(782): ['MUC16\\n'], np.int64(783): ['SMNDC1\\n', 'ZRSR2\\n', 'SNRPD2\\n'], np.int64(784): ['ARAP1\\n'], np.int64(785): ['TIMM10B\\n', 'CHCHD7\\n'], np.int64(786): ['MUC13\\n'], np.int64(787): ['ARFIP2\\n'], np.int64(788): ['LCE1F\\n', 'LCE1D\\n'], np.int64(789): ['THSD4\\n'], np.int64(790): ['RAB39B\\n', 'RAB17\\n'], np.int64(791): ['DMAC2L\\n'], np.int64(792): ['CHRNA4\\n'], np.int64(793): ['ALS2CL\\n', 'TRAPPC5\\n'], np.int64(794): ['NR2C2\\n'], np.int64(795): ['PRLH\\n'], np.int64(796): ['LIPF\\n'], np.int64(797): ['CASTOR2\\n'], np.int64(798): ['KRT19\\n'], np.int64(799): ['PARD6B\\n'], np.int64(800): ['ANKLE2\\n'], np.int64(801): ['NSF\\n', 'KIF20B\\n'], np.int64(802): ['MUC19\\n'], np.int64(803): ['PJA2\\n'], np.int64(804): ['ATP6V0D2\\n'], np.int64(805): ['CDK19\\n'], np.int64(806): ['SLC41A2\\n'], np.int64(807): ['NR2F1\\n', 'NRBP1\\n'], np.int64(808): ['SF3B5\\n'], np.int64(809): ['CLCA4\\n'], np.int64(810): ['GPHN\\n'], np.int64(811): ['OTC\\n', 'TIMM10\\n'], np.int64(812): ['PLA2G4E\\n', '3644711\\n', 'PLA2G1B\\n'], np.int64(813): ['RAB1B\\n'], np.int64(814): ['IL1RAPL2\\n'], np.int64(815): ['FADD\\n', 'CFLAR\\n', 'CDC25B\\n'], np.int64(816): ['RPEL1\\n'], np.int64(817): ['KDELR3\\n'], np.int64(818): ['ABI2\\n'], np.int64(819): ['TRMT10A\\n'], np.int64(820): ['PDE10A\\n', 'TAAR8\\n'], np.int64(821): ['PGLYRP2\\n'], np.int64(822): ['KRT79\\n'], np.int64(823): ['MDH1\\n'], np.int64(824): ['IFNL1\\n'], np.int64(825): ['UBQLN1\\n'], np.int64(826): ['MT-ND5\\n', 'MT-ND2\\n', 'NDUFA13\\n', 'NDUFAF3\\n', 'NDUFS7\\n'], np.int64(827): ['HIRA\\n'], np.int64(828): ['ST3GAL1\\n', 'ST6GAL2\\n'], np.int64(829): ['E2F4\\n'], np.int64(830): ['AP4E1\\n'], np.int64(831): ['TTLL9\\n'], np.int64(832): ['TPM2\\n', 'SORBS1\\n', 'MYBPC2\\n'], np.int64(833): ['CACNG4\\n', 'CACNG8\\n'], np.int64(834): ['PAOX\\n'], np.int64(835): ['ENAH\\n'], np.int64(836): ['GSTO1\\n'], np.int64(837): ['MT1G\\n'], np.int64(838): ['TNXB\\n'], np.int64(839): ['XBP1\\n'], np.int64(840): ['FMOD\\n'], np.int64(841): ['CATSPERD\\n'], np.int64(842): ['PTHLH\\n'], np.int64(843): ['PLA2R1\\n', 'GPAT4\\n'], np.int64(844): ['WNK2\\n'], np.int64(845): ['CACNA2D3\\n', 'CACNB2\\n'], np.int64(846): ['ARAP3\\n'], np.int64(847): ['NR2C2AP\\n'], np.int64(848): ['ATP4A\\n'], np.int64(849): ['PARD6G\\n'], np.int64(850): ['KDM2A\\n'], np.int64(851): ['ZFP69B\\n'], np.int64(852): ['TTC21B\\n', 'UCN2\\n'], np.int64(853): ['NTS\\n'], np.int64(854): ['TBC1D17\\n'], np.int64(855): ['NT5C1B-RDH14\\n'], np.int64(856): ['CLCA1\\n'], np.int64(857): ['CASTOR1\\n'], np.int64(858): ['NGEF\\n'], np.int64(859): ['KCNU1\\n'], np.int64(860): ['CACNA2D2\\n', 'SCN4A\\n'], np.int64(861): ['ST8SIA2\\n'], np.int64(862): ['FAAP100\\n'], np.int64(863): ['CASC3\\n'], np.int64(864): ['PARP9\\n'], np.int64(865): ['IL18R1\\n'], np.int64(866): ['MLKL\\n', 'TRPC1\\n'], np.int64(867): ['DSC3\\n', 'KRT18\\n', 'KRTAP19-6\\n'], np.int64(868): ['VAC14\\n'], np.int64(869): ['MRGBP\\n'], np.int64(870): ['MIGA2\\n'], np.int64(871): ['RBP4\\n'], np.int64(872): ['LTBP3\\n'], np.int64(873): ['SUMF1\\n', 'B4GALNT1\\n', 'GLTP\\n'], np.int64(874): ['ATP10D\\n'], np.int64(875): ['MED9\\n'], np.int64(876): ['PRKG2\\n'], np.int64(877): ['KRT37\\n', 'TCHH\\n'], np.int64(878): ['OPN1MW3\\n'], np.int64(879): ['ZNF558\\n'], np.int64(880): ['APOBEC4\\n'], np.int64(881): ['COL25A1\\n'], np.int64(882): ['CLEC4G\\n'], np.int64(883): ['DEFB131A\\n', 'DEFB130A\\n', 'DEFB136\\n', 'DEFA5\\n', 'DEFB113\\n'], np.int64(884): ['PLXNA3\\n'], np.int64(885): ['DEPDC7\\n', 'ARHGAP11A\\n'], np.int64(886): ['UGT2A2\\n'], np.int64(887): ['CNTN3\\n'], np.int64(888): ['NIPA2\\n'], np.int64(889): ['EP400\\n'], np.int64(890): ['ARHGEF6\\n'], np.int64(891): ['INPP5E\\n'], np.int64(892): ['KRTAP19-3\\n', 'LORICRIN\\n', 'KRT6B\\n', 'PCSK6\\n', 'KRTAP27-1\\n', 'CSTA\\n', 'KRTAP17-1\\n', 'KRTAP13-2\\n', 'KRTAP8-1\\n', 'KRT5\\n', 'KRTAP4-8\\n', 'KRT77\\n', 'KRT28\\n', 'PRSS8\\n', 'KRTAP2-4\\n'], np.int64(893): ['NME3\\n'], np.int64(894): ['MYH3\\n', 'MYL4\\n', 'TNNT1\\n'], np.int64(895): ['ADAMTS20\\n'], np.int64(896): ['MSL1\\n'], np.int64(897): ['CYP4F22\\n'], np.int64(898): ['PLCD4\\n'], np.int64(899): ['ACBD7\\n'], np.int64(900): ['ECE2\\n'], np.int64(901): ['SPTB\\n', 'MAD2L1\\n', 'RPL17\\n', 'RNF128\\n', 'CCL5\\n', 'MYC\\n', 'VAV3\\n', 'RPL23\\n', 'SAP30\\n', 'UBE2K\\n', 'BRMS1\\n', 'PHC3\\n', 'OR5H2\\n', 'GPR132\\n', 'CRK\\n', 'SF3B2\\n', 'LGMN\\n', 'RIN3\\n', 'RFC3\\n', 'ZNF799\\n', 'SPDL1\\n', 'CRACR2A\\n', 'ZNF706\\n', 'MYL12B\\n', 'KRTAP9-6\\n', 'NDUFS5\\n', 'H4C15\\n', 'DNAJC13\\n', 'TLR6\\n', 'ZNF735\\n', 'BCL2L1\\n', 'ACADVL\\n', 'HPD\\n', 'SRP19\\n', 'IL13RA2\\n', 'NPY4R2\\n', 'ZNF771\\n', 'ZNF273\\n', 'MCHR2\\n', 'CHST13\\n', 'ZWINT\\n', 'OR1E1\\n', 'OR10T2\\n', 'SPSB2\\n', 'HSD3B2\\n', 'NUAK1\\n', 'TRIM37\\n', 'TAC3\\n', 'CTSE\\n', 'HNRNPL\\n', 'COPG1\\n', 'TRIM36\\n', 'FGD3\\n', 'TAF9\\n', 'AGXT2\\n', 'FGFR4\\n', 'EIF4E\\n', 'CD109\\n', 'PSMD5\\n', 'SEM1\\n', 'TFRC\\n', 'ZNF782\\n', 'H3C13\\n', 'OAS2\\n', 'PSMC3IP\\n', 'POLR3K\\n', 'EPHA5\\n', 'ZNF157\\n', 'BTBD6\\n', 'KLHL22\\n', 'CDK5RAP2\\n', 'HLA-A\\n', 'CD3E\\n', 'OR8D4\\n', 'MED20\\n', 'GPER1\\n', 'OSCAR\\n', 'OR8H1\\n', 'ALAD\\n', 'COL6A3\\n', 'USP30\\n', 'AHCYL1\\n', 'OR10AG1\\n', 'P2RY2\\n', 'VIP\\n', 'ZKSCAN3\\n', 'KRTAP4-5\\n', 'GHRHR\\n', 'OR1L1\\n', 'S100A8\\n', 'OR10K1\\n', 'TBL1X\\n', 'H2BC15\\n', 'CMC2\\n', 'PSMA4\\n', 'NDE1\\n', 'GGA3\\n', 'TRAPPC11\\n', 'PKP3\\n', 'GCA\\n', 'TAF6L\\n', 'EIF3K\\n', 'RAB31\\n', 'CEP63\\n', 'OR6C4\\n', 'PRTN3\\n', 'CABLES1\\n', 'CTSC\\n', 'COL17A1\\n', 'FBXL12\\n', 'REEP6\\n', 'RGS12\\n', 'COMMD3-BMI1\\n', 'NCOR2\\n', 'SH3RF1\\n', 'ZNF676\\n', 'ERCC3\\n', 'FBXL4\\n', 'TRIM71\\n', 'TMED10\\n', 'SLC25A13\\n', 'VWA1\\n', 'OR2A42\\n', 'DYNC1H1\\n', 'VAV2\\n', 'USP14\\n', 'OR2K2\\n', 'ZNF114\\n', 'WAS\\n', 'TRAPPC1\\n', 'YAP1\\n', 'SNRNP70\\n', 'COLGALT2\\n', 'TRIM41\\n', 'SMAD4\\n', 'HIPK1\\n', 'OR1Q1\\n', 'CCR9\\n', 'ISG20L2\\n', 'GTF3C2\\n', 'CFHR3\\n', 'KANK1\\n', 'LAMB1\\n', 'RTP5\\n', 'FBXL13\\n', 'DCAF17\\n', 'CR1\\n', 'GTF2H2\\n', 'RPS19BP1\\n', 'B4GALT7\\n', 'SSRP1\\n', 'TUBB3\\n', 'EIF4A3\\n', 'HMOX1\\n', 'RPL35A\\n', 'ADCY1\\n', 'BRCA2\\n', 'POMC\\n', 'SCARB2\\n', 'MTHFD2\\n', 'LIN7B\\n', 'FBXW8\\n', 'BCAR1\\n', 'OR4A47\\n', 'H3-3A\\n', 'OR10H4\\n', 'COL5A1\\n', 'OAS1\\n', 'PAPOLA\\n', 'POP5\\n', 'TBC1D16\\n', 'GAN\\n', 'SDSL\\n', 'CLASP1\\n', 'PTGES2\\n', 'APOA2\\n', 'PDE4D\\n', 'RAB7A\\n', 'MTA2\\n', 'DDA1\\n', 'MDC1\\n', 'NUP42\\n', 'OR4F6\\n', 'ZNF136\\n', 'EIF4A2\\n', 'MMP15\\n', 'BDKRB1\\n', 'ENPP4\\n', 'HSP90AA1\\n', 'CD63\\n', 'TNNC1\\n', 'HOXB2\\n', 'RANGAP1\\n', 'ARCN1\\n', 'GSTP1\\n', 'NFKB1\\n', 'C1orf35\\n', 'OR7A17\\n', 'SDS\\n', 'ASAH1\\n', 'SIGLEC5\\n', 'TP53RK\\n', 'FBXO17\\n', 'SMARCC2\\n', 'GADD45A\\n', 'ARHGAP17\\n', 'HTR1E\\n', 'TFF3\\n', 'CEP290\\n', 'RPLP2\\n', 'U2AF2\\n', 'MIB1\\n', 'ARHGAP25\\n', 'SNAPC5\\n', 'NIT2\\n', 'PRPF19\\n', 'COL5A3\\n', 'TF\\n', 'OR8D1\\n', 'TAF1C\\n', 'TNFSF12-TNFSF13\\n', 'MTM1\\n', 'PSMC5\\n', 'RPS15A\\n', 'OR2A4\\n', 'OR4D2\\n', 'PA2G4\\n', 'OR1J4\\n', 'DNA2\\n', 'OR7C1\\n', 'PYY\\n', 'KRTAP9-2\\n', 'ZFP28\\n', 'OR4K14\\n', 'RPTOR\\n', 'ADAM10\\n', 'H2BC6\\n', 'ZNF506\\n', 'IGF2R\\n', 'ZNF426\\n', 'CDCA8\\n', 'CDKN2D\\n', 'GRSF1\\n', 'EPX\\n', 'GJA5\\n', 'GNAL\\n', 'DLL1\\n', 'MBD2\\n', 'S1PR2\\n', 'NXF1\\n', 'RCL1\\n', 'YWHAQ\\n', 'RPL37\\n', 'AKAP13\\n', 'TCTN3\\n', 'APC\\n', 'CHTOP\\n', 'SNURF\\n', 'KRTAP4-4\\n', 'SFRP2\\n', 'IVL\\n', 'OR4N4\\n', 'ZNF624\\n', 'PAX6\\n', 'LMAN2L\\n', 'RPS27L\\n', 'CXCR4\\n', 'SPINK9\\n', 'NR6A1\\n', 'PTX3\\n', 'ALDOC\\n', 'CTSV\\n', 'DLG1\\n', 'AOC2\\n', 'TCF7\\n', 'UBE2S\\n', 'EPAS1\\n', 'SMG6\\n', 'MED23\\n', 'ZNF112\\n', 'TRAF3\\n', 'USP10\\n', 'CIITA\\n', 'OR5J2\\n', 'IFT46\\n', 'ARSB\\n', 'DDX49\\n', 'TCEA1\\n', 'PPP2R5B\\n', 'ARSA\\n', 'LCE2A\\n', 'LDLRAP1\\n', 'POLR1H\\n', 'ESRRA\\n', 'OR2T6\\n', 'ERLIN2\\n', 'CAP1\\n', 'EXOSC2\\n', 'CCR8\\n', 'H4C5\\n', 'TMPRSS6\\n', 'HGS\\n', 'SEC24A\\n', 'ELP1\\n', 'ANPEP\\n', 'PSMB8\\n', 'PPP1R12A\\n', 'STUB1\\n', '956529\\n', 'FBXW4\\n', 'OR6C2\\n', 'ZNF75D\\n', 'GNAT1\\n', 'MED12\\n', 'CCND1\\n', 'GPC3\\n', 'GEN1\\n', 'HSPA2\\n', 'ZKSCAN1\\n', 'SYNGR1\\n', 'ORC2\\n', 'NPFFR1\\n', 'LYZ\\n', 'SIK1B\\n', 'IL12B\\n', 'CALM3\\n', 'CCNK\\n', 'RPL15\\n', 'ZNF77\\n', 'AEBP2\\n', 'MAOA\\n', 'MMP25\\n', 'CXCL11\\n', 'PCF11\\n', 'SERPINE1\\n', 'OR51I1\\n', 'ARHGEF35\\n', 'SNRNP25\\n', 'USP17L21\\n', 'ATXN7\\n', 'GNA13\\n', 'KRTAP10-2\\n', 'CENPX\\n', 'MAMLD1\\n', 'UBE2L6\\n', 'ZNF215\\n', 'OR7A10\\n', 'ZNF425\\n', 'RASGRP1\\n', 'TUBG1\\n', 'FXYD6\\n', 'RPL39L\\n', 'RPS6KA1\\n', 'MCM5\\n', 'OR6C75\\n', 'IFI16\\n', 'ZNF92\\n', 'ADCY3\\n', 'F2\\n', 'SLC22A6\\n', 'IL1B\\n', 'ENY2\\n', 'MAPK13\\n', 'SERPINB10\\n', 'TAS2R38\\n', 'TGFBR1\\n', 'POLR2E\\n', 'LRRC41\\n', 'POLE2\\n', 'EPHA2\\n', 'LIN9\\n', 'OR6B2\\n', 'OPN1MW\\n', 'VCP\\n', 'MCM2\\n', 'RAB5A\\n', 'ZBED1\\n', 'ZNF557\\n', 'AMY2B\\n', 'AXIN1\\n', 'TXNL4A\\n', 'PPARA\\n', 'CNTRL\\n', 'DOCK5\\n', 'ZNF510\\n', 'SLC6A1\\n', 'GNB5\\n', 'SULT2A1\\n', 'SMAD1\\n', 'TXN2\\n', 'NAPRT\\n', 'ZNF17\\n', 'BUB3\\n', 'OR2T10\\n', 'COL28A1\\n', 'ANKRD1\\n', 'CBX8\\n', 'SGO2\\n', 'ZNF705A\\n', 'ZNF337\\n', 'PSMD2\\n', 'LHB\\n', 'GLI1\\n', 'RAB3GAP2\\n', 'ZNF175\\n', 'UTS2R\\n', 'H2AC20\\n', 'CDC7\\n', 'KALRN\\n', 'TPP2\\n', 'EIF1AX\\n', 'ZNF37A\\n', 'OR1N1\\n', 'TAS2R4\\n', 'RHOB\\n', 'ANO2\\n', 'GMNN\\n', 'MED25\\n', 'ZNF496\\n', 'FBXW10\\n', 'NUB1\\n', 'KNL1\\n', 'FMNL1\\n', 'SQLE\\n', 'DECR2\\n', 'FZD4\\n', 'HNRNPH1\\n', 'CLIP1\\n', 'OR1J2\\n', 'GPR37L1\\n', 'ZNF550\\n', 'KRAS\\n', 'OR2T11\\n', 'ZNF791\\n', 'FANCL\\n', 'KRT23\\n', 'OR6C65\\n', 'ITPR2\\n', 'OR4F21\\n', 'CYP4B1\\n', 'MYO9A\\n', 'WBP11\\n', 'OR10G9\\n', 'FGFR2\\n', 'IFT88\\n', 'ZNF716\\n', 'F11R\\n', 'LRG1\\n', 'B2M\\n', 'KRT6A\\n', 'NEK2\\n', 'OR4F17\\n', 'CXADR\\n', 'RPA1\\n', 'MMP8\\n', 'ITGB3BP\\n', 'KRT26\\n', 'BTC\\n', 'HNRNPA3\\n', 'GNG12\\n', 'AP1M1\\n', 'BCAT2\\n', 'TAF5\\n', 'LEFTY2\\n', 'KRTAP19-7\\n', 'RPS29\\n', 'GPSM2\\n', 'CFL1\\n', 'OPN4\\n', 'INSL5\\n', 'THOC6\\n', 'RPL10L\\n', 'RBBP8\\n', 'SERPINB6\\n', 'COG7\\n', '884327\\n', 'SATB2\\n', 'OR51M1\\n', 'MME\\n', 'DCAF1\\n', 'CENPT\\n', 'ASB13\\n', 'MGST1\\n', 'CCL27\\n', 'PLK1\\n', 'MTNR1B\\n', 'OR2T34\\n', 'PSMD11\\n', 'ATP9A\\n', 'SF1\\n', 'CCL23\\n', 'CSNK2B\\n', 'UBE2V1\\n', 'ZNF606\\n', 'STK11IP\\n', '341568\\n', 'LRRTM3\\n', 'MXRA8\\n', 'FTH1\\n', 'SPPL2B\\n', 'PSMB6\\n', 'TAS2R39\\n', 'ZNF285\\n', 'TUBB8\\n', 'GPI\\n', 'TAF11\\n', 'OR2T12\\n', 'OBSL1\\n', 'GRM1\\n', 'FCGR1A\\n', 'ZNF227\\n', 'KRT10\\n', 'UNKL\\n', 'FAF2\\n', 'MGRN1\\n', 'USP8\\n', 'MPRIP\\n', 'IFI27\\n', 'NUP58\\n', 'FDFT1\\n', 'TAF6\\n', 'PLEKHG2\\n', 'CSTF3\\n', 'CEBPG\\n', 'FBXL14\\n', 'PDHX\\n', 'LHX2\\n', 'KIF12\\n', 'OR10H2\\n', 'KRT78\\n', 'GATAD2B\\n', 'SPHK1\\n', 'HTR6\\n', 'OR2A2\\n', 'CD300A\\n', 'LRRC7\\n', 'CUL4B\\n', 'TAC1\\n', 'SEC24C\\n', 'UBE2M\\n', 'NUDC\\n', 'GPC6\\n', 'NCSTN\\n', 'PIK3CA\\n', 'AXIN2\\n', 'PKNOX1\\n', 'OPTC\\n', 'WDR36\\n', 'TOP2A\\n', 'BEST3\\n', 'REEP1\\n', 'TLN1\\n', 'TNRC6B\\n', 'IL1RAP\\n', 'RPS20\\n', 'ITGA1\\n', 'SCN8A\\n', 'EPHB6\\n', 'TAB1\\n', 'DKC1\\n', 'EZH2\\n', 'CLEC7A\\n', 'TBK1\\n', 'CCR6\\n', 'PIGR\\n', 'OLFM4\\n', 'ATP11A\\n', 'LAMTOR4\\n', 'FABP5\\n', 'CREM\\n', 'SUMO1\\n', 'RCOR1\\n', 'PRLHR\\n', 'HTR1A\\n', 'CALR\\n', 'AOC3\\n', 'FCHO1\\n', 'HLA-DMB\\n', 'RRP7A\\n', 'ROCK1\\n', 'EIF3F\\n', 'SNRNP200\\n', 'GSDMD\\n', 'GAB2\\n', '162699\\n', 'OR52W1\\n', 'TAB3\\n', 'INTS6\\n', '155971\\n', 'COPS3\\n', 'H2BC11\\n', 'PGAM1\\n', 'GNL3\\n', '390441\\n', 'TNKS\\n', 'NPY\\n', 'PIK3R5\\n', 'MAP3K7\\n', 'TAS1R1\\n', 'MBD6\\n', 'SNRPD1\\n', 'COX11\\n', 'OR8U9\\n', 'ZNF708\\n', 'NCK2\\n', 'AGPAT3\\n', 'NUP160\\n', 'OR6A2\\n', 'PSMD1\\n', 'PIAS4\\n', 'TRIP10\\n', 'OR1A2\\n', 'SIGLEC9\\n', 'ARNT\\n', 'CSF2RA\\n', 'PEA15\\n', 'RAB8A\\n', 'LNPEP\\n', 'ASB11\\n', 'RPS21\\n', 'NUP88\\n', 'NFYB\\n', 'B9D2\\n', 'OLR1\\n', 'RAB13\\n', 'RNF146\\n', 'SEMA4D\\n', 'HIF3A\\n', 'KAT6A\\n', 'CDC73\\n', 'ZBTB16\\n', 'ZNF417\\n', 'CNR1\\n', 'DCAF7\\n', 'RAD9B\\n', 'OR52K2\\n', 'AP1M2\\n', 'CEP131\\n', 'ETF1\\n', 'CREB1\\n', 'TFAP2A\\n', 'ATP2B3\\n', 'GPAM\\n', 'RPS27A\\n', 'MALT1\\n', 'OR2L3\\n', 'IDH1\\n', 'U2AF1\\n', 'CANT1\\n', 'ISY1\\n', 'TRH\\n', 'TACR2\\n', 'CSF1\\n', 'ABCA3\\n', 'WWP1\\n', 'TIMP2\\n', 'GNAT3\\n', 'ZNF212\\n', 'ABR\\n', 'SRP14\\n', 'ALOX5\\n', 'DHH\\n', 'ARHGEF37\\n', 'DHX37\\n', 'EPGN\\n', 'OR11A1\\n', 'DGCR8\\n', 'FBXO30\\n', 'CYP7A1\\n', 'MLEC\\n', 'HAUS2\\n', 'GABBR2\\n', 'OR8H2\\n', 'ELOC\\n', 'RPS7\\n', 'ZNF350\\n', 'CSTF1\\n', 'LCK\\n', 'ZNF12\\n', 'RAB7B\\n', 'SSTR5\\n', 'MCF2L\\n', 'PPP2R5D\\n', 'OR13H1\\n', 'RBL1\\n', 'TRIO\\n', 'POLR1D\\n', 'OR56A5\\n', 'NCOR1\\n', 'RNF213\\n', 'MC2R\\n', 'CCL1\\n', 'PSENEN\\n', 'COPS6\\n', 'GALR1\\n', 'CBFB\\n', 'PCGF2\\n', 'NCAPD3\\n', 'EPHA1\\n', 'TRIM62\\n', 'OR2AT4\\n', 'RAB5C\\n', 'CHI3L1\\n', 'CORIN\\n', 'HLA-DPA1\\n', 'CNKSR2\\n', 'MAPKAPK2\\n', 'CALML5\\n', 'PCM1\\n', 'EIF3C\\n', 'HLA-DPB1\\n', 'GABARAPL1\\n', 'TRAPPC6B\\n', 'KRTAP5-2\\n', 'SLC11A1\\n', 'HDAC5\\n', 'KMT2C\\n', 'LCE1C\\n', 'OR51B6\\n', 'AZU1\\n', 'NOL6\\n', 'PRKAR1A\\n', 'USP17L17\\n', 'MC5R\\n', 'SCLT1\\n', 'CCL13\\n', 'MAGED2\\n', 'NPW\\n', 'AFP\\n', 'OR6C3\\n', 'ZIK1\\n', 'TTR\\n', 'RIN1\\n', 'HTR1D\\n', 'SDR9C7\\n', 'PSMD12\\n', 'PRG3\\n', 'TAAR9\\n', 'SERPINB1\\n', 'SYT2\\n', 'PELP1\\n', 'EIF2S1\\n', 'LAMTOR1\\n', 'FASN\\n', 'RORC\\n', 'H4C12\\n', 'HLA-DQA2\\n', 'FOXA1\\n', 'H2AC11\\n', 'ZNF20\\n', 'SMG9\\n', 'CXCL10\\n', 'MELTF\\n', 'NDUFA7\\n', 'OR52Z1\\n', 'OR5H15\\n', 'LTN1\\n', 'PPM1B\\n', 'ARPC1A\\n', 'PRMT5\\n', 'TAL1\\n', 'ANO8\\n', 'CCL4L2\\n', 'DYNLT1\\n', 'LIN7A\\n', 'AGRN\\n', 'FBXO7\\n', 'PEX13\\n', 'DCP2\\n', 'RASGEF1A\\n', 'GTF2H3\\n', 'OR14J1\\n', 'TAAR2\\n', 'SMYD3\\n', 'DDX52\\n', 'EDN3\\n', 'EMILIN1\\n', 'TRHR\\n', 'CDC40\\n', 'LEP\\n', 'MAML2\\n', 'SPTBN2\\n', 'HGSNAT\\n', 'ZNF45\\n', 'TMX3\\n', 'TACR1\\n', 'OR5D14\\n', 'ARFGAP1\\n', 'KAT5\\n', 'ZNF667\\n', 'GPR161\\n', 'IRAK4\\n', 'ASB9\\n', 'ERCC6L\\n', 'BRPF1\\n', 'AKT1\\n', 'OR6P1\\n', 'KIF3A\\n', 'TRA2B\\n', 'ARHGAP9\\n', 'TRAPPC4\\n', 'ZNF626\\n', 'OR56B1\\n', 'SRRT\\n', 'CEP72\\n', 'ARHGAP29\\n', 'OR13C8\\n', 'BAP1\\n', 'TIMP3\\n', 'MEF2C\\n', 'ARIH2\\n', 'DSG3\\n', 'RORA\\n', 'JUP\\n', 'WSB1\\n', 'USP22\\n', 'H2AC21\\n', 'OR2C3\\n', 'OR9G4\\n', 'ATR\\n', 'ZNF155\\n', 'TALDO1\\n', 'ZNF268\\n', 'KRTAP13-1\\n', 'KIF21A\\n', 'NEU1\\n', 'F2R\\n', 'KRT34\\n', 'YEATS2\\n', 'CCL4\\n', 'HEBP2\\n', 'UTP14C\\n', 'ZNF543\\n', 'TAS2R19\\n', 'NPY5R\\n', 'NRG1\\n', 'RUNX2\\n', 'PSME1\\n', 'NINL\\n', 'USP17L20\\n', 'CAMK2D\\n', 'INPP5B\\n', 'STAG2\\n', 'POLR1E\\n', 'CD80\\n', 'GOLGA1\\n', 'UPF3A\\n', 'DCAF10\\n', 'TRIM39\\n', 'OR2T4\\n', 'COL8A2\\n', 'DAAM1\\n', 'USP3\\n', 'TMED7\\n', 'PSMD13\\n', 'ZNF26\\n', 'CNOT11\\n', 'NR1H2\\n', 'PREX2\\n', 'SLU7\\n', 'CPLX1\\n', 'QPCT\\n', 'CLCNKB\\n', 'ZNF248\\n', 'DRD4\\n', 'KLC1\\n', 'TAS2R1\\n', 'OR10W1\\n', 'MAGOHB\\n', 'POLR2B\\n', 'NOD2\\n', 'PROS1\\n', 'TACR3\\n', 'CYP1A1\\n', 'PSMB9\\n', 'NPBWR1\\n', 'CEP97\\n', 'U2AF1L4\\n', 'HOXB3\\n', '441669\\n', 'SMO\\n', 'OR10A7\\n', 'FGR\\n', 'OR4F4\\n', 'TMED2\\n', 'KBTBD6\\n', 'WWOX\\n', 'ROCK2\\n', 'UBTF\\n', 'CHIT1\\n', 'POLB\\n', 'RPS4Y2\\n', 'HLA-DRA\\n', 'USP17L25\\n', 'RHOD\\n', 'CHL1\\n', 'CCNB2\\n', 'VIPR2\\n', 'SYCE2\\n', 'RXFP3\\n', 'UBE2J2\\n', 'MAFF\\n', 'LAMA4\\n', 'CD68\\n', 'STX1A\\n', 'ATP2B4\\n', 'NOS2\\n', 'H4C1\\n', 'TBL1XR1\\n', 'EPHA3\\n', 'DENND2D\\n', 'PIK3CB\\n', 'OR4L1\\n', 'CCT4\\n', 'ZNF729\\n', 'OR5AP2\\n', 'KLRC2\\n', 'EPHB4\\n', 'AKAP9\\n', 'GLA\\n', 'ZNF320\\n', 'SGO1\\n', 'WNT9A\\n', 'OR10A2\\n', 'QRFPR\\n', 'RNASE2\\n', 'OR10X1\\n', 'GRIN2C\\n', 'UBA1\\n', 'LIPN\\n', 'SMC1A\\n', 'ADRA2C\\n', 'GPX3\\n', 'SEC61G\\n', 'H2AC16\\n', 'FCHO2\\n', 'ATP2A1\\n', 'TCF12\\n', 'ZNF286A\\n', 'OR6K2\\n', 'OR4D1\\n', 'CDC45\\n', 'SPIDR\\n', 'LIN37\\n', 'MRE11\\n', 'CHD1\\n', 'OR52E6\\n', 'KIF2A\\n', 'ABCA1\\n', 'CSTF2\\n', 'FCGR2A\\n', 'ELOB\\n', 'CDC42\\n', 'METTL7A\\n', 'HTR2A\\n', 'RBM5\\n', 'DCUN1D4\\n', 'OR56A3\\n', 'PER2\\n', 'HUWE1\\n', 'MED15\\n', 'USP34\\n', 'OR2M2\\n', 'AGPAT2\\n', 'POLR3F\\n', 'WIPI2\\n', 'OR10J1\\n', 'PTPRB\\n', 'SLC38A9\\n', 'FKBP4\\n', 'FGF22\\n', 'EEF1AKMT2\\n', 'OR52B2\\n', 'ZNF528\\n', 'ZNF354B\\n', 'DYNLL2\\n', 'CXCL2\\n', 'RRP36\\n', 'SHMT1\\n', 'PCP2\\n', 'GSPT2\\n', 'OR10G7\\n', 'NFATC1\\n', 'PPP1CC\\n', 'CDC26\\n', 'EEF1AKMT4-ECE2\\n', 'YES1\\n', 'ARHGEF4\\n', 'CAPN5\\n', 'TNFAIP3\\n', 'PLA2G4C\\n', 'FGF7\\n', 'XPO5\\n', 'OR2B6\\n', 'SDCCAG8\\n', 'IL17F\\n', 'PPIL4\\n', 'SLC27A2\\n', 'KLHL20\\n', 'ASB10\\n', 'KLHDC3\\n', 'CLCNKA\\n', 'SSTR1\\n', 'PRKAA1\\n', 'FGL2\\n', 'TLE2\\n', 'PLIN1\\n', 'PAK3\\n', 'FTL\\n', 'OR10A6\\n', 'KDR\\n', 'CARD11\\n', 'ATP2A2\\n', 'RAD23B\\n', 'LAMA5\\n', 'JAG1\\n', 'GAL\\n', 'CPSF4\\n', 'MT-CO1\\n', 'HLA-DRB3\\n', 'CRTC3\\n', 'GRM8\\n', 'ACTR1A\\n', 'HLA-DQB2\\n', 'OR4B1\\n', 'PYGB\\n', 'ODF2\\n', 'PDE1B\\n', 'FBXW5\\n', 'CCR4\\n', 'STARD8\\n', 'GPC2\\n', 'VGF\\n', 'GHSR\\n', 'PAIP1\\n', 'DEPDC1B\\n', 'ZNF566\\n', 'UBE2E3\\n', 'PDE1A\\n', 'ZNF225\\n', 'KIF2B\\n', 'KAT2B\\n', 'BICD2\\n', 'CENPF\\n', 'TCF7L2\\n', 'GNA15\\n', 'OR9Q1\\n', 'SRRM1\\n', 'PDXK\\n', 'YWHAB\\n', 'CKAP4\\n', 'RPP38\\n', 'POLE3\\n', 'KCNJ9\\n', 'ITGB6\\n', 'PRKCB\\n', 'EDEM1\\n', 'ATG4B\\n', 'TADA3\\n', 'H3C10\\n', 'LPCAT1\\n', 'TIAM2\\n', 'DTL\\n', 'DPP7\\n', 'ELP6\\n', 'MED13L\\n', 'WWC1\\n', 'SEC24D\\n', 'TIMP1\\n', 'UBE2N\\n', 'NELFE\\n', 'E2F1\\n', 'P2RY1\\n', 'CDT1\\n', 'CASP2\\n', 'MKS1\\n', 'PDE8A\\n', 'OR6C74\\n', 'TP53\\n', 'SLIT2\\n', 'HAUS6\\n', 'PSMD4\\n', 'FBXO44\\n', 'MORF4L1\\n', 'ERCC1\\n', 'GSPT1\\n', 'PNP\\n', 'CCT5\\n', 'GNG10\\n', 'ALDOA\\n', 'BTK\\n', 'CGA\\n', 'OR3A2\\n', 'CORT\\n', 'KRTAP10-10\\n', 'DHX9\\n', 'CEP41\\n', 'EEFSEC\\n', 'PRKAG3\\n', 'OR2AG2\\n', 'GALR2\\n', 'CHEK1\\n', 'ABCB1\\n', 'TRIP12\\n', 'H2AX\\n', 'ADORA1\\n', 'PSMD7\\n', 'HELZ2\\n', 'EIF3D\\n', 'RPL7A\\n', 'COMMD3\\n', 'GNG8\\n', 'ZNF682\\n', 'NMUR2\\n', 'MAPK8\\n', 'DLGAP4\\n', 'ASB12\\n', 'GAS6\\n', 'CD8A\\n', 'ATP6V0E2\\n', 'USP17L19\\n', 'PKP2\\n', 'CALU\\n', 'ZNF211\\n', 'UBE2Q1\\n', 'OPHN1\\n', 'PCBP1\\n', 'H3C4\\n', 'MPHOSPH6\\n', 'RAB4A\\n', 'HUS1\\n', 'KRT17\\n', 'H2AC12\\n', 'USP17L28\\n', 'STAT3\\n', 'OPRK1\\n', 'SNX9\\n', 'PSMA5\\n', 'ZNF200\\n', 'FBXO4\\n', 'PTGS2\\n', 'SLIT1\\n', 'DLG3\\n', 'PIAS3\\n', 'LRRFIP1\\n', 'ZNF517\\n', '956531\\n', 'MT-CO2\\n', 'PPP2R3B\\n', 'TNKS2\\n', 'CAPN2\\n', 'SF3B1\\n', 'GLI3\\n', 'ZNF555\\n', 'GYPA\\n', 'MLYCD\\n', 'ZNF570\\n', 'ZNF600\\n', 'TLR10\\n', 'H2BC7\\n', 'MAPKAPK5\\n', 'BDP1\\n', 'ZNF627\\n', 'HMGB1\\n', 'FGF9\\n', 'SLC27A1\\n', 'OR1K1\\n', 'APH1A\\n', 'SARNP\\n', 'RRAGC\\n', 'UBE2R2\\n', 'ZNF324B\\n', 'UBE2V2\\n', 'ADGRG3\\n', 'ANO5\\n', 'CPT1B\\n', 'C5AR1\\n', 'LGALS3\\n', 'SLC5A7\\n', 'GLMN\\n', 'PROKR2\\n', 'TRIM26\\n', 'SYT9\\n', 'SRP68\\n', 'ZNF839\\n', 'OR10G4\\n', 'PPP1R12B\\n', 'NUP62\\n', 'SYNJ1\\n', 'SRGAP1\\n', 'DDX21\\n', 'USP7\\n', 'DDB2\\n', 'CTH\\n', 'PDGFC\\n', 'ARAF\\n', 'ZNF180\\n', 'ASIC1\\n', 'CACNA1D\\n', 'SUPT16H\\n', 'PAPPA\\n', 'KIF4A\\n', 'ZSCAN25\\n', 'STAG1\\n', 'HACE1\\n', 'DNMT3A\\n', 'H4C11\\n', 'TBP\\n', 'SOS1\\n', 'TREM2\\n', 'BUB1B\\n', 'FBXO27\\n', 'HLA-B\\n', 'USP17L2\\n', 'ANAPC7\\n', 'TUBA1C\\n', 'PDE2A\\n', 'SEH1L\\n', 'H3C15\\n', 'NCR3LG1\\n', 'FBXL20\\n', 'OGDH\\n', 'SUPT5H\\n', 'ITGA7\\n', 'NOTCH1\\n', 'KRTAP21-2\\n', 'FANCI\\n', 'CYBB\\n', 'RPP14\\n', 'WDR18\\n', 'PEBP1\\n', 'NUP35\\n', 'BNIP1\\n', 'DNMT1\\n', 'NALCN\\n', 'WNT7B\\n', 'ZNF256\\n', 'ST14\\n', 'ZNF485\\n', 'COL5A2\\n', 'POLD4\\n', 'MMP13\\n', 'TMED9\\n', 'OR51J1\\n', 'ZNF709\\n', 'ATAT1\\n', 'AMFR\\n', 'ERP44\\n', 'KBTBD13\\n', 'KLB\\n', 'EPHB2\\n', 'SLC25A21\\n', 'KRTAP5-5\\n', 'TMC6\\n', 'UPF3B\\n', 'OR6B1\\n', 'SLC10A1\\n', 'ODAM\\n', 'RPS28\\n', 'PUM2\\n', 'GSTK1\\n', 'GCG\\n', 'CPNE1\\n', 'PSMC4\\n', 'NCKAP1L\\n', 'OR2A7\\n', 'USP17L12\\n', 'RGS11\\n', 'DNAJB6\\n', 'MIA2\\n', 'JADE2\\n', 'TXNDC5\\n', 'RPL28\\n', 'H3C3\\n', 'CDK4\\n', 'PRMT3\\n', 'ZNF720\\n', 'PTPRS\\n', 'RIOK1\\n', 'BCL2\\n', 'SPRED2\\n', '155459\\n', 'EPM2A\\n', 'NPSR1\\n', 'TEX12\\n', 'RPS3\\n', 'ETFA\\n', 'AKT1S1\\n', 'CCNT2\\n', 'GPR27\\n', 'HSF1\\n', 'ELP2\\n', 'ADAMTS9\\n', 'PMF1\\n', 'KRT36\\n', 'MCRS1\\n', 'FIP1L1\\n', 'RPS14\\n', 'NMB\\n', 'OR5M11\\n', 'USP42\\n', 'ZNF568\\n', 'KIF23\\n', 'OR10H5\\n', 'GRPR\\n', 'REPS2\\n', 'SEC22B\\n', 'OR52R1\\n', 'HLA-C\\n', 'LCP2\\n', 'GPR183\\n', 'ZNF554\\n', 'PTH2\\n', 'ZNF470\\n', 'AGTPBP1\\n', 'ASB8\\n', 'LCE1B\\n', 'CBX5\\n', 'BTBD1\\n', 'BYSL\\n', 'AKR1A1\\n', 'SPINK5\\n', 'KCNAB2\\n', 'ARHGEF18\\n', 'DDX58\\n', 'ARHGEF10\\n', 'PPP2R5E\\n', 'IP6K2\\n', 'DOCK10\\n', 'OR11H1\\n', 'PLD1\\n', 'OR11L1\\n', 'HAO1\\n', 'ATP1B3\\n', 'GTF3A\\n', 'GRM3\\n', 'RALGAPB\\n', 'CHRNB4\\n', 'VHL\\n', 'CD55\\n', 'NRG3\\n', 'CSF2RB\\n', 'CEP57\\n', 'FAM20C\\n', 'CX3CR1\\n', 'MC4R\\n', 'ZNF585B\\n', 'DET1\\n', 'CCR3\\n', 'ARHGEF5\\n', 'SDCBP\\n', 'AHRR\\n', 'ZNF615\\n', 'ARTN\\n', 'SNAP25\\n', 'NUP37\\n', 'NPY4R\\n', 'EFEMP2\\n', 'MAPK12\\n', 'KLC3\\n', 'TBXA2R\\n', 'RPL6\\n', 'USP17L1\\n', 'FGB\\n', 'ADCYAP1\\n', 'ADRB2\\n', 'OR2T33\\n', 'F8\\n', 'SLC4A1\\n', 'FBXW11\\n', 'ZNF705E\\n', 'VPS72\\n', 'H2AZ1\\n', 'ZNF681\\n', 'CDK13\\n', 'KRTAP2-3\\n', 'SERPING1\\n', 'FUCA2\\n', 'BRAP\\n', 'CSTB\\n', 'LY96\\n', 'XRCC5\\n', 'OR1E2\\n', 'CTR9\\n', 'ESR2\\n', 'UBE2D1\\n', 'GBP4\\n', 'ZNF679\\n', 'CSAD\\n', 'SNRPG\\n', 'CCL22\\n', 'ZKSCAN4\\n', 'OR2T35\\n', 'HMG20B\\n', 'MAPK3\\n', 'NUP93\\n', 'DDX42\\n', 'H3C12\\n', 'C1D\\n', 'PLCB2\\n', 'TRAP1\\n', 'ORC1\\n', 'ZNF436\\n', 'STOM\\n', 'USP17L4\\n', 'LTB4R\\n', 'PDE7A\\n', 'H3C7\\n', 'RGS16\\n', 'ZNF607\\n', 'OR4S2\\n', 'RAMP3\\n', 'NDUFA2\\n', 'HLA-F\\n', 'ABHD5\\n', 'ERBB4\\n', 'MAFB\\n', 'RMI1\\n', 'COX7C\\n', 'PDS5B\\n', 'SH2B2\\n', 'SGK1\\n', 'CCNH\\n', 'NRAS\\n', 'SLC22A1\\n', 'OPTN\\n', 'NXF2B\\n', 'DLST\\n', 'COL10A1\\n', 'STAT5A\\n', 'TAB2\\n', 'CCNT1\\n', 'INTS5\\n', 'OR6B3\\n', 'SRGAP2\\n', 'SCOC\\n', 'OR4K1\\n', 'H2AC6\\n', 'CHRM2\\n', 'OR52I1\\n', 'AVPR1B\\n', 'DIS3\\n', 'UBE2D3\\n', 'APH1B\\n', 'ABL1\\n', 'ARRB1\\n', 'H3-3B\\n', 'MED29\\n', 'ICAM4\\n', 'OR5B12\\n', 'CNIH2\\n', 'RRAGB\\n', 'ZNF75A\\n', 'PSMA3\\n', 'TUBA3D\\n', 'PPIA\\n', 'SEC11C\\n', 'MED4\\n', 'THEM4\\n', 'COPZ2\\n', 'SREBF1\\n', 'THOC7\\n', 'OR5A1\\n', 'LDHB\\n', 'THOP1\\n', 'SSNA1\\n', 'RAB12\\n', 'OR6C76\\n', 'FMNL2\\n', 'TGFB1\\n', 'GRIN3A\\n', 'LAMTOR2\\n', 'ATG9B\\n', 'OR51E1\\n', 'OGT\\n', 'GATA3\\n', 'TRAF2\\n', 'TAS2R9\\n', 'XCL2\\n', 'OR1L3\\n', 'UGT1A9\\n', 'IGFBP3\\n', 'RBFOX2\\n', 'GIPR\\n', 'BPI\\n', 'CCL28\\n', 'CDH1\\n', 'STC2\\n', 'RNF168\\n', 'IL6R\\n', 'ATG9A\\n', 'ARPC5\\n', 'DRD1\\n', 'ALOX15\\n', 'GP9\\n', 'PLBD1\\n', 'CPNE3\\n', 'PSMB1\\n', 'ITGA4\\n', 'SIRPB1\\n', 'ITGB3\\n', '35556781\\n', 'ADH7\\n', 'RNF111\\n', 'NTSR1\\n', 'PSMA6\\n', 'ABCC9\\n', 'TUBA1A\\n', 'RRAGD\\n', 'TAS2R43\\n', 'KRT7\\n', 'GP6\\n', 'OR13G1\\n', 'TEX264\\n', 'CD1D\\n', 'CXXC5\\n', 'FBXO9\\n', 'UTP4\\n', 'TRIM29\\n', 'GTF2B\\n', 'NEDD4\\n', 'KIF3C\\n', 'ZNF718\\n', 'PFKFB3\\n', 'CDKN1A\\n', 'HECTD2\\n', 'BST2\\n', 'ATP2A3\\n', 'OR6F1\\n', 'HOXD3\\n', 'FFAR2\\n', 'ARHGEF9\\n', 'NDUFB3\\n', 'RPL10\\n', 'CASR\\n', 'P2RY6\\n', 'ARHGAP19\\n', 'PPARG\\n', 'L1CAM\\n', 'ASB6\\n', 'RPL34\\n', 'RTF1\\n', 'LRP6\\n', 'LY6G6F\\n', 'DDX46\\n', 'UFL1\\n', 'HMGCS1\\n', 'DEFB133\\n', 'GFRA2\\n', 'CASP3\\n', 'EXOSC5\\n', 'CRH\\n', 'ZNF559\\n', 'TLR9\\n', 'MBD1\\n', 'MYBBP1A\\n', 'TGFB2\\n', 'RGS6\\n', 'COL1A1\\n', 'TAF3\\n', 'SSTR3\\n', 'NSL1\\n', 'ZW10\\n', 'OR6T1\\n', 'OR13C3\\n', 'CLIC2\\n', 'VPREB1\\n', 'BECN1\\n', 'GLE1\\n', 'SNRPB\\n', 'FOXK1\\n', 'ALDH1A3\\n', 'MTMR3\\n', 'MAP1LC3C\\n', 'MED11\\n', 'FGG\\n', 'SMARCA4\\n', 'MLST8\\n', 'PLRG1\\n', 'SLX1B\\n', 'FGF16\\n', 'ITGA11\\n', 'VDAC1\\n', 'ZFP1\\n', 'PSG8\\n', 'POLR2J\\n', 'COMP\\n', 'ZNF660\\n', 'FGF5\\n', 'CENPL\\n', 'SIGLEC14\\n', 'HSPA6\\n', 'ZNF776\\n', 'RAC1\\n', 'COPS7B\\n', 'SCTR\\n', 'ACKR3\\n', 'ANO6\\n', 'CDC34\\n', 'FFAR1\\n', 'ADGRE5\\n', 'TSPAN33\\n', 'CAPN7\\n', 'OR5T2\\n', 'OR6M1\\n', 'ZNF860\\n', 'OR14A16\\n', 'MTOR\\n', 'FN1\\n', 'GPLD1\\n', 'LMNB1\\n', 'RARA\\n', 'MCEMP1\\n', 'COLEC12\\n', 'DAB2\\n', 'WNT6\\n', 'NBN\\n', 'NUMB\\n', 'OR13J1\\n', 'GNB4\\n', 'YWHAH\\n', 'SOAT2\\n', 'OR4K2\\n', 'ZNF160\\n', 'RAB27B\\n', 'OR52E8\\n', 'RETN\\n', 'MAD1L1\\n', 'ZNF703\\n', 'DCTN2\\n', 'SPTA1\\n', 'KRT20\\n', 'FGF18\\n', 'TAS2R60\\n', 'OR4C16\\n', 'GZMH\\n', 'ALDH7A1\\n', 'IMPDH1\\n', 'LSM7\\n', 'CLINT1\\n', 'MAP2K4\\n', 'GHRL\\n', 'CENPA\\n', 'KRTAP10-1\\n', 'FFAR3\\n', 'SPP1\\n', 'GTF2H1\\n', 'CENPS\\n', 'CEP192\\n', 'TAS2R10\\n', 'MAP3K11\\n', 'HMOX2\\n', 'ITSN1\\n', 'ITCH\\n', 'SLCO4C1\\n', 'TBC1D1\\n', 'ERBIN\\n', 'SEC61A1\\n', 'BSG\\n', 'OR1L4\\n', 'SEL1L\\n', 'NUF2\\n', 'USF2\\n', 'UNC13D\\n', 'NUMA1\\n', 'MANBA\\n', 'ACTN2\\n', 'ZNF30\\n', 'TINF2\\n', 'MAP2K1\\n', 'XAB2\\n', 'SNAP29\\n', 'RBMX\\n', 'TNFAIP6\\n', 'HDAC1\\n', 'ZNF620\\n', 'FZD2\\n', 'PKM\\n', 'CLSPN\\n', 'OR2T2\\n', 'RPP21\\n', 'CTSL\\n', 'TIMELESS\\n', 'ECHDC2\\n', 'ITGB8\\n', 'COPE\\n', 'RPS6\\n', 'RAC3\\n', 'ERCC6\\n', 'RNF144B\\n', 'SSTR2\\n', 'SOCS2\\n', 'LPAR4\\n', 'HNRNPUL1\\n', 'AGO3\\n', 'PDPK1\\n', 'CDH2\\n', 'IFNA4\\n', 'CD3D\\n', 'BEST4\\n', 'ASB16\\n', 'GSK3B\\n', 'ANGPTL4\\n', 'MADCAM1\\n', 'FABP1\\n', 'GBP5\\n', 'TCTN1\\n', 'IFNA17\\n', 'PVALB\\n', 'ZNF680\\n', 'OR8B2\\n', 'PSTPIP1\\n', 'CTSB\\n', 'WNT5A\\n', 'NHLRC3\\n', 'TYROBP\\n', 'CDO1\\n', 'MCM7\\n', 'TAS2R40\\n', 'CRHR2\\n', 'SYTL4\\n', 'OR6K6\\n', 'CDC42EP5\\n', 'TOP3A\\n', 'MAN2B1\\n', 'OPN1MW2\\n', 'ASH2L\\n', 'VPS35L\\n', 'PSTK\\n', 'APCS\\n', 'P2RY10\\n', 'IL4R\\n', 'RAD51D\\n', 'ASB3\\n', 'ADH5\\n', 'EIF3G\\n', 'MNDA\\n', 'RGS20\\n', 'COL4A6\\n', 'SLC16A1\\n', 'CPT1C\\n', 'ALPL\\n', 'ZNF208\\n', 'TNFRSF10A\\n', 'PSMD10\\n', 'F13B\\n', 'GLP1R\\n', 'GOT2\\n', 'ZNF707\\n', 'KDM2B\\n', 'FLRT2\\n', 'TAS2R30\\n', 'MED16\\n', 'FGD1\\n', 'TSHR\\n', 'FEM1C\\n', 'SSTR4\\n', 'P2RY14\\n', 'ZNF398\\n', 'SLC7A9\\n', 'IGF2\\n', 'RNF217\\n', 'OR2AE1\\n', 'CALM1\\n', 'IFNA6\\n', 'H2BC18\\n', 'COL12A1\\n', 'ZNF490\\n', 'PRKAG1\\n', 'PPIL6\\n', 'APBB1\\n', 'OR5B2\\n', 'USP24\\n', 'POLD1\\n', 'NBEAL2\\n', 'USP17L22\\n', 'OR5D16\\n', 'RRN3\\n', 'OR5W2\\n', 'TOP1\\n', 'AVPR2\\n', 'ATP6V1B2\\n', 'OR2B11\\n', 'CAPZA2\\n', 'EPC1\\n', 'SLC6A11\\n', 'G0S2\\n', 'AHSG\\n', 'BIRC3\\n', 'ARHGEF10L\\n', 'FBN1\\n', 'NOD1\\n', 'NTN4\\n', 'OPN5\\n', 'LHCGR\\n', 'RCHY1\\n', 'ATP6V0B\\n', 'ZNF141\\n', 'JUN\\n', 'PCLAF\\n', 'WDR20\\n', 'KMT2B\\n', 'SKA2\\n', 'ZNF571\\n', 'ZNF563\\n', 'POLR3B\\n', 'FTSJ3\\n', 'NUP153\\n', 'PTRH2\\n', 'STON1\\n', 'USF1\\n', 'H2AJ\\n', 'SAP130\\n', 'UBC\\n', 'CDC20\\n', 'COPB1\\n', 'PCYOX1L\\n', 'DCAF11\\n', 'HAUS4\\n', 'DENND4A\\n', 'CENPM\\n', 'ZNF432\\n', 'FBXO11\\n', 'CXCL9\\n', 'SNRPA\\n', 'CEACAM6\\n', 'NELFB\\n', 'OR2C1\\n', 'ZC3H8\\n', 'NFKB2\\n', 'SMARCD3\\n', 'CHGB\\n', 'ZNF233\\n', 'FYN\\n', 'ZNF773\\n', 'S100A12\\n', 'CTDP1\\n', 'BRCA1\\n', 'ZNRF1\\n', 'A2M\\n', 'SLC22A8\\n', 'POM121\\n', 'COL9A1\\n', 'ZNF154\\n', 'POLE\\n', 'PLA2G6\\n', 'SNAP23\\n', 'ZNF548\\n', 'RNPS1\\n', 'CCDC8\\n', 'NID2\\n', 'SPRED1\\n', 'ZNF587\\n', 'ZNF658\\n', 'EIF3J\\n', 'ZNF202\\n', 'IMP4\\n', 'PCNA\\n', 'MYD88\\n', 'ARID2\\n', 'GPR83\\n', 'OR4K17\\n', 'FUS\\n', 'DSC2\\n', 'NPEPPS\\n', 'TUBB\\n', 'ADCY9\\n', 'STING1\\n', 'ARHGAP8\\n', 'ARHGEF33\\n', 'PNO1\\n', 'GNA14\\n', 'KRT75\\n', 'POLDIP3\\n', 'H2BC8\\n', 'PIAS1\\n', 'GAST\\n', 'CHERP\\n', 'PLK4\\n', 'WDR61\\n', 'ORMDL3\\n', 'ADRM1\\n', 'LBP\\n', 'ACBD3\\n', 'CEP250\\n', 'SSR2\\n', 'SENP3\\n', 'OR1C1\\n', 'RXRA\\n', 'RPS4X\\n', 'FBN3\\n', 'SEC23A\\n', 'H2AC19\\n', 'KLK5\\n', 'CTSK\\n', 'TUBB4B\\n', 'KIF15\\n', 'IQGAP2\\n', 'LAMP2\\n', 'KRTAP10-7\\n', 'PPP4C\\n', 'RPS3A\\n', 'RAD1\\n', 'OR4F29\\n', 'ZNF761\\n', 'GSR\\n', 'TMEM115\\n', 'PF4\\n', 'PSMF1\\n', 'CTSO\\n', 'KISS1R\\n', 'JAK2\\n', 'STON2\\n', 'RHOV\\n', 'CD99L2\\n', 'SPP2\\n', 'FGF20\\n', 'RPS19\\n', 'EGFR\\n', 'LTBP1\\n', 'THRAP3\\n', 'ZNF699\\n', 'CCT6A\\n', 'TLL2\\n', 'AJUBA\\n', 'VCAN\\n', 'CD207\\n', 'SERPINA3\\n', 'DNMT3L\\n', 'OR8K5\\n', 'E2F2\\n', 'TAF1D\\n', 'OR9A4\\n', 'RAB4B\\n', 'LILRA4\\n', 'OR2H2\\n', 'BBC3\\n', 'OR2V1\\n', 'INCENP\\n', 'FCER1A\\n', 'CD14\\n', 'RHOQ\\n', 'CRY1\\n', 'PROK1\\n', 'MCF2\\n', 'ITGA2B\\n', 'HCAR3\\n', 'UBAP1\\n', 'CCND2\\n', 'RBBP7\\n', 'SRP72\\n', 'ARHGEF17\\n', 'EIF3B\\n', 'XK\\n', 'ZNF514\\n', 'SH2D1B\\n', 'ADRB1\\n', 'OR10R2\\n', 'ARHGEF19\\n', 'TNRC6A\\n', 'OR2Y1\\n', 'CAPN6\\n', 'CYCS\\n', 'GNAI3\\n', 'MIS12\\n', 'RIPK1\\n', 'PSMC3\\n', 'DYSF\\n', 'KDM3A\\n', 'KMT5C\\n', 'IL5RA\\n', 'CHUK\\n', 'DDB1\\n', 'EGR2\\n', 'GNAZ\\n', 'USP9X\\n', 'TMSB4X\\n', 'CXCL6\\n', 'LAMA1\\n', 'OR9K2\\n', 'PTH\\n', 'E2F5\\n', 'WDR43\\n', 'ANAPC11\\n', 'OR8G1\\n', 'COMMD5\\n', 'CAPZB\\n', 'HLA-DRB4\\n', 'ARPC4\\n', 'EMD\\n', 'AURKA\\n', 'COPS5\\n', 'OR6C1\\n', 'WNT2B\\n', 'OR13D1\\n', 'TRIM25\\n', 'RHOF\\n', 'RPL7\\n', 'MINK1\\n', 'MVB12B\\n', 'DERL2\\n', 'CD101\\n', 'NPY1R\\n', 'SERPINB3\\n', 'PRDM9\\n', 'GAPDHS\\n', 'ZNF560\\n', 'GLP2R\\n', 'ZNF710\\n', 'FGFR3\\n', 'FCGR3A\\n', 'GPR31\\n', 'CX3CL1\\n', 'SRSF4\\n', 'BCL9L\\n', 'BGN\\n', 'P4HA1\\n', 'ZNF665\\n', 'OR56B4\\n', 'HNRNPF\\n', 'ZNF2\\n', 'TUBA8\\n', 'TREML2\\n', 'BANF1\\n', 'TUBA3C\\n', 'ADRA1A\\n', 'SNX3\\n', 'SMURF1\\n', 'HCRTR2\\n', 'SNRPF\\n', 'DOK3\\n', 'DDX39B\\n', 'CASQ2\\n', 'KHSRP\\n', 'FGD2\\n', 'UBE3B\\n', 'GNB2\\n', 'LTB4R2\\n', 'RRH\\n', 'ZFP2\\n', 'PCDH7\\n', 'PRKCD\\n', 'F2RL2\\n', 'OR4F16\\n', 'AURKB\\n', 'HSPA14\\n', 'ARL8A\\n', 'SKA1\\n', 'MED10\\n', 'OR51V1\\n', 'KRTAP9-4\\n', 'RAB37\\n', 'BHLHE40\\n', 'CHST15\\n', 'BATF\\n', 'SFI1\\n', 'CXCL13\\n', 'GH2\\n', 'GNAS\\n', 'FBXL16\\n', 'OR51A4\\n', 'OR4E1\\n', 'PGR\\n', 'RARRES2\\n', 'KIF18B\\n', 'IFI35\\n', 'BRI3\\n', 'SEC61B\\n', 'ZNF641\\n', '956536\\n', 'UTP18\\n', 'ACTR1B\\n', 'IL6\\n', 'ASB2\\n', 'RPS11\\n', 'RPL21\\n', 'VAV1\\n', 'FLG2\\n', 'OR5K1\\n', 'ZNF230\\n', 'HLA-DOB\\n', 'COG8\\n', 'CFD\\n', 'RPAP2\\n', 'ATM\\n', 'KRTAP25-1\\n', 'SYMPK\\n', 'TUBB2B\\n', 'SUPT7L\\n', 'UBA3\\n', 'DAB2IP\\n', 'COL18A1\\n', 'REST\\n', 'GCGR\\n', 'KRTAP13-3\\n', 'PTEN\\n', 'UTP6\\n', 'FOSB\\n', 'ENAM\\n', 'PMCH\\n', 'ZFP90\\n', 'PENK\\n', 'VEGFA\\n', 'ZNF586\\n', 'EME1\\n', 'FGD4\\n', 'FBXO21\\n', 'IFNA10\\n', 'BOP1\\n', 'MC3R\\n', 'MAP2K7\\n', 'DCTN4\\n', 'MAP3K3\\n', 'OR8I2\\n', 'HSPA1A\\n', 'COPS4\\n', 'FBXL3\\n', 'EFTUD2\\n', 'ZNF705G\\n', 'KRT6C\\n', 'ZNF727\\n', 'JADE1\\n', 'CSNK2A1\\n', 'PHF5A\\n', 'EEF2\\n', 'TTF1\\n', 'USP1\\n', 'S1PR3\\n', 'IL4I1\\n', 'EIF3I\\n', 'DYNLRB1\\n', 'MAGT1\\n', 'PLAUR\\n', 'RPL19\\n', 'DDAH1\\n', 'SNRPE\\n', 'BRIP1\\n', 'KRT33B\\n', 'COL1A2\\n', 'CMTM6\\n', 'SFN\\n', 'SDC1\\n', 'ARHGAP20\\n', 'OR5K3\\n', 'RPL36A\\n', 'MCPH1\\n', 'GPR20\\n', 'JAG2\\n', 'GPR150\\n', 'STAG3\\n', 'STK11\\n', 'NOS1\\n', 'OR9I1\\n', 'DBNL\\n', 'GPS1\\n', 'FBXW7\\n', 'ADAMTS5\\n', 'TPR\\n', 'RTP2\\n', 'SEC24B\\n', 'A1BG\\n', 'USP26\\n', 'APLP2\\n', 'CXCL8\\n', 'POLE4\\n', 'KIF25\\n', 'CNKSR1\\n', 'RDX\\n', 'OTUD3\\n', 'CXCR6\\n', 'GTF2A1\\n', 'LAMP1\\n', 'UBE2G1\\n', 'OR2T1\\n', 'PQBP1\\n', 'GNAI1\\n', 'OR52N4\\n', 'ZNF429\\n', 'PIANP\\n', 'FEM1B\\n', 'ZNF10\\n', 'AADAC\\n', 'CREG1\\n', 'ASXL1\\n', 'H2AB1\\n', 'ORM2\\n', 'UQCRB\\n', 'KRT1\\n', 'CXCL12\\n', 'PVR\\n', 'GRIA1\\n', 'GPS2\\n', 'LAG3\\n', 'COTL1\\n', 'OR11H2\\n', 'RPS2\\n', 'OR52K1\\n', 'CHMP4B\\n', 'APOOL\\n', 'DLL4\\n', 'HRH3\\n', 'SNRPN\\n', 'CCNE1\\n', 'HCAR1\\n', 'TAS2R50\\n', 'MBD3\\n', 'NHLRC2\\n', 'OR2T8\\n', 'OR5AR1\\n', 'RPL10A\\n', 'OR4K13\\n', 'IFT122\\n', 'INTU\\n', 'GBP7\\n', 'TPD52\\n', 'SIRT3\\n', 'SLPI\\n', 'ACADM\\n', 'COMMD4\\n', 'PRKG1\\n', 'RUNX1\\n', 'KDM5B\\n', 'CDC6\\n', 'EDNRA\\n', 'DTX3L\\n', 'ATP6V1H\\n', 'NBAS\\n', 'PDCD11\\n', 'DOCK2\\n', 'CCNA1\\n', 'PGM2\\n', 'CFH\\n', 'EIF4G1\\n', 'HOXA1\\n', 'ACSL1\\n', 'NFYC\\n', 'ATP6V1G1\\n', 'GRIN2A\\n', 'OR2W1\\n', 'PRCC\\n', 'OR51B2\\n', 'CD53\\n', 'DSN1\\n', 'OS9\\n', 'PSMA2\\n', 'SH3GL3\\n', 'FBXW12\\n', 'ZNF793\\n', 'RNASEL\\n', 'KRTAP23-1\\n', 'IRF4\\n', 'PARK7\\n', 'S100A11\\n', 'GRK5\\n', 'LCN2\\n', 'UBE3D\\n', 'HSPA8\\n', 'NEURL1B\\n', 'PSME3\\n', 'CDC5L\\n', 'ZNF585A\\n', 'MAF1\\n', 'LPAR1\\n', 'TIRAP\\n', 'ZNF726\\n', 'H3C6\\n', 'SULT2B1\\n', 'HDAC7\\n', 'SIN3A\\n', 'NTHL1\\n', 'KIF2C\\n', 'RNF114\\n', 'OR4X2\\n', 'OR4D6\\n', 'APOE\\n', 'ZNF324\\n', 'ASB4\\n', 'ARNT2\\n', 'DGKD\\n', 'GRM6\\n', 'NME1-NME2\\n', 'ZNF549\\n', 'CEACAM3\\n', 'ADRB3\\n', 'KRTAP9-8\\n', 'ZNF736\\n', 'GALC\\n', 'AP2S1\\n', 'RPL27A\\n', 'DEGS1\\n', 'WASF3\\n', 'ZNF605\\n', 'NEFL\\n', 'SGF29\\n', 'CLTC\\n', 'ROBO2\\n', 'NPB\\n', 'TAF1\\n', 'H3C11\\n', 'P2RY11\\n', 'H3-4\\n', 'KLHL11\\n', 'PRDX1\\n', 'TTBK2\\n', 'OR7G2\\n', 'NMU\\n', 'ARHGDIB\\n', 'ETS1\\n', 'PRSS23\\n', 'TOM1\\n', 'PRKN\\n', 'GTF2F2\\n', 'H4C3\\n', 'MPO\\n', 'TRAPPC10\\n', 'SCMH1\\n', 'EGR1\\n', 'OR2J1\\n', 'SIRT4\\n', 'TNFRSF1A\\n', 'MFN1\\n', 'CPSF1\\n', 'RPL27\\n', 'IFNA16\\n', 'MON1A\\n', 'OR13A1\\n', 'PFKL\\n', 'MED13\\n', 'GLYAT\\n', 'GNRH2\\n', 'OR13C4\\n', 'PDE3A\\n', 'UTP14A\\n', 'TLR1\\n', 'HERC2\\n', 'FBXO2\\n', 'NFIL3\\n', 'EHMT2\\n', 'MEAF6\\n', 'OR2M5\\n', '904054\\n', 'LRR1\\n', 'KRT3\\n', 'HCFC1\\n', 'LCE4A\\n', 'WDR46\\n', 'GABPB1\\n', 'PTTG1\\n', 'SYNE1\\n', 'IGFBP5\\n', 'TFAP2B\\n', 'CD40LG\\n', 'KNG1\\n', 'GATA2\\n', 'TPX2\\n', 'CDC37L1\\n', 'ZNF721\\n', 'SOCS3\\n', 'ZNF775\\n', 'MED31\\n', 'ABAT\\n', 'ARFGAP3\\n', 'SRSF10\\n', 'SEPSECS\\n', 'PLAC8\\n', 'KPNA1\\n', 'VAMP2\\n', 'H4C13\\n', 'TRIM9\\n', 'ESR1\\n', 'H2BC5\\n', 'ZNF33A\\n', 'DYNC1I1\\n', 'BRD8\\n', 'BMS1\\n', 'MAT1A\\n', 'OR2J2\\n', 'STIM1\\n', 'CAMK2A\\n', 'PSMD9\\n', 'TTN\\n', 'TAS2R31\\n', 'SRSF7\\n', 'KAT14\\n', 'POLR2G\\n', 'ZNF875\\n', 'ME1\\n', 'PSME2\\n', 'LCE3C\\n', 'ALDH3B2\\n', 'BMI1\\n', 'GPR17\\n', 'INS\\n', 'THBS1\\n', 'HPSE\\n', 'RPS26\\n', 'OR5P3\\n', 'FOLR3\\n', 'NAE1\\n', 'RGS5\\n', 'RPL23A\\n', 'SYCP1\\n', 'OR1N2\\n', 'MLH1\\n', 'USP44\\n', 'PDGFB\\n', 'CRNKL1\\n', 'OR52N2\\n', 'TDG\\n', 'ZNF701\\n', 'OXER1\\n', 'COL7A1\\n', 'OR2H1\\n', 'WDR19\\n', 'E2F8\\n', 'JAM3\\n', 'ARHGEF2\\n', 'PADI2\\n', 'GRIN1\\n', 'PRPF40A\\n', 'OR14C36\\n', 'C5\\n', 'PSMC6\\n', 'OR6K3\\n', 'OR52N5\\n', 'BMP1\\n', 'RXFP1\\n', 'CLEC2B\\n', 'TNFSF12\\n', 'CYFIP1\\n', 'AGO1\\n', 'INO80D\\n', 'RPL35\\n', 'GPR68\\n', 'PIP4K2C\\n', 'PAX3\\n', 'ISY1-RAB43\\n', 'AHI1\\n', 'B9D1\\n', 'ZNF500\\n', '100861532\\n', 'ACTL6B\\n', '813949\\n', 'ZNF34\\n', 'PPP3R1\\n', 'CAMK2G\\n', 'PSMD14\\n', 'RPL22L1\\n', 'TRIM63\\n', 'OR7A5\\n', 'CAPZA3\\n', 'IGF1\\n', 'INTS9\\n', 'PTPN6\\n', 'CUL4A\\n', 'MECP2\\n', 'AGA\\n', 'CTSG\\n', 'IGF2BP1\\n', 'MDM4\\n', 'FAM13B\\n', 'MMP3\\n', 'CSF2\\n', 'FCER2\\n', 'CYB5R3\\n', 'IL27RA\\n', 'WNK3\\n', 'GTPBP2\\n', 'MOV10\\n', 'OR4N5\\n', 'OR5H6\\n', 'OFD1\\n', 'DDX47\\n', 'PDS5A\\n', 'RINL\\n', 'OR2T29\\n', 'NPAS2\\n', 'ATP6AP2\\n', 'INSR\\n', 'PICK1\\n', 'FRK\\n', 'DMBT1\\n', 'H2AC7\\n', 'SIGLEC8\\n', 'ZNF691\\n', 'PSMB2\\n', 'SLC2A4\\n', 'PSMA1\\n', 'LGALS1\\n', 'CHRM5\\n', 'KRT40\\n', 'ZNF443\\n', 'CRTC2\\n', 'CASP14\\n', 'KRT73\\n', 'RPL41\\n', 'SMAD3\\n', 'RAD51B\\n', 'CRTC1\\n', 'RAP1A\\n', 'VEGFD\\n', 'COPS2\\n', 'DHX15\\n', 'ACTG1\\n', 'RPS4Y1\\n', 'EHD2\\n', 'USP17L27\\n', 'CCNB1\\n', 'RCE1\\n', 'ASB14\\n', 'LTBR\\n', 'DBT\\n', 'PPP1R13B\\n', 'DOCK8\\n', 'BARD1\\n', 'JAK1\\n', 'ZNF584\\n', 'ADCY6\\n', 'GOT1\\n', 'ALDH3A1\\n', 'OR6X1\\n', 'MAPRE1\\n', 'ARIH1\\n', 'H3C1\\n', 'ANAPC15\\n', 'HAUS5\\n', 'CPSF3\\n', 'MED8\\n', 'TFAM\\n', 'ZNF830\\n', '3707572\\n', 'OR52H1\\n', 'NPBWR2\\n', 'CUL5\\n', 'PRSS3\\n', 'BST1\\n', 'UNG\\n', 'NUP50\\n', 'CCL3\\n', 'ORC4\\n', 'C9\\n', 'OR6N2\\n', 'SP7\\n', 'HERC5\\n', 'OR3A1\\n', 'VPS45\\n', 'PSMB7\\n', 'ARHGEF39\\n', 'RAMP1\\n', 'LRP1\\n', 'EIF4G3\\n', 'SIAH2\\n', 'RNF115\\n', 'USP2\\n', 'HIBADH\\n', 'NCBP2\\n', 'DNM3\\n', 'OR9Q2\\n', 'PECAM1\\n', 'PPP2CB\\n', 'TIAM1\\n', 'CPSF2\\n', 'TENT4A\\n', 'CLEC4D\\n', 'YWHAZ\\n', 'NECAP2\\n', 'HLA-DRB1\\n', 'CHD1L\\n', 'BTRC\\n', 'TULP4\\n', 'CLP1\\n', 'SPSB1\\n', 'EIF3E\\n', 'SLC44A2\\n', 'KRTAP2-1\\n', 'ATRIP\\n', 'TICAM2\\n', 'IFNA8\\n', 'DIMT1\\n', 'FBXO32\\n', 'DDX5\\n', 'RPS10\\n', 'MAVS\\n', 'OR56A1\\n', 'OR6C68\\n', 'EVPL\\n', 'SERPINC1\\n', 'ERLEC1\\n', 'HSPG2\\n', 'DSP\\n', 'LTF\\n', 'ZKSCAN7\\n', 'IKBKG\\n', 'HSP90B1\\n', 'POLR3D\\n', 'CALM2\\n', 'KCNB1\\n', 'H4C9\\n', 'VCL\\n', 'CFP\\n', 'SF3A1\\n', 'ZNF431\\n', 'ZNF689\\n', 'ADH4\\n', 'H3C8\\n', 'OR2W5P\\n', 'SCN3B\\n', 'ZNF746\\n', 'RPL8\\n', 'XRCC1\\n', 'OR2G2\\n', 'CXCL5\\n', 'CDC37\\n', 'ZNF41\\n', 'ARHGEF3\\n', 'TNRC6C\\n', 'ITGA9\\n', 'SULT1A1\\n', 'GNG11\\n', 'ZNF213\\n', 'OTUB1\\n', 'KLHL41\\n', 'ATP8A2\\n', 'SETD1A\\n', 'RCC2\\n', 'KIF22\\n', 'MSI1\\n', 'INTS11\\n', 'HDAC3\\n', 'AKT2\\n', 'GRIN2D\\n', 'TRIM50\\n', 'TAF1L\\n', 'PIK3R4\\n', 'H2AZ2\\n', 'OR6S1\\n', 'POLR1F\\n', 'POP7\\n', 'ZNF770\\n', 'CWC22\\n', 'TMEM179B\\n', 'BDKRB2\\n', 'UTS2B\\n', 'OR5M1\\n', 'GHDC\\n', 'COL8A1\\n', 'CPT1A\\n', 'F2RL3\\n', 'RPL3\\n', 'ZNF790\\n', 'FGF19\\n', 'CENPO\\n', 'OXT\\n', 'RPL29\\n', 'GJD4\\n', 'OR51S1\\n', 'FBXO40\\n', 'SPTBN4\\n', 'POLR1G\\n', 'POLD3\\n', 'TCF3\\n', 'ACTR3\\n', 'RPS13\\n', 'KRTAP4-3\\n', 'PSMC1\\n', 'UBE2Q2\\n', 'OR10Z1\\n', 'DOK4\\n', 'WNT11\\n', 'SH2B1\\n', 'NFYA\\n', 'RPS16\\n', 'VAPA\\n', 'LHX4\\n', 'OTUD5\\n', 'DEFA4\\n', 'CENPS-CORT\\n', 'DCTN3\\n', 'PDIA6\\n', 'MED7\\n', 'AVPR1A\\n', 'RPL13A\\n', 'ZNF354A\\n', 'ELOA2\\n', 'CCR2\\n', 'NUP98\\n', 'H4C6\\n', 'SCAI\\n', 'OR5H1\\n', 'CDK6\\n', 'FFAR4\\n', 'PRKACA\\n', 'CCDC22\\n', 'RAP2B\\n', 'ARRB2\\n', 'TPTEP2-CSNK1E\\n', 'ZNF282\\n', 'EPN2\\n', 'UBA5\\n', 'DEFB118\\n', 'ADORA2B\\n', 'CARD9\\n', 'IL10\\n', 'ZNF573\\n', 'BRS3\\n', 'KDM6B\\n', 'ADCY2\\n', 'RGS17\\n', 'KDM4B\\n', 'KL\\n', 'ITGA2\\n', 'LMAN1L\\n', 'CLTCL1\\n', 'CD244\\n', 'H2AC17\\n', 'TRAF7\\n', 'NUDT2\\n', 'REEP2\\n', 'H2BC21\\n', 'F5\\n', 'THUMPD1\\n', 'SH3GL1\\n', 'COMMD1\\n', 'RPL31\\n', 'PWP2\\n', 'STAT1\\n', 'OR52N1\\n', 'WDR48\\n', 'CHMP2A\\n', 'ALMS1\\n', 'AADAT\\n', 'TUBAL3\\n', 'PARP2\\n', 'NTSR2\\n', 'COL3A1\\n', 'PPP2R5A\\n', 'RPS18\\n', 'RGS19\\n', 'MIS18BP1\\n', 'RAB2A\\n', 'AP4B1\\n', 'GUCY2D\\n', 'ZNF189\\n', 'PSMD3\\n', 'NPY2R\\n', 'OR8B12\\n', 'PPP2R1A\\n', 'SENP8\\n', 'RPL36AL\\n', 'ARHGAP15\\n', 'RNF34\\n', 'OR4S1\\n', 'MAP2K2\\n', 'DIAPH1\\n', 'DYNLT2\\n', 'MTREX\\n', 'CCL25\\n', 'GNB1\\n', 'PRLR\\n', 'ARFGAP2\\n', 'PFN1\\n', 'OR56A4\\n', 'RPL32\\n', 'SLCO1B3\\n', 'ZNF582\\n', 'EXOSC3\\n', 'SHC2\\n', 'TNF\\n', 'SLC9C2\\n', 'ADCY4\\n', 'PRKACG\\n', 'AMELX\\n', 'RHOU\\n', 'UTS2\\n', 'RAB3D\\n', 'MIF\\n', 'ACTR10\\n', 'POLR2A\\n', 'RPL4\\n', 'NPFFR2\\n', 'TLE1\\n', 'MKRN1\\n', 'RCN1\\n', 'ADRA2B\\n', '956535\\n', 'ZNF551\\n', 'MTA3\\n', 'ADA2\\n', 'EFNA2\\n', 'IGFBP7\\n', 'TGOLN2\\n', 'DYNC1LI2\\n', 'E2F3\\n', 'MT-CO3\\n', 'H4C4\\n', 'NCOA1\\n', 'IFNA7\\n', 'AMBN\\n', 'CENPC\\n', 'IL1RL1\\n', 'OR51G1\\n', 'XRN2\\n', 'OPRD1\\n', 'CAPN11\\n', 'MAPKAPK3\\n', 'RNF25\\n', 'OR6V1\\n', 'RPS27\\n', 'FPR2\\n', 'RPL36\\n', 'RPS9\\n', 'CBL\\n', 'SPRR2A\\n', 'OR1L8\\n', 'MAPK14\\n', 'PDIA3\\n', 'OR12D2\\n', 'ERCC2\\n', 'ARHGAP45\\n', 'ANKRD9\\n', 'COL4A1\\n', 'GATA1\\n', 'PRKCSH\\n', 'CENPU\\n', 'UBA52\\n', 'GPSM3\\n', 'CFTR\\n', 'CAMP\\n', 'MEN1\\n', 'KCTD7\\n', 'IRS1\\n', 'RAD9A\\n', 'PRG2\\n', 'UTP11\\n', 'PRKAR1B\\n', 'FABP12\\n', 'ATN1\\n', 'COL9A2\\n', 'GAA\\n', 'ADRA2A\\n', 'OR3A3\\n', 'ZNF217\\n', 'WDR75\\n', 'KDM7A\\n', 'ARHGEF16\\n', 'DOCK11\\n', '79296\\n', 'ZNF195\\n', 'PSG2\\n', 'ZNF479\\n', 'IMPDH2\\n', 'SERPIND1\\n', 'VPREB3\\n', 'DERA\\n', 'CXCR3\\n', 'OR4C13\\n', 'H2AC13\\n', 'COPG2\\n', 'IKZF1\\n', 'PRKAR2B\\n', 'ZNF778\\n', 'PSMB11\\n', 'IFI30\\n', 'ZWILCH\\n', 'CHD4\\n', 'KRT85\\n', 'AR\\n', 'TYK2\\n', 'SRSF11\\n', 'UIMC1\\n', 'KRT9\\n', 'OR52M1\\n', 'OR5V1\\n', 'UBQLN2\\n', 'DMC1\\n', 'APEH\\n', 'COX18\\n', 'PRKDC\\n', 'TSPAN14\\n', 'OR14I1\\n', 'SGIP1\\n', 'ZNF785\\n', 'SUMO2\\n', 'ZNF416\\n', 'BCAP31\\n', 'SOCS1\\n', 'MMP9\\n', 'UEVLD\\n', 'PRSS2\\n', 'GFRA3\\n', 'HERC3\\n', 'HRH4\\n', 'BUB1\\n', 'DSG4\\n', 'ARHGDIA\\n', 'ORC5\\n', 'FUCA1\\n', 'TSC2\\n', 'S100A7\\n', 'KBTBD8\\n', 'USP17L11\\n', 'FADS1\\n', 'WASF1\\n', 'KAT2A\\n', 'OR2M3\\n', 'LAMC2\\n', 'OR1M1\\n', 'MOSPD2\\n', 'SURF4\\n', 'ZNF253\\n', 'EIF4A1\\n', 'TSHB\\n', 'IDE\\n', 'ADHFE1\\n', 'RAC2\\n', 'BRCC3\\n', 'ICAM3\\n', 'NUP155\\n', 'CDK2\\n', 'TOLLIP\\n', 'HECTD3\\n', 'ADORA3\\n', 'POLG2\\n', 'GNS\\n', 'NCOA2\\n', 'ZNF483\\n', 'LDB1\\n', 'CHMP4A\\n', 'TGFA\\n', 'RPL13\\n', 'DIAPH2\\n', 'ZFYVE9\\n', 'OR10H1\\n', 'KIR3DL1\\n', 'NCKAP1\\n', 'GRM2\\n', 'ZNF546\\n', 'POLR1C\\n', 'ASB18\\n', 'ZNF131\\n', 'IRAG2\\n', 'BRF1\\n', 'ING5\\n', 'BCKDK\\n', 'TAS2R14\\n', 'YWHAG\\n', 'HRC\\n', 'ADAM22\\n', 'MED30\\n', 'EXOSC4\\n', 'ITPR3\\n', 'COL4A4\\n', 'GNG13\\n', 'GPX2\\n', 'GORASP1\\n', 'HSPB1\\n', 'ZCRB1\\n', 'CUL2\\n', 'HSPH1\\n', 'HIF1A\\n', 'MCM6\\n', 'POLR2I\\n', 'PYCARD\\n', 'GABPA\\n', 'WWTR1\\n', 'PELI3\\n', 'GRK3\\n', 'GNG5\\n', 'ZNF71\\n', 'S100A9\\n', 'REEP5\\n', 'APOB\\n', 'FBXL5\\n', 'TBC1D4\\n', 'UBE2A\\n', 'VAMP7\\n', 'GTF2H4\\n', 'UBE4A\\n', 'NRTN\\n', 'ZNF688\\n', 'RNF220\\n', 'COG1\\n', 'CARNS1\\n', 'KIFC1\\n', 'ORC3\\n', 'TRRAP\\n', 'PTPRJ\\n', 'CDK5R1\\n', 'DHX38\\n', 'RPLP0\\n', 'CASP8\\n', 'PSMB3\\n', 'POU2F2\\n', 'LCE6A\\n', 'ERI1\\n', 'ENDOD1\\n', 'RHOT1\\n', 'CASK\\n', 'TAS1R2\\n', 'ATP13A4\\n', 'CCNE2\\n', 'COL26A1\\n', 'PDE4A\\n', 'SLC15A4\\n', 'RAD51AP1\\n', 'PRMT7\\n', 'ZNF561\\n', 'OPRL1\\n', 'KITLG\\n', 'CUL3\\n', 'CD74\\n', 'YKT6\\n', 'ITGAV\\n', 'PTK6\\n', 'HLA-DRB5\\n', 'ZNF454\\n', 'HEY1\\n', 'MCHR1\\n', 'OR52J3\\n', 'HLA-DQB1\\n', 'RTP4\\n', 'ADAM17\\n', 'COLGALT1\\n', 'POLR1B\\n', 'COL23A1\\n', 'ZNF547\\n', 'UGCG\\n', 'MCM4\\n', 'INTS13\\n', 'OR8B8\\n', 'ARHGEF12\\n', 'COG5\\n', 'FER\\n', 'ITK\\n', 'CYP21A2\\n', 'EGF\\n', 'LMNA\\n', 'NR2E1\\n', 'RNF185\\n', 'CKS1B\\n', 'RGS4\\n', 'OR52A1\\n', 'ITGB2\\n', 'INTS3\\n', 'ZNF670\\n', 'RXRB\\n', 'UBE2B\\n', 'DCTN1\\n', 'UBD\\n', 'IRAK2\\n', 'CDA\\n', 'SBF2\\n', 'CLEC10A\\n', 'RRP9\\n', 'TCIRG1\\n', 'UBE2C\\n', 'CD177\\n', 'GPR32\\n', 'HRAS\\n', 'SCAMP1\\n', 'FCGR3B\\n', 'IFNA2\\n', 'GPR45\\n', 'H4-16\\n', 'H2AC18\\n', 'PSMD6\\n', 'RGS7\\n', 'RGL1\\n', 'GAD1\\n', 'GMFG\\n', 'HSP90AB1\\n', 'ITGA5\\n', 'GNB3\\n', 'KIF9\\n', 'UBR1\\n', 'WDR33\\n', 'TNIK\\n', 'HOXA2\\n', 'MZT1\\n', 'TAAR6\\n', 'NEDD8\\n', 'KIT\\n', 'TUBB4A\\n', 'SPC25\\n', 'TRIM68\\n', 'RUVBL2\\n', 'GNGT2\\n', 'AAK1\\n', 'OR7C2\\n', 'DEFB105A\\n', 'ZNF354C\\n', 'CEACAM8\\n', 'ELN\\n', 'UBB\\n', 'AGK\\n', 'IBSP\\n', 'PSEN1\\n', 'HVCN1\\n', 'CRTAM\\n', 'AGT\\n', 'NOP56\\n', 'SPCS1\\n', 'TAGLN2\\n', 'AP1S2\\n', 'ZNF74\\n', 'BLM\\n', 'PPIH\\n', 'OR52D1\\n', 'USP17L8\\n', 'ACTN4\\n', 'TMOD4\\n', 'CD19\\n', 'IRF3\\n', 'FOXO1\\n', 'HAUS7\\n', 'OR2B2\\n', 'POLR2D\\n', 'LCE3E\\n', 'GRM4\\n', 'NUCB1\\n', 'USP16\\n', 'PICALM\\n', 'CAPN3\\n', 'RHOBTB2\\n', 'PACSIN3\\n', 'PHF8\\n', 'BCL10\\n', 'OR5T3\\n', 'TAF1A\\n', 'CSNK1E\\n', 'OR1D5\\n', 'PRCP\\n', 'FBXL22\\n', 'PSMA8\\n', 'PRNP\\n', 'OPRM1\\n', 'KRTAP1-3\\n', 'RLN2\\n', 'OR51Q1\\n', 'OR2AK2\\n', 'TICAM1\\n', 'GTF2H5\\n', 'COX6A1\\n', 'OR5M10\\n', 'ISG15\\n', 'OR51T1\\n', 'RASAL3\\n', 'SCNN1B\\n', 'NDEL1\\n', 'WRN\\n', 'SHH\\n', 'HEXB\\n', 'GPR65\\n', 'RBBP6\\n', 'FGF10\\n', 'SUPT20H\\n', 'SP1\\n', 'SERPINB12\\n', 'ZNF468\\n', 'ZNF394\\n', 'ITPK1\\n', 'SNAPC4\\n', 'ANAPC2\\n', 'KLRD1\\n', 'DERL1\\n', 'ADGRE3\\n', 'TSPAN15\\n', 'EBAG9\\n', 'CLEC4C\\n', 'ZNF254\\n', 'USP17L18\\n', 'RAB6A\\n', 'CTSD\\n', 'RNF123\\n', 'MAP3K14\\n', 'PRKAA2\\n', 'SF3B4\\n', 'SPTBN5\\n', 'WNT3A\\n', 'MGAM\\n', 'ACTB\\n', 'CTCF\\n', 'THOC5\\n', 'ZNF143\\n', 'NRGN\\n', 'CCL19\\n', 'HK3\\n', 'MYBL2\\n', 'ZNF613\\n', 'DLD\\n', 'OR4N2\\n', 'TAS2R13\\n', 'RPTN\\n', 'FPR3\\n', 'GYG1\\n', 'GNG3\\n', 'SLC24A5\\n', 'DNM2\\n', 'AKAP10\\n', 'KRTAP5-8\\n', 'OR51B5\\n', 'FZD3\\n', 'CLPS\\n', 'KCNAB1\\n', 'OR11H6\\n', 'TNC\\n', 'RPGRIP1L\\n', 'MUS81\\n', 'ZNF205\\n', 'CENPQ\\n', 'OR2AP1\\n', 'TEAD4\\n', 'IRF6\\n', 'ZNRF3\\n', 'OR52L1\\n', 'PRKAB1\\n', 'RAB5B\\n', 'USP5\\n', 'TUBB1\\n', 'TUBA1B\\n', 'FGF1\\n', 'CDC23\\n', 'STAM2\\n', 'OR11H4\\n', 'OR8A1\\n', 'OR4M1\\n', 'CTSF\\n', 'TUBB6\\n', 'KLHL3\\n', 'ACP3\\n', 'TUBA3E\\n', 'MMP1\\n', 'TMEM63A\\n', 'FLNB\\n', 'H4C2\\n', 'PTGES3\\n', 'CAMK2B\\n', 'NCF1\\n', 'FGF17\\n', 'OR51A2\\n', 'KRT33A\\n', 'LDHC\\n', 'NIP7\\n', 'SMC2\\n', 'H2BC3\\n', 'HRH1\\n', 'SMC1B\\n', 'SRSF1\\n', 'ZNF619\\n', 'OR52E2\\n', 'OR10A3\\n', 'CCNA2\\n', 'MLN\\n', 'RNF152\\n', 'BET1L\\n', 'ACADS\\n', 'TUBB2A\\n', 'OR6C70\\n', 'USP17L3\\n', 'PLCB4\\n', 'RPL14\\n', 'UBE2O\\n', 'DOCK7\\n', 'RAB1A\\n', 'CLEC5A\\n', 'CPPED1\\n', 'DPY30\\n', 'SSU72\\n', 'RBP3\\n', 'HAUS8\\n', 'UBA6\\n', 'CDK7\\n', 'MED6\\n', 'DSG1\\n', 'SLC22A2\\n', 'SCRIB\\n', 'OR51L1\\n', 'SNAPC2\\n', 'GRHL1\\n', 'CXCL3\\n', 'SDC2\\n', 'GOLGA2\\n', 'ITGA3\\n', 'GCK\\n', 'SIRPA\\n', 'SPCS2\\n', 'RPL38\\n', 'FAM20A\\n', 'RAPGEF3\\n', 'NDC1\\n', 'HEBP1\\n', 'XPC\\n', 'TBC1D20\\n', 'AKT3\\n', 'AP4S1\\n', 'ANXA1\\n', 'TNFRSF10D\\n', 'RASGRF2\\n', 'ALYREF\\n', 'HSPA5\\n', 'NR5A2\\n', 'EXOC5\\n', 'LCE2D\\n', 'RBBP4\\n', 'TAF8\\n', 'OR4A5\\n', 'EIF3H\\n', 'DLC1\\n', 'OR2A14\\n', 'DNAJC3\\n', 'CHRM3\\n', 'AP2A1\\n', 'PSMB4\\n', 'POT1\\n', 'KRT16\\n', 'TCP1\\n', 'ZNF704\\n', 'EPS15\\n', 'CBLB\\n', 'MYH10\\n', 'KIF6\\n', 'PER1\\n', 'SMG1\\n', 'PGM1\\n', 'ASB7\\n', 'MAFG\\n', 'SEC13\\n', 'CSPG4\\n', 'NFKBIA\\n', 'IL33\\n', 'COL14A1\\n', 'OR4D5\\n', 'PMVK\\n', 'ZNF445\\n', 'ABCB9\\n', 'PEDS1-UBE2V1\\n', 'IQGAP1\\n', 'CEACAM5\\n', 'CRISPLD2\\n', 'RGS21\\n', 'USP17L29\\n', 'RBSN\\n', 'GNA11\\n', 'OR5P2\\n', 'DOCK1\\n', 'OR8G2P\\n', 'RB1\\n', 'KLK2\\n', 'DOCK9\\n', 'RAB44\\n', 'STK10\\n', 'PLPP2\\n', 'CHMP2B\\n', 'TAF2\\n', 'TSC1\\n', 'COL16A1\\n', 'SYVN1\\n', 'RUVBL1\\n', 'CAPN1\\n', 'PHC1\\n', 'MLLT1\\n', 'EPHA7\\n', 'KRTAP11-1\\n', 'ZIM2\\n', 'FSCN1\\n', 'OR2T3\\n', 'PPP4R2\\n', 'ANGPT1\\n', 'IFNA21\\n', 'FCAR\\n', 'GFI1\\n', 'CYSTM1\\n', 'HNRNPK\\n', 'RNF138\\n', 'CNIH1\\n', 'OR5H14\\n', 'AQR\\n', 'RAE1\\n', 'IFIH1\\n', 'CAPZA1\\n', 'GAK\\n', 'ATXN7L3\\n', 'NUP133\\n', 'CEBPB\\n', 'LIMS1\\n', 'HEATR1\\n', 'ULBP3\\n', 'CEP164\\n', 'ECM1\\n', 'RNF19A\\n', 'CD44\\n', 'CALCR\\n', 'CTNNA1\\n', 'OR10V1\\n', 'OR1D2\\n', 'RTP3\\n', 'POLH\\n', 'ZNF70\\n', 'IFITM1\\n', 'OR52I2\\n', 'PDE7B\\n', 'TERF1\\n', 'SH2B3\\n', 'STAMBP\\n', 'LPAR3\\n', 'RPL18A\\n', 'ADCY8\\n', 'RNF135\\n', 'APOA1\\n', 'PTGER4\\n', 'SHANK2\\n', 'GATA5\\n', 'POLRMT\\n', 'H4C8\\n', 'OR2A1\\n', 'ZNF214\\n', 'PROKR1\\n', 'RELA\\n', 'OR2A5\\n', 'YPEL5\\n', 'APAF1\\n', 'FGF3\\n', 'SLC8A1\\n', 'GPRC6A\\n', 'ZSWIM8\\n', 'P4HB\\n', 'FBXL19\\n', 'NRIP1\\n', 'FOXG1\\n', 'FERMT3\\n', 'ITPR1\\n', 'SFTPA2\\n', 'KLHL2\\n', 'PHAX\\n', 'PITPNA\\n', 'GAD2\\n', 'MAPK1\\n', 'KRTAP4-2\\n', 'ANXA2\\n', 'DR1\\n', 'H2BC14\\n', 'OR5AN1\\n', 'BRAF\\n', 'SETD1B\\n', 'AP2A2\\n', 'REEP3\\n', 'SUV39H1\\n', 'RPL5\\n', 'AGO2\\n', 'POLR2L\\n', 'VTN\\n', 'CCKBR\\n', 'RAB27A\\n', 'OR51E2\\n', 'LSM4\\n', 'CCL21\\n', 'CEP152\\n', 'H2BC4\\n', 'RAI1\\n', 'NPDC1\\n', 'ABCC10\\n', 'ACTN1\\n', 'OGG1\\n', 'DYNLL1\\n', 'ZNF705D\\n', 'ALDH2\\n', 'CXCR2\\n', 'ELAVL2\\n', 'F2RL1\\n', 'DVL3\\n', 'THOC3\\n', 'SOD1\\n', 'ABRAXAS1\\n', 'RHO\\n', 'PRKAB2\\n', 'RPS6KA2\\n', 'NFAM1\\n', 'SST\\n', 'U2AF1L5\\n', 'ZNF671\\n', 'CD47\\n', 'BCAN\\n', 'MYLIP\\n', 'KDM6A\\n', 'NCBP1\\n', 'SYT8\\n', 'KRTAP26-1\\n', 'RPS17\\n', 'PLCG2\\n', 'ARMC8\\n', 'MYH11\\n', 'HCRT\\n', 'ARHGAP22\\n', 'CYBA\\n', '100506888\\n', 'RUNX3\\n', 'SEC31A\\n', 'ZNF419\\n', 'AGL\\n', 'KDM4C\\n', 'RFC1\\n', 'CSNK1D\\n', 'PNPLA2\\n', 'ANAPC10\\n', 'LDLR\\n', 'CSPG5\\n', 'USP13\\n', 'ZNF774\\n', 'OR4F15\\n', 'ZNF611\\n', 'ELMO2\\n', 'ASB5\\n', 'GCC1\\n', 'CAB39\\n', 'DCAF6\\n', 'CD40\\n', 'MMP17\\n', 'RPL22\\n', 'MUL1\\n', 'INTS10\\n', 'UBE2Z\\n', 'THBD\\n', 'UBE3C\\n', 'LILRA2\\n', 'KCNH6\\n', 'FGA\\n', 'EXOSC8\\n', 'KDM1A\\n', 'RNF130\\n', 'SPN\\n', 'VDAC3\\n', 'TAF12\\n', 'ABCA13\\n', 'SCG3\\n', 'CHRDL1\\n', 'PNRC2\\n', 'OR6C6\\n', 'COP1\\n', 'KRT13\\n', 'OR4D11\\n', 'RGS10\\n', 'ZDHHC2\\n', 'GLB1\\n', 'USP15\\n', 'SLC9C1\\n', 'PIK3CD\\n', 'IRF9\\n', 'UPF2\\n', 'PAF1\\n', 'OR2L13\\n', 'NMUR1\\n', 'WSB2\\n', 'POLR2F\\n', 'ZNF564\\n', 'ATP7A\\n', 'EIF2S3\\n', 'OR5M9\\n', 'NET1\\n', 'TAF7\\n', 'COL27A1\\n', 'KCTD6\\n', 'STRN\\n', 'YBX1\\n', 'MAPK4\\n', 'ZNF25\\n', 'HES1\\n', 'MPHOSPH10\\n', 'CD226\\n', 'ASB1\\n', 'COL6A1\\n', 'ZNF331\\n', 'SRF\\n', 'RPN2\\n', 'MIB2\\n', 'EIF3M\\n', 'SUCNR1\\n', 'SFRP1\\n', 'TRAPPC2\\n', 'ACOT12\\n', 'MTA1\\n', 'EP300\\n', 'TERF2IP\\n', 'DCUN1D5\\n', 'ARHGEF1\\n', 'ZNF415\\n', 'SAA1\\n', 'VAMP3\\n', 'RNASE3\\n', 'ZNF562\\n', 'ZNF197\\n', 'DYNC1I2\\n', 'KDELR2\\n', 'NUP205\\n', 'APRT\\n', 'CCL16\\n', 'ELOA\\n', 'SHC1\\n', 'ZNF446\\n', 'FBXL15\\n', 'DVL2\\n', 'GGA1\\n', 'ELP3\\n', 'CD3G\\n', 'PRPF6\\n', 'NR1H3\\n', 'BAG5\\n', 'SNAP91\\n', 'PPP6R1\\n', 'KIFC3\\n', 'RPL11\\n', 'PARP1\\n', 'ARHGEF15\\n', 'PPY\\n', 'ATP6V1A\\n', 'H2BC9\\n', 'CSK\\n', 'PNOC\\n', 'H2BC13\\n', 'OR2Z1\\n', 'ZNF3\\n', 'NUP43\\n', 'LDHAL6B\\n', 'FBL\\n', 'SRSF3\\n', 'ELL3\\n', 'KIF7\\n', 'SESN1\\n', 'BABAM1\\n', 'ZFP14\\n', 'RPL26L1\\n', 'GSN\\n', 'ZKSCAN8\\n', 'ZNF565\\n', 'OR8D2\\n', 'ITGAM\\n', 'INO80C\\n', 'DGKH\\n', 'OXTR\\n', 'ZNF684\\n', 'GRM5\\n', 'PTPRA\\n', 'ARF4\\n', 'ITGB7\\n', 'DNAJC5\\n', 'TRIM69\\n', 'POLK\\n', 'OR2S2\\n', 'TP73\\n', 'CD300E\\n', 'ITGAE\\n', 'IQCB1\\n', 'IRF7\\n', 'IGFBP4\\n', 'ARHGAP36\\n', 'LRRTM4\\n', 'PPARGC1A\\n', 'KIF24\\n', 'ZNF804B\\n', 'COL4A2\\n', 'OR5L1\\n', 'H3C14\\n', 'FOLR1\\n', 'PAFAH1B1\\n', 'OR5K2\\n', 'LYN\\n', 'JUNB\\n', 'PSMB10\\n', 'OR5D18\\n', 'IL5\\n', 'ARNTL\\n', 'NDUFV1\\n', 'MNAT1\\n', 'TMEM30A\\n', 'OR13C2\\n', 'MYH14\\n', 'PRKAG2\\n', 'CENPP\\n', 'ATP8B4\\n', 'CUL7\\n', 'RAB9B\\n', 'TGFB3\\n', 'ZNF750\\n', 'FZD7\\n', 'ZNF493\\n', 'GPR18\\n', 'C6orf120\\n', 'U2SURP\\n', 'COX20\\n', 'ZNF556\\n', 'ACTR2\\n', 'NPS\\n', 'SP100\\n', 'OR1J1\\n', 'TAP1\\n', 'ADRA1B\\n', 'MTHFD1L\\n', 'TRAF6\\n', 'PTGDR\\n', 'RAB3IP\\n', 'GLIPR1\\n', 'KEAP1\\n', 'OR5K4\\n', 'OR4C15\\n', 'XRN1\\n', 'KRT14\\n', 'SYK\\n', 'UBE2I\\n', 'PADI1\\n', 'HDAC8\\n', 'ERBB3\\n', 'C3\\n', 'SMC3\\n', 'OR2W3\\n', 'TOMM70\\n', 'CD4\\n', 'NR1I3\\n', 'RPL37A\\n', 'RHNO1\\n', 'PHLPP1\\n', 'RPRD1B\\n', 'KIF26B\\n', 'VDAC2\\n', 'SAP18\\n', 'BBS2\\n', 'GGH\\n', 'CHD3\\n', 'EXO1\\n', 'PLAU\\n', 'HSPA1B\\n', 'GBP1\\n', '956533\\n', 'AKR1C3\\n', 'YY1\\n', 'RPS15\\n', 'CHML\\n', 'MET\\n', 'TLR2\\n', 'LPAR2\\n', 'OR10A4\\n', 'NUP188\\n', 'HAUS3\\n', 'JUND\\n', 'SELP\\n', 'BMP15\\n', 'USP20\\n', 'PSG3\\n', 'MZT2B\\n', 'GOLGA7\\n', 'ANAPC4\\n', 'TAT\\n', 'OR51A7\\n', 'LIG3\\n', 'AMTN\\n', 'OR2F1\\n', 'NOL11\\n', 'CSNK1G2\\n', 'CRCP\\n', 'FLNA\\n', 'PPIL1\\n', 'EFNB2\\n', 'BCKDHB\\n', 'NR1H4\\n', 'ARHGAP10\\n', 'LAIR1\\n', 'OR5T1\\n', 'PPFIA4\\n', 'LDHAL6A\\n', 'SHC3\\n', '956527\\n', 'PLEKHA1\\n', 'SCNN1D\\n', 'NDUFA1\\n', 'BIRC5\\n', 'DAG1\\n', 'CRISP3\\n', 'RAD21\\n', 'ATP11B\\n', 'ACOX1\\n', 'ADH1A\\n', 'HSD3B1\\n', 'HERC6\\n', 'ZNF264\\n', 'SPCS3\\n', 'PROK2\\n', 'EED\\n', 'LRTOMT\\n', 'ENGASE\\n', 'PRDX4\\n', 'LAT\\n', 'SUDS3\\n', 'YEATS4\\n', 'TUBA4A\\n', 'CENPJ\\n', 'LONRF1\\n', 'ADAMTS14\\n', 'RPL26\\n', 'FSHR\\n', 'FAM114A2\\n', 'SREBF2\\n', 'PNLIP\\n', 'ALB\\n', 'SERPINA10\\n', 'SERPINA1\\n', 'ACLY\\n', 'OR8B3\\n', 'LSS\\n', 'FANCA\\n', 'CCL3L1\\n', 'UBXN7\\n', 'ATP6V0C\\n', 'LUM\\n', 'RRP8\\n', 'AAAS\\n', 'IHH\\n', 'HIVEP3\\n', 'NDC80\\n', 'LILRA3\\n', 'NUP107\\n', 'H2BU1\\n', 'NEURL1\\n', 'MYL3\\n', 'GNG7\\n', 'PFDN4\\n', 'CAB39L\\n', 'KRBOX4\\n', 'SIAH1\\n', 'IRF2\\n', 'OSTF1\\n', 'FKBP8\\n', 'CTNNBL1\\n', 'S1PR4\\n', 'NMBR\\n', 'ZNF418\\n', 'RNASET2\\n', 'DEFA1B\\n', 'HJURP\\n', 'POU2F1\\n', 'GNRH1\\n', 'GATAD2A\\n', 'TOR1A\\n', 'BPIFB2\\n', 'PAFAH1B2\\n', 'POLR3A\\n', 'TRIM21\\n', 'TAS2R46\\n', 'PARP10\\n', 'KNTC1\\n', 'NOTCH3\\n', 'SELL\\n', 'ULBP1\\n', 'UBE3A\\n', 'KBTBD7\\n', 'DIAPH3\\n', 'RPL3L\\n', 'UTP25\\n', 'XRCC2\\n', 'RAD51C\\n', 'PIK3R1\\n', 'NELFA\\n', 'ELP4\\n', 'CTSS\\n', 'MAFK\\n', 'OR8G5\\n', 'B4GALT5\\n', 'CEP70\\n', 'CCZ1\\n', 'OR5D13\\n', 'IRAK1\\n', 'CCR5\\n', 'NDRG1\\n', 'KLHL42\\n', 'MMP19\\n', 'H3C2\\n', 'CCL20\\n', 'APLNR\\n', 'TCF7L1\\n', 'OR4A15\\n', 'DDX39A\\n', 'FBXO41\\n', 'CCNF\\n', 'TFDP1\\n', 'USP12\\n', 'GTF3C5\\n', 'TCN1\\n', 'CENPK\\n', 'RAD18\\n', 'HNRNPM\\n', 'CDC16\\n', 'AOX1\\n', 'UBE2G2\\n', 'OR5F1\\n', 'OR2L2\\n', 'WEE1\\n', 'DCTN6\\n', 'MAGOH\\n', 'GJB3\\n', 'GPR39\\n', 'CENPI\\n', 'FGF6\\n', 'OR5B17\\n', 'CCT2\\n', 'SLC2A3\\n', 'CCR10\\n', 'RACGAP1\\n', 'HBG1\\n', 'LIN7C\\n', 'PAK1\\n', 'OR2J3\\n', 'USP11\\n', 'DROSHA\\n', 'DENND2A\\n', 'VPS36\\n', 'ARHGAP31\\n', 'RPA3\\n', 'ZNF250\\n', 'AMER1\\n', 'RANBP2\\n', 'CDKN2A\\n', 'GBP6\\n', 'ZNF589\\n', 'GIP\\n', 'PELI1\\n', 'SRI\\n', 'TMBIM1\\n', 'YWHAE\\n', 'PRKCG\\n', 'NCK1\\n', 'ZNF777\\n', 'KRT12\\n', 'KIF3B\\n', 'ORM1\\n', 'ADAM8\\n', 'DNASE1L1\\n', 'FURIN\\n', 'PRR5\\n', 'ATF2\\n', 'EAF1\\n', 'CNOT4\\n', 'PROC\\n', 'FBXO6\\n', 'RDH8\\n', 'FAM120B\\n', 'RFC4\\n', 'ZNF140\\n', 'CD59\\n', 'OR8K3\\n', 'RBM8A\\n', 'RPP30\\n', 'SRSF6\\n', 'KLF4\\n', 'SLC18A3\\n', 'PPP2R5C\\n', 'TRAF1\\n', 'IL2RG\\n', 'TOPBP1\\n', 'IL1A\\n', 'NABP2\\n', 'CAPNS1\\n', 'GTF2E1\\n', 'QSOX1\\n', 'H2AC1\\n', 'C4B\\n', 'PDGFRA\\n', 'FCN1\\n', 'ADAMTS7\\n', 'DTX2\\n', 'NID1\\n', 'SULT1A3\\n', 'KIF13B\\n', 'SF3B3\\n', 'KLK13\\n', 'TGS1\\n', 'SRSF9\\n', 'STXBP2\\n', 'DCAF13\\n', 'GPC1\\n', 'OR2L8\\n', 'PTPRC\\n', 'GTF2A2\\n', 'OR4C11\\n', 'CD36\\n', 'OR4C12\\n', '155030\\n', 'KRBA1\\n', 'PERP\\n', 'FBXL8\\n', 'ZNF420\\n', 'CDC14B\\n', 'ZNF43\\n', 'KRT74\\n', 'ADCY5\\n', 'N6AMT1\\n', 'RING1\\n', 'USP4\\n', 'TMED7-TICAM2\\n', 'GP1BA\\n', 'MLH3\\n', 'OPN1SW\\n', 'ANAPC16\\n', 'ECHS1\\n', 'PGLYRP1\\n', 'OASL\\n', 'LCE2C\\n', 'KLHL9\\n', 'SNRNP48\\n', 'HEY2\\n', 'NCF4\\n', 'SYT5\\n', 'ZNF471\\n', 'TERF2\\n', 'CBX4\\n', 'MAGED1\\n', 'OR51D1\\n', 'TRAT1\\n', 'ZC3H11A\\n', 'ZNF433\\n', 'ALS2\\n', 'OR5C1\\n', 'LAMB3\\n', 'ZNF347\\n', 'INTS8\\n', 'KRT84\\n', 'ZNF529\\n', 'ZNF610\\n', 'RPS8\\n', 'FBXW2\\n', 'PJA1\\n', 'OR2A25\\n', 'ZNF224\\n', 'TRIM5\\n', 'GUSB\\n', 'OR2D2\\n', 'CSNK2A2\\n', 'CUL9\\n', 'SH3GL2\\n', 'AGGF1\\n', 'FOS\\n', 'NGF\\n', 'FGFR1\\n', 'TAOK1\\n', 'CENPN\\n', 'RPS23\\n', 'PTAFR\\n', 'OR4X1\\n', 'ZNF311\\n', 'VNN1\\n', 'DCTN5\\n', 'ITGAX\\n', 'ZNF440\\n', 'PDPR\\n', 'LNX1\\n', 'AP1S1\\n', 'VAMP8\\n', 'ATP1B1\\n', 'PRKACB\\n', 'OR4P4\\n', 'KRT15\\n', 'FXYD3\\n', 'CDC27\\n', 'EBF1\\n', 'RAB35\\n', 'OR6Y1\\n', 'AP2B1\\n', 'STIP1\\n', 'PCNT\\n', 'AP2M1\\n', 'TUBG2\\n', 'PSMB5\\n', 'TBC1D10C\\n', 'COL11A2\\n', 'MS4A3\\n', 'ORC6\\n', 'NAPA\\n', 'MID1\\n', 'PBX1\\n', 'ZNF530\\n', 'POLR3GL\\n', 'ACADSB\\n', 'HLA-G\\n', 'KLHL25\\n', 'PSAP\\n', 'NOL12\\n', 'HGF\\n', 'COG6\\n', 'CDK11B\\n', 'ADH6\\n', 'GPR143\\n', 'ADH1B\\n', 'KLRF1\\n', 'TRIM10\\n', 'FZD5\\n', 'PREB\\n', 'IFT140\\n', 'OR5B3\\n', 'PHF20\\n', 'OR1L6\\n', 'BLOC1S1\\n', 'ZNF696\\n', 'KLHL5\\n', 'SLC16A7\\n', 'INO80\\n', 'SHISA5\\n', 'CDK8\\n', 'TSPAN5\\n', 'RIPK2\\n', 'SKP1\\n', 'PERM1\\n', 'CEP89\\n', 'UBE2D2\\n', 'ASB15\\n', 'RPS5\\n', 'RNF14\\n', 'BBOX1\\n', 'ZNRF2\\n', 'XPO1\\n', 'SPTBN1\\n', 'PSMC2\\n', 'GPR55\\n', 'ZNF234\\n', 'CD200\\n', 'OCRL\\n', 'TBX5\\n', 'PHYKPL\\n', 'PPP2R1B\\n', 'NANOG\\n', 'RAB33B\\n', 'LTA4H\\n', 'OR1A1\\n', 'CNOT1\\n', 'ZNF655\\n', 'UBA7\\n', 'RGS13\\n', 'OR51I2\\n', 'GNG4\\n', 'HLA-E\\n', 'RAF1\\n', 'RGS1\\n', 'OR51B4\\n', 'CCT8\\n', 'GTF2F1\\n', 'EPHA4\\n', 'OR2V2\\n', 'TRIM45\\n', 'DNM1\\n', 'POLR3C\\n', 'TRNT1\\n', 'TFB2M\\n', 'MVP\\n', 'ZNF649\\n', 'RGR\\n', 'TOP2B\\n', 'SMARCA2\\n', 'GRIN2B\\n', 'PTGIS\\n', 'ERBB2\\n', 'IGLL1\\n', 'EVL\\n', 'RAB21\\n', 'TAF15\\n', 'UCN\\n', 'HNRNPH2\\n', 'ZKSCAN5\\n', 'ALDH9A1\\n', 'CHMP3\\n', 'NUP210\\n', 'NELFCD\\n', 'OR2AG1\\n', 'LRRTM2\\n', 'IL23A\\n', 'PSMD8\\n', 'CYP17A1\\n', 'HECW2\\n', 'SMARCA5\\n', 'LHFPL2\\n', 'SVIP\\n', 'ATG7\\n', 'GPX7\\n', 'PLCG1\\n', 'COL4A3\\n', 'GNGT1\\n', 'ZNF577\\n', 'COL6A2\\n', 'ITGB1\\n', 'XCR1\\n', 'CACNA1H\\n', 'H2AC15\\n', 'HTR1B\\n', 'EPHA10\\n', 'ERCC8\\n', 'ZNF274\\n', 'LAMA3\\n', 'SPTSSA\\n', 'ZNF747\\n', 'RPLP1\\n', 'UGT1A3\\n', 'POLR3G\\n', 'CDK9\\n', 'PDGFA\\n', 'ANAPC1\\n', 'EDEM2\\n', 'FGF23\\n', 'KIF18A\\n', 'TRIM3\\n', 'NFE2\\n', 'RGS9\\n', 'GAPVD1\\n', 'OR8B4\\n', 'ADRA1D\\n', 'DEK\\n', 'INTS4\\n', 'OR7G3\\n', 'H2BC12\\n', 'PIK3R2\\n', 'KCNS3\\n', 'MMP11\\n', 'IL3RA\\n', 'ESPL1\\n', 'RHOJ\\n', 'HNRNPC\\n', 'P2RX1\\n', 'TAS1R3\\n', 'RPSA\\n', 'PRDM7\\n', 'KRT82\\n', 'ZNF333\\n', 'KSR1\\n', 'NR2F6\\n', 'OR5M8\\n', 'MED17\\n', 'CTSA\\n', 'COL24A1\\n', 'MEX3C\\n', 'AVP\\n', 'EVA1A\\n', 'ZNF300\\n', 'ZNF664\\n', 'TAF4B\\n', 'ARHGAP32\\n', 'CSNK1A1\\n', 'POLR1A\\n', 'ADORA2A\\n', 'IL2RA\\n', 'MMP10\\n', 'OR5L2\\n', 'SETD2\\n', 'CALCA\\n', 'APLN\\n', 'OR4C6\\n', 'GREB1\\n', 'CETN2\\n', 'CSH1\\n', 'TRIM32\\n', 'MAML1\\n', 'MTARC2\\n', 'RGS18\\n', 'OR52B6\\n', 'GALR3\\n', 'OR8H3\\n', 'TRAPPC6A\\n', 'NFASC\\n', 'RPL24\\n', 'RBBP5\\n', 'COX8A\\n', 'NUP54\\n', 'NEURL2\\n', 'NME2\\n', 'ZNF138\\n', 'HRNR\\n', 'AGTRAP\\n', 'OR8U3\\n', 'NCAM1\\n', 'BUD23\\n', 'COL20A1\\n', 'TGM1\\n', 'PRPF4\\n', 'PTGER3\\n', 'ZNF99\\n', 'LRSAM1\\n', 'SKP2\\n', 'SLC32A1\\n', 'OR51H1\\n', 'SFTPC\\n', 'RAP1B\\n', 'MANF\\n', 'RASA1\\n', 'PYGL\\n', 'SNCA\\n', 'SGPP1\\n', 'UBE2U\\n', 'VWF\\n', 'TLE3\\n', 'WAPL\\n', 'GDI2\\n', 'COPS8\\n', 'ZNF304\\n', 'CAV1\\n', 'NAPG\\n', 'ZNF334\\n', 'MYO5A\\n', 'CENPH\\n', 'NRG4\\n', 'OR4D9\\n', 'HTR4\\n', 'COL9A3\\n', 'TFDP2\\n', 'AGO4\\n', 'NLGN4Y\\n', 'BIN2\\n', 'IL3\\n', 'SPRR2D\\n', 'TAF4\\n', 'MFAP3\\n', 'PEX11A\\n', 'ZNF184\\n', 'PPIE\\n', 'KRTAP10-9\\n', 'WDTC1\\n', 'PAK2\\n', 'MSL3\\n', 'HEYL\\n', 'TUBGCP5\\n', 'MDM2\\n', 'LAMB2\\n', 'PIK3C2A\\n', 'PSG11\\n', 'ZDHHC7\\n', 'GOLM1\\n', 'XCL1\\n', 'VPS28\\n', 'KRTAP29-1\\n', 'FOXO4\\n', 'BCAT1\\n', 'RELB\\n', 'ZNF302\\n', 'OR10J5\\n', 'EEF1A1\\n', 'CYP2E1\\n', 'PPP2CA\\n', 'CTNNB1\\n', 'COPS7A\\n', 'HABP4\\n', 'RAPGEF2\\n', 'ALCAM\\n', 'WDR45B\\n', 'ZNF223\\n', 'OR9A2\\n', 'CEP78\\n', 'HIPK2\\n', 'ICAM2\\n', 'PPARGC1B\\n', 'PCBP2\\n', 'OR2F2\\n', 'PRELP\\n', '956532\\n', 'LAS1L\\n', 'ZNF33B\\n', 'ZNF430\\n', 'MLNR\\n', 'NOB1\\n', 'FBXO22\\n', 'NDUFS4\\n', 'STMN1\\n', 'LAMTOR5\\n', 'KLC4\\n', 'AGFG1\\n', 'GALNS\\n', 'CBLL2\\n', 'NCOA6\\n', 'ZNF552\\n', 'IL18BP\\n', 'CREBBP\\n', 'TUBGCP6\\n', 'VIM\\n', 'NOS3\\n', 'LHX3\\n', 'G6PD\\n', 'NCAN\\n', 'IKBKB\\n', 'PRDX2\\n', 'PPIL3\\n', 'OR5I1\\n', 'OBSCN\\n', 'HBA1\\n', 'ZNF614\\n', 'CDKN2B\\n', 'KRTAP10-12\\n', 'DVL1\\n', 'CUL1\\n', 'EXOSC9\\n', 'IGFBP1\\n', 'ST6GALNAC4\\n', 'UBE2D4\\n', 'PARN\\n', 'TAF1B\\n', 'SULT1A2\\n', 'ADSS2\\n', 'OR7G1\\n', 'RBX1\\n', 'TAS2R5\\n', 'KIF26A\\n', 'OR2G6\\n', 'CST3\\n', 'TAAR1\\n', 'PPBP\\n', 'IL12A\\n', 'ATP1A2\\n', 'GHRH\\n', 'TOPORS\\n', 'OR8J1\\n', 'MYL9\\n', 'CD96\\n', 'WDR5\\n', 'GRP\\n', 'CHD9\\n', 'FMNL3\\n', 'ZNF597\\n', 'POLR2K\\n', 'USP47\\n', 'KRTAP21-3\\n', 'OR10AD1\\n', 'RNF5\\n', 'USP17L30\\n', 'ZNF442\\n', 'CD300LG\\n', 'TLR4\\n', 'ATP6V1B1\\n', 'KIF11\\n', 'DSC1\\n', 'KCMF1\\n', 'GRN\\n', 'STAT5B\\n', 'H2BC1\\n', 'NDUFC2\\n', 'FBXL7\\n', 'IRS2\\n', 'OR2B3\\n', 'MMP2\\n', 'SRC\\n', 'OR10A5\\n', 'DSG2\\n', 'GPSM1\\n', 'THOC2\\n', 'STARD13\\n', 'ZNF764\\n', 'KIF4B\\n', 'CARM1\\n', 'OR4F5\\n', 'PDE6A\\n', 'P4HA3\\n', 'RHOG\\n', 'ESRP1\\n', 'RBCK1\\n', 'MARK3\\n', 'ARHGAP23\\n', 'MED1\\n', 'ZNF730\\n', 'AREG\\n', 'SSR1\\n', 'OR13F1\\n', 'CLCN2\\n', 'AHR\\n', 'SUPT4H1\\n', 'PRKAR2A\\n', 'KIF5A\\n', 'COL6A5\\n', 'MSL2\\n', 'COL4A5\\n', 'EDN1\\n', 'KIF19\\n', 'CD58\\n', '728929\\n', 'WDR3\\n', 'EHMT1\\n', 'HERC1\\n', 'HADHA\\n', 'PMF1-BGLAP\\n', 'SPSB3\\n', 'ATP13A5\\n', 'IL2RB\\n', 'FCER1G\\n', 'HOMER1\\n', 'CBX2\\n', 'APP\\n', 'PPP3CA\\n', 'ACTL6A\\n', 'PRL\\n', 'GAPDH\\n', 'RNF7\\n', 'KLRK1\\n', 'STAT4\\n', 'NDUFB5\\n', 'CCAR1\\n', 'HOXD1\\n', 'NLN\\n', 'CRYM\\n', 'S1PR1\\n', 'SLAMF7\\n', 'PRKCQ\\n', 'SLC6A13\\n', 'NR4A3\\n', 'COPA\\n', 'PTPRN2\\n', 'ALDOB\\n', 'MAPK11\\n', 'USP33\\n', 'OR5AC2\\n', 'CCT3\\n', 'RMI2\\n', 'PPFIA1\\n', 'OR4M2\\n', 'GPR4\\n', 'HMGA1\\n', 'ZNF484\\n', 'ZNF675\\n', 'QRFP\\n', 'KLHL21\\n', 'ZNF772\\n', 'MAT2B\\n', 'MED27\\n', 'ACKR4\\n', 'ALDH3A2\\n', 'IFT27\\n', 'HBEGF\\n', 'OR10C1\\n', 'PLCB1\\n', 'MED22\\n', 'ICOS\\n', 'UBE2H\\n', 'RSPO2\\n', 'FGF8\\n', 'SNU13\\n', 'P2RY12\\n', 'PTBP1\\n', 'SET\\n', 'RPL39\\n', 'AGTR1\\n', 'PDGFRB\\n', 'NCOA3\\n', 'BCKDHA\\n', 'RAD17\\n', 'CABLES2\\n', 'EYA1\\n', 'REEP4\\n', 'LSM5\\n', 'USP19\\n', 'OR10J3\\n', 'HDAC2\\n', 'CSTF2T\\n', 'RAB3A\\n', 'APOBEC3G\\n', 'NDUFA6\\n', 'RPA2\\n', 'OR4K5\\n', 'UBE2L3\\n', 'PSME4\\n', 'ZDHHC21\\n', 'OR51F2\\n', 'LMAN2\\n', 'IL1RN\\n', 'CLASP2\\n', 'ATP6V1D\\n', 'SARS1\\n', 'PPM1A\\n', 'GRK2\\n', 'TAF9B\\n', 'TAS2R8\\n', 'ANAPC5\\n', 'POLR2H\\n', 'BCAS2\\n', 'TSR1\\n', 'SPTAN1\\n', 'LPAR6\\n', 'MS4A2\\n', 'ALDH3B1\\n', 'CENPE\\n', 'RNASE1\\n', 'LIMK1\\n', 'ZNF317\\n', 'RFC5\\n', 'RXFP4\\n', 'TUBGCP2\\n', 'AHCTF1\\n', 'SRGN\\n', 'RAP2C\\n', 'P2RY13\\n', 'RPL18\\n', 'FCF1\\n', 'NEDD1\\n', 'GPC4\\n', 'ZNF460\\n', 'IST1\\n', 'ZNF737\\n', 'COL15A1\\n', 'PSIP1\\n', 'H2AC4\\n', 'ELL\\n', 'F9\\n', 'NUP214\\n', 'DLG4\\n', 'MED14\\n', 'PAXIP1\\n', 'OR1S1\\n', 'KRTAP3-2\\n', 'USP21\\n', 'ZNF540\\n', 'H2AC8\\n', 'COX6B1\\n', 'ERCC5\\n', 'MYDGF\\n', 'ZNF101\\n', 'ZNF700\\n', 'GFRA1\\n', 'MAP2K6\\n', 'RAB6B\\n', 'BMP4\\n', 'CLU\\n', 'ZNF616\\n', 'TGFBR2\\n', 'PABPC1\\n', 'CLEC12A\\n', 'EIF3A\\n', 'UNC79\\n', 'ABCB5\\n', 'CNTN1\\n', 'HDAC4\\n', 'CTSZ\\n', 'OR2A12\\n', 'PKP4\\n', 'PABPN1\\n', 'APOA5\\n', 'KRT71\\n', 'TRAIP\\n', 'PHF19\\n', 'SNRPD3\\n', 'RAB18\\n', 'KPNB1\\n', 'MPIG6B\\n', 'HECTD1\\n', 'FGF2\\n', 'PTK2B\\n', 'TGM5\\n', 'OR2G3\\n', 'DTX1\\n', 'OR1G1\\n', 'CD93\\n', 'DNMT3B\\n', 'C12orf66\\n', 'OR8U1\\n', 'KRTAP1-4\\n', 'SNRPA1\\n', 'GOSR2\\n', 'TNFRSF1B\\n', 'GABBR1\\n', 'CYSLTR2\\n', 'INTS2\\n', 'CEP43\\n', 'ABCG2\\n', 'UBAC1\\n', 'SLC2A5\\n', 'GNAI2\\n', 'KIF21B\\n', 'CC2D2A\\n', 'OR52E4\\n', 'ARF6\\n', 'CPB1\\n', 'IER3\\n', 'SUPT3H\\n', 'IL7R\\n', 'PRPF8\\n', 'ZNF100\\n', 'CLOCK\\n', 'FGF4\\n', 'PLEKHO2\\n', 'ZNF599\\n', 'TAF13\\n', 'GAB1\\n', 'HLA-DOA\\n', 'MED24\\n', 'ALAS1\\n', 'CIAO2B\\n', 'RPS25\\n', 'TAS2R3\\n', 'H2BC10\\n', 'ARHGAP44\\n', 'OXGR1\\n', 'ELANE\\n', 'RHOA\\n', 'ACD\\n', 'ZNF18\\n', 'OSM\\n', 'SCUBE3\\n', 'COMMD9\\n', 'UBR4\\n', 'NEDD4L\\n', 'OR10H3\\n', 'GTF2E2\\n', 'CXCL16\\n', 'BLMH\\n', 'SNW1\\n', 'OR4C5\\n', 'NAPB\\n', 'CYP4A11\\n', 'EPN1\\n', 'OR6Q1\\n', 'FZR1\\n', 'MAML3\\n', 'ARHGAP1\\n', 'USP17L10\\n', 'TERT\\n', 'SF3B6\\n', 'LEF1\\n', 'EDNRB\\n', 'TUBGCP3\\n', 'CCP110\\n', 'SUMO3\\n', 'ATG14\\n', 'ADH1C\\n', 'OR7E24\\n', 'SFTPD\\n', 'GNAT2\\n', 'LMO7\\n', 'DCAF16\\n', 'GNA12\\n', 'OR2T5\\n', 'ATP6V0A1\\n', 'NSD2\\n', 'GPR84\\n', 'OR4K15\\n', 'SUZ12\\n', 'NXT1\\n', 'CD9\\n', 'TAPBP\\n', 'ZNF692\\n', 'KIFC2\\n', 'LDHA\\n', 'OR4F3\\n', 'H2BC17\\n', 'ACTR8\\n', 'GGPS1\\n', 'FRS2\\n', 'KCNJ11\\n', 'ITGA6\\n', 'AKR1D1\\n', 'CD86\\n', 'PDAP1\\n', 'KRT83\\n', 'PUF60\\n', 'TREM1\\n', 'CTSH\\n', 'UBR2\\n', 'OR4D10\\n', 'CCK\\n', 'MRTFA\\n', 'CYLD\\n', 'ZNF662\\n', 'RAB24\\n', 'ZNF266\\n', 'HDAC11\\n', 'B4GALT1\\n', 'OR51G2\\n', 'POLR2C\\n', 'OSTM1\\n', 'UBE2F\\n', 'ARSG\\n', 'ZNF221\\n', 'DEFA1\\n', 'SEC61A2\\n', 'RNF103-CHMP3\\n', 'TAS2R41\\n', 'OR5A2\\n', 'TRIM48\\n', 'SPARC\\n', 'DCUN1D1\\n', 'THOC1\\n', 'POLA1\\n', 'ANO10\\n', 'DCN\\n', 'CKAP5\\n', 'TAS2R16\\n', 'ZNF473\\n', 'PTGER2\\n', 'H4C14\\n', 'ZIM3\\n', 'TEX10\\n', 'MCM3\\n', 'KRTAP19-2\\n', 'ZNF668\\n', 'OR1I1\\n', 'ARHGAP6\\n', 'NPC2\\n', 'RAD51\\n', 'ITGAL\\n', 'UBE2E1\\n', 'NUP85\\n', 'SLC25A12\\n', 'AGTR2\\n', 'HBB\\n', 'FEM1A\\n', 'RNF4\\n', 'KRT81\\n', 'EPS15L1\\n', 'SRSF2\\n', 'SLC22A3\\n', 'CNOT9\\n', 'PRMT6\\n', 'KMT2D\\n', 'TWIST1\\n', 'H2AW\\n', 'SMAD7\\n', '3802042\\n', 'IMP3\\n', 'KRTAP24-1\\n', 'ARG1\\n', 'ZNF567\\n', 'LAMC1\\n', 'RPS24\\n', 'RAD50\\n', 'RGS22\\n', 'COMT\\n', 'RPL12\\n', 'RLN3\\n', 'TRIB3\\n', 'CXCL1\\n', 'CHEK2\\n', 'DYNC1LI1\\n', 'DZIP3\\n', 'GM2A\\n', 'FBXW9\\n', 'FRMPD3\\n', 'ZNF519\\n', 'HOXC4\\n', 'DCUN1D3\\n', 'NLRX1\\n', 'H2AC14\\n', 'DBI\\n', 'EBNA1BP2\\n', 'TAF7L\\n', 'KCNC2\\n', 'LAMTOR3\\n', 'PKP1\\n', 'KIF1C\\n', 'ZNF257\\n', 'SRP9\\n', 'MFGE8\\n', 'CTSW\\n', 'CD33\\n', 'C3AR1\\n', 'ADCY7\\n', 'COMMD6\\n', 'TP53BP1\\n', 'ARHGAP11B\\n', 'IGFALS\\n', 'PTK2\\n', 'TMEM67\\n', 'STBD1\\n', 'ARPC2\\n', 'OR10G3\\n', 'CEP135\\n', 'TXK\\n', 'LEO1\\n', 'WASF2\\n', 'CDK1\\n', 'ZNF343\\n', 'HRG\\n', 'OR4C3\\n', 'OAZ2\\n', 'CAPN14\\n', 'GNAO1\\n', 'RPL30\\n', 'KMT2A\\n', 'TAF10\\n', 'S100P\\n', 'OR4A16\\n', 'CCKAR\\n', 'S1PR5\\n', 'XRCC6\\n', 'BABAM2\\n', 'FPR1\\n', 'OR8K1\\n', 'ZNF583\\n', 'CCNC\\n', 'PLXNB1\\n', 'ARHGEF40\\n', 'OR5B21\\n', 'DMAP1\\n', 'ARF3\\n', 'CAND1\\n', 'DNAJA4\\n', 'ARF1\\n', 'SOCS6\\n', 'GNG2\\n', 'CSF3\\n', 'ULK3\\n', 'PHC2\\n', 'TMED3\\n', 'PHF21A\\n', 'ERCC4\\n', 'PYGO1\\n', 'SPC24\\n', 'MYB\\n', 'KRTAP4-9\\n', 'ZNF267\\n', 'RYR2\\n', 'BIRC2\\n', 'OR2T27\\n', 'ZFP37\\n', 'ACOX2\\n', 'MAP3K1\\n', 'RTP1\\n', 'SLC6A12\\n', 'KRT8\\n', 'HAUS1\\n', 'OR2M4\\n', 'GMIP\\n', 'EREG\\n', 'RBM4\\n', 'PNPLA5\\n', 'ZNF79\\n', 'ZNF621\\n', 'ASB17\\n', 'ZNF23\\n', 'CEP76\\n', 'CDCA5\\n', 'LILRB3\\n', 'EXOSC7\\n', 'TADA1\\n', 'RPS12\\n', 'OR10P1\\n', 'SRSF5\\n', 'RFC2\\n', 'IFT57\\n', 'HP\\n', 'OR13C5\\n', 'OR1B1\\n', '956528\\n', 'EIF3L\\n', 'F13A1\\n', 'FBXO15\\n', 'CXCR1\\n', 'PRDX6\\n', 'TNFRSF11A\\n', 'ABI1\\n', 'GRB2\\n', 'CEACAM1\\n', 'NRG2\\n', 'ACER3\\n', 'CDKN2C\\n', 'CAV2\\n', 'USP25\\n', 'PIK3R3\\n', 'SOX2\\n', 'ZNF544\\n', 'SPSB4\\n', 'TXNRD1\\n', 'COMMD2\\n', 'SNRNP27\\n', 'CAPN12\\n', 'RAB41\\n', 'DZIP1\\n', 'CLEC3B\\n', 'PTPN11\\n', 'ILF2\\n', 'MED26\\n', 'FDPS\\n', 'ALDH1B1\\n', 'ZNF461\\n', 'OR1S2\\n', 'OR2L5\\n', 'ULK1\\n', 'PEMT\\n', 'DNAJB1\\n', 'FABP7\\n', 'RPL9\\n', 'RASGRP3\\n', 'ZFP69\\n', 'AP1G1\\n', 'NEO1\\n', 'EGLN3\\n', 'OR6N1\\n', 'KRTAP1-5\\n', 'TBL3\\n', 'SLC22A5\\n', 'RAB14\\n', 'PSMA7\\n', 'ZNF792\\n', 'GPR37\\n', 'NOC4L\\n'], np.int64(902): ['SNCAIP\\n'], np.int64(903): ['ATP5MC3\\n', 'TIMM17A\\n'], np.int64(904): ['AK7\\n'], np.int64(905): ['SNAPIN\\n', 'DNAJC6\\n'], np.int64(906): ['LSM6\\n'], np.int64(907): ['CLDN15\\n'], np.int64(908): ['RAB30\\n'], np.int64(909): ['SGK2\\n'], np.int64(910): ['NNT\\n'], np.int64(911): ['LTV1\\n'], np.int64(912): ['EXOC6\\n', 'KIF5C\\n'], np.int64(913): ['MERTK\\n'], np.int64(914): ['MT-ATP6\\n'], np.int64(915): ['FSTL3\\n', 'MIA3\\n'], np.int64(916): ['PITRM1\\n'], np.int64(917): ['BET1\\n'], np.int64(918): ['TNNT3\\n'], np.int64(919): ['HDGF\\n'], np.int64(920): ['TBC1D8B\\n'], np.int64(921): ['B3GLCT\\n', 'ADAMTS12\\n'], np.int64(922): ['IAPP\\n', 'THRB\\n'], np.int64(923): ['AKAP1\\n'], np.int64(924): ['ARSD\\n'], np.int64(925): ['MRPL52\\n', 'MRPL9\\n', 'MRPL44\\n', 'MRPS26\\n', 'CHCHD1\\n', 'MRPS31\\n', 'MRPL53\\n', 'MRPL50\\n', 'DAP3\\n', 'MRPS6\\n', 'MRPL36\\n', 'MRPL39\\n', 'MRPL35\\n', 'AURKAIP1\\n', 'MRPL49\\n', 'MRPS25\\n', 'MRPS27\\n', 'MRPS28\\n', 'MRPL14\\n', 'MRPS23\\n', 'MRPL38\\n', 'MRPL10\\n', 'MRPL40\\n', 'MRPS11\\n', 'MRPS9\\n', 'MRPL32\\n', 'MTFMT\\n', 'MRPS33\\n', 'MRPL34\\n', 'MRPS24\\n', 'MRPS18A\\n', 'MRPS17\\n', 'MRPL1\\n', 'MRPL22\\n', 'GFM2\\n', 'OXA1L\\n', 'MRPS14\\n', 'MRPL30\\n', 'MRPS10\\n', 'MRPL51\\n', 'MRPL54\\n', 'TSFM\\n', 'MRPL58\\n', 'MRPL27\\n', 'MRPL42\\n', 'MRPL24\\n', 'MRPS36\\n', 'MRPL12\\n', 'MRPS16\\n', 'TUFM\\n', 'MRPL21\\n', 'MRPL48\\n', 'GADD45GIP1\\n', 'MRPS34\\n', 'MRPL43\\n', 'MRPS30\\n', 'MRPS21\\n', 'ERAL1\\n', 'MTRF1L\\n', 'MRPL57\\n', 'MRPL19\\n', 'MRPS2\\n', 'MRPL28\\n', 'MRPS15\\n', 'PTCD3\\n', 'MRPS35\\n', 'MRPL47\\n', 'MRPL11\\n', 'MRPL55\\n', 'MRPL33\\n', 'MRPL41\\n', 'MRPL15\\n', 'MRPL16\\n', 'MRPS12\\n', 'MRPL4\\n', 'MRPL18\\n', 'MRPL23\\n', 'MRPS22\\n', 'MRPL46\\n'], np.int64(926): ['TNFSF11\\n'], np.int64(927): ['CITED1\\n'], np.int64(928): ['CD200R1\\n', 'LILRA1\\n', 'THBS2\\n'], np.int64(929): ['SEC22A\\n'], np.int64(930): ['WDR35\\n', 'DYNC2LI1\\n'], np.int64(931): ['ADSL\\n'], np.int64(932): ['WBP4\\n', 'SF3A2\\n'], np.int64(933): ['EPHA8\\n', 'MYL12A\\n', 'GIT1\\n', 'EPHB1\\n'], np.int64(934): ['GCNT1\\n', 'ST3GAL4\\n'], np.int64(935): ['SLC9A9\\n'], np.int64(936): ['KIR2DL2\\n', 'MICA\\n', 'SIGLEC7\\n', 'JAML\\n'], np.int64(937): ['ME2\\n'], np.int64(938): ['GOLIM4\\n'], np.int64(939): ['KRT25\\n', 'KRTAP6-1\\n', 'KRT27\\n'], np.int64(940): ['KCNK4\\n'], np.int64(941): ['MSLN\\n'], np.int64(942): ['NOP58\\n', 'EXOSC10\\n'], np.int64(943): ['MRPS18C\\n'], np.int64(944): ['ZNF732\\n'], np.int64(945): ['KMT5A\\n'], np.int64(946): ['PYGO2\\n'], np.int64(947): ['TSR3\\n'], np.int64(948): ['RHOT2\\n', 'ARHGEF38\\n', 'SOS2\\n']}\n",
      "********************\n",
      "distance_matrix\n",
      "[[0.  0.8 0.8 ... 0.8 0.6 0.8]\n",
      " [0.8 0.  0.8 ... 0.8 0.8 0.8]\n",
      " [0.8 0.8 0.  ... 0.8 0.8 0. ]\n",
      " ...\n",
      " [0.8 0.8 0.8 ... 0.  0.8 0.8]\n",
      " [0.6 0.8 0.8 ... 0.8 0.  0.8]\n",
      " [0.8 0.8 0.  ... 0.8 0.8 0. ]]\n",
      "********************\n"
     ]
    }
   ],
   "source": [
    "#| eval: false\n",
    "for key in cmmd_output.keys():\n",
    "    print(key)\n",
    "    print(cmmd_output[key])\n",
    "    print(\"*\" * 20)"
   ]
  },
  {
   "cell_type": "code",
   "execution_count": 11,
   "metadata": {},
   "outputs": [
    {
     "data": {
      "text/plain": [
       "(5609, 5609)"
      ]
     },
     "execution_count": 11,
     "metadata": {},
     "output_type": "execute_result"
    }
   ],
   "source": [
    "#| eval: false\n",
    "cmmd_output[\"distance_matrix\"].shape"
   ]
  },
  {
   "cell_type": "code",
   "execution_count": 12,
   "metadata": {},
   "outputs": [
    {
     "data": {
      "text/plain": [
       "array([[0. , 0.8, 0.8, ..., 0.8, 0.6, 0.8],\n",
       "       [0.8, 0. , 0.8, ..., 0.8, 0.8, 0.8],\n",
       "       [0.8, 0.8, 0. , ..., 0.8, 0.8, 0. ],\n",
       "       ...,\n",
       "       [0.8, 0.8, 0.8, ..., 0. , 0.8, 0.8],\n",
       "       [0.6, 0.8, 0.8, ..., 0.8, 0. , 0.8],\n",
       "       [0.8, 0.8, 0. , ..., 0.8, 0.8, 0. ]])"
      ]
     },
     "execution_count": 12,
     "metadata": {},
     "output_type": "execute_result"
    }
   ],
   "source": [
    "#| eval: false\n",
    "dm = cmmd_output[\"distance_matrix\"]\n",
    "dm"
   ]
  },
  {
   "cell_type": "code",
   "execution_count": 13,
   "metadata": {},
   "outputs": [
    {
     "data": {
      "text/plain": [
       "array([0. , 0.2, 0.4, 0.6, 0.8, 1. ])"
      ]
     },
     "execution_count": 13,
     "metadata": {},
     "output_type": "execute_result"
    }
   ],
   "source": [
    "#| eval: false\n",
    "np.unique(dm)"
   ]
  },
  {
   "cell_type": "code",
   "execution_count": 14,
   "metadata": {},
   "outputs": [
    {
     "data": {
      "image/png": "[encoded data removed]",
      "text/plain": [
       "<Figure size 640x480 with 1 Axes>"
      ]
     },
     "metadata": {},
     "output_type": "display_data"
    }
   ],
   "source": [
    "#| eval: false\n",
    "sns.histplot(cmmd_output[\"distance_matrix\"].flatten(), stat=\"density\");"
   ]
  },
  {
   "cell_type": "code",
   "execution_count": 15,
   "metadata": {},
   "outputs": [
    {
     "data": {
      "text/plain": [
       "array([[938, 924, 983, 960, 901],\n",
       "       [736, 751, 644, 860, 901],\n",
       "       [951, 941, 930, 947, 901],\n",
       "       ...,\n",
       "       [848, 986, 961, 896, 901],\n",
       "       [789, 924, 971, 944, 901],\n",
       "       [951, 941, 930, 947, 901]])"
      ]
     },
     "execution_count": 15,
     "metadata": {},
     "output_type": "execute_result"
    }
   ],
   "source": [
    "#| eval: false\n",
    "gcm = cmmd_output[\"gene_community_matrix\"]\n",
    "gcm"
   ]
  },
  {
   "cell_type": "code",
   "execution_count": 16,
   "metadata": {},
   "outputs": [
    {
     "data": {
      "text/plain": [
       "(5609, 5)"
      ]
     },
     "execution_count": 16,
     "metadata": {},
     "output_type": "execute_result"
    }
   ],
   "source": [
    "#| eval: false\n",
    "gcm.shape"
   ]
  },
  {
   "cell_type": "code",
   "execution_count": 17,
   "metadata": {},
   "outputs": [
    {
     "data": {
      "text/plain": [
       "dict"
      ]
     },
     "execution_count": 17,
     "metadata": {},
     "output_type": "execute_result"
    }
   ],
   "source": [
    "#| eval: false\n",
    "l_constant = cmmd_output[\"l_constant\"]\n",
    "type(l_constant)"
   ]
  },
  {
   "cell_type": "code",
   "execution_count": 18,
   "metadata": {},
   "outputs": [
    {
     "data": {
      "text/plain": [
       "380"
      ]
     },
     "execution_count": 18,
     "metadata": {},
     "output_type": "execute_result"
    }
   ],
   "source": [
    "#| eval: false\n",
    "len(l_constant.keys())"
   ]
  },
  {
   "cell_type": "code",
   "execution_count": 19,
   "metadata": {},
   "outputs": [
    {
     "data": {
      "text/plain": [
       "dict_keys(['gene_community_matrix', 'l_constant', 'distance_matrix'])"
      ]
     },
     "execution_count": 19,
     "metadata": {},
     "output_type": "execute_result"
    }
   ],
   "source": [
    "cmmd_output.keys()"
   ]
  },
  {
   "cell_type": "code",
   "execution_count": null,
   "metadata": {},
   "outputs": [],
   "source": []
  }
 ],
 "metadata": {
  "kernelspec": {
   "display_name": "python3",
   "language": "python",
   "name": "python3"
  },
  "language_info": {
   "codemirror_mode": {
    "name": "ipython",
    "version": 3
   },
   "file_extension": ".py",
   "mimetype": "text/x-python",
   "name": "python",
   "nbconvert_exporter": "python",
   "pygments_lexer": "ipython3",
   "version": "3.12.5"
  }
 },
 "nbformat": 4,
 "nbformat_minor": 2
}
