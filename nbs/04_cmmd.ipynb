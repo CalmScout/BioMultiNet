{
 "cells": [
  {
   "cell_type": "markdown",
   "metadata": {},
   "source": [
    "# CmmD: Continual Multiplex network Module Detector"
   ]
  },
  {
   "cell_type": "markdown",
   "metadata": {},
   "source": [
    "Python implementation of the algorithm originally proposed in [\"The multilayer community structure of medulloblastoma\" by Iker Núñez-Carpintero et. al.](https://www.sciencedirect.com/science/article/pii/S2589004221003333).\n",
    "\n",
    "Implementation relies on [MolTi-DREAM](https://github.com/gilles-didier/MolTi-DREAM) for communities detection problem.\n",
    "\n",
    "* Make sure to add molti-console as an executable program from any directory by adding it to your ~/.bashrc file. (This file may change depending on your OS ditribution)"
   ]
  },
  {
   "cell_type": "markdown",
   "metadata": {},
   "source": [
    "## 0. Import libraries and define paths"
   ]
  },
  {
   "cell_type": "code",
   "execution_count": 27,
   "metadata": {},
   "outputs": [],
   "source": [
    "import os\n",
    "import sys\n",
    "import subprocess\n",
    "import numpy as np\n",
    "from concurrent.futures import ThreadPoolExecutor\n",
    "from scipy.spatial.distance import pdist, squareform\n",
    "import seaborn as sns\n",
    "import pickle\n",
    "from pathlib import Path\n",
    "import pathlib"
   ]
  },
  {
   "cell_type": "markdown",
   "metadata": {},
   "source": [
    "## 1. Define function for community detection"
   ]
  },
  {
   "cell_type": "code",
   "execution_count": 2,
   "metadata": {},
   "outputs": [],
   "source": [
    "def CmmD(nodelist=None, input_layers=None, resolution_start=None, resolution_end=None, interval=None, \n",
    "         distmethod=\"hamming\", threads=1, destfile_community_analysis=None):\n",
    "    \n",
    "    \"\"\"\n",
    "    Compute CmmD multilayer community trajectory analysis for a set of given networks.\n",
    "\n",
    "    Parameters\n",
    "    ----------\n",
    "    nodelist : list, optional\n",
    "        A list with the unique nodes that we want to appear in the final output. If not given, all nodes of the multiplex will be in the final output (nodelist= NULL)\n",
    "    input_layers : list\n",
    "        A vector of strings containing the paths where the different network layers are located in the system. Networks should be a two column file representing the edges of the graph.\n",
    "    resolution_start : float\n",
    "        The first gamma resolution parameter to use in the different MolTi's analysis\n",
    "    resolution_end : float\n",
    "        The last gamma resolution parameter to use in the different MolTi's analysis.\n",
    "    interval : float\n",
    "        The interval of the resolution parameter to use. \n",
    "    distmethod : str, optional\n",
    "        A distance method metric to use to compute the trajectories. Defaults to \"hamming\" for hamming distance, but accepts any other metric supplied by scipy.spatial.distance.pdist.\n",
    "    threads : int, optional\n",
    "        The number of threads to use for the computation of the distance matrix. Defaults to 1.\n",
    "    destfile_community_analysis : str, optional\n",
    "        The path to save Molti's output files. Defaults to \"Output/\".\n",
    "\n",
    "    Returns\n",
    "    -------\n",
    "    A dictionary containing the following keys:\n",
    "        gene_community_matrix: A matrix where the rows correspond to the different genes, and the columns to the different community structures. The values of the matrix are the cluster to which the gene belongs in the corresponding community structure.\n",
    "        l_constant: A dictionary where the keys are the different community structures, and the values are the list of genes that belong to that community structure.\n",
    "        distance_matrix: A matrix with the hamming distances between all pairs of genes.\n",
    "    \"\"\"\n",
    "    if input_layers is None or len(input_layers) < 1:\n",
    "        raise ValueError(\"ERROR: Input_layers argument must be a list of at least 1 network file\")\n",
    "    \n",
    "    if not isinstance(resolution_end, (int, float)):\n",
    "        raise ValueError(\"ERROR: Resolution parameter must be a number\")\n",
    "    \n",
    "    if not isinstance(resolution_start, (int, float)):\n",
    "        raise ValueError(\"ERROR: Resolution parameter must be a number\")\n",
    "    \n",
    "    if not isinstance(interval, (int, float)):\n",
    "        raise ValueError(\"ERROR: Interval value must be a number\")\n",
    "    \n",
    "    if not isinstance(destfile_community_analysis, str):\n",
    "        raise ValueError(\"ERROR: destfile_community_analysis expects a character string\")\n",
    "    \n",
    "    if not isinstance(distmethod, str):\n",
    "        raise ValueError(\"ERROR: distmethod expects a character string\")\n",
    "    \n",
    "    if not isinstance(threads, int):\n",
    "        raise ValueError(\"ERROR: Threads must be a number corresponding to the number of cores available to use\")\n",
    "\n",
    "    # Prepare inputs to generate the console order for MolTi's run.\n",
    "    layers = \" \".join(input_layers)\n",
    "    print(f\"Resolution parameter starts at: {resolution_start}\")\n",
    "    print(f\"Resolution parameter ends at: {resolution_end}\")\n",
    "    \n",
    "    resolution_interval = np.arange(resolution_start, resolution_end + interval, interval)\n",
    "    desfile_vector = [f\"{destfile_community_analysis}{res}.csv\" for res in resolution_interval]\n",
    "    \n",
    "    print(\"Starting community analysis.\")\n",
    "    \n",
    "    for i, current_resolution in enumerate(resolution_interval):\n",
    "        current_destfile = desfile_vector[i]\n",
    "        print(f\"Resolution parameter: {current_resolution}\")\n",
    "        print(f\"{current_resolution}: {os.popen('date').read().strip()}\")\n",
    "        system_order = f\"molti-console -o {current_destfile} -p {current_resolution} {layers}\"\n",
    "        subprocess.run(system_order, shell=True)\n",
    "    \n",
    "    print(\"Reading MolTi output files. Calculating Gene/Community matrix\")\n",
    "    output_files = [f for f in os.listdir(destfile_community_analysis) if \"_\" not in f]\n",
    "    \n",
    "    alllists = []\n",
    "    \n",
    "    for output_file in output_files:\n",
    "        with open(os.path.join(destfile_community_analysis, output_file), 'r') as file:\n",
    "            red = file.readlines()\n",
    "        \n",
    "        cluster_ids = [i for i, line in enumerate(red) if \"Cluster\" in line]\n",
    "        lista = []\n",
    "        \n",
    "        for j, st in enumerate(cluster_ids):\n",
    "            if j == len(cluster_ids) - 1:\n",
    "                en = len(red)\n",
    "            else:\n",
    "                en = cluster_ids[j + 1]\n",
    "            current_cluster = red[st:en]\n",
    "            current_cluster2 = current_cluster[:-2] if j != len(cluster_ids) - 1 else current_cluster[:-1]\n",
    "            lista.append(current_cluster2[1:])\n",
    "        \n",
    "        alllists.append(lista)\n",
    "    \n",
    "    allgenes = list(set([gene for sublist in alllists for cluster in sublist for gene in cluster]))\n",
    "\n",
    "    if nodelist:\n",
    "        allgenes = list(set(allgenes).intersection(nodelist))\n",
    "    \n",
    "    print(\"Files read. Calculating Gene/Community matrix\")\n",
    "    res_matrix = np.zeros((len(allgenes), len(alllists) + 1), dtype=int)\n",
    "    gene_indices = {gene: idx for idx, gene in enumerate(allgenes)}\n",
    "    \n",
    "    for j, output_file_list in enumerate(alllists):\n",
    "        for k, cluster in enumerate(output_file_list):\n",
    "            for gene in cluster:\n",
    "                res_matrix[gene_indices[gene], j] = k + 1\n",
    "    \n",
    "    patterns = [\"_\".join(map(str, res_matrix[i, :-1])) for i in range(len(allgenes))]\n",
    "    res_matrix[:, -1] = np.array(patterns, dtype=str)\n",
    "    \n",
    "    porcentajes = np.linspace(0, 100, num=21)\n",
    "    \n",
    "    for i, percentage in enumerate(np.round(np.linspace(0, 100, len(allgenes)), 4)):\n",
    "        if percentage in porcentajes:\n",
    "            print(f\"Progress: {percentage}%\")\n",
    "    \n",
    "    print(\"Gene/Community matrix calculated, calculating Hamming distances for all gene pairs. This process may take a while...\")\n",
    "    \n",
    "    gene_community_matrix = res_matrix[:, :-1].astype(int)\n",
    "    genes_same_communities = {pattern: [] for pattern in np.unique(gene_community_matrix[:,-1])}\n",
    "    \n",
    "    for i, pattern in enumerate(gene_community_matrix[:,-1]):\n",
    "        genes_same_communities[pattern].append(allgenes[i])\n",
    "    \n",
    "    with ThreadPoolExecutor(max_workers=threads) as executor:\n",
    "        distance_matrix = squareform(pdist(gene_community_matrix, metric=distmethod))\n",
    "    \n",
    "    final_output = {\n",
    "        \"gene_community_matrix\": gene_community_matrix,\n",
    "        \"l_constant\": genes_same_communities,\n",
    "        \"distance_matrix\": distance_matrix\n",
    "    }\n",
    "    \n",
    "    return final_output"
   ]
  },
  {
   "cell_type": "code",
   "execution_count": 3,
   "metadata": {},
   "outputs": [
    {
     "name": "stdout",
     "output_type": "stream",
     "text": [
      "Resolution parameter starts at: 0\n",
      "Resolution parameter ends at: 2\n",
      "Starting community analysis.\n",
      "Resolution parameter: 0.0\n",
      "0.0: Wed Oct  2 01:58:47 PM CEST 2024\n",
      "Reading file ../data/networks-tiny-tiny/1.csv\n",
      "855 nodes\n",
      "Reading file ../data/networks-tiny-tiny/2.csv\n",
      "5911 nodes\n",
      "Resolution parameter: 0.5\n",
      "0.5: Wed Oct  2 01:58:53 PM CEST 2024\n",
      "Reading file ../data/networks-tiny-tiny/1.csv\n",
      "855 nodes\n",
      "Reading file ../data/networks-tiny-tiny/2.csv\n",
      "5911 nodes\n",
      "Resolution parameter: 1.0\n",
      "1.0: Wed Oct  2 01:58:59 PM CEST 2024\n",
      "Reading file ../data/networks-tiny-tiny/1.csv\n",
      "855 nodes\n",
      "Reading file ../data/networks-tiny-tiny/2.csv\n",
      "5911 nodes\n",
      "Resolution parameter: 1.5\n",
      "1.5: Wed Oct  2 01:59:05 PM CEST 2024\n",
      "Reading file ../data/networks-tiny-tiny/1.csv\n",
      "855 nodes\n",
      "Reading file ../data/networks-tiny-tiny/2.csv\n",
      "5911 nodes\n",
      "Resolution parameter: 2.0\n",
      "2.0: Wed Oct  2 01:59:10 PM CEST 2024\n",
      "Reading file ../data/networks-tiny-tiny/1.csv\n",
      "855 nodes\n",
      "Reading file ../data/networks-tiny-tiny/2.csv\n",
      "5911 nodes\n",
      "Reading MolTi output files. Calculating Gene/Community matrix\n",
      "Files read. Calculating Gene/Community matrix\n",
      "Progress: 0.0%\n",
      "Progress: 25.0%\n",
      "Progress: 50.0%\n",
      "Progress: 75.0%\n",
      "Progress: 100.0%\n",
      "Gene/Community matrix calculated, calculating Hamming distances for all gene pairs. This process may take a while...\n",
      "CPU times: user 100 ms, sys: 82.1 ms, total: 182 ms\n",
      "Wall time: 29.2 s\n"
     ]
    }
   ],
   "source": [
    "%%time\n",
    "#| eval: false\n",
    "\n",
    "prefix = \"../data/networks-tiny-tiny/\"\n",
    "input_layers = [prefix + \"1.csv\",\n",
    "                prefix + \"2.csv\"]\n",
    "\n",
    "cmmd_output = CmmD(nodelist = None,\n",
    "     input_layers = input_layers,\n",
    "     resolution_start = 0,\n",
    "     resolution_end = 2,\n",
    "     interval = 0.5,\n",
    "     destfile_community_analysis = \"../out/communities/\",\n",
    "     distmethod = \"hamming\",\n",
    "     threads = 6)\n"
   ]
  },
  {
   "cell_type": "markdown",
   "metadata": {},
   "source": [
    "Save object to the disk:"
   ]
  },
  {
   "cell_type": "code",
   "execution_count": 4,
   "metadata": {},
   "outputs": [],
   "source": [
    "# # save object to file\n",
    "# path_save = Path(\"../out/cmmd_pickle/\")\n",
    "# assert path_save.exists()\n",
    "\n",
    "# # pickle the object\n",
    "# with open(path_save / \"cmmd_output.pkl\", 'wb') as handle:\n",
    "#     pickle.dump(cmmd_output, handle, protocol=pickle.HIGHEST_PROTOCOL)"
   ]
  },
  {
   "cell_type": "code",
   "execution_count": 42,
   "metadata": {},
   "outputs": [],
   "source": [
    "def test_cmmd(cmmd:dict, path_save:pathlib.Path|str=Path(\"../out/cmmd_pickle/cmmd_output.pkl\")) -> None:\n",
    "    # load the cmmd object\n",
    "    with open(path_save, 'rb') as handle:\n",
    "        cmmd_old = pickle.load(handle)\n",
    "    assert (cmmd[\"distance_matrix\"] == cmmd_old[\"distance_matrix\"]).all()\n",
    "    assert (cmmd[\"gene_community_matrix\"] == cmmd_old[\"gene_community_matrix\"]).all()\n",
    "    assert cmmd[\"l_constant\"] == cmmd_old[\"l_constant\"]"
   ]
  },
  {
   "cell_type": "code",
   "execution_count": 31,
   "metadata": {},
   "outputs": [
    {
     "name": "stdout",
     "output_type": "stream",
     "text": [
      "Resolution parameter starts at: 0\n",
      "Resolution parameter ends at: 2\n",
      "Starting community analysis.\n",
      "Resolution parameter: 0.0\n",
      "0.0: Wed Oct  2 02:24:35 PM CEST 2024\n",
      "Reading file ../data/networks-tiny-tiny/1.csv\n",
      "855 nodes\n",
      "Reading file ../data/networks-tiny-tiny/2.csv\n",
      "5911 nodes\n",
      "Resolution parameter: 0.5\n",
      "0.5: Wed Oct  2 02:24:42 PM CEST 2024\n",
      "Reading file ../data/networks-tiny-tiny/1.csv\n",
      "855 nodes\n",
      "Reading file ../data/networks-tiny-tiny/2.csv\n",
      "5911 nodes\n",
      "Resolution parameter: 1.0\n",
      "1.0: Wed Oct  2 02:24:47 PM CEST 2024\n",
      "Reading file ../data/networks-tiny-tiny/1.csv\n",
      "855 nodes\n",
      "Reading file ../data/networks-tiny-tiny/2.csv\n",
      "5911 nodes\n",
      "Resolution parameter: 1.5\n",
      "1.5: Wed Oct  2 02:24:53 PM CEST 2024\n",
      "Reading file ../data/networks-tiny-tiny/1.csv\n",
      "855 nodes\n",
      "Reading file ../data/networks-tiny-tiny/2.csv\n",
      "5911 nodes\n",
      "Resolution parameter: 2.0\n",
      "2.0: Wed Oct  2 02:24:59 PM CEST 2024\n",
      "Reading file ../data/networks-tiny-tiny/1.csv\n",
      "855 nodes\n",
      "Reading file ../data/networks-tiny-tiny/2.csv\n",
      "5911 nodes\n",
      "Reading MolTi output files. Calculating Gene/Community matrix\n",
      "Files read. Calculating Gene/Community matrix\n",
      "Progress: 0.0%\n",
      "Progress: 25.0%\n",
      "Progress: 50.0%\n",
      "Progress: 75.0%\n",
      "Progress: 100.0%\n",
      "Gene/Community matrix calculated, calculating Hamming distances for all gene pairs. This process may take a while...\n"
     ]
    }
   ],
   "source": [
    "cmmd_output_new = CmmD(nodelist = None,\n",
    "     input_layers = input_layers,\n",
    "     resolution_start = 0,\n",
    "     resolution_end = 2,\n",
    "     interval = 0.5,\n",
    "     destfile_community_analysis = \"../out/communities/\",\n",
    "     distmethod = \"hamming\",\n",
    "     threads = 6)"
   ]
  },
  {
   "cell_type": "code",
   "execution_count": 43,
   "metadata": {},
   "outputs": [],
   "source": [
    "test_cmmd(cmmd_output_new)"
   ]
  },
  {
   "cell_type": "markdown",
   "metadata": {},
   "source": [
    "Confirm new and old objects generate the same output:"
   ]
  },
  {
   "cell_type": "code",
   "execution_count": 15,
   "metadata": {},
   "outputs": [
    {
     "data": {
      "text/plain": [
       "dict_keys(['gene_community_matrix', 'l_constant', 'distance_matrix'])"
      ]
     },
     "execution_count": 15,
     "metadata": {},
     "output_type": "execute_result"
    }
   ],
   "source": [
    "#| eval: false\n",
    "cmmd_output.keys()"
   ]
  },
  {
   "cell_type": "code",
   "execution_count": 16,
   "metadata": {},
   "outputs": [
    {
     "name": "stdout",
     "output_type": "stream",
     "text": [
      "gene_community_matrix\n",
      "[[969 935 842 902 901]\n",
      " [938 751 908 960 901]\n",
      " [736 751 962 960 901]\n",
      " ...\n",
      " [789 924 970 944 901]\n",
      " [789 924 970 944 901]\n",
      " [938 751 908 984 901]]\n",
      "********************\n",
      "l_constant\n",
      "{np.int64(20): ['SLC18A1\\n', 'DDC\\n'], np.int64(60): ['RDH13\\n'], np.int64(126): ['OAT\\n'], np.int64(143): ['SLC43A2\\n', 'SLC6A14\\n', 'SLC6A19\\n'], np.int64(168): ['TYR\\n', 'TH\\n', 'SLC7A8\\n'], np.int64(195): ['HS3ST3A1\\n'], np.int64(227): ['CYP2D6\\n'], np.int64(239): ['CYP2C9\\n'], np.int64(308): ['SLC9A4\\n'], np.int64(443): ['HACD1\\n'], np.int64(448): ['GCSH\\n'], np.int64(450): ['NDUFAB1\\n', 'NDUFAF7\\n'], np.int64(466): ['NDUFA5\\n'], np.int64(478): ['NDUFC1\\n'], np.int64(482): ['SARDH\\n', 'CHDH\\n'], np.int64(514): ['DLAT\\n'], np.int64(522): ['SLC36A4\\n'], np.int64(553): ['SLC2A6\\n', 'SLC5A10\\n'], np.int64(582): ['DAO\\n'], np.int64(588): ['KCNQ4\\n'], np.int64(589): ['ADAMTS16\\n'], np.int64(590): ['SLITRK1\\n'], np.int64(591): ['HCN1\\n'], np.int64(592): ['KCNG2\\n'], np.int64(593): ['PXN\\n', 'MYL6\\n', 'TPM4\\n', 'DMD\\n'], np.int64(594): ['HPRT1\\n'], np.int64(595): ['DUS2\\n'], np.int64(596): ['EXOSC1\\n'], np.int64(597): ['TIMM9\\n'], np.int64(598): ['ADAT2\\n'], np.int64(599): ['GABRR2\\n', 'GABRR3\\n'], np.int64(600): ['PDK4\\n'], np.int64(601): ['ZNF383\\n'], np.int64(602): ['GRPEL1\\n'], np.int64(603): ['CNOT6\\n'], np.int64(604): ['ESAM\\n'], np.int64(605): ['MX1\\n', 'EIF2AK2\\n'], np.int64(606): ['MRPL37\\n'], np.int64(607): ['PLEKHA3\\n'], np.int64(608): ['ARPC3\\n', 'EFNB1\\n'], np.int64(609): ['ZNF521\\n'], np.int64(610): ['LYPD4\\n'], np.int64(611): ['ITFG2\\n'], np.int64(612): ['DDX23\\n'], np.int64(613): ['MMP20\\n'], np.int64(614): ['FNBP1L\\n'], np.int64(615): ['KRTAP12-1\\n'], np.int64(616): ['PRKD1\\n'], np.int64(617): ['DOT1L\\n'], np.int64(618): ['KRTAP10-6\\n'], np.int64(619): ['CHAC2\\n'], np.int64(620): ['UCHL3\\n'], np.int64(621): ['JMJD1C\\n', 'GATA6\\n'], np.int64(622): ['LRP12\\n'], np.int64(623): ['MUC17\\n'], np.int64(624): ['FANCF\\n'], np.int64(625): ['LILRB5\\n'], np.int64(626): ['NMNAT3\\n'], np.int64(627): ['WNT10A\\n'], np.int64(628): ['UQCR11\\n', 'SDHB\\n', 'NDUFS1\\n', 'LRPPRC\\n', 'NDUFS6\\n', 'NDUFS2\\n', 'NDUFB2\\n', 'COQ10A\\n'], np.int64(629): ['GJD2\\n', 'GJB4\\n'], np.int64(630): ['LRRC8C\\n', 'MMGT1\\n'], np.int64(631): ['TMEM132A\\n'], np.int64(632): ['BLOC1S4\\n'], np.int64(633): ['HTD2\\n'], np.int64(634): ['TNFSF13\\n', 'TNFRSF11B\\n'], np.int64(635): ['CACNA1S\\n'], np.int64(636): ['GALNT16\\n', 'MUC12\\n'], np.int64(637): ['ADPGK\\n'], np.int64(638): ['ENPEP\\n'], np.int64(639): ['PARVA\\n'], np.int64(640): ['NOX4\\n'], np.int64(641): ['TTC37\\n'], np.int64(642): ['AK5\\n'], np.int64(643): ['SOCS5\\n'], np.int64(644): ['IPPK\\n'], np.int64(645): ['AK6\\n'], np.int64(646): ['TPI1\\n'], np.int64(647): ['DOK6\\n'], np.int64(648): ['RAET1L\\n', 'TEX101\\n'], np.int64(649): ['ENO2\\n'], np.int64(650): ['BRPF3\\n'], np.int64(651): ['TRIM11\\n'], np.int64(652): ['PTGR1\\n'], np.int64(653): ['SLC29A1\\n', 'SLC29A2\\n'], np.int64(654): ['KRTAP10-3\\n'], np.int64(655): ['CD163\\n'], np.int64(656): ['GPIHBP1\\n'], np.int64(657): ['FKBP14\\n'], np.int64(658): ['NDUFA10\\n', 'NDUFAF4\\n', 'NUBPL\\n', 'MT-ND1\\n', 'NDUFB9\\n', 'NDUFB8\\n', 'NDUFB4\\n', 'NDUFA3\\n', 'NDUFA11\\n', 'NDUFB7\\n', 'SCO1\\n', 'NDUFB10\\n'], np.int64(659): ['HMGN1\\n', 'POLD2\\n'], np.int64(660): ['DENND1B\\n'], np.int64(661): ['RBL2\\n'], np.int64(662): ['SFTPA1\\n'], np.int64(663): ['TOMM22\\n'], np.int64(664): ['ZNF439\\n'], np.int64(665): ['TBC1D7\\n', 'AMBRA1\\n'], np.int64(666): ['IL31RA\\n'], np.int64(667): ['CD1B\\n', 'PILRA\\n'], np.int64(668): ['TPGS1\\n'], np.int64(669): ['SBSPON\\n'], np.int64(670): ['LCLAT1\\n'], np.int64(671): ['MAN2A2\\n', 'COG3\\n'], np.int64(672): ['NIPAL4\\n', 'NIPAL1\\n'], np.int64(673): ['IRF5\\n', 'IFNA13\\n'], np.int64(674): ['ATP6V1E2\\n'], np.int64(675): ['STX17\\n'], np.int64(676): ['TBC1D10A\\n'], np.int64(677): ['LY6G6D\\n'], np.int64(678): ['CHCHD5\\n'], np.int64(679): ['OCLN\\n'], np.int64(680): ['NOL9\\n', 'RBM28\\n'], np.int64(681): ['PLET1\\n'], np.int64(682): ['RIC1\\n'], np.int64(683): ['PLA2G4D\\n'], np.int64(684): ['TIMM23\\n'], np.int64(685): ['VPS29\\n'], np.int64(686): ['CYP4A22\\n'], np.int64(687): ['PLAAT5\\n'], np.int64(688): ['ARHGEF25\\n', 'HTR2B\\n'], np.int64(689): ['TCAP\\n'], np.int64(690): ['TXNRD2\\n', 'GPX8\\n'], np.int64(691): ['NT5C1B\\n'], np.int64(692): ['PLA2G2F\\n'], np.int64(693): ['GPHB5\\n'], np.int64(694): ['UGT1A5\\n'], np.int64(695): ['PPP6R3\\n'], np.int64(696): ['MED28\\n'], np.int64(697): ['MCEE\\n'], np.int64(698): ['INSL3\\n', 'TAAR5\\n', 'CRHR1\\n', 'RXFP2\\n'], np.int64(699): ['RYK\\n', 'FZD6\\n'], np.int64(700): ['TPCN1\\n'], np.int64(701): ['GPAT2\\n', 'LIPH\\n'], np.int64(702): ['POC1B-GALNT4\\n'], np.int64(703): ['CHMP5\\n', '155908\\n'], np.int64(704): ['SPON2\\n', 'ADAMTS15\\n'], np.int64(705): ['PRKCI\\n'], np.int64(706): ['SMYD2\\n'], np.int64(707): ['CHCHD4\\n', 'PAM16\\n', 'TIMM17B\\n', 'TIMM8B\\n', 'HSPA9\\n', 'USP17L5\\n'], np.int64(708): ['VNN3\\n'], np.int64(709): ['SLC17A5\\n'], np.int64(710): ['THSD7A\\n'], np.int64(711): ['886418\\n'], np.int64(712): ['ZNF124\\n'], np.int64(713): ['ACVRL1\\n', 'SMAD9\\n'], np.int64(714): ['AZGP1\\n'], np.int64(715): ['MAX\\n'], np.int64(716): ['CHMP6\\n'], np.int64(717): ['DYNLRB2\\n'], np.int64(718): ['TNNI2\\n'], np.int64(719): ['KRTAP5-7\\n'], np.int64(720): ['NEIL3\\n'], np.int64(721): ['CHCHD10\\n'], np.int64(722): ['NDUFAF6\\n'], np.int64(723): ['CLTA\\n', 'PCSK9\\n', 'SH3KBP1\\n'], np.int64(724): ['SESN2\\n'], np.int64(725): ['COX16\\n', 'SESN3\\n'], np.int64(726): ['TMOD3\\n'], np.int64(727): ['TRIM72\\n'], np.int64(728): ['CYFIP2\\n'], np.int64(729): ['JAK3\\n'], np.int64(730): ['ABCG1\\n'], np.int64(731): ['AMD1\\n'], np.int64(732): ['LPIN3\\n'], np.int64(733): ['KCNK13\\n', 'KCNK2\\n'], np.int64(734): ['TNS4\\n'], np.int64(735): ['ANKRD27\\n'], np.int64(736): ['KCNK17\\n'], np.int64(737): ['KIR2DL3\\n'], np.int64(738): ['ENPP7\\n'], np.int64(739): ['ST3GAL6\\n'], np.int64(740): ['GALNT11\\n'], np.int64(741): ['REPS1\\n', 'VAMP4\\n', 'SYT12\\n', 'STON1-GTF2A1L\\n', 'NECAP1\\n'], np.int64(742): ['NRP1\\n'], np.int64(743): ['BMT2\\n', 'FNIP1\\n'], np.int64(744): ['888777\\n'], np.int64(745): ['FCSK\\n'], np.int64(746): ['KLHL13\\n'], np.int64(747): ['EPB41L3\\n'], np.int64(748): ['ATP5ME\\n', 'CHCHD3\\n'], np.int64(749): ['ZNF226\\n', 'ZNF740\\n'], np.int64(750): ['ADAMTS13\\n'], np.int64(751): ['KRTAP5-3\\n'], np.int64(752): ['SIRT1\\n', 'PPP1CB\\n', 'PPP1CA\\n', 'NR1D1\\n'], np.int64(753): ['KCNA7\\n'], np.int64(754): ['DEFA3\\n', 'DEFB103A\\n', 'DEFB107A\\n', 'DEFB115\\n'], np.int64(755): ['MTMR2\\n'], np.int64(756): ['SYT10\\n'], np.int64(757): ['DENND1A\\n'], np.int64(758): ['SLC25A17\\n', 'PEX3\\n', 'GDAP1\\n', 'PEX14\\n'], np.int64(759): ['3636229\\n'], np.int64(760): ['NSMCE4A\\n'], np.int64(761): ['TNFSF4\\n'], np.int64(762): ['SAG\\n'], np.int64(763): ['DSE\\n'], np.int64(764): ['CNOT7\\n'], np.int64(765): ['DENND6B\\n'], np.int64(766): ['GNPAT\\n'], np.int64(767): ['YIPF6\\n'], np.int64(768): ['TRIM34\\n'], np.int64(769): ['KLRG1\\n'], np.int64(770): ['3361714\\n'], np.int64(771): ['LMF1\\n'], np.int64(772): ['KIF1B\\n', 'KDELR1\\n', 'KIF27\\n'], np.int64(773): ['SPHK2\\n', 'CERS4\\n'], np.int64(774): ['ADAMTS1\\n', 'ADAMTS18\\n', 'PLG\\n'], np.int64(775): ['ZNF169\\n', 'ZNF480\\n'], np.int64(776): ['CACNG6\\n'], np.int64(777): ['DEFB112\\n'], np.int64(778): ['ELAC2\\n'], np.int64(779): ['ITGA8\\n'], np.int64(780): ['RFT1\\n'], np.int64(781): ['ATP2B1\\n', 'ATP8B3\\n', 'ATP10A\\n', 'ATP7B\\n'], np.int64(782): ['MUC16\\n'], np.int64(783): ['SMNDC1\\n', 'ZRSR2\\n', 'SNRPD2\\n'], np.int64(784): ['ARAP1\\n'], np.int64(785): ['CHCHD7\\n', 'TIMM10B\\n'], np.int64(786): ['MUC13\\n'], np.int64(787): ['ARFIP2\\n'], np.int64(788): ['LCE1D\\n', 'LCE1F\\n'], np.int64(789): ['THSD4\\n'], np.int64(790): ['RAB39B\\n', 'RAB17\\n'], np.int64(791): ['DMAC2L\\n'], np.int64(792): ['CHRNA4\\n'], np.int64(793): ['ALS2CL\\n', 'TRAPPC5\\n'], np.int64(794): ['NR2C2\\n'], np.int64(795): ['PRLH\\n'], np.int64(796): ['LIPF\\n'], np.int64(797): ['CASTOR2\\n'], np.int64(798): ['KRT19\\n'], np.int64(799): ['PARD6B\\n'], np.int64(800): ['ANKLE2\\n'], np.int64(801): ['NSF\\n', 'KIF20B\\n'], np.int64(802): ['MUC19\\n'], np.int64(803): ['PJA2\\n'], np.int64(804): ['ATP6V0D2\\n'], np.int64(805): ['CDK19\\n'], np.int64(806): ['SLC41A2\\n'], np.int64(807): ['NR2F1\\n', 'NRBP1\\n'], np.int64(808): ['SF3B5\\n'], np.int64(809): ['CLCA4\\n'], np.int64(810): ['GPHN\\n'], np.int64(811): ['TIMM10\\n', 'OTC\\n'], np.int64(812): ['PLA2G1B\\n', '3644711\\n', 'PLA2G4E\\n'], np.int64(813): ['RAB1B\\n'], np.int64(814): ['IL1RAPL2\\n'], np.int64(815): ['CFLAR\\n', 'CDC25B\\n', 'FADD\\n'], np.int64(816): ['RPEL1\\n'], np.int64(817): ['KDELR3\\n'], np.int64(818): ['ABI2\\n'], np.int64(819): ['TRMT10A\\n'], np.int64(820): ['TAAR8\\n', 'PDE10A\\n'], np.int64(821): ['PGLYRP2\\n'], np.int64(822): ['KRT79\\n'], np.int64(823): ['MDH1\\n'], np.int64(824): ['IFNL1\\n'], np.int64(825): ['UBQLN1\\n'], np.int64(826): ['MT-ND2\\n', 'NDUFAF3\\n', 'NDUFS7\\n', 'NDUFA13\\n', 'MT-ND5\\n'], np.int64(827): ['HIRA\\n'], np.int64(828): ['ST3GAL1\\n', 'ST6GAL2\\n'], np.int64(829): ['E2F4\\n'], np.int64(830): ['AP4E1\\n'], np.int64(831): ['TTLL9\\n'], np.int64(832): ['MYBPC2\\n', 'SORBS1\\n', 'TPM2\\n'], np.int64(833): ['CACNG4\\n', 'CACNG8\\n'], np.int64(834): ['PAOX\\n'], np.int64(835): ['ENAH\\n'], np.int64(836): ['GSTO1\\n'], np.int64(837): ['MT1G\\n'], np.int64(838): ['TNXB\\n'], np.int64(839): ['XBP1\\n'], np.int64(840): ['FMOD\\n'], np.int64(841): ['CATSPERD\\n'], np.int64(842): ['PTHLH\\n'], np.int64(843): ['GPAT4\\n', 'PLA2R1\\n'], np.int64(844): ['WNK2\\n'], np.int64(845): ['CACNB2\\n', 'CACNA2D3\\n'], np.int64(846): ['ARAP3\\n'], np.int64(847): ['NR2C2AP\\n'], np.int64(848): ['ATP4A\\n'], np.int64(849): ['PARD6G\\n'], np.int64(850): ['KDM2A\\n'], np.int64(851): ['ZFP69B\\n'], np.int64(852): ['TTC21B\\n', 'UCN2\\n'], np.int64(853): ['NTS\\n'], np.int64(854): ['TBC1D17\\n'], np.int64(855): ['NT5C1B-RDH14\\n'], np.int64(856): ['CLCA1\\n'], np.int64(857): ['CASTOR1\\n'], np.int64(858): ['NGEF\\n'], np.int64(859): ['KCNU1\\n'], np.int64(860): ['CACNA2D2\\n', 'SCN4A\\n'], np.int64(861): ['ST8SIA2\\n'], np.int64(862): ['FAAP100\\n'], np.int64(863): ['CASC3\\n'], np.int64(864): ['PARP9\\n'], np.int64(865): ['IL18R1\\n'], np.int64(866): ['TRPC1\\n', 'MLKL\\n'], np.int64(867): ['DSC3\\n', 'KRTAP19-6\\n', 'KRT18\\n'], np.int64(868): ['VAC14\\n'], np.int64(869): ['MRGBP\\n'], np.int64(870): ['MIGA2\\n'], np.int64(871): ['RBP4\\n'], np.int64(872): ['LTBP3\\n'], np.int64(873): ['B4GALNT1\\n', 'SUMF1\\n', 'GLTP\\n'], np.int64(874): ['ATP10D\\n'], np.int64(875): ['MED9\\n'], np.int64(876): ['PRKG2\\n'], np.int64(877): ['KRT37\\n', 'TCHH\\n'], np.int64(878): ['OPN1MW3\\n'], np.int64(879): ['ZNF558\\n'], np.int64(880): ['APOBEC4\\n'], np.int64(881): ['COL25A1\\n'], np.int64(882): ['CLEC4G\\n'], np.int64(883): ['DEFB136\\n', 'DEFA5\\n', 'DEFB130A\\n', 'DEFB131A\\n', 'DEFB113\\n'], np.int64(884): ['PLXNA3\\n'], np.int64(885): ['DEPDC7\\n', 'ARHGAP11A\\n'], np.int64(886): ['UGT2A2\\n'], np.int64(887): ['CNTN3\\n'], np.int64(888): ['NIPA2\\n'], np.int64(889): ['EP400\\n'], np.int64(890): ['ARHGEF6\\n'], np.int64(891): ['INPP5E\\n'], np.int64(892): ['PRSS8\\n', 'KRT5\\n', 'CSTA\\n', 'PCSK6\\n', 'KRTAP17-1\\n', 'KRTAP8-1\\n', 'KRT28\\n', 'KRTAP27-1\\n', 'KRT6B\\n', 'KRTAP2-4\\n', 'KRTAP13-2\\n', 'KRT77\\n', 'KRTAP4-8\\n', 'LORICRIN\\n', 'KRTAP19-3\\n'], np.int64(893): ['NME3\\n'], np.int64(894): ['MYL4\\n', 'TNNT1\\n', 'MYH3\\n'], np.int64(895): ['ADAMTS20\\n'], np.int64(896): ['MSL1\\n'], np.int64(897): ['CYP4F22\\n'], np.int64(898): ['PLCD4\\n'], np.int64(899): ['ACBD7\\n'], np.int64(900): ['ECE2\\n'], np.int64(901): ['ZNF830\\n', 'ATP7A\\n', 'ANPEP\\n', 'ERCC6\\n', 'ADA2\\n', 'ITGB2\\n', 'KHSRP\\n', 'TRAF3\\n', 'TRIB3\\n', 'LTBP1\\n', 'PIK3CA\\n', 'KRT20\\n', 'GNG5\\n', 'ATP8B4\\n', 'ADCY1\\n', 'ZNF582\\n', 'MPHOSPH6\\n', 'ACTN4\\n', 'PPP2R5D\\n', 'CPB1\\n', 'MGRN1\\n', 'COX18\\n', 'FBL\\n', 'SGK1\\n', 'DGKH\\n', 'MED13\\n', 'ZNF37A\\n', 'TGFB3\\n', 'NMUR1\\n', 'CAP1\\n', 'NAPA\\n', 'NPDC1\\n', 'SPP1\\n', 'PPARGC1A\\n', 'ARHGEF4\\n', 'KRTAP1-5\\n', 'ZNF454\\n', 'USP9X\\n', 'ZNF875\\n', 'SLC15A4\\n', 'HBB\\n', 'HGF\\n', 'KLRD1\\n', 'ZNF543\\n', 'SF3B3\\n', 'GTF2H5\\n', 'RGS17\\n', 'YEATS4\\n', 'IDH1\\n', 'GP6\\n', 'RIOK1\\n', 'UBE2D3\\n', 'TRAPPC2\\n', 'NR2F6\\n', 'OR2B11\\n', 'TSHB\\n', 'CTNNA1\\n', 'THUMPD1\\n', 'RBM4\\n', 'MYL3\\n', 'SPINK9\\n', 'OR10C1\\n', 'GALNS\\n', 'GMIP\\n', 'OR8U9\\n', 'SDC1\\n', 'SDCBP\\n', 'NME2\\n', 'BCL2L1\\n', 'OR51G1\\n', 'CCL19\\n', 'RAB8A\\n', 'SAA1\\n', 'CXCR2\\n', 'BBS2\\n', 'PSENEN\\n', 'ZNF568\\n', 'BCAT2\\n', 'BTBD1\\n', 'FPR1\\n', 'NUP54\\n', 'OR52E4\\n', 'CANT1\\n', 'TRAP1\\n', 'ADSS2\\n', 'COL4A4\\n', 'RBSN\\n', 'OR2A7\\n', 'IL3RA\\n', 'FBXL3\\n', 'F5\\n', 'RPL28\\n', 'COMT\\n', 'CYCS\\n', 'ORC1\\n', 'NCAM1\\n', 'OR51L1\\n', 'NELFB\\n', 'OR8G1\\n', 'OR8U1\\n', 'PPY\\n', 'H2AC4\\n', 'SPTBN5\\n', 'OR4K5\\n', 'TAS2R4\\n', 'POM121\\n', 'ZNF41\\n', 'ZNF470\\n', 'NFASC\\n', 'ADCY9\\n', 'KRTAP24-1\\n', 'P2RY10\\n', 'ZDHHC21\\n', 'ADGRE5\\n', 'WDR45B\\n', 'COL5A1\\n', 'ORC2\\n', 'PROKR2\\n', 'CPNE1\\n', 'GPR4\\n', 'PSMC1\\n', 'CDC73\\n', 'KLHL22\\n', 'IMP4\\n', 'ASB3\\n', 'PEX11A\\n', 'LAMTOR1\\n', 'ATN1\\n', 'H2AC18\\n', 'C3\\n', 'FBXL13\\n', 'AMER1\\n', 'GFRA3\\n', 'SNU13\\n', 'ERP44\\n', 'IGFBP5\\n', 'RPA2\\n', 'IRF3\\n', 'PSMB2\\n', 'MAP2K6\\n', 'RGS20\\n', 'MRE11\\n', 'OR2T1\\n', 'DOK4\\n', 'HLA-G\\n', 'ZNF557\\n', '3802042\\n', 'SENP3\\n', 'TYROBP\\n', 'TFAP2A\\n', 'EDN3\\n', 'KRTAP21-2\\n', 'GPR32\\n', 'OR1S2\\n', 'TPR\\n', 'SMC1B\\n', 'PMVK\\n', 'ZNF114\\n', 'ALDOA\\n', 'AP1M1\\n', 'IFNA4\\n', 'RBBP7\\n', 'COMMD6\\n', 'PSME4\\n', 'CEACAM8\\n', 'ADAM8\\n', 'CACNA1H\\n', 'RGS1\\n', 'ZNF415\\n', 'MOV10\\n', 'PIK3R2\\n', 'CAPN5\\n', 'FCGR2A\\n', 'ZDHHC2\\n', 'PLAUR\\n', 'POLR1C\\n', 'COL4A2\\n', 'HAUS1\\n', 'CD99L2\\n', 'SSTR3\\n', 'POLR2H\\n', 'NCK2\\n', 'GPSM1\\n', 'INTS8\\n', 'H3-3A\\n', 'CDKN1A\\n', 'RPA3\\n', 'KIF21A\\n', 'WWC1\\n', 'USP33\\n', 'MSL2\\n', 'COL10A1\\n', 'OASL\\n', 'TTN\\n', 'CENPE\\n', 'NFE2\\n', 'UTS2R\\n', 'PLBD1\\n', 'OR4A47\\n', 'TLR9\\n', 'RAB13\\n', 'ADH1A\\n', 'TLR1\\n', 'TLR10\\n', 'CHL1\\n', 'PSG8\\n', 'ZNF215\\n', 'MELTF\\n', 'RAD23B\\n', 'TRAPPC6A\\n', 'TAF1C\\n', 'SUMO1\\n', 'GNG11\\n', 'ZIM3\\n', 'SF3B1\\n', 'RNF111\\n', 'OR2G3\\n', 'LNPEP\\n', 'GTF2B\\n', 'NSL1\\n', 'DR1\\n', 'TNFRSF10A\\n', 'PTK6\\n', 'ADAMTS7\\n', 'AGO1\\n', 'CAPN3\\n', 'FYN\\n', 'OR2B3\\n', 'NRGN\\n', 'CDKN2A\\n', 'CORIN\\n', 'ZNF460\\n', 'PRG3\\n', 'MGST1\\n', 'PRKCSH\\n', 'VPREB1\\n', 'AVPR2\\n', 'GPR31\\n', 'PEMT\\n', 'SYT8\\n', 'PCBP2\\n', 'RAB7B\\n', 'OR52E6\\n', 'FBXL8\\n', 'KRTAP2-1\\n', 'CUL4B\\n', 'TEX12\\n', 'FEM1B\\n', 'AZU1\\n', 'SFTPC\\n', 'RGS6\\n', 'SPTB\\n', 'PPBP\\n', 'HNRNPF\\n', 'GALC\\n', 'PNOC\\n', 'RAB12\\n', 'CCKAR\\n', 'HOXC4\\n', 'HAUS3\\n', 'ZNF716\\n', 'CD3E\\n', 'H3C4\\n', 'ABCC9\\n', 'RAB35\\n', 'FPR2\\n', 'PYCARD\\n', 'IFIH1\\n', 'RAD51C\\n', 'DNM3\\n', 'MMP19\\n', 'GTF2A2\\n', 'SENP8\\n', 'RAD21\\n', 'STK10\\n', 'MAT2B\\n', 'CPSF4\\n', 'MED31\\n', 'IL1RN\\n', 'ALDOC\\n', 'NAPRT\\n', 'RAB14\\n', 'ASB8\\n', 'FTL\\n', 'CSNK2A2\\n', 'PAX3\\n', 'RAPGEF3\\n', 'STARD8\\n', 'HEYL\\n', 'INSL5\\n', 'PBX1\\n', 'VIP\\n', 'DYNLT1\\n', 'SPN\\n', 'CASP2\\n', 'PSMB11\\n', 'H3C15\\n', 'ZNF519\\n', 'PKNOX1\\n', 'KIF24\\n', 'CXCL2\\n', 'IL6\\n', 'ZKSCAN8\\n', 'TRNT1\\n', 'ZFP2\\n', 'OR52H1\\n', 'LPAR3\\n', 'SNAP91\\n', 'OR52K1\\n', 'LSM5\\n', 'ZNF208\\n', 'MIB2\\n', 'RAD17\\n', 'CDC27\\n', 'REST\\n', 'KLHL9\\n', 'HES1\\n', 'PUF60\\n', 'MME\\n', 'MAP2K7\\n', 'FTSJ3\\n', 'OR2A25\\n', 'OR5H1\\n', 'RAB41\\n', 'FBXW9\\n', 'ZNF777\\n', 'ZNF605\\n', 'CSF2RB\\n', 'DPP7\\n', 'RNF14\\n', 'OR6V1\\n', 'ACSL1\\n', 'FLNA\\n', 'ZNF560\\n', 'POU2F2\\n', 'B9D2\\n', 'ITGAE\\n', 'RPS21\\n', 'FSCN1\\n', 'HNRNPK\\n', 'OPN4\\n', 'S100A9\\n', 'WDR33\\n', 'HDAC3\\n', 'ATP6V0B\\n', 'ARSA\\n', 'GATA5\\n', 'HERC5\\n', 'H3C3\\n', 'TCF7L1\\n', 'MKRN1\\n', 'CLIC2\\n', 'RPL6\\n', 'OPTN\\n', 'OR2D2\\n', 'PROK1\\n', 'CTNNBL1\\n', 'E2F8\\n', 'RFC4\\n', 'RNF144B\\n', 'H2AW\\n', 'MAP3K3\\n', 'MED14\\n', 'DCN\\n', 'SCLT1\\n', 'CTSH\\n', 'RASGRF2\\n', 'UBA1\\n', 'H2BC8\\n', 'OR14C36\\n', 'MAP3K7\\n', 'LAMTOR2\\n', 'ZNF250\\n', 'OPRD1\\n', 'FCF1\\n', 'KRT78\\n', 'NR1I3\\n', 'ZNF197\\n', 'TAF6L\\n', 'RTP4\\n', 'ADRA1D\\n', 'GPX3\\n', 'NPY2R\\n', 'CLCNKB\\n', 'TAS2R9\\n', 'TPTEP2-CSNK1E\\n', 'CSTB\\n', 'PJA1\\n', 'CHD3\\n', 'CSF2\\n', 'OR4B1\\n', 'ABL1\\n', 'HAUS8\\n', 'AKAP13\\n', 'TNFAIP3\\n', 'USP10\\n', 'DDX49\\n', 'AOX1\\n', 'RPL21\\n', 'GOLGA2\\n', 'KIF26A\\n', 'OR13C5\\n', 'AP2M1\\n', 'USP24\\n', 'LPCAT1\\n', 'OR5V1\\n', 'ADCY7\\n', 'CXADR\\n', 'RDH8\\n', 'OR51I1\\n', 'FGF8\\n', 'UBE3D\\n', 'TAB2\\n', 'ZNF600\\n', 'DDX47\\n', 'MEAF6\\n', 'GAST\\n', 'OR5T1\\n', 'MMP25\\n', 'LIN37\\n', 'OR2J3\\n', 'BMP15\\n', 'ABCA1\\n', 'EEFSEC\\n', 'NLGN4Y\\n', 'ZNF418\\n', 'CD300LG\\n', 'ZNF426\\n', 'CEP76\\n', 'SNRPA\\n', 'GUSB\\n', 'S100A11\\n', 'COL4A1\\n', 'RXRA\\n', 'DLGAP4\\n', 'COL26A1\\n', '100861532\\n', 'LCE2A\\n', 'MBD2\\n', 'GNAI2\\n', 'BCAP31\\n', 'FZD4\\n', '100506888\\n', 'SPRED1\\n', 'IFNA7\\n', 'INSR\\n', 'FERMT3\\n', 'SNRNP200\\n', 'CYP1A1\\n', 'APOB\\n', 'OR10J1\\n', 'NDEL1\\n', 'RPL34\\n', 'A2M\\n', 'STBD1\\n', 'OR2T5\\n', 'ITGB1\\n', 'SDS\\n', 'NPS\\n', 'GRM2\\n', 'GM2A\\n', 'NEURL1\\n', 'OR6C6\\n', 'EPM2A\\n', 'RAB6A\\n', 'EVA1A\\n', 'OR6M1\\n', 'RAB3A\\n', 'TAF10\\n', 'IFT122\\n', 'RPL3\\n', 'EXOSC4\\n', '728929\\n', 'USP17L18\\n', 'TAF5\\n', 'CEP192\\n', 'KSR1\\n', 'CRH\\n', 'VDAC3\\n', 'RPLP1\\n', 'RRP7A\\n', 'ZNF613\\n', 'GH2\\n', 'DSG3\\n', 'SLC32A1\\n', 'LSS\\n', 'NUP214\\n', 'ZNF334\\n', 'ZNF254\\n', 'H2BU1\\n', 'APEH\\n', 'SUZ12\\n', 'FGG\\n', 'UBR2\\n', 'DHX9\\n', 'FCAR\\n', 'PGLYRP1\\n', 'DGKD\\n', 'OR51M1\\n', 'MADCAM1\\n', 'APAF1\\n', 'OR2A14\\n', 'APOE\\n', 'RANBP2\\n', 'SIGLEC9\\n', 'MYH10\\n', 'H3C6\\n', 'TAS2R10\\n', 'LAG3\\n', 'UNG\\n', 'OR2T35\\n', 'ARHGEF35\\n', 'BNIP1\\n', 'ITGAL\\n', 'BCL10\\n', 'SNAPC4\\n', 'TSC2\\n', 'EPHA3\\n', 'KRT84\\n', 'SNRPB\\n', 'RAB3IP\\n', 'GTF2H2\\n', 'DCTN2\\n', 'CFTR\\n', 'KRT15\\n', 'SIRPB1\\n', 'UBE2N\\n', 'SMC1A\\n', 'OR11A1\\n', 'CSPG4\\n', 'PKP1\\n', 'CHRNB4\\n', 'CSF3\\n', 'DEPDC1B\\n', 'CCDC8\\n', 'ZNF131\\n', 'ARRB1\\n', 'PERP\\n', 'ARF6\\n', 'PROS1\\n', 'RASGRP1\\n', 'OR6A2\\n', 'STMN1\\n', 'PTGER4\\n', 'RPL22L1\\n', 'GPR65\\n', 'PPP2R3B\\n', 'KIF22\\n', 'OR10A5\\n', 'LMO7\\n', 'TICAM2\\n', 'FZD2\\n', 'CCNA2\\n', 'ATP6V1A\\n', 'GATA2\\n', 'KCMF1\\n', 'MAGED2\\n', 'PTH\\n', 'TUBGCP6\\n', 'SUPT16H\\n', 'OR9Q1\\n', 'ZNF782\\n', 'OR2A2\\n', 'SEC61A2\\n', 'TAB1\\n', 'RHOB\\n', 'COMMD3\\n', 'CHTOP\\n', 'SUMO2\\n', 'ZNF99\\n', 'WSB1\\n', 'RIN1\\n', 'OR4S2\\n', 'JUND\\n', 'ELP4\\n', 'OR8K3\\n', 'NR2E1\\n', 'DCAF6\\n', 'H4C5\\n', 'OR6C1\\n', 'MAF1\\n', 'PRKAG1\\n', 'ZNF136\\n', 'GGA3\\n', 'PTPRC\\n', 'SGO2\\n', 'RPS4X\\n', 'DNMT1\\n', 'OR13C4\\n', 'DYNC1I2\\n', 'ARG1\\n', 'CHRM2\\n', 'CUL9\\n', 'PLEKHO2\\n', 'TMED3\\n', 'OR4D9\\n', 'ZNF138\\n', 'H3C14\\n', 'DCTN1\\n', 'MTREX\\n', 'HOXD1\\n', 'WBP11\\n', 'MED26\\n', 'OR9K2\\n', 'DSP\\n', 'ZNF660\\n', 'MAFB\\n', 'CAPN6\\n', 'NLN\\n', 'OR5B3\\n', 'GRK5\\n', 'NR6A1\\n', 'SMURF1\\n', 'AKAP9\\n', 'SIGLEC5\\n', 'H2AC7\\n', 'ZNF300\\n', 'RGS12\\n', 'PSMB7\\n', 'GGA1\\n', 'NPY\\n', 'EPC1\\n', 'APLP2\\n', 'PPARA\\n', 'FDFT1\\n', 'OR13F1\\n', 'VDAC1\\n', 'ESPL1\\n', 'MT-CO1\\n', 'PECAM1\\n', 'OR5D16\\n', 'SLC6A12\\n', 'ZNF585B\\n', 'IRS1\\n', 'CDK13\\n', 'OSCAR\\n', 'ADCY6\\n', 'ARF1\\n', 'OR10H5\\n', 'ELP1\\n', 'ZIM2\\n', 'CKAP5\\n', 'AP2A2\\n', 'ANAPC11\\n', 'TPD52\\n', 'WDR19\\n', 'GRPR\\n', 'PEDS1-UBE2V1\\n', 'SNURF\\n', 'EPS15\\n', 'ULBP1\\n', 'CSNK2A1\\n', 'STAT5A\\n', 'HIVEP3\\n', 'ACTR8\\n', 'MED1\\n', 'PPP2R5E\\n', 'ZNF729\\n', 'UNC13D\\n', 'OR1E1\\n', 'MS4A2\\n', 'AGA\\n', 'SUCNR1\\n', 'SMAD4\\n', 'VPS35L\\n', 'GAS6\\n', 'RPL35\\n', 'NR4A3\\n', 'SRSF7\\n', 'MUS81\\n', 'FGF4\\n', 'CHST13\\n', 'MFGE8\\n', 'ARHGEF2\\n', 'INTS2\\n', 'OR4X2\\n', 'TMPRSS6\\n', 'HSD3B2\\n', 'RBBP6\\n', 'RCE1\\n', 'TCTN1\\n', 'GPR18\\n', 'GPS1\\n', 'ITGAM\\n', 'HLA-DRB3\\n', 'TRIM29\\n', 'DNAJC5\\n', 'SREBF2\\n', 'GRM8\\n', 'NUP35\\n', 'RPGRIP1L\\n', 'INTS10\\n', 'SBF2\\n', 'CCL5\\n', 'ZNF286A\\n', 'GRM5\\n', 'LRSAM1\\n', 'OR2T27\\n', 'ZNF684\\n', 'SGPP1\\n', 'HEBP1\\n', 'H2AB1\\n', 'NR1H3\\n', 'LAS1L\\n', 'CEP41\\n', 'COL9A2\\n', 'TADA3\\n', 'TFAP2B\\n', 'RNF152\\n', 'TAAR1\\n', 'RFC5\\n', 'OR2M3\\n', 'SCNN1B\\n', 'RB1\\n', 'MAFF\\n', 'PYGO1\\n', 'TMSB4X\\n', 'SIAH2\\n', 'RPRD1B\\n', 'KRT26\\n', 'MNAT1\\n', 'ATP8A2\\n', 'ITGA9\\n', 'FMNL1\\n', 'ZNF614\\n', 'ELOC\\n', 'LDHB\\n', 'PAPPA\\n', 'TAF9\\n', 'ABRAXAS1\\n', 'SAP30\\n', 'CTSL\\n', 'BABAM2\\n', 'SREBF1\\n', 'MCPH1\\n', 'SLAMF7\\n', 'TUBB\\n', 'KIF13B\\n', 'CARM1\\n', 'OR9I1\\n', 'KRTAP2-3\\n', 'BST2\\n', 'DLST\\n', 'RHOG\\n', 'ZNF333\\n', 'SET\\n', 'ASB17\\n', 'PTGER2\\n', 'FOS\\n', 'SLC2A3\\n', 'ITGB3BP\\n', 'ARID2\\n', 'CBX8\\n', 'OR10J5\\n', 'POLG2\\n', 'OR52I1\\n', 'OR4K14\\n', 'RPL4\\n', 'CLASP2\\n', 'MLYCD\\n', 'PSMB5\\n', 'ODAM\\n', 'NXT1\\n', 'CAPZA2\\n', 'CDC14B\\n', 'LILRA4\\n', 'KLHL11\\n', 'TSR1\\n', 'LEFTY2\\n', 'COPS7B\\n', 'IRF2\\n', 'ZKSCAN4\\n', 'EPHA4\\n', 'ROCK2\\n', 'TMED7-TICAM2\\n', 'PKP4\\n', 'APLN\\n', 'FBXO2\\n', 'CDKN2D\\n', 'GCG\\n', 'SNRNP48\\n', 'SEC11C\\n', 'IL1RL1\\n', 'TUBA3C\\n', 'COL9A3\\n', 'DDX52\\n', 'OPHN1\\n', 'CCNE2\\n', 'NFKB2\\n', 'GPSM3\\n', 'NOP56\\n', 'SEC24A\\n', 'TAS1R2\\n', 'RNF220\\n', 'ZNF394\\n', 'ZNF721\\n', 'ZNRF1\\n', 'OLFM4\\n', 'ATP9A\\n', 'PYGL\\n', 'GHRH\\n', 'FRS2\\n', 'UBE2F\\n', 'PELI3\\n', 'LAMC1\\n', 'DBI\\n', 'OR6N1\\n', 'KMT2B\\n', 'LRR1\\n', 'ATR\\n', 'OR4P4\\n', 'DNAJA4\\n', 'TUBGCP5\\n', 'RRP8\\n', 'VDAC2\\n', 'TBC1D20\\n', 'POLR2I\\n', 'KLHL3\\n', 'CEP152\\n', 'KIF5A\\n', 'LY96\\n', 'OR10A4\\n', 'ARHGEF39\\n', 'ZNF667\\n', 'CEP89\\n', 'TRIO\\n', 'RAB3D\\n', 'DCP2\\n', 'CCNB2\\n', 'H2BC12\\n', 'TUBA1C\\n', 'NPY1R\\n', 'DAB2IP\\n', 'AREG\\n', 'KIT\\n', 'TRAF7\\n', 'LONRF1\\n', 'POLE3\\n', 'ELANE\\n', 'NOL12\\n', 'FADS1\\n', 'ADAM22\\n', 'COL14A1\\n', 'ZNF563\\n', 'HSPA2\\n', 'UNKL\\n', 'POLR3G\\n', 'SPC24\\n', 'CENPP\\n', 'RPL13A\\n', 'PSMD6\\n', 'OR1J4\\n', 'WNT7B\\n', 'TAF12\\n', 'JAM3\\n', 'ARRB2\\n', 'OR7G2\\n', 'ZNF707\\n', 'SIAH1\\n', 'NDUFA2\\n', 'KRT8\\n', 'SH3GL3\\n', 'WDR43\\n', 'ATP2A1\\n', 'H3C13\\n', 'UBE2D2\\n', 'TRIP12\\n', 'IQCB1\\n', 'MCM4\\n', 'LCE2C\\n', 'DPY30\\n', 'ZNF225\\n', 'TREML2\\n', 'CRK\\n', 'EIF3D\\n', 'PIANP\\n', 'ASB12\\n', 'CD226\\n', 'DRD1\\n', 'PSMD9\\n', 'SOX2\\n', 'EPS15L1\\n', 'RPL7A\\n', 'OR2A1\\n', 'IRAG2\\n', 'GZMH\\n', 'PSMD4\\n', 'TMOD4\\n', 'ERI1\\n', 'RRP9\\n', 'ARFGAP1\\n', 'TTBK2\\n', 'PNRC2\\n', 'RAB31\\n', 'KRT73\\n', 'DNAJC3\\n', 'APOA5\\n', 'RPL39L\\n', 'ZNF785\\n', 'PNPLA5\\n', 'PRKN\\n', 'ZNF274\\n', 'PPP1R12B\\n', 'TPX2\\n', 'DIAPH2\\n', 'KRTAP10-9\\n', 'ZNF75A\\n', 'ZSWIM8\\n', 'ASB6\\n', 'SUPT3H\\n', 'YKT6\\n', 'PDS5B\\n', 'ORC3\\n', 'MVB12B\\n', 'FBXO27\\n', 'GAB1\\n', 'XCL2\\n', 'DDX58\\n', 'ATAT1\\n', 'DDX5\\n', 'ITGB3\\n', 'OR8H2\\n', 'GRM3\\n', 'GALR2\\n', 'SYT9\\n', 'NDUFB5\\n', 'CD19\\n', 'ASB2\\n', 'RPL27A\\n', 'PDE7B\\n', 'OBSL1\\n', 'RNF128\\n', 'EPHA5\\n', 'NDRG1\\n', 'H3C8\\n', 'PIK3CB\\n', 'ZNF496\\n', 'PSMD5\\n', 'NABP2\\n', 'CCNA1\\n', 'GTF2A1\\n', 'PDE2A\\n', 'DOCK1\\n', 'VEGFA\\n', 'B2M\\n', 'TRAF6\\n', 'ZIK1\\n', 'ZNF10\\n', 'DOCK10\\n', 'H2BC9\\n', 'C5\\n', 'TXNDC5\\n', 'IGFBP3\\n', 'POLB\\n', 'KRTAP29-1\\n', 'FXYD6\\n', 'OR5M9\\n', 'ADRA1B\\n', 'SUPT20H\\n', 'EDNRB\\n', 'ELOB\\n', 'OR1D2\\n', 'OR8I2\\n', 'ARHGAP19\\n', 'ZNF483\\n', 'WDR75\\n', 'H2BC14\\n', 'IL23A\\n', 'INTS13\\n', 'ATP6V0E2\\n', 'FGF7\\n', 'RTF1\\n', 'BRPF1\\n', 'CTNNB1\\n', 'COG8\\n', 'ZNF217\\n', 'KAT5\\n', 'PPM1A\\n', 'TTF1\\n', 'PCGF2\\n', 'ANAPC16\\n', 'SRI\\n', 'LCE2D\\n', 'ANAPC1\\n', 'OR6T1\\n', 'MAOA\\n', 'ZNF268\\n', 'PPIL6\\n', 'FAM120B\\n', 'PRSS23\\n', 'ZFP1\\n', 'TAOK1\\n', 'ZNF30\\n', 'QRFPR\\n', 'ZNF736\\n', 'NUP107\\n', 'DMC1\\n', 'PLK1\\n', 'BYSL\\n', 'ALMS1\\n', 'KRTAP23-1\\n', 'FBXO9\\n', 'SCARB2\\n', 'PRMT3\\n', 'OR5K1\\n', 'CDC34\\n', 'B4GALT5\\n', 'ABCB5\\n', 'GNA13\\n', 'ZFP28\\n', 'SLC2A4\\n', 'COL7A1\\n', 'CD86\\n', 'HLA-DRB4\\n', 'EPN1\\n', 'OR2T29\\n', 'WAPL\\n', 'DCUN1D3\\n', 'YWHAH\\n', 'GRSF1\\n', 'KRT12\\n', 'RPS19BP1\\n', 'CYP4B1\\n', 'SNAP25\\n', 'NUP42\\n', 'GPR17\\n', 'DSG1\\n', 'RPL18A\\n', 'NOL11\\n', 'BTBD6\\n', 'GRN\\n', 'NFIL3\\n', 'ICOS\\n', 'CFHR3\\n', 'SSU72\\n', 'BDP1\\n', 'CLASP1\\n', 'RXFP1\\n', 'VAMP2\\n', 'TIMELESS\\n', 'DBNL\\n', 'ZNF468\\n', 'CASP8\\n', 'ASB14\\n', 'PARP1\\n', 'SNW1\\n', 'GLP1R\\n', 'HTR4\\n', 'RPP30\\n', 'CD8A\\n', 'APCS\\n', 'TFF3\\n', 'ITSN1\\n', 'ICAM2\\n', 'OR6K3\\n', 'DGCR8\\n', 'PSMD3\\n', 'LEF1\\n', 'COPS2\\n', 'DAAM1\\n', 'FKBP4\\n', 'KLHL41\\n', 'PRR5\\n', 'MORF4L1\\n', 'NOB1\\n', 'FAM20C\\n', 'AGPAT2\\n', 'CREB1\\n', 'FOXO4\\n', 'CD80\\n', 'N6AMT1\\n', 'ZNF317\\n', 'OR14I1\\n', 'PDGFA\\n', 'RXFP3\\n', 'LAMB2\\n', 'L1CAM\\n', 'FABP1\\n', 'SQLE\\n', 'ZNF705E\\n', 'SPIDR\\n', 'PLAC8\\n', 'SRGN\\n', 'FBXW4\\n', 'CENPU\\n', 'ATM\\n', 'PSTK\\n', 'SGO1\\n', 'NUP88\\n', 'EFEMP2\\n', 'RNF135\\n', 'LGALS1\\n', 'ZNF709\\n', 'HEBP2\\n', 'HECTD1\\n', 'TSC1\\n', 'TMED7\\n', 'OR5AC2\\n', 'HPSE\\n', 'OR2W1\\n', 'ATG9B\\n', 'UBQLN2\\n', 'PPP2CB\\n', 'RAD1\\n', 'MLLT1\\n', 'CDK4\\n', 'GBP1\\n', 'ALS2\\n', 'USP34\\n', 'HLA-DRB5\\n', 'SNRPF\\n', 'NCAPD3\\n', 'CYSLTR2\\n', 'MAP2K2\\n', 'AMFR\\n', 'PLEKHA1\\n', 'B4GALT1\\n', 'SMAD3\\n', 'OR6C4\\n', 'PNLIP\\n', 'ZNF202\\n', 'OR10H3\\n', 'THRAP3\\n', 'TSPAN15\\n', 'NRG1\\n', 'COL24A1\\n', 'TGS1\\n', 'ANAPC15\\n', 'TAF8\\n', 'TAB3\\n', 'CEP63\\n', 'KL\\n', 'CDK6\\n', 'RPL37\\n', 'ASB18\\n', 'NDUFA1\\n', 'KCNAB1\\n', 'PSMD10\\n', 'LCE1C\\n', 'SDC2\\n', 'IGF2R\\n', 'OR13C8\\n', 'IQGAP2\\n', 'RAP2B\\n', 'H4C8\\n', 'OR4M2\\n', 'PHF21A\\n', 'TAS1R3\\n', 'TAF1A\\n', 'OR10K1\\n', 'CAB39\\n', 'NPFFR2\\n', 'LTB4R\\n', 'LMAN1L\\n', 'HSPA5\\n', 'CD36\\n', 'OR2T3\\n', 'COLEC12\\n', 'TRAPPC6B\\n', 'ZNF562\\n', 'SLC22A3\\n', 'TGFBR2\\n', 'FOXG1\\n', 'NCOR2\\n', 'TAF2\\n', 'PSMB4\\n', 'H4C9\\n', 'NUP133\\n', 'RCC2\\n', 'PSMB8\\n', 'UIMC1\\n', 'BPIFB2\\n', 'OR10AD1\\n', 'SYNJ1\\n', 'TMX3\\n', 'ZNF615\\n', 'MED29\\n', 'SF3A1\\n', 'COL28A1\\n', 'EIF1AX\\n', 'UGCG\\n', 'COPZ2\\n', 'ZNF436\\n', 'HNRNPH2\\n', 'DTL\\n', 'MIS12\\n', 'FBXO41\\n', 'RPS3\\n', 'CDC26\\n', 'PSMD2\\n', 'PRKCQ\\n', 'ACLY\\n', 'ULBP3\\n', 'KIF2B\\n', 'ZNF700\\n', 'HBA1\\n', 'NOS2\\n', 'RPL36\\n', 'LRTOMT\\n', 'CCR5\\n', 'GSK3B\\n', 'PICALM\\n', 'PDE8A\\n', 'LAMB3\\n', 'PDCD11\\n', 'TCF7L2\\n', 'KDM6A\\n', 'EIF3G\\n', 'THOC3\\n', 'TICAM1\\n', 'OR4K17\\n', 'ATP6V0C\\n', 'NBEAL2\\n', 'MMP9\\n', 'APLNR\\n', 'FCGR3A\\n', 'UBE2D4\\n', 'VAMP7\\n', 'IL13RA2\\n', 'ADRA1A\\n', 'ZNF517\\n', 'MYLIP\\n', 'INTS3\\n', 'PRKDC\\n', 'MCF2L\\n', 'CUL7\\n', 'RAB33B\\n', 'CLEC10A\\n', 'NEU1\\n', 'FBXO32\\n', 'CTH\\n', 'NMU\\n', 'GOSR2\\n', 'CBX2\\n', 'ULK1\\n', 'OXER1\\n', 'CNTRL\\n', 'RAB3GAP2\\n', 'OR4F5\\n', 'RPS29\\n', 'PPP2R5C\\n', 'GHRHR\\n', 'TRIM3\\n', 'RGS13\\n', 'ZNF549\\n', 'RPP38\\n', 'SIN3A\\n', 'OR5B21\\n', 'CCL13\\n', 'TINF2\\n', 'MDM4\\n', 'SIRPA\\n', 'DEFB118\\n', 'CXCL3\\n', 'TNFRSF1B\\n', 'BPI\\n', 'CPLX1\\n', 'OR52E2\\n', 'PLIN1\\n', 'DSG2\\n', 'STAT1\\n', 'PSME2\\n', 'OR51V1\\n', 'SP7\\n', 'ZNF778\\n', 'GNG13\\n', 'DHX37\\n', 'OR1C1\\n', 'ARPC2\\n', 'OR52B6\\n', 'H4C4\\n', 'ANO5\\n', 'DOCK7\\n', 'SIGLEC14\\n', 'ZNF514\\n', 'COX6B1\\n', 'GJB3\\n', 'OR5L1\\n', 'ZNF792\\n', 'FGFR3\\n', 'OR52L1\\n', 'ZNF154\\n', 'COL4A6\\n', 'ARHGAP32\\n', 'ZNF793\\n', 'MCHR1\\n', 'MAP3K14\\n', 'FGF18\\n', 'SPINK5\\n', 'OSTF1\\n', 'LPAR6\\n', 'OR8B8\\n', 'SCG3\\n', 'SUPT7L\\n', 'GRM1\\n', 'ATP1A2\\n', 'WIPI2\\n', 'SMG9\\n', 'DYNC1LI2\\n', 'NR5A2\\n', 'ENDOD1\\n', 'ARSG\\n', 'BCKDHA\\n', 'CABLES2\\n', 'SYCP1\\n', 'ARHGDIA\\n', 'GGH\\n', 'KDM7A\\n', 'LAMC2\\n', 'WNT6\\n', 'RNF25\\n', 'FGF23\\n', 'COL20A1\\n', 'VAMP8\\n', 'EDEM1\\n', 'ZNF479\\n', 'ZNF442\\n', 'CPNE3\\n', 'OR3A2\\n', 'KMT2C\\n', 'NBN\\n', 'GNB1\\n', 'UBE2M\\n', 'GBP6\\n', 'IFNA8\\n', 'USP16\\n', 'CTSE\\n', 'CAMK2G\\n', 'TUBGCP3\\n', 'NUB1\\n', 'FDPS\\n', 'PSMB10\\n', 'NPB\\n', 'LAMA4\\n', 'OR10A6\\n', 'NOS1\\n', 'RNF34\\n', 'GTF2F2\\n', '155971\\n', 'CCR4\\n', 'FBXL14\\n', 'SH2D1B\\n', 'NTSR1\\n', 'OR2W5P\\n', 'F2R\\n', 'SNRPD1\\n', 'BMS1\\n', 'GLIPR1\\n', 'CLTCL1\\n', 'ARHGAP9\\n', 'XRCC2\\n', 'CYLD\\n', 'RAB24\\n', 'ATP6V0A1\\n', 'OR1N2\\n', 'MMP13\\n', 'CPSF2\\n', 'BEST3\\n', 'FBXO6\\n', 'NPAS2\\n', 'VCAN\\n', 'OR2AT4\\n', 'PRDX2\\n', 'KRTAP4-5\\n', 'TAF15\\n', 'ZNF571\\n', 'ZNF337\\n', 'FBXL15\\n', 'HRNR\\n', 'TIMP3\\n', 'GTF2H1\\n', 'PHC3\\n', 'AHR\\n', 'PSMC3\\n', 'DNASE1L1\\n', 'H2BC4\\n', 'PMCH\\n', 'ZNF577\\n', 'CD68\\n', 'CALR\\n', 'ERLIN2\\n', 'ZNF324B\\n', 'CEBPG\\n', 'SRP72\\n', 'SARS1\\n', 'ZNF730\\n', 'OR1J2\\n', 'GAPDH\\n', 'POLR3B\\n', 'POP7\\n', 'OR2B6\\n', 'ATP6V1G1\\n', 'FBXL12\\n', 'ZNF282\\n', 'GAL\\n', 'ZNF75D\\n', 'OR7E24\\n', 'H2BC15\\n', 'PIP4K2C\\n', 'IGF2\\n', 'EMD\\n', 'TRIM9\\n', 'TCF3\\n', 'IL1B\\n', 'DNA2\\n', 'PA2G4\\n', 'ZNF790\\n', 'NTHL1\\n', 'BLMH\\n', 'ADORA3\\n', 'TGOLN2\\n', 'H2AC11\\n', 'TCTN3\\n', 'PSIP1\\n', 'ODF2\\n', 'COPS5\\n', 'OBSCN\\n', 'PABPN1\\n', 'NUP210\\n', 'NPW\\n', 'CD53\\n', 'NIT2\\n', 'CHEK2\\n', 'TOPORS\\n', 'COL6A2\\n', 'OR4C12\\n', 'RPL18\\n', 'SPCS3\\n', 'PIK3CD\\n', 'RHOU\\n', 'SPDL1\\n', 'ACTL6B\\n', 'AJUBA\\n', 'CAMK2A\\n', 'USP4\\n', 'COL3A1\\n', 'CDK9\\n', 'MYO9A\\n', 'OPN1MW\\n', 'PTEN\\n', 'RAB9B\\n', 'SMAD1\\n', 'RAB27A\\n', 'UBE2D1\\n', 'H3-4\\n', 'ABCB9\\n', 'ZNF101\\n', 'AGTR2\\n', 'DLL1\\n', 'FBN3\\n', 'RNF185\\n', 'CUL1\\n', 'FCHO1\\n', 'ANGPT1\\n', 'H2AC20\\n', 'TMED10\\n', 'SH3RF1\\n', 'OR5T2\\n', 'IKZF1\\n', 'DMBT1\\n', 'RAB4A\\n', 'BIN2\\n', 'ZNF3\\n', 'ZNF500\\n', 'ALPL\\n', 'ECHS1\\n', 'HUS1\\n', 'ARHGDIB\\n', 'TUBB6\\n', 'SRP14\\n', 'AAK1\\n', 'ATP6V1D\\n', 'YBX1\\n', 'OR5M11\\n', 'SNCA\\n', 'TNNC1\\n', 'FGB\\n', 'COMMD1\\n', 'MDC1\\n', 'CC2D2A\\n', 'HDAC1\\n', 'SLC4A1\\n', 'AP2A1\\n', 'ARHGAP11B\\n', 'SIGLEC8\\n', 'GSPT1\\n', 'KCNJ11\\n', 'LRP6\\n', 'ITGA2\\n', 'TNKS2\\n', 'NCBP2\\n', 'ZC3H8\\n', 'OR7A17\\n', 'RELB\\n', 'ZNF445\\n', 'TSPAN14\\n', 'LDLRAP1\\n', 'ARNT\\n', 'EEF1A1\\n', 'SLC25A13\\n', 'S100A7\\n', 'SNAP23\\n', 'PIK3R3\\n', 'CHRM5\\n', 'TDG\\n', 'OR5P2\\n', 'SLC9C2\\n', 'UBE2K\\n', 'ZNF485\\n', 'PTBP1\\n', 'MCM3\\n', 'PSG11\\n', 'RNF114\\n', 'NOS3\\n', 'NUDT2\\n', 'OR4F16\\n', 'KRT33A\\n', 'COL6A5\\n', 'SRP68\\n', 'ARSB\\n', 'ARHGEF9\\n', 'SNX9\\n', 'CAPZA1\\n', 'FGF5\\n', 'GPR45\\n', 'ZNF26\\n', 'CORT\\n', 'LAMB1\\n', 'OR1L8\\n', 'IL3\\n', 'RBBP8\\n', 'TAF4\\n', 'SLC6A1\\n', 'PFN1\\n', 'OR56A5\\n', 'CEACAM6\\n', 'S1PR4\\n', 'NINL\\n', 'ADH5\\n', 'CRTC3\\n', 'MAPK8\\n', 'ESRP1\\n', 'PSMA3\\n', 'OTUB1\\n', 'AGRN\\n', 'OR13A1\\n', 'RASGEF1A\\n', 'CCL16\\n', 'HAUS2\\n', 'EXOSC8\\n', 'PCNA\\n', 'DCAF1\\n', 'BBC3\\n', 'LCE6A\\n', 'COX11\\n', 'ITGA3\\n', 'CCT4\\n', 'LAMA5\\n', 'CNKSR1\\n', 'ARFGAP2\\n', 'ZNF433\\n', 'USP17L3\\n', 'CREBBP\\n', 'RAP2C\\n', 'BST1\\n', '956527\\n', 'WASF1\\n', 'EHMT2\\n', 'SERPIND1\\n', 'ATP11B\\n', 'HAUS7\\n', 'VPS45\\n', 'EIF3L\\n', 'REEP4\\n', 'STXBP2\\n', 'RBP3\\n', 'NUP37\\n', 'RAD51\\n', 'OR6C75\\n', 'BANF1\\n', 'OR2F1\\n', 'OR4K15\\n', 'SRSF6\\n', 'CAV1\\n', 'CLP1\\n', 'RIPK1\\n', 'RAB5A\\n', 'NFATC1\\n', 'SLC24A5\\n', 'ORM1\\n', 'LHFPL2\\n', 'GCK\\n', 'FLNB\\n', 'GPR39\\n', 'ZNF699\\n', 'LTA4H\\n', 'OR10A7\\n', 'RGS10\\n', 'TGFBR1\\n', 'HTR1E\\n', 'HIF1A\\n', 'OR5T3\\n', 'OR5B2\\n', 'HGS\\n', 'GATAD2A\\n', 'TBL1XR1\\n', 'ZNF606\\n', 'RBX1\\n', 'H2BC5\\n', 'NCOA3\\n', 'WDR5\\n', 'USP12\\n', 'CDC23\\n', 'OR4X1\\n', 'KRT9\\n', 'VIPR2\\n', 'TRAPPC4\\n', 'CDCA8\\n', 'ARMC8\\n', 'CYFIP1\\n', 'POLR2G\\n', 'H4C13\\n', 'VWA1\\n', 'ALOX15\\n', 'ACOX2\\n', 'ZNF747\\n', 'NELFCD\\n', 'KCNJ9\\n', 'UBE2E3\\n', 'ZNF432\\n', 'DNM2\\n', 'USP44\\n', 'ZNF490\\n', 'CNR1\\n', 'COL27A1\\n', 'RAB7A\\n', 'COL8A2\\n', 'OR51T1\\n', 'OR51A4\\n', 'SPTBN1\\n', 'CPT1A\\n', 'GPR161\\n', 'RUNX2\\n', 'RNF7\\n', 'TUBB4B\\n', 'RNASE2\\n', 'KIFC2\\n', 'TACR1\\n', 'GADD45A\\n', 'STARD13\\n', 'PSMC5\\n', 'EVPL\\n', 'ITGB7\\n', 'RPL29\\n', 'RPL11\\n', 'HMGB1\\n', 'ERCC5\\n', 'OR6F1\\n', 'ZNF662\\n', 'CUL5\\n', 'ZNF430\\n', 'RPS18\\n', 'POLR3A\\n', 'RGS5\\n', 'HERC1\\n', 'S1PR5\\n', 'HMGA1\\n', 'ZNF18\\n', 'TRIM32\\n', 'ACER3\\n', 'MED22\\n', 'CD93\\n', 'ZNF704\\n', 'ANO10\\n', 'PHYKPL\\n', 'ZNF100\\n', 'GNA12\\n', 'H2AJ\\n', 'ZWILCH\\n', 'CASP3\\n', 'NDUFA6\\n', 'EPHA1\\n', 'GLB1\\n', 'CASK\\n', 'H3C2\\n', 'OR4F17\\n', 'ERBB4\\n', 'ADAM17\\n', 'DERA\\n', 'PSMA5\\n', 'AP2B1\\n', 'LSM7\\n', 'HOXD3\\n', 'NFKBIA\\n', 'TNIK\\n', 'OR52N4\\n', 'ZNF750\\n', 'LRRC41\\n', 'DLG3\\n', 'RUVBL1\\n', 'CFD\\n', 'TXNL4A\\n', 'NAPG\\n', 'EPGN\\n', 'CSH1\\n', 'CUL3\\n', 'CCNH\\n', 'TERF1\\n', 'ARHGEF5\\n', 'KIF19\\n', 'TNC\\n', 'TFRC\\n', 'NMB\\n', 'XRCC6\\n', 'ADRB1\\n', 'RAB1A\\n', 'ZNF737\\n', 'MLN\\n', 'COG5\\n', 'TRIM36\\n', 'ABAT\\n', 'RPP21\\n', 'RPL5\\n', 'ACTN2\\n', 'TAGLN2\\n', 'FGD2\\n', 'ZNF621\\n', 'NCK1\\n', 'OR6C74\\n', 'TRAT1\\n', 'LIMS1\\n', 'MAPRE1\\n', 'CXCL5\\n', 'EEF1AKMT2\\n', 'DTX1\\n', 'CBX4\\n', 'KRT81\\n', 'PEX13\\n', 'TOP2A\\n', 'PPP2R1A\\n', 'CYP21A2\\n', 'SIK1B\\n', 'CTCF\\n', 'OR5M1\\n', 'OR11L1\\n', 'CGA\\n', 'OR5D14\\n', 'H2AC12\\n', 'APBB1\\n', 'COL16A1\\n', 'OR2C1\\n', '155459\\n', 'ZNF564\\n', 'SMAD7\\n', 'OR6C68\\n', 'ARHGEF1\\n', 'PLXNB1\\n', 'USP20\\n', 'TADA1\\n', 'PDE7A\\n', 'ZNF285\\n', '390441\\n', 'LYZ\\n', 'GP9\\n', 'MYH11\\n', 'UBD\\n', 'RPS4Y2\\n', 'SYT5\\n', 'S100A12\\n', 'KDM4B\\n', 'CNOT1\\n', 'F8\\n', 'TAF3\\n', 'MYL9\\n', 'OR2K2\\n', 'GHDC\\n', 'POLR3C\\n', 'OR6X1\\n', 'UBE2B\\n', 'MC5R\\n', 'PRLHR\\n', 'CASR\\n', 'GNL3\\n', 'NEO1\\n', 'TBXA2R\\n', 'IL2RB\\n', 'TAS1R1\\n', 'ARHGAP17\\n', 'H2BC10\\n', 'CASQ2\\n', 'OR4C15\\n', 'PRKAR2A\\n', 'SRSF1\\n', 'CSAD\\n', 'NUP58\\n', 'INPP5B\\n', 'ZNF484\\n', 'KIF1C\\n', 'RPS5\\n', 'SNAPC2\\n', 'SMC3\\n', 'DIS3\\n', 'LIPN\\n', 'PTGER3\\n', 'PLA2G4C\\n', 'HSP90AB1\\n', 'OR1B1\\n', 'GPR20\\n', 'DLD\\n', 'KRTAP1-4\\n', 'EP300\\n', 'STAT5B\\n', 'P2RX1\\n', 'OR1A2\\n', 'UGT1A9\\n', 'SLC11A1\\n', 'NCF4\\n', 'SARNP\\n', 'APRT\\n', 'MED4\\n', 'ASB16\\n', 'PSMA1\\n', 'ZNF583\\n', 'TAS2R13\\n', 'AGO4\\n', 'ACTR1A\\n', 'SERPINA1\\n', 'DCAF16\\n', 'MET\\n', 'ADCY2\\n', 'IL7R\\n', 'ATP6V1B2\\n', 'RPS27A\\n', 'TGFA\\n', 'USP47\\n', 'PLAU\\n', 'SPTBN2\\n', 'PTGES2\\n', 'COL1A2\\n', 'KRTAP10-12\\n', 'SERPINB3\\n', 'PARP2\\n', 'OPRK1\\n', 'OR51B6\\n', 'AXIN1\\n', 'H2BC18\\n', 'OR10P1\\n', 'TEAD4\\n', 'CAPN11\\n', 'OR10Z1\\n', 'MAPK13\\n', 'OR6C76\\n', 'OR51A7\\n', 'GRIN2B\\n', 'SAP130\\n', 'NFYA\\n', 'BMI1\\n', 'TUBA3E\\n', 'H2AC17\\n', 'POLR3D\\n', 'MINK1\\n', 'CHD9\\n', 'RBM8A\\n', 'H4C2\\n', 'INTU\\n', 'ARHGEF15\\n', 'ARHGEF10L\\n', 'SF3B4\\n', 'DYNC1LI1\\n', 'NXF2B\\n', 'OR6K2\\n', 'UBE2Q2\\n', 'TRAPPC10\\n', 'AP1M2\\n', 'OR5D13\\n', 'ERCC3\\n', 'OR5M8\\n', 'CDCA5\\n', 'CSTF2\\n', 'MANF\\n', 'AGPAT3\\n', 'RPL19\\n', 'RUNX1\\n', 'OCRL\\n', 'GOT2\\n', 'OR2AP1\\n', 'TAAR2\\n', 'CENPF\\n', 'H2BC1\\n', 'CHMP4A\\n', 'CLTC\\n', 'C1D\\n', 'ZNF649\\n', 'PREX2\\n', 'AKT3\\n', 'KRTAP19-2\\n', 'OR2H2\\n', 'CD59\\n', 'SLC44A2\\n', 'EIF3H\\n', 'KLC4\\n', 'TGFB2\\n', 'CSNK1E\\n', 'CLIP1\\n', 'TP73\\n', 'ENY2\\n', 'OR5B17\\n', 'FGF2\\n', 'SLC25A21\\n', 'FURIN\\n', 'OR4F15\\n', 'UBE2I\\n', 'SNRPA1\\n', 'CCL27\\n', 'CHRDL1\\n', 'SFTPD\\n', 'INTS11\\n', 'USP1\\n', 'ARHGEF3\\n', 'UBA7\\n', 'EMILIN1\\n', 'POLE4\\n', 'HAO1\\n', 'IFNA21\\n', 'PSMB3\\n', 'OR51F2\\n', 'TAS2R40\\n', 'ANGPTL4\\n', 'RPS16\\n', 'PF4\\n', 'DLG1\\n', 'COL5A3\\n', 'PSMC6\\n', 'OR9A4\\n', 'PRMT5\\n', 'FCN1\\n', 'DYNLL2\\n', 'MT-CO3\\n', 'ORMDL3\\n', 'ARHGAP22\\n', 'PPIA\\n', 'DOCK5\\n', 'BCL9L\\n', 'PRKG1\\n', 'ZNF419\\n', 'INO80D\\n', 'OR14J1\\n', 'GATA1\\n', 'ENPP4\\n', 'POLR3F\\n', 'FFAR4\\n', 'CEP131\\n', 'MCM6\\n', 'H4-16\\n', 'CTDP1\\n', 'ZNF256\\n', 'FBXL7\\n', 'PSMD1\\n', 'MAP3K11\\n', 'NALCN\\n', 'SH2B1\\n', 'OR2L8\\n', 'OR1N1\\n', 'PIK3R5\\n', 'HJURP\\n', 'FCER2\\n', 'PADI1\\n', 'YWHAQ\\n', 'CENPH\\n', 'CHD1L\\n', 'BAP1\\n', 'HLA-E\\n', 'SPTBN4\\n', 'RPS25\\n', 'OR52K2\\n', 'GNRH1\\n', 'HLA-DMB\\n', 'ZNF679\\n', 'POLH\\n', 'APOA1\\n', 'PYY\\n', 'NFYC\\n', 'RAB27B\\n', 'CCND2\\n', 'KRTAP25-1\\n', 'CD3D\\n', 'ACTR10\\n', 'KIF7\\n', 'LMAN2L\\n', 'CETN2\\n', 'OXTR\\n', 'SLC22A2\\n', 'KIFC3\\n', 'PLA2G6\\n', 'NMUR2\\n', 'UBE3C\\n', 'DLC1\\n', 'MAP2K4\\n', 'GPR83\\n', 'SMARCC2\\n', 'DHH\\n', 'AKR1A1\\n', 'ADORA1\\n', 'PLD1\\n', 'ARHGAP6\\n', 'GSPT2\\n', 'P2RY6\\n', 'SDCCAG8\\n', 'THOC5\\n', 'P2RY13\\n', 'COL12A1\\n', 'AMBN\\n', 'PDE1A\\n', 'RAB4B\\n', 'BRAP\\n', 'CTSO\\n', 'LIN7A\\n', 'OR2G2\\n', 'OR52N2\\n', 'ZNF473\\n', 'MPHOSPH10\\n', 'HTR1D\\n', 'KANK1\\n', 'PTGS2\\n', 'RGS21\\n', 'GNG7\\n', 'ADRM1\\n', 'ITGB8\\n', 'CCL28\\n', 'TACR3\\n', 'CFH\\n', 'POLR3K\\n', 'DYNC1I1\\n', 'PTGDR\\n', 'OR51E2\\n', 'HEATR1\\n', 'ANAPC4\\n', 'C9\\n', 'ADORA2B\\n', 'AEBP2\\n', 'CALCR\\n', 'POMC\\n', 'VPREB3\\n', 'RTP1\\n', 'MLH3\\n', 'SLIT2\\n', 'DEFB105A\\n', 'DNAJB1\\n', 'MAPK14\\n', 'PSG3\\n', 'CYP17A1\\n', 'TUBA8\\n', 'DENND2D\\n', 'IFT46\\n', 'PPP3R1\\n', 'AKAP10\\n', 'LTB4R2\\n', 'CTSD\\n', 'AADAT\\n', 'PYGB\\n', 'ALAD\\n', 'MAML3\\n', 'OR7A10\\n', 'NFKB1\\n', 'HEXB\\n', 'OR1L4\\n', 'EIF3C\\n', 'COMMD2\\n', 'PRSS2\\n', 'ARCN1\\n', 'STAMBP\\n', 'GRIN3A\\n', 'KLK2\\n', 'WNK3\\n', 'GRK3\\n', 'VWF\\n', 'ZNF540\\n', 'POT1\\n', 'PPP4R2\\n', 'RRAGB\\n', 'NDUFC2\\n', 'HSF1\\n', 'PPP1CC\\n', 'BEST4\\n', 'WDR3\\n', 'KIF11\\n', 'YWHAZ\\n', 'ARNTL\\n', 'KRT14\\n', 'ADORA2A\\n', 'HIPK1\\n', 'HK3\\n', 'F13B\\n', 'MFN1\\n', 'TNFAIP6\\n', 'MMP3\\n', 'RAD50\\n', 'EIF3B\\n', 'ALDH7A1\\n', 'PADI2\\n', 'RXFP4\\n', 'OR4L1\\n', 'AGFG1\\n', 'ERBB3\\n', 'NEDD1\\n', 'NRAS\\n', 'ZNF610\\n', 'SFI1\\n', 'STUB1\\n', 'TNRC6B\\n', 'FCER1G\\n', 'ZNF43\\n', 'NFYB\\n', 'CCT6A\\n', 'BDKRB2\\n', 'KPNB1\\n', 'EIF3J\\n', '956531\\n', 'RPS4Y1\\n', 'LAMA1\\n', 'FBXO11\\n', 'RPS9\\n', 'ETS1\\n', 'SLU7\\n', 'RPL22\\n', 'UBE2H\\n', 'ADH1B\\n', 'CYB5R3\\n', 'CXCL8\\n', 'WNT2B\\n', 'GFRA2\\n', 'PSMC3IP\\n', 'PCDH7\\n', 'ITCH\\n', 'DKC1\\n', 'PRSS3\\n', 'RPL26L1\\n', 'LY6G6F\\n', 'SHC2\\n', 'KIF9\\n', 'GCA\\n', 'ZNF544\\n', 'PPP4C\\n', 'ZNF626\\n', 'SSRP1\\n', 'MLNR\\n', 'RRAGD\\n', 'COPG2\\n', 'ZCRB1\\n', 'OR8H1\\n', 'DOCK11\\n', 'KRAS\\n', 'UBE3B\\n', 'RBBP4\\n', 'U2AF2\\n', 'VPS28\\n', 'ZNF706\\n', 'MYBL2\\n', 'VAV1\\n', 'SFTPA2\\n', 'IGFBP7\\n', 'NMBR\\n', 'MAD1L1\\n', 'CLEC12A\\n', '155030\\n', 'YWHAE\\n', 'H4C6\\n', 'CRTAM\\n', 'HTR1B\\n', 'CDK11B\\n', 'SEC22B\\n', 'COL4A3\\n', 'FBXW2\\n', 'DZIP3\\n', 'ACOT12\\n', 'RAB5C\\n', 'FOXK1\\n', 'GCC1\\n', 'ABCG2\\n', 'GAB2\\n', 'PTPN6\\n', 'IGFBP4\\n', 'CHI3L1\\n', 'OPRM1\\n', 'PABPC1\\n', 'ARHGAP10\\n', 'CD47\\n', 'GPR150\\n', 'SULT1A3\\n', 'OR52E8\\n', 'CSNK1G2\\n', 'SPCS1\\n', 'OR5A2\\n', 'XCL1\\n', 'CDK2\\n', 'NCKAP1L\\n', 'POLE2\\n', 'AGT\\n', 'FBXW8\\n', 'SLC16A1\\n', 'BIRC5\\n', 'BUD23\\n', 'TAS2R46\\n', 'LRRTM3\\n', 'NET1\\n', 'LCE1B\\n', 'MKS1\\n', 'OR2L2\\n', 'ARHGEF18\\n', 'CHERP\\n', 'PRMT6\\n', 'LRG1\\n', 'EEF1AKMT4-ECE2\\n', 'ARHGAP44\\n', 'TMED9\\n', 'PCLAF\\n', 'DROSHA\\n', 'HRH1\\n', 'PAIP1\\n', 'TSPAN33\\n', 'CAMP\\n', 'RARA\\n', 'ADCYAP1\\n', 'OXGR1\\n', 'RNF19A\\n', 'OR2T6\\n', 'GLI3\\n', 'BICD2\\n', 'OR6S1\\n', 'DNM1\\n', 'SERPINB6\\n', 'CD200\\n', 'ETFA\\n', 'ZNF696\\n', 'WEE1\\n', 'AGTPBP1\\n', 'WASF3\\n', 'KLRF1\\n', 'ZNF529\\n', 'DNMT3A\\n', 'AGXT2\\n', 'USP17L27\\n', 'JAK1\\n', 'TACR2\\n', 'KIF15\\n', 'HERC3\\n', 'MMP8\\n', 'POU2F1\\n', 'PRKAB1\\n', 'SEH1L\\n', 'NOTCH3\\n', 'FLRT2\\n', 'PSMA2\\n', 'EEF2\\n', 'OR8H3\\n', 'ADCY5\\n', 'RPL13\\n', 'PIGR\\n', 'ZNF12\\n', 'PTPRS\\n', 'STON1\\n', 'STC2\\n', 'FZD7\\n', 'SNRNP25\\n', 'ABCA3\\n', 'ZNF143\\n', 'PRKAB2\\n', 'ZNF708\\n', 'RHOA\\n', 'ZNF727\\n', 'OR5AP2\\n', 'MTM1\\n', 'TXN2\\n', 'KAT2B\\n', 'CD4\\n', 'RAD51D\\n', 'OR51G2\\n', 'EHMT1\\n', 'AGO3\\n', 'EIF4A3\\n', 'FANCI\\n', 'FLG2\\n', 'AXIN2\\n', 'OR6N2\\n', 'U2SURP\\n', 'PRELP\\n', 'LPAR2\\n', 'OR2T10\\n', 'IL4I1\\n', 'NPBWR1\\n', 'BRAF\\n', 'PRDX6\\n', 'OR7G1\\n', 'GMFG\\n', 'CDA\\n', 'FIP1L1\\n', 'LAMTOR3\\n', 'UQCRB\\n', 'FBXW12\\n', 'SLC18A3\\n', 'ZNF567\\n', 'GRHL1\\n', 'MCM2\\n', 'ARHGEF12\\n', 'ABR\\n', 'TBC1D10C\\n', 'HDAC7\\n', 'AGL\\n', 'GNGT1\\n', 'DYNC1H1\\n', 'SEC13\\n', 'STOM\\n', 'SEC31A\\n', 'H3C11\\n', 'SSTR4\\n', 'OR8A1\\n', 'PSMB1\\n', 'GNAS\\n', 'CD40LG\\n', 'OR56B1\\n', 'CPSF3\\n', 'MEF2C\\n', 'CDC42EP5\\n', 'RPL41\\n', 'SLCO1B3\\n', 'DAB2\\n', 'ZFYVE9\\n', 'KRT6C\\n', 'H3C1\\n', 'DCUN1D1\\n', 'USP17L4\\n', 'PFDN4\\n', 'PIAS3\\n', 'U2AF1L4\\n', 'CD207\\n', 'ALB\\n', 'OR5H14\\n', 'SLC6A11\\n', 'OR4C11\\n', 'PSMC2\\n', 'HNRNPH1\\n', 'DERL1\\n', 'PRKACG\\n', 'MYDGF\\n', 'USP17L8\\n', 'ZNF773\\n', 'WNT5A\\n', 'APH1B\\n', 'NDUFV1\\n', 'UBAP1\\n', 'IL18BP\\n', 'OR6C65\\n', 'INTS9\\n', 'ZNF599\\n', 'IRF7\\n', 'OR4A5\\n', 'SHC3\\n', 'HRH3\\n', 'S1PR2\\n', 'MYL12B\\n', 'GNB4\\n', 'RNASE3\\n', 'PCNT\\n', 'USP17L30\\n', 'HPD\\n', 'WDR36\\n', 'IL6R\\n', 'H2AC14\\n', 'S100A8\\n', 'SLC25A12\\n', 'CUL4A\\n', 'KRBOX4\\n', 'OR4C16\\n', 'PGM1\\n', 'YPEL5\\n', 'KIFC1\\n', 'PSMA8\\n', 'ZNF446\\n', 'IL33\\n', 'QSOX1\\n', 'ROBO2\\n', 'P4HA1\\n', 'IGFALS\\n', 'ADRA2B\\n', 'ADRB2\\n', 'CENPI\\n', 'RNF103-CHMP3\\n', 'TERT\\n', 'GPX2\\n', 'ADCY8\\n', 'BBOX1\\n', 'RNASE1\\n', 'ARHGAP29\\n', 'ZNF770\\n', 'ANO2\\n', 'UBE2J2\\n', 'TAS2R50\\n', 'AKT1\\n', 'ITGA1\\n', 'CTSA\\n', 'RNASET2\\n', 'IL5\\n', 'CDC37L1\\n', 'OAS1\\n', 'SPC25\\n', 'CENPM\\n', 'RCN1\\n', 'OR11H2\\n', 'CEP78\\n', 'SLC38A9\\n', 'ZNF343\\n', 'YWHAB\\n', 'ADRA2A\\n', 'KRTAP13-3\\n', 'KIF25\\n', 'MED13L\\n', 'MMP10\\n', 'SHMT1\\n', 'GOLGA1\\n', 'POLRMT\\n', 'CCL25\\n', 'EIF3M\\n', 'CDC40\\n', 'USP5\\n', 'RPL10A\\n', 'CCL22\\n', 'UTS2B\\n', 'ZWINT\\n', 'H2AC15\\n', 'PPIH\\n', 'ABCB1\\n', 'UNC79\\n', 'RBFOX2\\n', 'KIF18A\\n', 'ZNF223\\n', 'CNIH1\\n', 'ALDH2\\n', 'RPA1\\n', 'IL2RG\\n', 'YAP1\\n', 'OR1J1\\n', 'TAS2R16\\n', 'CD300A\\n', 'ATP1B3\\n', 'CPT1B\\n', 'YY1\\n', 'RPL39\\n', 'COMP\\n', 'MCM7\\n', 'TBC1D1\\n', 'REEP6\\n', 'CBX5\\n', 'PHF19\\n', 'JADE1\\n', 'OR4D5\\n', 'HDAC8\\n', 'TAF1B\\n', 'H4C11\\n', 'MAPK3\\n', 'COG6\\n', 'IFNA16\\n', 'RTP2\\n', 'OR2Z1\\n', 'HMOX1\\n', 'OR10H2\\n', 'FBXW10\\n', 'AGTRAP\\n', 'GPC2\\n', 'H3C7\\n', 'COPS3\\n', 'ALDOB\\n', 'OR11H1\\n', 'GPR143\\n', '441669\\n', 'HLA-DPA1\\n', 'MAFK\\n', 'IP6K2\\n', 'CSPG5\\n', 'RAMP3\\n', 'GNA15\\n', 'CLSPN\\n', 'MYD88\\n', 'ANAPC7\\n', 'AP1S1\\n', 'SCN8A\\n', 'H2AC21\\n', 'KCNB1\\n', 'SCUBE3\\n', 'CD40\\n', 'ATG14\\n', 'OR2L5\\n', 'WDR46\\n', 'MYB\\n', 'NRIP1\\n', 'LAIR1\\n', 'CCP110\\n', 'GREB1\\n', '956533\\n', 'NEDD4L\\n', 'POLR2B\\n', 'EPHB6\\n', 'RGS16\\n', 'PRLR\\n', 'USP17L11\\n', 'OR5F1\\n', 'CLPS\\n', 'ZNF425\\n', 'MRTFA\\n', 'RASAL3\\n', 'ACTR1B\\n', 'ZNF233\\n', 'ZNF350\\n', 'ZNF775\\n', 'GPR84\\n', 'SOD1\\n', 'RRAGC\\n', 'OTUD3\\n', 'RAPGEF2\\n', 'ZNF20\\n', 'GLMN\\n', 'FANCA\\n', 'PRNP\\n', 'CXXC5\\n', 'CD109\\n', 'DNAJC13\\n', 'LILRA3\\n', 'CSF1\\n', 'USP2\\n', 'SERPINA3\\n', 'OR4N2\\n', 'TUBB2B\\n', 'ERCC4\\n', 'RELA\\n', 'RAD9A\\n', 'HLA-DOA\\n', 'FRMPD3\\n', 'LPAR1\\n', 'KALRN\\n', 'IL1RAP\\n', 'CCK\\n', 'CENPO\\n', 'ZNF573\\n', 'HABP4\\n', 'KLF4\\n', 'ITGAX\\n', 'GOT1\\n', 'KCTD7\\n', 'BMP4\\n', 'RRH\\n', 'PCBP1\\n', 'FFAR1\\n', 'ZNF761\\n', 'MSI1\\n', 'XPO5\\n', 'MED30\\n', 'RPS8\\n', 'HIBADH\\n', 'HSD3B1\\n', 'OR2A42\\n', 'ERCC1\\n', 'PGM2\\n', 'PVR\\n', 'CFP\\n', 'CALM2\\n', 'RPL27\\n', 'POLR1G\\n', 'KRTAP11-1\\n', 'GALR1\\n', 'RMI2\\n', 'IFT88\\n', 'KRTAP9-2\\n', 'IRF4\\n', 'TNFRSF10D\\n', 'TLL2\\n', 'SLC22A6\\n', 'TCP1\\n', 'CALCA\\n', 'LUM\\n', 'OR6P1\\n', 'EGR1\\n', 'MGAM\\n', 'ATP11A\\n', 'RPS23\\n', 'DDB1\\n', 'OR2L13\\n', 'NUF2\\n', 'OR4S1\\n', 'HOXA1\\n', 'TBK1\\n', 'STAG1\\n', 'ZNRF3\\n', 'MAPK12\\n', 'PDPK1\\n', '162699\\n', 'ZNF607\\n', 'IQGAP1\\n', 'HLA-DQB1\\n', 'ZNF510\\n', 'TRIM10\\n', 'BET1L\\n', 'RORC\\n', 'ZNF211\\n', 'ZNF354B\\n', 'ATP2A2\\n', 'ATP13A4\\n', 'PAK3\\n', 'ARTN\\n', 'TRIM21\\n', 'MAGOHB\\n', 'SYT2\\n', 'BCAN\\n', 'KMT2A\\n', 'ATP2A3\\n', 'COL4A5\\n', 'PPP6R1\\n', 'LIG3\\n', 'BUB1B\\n', 'THOC7\\n', 'ZNF155\\n', 'NUP153\\n', 'PPP2R5B\\n', 'NRG3\\n', 'HUWE1\\n', 'OR3A3\\n', 'LEP\\n', 'ARF4\\n', 'RXRB\\n', 'FFAR3\\n', 'ATP2B3\\n', 'NBAS\\n', 'SSR1\\n', 'FBXO21\\n', 'HGSNAT\\n', 'UBE2Q1\\n', 'CABLES1\\n', 'PTGIS\\n', 'CENPS\\n', 'TAS2R19\\n', 'RPS6KA1\\n', 'CARNS1\\n', 'REEP5\\n', 'PROKR1\\n', 'RPS6KA2\\n', 'ATP6AP2\\n', 'ARHGEF37\\n', 'COG1\\n', 'NDUFS5\\n', 'CXCL9\\n', 'RING1\\n', 'ELMO2\\n', 'CD33\\n', 'NTN4\\n', 'VPS36\\n', 'DERL2\\n', 'HDAC2\\n', 'PTX3\\n', 'MAPK1\\n', 'TULP4\\n', 'PHC2\\n', 'HLA-F\\n', 'OR2J1\\n', 'H2AC8\\n', 'DEFA1B\\n', 'MED25\\n', 'DCTN4\\n', 'MAN2B1\\n', 'HLA-DRB1\\n', 'KDM6B\\n', 'FBXO44\\n', 'APP\\n', 'TUBB3\\n', 'OR52N5\\n', 'NAPB\\n', 'ADH7\\n', 'FABP12\\n', 'ZNF681\\n', 'FEM1C\\n', 'COL11A2\\n', 'MTARC2\\n', 'OR11H6\\n', 'KRTAP4-4\\n', 'CSNK1A1\\n', 'UGT1A3\\n', 'LCE4A\\n', 'RUVBL2\\n', 'IRF9\\n', 'ITPR2\\n', 'OR6C2\\n', 'IFNA2\\n', 'TLE2\\n', 'PSMD12\\n', 'ZNF79\\n', 'IL27RA\\n', 'RUNX3\\n', 'RGS11\\n', 'CSTF2T\\n', 'DOCK2\\n', 'CX3CL1\\n', 'CXCR4\\n', 'ZNF140\\n', 'MS4A3\\n', 'ASB13\\n', 'GNGT2\\n', 'POLR2A\\n', 'SLPI\\n', 'HNRNPA3\\n', 'GIP\\n', 'TRIM25\\n', 'PDS5A\\n', 'RPL12\\n', 'PDE4A\\n', 'TOMM70\\n', 'FBXO17\\n', 'ACTR2\\n', 'ARHGAP45\\n', 'OR8B3\\n', 'CDC7\\n', 'TRIM69\\n', 'TRA2B\\n', 'ITGAV\\n', 'SYCE2\\n', 'AMELX\\n', 'KIF23\\n', 'BTRC\\n', 'CD44\\n', 'TUBB1\\n', 'CAV2\\n', 'GATA3\\n', 'OR2L3\\n', 'GPC6\\n', 'NUP160\\n', 'ZNF25\\n', 'TAC1\\n', 'BTC\\n', 'RPS11\\n', 'ASB4\\n', 'NCR3LG1\\n', 'SIRT4\\n', 'RNF146\\n', 'FGD1\\n', 'KRTAP4-9\\n', 'PKP3\\n', 'ETF1\\n', 'KRTAP5-8\\n', 'OR51J1\\n', 'GSR\\n', 'MALT1\\n', 'LGMN\\n', 'XPO1\\n', 'ARHGAP20\\n', 'OR4D10\\n', 'ZNF585A\\n', 'TERF2IP\\n', 'ARIH2\\n', 'HRH4\\n', 'KLK5\\n', 'MAGOH\\n', 'FBXO15\\n', 'H2AC6\\n', 'ECHDC2\\n', 'USP21\\n', 'OR4C3\\n', 'DCAF10\\n', 'KRTAP9-4\\n', 'FOSB\\n', 'SLC7A9\\n', 'CSF2RA\\n', 'NCKAP1\\n', 'ZNF429\\n', 'OR4F6\\n', 'RNASEL\\n', 'FBXL16\\n', 'FOXA1\\n', 'CENPS-CORT\\n', 'EPHB2\\n', 'NIP7\\n', 'CBL\\n', 'CDC42\\n', 'USP3\\n', 'TLR4\\n', 'FANCL\\n', 'RYR2\\n', 'SETD1A\\n', 'CCL3\\n', 'ERLEC1\\n', 'GIPR\\n', 'SLC6A13\\n', 'ZNF112\\n', 'AADAC\\n', 'NGF\\n', 'OR4F3\\n', 'ZNF680\\n', 'GPC3\\n', 'SH2B3\\n', 'ITGA7\\n', 'SRGAP1\\n', 'FMNL3\\n', 'PPIE\\n', 'COPG1\\n', 'THOC6\\n', 'OR10A3\\n', 'COX20\\n', 'CTSW\\n', 'ZBTB16\\n', 'ZNF627\\n', 'KRT34\\n', 'HSPA1A\\n', 'DDX39B\\n', 'CRTC2\\n', 'CAPN12\\n', 'MAT1A\\n', 'DET1\\n', 'LAMP2\\n', 'CEP57\\n', 'TLR6\\n', 'RAB6B\\n', 'ACTL6A\\n', 'SFN\\n', 'KBTBD8\\n', 'RRN3\\n', 'ZNF791\\n', 'MBD1\\n', 'KISS1R\\n', 'STAG2\\n', 'F2\\n', 'NPC2\\n', 'NECAP2\\n', 'SNRPD3\\n', 'ZKSCAN3\\n', 'ZNF461\\n', 'HACE1\\n', 'ELOA2\\n', 'ICAM3\\n', 'NUP50\\n', 'KAT14\\n', 'RPL36AL\\n', 'TOLLIP\\n', 'CDK7\\n', 'XRN2\\n', 'PHF5A\\n', 'ITPR1\\n', 'ADAM10\\n', 'FGF9\\n', 'SEC23A\\n', 'SLC8A1\\n', 'KLHL20\\n', 'OR10G7\\n', 'UTP4\\n', 'KRTAP13-1\\n', 'ZNF689\\n', 'HSPA8\\n', 'GTPBP2\\n', 'C5AR1\\n', 'RPL8\\n', 'MYH14\\n', 'CASP14\\n', 'OR8G5\\n', 'MAFG\\n', 'OR6K6\\n', 'CLINT1\\n', 'OR52J3\\n', 'PSMB6\\n', 'BGN\\n', 'PEBP1\\n', 'CREG1\\n', 'TOPBP1\\n', 'TCEA1\\n', 'IVL\\n', 'ALDH3B2\\n', 'TAS2R39\\n', 'ZNF547\\n', 'IRF6\\n', 'COL8A1\\n', 'BTK\\n', 'TRIM41\\n', 'FBXO40\\n', 'FBXW7\\n', 'COPS8\\n', 'SATB2\\n', 'KLK13\\n', 'NUP188\\n', 'MED20\\n', 'OR8U3\\n', 'H2AC13\\n', 'KRTAP1-3\\n', 'AVPR1A\\n', 'OR4D6\\n', 'NUP155\\n', 'AOC2\\n', 'RPS14\\n', 'CDC45\\n', 'MSL3\\n', 'ESRRA\\n', 'GNAZ\\n', 'KLRC2\\n', 'OR2T34\\n', 'ZNF589\\n', 'MTA1\\n', 'COMMD3-BMI1\\n', 'GSN\\n', 'ZNF17\\n', 'INTS5\\n', 'TNFSF12\\n', 'RNF115\\n', 'OR4N5\\n', 'ZNF566\\n', 'CMTM6\\n', 'ZNF597\\n', 'EAF1\\n', 'ZNF264\\n', 'TAF6\\n', 'MED15\\n', 'ZNF586\\n', 'POLR2J\\n', 'PDE1B\\n', 'MYC\\n', 'COMMD4\\n', 'USP13\\n', 'ITK\\n', 'GNAT3\\n', 'OR8G2P\\n', 'ADAMTS5\\n', 'AGO2\\n', 'BRCC3\\n', 'ANAPC2\\n', 'USP14\\n', 'IGLL1\\n', 'PPP3CA\\n', 'TMEM67\\n', 'SPARC\\n', 'EIF3I\\n', 'HDAC11\\n', 'POLR1F\\n', 'CCL20\\n', 'SLX1B\\n', 'OSM\\n', 'LBP\\n', 'OR4M1\\n', 'COL6A1\\n', 'DDX42\\n', 'MCRS1\\n', 'S1PR1\\n', 'C3AR1\\n', 'GRIA1\\n', 'OR5H2\\n', 'ATP6V1H\\n', 'CDO1\\n', 'MED7\\n', 'PSEN1\\n', 'ANAPC10\\n', 'NOL6\\n', 'USP7\\n', 'KRT74\\n', 'OR52B2\\n', 'CUL2\\n', 'NHLRC3\\n', 'OR1G1\\n', 'CTSB\\n', 'OR2B2\\n', 'PRCP\\n', 'ZNF324\\n', 'REEP2\\n', 'OR1I1\\n', 'TAS2R1\\n', 'PHC1\\n', 'ST6GALNAC4\\n', 'ZW10\\n', 'CTSZ\\n', 'COPS7A\\n', 'OR7C1\\n', 'LRRTM4\\n', 'FBXL20\\n', 'FOLR1\\n', 'GPI\\n', 'MAPKAPK2\\n', 'SDSL\\n', 'OR2T33\\n', 'TBL1X\\n', 'RAB21\\n', 'ADHFE1\\n', 'TNFSF12-TNFSF13\\n', 'SNRPN\\n', 'TCF7\\n', 'TFDP1\\n', 'EPHA2\\n', 'UPF2\\n', 'KCNC2\\n', 'RHOJ\\n', 'LMAN2\\n', 'HADHA\\n', 'EREG\\n', 'ARHGAP8\\n', 'CACNA1D\\n', 'ALDH9A1\\n', 'OR2S2\\n', 'PHAX\\n', 'FBXW11\\n', 'CD1D\\n', 'ISG20L2\\n', 'ZNF552\\n', 'ELP6\\n', 'CDC20\\n', 'EIF2S3\\n', 'BCKDK\\n', 'OPRL1\\n', 'PSMD8\\n', 'HSPA6\\n', 'MMP17\\n', 'DCAF11\\n', 'TAS2R8\\n', 'FABP5\\n', 'MAP3K1\\n', 'CFL1\\n', 'U2AF1L5\\n', 'MECP2\\n', 'KLHL42\\n', 'NUP93\\n', 'OR56A3\\n', 'JAG1\\n', 'HOXA2\\n', 'AHCYL1\\n', 'KIF3C\\n', 'SOCS6\\n', 'OR5K4\\n', 'SUPT4H1\\n', 'ERCC6L\\n', 'RLN3\\n', 'OR5D18\\n', 'ALAS1\\n', 'PLCG1\\n', 'HERC6\\n', 'OR4C5\\n', 'ZNF253\\n', 'RPL31\\n', '956536\\n', 'BRI3\\n', 'RAE1\\n', 'VAV2\\n', 'POLR1D\\n', 'DDX39A\\n', 'GNG12\\n', 'SMARCA2\\n', 'ASB5\\n', 'RORA\\n', 'KBTBD13\\n', 'ZNF691\\n', 'FBXL22\\n', 'GTF2H4\\n', 'PPIL1\\n', 'RPS28\\n', 'IL17F\\n', 'HBG1\\n', 'PSMD11\\n', 'LRRFIP1\\n', 'EIF4A1\\n', 'OR52M1\\n', 'CEBPB\\n', 'CLOCK\\n', 'CSTF3\\n', 'SRSF11\\n', 'HSPA1B\\n', 'CDT1\\n', 'VCP\\n', 'CEP250\\n', 'PRKAA2\\n', 'ERCC8\\n', 'SCTR\\n', 'TERF2\\n', 'LAT\\n', 'ZNF221\\n', 'LGALS3\\n', 'COPA\\n', 'PHF8\\n', 'LCE3E\\n', 'NTSR2\\n', 'COL6A3\\n', 'USP11\\n', 'CEP70\\n', 'ARHGAP1\\n', 'CBLL2\\n', 'TRIM62\\n', 'MCM5\\n', 'LDHA\\n', 'OR2G6\\n', 'TIAM1\\n', 'ZNF417\\n', 'ATF2\\n', 'ASB10\\n', 'CENPK\\n', 'PKP2\\n', 'CHIT1\\n', 'IER3\\n', 'ZNF347\\n', 'MUL1\\n', 'ZNF860\\n', 'ZNF530\\n', 'CCNE1\\n', 'KCTD6\\n', 'CX3CR1\\n', 'ALCAM\\n', 'UBTF\\n', 'MMP11\\n', 'CRISPLD2\\n', 'FUCA2\\n', 'OR7C2\\n', 'BHLHE40\\n', 'ALYREF\\n', 'ZNF546\\n', 'OGT\\n', 'USP42\\n', 'KAT6A\\n', 'ACKR4\\n', 'TAS2R5\\n', 'GBP5\\n', 'TCF12\\n', 'ZNF671\\n', 'TREM1\\n', 'P2RY1\\n', 'MED12\\n', 'FFAR2\\n', 'TUBA3D\\n', 'SLC5A7\\n', 'CENPT\\n', 'IL12B\\n', 'SNAP29\\n', 'MED10\\n', 'GABPA\\n', 'FBN1\\n', 'EIF3A\\n', 'ZNF70\\n', 'ELL\\n', 'GPR27\\n', 'IFT27\\n', 'SYVN1\\n', 'PTPRB\\n', 'DDX21\\n', 'TXNRD1\\n', 'PPP2R5A\\n', 'GNG10\\n', 'LHX3\\n', 'HLA-DQB2\\n', 'CHMP4B\\n', 'KRT3\\n', 'DYNLRB1\\n', 'DNAJB6\\n', 'EIF3K\\n', 'SKP2\\n', 'RNF138\\n', 'GNG8\\n', 'MTMR3\\n', 'KIF6\\n', 'TUBB8\\n', 'LCE3C\\n', 'CEACAM3\\n', 'DCUN1D4\\n', 'LDB1\\n', 'C12orf66\\n', 'OR56A4\\n', 'ACADM\\n', 'IGF2BP1\\n', 'DECR2\\n', 'MIS18BP1\\n', 'CCL23\\n', 'NEK2\\n', 'GPS2\\n', 'PNP\\n', 'RGR\\n', 'HLA-C\\n', 'GORASP1\\n', 'OR7G3\\n', 'USP17L25\\n', 'CD244\\n', 'DCAF17\\n', 'CIITA\\n', 'NPY5R\\n', 'MANBA\\n', 'NUMA1\\n', 'CDC37\\n', 'SLCO4C1\\n', 'RHOT1\\n', 'OR10R2\\n', 'TRIM71\\n', 'RIN3\\n', 'PSMF1\\n', 'SCMH1\\n', 'GHSR\\n', 'LRRC7\\n', 'HBEGF\\n', 'PIK3R4\\n', 'IGFBP1\\n', 'SRSF10\\n', 'KRTAP10-10\\n', 'BLOC1S1\\n', 'FER\\n', 'SRP19\\n', 'SHANK2\\n', 'TLR2\\n', 'PLCB1\\n', 'ADAMTS14\\n', 'TAS2R14\\n', 'KRT7\\n', 'ZNF550\\n', 'GRIN2C\\n', 'BRCA2\\n', 'RASA1\\n', 'COL23A1\\n', 'HLA-DRA\\n', 'CD3G\\n', 'PWP2\\n', 'AHSG\\n', 'NUDC\\n', 'NPY4R\\n', '904054\\n', 'MAVS\\n', 'ZNF416\\n', 'RAC1\\n', 'NDC1\\n', 'ACP3\\n', 'ZNF776\\n', 'MON1A\\n', 'COPS4\\n', 'GAD1\\n', 'PARK7\\n', 'AVPR1B\\n', 'XPC\\n', 'GABBR2\\n', 'WNT3A\\n', 'USP15\\n', 'OR1L1\\n', 'TP53RK\\n', 'FCGR3B\\n', 'CCR9\\n', 'ZNF257\\n', 'SLC16A7\\n', 'FGFR4\\n', 'CCNC\\n', 'OR52R1\\n', 'ARHGAP25\\n', 'USP17L19\\n', 'CEP135\\n', 'SURF4\\n', 'CALM1\\n', 'PDGFC\\n', 'USP17L2\\n', 'CRTC1\\n', 'MAGED1\\n', 'FGF6\\n', 'ZNF555\\n', 'OPTC\\n', 'DYNLL1\\n', 'COMMD9\\n', 'KIF26B\\n', 'CEP290\\n', 'IMPDH1\\n', 'UBE2G2\\n', 'KMT2D\\n', 'SYK\\n', 'ZFP69\\n', 'KLB\\n', 'FGF3\\n', 'CCL1\\n', 'ZNF157\\n', 'UTP11\\n', 'FUCA1\\n', 'MPO\\n', 'ALOX5\\n', 'ZNF554\\n', 'ANAPC5\\n', 'MAP1LC3C\\n', 'IL5RA\\n', 'GHRL\\n', 'ING5\\n', 'ACTN1\\n', 'HCFC1\\n', 'RPS27L\\n', 'POLK\\n', 'RAB5B\\n', 'SH3GL1\\n', 'GFRA1\\n', 'OR5J2\\n', 'GOLGA7\\n', 'OR4F4\\n', 'FGF10\\n', 'ZNF311\\n', 'BLM\\n', 'AKR1D1\\n', 'POLD1\\n', 'ZNF141\\n', 'INO80\\n', 'MTA3\\n', 'SEC61B\\n', 'ARHGAP31\\n', 'SVIP\\n', 'CLEC4D\\n', 'IFT57\\n', 'AKR1C3\\n', 'HCAR1\\n', 'ASXL1\\n', 'SF3B6\\n', 'SCAMP1\\n', 'PRL\\n', 'OR9Q2\\n', 'FGF17\\n', 'GNB2\\n', 'DCTN6\\n', 'TIRAP\\n', 'PSG2\\n', 'SLC22A8\\n', 'SPTA1\\n', 'TAS2R3\\n', 'SEC61G\\n', 'MZT2B\\n', 'IRAK4\\n', 'CDK5RAP2\\n', 'NME1-NME2\\n', 'GRK2\\n', 'CNTN1\\n', 'RPL9\\n', 'ZNF212\\n', 'PMF1-BGLAP\\n', 'RBCK1\\n', 'ENGASE\\n', 'ADRB3\\n', 'VEGFD\\n', 'ELOA\\n', 'SPSB3\\n', 'FAM114A2\\n', 'WDR61\\n', 'AOC3\\n', 'CD177\\n', 'OR8B2\\n', 'TRIP10\\n', 'EPAS1\\n', 'CXCL12\\n', 'OR2T12\\n', 'RCL1\\n', 'KLHL2\\n', 'BUB3\\n', 'NOD1\\n', 'SLIT1\\n', 'CYBA\\n', 'AMTN\\n', 'BSG\\n', 'SPSB1\\n', 'ARF3\\n', 'RNF4\\n', 'DYNLT2\\n', 'OR13J1\\n', 'SNX3\\n', 'ZNF556\\n', 'ANKRD1\\n', 'UBE2U\\n', 'ADGRG3\\n', 'SERPINA10\\n', 'STING1\\n', 'GPR183\\n', 'HECTD2\\n', 'REPS2\\n', 'ZNF33A\\n', 'RFC1\\n', 'GNAI3\\n', 'DHX15\\n', 'RPS20\\n', 'IFT140\\n', 'OR5K3\\n', 'SNRPG\\n', 'KRT23\\n', 'OR2J2\\n', 'SSTR1\\n', 'VTN\\n', 'HMG20B\\n', 'HCAR3\\n', 'FGF16\\n', 'PDE3A\\n', 'HECW2\\n', 'ORC6\\n', 'PAF1\\n', 'MED8\\n', 'EYA1\\n', 'NR1H2\\n', 'RAD18\\n', 'SLC27A1\\n', 'OS9\\n', 'AHRR\\n', 'ZNF302\\n', 'GNG3\\n', 'CD9\\n', 'UBE2L6\\n', 'DIMT1\\n', 'CCNT2\\n', 'H2AC19\\n', 'HOXB2\\n', 'PRPF19\\n', 'PPM1B\\n', 'MC2R\\n', 'ARPC1A\\n', 'WNT9A\\n', 'CAPN14\\n', 'SMC2\\n', 'SUPT5H\\n', 'RPS10\\n', 'TIAM2\\n', 'DSN1\\n', 'ZNF570\\n', 'TAC3\\n', 'PDAP1\\n', 'CAND1\\n', 'TOP2B\\n', 'GYG1\\n', 'NPY4R2\\n', 'RPS24\\n', 'YWHAG\\n', 'PSTPIP1\\n', 'SP100\\n', 'KRT40\\n', 'CDC5L\\n', 'HVCN1\\n', 'THBS1\\n', 'HNRNPC\\n', 'RPL23A\\n', 'ITGA6\\n', 'USF2\\n', 'BRD8\\n', 'GSDMD\\n', 'SPP2\\n', 'EXOSC7\\n', 'RPS7\\n', 'JUNB\\n', 'EXOSC2\\n', 'IFI27\\n', 'CXCL1\\n', 'KRT75\\n', 'RPL38\\n', 'ZNF34\\n', 'SLC22A5\\n', 'KRT33B\\n', 'EGLN3\\n', 'PLCB4\\n', 'MED27\\n', 'OR8D2\\n', 'GAPVD1\\n', 'QRFP\\n', 'DSC2\\n', 'KLRK1\\n', 'RPS15\\n', 'PREB\\n', 'NID1\\n', 'ZNF200\\n', 'PHF20\\n', 'PLRG1\\n', 'OR51A2\\n', 'VPS72\\n', 'HDAC5\\n', 'SOCS2\\n', 'CEACAM5\\n', 'EIF2S1\\n', 'MXRA8\\n', 'USP17L1\\n', 'H2BC6\\n', 'CCL4\\n', 'WDR20\\n', 'VGF\\n', 'CAB39L\\n', 'SLC9C1\\n', 'DENND4A\\n', 'ZNF77\\n', 'FGF19\\n', 'LCK\\n', 'ZNF692\\n', 'OR4C6\\n', 'F2RL3\\n', 'HEY1\\n', 'CYP7A1\\n', 'GLP2R\\n', 'ALDH1A3\\n', 'KNL1\\n', 'POLD4\\n', 'STK11IP\\n', 'MLST8\\n', 'HDAC4\\n', 'RPL14\\n', 'EPHA7\\n', 'KIF21B\\n', 'ZNF703\\n', 'NPSR1\\n', 'H2AZ2\\n', 'ZNF267\\n', 'STON2\\n', 'ATXN7L3\\n', 'NEDD8\\n', 'ARHGEF17\\n', 'USP17L20\\n', 'RRP36\\n', 'UTP25\\n', 'PIK3R1\\n', 'TAS2R38\\n', 'VCL\\n', 'NEURL2\\n', 'FEM1A\\n', 'OR10A2\\n', 'ORM2\\n', 'RHOQ\\n', 'DEFA4\\n', 'KNTC1\\n', 'ILF2\\n', 'NCAN\\n', 'ERCC2\\n', 'FSHR\\n', 'ESR2\\n', 'OR5B12\\n', 'CRY1\\n', 'PSME3\\n', 'GPER1\\n', 'ROCK1\\n', 'SPSB2\\n', 'UBE2C\\n', 'RARRES2\\n', 'ADGRE3\\n', 'E2F5\\n', 'KDM1A\\n', 'CYBB\\n', 'MCF2\\n', 'HRG\\n', 'PPARGC1B\\n', 'RAB18\\n', 'TNFRSF11A\\n', 'DENND2A\\n', 'KDM3A\\n', 'PRKAR1A\\n', 'GABPB1\\n', 'OR10G4\\n', 'TUBB2A\\n', 'VAV3\\n', 'POP5\\n', 'OR5C1\\n', 'FCER1A\\n', 'H4C3\\n', 'MPIG6B\\n', 'OR2AE1\\n', 'GRP\\n', 'PRDX4\\n', 'P4HA3\\n', 'ZNF682\\n', 'MBD6\\n', 'USP17L12\\n', 'NOC4L\\n', 'EDNRA\\n', 'WDR18\\n', 'KLHDC3\\n', 'CTSS\\n', 'SPRR2D\\n', 'NDC80\\n', 'CTR9\\n', 'KNG1\\n', 'ZNF726\\n', 'THOC1\\n', 'EIF3F\\n', 'OR51D1\\n', 'CARD11\\n', 'JAK2\\n', 'CCR8\\n', 'TAF4B\\n', 'CD55\\n', 'FBXO22\\n', 'WDTC1\\n', 'OR10V1\\n', 'NELFA\\n', 'TRIM48\\n', 'AP4S1\\n', 'TAS2R41\\n', 'HSP90AA1\\n', 'OR52W1\\n', 'CLU\\n', 'PRKACA\\n', 'RPAP2\\n', 'RACGAP1\\n', 'TUBAL3\\n', 'FCGR1A\\n', 'ACTB\\n', 'BATF\\n', 'USP17L22\\n', 'SYNE1\\n', 'CDH1\\n', 'STAM2\\n', 'RPS3A\\n', 'GRIN1\\n', 'TRIM68\\n', 'HSPG2\\n', 'KRT16\\n', 'OR3A1\\n', 'COX7C\\n', 'MAPKAPK5\\n', 'FXYD3\\n', 'KRTAP9-8\\n', 'SSTR5\\n', 'ADCY4\\n', 'RPL3L\\n', 'OR9G4\\n', 'SCNN1D\\n', 'ARHGEF10\\n', 'KPNA1\\n', 'ITPK1\\n', 'ZNF354A\\n', 'TYK2\\n', 'NRTN\\n', 'MED17\\n', 'SOAT2\\n', 'INO80C\\n', 'RSPO2\\n', 'CCDC22\\n', 'POLR2D\\n', 'ZNF710\\n', 'PRKAA1\\n', 'UTP6\\n', 'GNA11\\n', 'PRDX1\\n', 'C1orf35\\n', 'ESR1\\n', 'OR2V2\\n', 'XAB2\\n', 'EDN1\\n', 'PRMT7\\n', 'ZSCAN25\\n', 'GPAM\\n', 'GOLM1\\n', 'MAPK11\\n', 'TMEM63A\\n', 'AKT2\\n', 'UBR4\\n', 'GLI1\\n', 'SSTR2\\n', 'CDK5R1\\n', 'CEP164\\n', 'ZNF670\\n', 'SHISA5\\n', 'SPRR2A\\n', 'NCSTN\\n', 'ANXA2\\n', 'OR5P3\\n', 'GMNN\\n', 'OR5M10\\n', 'KIF3A\\n', 'THBD\\n', 'ATP13A5\\n', 'CXCL13\\n', 'AR\\n', 'ACKR3\\n', 'RNF213\\n', 'NEURL1B\\n', 'RPL15\\n', 'ZNF616\\n', 'PCF11\\n', 'RGL1\\n', 'MTHFD1L\\n', 'SEC24C\\n', 'KRBA1\\n', 'POLA1\\n', 'UBA3\\n', 'OR4F29\\n', 'ASAH1\\n', 'TUBA4A\\n', 'EHD2\\n', 'HOXB3\\n', 'TRIM50\\n', 'ACOX1\\n', 'APOA2\\n', 'BRCA1\\n', 'OAS2\\n', 'ZNF559\\n', 'BARD1\\n', 'MIA2\\n', 'LIN7C\\n', 'OR10AG1\\n', 'MED16\\n', 'ZDHHC7\\n', 'AGGF1\\n', 'OR2T11\\n', 'PAXIP1\\n', 'ZNF443\\n', 'ZNF45\\n', 'GNAT2\\n', 'OR2Y1\\n', 'ZNF735\\n', 'BCKDHB\\n', 'THOP1\\n', 'EBAG9\\n', 'AP4B1\\n', 'ELP3\\n', 'NCOA1\\n', 'ZNF273\\n', 'HERC2\\n', 'ATP6V1B1\\n', 'LMNB1\\n', 'PSAP\\n', 'ASB7\\n', 'OGG1\\n', 'PGAM1\\n', 'CYSTM1\\n', 'ACADSB\\n', '79296\\n', 'NUP205\\n', 'TEX10\\n', 'ZNF74\\n', 'QPCT\\n', 'PVALB\\n', 'LAMA3\\n', 'TMEM179B\\n', 'KCNAB2\\n', 'OR51H1\\n', 'POLR1B\\n', 'NUP98\\n', 'TAT\\n', 'FGD4\\n', 'CHD1\\n', 'RPL24\\n', 'OR6C3\\n', 'MIF\\n', 'RPL35A\\n', 'BECN1\\n', 'CENPL\\n', 'OR51I2\\n', 'NPEPPS\\n', 'COG7\\n', 'KLC3\\n', 'NELFE\\n', 'COTL1\\n', 'GALR3\\n', 'SKP1\\n', 'ZNF774\\n', 'CXCL11\\n', 'HP\\n', 'ZNF675\\n', 'MT-CO2\\n', 'CCT3\\n', 'PER2\\n', 'HCRTR2\\n', 'PLCG2\\n', 'KIF4B\\n', 'G6PD\\n', 'OTUD5\\n', 'FABP7\\n', 'XRN1\\n', 'PUM2\\n', 'OR4E1\\n', 'ZNF205\\n', 'HOMER1\\n', 'SPPL2B\\n', 'KIF3B\\n', 'HIF3A\\n', 'FOXO1\\n', 'ZNF195\\n', 'ZNF230\\n', 'ATP2B4\\n', 'OR11H4\\n', 'UBE2L3\\n', 'ZNF611\\n', 'PARN\\n', 'SULT1A2\\n', 'TMBIM1\\n', 'SFRP2\\n', 'SGIP1\\n', 'OGDH\\n', 'RPL32\\n', 'FGA\\n', 'OR6B1\\n', 'COPB1\\n', 'DOK3\\n', 'FAM13B\\n', 'MAML2\\n', 'HSPH1\\n', 'SEMA4D\\n', 'PSMA7\\n', 'BRS3\\n', 'LIMK1\\n', 'NDUFA7\\n', 'SF1\\n', 'KBTBD7\\n', 'GPC1\\n', 'AP1S2\\n', 'ALDH3A1\\n', 'CHUK\\n', 'ZNF214\\n', 'SETD1B\\n', 'PPP2R1B\\n', 'HMOX2\\n', 'OR4D2\\n', 'ASB11\\n', 'ZNF619\\n', 'DAG1\\n', 'STIP1\\n', 'SYNGR1\\n', 'HNRNPL\\n', 'ATG7\\n', 'DEFB133\\n', 'PRKAG2\\n', 'ZNF471\\n', 'PDGFRB\\n', 'GSTK1\\n', 'H2BC17\\n', 'PAFAH1B2\\n', 'CCR10\\n', 'MAPK4\\n', 'POLR2L\\n', 'PROC\\n', 'ZNF71\\n', 'UBR1\\n', 'ZNF2\\n', 'MVP\\n', 'FBXL19\\n', 'POLR1H\\n', 'PRPF40A\\n', 'TGM5\\n', 'INTS6\\n', 'STK11\\n', 'COL15A1\\n', 'RNF168\\n', 'PSMD13\\n', 'CAPNS1\\n', 'GPR132\\n', 'OR1E2\\n', 'SST\\n', 'CD58\\n', 'PDGFRA\\n', 'SULT1A1\\n', 'OR52D1\\n', 'RPS26\\n', 'STAG3\\n', 'PSMB9\\n', 'TAF7\\n', 'CDK1\\n', 'GRM6\\n', 'IGF1\\n', 'OR52N1\\n', 'CIAO2B\\n', 'CALM3\\n', 'SOS1\\n', 'GPR55\\n', 'MC4R\\n', 'ABHD5\\n', 'XCR1\\n', 'ZNF676\\n', 'OLR1\\n', 'AURKB\\n', 'TAS2R31\\n', 'HLA-A\\n', 'H4C15\\n', 'NCBP1\\n', 'FGF1\\n', 'PACSIN3\\n', 'USF1\\n', 'SKA1\\n', 'OR2T2\\n', 'KLC1\\n', 'CALU\\n', 'NANOG\\n', 'CEACAM1\\n', 'SRGAP2\\n', 'CCNF\\n', 'COPE\\n', 'ISY1\\n', 'CLEC7A\\n', 'GBP7\\n', 'SKA2\\n', 'CCR3\\n', 'CD63\\n', 'OR5W2\\n', 'ARAF\\n', 'NEDD4\\n', 'PSMA6\\n', 'OR2H1\\n', 'DDA1\\n', 'OPN5\\n', 'ATP1B1\\n', 'TENT4A\\n', 'FBXL5\\n', 'CENPJ\\n', 'RETN\\n', 'OR2M4\\n', 'FN1\\n', 'ZNF668\\n', 'TMEM30A\\n', 'CSK\\n', 'PSMD7\\n', 'GPR37L1\\n', 'GATAD2B\\n', 'IFI30\\n', 'C4B\\n', 'NXF1\\n', 'RPL26\\n', 'OR10X1\\n', 'ZNF705G\\n', 'MNDA\\n', 'AHCTF1\\n', 'OR1K1\\n', 'DCTN5\\n', 'EXO1\\n', 'RPSA\\n', 'DVL3\\n', 'ICAM4\\n', 'ATXN7\\n', 'SLC2A5\\n', 'KRTAP4-3\\n', 'ZNF658\\n', 'OR13H1\\n', 'DDAH1\\n', 'FGR\\n', 'TNRC6C\\n', 'ZKSCAN5\\n', 'WASF2\\n', 'OR5AR1\\n', 'SPRED2\\n', 'ITGA4\\n', 'BRMS1\\n', 'IDE\\n', 'PTPRA\\n', 'OR10G3\\n', 'USP19\\n', 'ABCA13\\n', 'ARPC5\\n', 'RPL17\\n', 'RHNO1\\n', 'ZNF561\\n', 'RGS4\\n', 'PELP1\\n', 'UBE2G1\\n', 'ARHGAP36\\n', 'TUBA1A\\n', 'KRT83\\n', 'GNRH2\\n', 'TRIM37\\n', 'TRIM39\\n', 'TMC6\\n', 'EFTUD2\\n', 'OR6Y1\\n', 'PPP1R12A\\n', 'PTPRJ\\n', 'SULT2A1\\n', 'KRTAP9-6\\n', 'TOR1A\\n', 'KCNH6\\n', 'AVP\\n', 'IL4R\\n', 'LAMP1\\n', 'EBNA1BP2\\n', 'XRCC1\\n', 'CHMP2A\\n', 'RGS9\\n', 'H2AX\\n', 'IL2RA\\n', 'FGFR2\\n', 'GABBR1\\n', 'ADAMTS9\\n', 'ZNF431\\n', 'ZNF565\\n', 'PCYOX1L\\n', 'TRAIP\\n', 'ARHGEF16\\n', 'ZNF641\\n', 'COMMD5\\n', 'KRTAP21-3\\n', 'DMAP1\\n', 'SELL\\n', 'OR10G9\\n', 'CBLB\\n', 'PFKL\\n', 'HLA-DQA2\\n', 'RAD51AP1\\n', 'DLG4\\n', 'U2AF1\\n', 'DOCK8\\n', 'MZT1\\n', 'SMG1\\n', 'IKBKB\\n', 'ZNF746\\n', 'IHH\\n', 'UBB\\n', 'KDM2B\\n', 'HTR2A\\n', 'GSTP1\\n', 'PMF1\\n', 'ACADVL\\n', 'ZNF23\\n', 'OR13C2\\n', 'ATRIP\\n', 'TFB2M\\n', 'A1BG\\n', 'RCOR1\\n', 'OR8D1\\n', 'KRT10\\n', 'RPL30\\n', 'TAF7L\\n', 'TAPBP\\n', 'STRN\\n', 'PTPRN2\\n', 'WDR48\\n', 'GRIN2D\\n', 'HLA-DPB1\\n', 'ASB15\\n', 'LAMTOR4\\n', 'DRD4\\n', 'TAS2R30\\n', 'EVL\\n', 'TRRAP\\n', 'NCOA2\\n', 'ZNF584\\n', 'RTP3\\n', 'SRSF4\\n', 'PRG2\\n', 'SF3B2\\n', 'LPAR4\\n', 'OR52I2\\n', 'CWC22\\n', 'INS\\n', 'RAF1\\n', 'TIMP1\\n', 'SERPINC1\\n', 'MED6\\n', 'CHMP3\\n', 'CRYM\\n', 'CD300E\\n', 'PPFIA1\\n', 'TAS2R43\\n', 'IL1A\\n', 'TNFRSF1A\\n', 'FKBP8\\n', 'HELZ2\\n', 'KRT36\\n', 'LIN9\\n', 'CYP2E1\\n', 'ASH2L\\n', 'ZNF420\\n', 'ZNF665\\n', 'MMP2\\n', 'TF\\n', 'SNRPE\\n', 'H3C10\\n', 'PTPN11\\n', 'OR8K5\\n', 'F2RL2\\n', 'RHOBTB2\\n', 'MAPKAPK3\\n', 'CARD9\\n', 'PDHX\\n', 'CAPZB\\n', 'UBA52\\n', 'SLC10A1\\n', 'LHCGR\\n', 'ZNF587\\n', 'GPR37\\n', 'PDGFB\\n', 'UBE2V2\\n', 'KIR3DL1\\n', 'ACTG1\\n', 'DNMT3B\\n', 'KDM4C\\n', 'OR4K1\\n', 'KLHL25\\n', 'NUMB\\n', 'LRP1\\n', 'MARK3\\n', 'CST3\\n', 'NPFFR1\\n', 'IFITM1\\n', 'AHI1\\n', 'OR2V1\\n', 'PEA15\\n', 'PSMD14\\n', 'KRTAP4-2\\n', 'OR1D5\\n', 'VNN1\\n', 'IRS2\\n', 'PRKAG3\\n', 'RGS7\\n', 'TLE3\\n', 'PNO1\\n', 'OR2W3\\n', 'CDH2\\n', 'ZNF175\\n', 'UFL1\\n', 'ITPR3\\n', 'UBE2O\\n', 'JAG2\\n', 'RPS27\\n', 'ZNF184\\n', 'CCKBR\\n', 'TUBGCP2\\n', 'RPS12\\n', 'PCM1\\n', 'TUBB4A\\n', 'TALDO1\\n', 'GAK\\n', 'CLCN2\\n', 'TREM2\\n', 'OSTM1\\n', 'KRTAP5-2\\n', 'SPSB4\\n', 'EBF1\\n', 'USP30\\n', 'GPX7\\n', 'LSM4\\n', 'SMYD3\\n', 'DHX38\\n', 'UEVLD\\n', 'SDR9C7\\n', 'RGS19\\n', 'ZKSCAN7\\n', 'FGF20\\n', 'OR5L2\\n', 'ZFP37\\n', 'GLYAT\\n', 'ARHGEF40\\n', 'KAT2A\\n', 'POLDIP3\\n', 'TRAF2\\n', 'DSG4\\n', 'ZNF493\\n', 'POLR2F\\n', 'KRTAP19-7\\n', 'DSC1\\n', 'SPHK1\\n', 'SCRIB\\n', 'MAD2L1\\n', 'ZNRF2\\n', 'CD74\\n', 'SP1\\n', 'RPTN\\n', 'KRT71\\n', 'PDXK\\n', 'FZD3\\n', 'HRC\\n', 'OR4K2\\n', 'WWP1\\n', 'EXOC5\\n', 'IRAK1\\n', 'NSD2\\n', 'B4GALT7\\n', 'TGFB1\\n', 'RPP14\\n', 'COL5A2\\n', 'MAGT1\\n', 'SERPING1\\n', '884327\\n', 'OR5AN1\\n', 'GTF2E2\\n', 'GDI2\\n', 'FTH1\\n', 'BABAM1\\n', 'PHLPP1\\n', 'UBE2A\\n', 'WNT11\\n', 'OR51B5\\n', 'OXT\\n', 'PPP1R13B\\n', 'RFC2\\n', 'P2RY11\\n', 'ELP2\\n', 'IFNA17\\n', 'KLHL21\\n', 'HLA-DOB\\n', 'COLGALT1\\n', 'MAMLD1\\n', 'FZR1\\n', 'OR4A15\\n', 'NHLRC2\\n', 'CTSG\\n', 'TBC1D4\\n', 'TAF1L\\n', 'ZNF528\\n', 'ZNF799\\n', 'CTSK\\n', 'RNF123\\n', 'EGF\\n', 'CKAP4\\n', 'BCAT1\\n', 'CD96\\n', 'NFAM1\\n', 'NDE1\\n', 'DVL1\\n', 'RNF130\\n', 'PRKCG\\n', 'GNG4\\n', 'ZNF180\\n', 'RLN2\\n', 'TIMP2\\n', 'MLEC\\n', 'PLK4\\n', 'ASB9\\n', 'SEC24D\\n', 'DEK\\n', 'E2F1\\n', 'PPP2CA\\n', 'TCN1\\n', 'AKT1S1\\n', 'PIAS1\\n', 'GUCY2D\\n', 'LDLR\\n', 'PPIL4\\n', 'HSPA14\\n', 'ZNF772\\n', 'EFNA2\\n', 'OR2T4\\n', 'NRG4\\n', 'REEP1\\n', 'ZNF664\\n', 'MED23\\n', 'LTF\\n', 'TAF13\\n', 'GNA14\\n', 'CXCL10\\n', 'INCENP\\n', 'TNF\\n', 'SRSF5\\n', 'PKM\\n', 'RPLP2\\n', 'H2AC1\\n', 'RAD9B\\n', 'RAB37\\n', 'PPARG\\n', 'COPS6\\n', 'YEATS2\\n', 'POLR1A\\n', 'FAF2\\n', 'ZNF92\\n', 'THOC2\\n', 'NCOR1\\n', 'FBXL4\\n', 'RPLP0\\n', 'UTP18\\n', 'TFDP2\\n', 'PAFAH1B1\\n', 'GJA5\\n', '956532\\n', 'PRKAR2B\\n', 'CNOT9\\n', 'TFAM\\n', 'APH1A\\n', 'LCN2\\n', 'KDM5B\\n', 'SEC61A1\\n', 'ZNF160\\n', 'BCL2\\n', 'S1PR3\\n', 'E2F2\\n', 'EZH2\\n', 'COL18A1\\n', 'ARHGAP23\\n', 'PFKFB3\\n', 'CD14\\n', 'UBXN7\\n', 'EPX\\n', 'IL10\\n', 'PLCB2\\n', 'AURKA\\n', 'F2RL1\\n', 'ZNF720\\n', 'SUDS3\\n', 'SERPINB10\\n', 'RPS15A\\n', 'ZC3H11A\\n', 'RPS17\\n', 'GPR68\\n', 'ABCC10\\n', 'CLEC4C\\n', 'ZNF354C\\n', 'CAPN2\\n', 'NID2\\n', 'OR8D4\\n', 'MLH1\\n', 'FGFR1\\n', 'ACADS\\n', 'PRCC\\n', 'CCND1\\n', 'ACBD3\\n', 'CCNB1\\n', 'BUB1\\n', 'F9\\n', 'PRKCD\\n', 'TUBG1\\n', 'OR1A1\\n', 'ZKSCAN1\\n', 'G0S2\\n', 'SELP\\n', 'CXCL16\\n', 'RHOD\\n', 'KEAP1\\n', 'CRHR2\\n', 'ZNF213\\n', 'ZNF506\\n', 'TSHR\\n', 'KIF4A\\n', 'FBXO30\\n', 'KRTAP26-1\\n', 'USP26\\n', 'PELI1\\n', 'ZNF705D\\n', 'KRTAP10-2\\n', 'NUP85\\n', 'OR56A1\\n', 'USP17L21\\n', 'PTH2\\n', 'NCF1\\n', 'CCNK\\n', 'PRPF6\\n', 'MTNR1B\\n', 'BRF1\\n', 'SSNA1\\n', 'POLR2K\\n', 'OR6Q1\\n', 'RGS22\\n', 'PTTG1\\n', 'ZNF189\\n', 'CSTF1\\n', 'H2AC16\\n', 'USP17L17\\n', 'SFRP1\\n', 'OR10J3\\n', 'CTSC\\n', 'JUN\\n', 'OR10H1\\n', 'TMED2\\n', 'EFNB2\\n', 'PSME1\\n', 'OR2C3\\n', 'ZNF548\\n', 'BAG5\\n', 'NCOA6\\n', 'ITGA2B\\n', 'BMP1\\n', 'CDK8\\n', 'KRT17\\n', 'CCAR1\\n', 'KRT6A\\n', 'NEFL\\n', 'H3C12\\n', 'DTX2\\n', 'MAML1\\n', 'RBBP5\\n', 'SHC1\\n', '956535\\n', 'JUP\\n', 'LAMTOR5\\n', 'KRT13\\n', 'ORC5\\n', 'POLR1E\\n', 'SCOC\\n', 'OR2A4\\n', 'H4C12\\n', 'GP1BA\\n', 'ANO6\\n', 'RMI1\\n', 'MTA2\\n', 'RBMX\\n', 'F11R\\n', 'OR51E1\\n', 'USP17L28\\n', 'B9D1\\n', 'TBX5\\n', 'ALDH3B1\\n', 'ITGA11\\n', 'TBL3\\n', 'MYBBP1A\\n', 'ZNF620\\n', 'OR8K1\\n', 'FGF22\\n', 'PRTN3\\n', 'EXOSC9\\n', 'SIRT3\\n', 'VHL\\n', 'GAPDHS\\n', 'TRAPPC11\\n', 'SESN1\\n', 'H4C1\\n', 'PRKACB\\n', 'GJD4\\n', 'SOCS3\\n', 'APOBEC3G\\n', 'KRTAP5-5\\n', 'NUP43\\n', 'SMARCA4\\n', 'RPS13\\n', 'SRSF2\\n', 'GPLD1\\n', 'OR8B12\\n', 'OR51B2\\n', 'OR10W1\\n', 'HMGCS1\\n', 'OR12D2\\n', 'ZNF248\\n', 'OR1L3\\n', 'PRDM7\\n', 'PRDM9\\n', 'CCL3L1\\n', 'OR10H4\\n', 'DVL2\\n', 'LDHAL6A\\n', 'GTF3C2\\n', 'DYSF\\n', 'KIF2A\\n', 'RPN2\\n', 'PGR\\n', 'DLL4\\n', 'RTP5\\n', 'RAC2\\n', 'OR9A2\\n', 'CCR2\\n', 'STX1A\\n', 'MFAP3\\n', 'BOP1\\n', 'GRM4\\n', '956528\\n', 'HEY2\\n', 'AFP\\n', 'OR4F21\\n', 'RNF5\\n', 'PRKCB\\n', 'RAI1\\n', 'MCEMP1\\n', 'SRSF3\\n', 'CHGB\\n', 'GGPS1\\n', 'ZNF227\\n', 'CTSV\\n', 'ARHGAP15\\n', 'EIF4E\\n', 'ADH1C\\n', 'OR1Q1\\n', 'TXK\\n', 'GNB5\\n', 'TNRC6A\\n', 'CRCP\\n', 'USP17L10\\n', 'AAAS\\n', 'H2BC3\\n', 'TRIM26\\n', 'RAB44\\n', 'COL1A1\\n', 'RPS19\\n', 'TRH\\n', 'CHRM3\\n', 'OR1L6\\n', 'ACTR3\\n', 'XK\\n', 'IKBKG\\n', 'DEGS1\\n', 'HIPK2\\n', 'ZNF266\\n', 'OR4D11\\n', 'SYTL4\\n', 'OR2AG1\\n', 'PDIA3\\n', 'ALDH1B1\\n', 'CLEC3B\\n', 'FRK\\n', 'H2BC13\\n', 'REEP3\\n', 'HTR6\\n', 'CCL21\\n', 'SEC24B\\n', 'CHMP2B\\n', 'TSPAN5\\n', 'ZNF398\\n', 'PCP2\\n', 'UBE2V1\\n', 'SCN3B\\n', 'UTP14A\\n', 'SOCS1\\n', 'ITGA5\\n', 'TAF11\\n', 'MMP15\\n', 'TTR\\n', 'ZNF771\\n', 'SUMO3\\n', 'CAMK2D\\n', 'KBTBD6\\n', 'TUBG2\\n', 'ARNT2\\n', 'GAD2\\n', 'AQR\\n', 'TP53\\n', 'STAT3\\n', 'SNAPC5\\n', 'MID1\\n', 'CCNT1\\n', 'TLN1\\n', 'PAX6\\n', 'ME1\\n', 'ERBB2\\n', 'OR4N4\\n', 'MIB1\\n', 'GTF3A\\n', 'TAP1\\n', 'GNB3\\n', 'ELN\\n', 'DEFA1\\n', 'OR4A16\\n', 'GPSM2\\n', 'ASIC1\\n', 'TNKS\\n', 'EPHB4\\n', 'PROK2\\n', 'RPS6\\n', 'USP22\\n', 'GPC4\\n', 'STAT4\\n', 'SMARCD3\\n', 'TCIRG1\\n', 'EIF3E\\n', 'GFI1\\n', 'LRRTM2\\n', 'ZFP90\\n', 'POLR2E\\n', 'EIF4A2\\n', '35556781\\n', 'ZNF551\\n', 'LHX4\\n', 'RHOF\\n', 'ISG15\\n', 'COL9A1\\n', 'RBM5\\n', 'SYMPK\\n', 'CLCNKA\\n', 'TOM1\\n', 'CPSF1\\n', 'UBA5\\n', 'CHML\\n', 'DBT\\n', 'ZNF320\\n', 'CRACR2A\\n', 'GNAT1\\n', 'CENPQ\\n', 'NUAK1\\n', 'IRAK2\\n', 'IMP3\\n', 'POLE\\n', 'H2BC21\\n', 'DNMT3L\\n', 'VIM\\n', 'EIF4G1\\n', 'FBXW5\\n', 'RAB2A\\n', 'RPL10\\n', 'IFI35\\n', 'DTX3L\\n', 'OR13G1\\n', 'TRAPPC1\\n', 'DDX46\\n', 'DDB2\\n', 'ZNF33B\\n', 'RALGAPB\\n', 'TAAR6\\n', 'RPS2\\n', 'FPR3\\n', 'FGD3\\n', 'CDC16\\n', 'PTK2\\n', 'SEPSECS\\n', 'MBD3\\n', 'TBC1D16\\n', 'SNRNP27\\n', 'TPP2\\n', 'TLE1\\n', 'CDKN2C\\n', 'SMG6\\n', 'OR51Q1\\n', 'OR1S1\\n', 'SRSF9\\n', 'RPL7\\n', 'CPPED1\\n', 'OR2AK2\\n', 'CSNK1D\\n', 'RAMP1\\n', 'CLEC2B\\n', 'BRIP1\\n', 'CAPZA3\\n', 'PTK2B\\n', 'TRHR\\n', 'PQBP1\\n', 'RHO\\n', 'PSMC4\\n', 'EXOSC5\\n', 'ZNF839\\n', 'CAPN7\\n', 'ZNF764\\n', 'CDC6\\n', 'SCAI\\n', 'RAC3\\n', 'NDUFB3\\n', 'PERM1\\n', 'SEL1L\\n', 'CEP97\\n', 'UBE3A\\n', 'OR5K2\\n', 'SRC\\n', 'IFNA10\\n', 'SRP9\\n', 'LILRB3\\n', 'PNPLA2\\n', 'KIF2C\\n', 'CNOT11\\n', 'ULK3\\n', 'KITLG\\n', 'FBXO4\\n', 'CNOT4\\n', 'ECM1\\n', 'GLE1\\n', 'KDR\\n', 'MAP2K1\\n', 'USP8\\n', 'CTSF\\n', 'RNPS1\\n', 'KIF18B\\n', 'UBAC1\\n', 'OPN1SW\\n', 'RPTOR\\n', 'OAZ2\\n', 'ARL8A\\n', 'CAMK2B\\n', 'RGS18\\n', 'TRIM63\\n', 'ITGB6\\n', 'FBXO7\\n', 'PAK1\\n', 'GLA\\n', 'P2RY14\\n', 'H2AZ1\\n', 'AGK\\n', 'TMEM115\\n', 'POLR3GL\\n', 'DZIP1\\n', 'LHX2\\n', 'PICK1\\n', 'TEX264\\n', 'OR2M2\\n', 'MTOR\\n', 'CHEK1\\n', 'KRTAP3-2\\n', 'GAA\\n', 'GNG2\\n', 'COLGALT2\\n', 'APC\\n', 'UBE2R2\\n', 'SH2B2\\n', 'CLEC5A\\n', 'ZNF655\\n', 'ZNF688\\n', 'NPBWR2\\n', 'STIM1\\n', 'TGM1\\n', 'ZNF224\\n', 'CDKN2B\\n', 'OR56B4\\n', 'BCAS2\\n', 'TAF1D\\n', 'GYPA\\n', 'HSPB1\\n', 'ALDH3A2\\n', 'PDPR\\n', 'GEN1\\n', 'MED11\\n', 'ZNF304\\n', 'PDIA6\\n', 'MC3R\\n', 'RHOV\\n', 'CALML5\\n', 'GTF2E1\\n', 'DCUN1D5\\n', 'MEN1\\n', 'ASB1\\n', 'CXCR1\\n', 'FAM20A\\n', 'OR7A5\\n', 'GBP4\\n', 'ARIH1\\n', 'ADH6\\n', 'OR5H15\\n', 'OR4C13\\n', 'OPN1MW2\\n', 'FGL2\\n', 'EGR2\\n', 'UBA6\\n', 'ARPC4\\n', 'KMT5C\\n', 'UPF3A\\n', 'OR13D1\\n', 'PIK3C2A\\n', 'KIF12\\n', 'RAP1B\\n', 'DIAPH1\\n', 'EME1\\n', 'RBL1\\n', 'LNX1\\n', 'KCNS3\\n', '956529\\n', 'RPL37A\\n', 'PTAFR\\n', 'ATG9A\\n', 'NDUFS4\\n', 'VAMP3\\n', 'RIPK2\\n', 'H3-3B\\n', 'COL17A1\\n', 'CYP4A11\\n', 'HRAS\\n', 'PRKAR1B\\n', 'ZNF624\\n', 'H2BC11\\n', 'BIRC2\\n', 'KRTAP10-7\\n', 'OR13C3\\n', 'TBP\\n', 'GTF2F1\\n', 'RNF217\\n', 'OR2T8\\n', 'RASGRP3\\n', 'UBE2Z\\n', 'MED24\\n', 'ERBIN\\n', 'ADH4\\n', 'OR52Z1\\n', 'OR2M5\\n', 'CXCR6\\n', 'CAPN1\\n', 'UTP14C\\n', 'LHB\\n', 'RANGAP1\\n', 'SERPINB12\\n', 'CHST15\\n', 'KDELR2\\n', 'CXCL6\\n', 'KRT82\\n', 'PPIL3\\n', 'EED\\n', 'PDE4D\\n', 'ZFP14\\n', 'AP1G1\\n', 'ANO8\\n', 'MTHFD2\\n', 'ADRA2C\\n', 'UBE2E1\\n', 'OR8J1\\n', 'IST1\\n', 'RPL10L\\n', 'PPFIA4\\n', 'SHH\\n', 'OR4D1\\n', 'ZBED1\\n', 'PITPNA\\n', 'CCR6\\n', 'ATG4B\\n', 'VAPA\\n', 'SPTSSA\\n', 'SRF\\n', 'CENPX\\n', 'HECTD3\\n', 'KRT1\\n', 'SGF29\\n', 'ISY1-RAB43\\n', 'SMO\\n', 'THEM4\\n', 'PRPF4\\n', 'FMNL2\\n', 'TAS2R60\\n', 'SPTAN1\\n', 'ZNF440\\n', 'NOTCH1\\n', 'ANKRD9\\n', 'EPN2\\n', 'HSP90B1\\n', 'CBFB\\n', 'RINL\\n', 'ADCY3\\n', 'METTL7A\\n', 'ZNF701\\n', 'ST14\\n', 'NUP62\\n', 'DIAPH3\\n', 'COX6A1\\n', 'JADE2\\n', 'LYN\\n', 'TUBA1B\\n', 'C6orf120\\n', 'MOSPD2\\n', 'FASN\\n', 'OR5A1\\n', 'PSMA4\\n', 'SRRT\\n', 'XRCC5\\n', '3707572\\n', 'ARHGEF33\\n', 'CENPC\\n', 'HNRNPM\\n', 'MPRIP\\n', 'E2F3\\n', 'NUCB1\\n', 'PARP10\\n', 'SLC27A2\\n', 'TOP3A\\n', 'GRB2\\n', 'OR8B4\\n', 'UCN\\n', 'COP1\\n', 'HLA-B\\n', 'TRAF1\\n', 'CREM\\n', 'OR1M1\\n', 'NAE1\\n', 'GTF2H3\\n', 'OR2F2\\n', 'UPF3B\\n', 'ENAM\\n', 'TOP1\\n', 'UBC\\n', 'HAUS6\\n', 'CR1\\n', 'EXOSC3\\n', 'DCAF13\\n', 'OR5I1\\n', 'ELAVL2\\n', 'SERPINB1\\n', 'P2RY12\\n', 'IFI16\\n', 'PER1\\n', 'GABARAPL1\\n', 'ELL3\\n', 'SUV39H1\\n', 'FCHO2\\n', 'PAK2\\n', 'H2BC7\\n', 'OR2AG2\\n', 'OR6B3\\n', 'TAF9B\\n', 'USP17L29\\n', 'UBE2S\\n', 'OR14A16\\n', 'RAD51B\\n', 'POLR2C\\n', 'CSNK2B\\n', 'BDKRB1\\n', 'SMARCA5\\n', 'P4HB\\n', 'TP53BP1\\n', 'MCHR2\\n', 'IMPDH2\\n', 'TRIM45\\n', 'RDX\\n', 'EDEM2\\n', 'RAP1A\\n', 'AMY2B\\n', 'TWIST1\\n', 'IBSP\\n', 'CKS1B\\n', 'HAUS4\\n', 'SLC22A1\\n', 'OR4K13\\n', 'SETD2\\n', 'SRRM1\\n', 'OR2A5\\n', 'CHD4\\n', 'ARFGAP3\\n', 'WRN\\n', 'CENPA\\n', 'ZNF705A\\n', 'LEO1\\n', 'GRIN2A\\n', 'SNRNP70\\n', 'USP25\\n', 'INTS4\\n', 'BIRC3\\n', 'PDE6A\\n', 'EPHA10\\n', 'WWTR1\\n', 'PAPOLA\\n', 'CCL4L2\\n', 'HAUS5\\n', 'COX8A\\n', 'TAL1\\n', 'FOLR3\\n', 'LCP2\\n', 'PLEKHG2\\n', 'APOOL\\n', 'TAF1\\n', 'POLD3\\n', 'NR1H4\\n', 'RCHY1\\n', 'PTRH2\\n', 'CXCR3\\n', 'IL12A\\n', 'LTBR\\n', '341568\\n', 'SULT2B1\\n', 'CD101\\n', 'ACD\\n', 'LILRA2\\n', 'AP2S1\\n', 'CRNKL1\\n', 'ZNF804B\\n', 'CENPN\\n', 'TAAR9\\n', 'UBE4A\\n', 'LMNA\\n', 'YES1\\n', 'GNAO1\\n', 'SSR2\\n', 'RPL36A\\n', 'GTF3C5\\n', 'OR6B2\\n', 'CEP43\\n', 'OFD1\\n', 'ZNF234\\n', 'GCGR\\n', 'P2RY2\\n', 'DCTN3\\n', 'HNRNPUL1\\n', 'WAS\\n', 'OR52A1\\n', 'ZNF331\\n', 'EGFR\\n', 'OR6C70\\n', 'CCT8\\n', 'MEX3C\\n', 'HCRT\\n', 'HTR1A\\n', 'NRG2\\n', 'KRTAP10-1\\n', 'LDHC\\n', 'CNIH2\\n', 'S100P\\n', 'UTS2\\n', 'OR5H6\\n', 'LDHAL6B\\n', 'CPT1C\\n', 'KRT85\\n', 'CEP72\\n', 'OR2A12\\n', 'PENK\\n', 'ZNF718\\n', 'SPCS2\\n', 'RFC3\\n', 'OR51S1\\n', 'WWOX\\n', 'F13A1\\n', 'DCAF7\\n', 'GNS\\n', 'ANXA1\\n', 'RPL23\\n', 'ABI1\\n', 'WSB2\\n', 'TRIM5\\n', 'SERPINE1\\n', 'IFNA6\\n', 'BCAR1\\n', 'EIF4G3\\n', 'MYO5A\\n', 'ORC4\\n', 'GNAI1\\n', 'PRPF8\\n', 'GAN\\n', 'SEM1\\n', 'DOCK9\\n', '813949\\n', 'MMP1\\n', 'KLHL5\\n', 'FUS\\n', 'OR51B4\\n', 'NLRX1\\n', 'CCZ1\\n', 'LTN1\\n', 'OR10T2\\n', 'CMC2\\n', 'GNAL\\n', 'LIN7B\\n', 'AGTR1\\n', 'SH3GL2\\n', 'CNKSR2\\n', 'PTGES3\\n', 'PIAS4\\n', 'CCT5\\n', 'SAP18\\n', 'NOD2\\n', 'CCT2\\n', 'MDM2\\n', 'FZD5\\n', 'PLPP2\\n', 'H4C14\\n', 'GPRC6A\\n', 'ARHGEF19\\n', 'CRISP3\\n'], np.int64(902): ['SNCAIP\\n'], np.int64(903): ['TIMM17A\\n', 'ATP5MC3\\n'], np.int64(904): ['AK7\\n'], np.int64(905): ['SNAPIN\\n', 'DNAJC6\\n'], np.int64(906): ['LSM6\\n'], np.int64(907): ['CLDN15\\n'], np.int64(908): ['RAB30\\n'], np.int64(909): ['SGK2\\n'], np.int64(910): ['NNT\\n'], np.int64(911): ['LTV1\\n'], np.int64(912): ['EXOC6\\n', 'KIF5C\\n'], np.int64(913): ['MERTK\\n'], np.int64(914): ['MT-ATP6\\n'], np.int64(915): ['FSTL3\\n', 'MIA3\\n'], np.int64(916): ['PITRM1\\n'], np.int64(917): ['BET1\\n'], np.int64(918): ['TNNT3\\n'], np.int64(919): ['HDGF\\n'], np.int64(920): ['TBC1D8B\\n'], np.int64(921): ['ADAMTS12\\n', 'B3GLCT\\n'], np.int64(922): ['IAPP\\n', 'THRB\\n'], np.int64(923): ['AKAP1\\n'], np.int64(924): ['ARSD\\n'], np.int64(925): ['MRPL30\\n', 'MRPL9\\n', 'MRPL24\\n', 'MRPL39\\n', 'MRPL51\\n', 'MRPS34\\n', 'MRPL10\\n', 'MRPL49\\n', 'MRPL50\\n', 'MRPS11\\n', 'MRPL52\\n', 'MRPL32\\n', 'MRPL36\\n', 'MRPL1\\n', 'MRPL22\\n', 'AURKAIP1\\n', 'MRPL16\\n', 'MRPS30\\n', 'MRPL21\\n', 'OXA1L\\n', 'MRPS35\\n', 'MRPL58\\n', 'MRPL4\\n', 'MRPL46\\n', 'MRPL57\\n', 'MRPL14\\n', 'MRPL23\\n', 'GADD45GIP1\\n', 'MRPS9\\n', 'MRPL33\\n', 'MTFMT\\n', 'MRPS24\\n', 'MRPL47\\n', 'MRPS36\\n', 'MRPL19\\n', 'MRPS17\\n', 'MRPS18A\\n', 'MTRF1L\\n', 'MRPS6\\n', 'MRPL40\\n', 'MRPS10\\n', 'MRPL55\\n', 'DAP3\\n', 'MRPL35\\n', 'GFM2\\n', 'TSFM\\n', 'MRPS21\\n', 'MRPS16\\n', 'MRPS31\\n', 'MRPL27\\n', 'MRPL11\\n', 'MRPL43\\n', 'MRPS12\\n', 'MRPL38\\n', 'MRPL54\\n', 'MRPL42\\n', 'MRPS14\\n', 'PTCD3\\n', 'MRPS27\\n', 'MRPS26\\n', 'MRPL15\\n', 'MRPS15\\n', 'TUFM\\n', 'CHCHD1\\n', 'MRPL48\\n', 'MRPL53\\n', 'MRPL41\\n', 'MRPL44\\n', 'ERAL1\\n', 'MRPS23\\n', 'MRPS2\\n', 'MRPL12\\n', 'MRPS33\\n', 'MRPL34\\n', 'MRPS28\\n', 'MRPL18\\n', 'MRPL28\\n', 'MRPS22\\n', 'MRPS25\\n'], np.int64(926): ['TNFSF11\\n'], np.int64(927): ['CITED1\\n'], np.int64(928): ['THBS2\\n', 'CD200R1\\n', 'LILRA1\\n'], np.int64(929): ['SEC22A\\n'], np.int64(930): ['DYNC2LI1\\n', 'WDR35\\n'], np.int64(931): ['ADSL\\n'], np.int64(932): ['WBP4\\n', 'SF3A2\\n'], np.int64(933): ['EPHA8\\n', 'EPHB1\\n', 'MYL12A\\n', 'GIT1\\n'], np.int64(934): ['ST3GAL4\\n', 'GCNT1\\n'], np.int64(935): ['SLC9A9\\n'], np.int64(936): ['JAML\\n', 'KIR2DL2\\n', 'SIGLEC7\\n', 'MICA\\n'], np.int64(937): ['ME2\\n'], np.int64(938): ['GOLIM4\\n'], np.int64(939): ['KRT27\\n', 'KRTAP6-1\\n', 'KRT25\\n'], np.int64(940): ['KCNK4\\n'], np.int64(941): ['MSLN\\n'], np.int64(942): ['EXOSC10\\n', 'NOP58\\n'], np.int64(943): ['MRPS18C\\n'], np.int64(944): ['ZNF732\\n'], np.int64(945): ['KMT5A\\n'], np.int64(946): ['PYGO2\\n'], np.int64(947): ['TSR3\\n'], np.int64(948): ['RHOT2\\n', 'ARHGEF38\\n', 'SOS2\\n']}\n",
      "********************\n",
      "distance_matrix\n",
      "[[0.  0.8 0.8 ... 0.8 0.8 0.8]\n",
      " [0.8 0.  0.4 ... 0.8 0.8 0.2]\n",
      " [0.8 0.4 0.  ... 0.8 0.8 0.6]\n",
      " ...\n",
      " [0.8 0.8 0.8 ... 0.  0.  0.8]\n",
      " [0.8 0.8 0.8 ... 0.  0.  0.8]\n",
      " [0.8 0.2 0.6 ... 0.8 0.8 0. ]]\n",
      "********************\n"
     ]
    }
   ],
   "source": [
    "#| eval: false\n",
    "for key in cmmd_output.keys():\n",
    "    print(key)\n",
    "    print(cmmd_output[key])\n",
    "    print(\"*\" * 20)"
   ]
  },
  {
   "cell_type": "code",
   "execution_count": 17,
   "metadata": {},
   "outputs": [
    {
     "data": {
      "text/plain": [
       "(5609, 5609)"
      ]
     },
     "execution_count": 17,
     "metadata": {},
     "output_type": "execute_result"
    }
   ],
   "source": [
    "#| eval: false\n",
    "cmmd_output[\"distance_matrix\"].shape"
   ]
  },
  {
   "cell_type": "code",
   "execution_count": 18,
   "metadata": {},
   "outputs": [
    {
     "data": {
      "text/plain": [
       "array([[0. , 0.8, 0.8, ..., 0.8, 0.8, 0.8],\n",
       "       [0.8, 0. , 0.4, ..., 0.8, 0.8, 0.2],\n",
       "       [0.8, 0.4, 0. , ..., 0.8, 0.8, 0.6],\n",
       "       ...,\n",
       "       [0.8, 0.8, 0.8, ..., 0. , 0. , 0.8],\n",
       "       [0.8, 0.8, 0.8, ..., 0. , 0. , 0.8],\n",
       "       [0.8, 0.2, 0.6, ..., 0.8, 0.8, 0. ]])"
      ]
     },
     "execution_count": 18,
     "metadata": {},
     "output_type": "execute_result"
    }
   ],
   "source": [
    "#| eval: false\n",
    "dm = cmmd_output[\"distance_matrix\"]\n",
    "dm"
   ]
  },
  {
   "cell_type": "code",
   "execution_count": 19,
   "metadata": {},
   "outputs": [
    {
     "data": {
      "text/plain": [
       "array([0. , 0.2, 0.4, 0.6, 0.8, 1. ])"
      ]
     },
     "execution_count": 19,
     "metadata": {},
     "output_type": "execute_result"
    }
   ],
   "source": [
    "#| eval: false\n",
    "np.unique(dm)"
   ]
  },
  {
   "cell_type": "code",
   "execution_count": 20,
   "metadata": {},
   "outputs": [
    {
     "data": {
      "image/png": "[encoded data removed]",
      "text/plain": [
       "<Figure size 640x480 with 1 Axes>"
      ]
     },
     "metadata": {},
     "output_type": "display_data"
    }
   ],
   "source": [
    "#| eval: false\n",
    "sns.histplot(cmmd_output[\"distance_matrix\"].flatten(), stat=\"density\");"
   ]
  },
  {
   "cell_type": "code",
   "execution_count": 21,
   "metadata": {},
   "outputs": [
    {
     "data": {
      "text/plain": [
       "array([[969, 935, 842, 902, 901],\n",
       "       [938, 751, 908, 960, 901],\n",
       "       [736, 751, 962, 960, 901],\n",
       "       ...,\n",
       "       [789, 924, 970, 944, 901],\n",
       "       [789, 924, 970, 944, 901],\n",
       "       [938, 751, 908, 984, 901]])"
      ]
     },
     "execution_count": 21,
     "metadata": {},
     "output_type": "execute_result"
    }
   ],
   "source": [
    "#| eval: false\n",
    "gcm = cmmd_output[\"gene_community_matrix\"]\n",
    "gcm"
   ]
  },
  {
   "cell_type": "code",
   "execution_count": 22,
   "metadata": {},
   "outputs": [
    {
     "data": {
      "text/plain": [
       "(5609, 5)"
      ]
     },
     "execution_count": 22,
     "metadata": {},
     "output_type": "execute_result"
    }
   ],
   "source": [
    "#| eval: false\n",
    "gcm.shape"
   ]
  },
  {
   "cell_type": "code",
   "execution_count": 23,
   "metadata": {},
   "outputs": [
    {
     "data": {
      "text/plain": [
       "dict"
      ]
     },
     "execution_count": 23,
     "metadata": {},
     "output_type": "execute_result"
    }
   ],
   "source": [
    "#| eval: false\n",
    "l_constant = cmmd_output[\"l_constant\"]\n",
    "type(l_constant)"
   ]
  },
  {
   "cell_type": "code",
   "execution_count": 24,
   "metadata": {},
   "outputs": [
    {
     "data": {
      "text/plain": [
       "380"
      ]
     },
     "execution_count": 24,
     "metadata": {},
     "output_type": "execute_result"
    }
   ],
   "source": [
    "#| eval: false\n",
    "len(l_constant.keys())"
   ]
  },
  {
   "cell_type": "code",
   "execution_count": 25,
   "metadata": {},
   "outputs": [
    {
     "data": {
      "text/plain": [
       "dict_keys(['gene_community_matrix', 'l_constant', 'distance_matrix'])"
      ]
     },
     "execution_count": 25,
     "metadata": {},
     "output_type": "execute_result"
    }
   ],
   "source": [
    "cmmd_output.keys()"
   ]
  },
  {
   "cell_type": "code",
   "execution_count": null,
   "metadata": {},
   "outputs": [],
   "source": []
  }
 ],
 "metadata": {
  "kernelspec": {
   "display_name": "python3",
   "language": "python",
   "name": "python3"
  },
  "language_info": {
   "codemirror_mode": {
    "name": "ipython",
    "version": 3
   },
   "file_extension": ".py",
   "mimetype": "text/x-python",
   "name": "python",
   "nbconvert_exporter": "python",
   "pygments_lexer": "ipython3",
   "version": "3.12.5"
  }
 },
 "nbformat": 4,
 "nbformat_minor": 2
}
