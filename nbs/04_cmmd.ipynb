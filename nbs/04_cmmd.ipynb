{
 "cells": [
  {
   "cell_type": "markdown",
   "metadata": {},
   "source": [
    "# CmmD: Continual Multiplex network Module Detector"
   ]
  },
  {
   "cell_type": "markdown",
   "metadata": {},
   "source": [
    "Python implementation of the algorithm originally proposed in [\"The multilayer community structure of medulloblastoma\" by Iker Núñez-Carpintero et. al.](https://www.sciencedirect.com/science/article/pii/S2589004221003333).\n",
    "\n",
    "Implementation relies on [MolTi-DREAM](https://github.com/gilles-didier/MolTi-DREAM) for communities detection problem.\n",
    "\n",
    "* Make sure to add molti-console as an executable program from any directory by adding it to your ~/.bashrc file. (This file may change depending on your OS ditribution)"
   ]
  },
  {
   "cell_type": "markdown",
   "metadata": {},
   "source": [
    "## 0. Import libraries and define paths"
   ]
  },
  {
   "cell_type": "code",
   "execution_count": 1,
   "metadata": {},
   "outputs": [],
   "source": [
    "import os\n",
    "import sys\n",
    "import subprocess\n",
    "import numpy as np\n",
    "from concurrent.futures import ThreadPoolExecutor\n",
    "from scipy.spatial.distance import pdist, squareform\n",
    "import seaborn as sns\n",
    "import pickle\n",
    "from pathlib import Path\n",
    "import pathlib"
   ]
  },
  {
   "cell_type": "markdown",
   "metadata": {},
   "source": [
    "## 1. Define function for community detection"
   ]
  },
  {
   "cell_type": "code",
   "execution_count": 2,
   "metadata": {},
   "outputs": [],
   "source": [
    "def cmmd(nodelist=None, input_layers=None, resolution_start=None, resolution_end=None, interval=None, \n",
    "         distmethod=\"hamming\", threads=1, destfile_community_analysis=None):\n",
    "    \n",
    "    \"\"\"\n",
    "    Compute CmmD multilayer community trajectory analysis for a set of given networks.\n",
    "\n",
    "    Parameters\n",
    "    ----------\n",
    "    nodelist : list, optional\n",
    "        A list with the unique nodes that we want to appear in the final output. If not given, all nodes of the multiplex will be in the final output (nodelist= NULL)\n",
    "    input_layers : list\n",
    "        A vector of strings containing the paths where the different network layers are located in the system. Networks should be a two column file representing the edges of the graph.\n",
    "    resolution_start : float\n",
    "        The first gamma resolution parameter to use in the different MolTi's analysis\n",
    "    resolution_end : float\n",
    "        The last gamma resolution parameter to use in the different MolTi's analysis.\n",
    "    interval : float\n",
    "        The interval of the resolution parameter to use. \n",
    "    distmethod : str, optional\n",
    "        A distance method metric to use to compute the trajectories. Defaults to \"hamming\" for hamming distance, but accepts any other metric supplied by scipy.spatial.distance.pdist.\n",
    "    threads : int, optional\n",
    "        The number of threads to use for the computation of the distance matrix. Defaults to 1.\n",
    "    destfile_community_analysis : str, optional\n",
    "        The path to save Molti's output files. Defaults to \"Output/\".\n",
    "\n",
    "    Returns\n",
    "    -------\n",
    "    A dictionary containing the following keys:\n",
    "        gene_community_matrix: A matrix where the rows correspond to the different genes, and the columns to the different community structures. The values of the matrix are the cluster to which the gene belongs in the corresponding community structure.\n",
    "        l_constant: A dictionary where the keys are the different community structures, and the values are the list of genes that belong to that community structure.\n",
    "        distance_matrix: A matrix with the hamming distances between all pairs of genes.\n",
    "    \"\"\"\n",
    "    # check input correctness\n",
    "    if input_layers is None or len(input_layers) < 1:\n",
    "        raise ValueError(\"ERROR: Input_layers argument must be a list of at least 1 network file\")\n",
    "    \n",
    "    if not isinstance(resolution_end, (int, float)):\n",
    "        raise ValueError(\"ERROR: Resolution parameter must be a number\")\n",
    "    \n",
    "    if not isinstance(resolution_start, (int, float)):\n",
    "        raise ValueError(\"ERROR: Resolution parameter must be a number\")\n",
    "    \n",
    "    if not isinstance(interval, (int, float)):\n",
    "        raise ValueError(\"ERROR: Interval value must be a number\")\n",
    "    \n",
    "    if not isinstance(destfile_community_analysis, str):\n",
    "        raise ValueError(\"ERROR: destfile_community_analysis expects a character string\")\n",
    "    \n",
    "    if not isinstance(distmethod, str):\n",
    "        raise ValueError(\"ERROR: distmethod expects a character string\")\n",
    "    \n",
    "    if not isinstance(threads, int):\n",
    "        raise ValueError(\"ERROR: Threads must be a number corresponding to the number of cores available to use\")\n",
    "\n",
    "    # 1st part: community detection\n",
    "    # Prepare inputs to generate the console order for MolTi's run.\n",
    "    layers = \" \".join(input_layers)\n",
    "    \n",
    "    resolution_interval = np.arange(resolution_start, resolution_end + interval, interval)\n",
    "    desfile_vector = [f\"{destfile_community_analysis}{res}.csv\" for res in resolution_interval]\n",
    "    \n",
    "    # community analysis\n",
    "    for i, current_resolution in enumerate(resolution_interval):\n",
    "        current_destfile = desfile_vector[i]\n",
    "        system_order = f\"molti-console -o {current_destfile} -p {current_resolution} {layers} > /dev/null\"\n",
    "        subprocess.run(system_order, shell=True)\n",
    "    \n",
    "    # 2nd part: CmmD\n",
    "    # reading MolTi output files\n",
    "    output_files = [f for f in os.listdir(destfile_community_analysis) if \"_\" not in f]\n",
    "    \n",
    "    alllists = []\n",
    "    \n",
    "    for output_file in output_files:\n",
    "        with open(os.path.join(destfile_community_analysis, output_file), 'r') as file:\n",
    "            red = file.readlines()\n",
    "        \n",
    "        cluster_ids = [i for i, line in enumerate(red) if \"Cluster\" in line]\n",
    "        lista = []\n",
    "        \n",
    "        for j, st in enumerate(cluster_ids):\n",
    "            if j == len(cluster_ids) - 1:\n",
    "                en = len(red)\n",
    "            else:\n",
    "                en = cluster_ids[j + 1]\n",
    "            current_cluster = red[st:en]\n",
    "            current_cluster2 = current_cluster[:-2] if j != len(cluster_ids) - 1 else current_cluster[:-1]\n",
    "            lista.append(current_cluster2[1:])\n",
    "        \n",
    "        alllists.append(lista)\n",
    "    \n",
    "    allgenes = list(set([gene for sublist in alllists for cluster in sublist for gene in cluster]))\n",
    "\n",
    "    if nodelist:\n",
    "        allgenes = list(set(allgenes).intersection(nodelist))\n",
    "    \n",
    "    # Calculating Gene/Community matrix\n",
    "    res_matrix = np.zeros((len(allgenes), len(alllists) + 1), dtype=int)\n",
    "    gene_indices = {gene: idx for idx, gene in enumerate(allgenes)}\n",
    "    \n",
    "    for j, output_file_list in enumerate(alllists):\n",
    "        for k, cluster in enumerate(output_file_list):\n",
    "            for gene in cluster:\n",
    "                res_matrix[gene_indices[gene], j] = k + 1\n",
    "    \n",
    "    patterns = [\"_\".join(map(str, res_matrix[i, :-1])) for i in range(len(allgenes))]\n",
    "    res_matrix[:, -1] = np.array(patterns, dtype=str)\n",
    "    \n",
    "    porcentajes = np.linspace(0, 100, num=21)\n",
    "    \n",
    "    # for i, percentage in enumerate(np.round(np.linspace(0, 100, len(allgenes)), 4)):\n",
    "    #     if percentage in porcentajes:\n",
    "    #         print(f\"Progress: {percentage}%\")\n",
    "    \n",
    "    # Calculating Hamming distances for all gene pairs\n",
    "    gene_community_matrix = res_matrix[:, :-1].astype(int)\n",
    "    genes_same_communities = {pattern: [] for pattern in np.unique(gene_community_matrix[:,-1])}\n",
    "    \n",
    "    for i, pattern in enumerate(gene_community_matrix[:,-1]):\n",
    "        genes_same_communities[pattern].append(allgenes[i])\n",
    "    \n",
    "    with ThreadPoolExecutor(max_workers=threads) as executor:\n",
    "        distance_matrix = squareform(pdist(gene_community_matrix, metric=distmethod))\n",
    "    \n",
    "    final_output = {\n",
    "        \"gene_community_matrix\": gene_community_matrix,\n",
    "        \"l_constant\": genes_same_communities,\n",
    "        \"distance_matrix\": distance_matrix\n",
    "    }\n",
    "    \n",
    "    return final_output"
   ]
  },
  {
   "cell_type": "code",
   "execution_count": 3,
   "metadata": {},
   "outputs": [],
   "source": [
    "prefix = \"../data/networks-tiny-tiny/\"\n",
    "input_layers = [prefix + \"1.csv\",\n",
    "                prefix + \"2.csv\"]\n",
    "\n",
    "cmmd_output = cmmd(nodelist = None,\n",
    "     input_layers = input_layers,\n",
    "     resolution_start = 0,\n",
    "     resolution_end = 2,\n",
    "     interval = 0.5,\n",
    "     destfile_community_analysis = \"../out/communities/\",\n",
    "     distmethod = \"hamming\",\n",
    "     threads = 6)\n"
   ]
  },
  {
   "cell_type": "markdown",
   "metadata": {},
   "source": [
    "Save object to the disk:"
   ]
  },
  {
   "cell_type": "code",
   "execution_count": 4,
   "metadata": {},
   "outputs": [],
   "source": [
    "# # save object to file\n",
    "# path_save = Path(\"../out/cmmd_pickle/\")\n",
    "# assert path_save.exists()\n",
    "\n",
    "# # pickle the object\n",
    "# with open(path_save / \"cmmd_output.pkl\", 'wb') as handle:\n",
    "#     pickle.dump(cmmd_output, handle, protocol=pickle.HIGHEST_PROTOCOL)"
   ]
  },
  {
   "cell_type": "code",
   "execution_count": 5,
   "metadata": {},
   "outputs": [],
   "source": [
    "# def test_cmmd(cmmd:dict, path_save:pathlib.Path|str=Path(\"../out/cmmd_pickle/cmmd_output.pkl\")) -> None:\n",
    "#     # load the cmmd object\n",
    "#     with open(path_save, 'rb') as handle:\n",
    "#         cmmd_old = pickle.load(handle)\n",
    "#     assert (cmmd[\"distance_matrix\"] == cmmd_old[\"distance_matrix\"]).all()\n",
    "#     assert (cmmd[\"gene_community_matrix\"] == cmmd_old[\"gene_community_matrix\"]).all()\n",
    "#     assert cmmd[\"l_constant\"] == cmmd_old[\"l_constant\"]"
   ]
  },
  {
   "cell_type": "markdown",
   "metadata": {},
   "source": [
    "Confirm new and old objects generate the same output:"
   ]
  },
  {
   "cell_type": "code",
   "execution_count": 6,
   "metadata": {},
   "outputs": [
    {
     "data": {
      "text/plain": [
       "dict_keys(['gene_community_matrix', 'l_constant', 'distance_matrix'])"
      ]
     },
     "execution_count": 6,
     "metadata": {},
     "output_type": "execute_result"
    }
   ],
   "source": [
    "#| eval: false\n",
    "cmmd_output.keys()"
   ]
  },
  {
   "cell_type": "code",
   "execution_count": 7,
   "metadata": {},
   "outputs": [
    {
     "name": "stdout",
     "output_type": "stream",
     "text": [
      "gene_community_matrix\n",
      "[[ 736  751  644  860  901]\n",
      " [ 789  924  970  944  901]\n",
      " [ 969  935  842  902  901]\n",
      " ...\n",
      " [ 736  751 1002  810  901]\n",
      " [ 789  924  988  818  901]\n",
      " [ 789  924  970  944  901]]\n",
      "********************\n",
      "l_constant\n",
      "{np.int64(20): ['SLC18A1\\n', 'DDC\\n'], np.int64(60): ['RDH13\\n'], np.int64(126): ['OAT\\n'], np.int64(143): ['SLC6A19\\n', 'SLC43A2\\n', 'SLC6A14\\n'], np.int64(168): ['TYR\\n', 'SLC7A8\\n', 'TH\\n'], np.int64(195): ['HS3ST3A1\\n'], np.int64(227): ['CYP2D6\\n'], np.int64(239): ['CYP2C9\\n'], np.int64(308): ['SLC9A4\\n'], np.int64(443): ['HACD1\\n'], np.int64(448): ['GCSH\\n'], np.int64(450): ['NDUFAB1\\n', 'NDUFAF7\\n'], np.int64(466): ['NDUFA5\\n'], np.int64(478): ['NDUFC1\\n'], np.int64(482): ['SARDH\\n', 'CHDH\\n'], np.int64(514): ['DLAT\\n'], np.int64(522): ['SLC36A4\\n'], np.int64(553): ['SLC2A6\\n', 'SLC5A10\\n'], np.int64(582): ['DAO\\n'], np.int64(588): ['KCNQ4\\n'], np.int64(589): ['ADAMTS16\\n'], np.int64(590): ['SLITRK1\\n'], np.int64(591): ['HCN1\\n'], np.int64(592): ['KCNG2\\n'], np.int64(593): ['PXN\\n', 'DMD\\n', 'TPM4\\n', 'MYL6\\n'], np.int64(594): ['HPRT1\\n'], np.int64(595): ['DUS2\\n'], np.int64(596): ['EXOSC1\\n'], np.int64(597): ['TIMM9\\n'], np.int64(598): ['ADAT2\\n'], np.int64(599): ['GABRR3\\n', 'GABRR2\\n'], np.int64(600): ['PDK4\\n'], np.int64(601): ['ZNF383\\n'], np.int64(602): ['GRPEL1\\n'], np.int64(603): ['CNOT6\\n'], np.int64(604): ['ESAM\\n'], np.int64(605): ['MX1\\n', 'EIF2AK2\\n'], np.int64(606): ['MRPL37\\n'], np.int64(607): ['PLEKHA3\\n'], np.int64(608): ['ARPC3\\n', 'EFNB1\\n'], np.int64(609): ['ZNF521\\n'], np.int64(610): ['LYPD4\\n'], np.int64(611): ['ITFG2\\n'], np.int64(612): ['DDX23\\n'], np.int64(613): ['MMP20\\n'], np.int64(614): ['FNBP1L\\n'], np.int64(615): ['KRTAP12-1\\n'], np.int64(616): ['PRKD1\\n'], np.int64(617): ['DOT1L\\n'], np.int64(618): ['KRTAP10-6\\n'], np.int64(619): ['CHAC2\\n'], np.int64(620): ['UCHL3\\n'], np.int64(621): ['GATA6\\n', 'JMJD1C\\n'], np.int64(622): ['LRP12\\n'], np.int64(623): ['MUC17\\n'], np.int64(624): ['FANCF\\n'], np.int64(625): ['LILRB5\\n'], np.int64(626): ['NMNAT3\\n'], np.int64(627): ['WNT10A\\n'], np.int64(628): ['NDUFS2\\n', 'NDUFS1\\n', 'COQ10A\\n', 'UQCR11\\n', 'LRPPRC\\n', 'NDUFB2\\n', 'SDHB\\n', 'NDUFS6\\n'], np.int64(629): ['GJD2\\n', 'GJB4\\n'], np.int64(630): ['MMGT1\\n', 'LRRC8C\\n'], np.int64(631): ['TMEM132A\\n'], np.int64(632): ['BLOC1S4\\n'], np.int64(633): ['HTD2\\n'], np.int64(634): ['TNFRSF11B\\n', 'TNFSF13\\n'], np.int64(635): ['CACNA1S\\n'], np.int64(636): ['GALNT16\\n', 'MUC12\\n'], np.int64(637): ['ADPGK\\n'], np.int64(638): ['ENPEP\\n'], np.int64(639): ['PARVA\\n'], np.int64(640): ['NOX4\\n'], np.int64(641): ['TTC37\\n'], np.int64(642): ['AK5\\n'], np.int64(643): ['SOCS5\\n'], np.int64(644): ['IPPK\\n'], np.int64(645): ['AK6\\n'], np.int64(646): ['TPI1\\n'], np.int64(647): ['DOK6\\n'], np.int64(648): ['TEX101\\n', 'RAET1L\\n'], np.int64(649): ['ENO2\\n'], np.int64(650): ['BRPF3\\n'], np.int64(651): ['TRIM11\\n'], np.int64(652): ['PTGR1\\n'], np.int64(653): ['SLC29A2\\n', 'SLC29A1\\n'], np.int64(654): ['KRTAP10-3\\n'], np.int64(655): ['CD163\\n'], np.int64(656): ['GPIHBP1\\n'], np.int64(657): ['FKBP14\\n'], np.int64(658): ['NDUFA3\\n', 'NDUFB10\\n', 'NDUFB8\\n', 'NDUFA11\\n', 'MT-ND1\\n', 'NDUFB7\\n', 'NDUFB4\\n', 'SCO1\\n', 'NDUFB9\\n', 'NUBPL\\n', 'NDUFA10\\n', 'NDUFAF4\\n'], np.int64(659): ['HMGN1\\n', 'POLD2\\n'], np.int64(660): ['DENND1B\\n'], np.int64(661): ['RBL2\\n'], np.int64(662): ['SFTPA1\\n'], np.int64(663): ['TOMM22\\n'], np.int64(664): ['ZNF439\\n'], np.int64(665): ['AMBRA1\\n', 'TBC1D7\\n'], np.int64(666): ['IL31RA\\n'], np.int64(667): ['CD1B\\n', 'PILRA\\n'], np.int64(668): ['TPGS1\\n'], np.int64(669): ['SBSPON\\n'], np.int64(670): ['LCLAT1\\n'], np.int64(671): ['COG3\\n', 'MAN2A2\\n'], np.int64(672): ['NIPAL1\\n', 'NIPAL4\\n'], np.int64(673): ['IRF5\\n', 'IFNA13\\n'], np.int64(674): ['ATP6V1E2\\n'], np.int64(675): ['STX17\\n'], np.int64(676): ['TBC1D10A\\n'], np.int64(677): ['LY6G6D\\n'], np.int64(678): ['CHCHD5\\n'], np.int64(679): ['OCLN\\n'], np.int64(680): ['RBM28\\n', 'NOL9\\n'], np.int64(681): ['PLET1\\n'], np.int64(682): ['RIC1\\n'], np.int64(683): ['PLA2G4D\\n'], np.int64(684): ['TIMM23\\n'], np.int64(685): ['VPS29\\n'], np.int64(686): ['CYP4A22\\n'], np.int64(687): ['PLAAT5\\n'], np.int64(688): ['ARHGEF25\\n', 'HTR2B\\n'], np.int64(689): ['TCAP\\n'], np.int64(690): ['TXNRD2\\n', 'GPX8\\n'], np.int64(691): ['NT5C1B\\n'], np.int64(692): ['PLA2G2F\\n'], np.int64(693): ['GPHB5\\n'], np.int64(694): ['UGT1A5\\n'], np.int64(695): ['PPP6R3\\n'], np.int64(696): ['MED28\\n'], np.int64(697): ['MCEE\\n'], np.int64(698): ['INSL3\\n', 'RXFP2\\n', 'CRHR1\\n', 'TAAR5\\n'], np.int64(699): ['FZD6\\n', 'RYK\\n'], np.int64(700): ['TPCN1\\n'], np.int64(701): ['LIPH\\n', 'GPAT2\\n'], np.int64(702): ['POC1B-GALNT4\\n'], np.int64(703): ['155908\\n', 'CHMP5\\n'], np.int64(704): ['SPON2\\n', 'ADAMTS15\\n'], np.int64(705): ['PRKCI\\n'], np.int64(706): ['SMYD2\\n'], np.int64(707): ['TIMM17B\\n', 'HSPA9\\n', 'PAM16\\n', 'TIMM8B\\n', 'CHCHD4\\n', 'USP17L5\\n'], np.int64(708): ['VNN3\\n'], np.int64(709): ['SLC17A5\\n'], np.int64(710): ['THSD7A\\n'], np.int64(711): ['886418\\n'], np.int64(712): ['ZNF124\\n'], np.int64(713): ['ACVRL1\\n', 'SMAD9\\n'], np.int64(714): ['AZGP1\\n'], np.int64(715): ['MAX\\n'], np.int64(716): ['CHMP6\\n'], np.int64(717): ['DYNLRB2\\n'], np.int64(718): ['TNNI2\\n'], np.int64(719): ['KRTAP5-7\\n'], np.int64(720): ['NEIL3\\n'], np.int64(721): ['CHCHD10\\n'], np.int64(722): ['NDUFAF6\\n'], np.int64(723): ['SH3KBP1\\n', 'CLTA\\n', 'PCSK9\\n'], np.int64(724): ['SESN2\\n'], np.int64(725): ['SESN3\\n', 'COX16\\n'], np.int64(726): ['TMOD3\\n'], np.int64(727): ['TRIM72\\n'], np.int64(728): ['CYFIP2\\n'], np.int64(729): ['JAK3\\n'], np.int64(730): ['ABCG1\\n'], np.int64(731): ['AMD1\\n'], np.int64(732): ['LPIN3\\n'], np.int64(733): ['KCNK2\\n', 'KCNK13\\n'], np.int64(734): ['TNS4\\n'], np.int64(735): ['ANKRD27\\n'], np.int64(736): ['KCNK17\\n'], np.int64(737): ['KIR2DL3\\n'], np.int64(738): ['ENPP7\\n'], np.int64(739): ['ST3GAL6\\n'], np.int64(740): ['GALNT11\\n'], np.int64(741): ['NECAP1\\n', 'STON1-GTF2A1L\\n', 'VAMP4\\n', 'SYT12\\n', 'REPS1\\n'], np.int64(742): ['NRP1\\n'], np.int64(743): ['FNIP1\\n', 'BMT2\\n'], np.int64(744): ['888777\\n'], np.int64(745): ['FCSK\\n'], np.int64(746): ['KLHL13\\n'], np.int64(747): ['EPB41L3\\n'], np.int64(748): ['CHCHD3\\n', 'ATP5ME\\n'], np.int64(749): ['ZNF740\\n', 'ZNF226\\n'], np.int64(750): ['ADAMTS13\\n'], np.int64(751): ['KRTAP5-3\\n'], np.int64(752): ['SIRT1\\n', 'NR1D1\\n', 'PPP1CB\\n', 'PPP1CA\\n'], np.int64(753): ['KCNA7\\n'], np.int64(754): ['DEFB115\\n', 'DEFB107A\\n', 'DEFA3\\n', 'DEFB103A\\n'], np.int64(755): ['MTMR2\\n'], np.int64(756): ['SYT10\\n'], np.int64(757): ['DENND1A\\n'], np.int64(758): ['PEX14\\n', 'PEX3\\n', 'GDAP1\\n', 'SLC25A17\\n'], np.int64(759): ['3636229\\n'], np.int64(760): ['NSMCE4A\\n'], np.int64(761): ['TNFSF4\\n'], np.int64(762): ['SAG\\n'], np.int64(763): ['DSE\\n'], np.int64(764): ['CNOT7\\n'], np.int64(765): ['DENND6B\\n'], np.int64(766): ['GNPAT\\n'], np.int64(767): ['YIPF6\\n'], np.int64(768): ['TRIM34\\n'], np.int64(769): ['KLRG1\\n'], np.int64(770): ['3361714\\n'], np.int64(771): ['LMF1\\n'], np.int64(772): ['KIF1B\\n', 'KDELR1\\n', 'KIF27\\n'], np.int64(773): ['CERS4\\n', 'SPHK2\\n'], np.int64(774): ['PLG\\n', 'ADAMTS18\\n', 'ADAMTS1\\n'], np.int64(775): ['ZNF480\\n', 'ZNF169\\n'], np.int64(776): ['CACNG6\\n'], np.int64(777): ['DEFB112\\n'], np.int64(778): ['ELAC2\\n'], np.int64(779): ['ITGA8\\n'], np.int64(780): ['RFT1\\n'], np.int64(781): ['ATP2B1\\n', 'ATP7B\\n', 'ATP10A\\n', 'ATP8B3\\n'], np.int64(782): ['MUC16\\n'], np.int64(783): ['SMNDC1\\n', 'SNRPD2\\n', 'ZRSR2\\n'], np.int64(784): ['ARAP1\\n'], np.int64(785): ['TIMM10B\\n', 'CHCHD7\\n'], np.int64(786): ['MUC13\\n'], np.int64(787): ['ARFIP2\\n'], np.int64(788): ['LCE1F\\n', 'LCE1D\\n'], np.int64(789): ['THSD4\\n'], np.int64(790): ['RAB17\\n', 'RAB39B\\n'], np.int64(791): ['DMAC2L\\n'], np.int64(792): ['CHRNA4\\n'], np.int64(793): ['ALS2CL\\n', 'TRAPPC5\\n'], np.int64(794): ['NR2C2\\n'], np.int64(795): ['PRLH\\n'], np.int64(796): ['LIPF\\n'], np.int64(797): ['CASTOR2\\n'], np.int64(798): ['KRT19\\n'], np.int64(799): ['PARD6B\\n'], np.int64(800): ['ANKLE2\\n'], np.int64(801): ['KIF20B\\n', 'NSF\\n'], np.int64(802): ['MUC19\\n'], np.int64(803): ['PJA2\\n'], np.int64(804): ['ATP6V0D2\\n'], np.int64(805): ['CDK19\\n'], np.int64(806): ['SLC41A2\\n'], np.int64(807): ['NRBP1\\n', 'NR2F1\\n'], np.int64(808): ['SF3B5\\n'], np.int64(809): ['CLCA4\\n'], np.int64(810): ['GPHN\\n'], np.int64(811): ['TIMM10\\n', 'OTC\\n'], np.int64(812): ['PLA2G1B\\n', 'PLA2G4E\\n', '3644711\\n'], np.int64(813): ['RAB1B\\n'], np.int64(814): ['IL1RAPL2\\n'], np.int64(815): ['FADD\\n', 'CFLAR\\n', 'CDC25B\\n'], np.int64(816): ['RPEL1\\n'], np.int64(817): ['KDELR3\\n'], np.int64(818): ['ABI2\\n'], np.int64(819): ['TRMT10A\\n'], np.int64(820): ['TAAR8\\n', 'PDE10A\\n'], np.int64(821): ['PGLYRP2\\n'], np.int64(822): ['KRT79\\n'], np.int64(823): ['MDH1\\n'], np.int64(824): ['IFNL1\\n'], np.int64(825): ['UBQLN1\\n'], np.int64(826): ['MT-ND2\\n', 'NDUFAF3\\n', 'NDUFS7\\n', 'MT-ND5\\n', 'NDUFA13\\n'], np.int64(827): ['HIRA\\n'], np.int64(828): ['ST6GAL2\\n', 'ST3GAL1\\n'], np.int64(829): ['E2F4\\n'], np.int64(830): ['AP4E1\\n'], np.int64(831): ['TTLL9\\n'], np.int64(832): ['TPM2\\n', 'MYBPC2\\n', 'SORBS1\\n'], np.int64(833): ['CACNG4\\n', 'CACNG8\\n'], np.int64(834): ['PAOX\\n'], np.int64(835): ['ENAH\\n'], np.int64(836): ['GSTO1\\n'], np.int64(837): ['MT1G\\n'], np.int64(838): ['TNXB\\n'], np.int64(839): ['XBP1\\n'], np.int64(840): ['FMOD\\n'], np.int64(841): ['CATSPERD\\n'], np.int64(842): ['PTHLH\\n'], np.int64(843): ['PLA2R1\\n', 'GPAT4\\n'], np.int64(844): ['WNK2\\n'], np.int64(845): ['CACNA2D3\\n', 'CACNB2\\n'], np.int64(846): ['ARAP3\\n'], np.int64(847): ['NR2C2AP\\n'], np.int64(848): ['ATP4A\\n'], np.int64(849): ['PARD6G\\n'], np.int64(850): ['KDM2A\\n'], np.int64(851): ['ZFP69B\\n'], np.int64(852): ['TTC21B\\n', 'UCN2\\n'], np.int64(853): ['NTS\\n'], np.int64(854): ['TBC1D17\\n'], np.int64(855): ['NT5C1B-RDH14\\n'], np.int64(856): ['CLCA1\\n'], np.int64(857): ['CASTOR1\\n'], np.int64(858): ['NGEF\\n'], np.int64(859): ['KCNU1\\n'], np.int64(860): ['CACNA2D2\\n', 'SCN4A\\n'], np.int64(861): ['ST8SIA2\\n'], np.int64(862): ['FAAP100\\n'], np.int64(863): ['CASC3\\n'], np.int64(864): ['PARP9\\n'], np.int64(865): ['IL18R1\\n'], np.int64(866): ['TRPC1\\n', 'MLKL\\n'], np.int64(867): ['KRT18\\n', 'KRTAP19-6\\n', 'DSC3\\n'], np.int64(868): ['VAC14\\n'], np.int64(869): ['MRGBP\\n'], np.int64(870): ['MIGA2\\n'], np.int64(871): ['RBP4\\n'], np.int64(872): ['LTBP3\\n'], np.int64(873): ['GLTP\\n', 'B4GALNT1\\n', 'SUMF1\\n'], np.int64(874): ['ATP10D\\n'], np.int64(875): ['MED9\\n'], np.int64(876): ['PRKG2\\n'], np.int64(877): ['TCHH\\n', 'KRT37\\n'], np.int64(878): ['OPN1MW3\\n'], np.int64(879): ['ZNF558\\n'], np.int64(880): ['APOBEC4\\n'], np.int64(881): ['COL25A1\\n'], np.int64(882): ['CLEC4G\\n'], np.int64(883): ['DEFB136\\n', 'DEFB113\\n', 'DEFB131A\\n', 'DEFB130A\\n', 'DEFA5\\n'], np.int64(884): ['PLXNA3\\n'], np.int64(885): ['ARHGAP11A\\n', 'DEPDC7\\n'], np.int64(886): ['UGT2A2\\n'], np.int64(887): ['CNTN3\\n'], np.int64(888): ['NIPA2\\n'], np.int64(889): ['EP400\\n'], np.int64(890): ['ARHGEF6\\n'], np.int64(891): ['INPP5E\\n'], np.int64(892): ['KRTAP19-3\\n', 'KRT5\\n', 'KRT77\\n', 'KRTAP27-1\\n', 'KRT6B\\n', 'KRTAP4-8\\n', 'KRTAP13-2\\n', 'KRTAP8-1\\n', 'CSTA\\n', 'PRSS8\\n', 'KRT28\\n', 'PCSK6\\n', 'LORICRIN\\n', 'KRTAP17-1\\n', 'KRTAP2-4\\n'], np.int64(893): ['NME3\\n'], np.int64(894): ['TNNT1\\n', 'MYH3\\n', 'MYL4\\n'], np.int64(895): ['ADAMTS20\\n'], np.int64(896): ['MSL1\\n'], np.int64(897): ['CYP4F22\\n'], np.int64(898): ['PLCD4\\n'], np.int64(899): ['ACBD7\\n'], np.int64(900): ['ECE2\\n'], np.int64(901): ['HDAC8\\n', 'P2RY6\\n', 'NUAK1\\n', 'RAD23B\\n', 'USP3\\n', 'SP1\\n', 'RPP30\\n', 'NOL11\\n', 'PLEKHO2\\n', 'CEBPB\\n', 'TRAPPC2\\n', 'ZNF445\\n', 'RAE1\\n', 'RPS9\\n', 'OR4F16\\n', 'NMU\\n', 'FGF3\\n', 'KIF7\\n', 'SYCE2\\n', 'OR2T27\\n', 'NDUFV1\\n', 'IKZF1\\n', 'POLR2C\\n', 'IL3\\n', 'EPHA3\\n', 'GMFG\\n', 'OPRK1\\n', 'RCC2\\n', 'RBM5\\n', 'AGXT2\\n', 'TMED9\\n', 'RPS27A\\n', 'USP33\\n', 'PYCARD\\n', 'CSF2RA\\n', 'DCUN1D4\\n', 'SERPIND1\\n', 'MYBL2\\n', 'DOCK8\\n', 'SMG1\\n', 'HOXB3\\n', 'VHL\\n', 'CD14\\n', 'DSN1\\n', 'P2RY14\\n', 'CTSE\\n', 'NEDD4\\n', 'TRIM9\\n', 'S1PR2\\n', 'IGFBP3\\n', 'LHFPL2\\n', 'FGD1\\n', '3707572\\n', 'CTR9\\n', 'HSP90AB1\\n', 'KDM7A\\n', 'RPL5\\n', 'SARNP\\n', 'ACTR1B\\n', 'OR2B2\\n', 'ELL\\n', 'TICAM1\\n', 'TEX12\\n', 'TNFRSF1A\\n', 'SMC2\\n', 'TSR1\\n', 'NXF1\\n', 'ZNF704\\n', 'SENP8\\n', 'LYZ\\n', 'COL17A1\\n', 'ATG7\\n', 'RPL37\\n', 'GTF2F1\\n', 'GTF3C5\\n', 'VIPR2\\n', 'DCAF1\\n', 'IFT46\\n', 'PSMD8\\n', 'PSMB2\\n', 'KRT71\\n', 'KAT2B\\n', 'CHD9\\n', 'NDC1\\n', 'GAL\\n', 'DSG1\\n', 'PHAX\\n', 'CAPN5\\n', 'MCM6\\n', 'PVR\\n', 'PF4\\n', 'ATG4B\\n', 'PGM1\\n', 'THOC3\\n', 'OR4A16\\n', 'SPTBN4\\n', 'CRH\\n', 'OR51G1\\n', 'OR8H3\\n', 'PRKN\\n', 'OR1K1\\n', 'MNAT1\\n', 'ADAMTS5\\n', 'EDEM2\\n', 'NFAM1\\n', 'DHX37\\n', 'COL6A2\\n', 'SHH\\n', 'SKA1\\n', 'DEFA1\\n', 'OR10H1\\n', 'CLCNKA\\n', 'KRTAP25-1\\n', 'ZNF420\\n', 'PIAS4\\n', 'OR2T2\\n', 'CCNT1\\n', 'PDE4D\\n', 'SNRPA1\\n', 'HAUS1\\n', 'BCAS2\\n', 'OSTF1\\n', 'CEP131\\n', 'ERBB3\\n', 'HEATR1\\n', 'NTSR1\\n', 'SMG6\\n', 'RAB31\\n', 'OR1N1\\n', 'OGDH\\n', 'TACR3\\n', 'DNMT3B\\n', 'CLASP1\\n', 'IL18BP\\n', 'SET\\n', 'KRTAP5-2\\n', 'CREM\\n', 'ACKR3\\n', 'NPAS2\\n', 'ARAF\\n', 'KRT20\\n', 'OR10G7\\n', 'AP4S1\\n', 'ADH6\\n', 'TADA1\\n', 'EIF4E\\n', 'RCHY1\\n', 'FAM114A2\\n', 'CD47\\n', 'EPHA4\\n', 'PPIL3\\n', 'KRT15\\n', 'AURKA\\n', 'SYK\\n', 'ZNF17\\n', 'ZNF675\\n', 'SREBF2\\n', 'MAPKAPK3\\n', 'RPL39\\n', 'NR1I3\\n', 'IL3RA\\n', 'TUBB8\\n', 'COL10A1\\n', 'EXOSC9\\n', 'HJURP\\n', 'ALDOA\\n', 'MFAP3\\n', 'OR6C68\\n', 'FGF4\\n', 'CYCS\\n', 'DCAF17\\n', 'RNF115\\n', 'TNKS\\n', 'BBS2\\n', 'TAS2R8\\n', 'RAD18\\n', 'GNB2\\n', 'ZNF431\\n', 'GABPA\\n', 'THUMPD1\\n', 'LTA4H\\n', 'CAPZA2\\n', 'RPL21\\n', 'KRTAP23-1\\n', 'RPS3A\\n', 'OR13C8\\n', 'CASP3\\n', 'WNT3A\\n', 'CPT1C\\n', 'MAPRE1\\n', 'GNAT3\\n', 'VPREB1\\n', 'ORC4\\n', 'COPB1\\n', 'SNU13\\n', 'ERI1\\n', 'RFC5\\n', 'IDE\\n', 'TERF2IP\\n', 'FUCA2\\n', 'RPSA\\n', 'GORASP1\\n', 'CEACAM6\\n', 'TRAF2\\n', 'H3C15\\n', 'KDELR2\\n', 'CCL22\\n', 'SYCP1\\n', 'CPNE1\\n', 'COL8A1\\n', 'CD3D\\n', 'WWC1\\n', 'CCNH\\n', 'RPS7\\n', 'CTSZ\\n', 'ACTL6B\\n', 'COG1\\n', 'UGT1A9\\n', 'DDX46\\n', 'JUN\\n', 'CENPN\\n', 'RPS6KA1\\n', 'FGF20\\n', 'SPTBN1\\n', 'COPS2\\n', 'TPP2\\n', 'GTF3A\\n', 'RGS17\\n', 'DNAJC13\\n', 'RFC3\\n', 'AADAT\\n', 'CSF1\\n', 'XPO1\\n', 'DCUN1D1\\n', 'VPS28\\n', 'IL33\\n', 'DDX42\\n', 'ARSA\\n', 'PRKAR2A\\n', 'ASXL1\\n', 'CLPS\\n', 'DRD4\\n', 'CD40LG\\n', 'ANGPTL4\\n', 'TMOD4\\n', 'HNRNPC\\n', 'GTF3C2\\n', 'FBXO44\\n', 'ITGB1\\n', 'ORC6\\n', 'NUP35\\n', 'EED\\n', 'APOE\\n', 'LCE6A\\n', 'DOCK2\\n', 'GRK5\\n', 'OR1D5\\n', 'PPP2CB\\n', 'GBP5\\n', 'BCL2L1\\n', '904054\\n', 'OR2T3\\n', 'CD96\\n', 'RCL1\\n', 'IL12A\\n', 'ZNF703\\n', 'PRMT3\\n', 'NUP214\\n', 'RPS11\\n', 'MED27\\n', 'ZNF77\\n', 'MED14\\n', 'HGF\\n', 'CCL13\\n', 'RGS11\\n', 'AXIN2\\n', 'LAIR1\\n', 'ARHGAP15\\n', 'FFAR3\\n', 'ZNF550\\n', 'CSNK1D\\n', 'AGPAT2\\n', 'COPS6\\n', 'PTGER4\\n', 'QPCT\\n', 'KRTAP4-3\\n', 'VPS45\\n', 'GPLD1\\n', 'H3C1\\n', 'RBX1\\n', 'PDAP1\\n', 'ACBD3\\n', 'RAB18\\n', 'TSHB\\n', 'OPN1SW\\n', 'ETF1\\n', 'CX3CR1\\n', 'OR4A5\\n', 'IRF2\\n', 'NCOR2\\n', 'SLC9C1\\n', 'FBXO41\\n', 'RPL15\\n', 'NEDD8\\n', 'TGFBR2\\n', 'ITPR3\\n', 'OR8H2\\n', 'OR4A47\\n', 'DSC1\\n', 'OSTM1\\n', 'GDI2\\n', 'OR5AP2\\n', 'UBR1\\n', 'H2BC21\\n', 'SDS\\n', 'BST1\\n', 'PDIA3\\n', 'PSMA3\\n', 'CENPF\\n', 'PTPN6\\n', 'DNMT3L\\n', 'PPP2CA\\n', 'ZNF500\\n', 'TRIO\\n', 'OR7G2\\n', 'TIAM1\\n', 'RGR\\n', 'OR52E6\\n', 'TREML2\\n', 'OR9A2\\n', 'OR52M1\\n', 'OR6B2\\n', 'COPS5\\n', 'A2M\\n', 'NMUR2\\n', 'OR5P3\\n', 'RELB\\n', 'IL17F\\n', 'PMCH\\n', 'KMT2A\\n', 'ZW10\\n', 'RTP3\\n', 'INPP5B\\n', 'PECAM1\\n', 'TMED7\\n', 'NOS1\\n', 'RAD9B\\n', 'KCMF1\\n', 'TCF7L1\\n', 'STARD13\\n', 'IFT27\\n', 'GNG12\\n', 'GHRL\\n', 'F2RL1\\n', 'DCTN3\\n', 'YWHAB\\n', 'DDX39A\\n', 'MCM4\\n', 'NUP98\\n', 'SMAD7\\n', 'KAT2A\\n', 'INTS11\\n', 'SF3B4\\n', 'ADCY1\\n', 'OR52B2\\n', 'KRT14\\n', 'KLRK1\\n', 'CDO1\\n', 'UBA1\\n', 'CSNK2B\\n', 'SNRNP200\\n', 'PSAP\\n', 'TAF11\\n', 'UBE2F\\n', 'ZC3H11A\\n', 'LAMA5\\n', 'GTF2A2\\n', 'LHCGR\\n', 'TRAF6\\n', 'CFTR\\n', 'OR5K3\\n', 'PAX3\\n', 'FBXO21\\n', 'AP2S1\\n', 'SSTR1\\n', 'C4B\\n', 'PELI1\\n', 'KIF12\\n', 'H2BC14\\n', 'PSMA5\\n', 'OR5B2\\n', 'AHCYL1\\n', 'OR6A2\\n', 'BIRC3\\n', 'MDM4\\n', 'P2RX1\\n', '956527\\n', 'RPL29\\n', 'AP1S2\\n', 'GLI3\\n', 'MAP2K2\\n', 'ZNF197\\n', 'AREG\\n', 'REEP1\\n', 'OR2A42\\n', '155030\\n', 'RPL24\\n', 'SSTR5\\n', 'GLIPR1\\n', 'VPS35L\\n', 'RGS21\\n', 'ABCA3\\n', 'HK3\\n', 'LIN7A\\n', 'EIF3H\\n', 'RNASET2\\n', 'OR2M4\\n', 'GNAI3\\n', 'CEP97\\n', 'SYNE1\\n', 'OR2V1\\n', 'UFL1\\n', 'EP300\\n', 'ACTN1\\n', 'SIK1B\\n', 'RBBP7\\n', 'ISG20L2\\n', 'PRKACG\\n', 'PPM1B\\n', 'ATXN7L3\\n', 'MME\\n', 'TXK\\n', 'KRT83\\n', 'OR8K3\\n', 'ZNF736\\n', 'PLAUR\\n', 'NUP155\\n', 'ZNF496\\n', 'RORC\\n', 'SCTR\\n', 'OR4D11\\n', 'OR2J2\\n', 'OPN1MW\\n', 'GTF2E2\\n', 'SLC22A3\\n', 'H3-3A\\n', 'CTSW\\n', 'ZFP69\\n', 'RPL6\\n', 'ENGASE\\n', 'CD33\\n', 'THOC7\\n', 'H2BC5\\n', 'PRSS2\\n', 'PSME2\\n', 'UCN\\n', 'SHC1\\n', 'TAF9\\n', 'CX3CL1\\n', 'OR8B8\\n', 'EMILIN1\\n', 'UTP4\\n', 'FGD4\\n', 'GNAI2\\n', 'H3C14\\n', 'S100A11\\n', 'OR6T1\\n', 'CENPO\\n', 'APH1A\\n', 'CCT3\\n', 'H2AC17\\n', 'PROK2\\n', 'CUL7\\n', 'LTB4R2\\n', 'NALCN\\n', 'SRGAP1\\n', 'OR2Y1\\n', 'RPS16\\n', 'ZNF510\\n', 'AP2M1\\n', 'LRRC41\\n', 'CEP72\\n', 'CDK13\\n', 'WDR36\\n', 'BUB3\\n', 'CLCN2\\n', 'TAS2R3\\n', 'OR2T4\\n', 'OR52E4\\n', 'UBE2N\\n', 'PLA2G6\\n', 'CD200\\n', 'PSMA7\\n', 'ROBO2\\n', 'BDKRB1\\n', 'TFDP2\\n', 'CXCL5\\n', 'EDNRB\\n', 'OR1S2\\n', 'ORM2\\n', 'OR2T10\\n', 'CSTB\\n', 'A1BG\\n', 'H2AC21\\n', 'PRKACB\\n', 'TUBA3E\\n', 'NDRG1\\n', 'FBXL22\\n', 'OR51B4\\n', 'GPR55\\n', 'ECHS1\\n', 'BCAR1\\n', 'UBQLN2\\n', 'RNF111\\n', 'FOLR1\\n', 'REEP6\\n', 'PHLPP1\\n', 'PSMB8\\n', 'ASB17\\n', 'XRN1\\n', 'TUBG2\\n', 'PGAM1\\n', 'RPL41\\n', 'IRAK4\\n', 'GATA3\\n', 'KRTAP9-4\\n', 'HMGB1\\n', 'CCKBR\\n', 'MEAF6\\n', 'HSF1\\n', 'KIF6\\n', 'TRIM45\\n', 'DEK\\n', 'LRP1\\n', 'B9D2\\n', 'SERPINE1\\n', 'GSN\\n', 'OR2L13\\n', 'CD53\\n', 'HSPA14\\n', 'UTP11\\n', 'GSDMD\\n', 'ISY1-RAB43\\n', 'BABAM2\\n', 'GSPT2\\n', 'CIAO2B\\n', 'PICALM\\n', 'OGT\\n', 'RPS8\\n', 'AFP\\n', 'SOS1\\n', 'HUWE1\\n', 'ADRA2A\\n', 'GPER1\\n', 'COMT\\n', 'OR4L1\\n', 'NR2F6\\n', 'WDR33\\n', 'OR2A12\\n', 'CTNNA1\\n', 'IRS2\\n', 'DCTN2\\n', 'ADAM22\\n', 'APOOL\\n', 'OR8U3\\n', 'HTR1D\\n', 'GLYAT\\n', 'OPTC\\n', 'ZNF3\\n', 'HNRNPUL1\\n', 'VCAN\\n', 'POLR1E\\n', 'TAOK1\\n', 'KLHL9\\n', 'OR1A2\\n', 'ZNF799\\n', 'EIF3A\\n', 'TRIM50\\n', 'GNA15\\n', 'KIF18B\\n', 'GNG10\\n', 'ATP8B4\\n', 'NCOA6\\n', 'PDE1A\\n', 'NDUFA6\\n', 'POP5\\n', 'FTSJ3\\n', 'PVALB\\n', 'CDH2\\n', 'PRKAB1\\n', 'CD300LG\\n', 'ZNF398\\n', 'CBX5\\n', 'MIA2\\n', 'NID2\\n', 'MED1\\n', 'NUP153\\n', 'PDE3A\\n', 'AGTPBP1\\n', 'LILRA3\\n', 'GSR\\n', 'PRKACA\\n', 'USP17L22\\n', 'ERCC5\\n', 'CEP78\\n', 'GRIA1\\n', 'ZNF45\\n', 'COPZ2\\n', 'LEF1\\n', 'ZNF607\\n', 'NPY4R\\n', 'UBA3\\n', 'QRFPR\\n', 'ZNF624\\n', 'ZNF684\\n', 'UBE2Q2\\n', 'TSC1\\n', 'BLMH\\n', 'UBE2R2\\n', 'TREM1\\n', 'ZNF560\\n', 'UBD\\n', 'STK10\\n', 'ZNF317\\n', 'EIF3L\\n', 'ASB2\\n', 'ARSB\\n', 'CIITA\\n', 'PSTPIP1\\n', 'KIF2A\\n', 'OR5H2\\n', 'ZKSCAN4\\n', 'PRPF19\\n', 'SERPINA3\\n', 'MZT1\\n', 'RPL17\\n', 'PRPF4\\n', 'OR6X1\\n', 'LTF\\n', 'ZNF273\\n', 'ACER3\\n', 'MADCAM1\\n', 'ZNF140\\n', 'PYGB\\n', 'GPC6\\n', 'ZNF311\\n', 'PPBP\\n', 'ACADSB\\n', 'ITGB8\\n', 'ADSS2\\n', 'OR2W3\\n', 'ZNRF3\\n', 'HDAC3\\n', 'SLCO4C1\\n', 'TACR2\\n', 'CSTF3\\n', 'H2AB1\\n', 'DCUN1D5\\n', 'GNB4\\n', 'PREX2\\n', 'CR1\\n', 'TAF15\\n', 'KLHL20\\n', 'MED24\\n', 'OR5AR1\\n', 'ALPL\\n', 'OR13H1\\n', 'NUP58\\n', 'MTA3\\n', 'FOLR3\\n', 'SPCS1\\n', 'BUB1\\n', 'CD1D\\n', 'GRM6\\n', 'HSPA1B\\n', 'RAB2A\\n', 'OBSL1\\n', 'SLC4A1\\n', 'CABLES2\\n', 'OXTR\\n', 'ZNF440\\n', 'BTK\\n', 'APOA1\\n', 'GAPDH\\n', 'ZNF114\\n', 'TBXA2R\\n', 'HAUS8\\n', 'CARD9\\n', 'NOD2\\n', 'PDHX\\n', 'RPL13\\n', 'GBP7\\n', 'OR2B3\\n', 'PRCC\\n', 'GCGR\\n', 'SFTPA2\\n', 'TP53RK\\n', 'LTB4R\\n', 'RNF213\\n', 'USP17L30\\n', 'ZNF544\\n', 'ASB9\\n', 'TAF7\\n', 'RELA\\n', 'ITGA3\\n', 'OR6F1\\n', 'STAM2\\n', 'INO80C\\n', 'TICAM2\\n', 'SNURF\\n', 'ELN\\n', 'OR4K14\\n', 'SUPT7L\\n', 'CXCL3\\n', 'GFRA1\\n', 'RPL10A\\n', 'PRTN3\\n', 'PRKAB2\\n', 'TREM2\\n', 'ZNF689\\n', 'IRAK1\\n', 'KLHL21\\n', 'PSMC6\\n', '100861532\\n', 'ZNF347\\n', 'TCEA1\\n', 'MLNR\\n', 'ZNF343\\n', 'ZSCAN25\\n', 'MAPK8\\n', 'COLGALT1\\n', 'SRGAP2\\n', 'ITGB6\\n', 'SNRNP25\\n', 'DMBT1\\n', 'TNIK\\n', 'PEX13\\n', 'MAP2K7\\n', 'BCKDK\\n', 'CTNNBL1\\n', 'PARP2\\n', 'LMNA\\n', 'CLSPN\\n', 'GPR65\\n', 'TMEM30A\\n', 'CD40\\n', 'CHD4\\n', 'SIRT3\\n', 'CAPN6\\n', 'AHI1\\n', 'PRG2\\n', 'ZNF282\\n', 'DYNC1LI1\\n', 'NANOG\\n', 'ACADS\\n', 'FBXO9\\n', 'CKS1B\\n', 'GNRH2\\n', 'CPB1\\n', 'RASGRP3\\n', 'CPLX1\\n', 'MED22\\n', 'LHX3\\n', 'EIF4A2\\n', 'CHMP2A\\n', 'ARHGEF5\\n', 'PHC1\\n', 'EEF1A1\\n', 'OR52K2\\n', 'EPN2\\n', 'HGS\\n', 'RPL10\\n', 'VPS36\\n', 'FTH1\\n', 'SF3B1\\n', 'USP17L18\\n', 'ERLIN2\\n', 'UBE2D4\\n', 'ITGA2B\\n', 'GNL3\\n', 'BMP15\\n', 'DCTN5\\n', 'RAD51B\\n', 'CCL19\\n', 'ZNF860\\n', 'EIF3F\\n', 'SLC22A8\\n', 'SUPT20H\\n', 'YAP1\\n', 'GH2\\n', 'AOC2\\n', 'PIK3CA\\n', 'ARFGAP1\\n', 'RPS29\\n', 'HEBP2\\n', 'CAB39\\n', 'USP7\\n', 'CXCL11\\n', 'H2AZ1\\n', 'USP17L10\\n', 'NUF2\\n', 'RPS19BP1\\n', 'ZNF337\\n', 'MMP17\\n', 'ITCH\\n', 'RAB4B\\n', 'ZKSCAN5\\n', 'PRPF40A\\n', 'GHRHR\\n', 'GRIN1\\n', 'ELOB\\n', 'FBXO15\\n', 'BTC\\n', 'OR2Z1\\n', 'GTF2H4\\n', 'GFRA2\\n', 'PSENEN\\n', 'KCNC2\\n', 'PAFAH1B2\\n', 'CDC20\\n', 'IFT88\\n', 'RYR2\\n', 'SPTAN1\\n', 'ITGA7\\n', 'JAM3\\n', 'RUNX3\\n', 'SPSB4\\n', 'SLIT1\\n', 'EAF1\\n', 'KCNAB2\\n', 'GPR17\\n', 'SIRPB1\\n', 'AVPR1A\\n', 'ZNF679\\n', 'UBXN7\\n', 'AR\\n', 'XRCC6\\n', 'BANF1\\n', 'SQLE\\n', 'GPS2\\n', 'AGT\\n', 'PSMD5\\n', 'OR1L8\\n', 'SIRPA\\n', 'FGD2\\n', 'FEM1C\\n', 'SIGLEC14\\n', 'OPRD1\\n', 'RING1\\n', 'ANAPC5\\n', 'ZNF540\\n', 'VWA1\\n', 'USP47\\n', 'GCC1\\n', 'FFAR1\\n', 'NTHL1\\n', 'CTSG\\n', 'TAP1\\n', 'ANAPC2\\n', 'ZNF747\\n', 'OR5M11\\n', 'KLHL42\\n', 'BCAP31\\n', 'ITGB3\\n', 'ATP2B4\\n', 'KRT10\\n', 'CYFIP1\\n', 'OR10H3\\n', 'DVL2\\n', 'TUBA1A\\n', 'NFE2\\n', 'CLEC3B\\n', 'PRCP\\n', 'OR11L1\\n', 'TPR\\n', 'NDUFA1\\n', 'FBXO40\\n', 'OR6K6\\n', 'STBD1\\n', 'DRD1\\n', 'ATP6V0B\\n', 'MT-CO1\\n', 'GPR132\\n', 'RHO\\n', 'DAB2IP\\n', 'VAMP8\\n', 'PTTG1\\n', 'YPEL5\\n', 'IFNA10\\n', 'RAB7B\\n', 'ZNF670\\n', 'ZNF709\\n', 'SMARCA5\\n', 'DHH\\n', 'FBXO2\\n', 'RNF123\\n', 'WDR48\\n', 'PACSIN3\\n', 'CSNK1G2\\n', 'AKT2\\n', 'OR5M10\\n', 'PIK3CD\\n', 'ABCC9\\n', 'OR4D5\\n', 'ODF2\\n', 'MRTFA\\n', 'KIF3B\\n', 'NUB1\\n', 'RPL39L\\n', 'TMED10\\n', 'DVL1\\n', 'UBA52\\n', 'ZNF571\\n', 'ZNF205\\n', 'RPL36\\n', 'COL27A1\\n', 'CENPH\\n', 'GRM2\\n', 'GAB1\\n', 'CENPJ\\n', 'OR51A4\\n', 'SEM1\\n', 'CCDC22\\n', 'OR52W1\\n', 'ADORA1\\n', 'CEP135\\n', 'HOXD1\\n', 'TLE1\\n', 'LIPN\\n', 'OR4N4\\n', 'GOLGA7\\n', 'SYT5\\n', 'CREB1\\n', 'CCP110\\n', 'PSMD2\\n', 'H2AC19\\n', 'HDAC7\\n', 'RPS4Y2\\n', 'SLC2A4\\n', 'PAFAH1B1\\n', 'USP17L25\\n', 'NOTCH3\\n', 'NFIL3\\n', 'TUBGCP3\\n', '956535\\n', 'TAS1R3\\n', 'IFNA4\\n', 'NFYC\\n', 'ZNF429\\n', 'PTH2\\n', 'DEFB118\\n', 'ZNF157\\n', 'POLR2B\\n', 'KNG1\\n', 'ACTR1A\\n', 'ZFP90\\n', 'TIAM2\\n', 'TAF1\\n', 'PLCB1\\n', 'OR8A1\\n', 'ARHGEF2\\n', 'ZNF737\\n', 'THBS1\\n', 'KRT12\\n', 'ZNF566\\n', 'RAMP1\\n', 'OR7G1\\n', 'RASGEF1A\\n', 'TFB2M\\n', 'GTF2E1\\n', 'IL13RA2\\n', 'OR5V1\\n', 'PDS5A\\n', 'RNASEL\\n', 'SPDL1\\n', 'GRK2\\n', 'PTAFR\\n', 'IMP4\\n', 'AMELX\\n', 'OR2AG2\\n', 'OR8G5\\n', 'LDHB\\n', 'ADCY4\\n', 'CDC6\\n', 'ZNF354A\\n', 'CXCL10\\n', 'RNF146\\n', 'OR2A1\\n', 'CNOT9\\n', 'LIMK1\\n', 'ASH2L\\n', 'UTP14C\\n', 'ADCY3\\n', 'TNFSF12-TNFSF13\\n', 'RGS20\\n', 'ZNF718\\n', 'CD80\\n', 'CCKAR\\n', 'OR4D9\\n', 'KCNJ11\\n', 'PNPLA2\\n', 'PCYOX1L\\n', 'UBE2O\\n', 'ELAVL2\\n', 'PKP2\\n', 'FCF1\\n', 'ALDH3A2\\n', 'ACTR3\\n', 'MAP2K4\\n', 'CAV2\\n', 'GALR3\\n', 'OR51J1\\n', 'FAM20A\\n', 'EPAS1\\n', 'NPSR1\\n', 'CCNB2\\n', 'ISG15\\n', 'OR5B3\\n', 'NFYB\\n', 'CEP250\\n', 'RAPGEF3\\n', 'PPP4C\\n', 'PCM1\\n', 'NCAM1\\n', 'CDC16\\n', 'GMIP\\n', 'UPF3B\\n', 'KHSRP\\n', 'ELP2\\n', 'FZD2\\n', 'H2AC6\\n', 'ORMDL3\\n', 'PDGFA\\n', 'PTPRN2\\n', 'H3C7\\n', 'RNF5\\n', 'CCL20\\n', 'TOR1A\\n', 'TRAF7\\n', 'GADD45A\\n', 'RGS22\\n', 'CTSH\\n', 'TMBIM1\\n', 'OR56A5\\n', 'PRKCB\\n', 'OR4C12\\n', 'FABP12\\n', 'CEACAM8\\n', 'DNM2\\n', 'MYDGF\\n', 'GBP4\\n', 'GBP1\\n', 'MTNR1B\\n', 'CAMK2D\\n', 'FMNL1\\n', 'CBLL2\\n', 'APRT\\n', 'WAPL\\n', 'RAB44\\n', 'BYSL\\n', 'OR13C3\\n', 'OR6C75\\n', 'AOX1\\n', 'ACD\\n', 'ZNF256\\n', 'PRKAA1\\n', 'USP21\\n', 'SNX3\\n', 'ZFP28\\n', 'NPEPPS\\n', 'KIF11\\n', 'ZNF248\\n', 'PDPR\\n', 'DTX2\\n', 'PRKCSH\\n', 'STAG2\\n', 'STX1A\\n', 'OR6P1\\n', 'RHOJ\\n', 'NCOA3\\n', 'KAT6A\\n', 'ZNF707\\n', '35556781\\n', 'PPIA\\n', 'GPR84\\n', 'ZNF552\\n', 'ALDH9A1\\n', 'NDUFA7\\n', 'TAF2\\n', 'VNN1\\n', 'KAT5\\n', 'GALR1\\n', 'NPY4R2\\n', 'CDK5RAP2\\n', 'OR4K2\\n', 'PTK2\\n', 'CEP41\\n', 'COPS7B\\n', 'PQBP1\\n', 'ELL3\\n', 'LMAN2\\n', 'OR13D1\\n', 'USP44\\n', 'KRTAP5-8\\n', 'ECHDC2\\n', 'RPS13\\n', 'CKAP4\\n', 'TOMM70\\n', 'UNG\\n', 'EPHA1\\n', 'HBA1\\n', 'MZT2B\\n', 'SIAH2\\n', 'CTDP1\\n', 'NOS2\\n', 'APEH\\n', 'AXIN1\\n', 'OAS2\\n', 'OR2M2\\n', 'NDUFB5\\n', 'LMAN2L\\n', 'ORM1\\n', 'NPY\\n', 'TAB2\\n', 'KIF26B\\n', 'TMX3\\n', 'TRIM39\\n', 'PHF19\\n', 'SLC2A5\\n', 'TAAR6\\n', 'PLCG2\\n', 'ITGAL\\n', 'OR8D2\\n', 'ZNF394\\n', 'CYP4B1\\n', 'CGA\\n', 'USP11\\n', 'RPL35A\\n', 'JAK1\\n', 'DSG4\\n', 'NUP54\\n', 'OR2H2\\n', 'ANAPC16\\n', 'MAVS\\n', 'GPR27\\n', 'USP22\\n', 'OR7C2\\n', 'PDE6A\\n', 'RMI2\\n', 'PSME4\\n', 'OR4P4\\n', 'GPX3\\n', 'ESR1\\n', 'GSK3B\\n', 'NMBR\\n', 'SEMA4D\\n', 'OR56A1\\n', 'ZNF620\\n', 'MED17\\n', 'OR51B6\\n', '728929\\n', 'GPC4\\n', 'P4HA3\\n', 'KDM1A\\n', 'TLR4\\n', 'SEC61B\\n', 'SRI\\n', 'CCZ1\\n', 'OAZ2\\n', 'SCN3B\\n', 'COPA\\n', 'NUP160\\n', 'OR52R1\\n', 'ZNF443\\n', 'SNRPE\\n', 'GPR4\\n', 'MMP19\\n', 'PAXIP1\\n', 'GAPVD1\\n', 'PFKL\\n', 'ZNF75D\\n', 'FCER1A\\n', 'MAGOH\\n', 'ULK1\\n', 'SPINK9\\n', 'CHGB\\n', 'CDT1\\n', 'NEURL1\\n', 'CD86\\n', 'OR5M8\\n', 'RPL27\\n', 'ARHGAP9\\n', 'POLR1F\\n', 'ADH4\\n', 'APH1B\\n', 'DSG2\\n', 'MAD1L1\\n', 'ST14\\n', 'OR8G2P\\n', 'APOB\\n', 'SLC32A1\\n', 'PRMT6\\n', 'LAMP1\\n', 'ADH5\\n', 'PSMD3\\n', 'IL5\\n', 'NOD1\\n', 'DENND2D\\n', 'OR1Q1\\n', 'POLD4\\n', 'PERM1\\n', 'SLPI\\n', 'OPTN\\n', 'MAP3K14\\n', 'NCAPD3\\n', 'FKBP4\\n', 'EFNA2\\n', 'ITGA1\\n', 'COL11A2\\n', 'ITGA2\\n', 'DZIP1\\n', 'ATP11A\\n', 'MAGT1\\n', 'POLR1C\\n', 'PEBP1\\n', 'HSPA8\\n', 'COL5A1\\n', 'SUDS3\\n', 'PRMT5\\n', 'SF3A1\\n', 'IKBKG\\n', 'PLD1\\n', 'ACKR4\\n', 'PIK3R3\\n', 'ARHGAP10\\n', 'ATP1B3\\n', 'FBXW7\\n', 'ZNF700\\n', 'XAB2\\n', 'TAS2R38\\n', 'DLG3\\n', 'ZWINT\\n', 'TBK1\\n', 'OR4F6\\n', 'TUBG1\\n', 'KDM4B\\n', 'OR51G2\\n', 'TRIP10\\n', 'ZNF202\\n', 'MET\\n', 'DYNC1I2\\n', 'IL6R\\n', 'BLM\\n', 'CDC7\\n', 'CHRNB4\\n', 'OR7C1\\n', 'CRISP3\\n', 'DLC1\\n', 'SLC10A1\\n', 'PDGFC\\n', 'ZNF616\\n', 'CEP70\\n', 'MAP3K3\\n', 'ZNF570\\n', 'PSMC3\\n', 'CFH\\n', 'SRSF11\\n', 'LAMP2\\n', 'P2RY11\\n', 'OR10J3\\n', 'ARHGEF35\\n', 'TNKS2\\n', 'TAS2R41\\n', 'SRF\\n', 'EPHB2\\n', 'ADCY8\\n', 'ZNF655\\n', 'TAS1R1\\n', 'YWHAE\\n', 'NOC4L\\n', 'C5AR1\\n', 'OR2T1\\n', 'OR5I1\\n', 'PRKCD\\n', 'ZNF180\\n', 'KRT81\\n', 'MID1\\n', 'COL4A3\\n', 'PTPRA\\n', 'HERC1\\n', 'ITPK1\\n', 'UBA7\\n', 'PRDX1\\n', 'PSME3\\n', 'NDE1\\n', 'TRAPPC6A\\n', 'THOC6\\n', 'KEAP1\\n', 'PGLYRP1\\n', 'DDAH1\\n', 'TMEM67\\n', 'CORIN\\n', '162699\\n', 'OR2G3\\n', 'ICOS\\n', 'NRG4\\n', 'IFNA7\\n', 'ZNF554\\n', 'CXCR1\\n', 'NUP85\\n', 'PTGER3\\n', 'CASQ2\\n', 'P2RY1\\n', 'ZNF585A\\n', 'ANO6\\n', 'TUBB3\\n', 'TUBA1B\\n', 'ATP6V0E2\\n', 'NCF1\\n', 'PLK4\\n', 'UBE3A\\n', 'FGF1\\n', 'KRBA1\\n', 'ARHGAP45\\n', 'RHOG\\n', 'RBP3\\n', 'SEC22B\\n', 'OR8G1\\n', 'RIPK1\\n', 'OR4B1\\n', 'BRCA2\\n', 'OR10H4\\n', 'OR2A2\\n', 'FRMPD3\\n', 'PA2G4\\n', 'TOPBP1\\n', 'SEC61A1\\n', 'OR7A5\\n', 'RRAGD\\n', 'LMO7\\n', 'DDX39B\\n', 'MTREX\\n', 'POLD3\\n', 'UIMC1\\n', 'OR51F2\\n', 'PLIN1\\n', 'OR10G4\\n', 'BUB1B\\n', 'SPC24\\n', 'ERCC6L\\n', 'GNAL\\n', 'PDE7A\\n', 'ING5\\n', 'OR51E1\\n', 'IVL\\n', 'SERPINB10\\n', 'CCT4\\n', 'LPAR6\\n', 'SPRR2D\\n', 'CYP4A11\\n', 'FBXO32\\n', 'POP7\\n', 'MMP2\\n', 'FXYD6\\n', 'JAK2\\n', 'RPAP2\\n', 'ABHD5\\n', 'ZNF614\\n', 'PNRC2\\n', 'RPL23\\n', 'KLRF1\\n', 'OR1D2\\n', 'OR5P2\\n', 'RRP9\\n', 'GIP\\n', 'CXCL1\\n', 'ABCA13\\n', 'NRAS\\n', 'DOCK10\\n', 'MLEC\\n', 'WDTC1\\n', 'POLG2\\n', 'ZFP2\\n', 'OR2AT4\\n', 'EVPL\\n', 'H2BC10\\n', 'ADRA2B\\n', 'RASA1\\n', 'DDX49\\n', 'OR7A17\\n', 'C9\\n', 'INTS8\\n', 'BMP4\\n', 'EIF3D\\n', 'HLA-DRA\\n', 'ALDOB\\n', 'TAAR1\\n', 'SLX1B\\n', 'WSB2\\n', 'TENT4A\\n', 'AMTN\\n', 'EFTUD2\\n', 'PIK3CB\\n', 'PTGDR\\n', 'TRAPPC6B\\n', 'ARHGEF18\\n', 'DNMT1\\n', 'PAF1\\n', 'ZNF606\\n', 'ATP13A5\\n', 'S100P\\n', 'CFL1\\n', 'RRN3\\n', 'OR4F5\\n', 'APOA2\\n', 'ZNF547\\n', 'USP15\\n', 'TOP2A\\n', 'TNFRSF11A\\n', 'LY96\\n', 'EPHA5\\n', 'CRTAM\\n', 'S1PR3\\n', 'ZNF138\\n', 'TRIM37\\n', 'OR51I1\\n', 'GPR45\\n', 'OR2H1\\n', 'OR5T3\\n', 'ZNF2\\n', 'OXT\\n', 'PRDM7\\n', 'CSTF2T\\n', 'MMP9\\n', 'ZNF200\\n', 'RHOBTB2\\n', 'CCNF\\n', 'RPL10L\\n', 'POLDIP3\\n', 'TUBAL3\\n', 'KRTAP1-4\\n', 'HRC\\n', 'IFT122\\n', 'ZNF778\\n', 'RAC2\\n', 'RPS27L\\n', 'H4C3\\n', 'PPP2R5D\\n', 'P4HA1\\n', 'ZIK1\\n', 'KRAS\\n', 'OR8B12\\n', 'ERBB2\\n', 'DDA1\\n', 'SAP18\\n', 'ZNF23\\n', 'UBE2I\\n', 'COL28A1\\n', 'CENPI\\n', 'DENND4A\\n', 'IGF2\\n', 'RNF34\\n', 'ACTR10\\n', 'RTP4\\n', 'GPAM\\n', 'CENPP\\n', 'VAV1\\n', 'EIF4A3\\n', 'NPY5R\\n', 'IBSP\\n', 'ZNF582\\n', 'TBC1D20\\n', 'AZU1\\n', 'KIF3A\\n', 'RPL38\\n', 'CTSO\\n', 'TUBGCP6\\n', 'CTSC\\n', 'OR10H2\\n', 'NUP188\\n', 'NOS3\\n', 'KCNJ9\\n', 'MTHFD1L\\n', 'ZNF18\\n', 'ACADVL\\n', 'SH3RF1\\n', 'PGR\\n', 'KIF22\\n', 'TNNC1\\n', 'OR4F21\\n', 'KNL1\\n', 'DCTN1\\n', 'PLEKHA1\\n', 'CCL4L2\\n', 'H4C5\\n', 'IMPDH2\\n', 'ZNF600\\n', 'CAPN14\\n', 'NIT2\\n', 'OR13F1\\n', 'PPARG\\n', 'OR5H6\\n', 'STIM1\\n', 'FCGR3B\\n', 'CCR8\\n', 'CALCR\\n', 'ZKSCAN7\\n', 'IRS1\\n', 'ZNF426\\n', '956528\\n', 'LRG1\\n', 'NOTCH1\\n', 'H4C2\\n', 'CCNK\\n', 'ATP6V1B2\\n', 'ZNF705A\\n', 'CCR5\\n', 'CTSL\\n', 'ARIH2\\n', 'ZNF324B\\n', 'DEFA1B\\n', 'STXBP2\\n', 'CLEC5A\\n', 'GMNN\\n', 'GNS\\n', 'DDX47\\n', 'PCLAF\\n', 'PRLHR\\n', 'HRAS\\n', 'MNDA\\n', 'MS4A3\\n', 'ZNF589\\n', 'INTS13\\n', 'H3-3B\\n', 'CHTOP\\n', 'GTF2H2\\n', 'ATP11B\\n', 'WASF2\\n', 'PPP2R5B\\n', 'OR51H1\\n', 'UQCRB\\n', 'H2AC12\\n', 'RANGAP1\\n', 'MMP13\\n', 'ETS1\\n', 'ARHGAP29\\n', 'DCN\\n', 'UBE2E1\\n', 'TNC\\n', 'PMVK\\n', 'SGO1\\n', 'ALOX5\\n', 'NFKB1\\n', 'DTX1\\n', 'LRTOMT\\n', 'OR2F1\\n', 'PIGR\\n', 'OR4F29\\n', 'WDR43\\n', 'SLC24A5\\n', 'TACR1\\n', 'E2F3\\n', 'SNCA\\n', 'EIF1AX\\n', 'OR8K1\\n', 'ULBP1\\n', 'OR6Y1\\n', 'NELFB\\n', 'OR51A7\\n', 'FPR2\\n', 'UBAC1\\n', 'KIF19\\n', 'FEM1B\\n', 'TXNL4A\\n', 'RGS18\\n', 'ZWILCH\\n', 'EPGN\\n', 'ZNF432\\n', 'CAP1\\n', 'HES1\\n', 'PSMB3\\n', 'APC\\n', 'RNF114\\n', 'SERPINB12\\n', 'FBXO22\\n', 'AVPR1B\\n', 'SOCS1\\n', 'DHX15\\n', 'RPTN\\n', 'RAB37\\n', 'ZNF667\\n', 'ZNF551\\n', 'E2F2\\n', 'ZNF468\\n', 'NDUFB3\\n', 'NXT1\\n', 'CCNB1\\n', 'SEC61G\\n', 'ADRA2C\\n', 'H2BC17\\n', 'ATR\\n', 'MAPK13\\n', 'RHNO1\\n', 'COMMD3\\n', 'ZNF461\\n', 'BBOX1\\n', 'SLC18A3\\n', 'NCF4\\n', 'PKP1\\n', 'KLC1\\n', 'HAO1\\n', 'PRDM9\\n', 'SLC22A6\\n', 'GGH\\n', 'CNOT11\\n', 'OR12D2\\n', 'STOM\\n', 'GTPBP2\\n', 'PTX3\\n', 'ZNF320\\n', 'KIF1C\\n', 'ZNF790\\n', 'OR5T1\\n', 'TBC1D1\\n', 'OBSCN\\n', 'USP17L21\\n', 'PHC2\\n', 'GNAT2\\n', 'IRAG2\\n', 'H4C15\\n', 'RAB1A\\n', 'KPNB1\\n', 'ACOX1\\n', 'TRIM71\\n', 'IL2RG\\n', 'ARMC8\\n', 'OR4S2\\n', 'SHMT1\\n', 'RPS25\\n', 'RNF144B\\n', 'AMBN\\n', 'APOBEC3G\\n', 'HAUS4\\n', 'UTS2\\n', 'ZNF621\\n', 'OR6C76\\n', 'PKP3\\n', 'ZNF479\\n', 'CAPNS1\\n', 'RAB41\\n', 'KRT6A\\n', 'HEY1\\n', 'JUND\\n', 'IL1A\\n', 'MVB12B\\n', 'C3AR1\\n', 'ZNF354B\\n', 'RTP5\\n', 'UBE2K\\n', 'CAPZA3\\n', '79296\\n', 'RBSN\\n', 'KRT73\\n', 'OR6N2\\n', 'ZNF350\\n', 'ZNF30\\n', 'PREB\\n', 'USP10\\n', 'MDM2\\n', 'SCG3\\n', 'ARHGEF3\\n', 'H2AC18\\n', 'TAS2R30\\n', 'ATP6AP2\\n', 'PSMB9\\n', 'FGF18\\n', 'FBXL7\\n', 'SAP130\\n', 'RBBP5\\n', 'NCBP2\\n', 'GRM8\\n', 'EPHA2\\n', 'EIF2S1\\n', 'PPP2R3B\\n', 'BIN2\\n', 'OR6V1\\n', 'FBXL14\\n', 'GFI1\\n', 'CLEC2B\\n', 'BET1L\\n', 'REEP5\\n', 'TLR2\\n', 'RPS2\\n', 'MAFF\\n', 'ARHGAP31\\n', 'CWC22\\n', 'OR5H1\\n', 'ANO8\\n', 'CUL3\\n', 'CCR3\\n', 'RAB3IP\\n', 'SLC8A1\\n', 'TAS2R9\\n', 'ERP44\\n', 'SH3GL2\\n', 'INS\\n', 'PFN1\\n', 'B4GALT1\\n', 'ZNF10\\n', 'PADI2\\n', 'PER1\\n', 'H2AZ2\\n', 'PRL\\n', 'BAP1\\n', 'GZMH\\n', 'OR52J3\\n', 'RAC3\\n', 'ZNF143\\n', 'PSMC5\\n', 'POLR2E\\n', 'ELOC\\n', 'PTH\\n', 'COPG1\\n', 'TUBB4B\\n', 'KDM6A\\n', 'ACTR8\\n', 'G6PD\\n', 'ZNF716\\n', 'ATP6V1G1\\n', 'PNLIP\\n', 'ZNF354C\\n', 'BRIP1\\n', 'SYT2\\n', 'GAK\\n', 'SOAT2\\n', 'MOSPD2\\n', 'CACNA1D\\n', 'LAMTOR2\\n', 'PLXNB1\\n', 'ZNF217\\n', 'MBD1\\n', 'SERPINC1\\n', 'RLN2\\n', 'VAMP7\\n', 'GP1BA\\n', 'CAMP\\n', 'AKT1\\n', 'TOP3A\\n', 'OR5B12\\n', 'ZNF665\\n', 'BNIP1\\n', 'OR10J5\\n', 'MAPK11\\n', 'S100A12\\n', 'THRAP3\\n', 'OR4D10\\n', 'EPS15L1\\n', 'ABL1\\n', 'S1PR5\\n', 'PTK6\\n', 'HPD\\n', 'CEP76\\n', 'OR2B6\\n', 'KIR3DL1\\n', 'LMAN1L\\n', 'OR5C1\\n', 'CDH1\\n', 'BECN1\\n', 'SERPING1\\n', 'GNAT1\\n', 'RPLP0\\n', 'AP1S1\\n', 'ZNF676\\n', 'PRLR\\n', 'ELP4\\n', 'BCKDHA\\n', 'ALDH7A1\\n', 'DTX3L\\n', 'ERCC8\\n', 'ULBP3\\n', 'UBE2B\\n', 'SELP\\n', 'LDLRAP1\\n', 'SULT1A3\\n', 'GRM4\\n', 'OR2T12\\n', 'GGA3\\n', 'CDKN2D\\n', 'CDKN2C\\n', 'COPS8\\n', 'SREBF1\\n', 'L1CAM\\n', 'APP\\n', 'TRIM48\\n', 'CD9\\n', 'SNRNP27\\n', 'LAMTOR1\\n', 'HEY2\\n', 'RPL32\\n', 'OR5K2\\n', 'BMI1\\n', 'ANO5\\n', 'GAB2\\n', 'SKP2\\n', 'OR2T34\\n', 'ATP6V1A\\n', 'MYB\\n', 'NOP56\\n', 'DEFA4\\n', 'SNAPC2\\n', 'TXNDC5\\n', 'SCARB2\\n', 'PRDX4\\n', 'KRTAP4-2\\n', 'CCL27\\n', 'RGS19\\n', 'ADGRG3\\n', 'GPR150\\n', 'RRH\\n', 'SLC2A3\\n', 'OR51A2\\n', 'MCPH1\\n', 'GPR39\\n', 'ADORA3\\n', 'OR6C65\\n', 'WNT6\\n', 'NCK2\\n', 'MCHR1\\n', 'SRRM1\\n', 'SSTR2\\n', 'POLR2D\\n', 'DCAF6\\n', 'THBD\\n', 'VAV3\\n', 'OR4M2\\n', 'ACP3\\n', 'DNAJC3\\n', 'HRH1\\n', 'ABR\\n', 'ZNF99\\n', 'CSTF2\\n', 'USP17L27\\n', 'OR4K17\\n', 'SFTPC\\n', 'COPS3\\n', 'IRF3\\n', 'ZNF548\\n', 'KIF21B\\n', 'STC2\\n', 'SEC13\\n', 'OR2A25\\n', 'UBE2Z\\n', 'COPS7A\\n', 'OR4C3\\n', 'PSMB1\\n', 'GP9\\n', 'NPBWR1\\n', 'H3C6\\n', 'H2AC7\\n', 'FOXK1\\n', 'KRTAP9-2\\n', 'IL1RL1\\n', 'TNFRSF10A\\n', 'CRK\\n', 'CCL5\\n', 'ALCAM\\n', 'PTGIS\\n', 'MINK1\\n', 'LEP\\n', 'VTN\\n', 'SFRP2\\n', 'SPTSSA\\n', 'SRSF1\\n', 'OR8B2\\n', 'GRB2\\n', 'IGF2BP1\\n', 'OR2L5\\n', 'RPS24\\n', 'CABLES1\\n', 'IQGAP2\\n', 'RNF217\\n', 'S1PR1\\n', 'ARHGEF33\\n', 'F2RL3\\n', 'OR4X1\\n', 'CCT2\\n', 'OR5D14\\n', 'USP17L29\\n', 'KIF18A\\n', 'MCM3\\n', 'VDAC3\\n', 'CBX2\\n', 'SOX2\\n', 'MAML3\\n', 'TAS2R43\\n', 'RNF220\\n', 'AGFG1\\n', 'ZNF706\\n', 'BCKDHB\\n', 'OR52I1\\n', 'DZIP3\\n', 'CXCL9\\n', 'ZNF785\\n', 'OASL\\n', 'CXCL8\\n', 'FBXW11\\n', 'ENDOD1\\n', 'ARHGEF10\\n', 'C3\\n', 'TLL2\\n', 'OR4K5\\n', 'ZNF641\\n', 'ZNF519\\n', 'DSP\\n', 'SPTB\\n', 'SOCS3\\n', 'OR4S1\\n', 'TDG\\n', 'AP2A2\\n', 'DOK4\\n', 'CAV1\\n', 'STON2\\n', 'ALS2\\n', 'NMB\\n', 'AHCTF1\\n', 'OR2T6\\n', 'OR52H1\\n', 'TRAPPC4\\n', 'OR52N5\\n', 'CARNS1\\n', 'OR5M1\\n', 'RNASE1\\n', 'CCR9\\n', 'MUL1\\n', 'CUL9\\n', 'RAB24\\n', 'YES1\\n', 'TAS2R39\\n', 'RGS4\\n', 'RNF128\\n', 'ARF1\\n', 'ADH7\\n', 'OR1L3\\n', 'ZNF221\\n', 'TIMP3\\n', 'PLA2G4C\\n', 'SDC2\\n', 'NPY1R\\n', 'USP17L28\\n', 'RASGRP1\\n', 'STAT1\\n', 'LHX2\\n', 'FABP7\\n', 'RPL14\\n', 'ZNF692\\n', 'CSF2RB\\n', 'OR10T2\\n', 'CNIH1\\n', 'ZNF772\\n', 'GUCY2D\\n', 'WNT5A\\n', 'MOV10\\n', 'VGF\\n', 'EXOSC8\\n', 'KRT16\\n', 'SMC1A\\n', 'TRAPPC1\\n', 'CXCR2\\n', 'RSPO2\\n', 'OR5J2\\n', 'EIF4G3\\n', 'FABP1\\n', 'CUL5\\n', 'ERBB4\\n', 'TRAIP\\n', 'EDEM1\\n', 'SNRNP48\\n', 'CDK5R1\\n', 'MED7\\n', 'WAS\\n', 'PLBD1\\n', 'ZNF33A\\n', 'HLA-DRB5\\n', 'CD3E\\n', 'CCR2\\n', 'OR10A5\\n', 'SRC\\n', 'AGRN\\n', 'GABARAPL1\\n', 'RBMX\\n', 'EPS15\\n', 'FSCN1\\n', 'XPC\\n', 'TCF3\\n', 'TMEM115\\n', 'KRTAP19-7\\n', 'AHSG\\n', 'SMARCD3\\n', 'OR5K4\\n', 'SNW1\\n', 'OR10AD1\\n', 'CYLD\\n', 'SNRPF\\n', 'FBXL16\\n', 'PSME1\\n', 'OR8J1\\n', 'CCNA1\\n', 'AGK\\n', 'ZNF649\\n', 'DLGAP4\\n', 'CXCR3\\n', 'CASP8\\n', 'FBXW4\\n', 'KDM6B\\n', 'OR14A16\\n', 'TLR6\\n', 'FBXW2\\n', 'FLRT2\\n', 'EGLN3\\n', 'FGF23\\n', 'OR9Q1\\n', 'COMMD4\\n', 'SDC1\\n', 'OR51L1\\n', 'GRM3\\n', 'AGGF1\\n', 'KCNB1\\n', 'CD4\\n', 'SLC7A9\\n', 'CUL1\\n', 'ADCYAP1\\n', 'ZNF471\\n', 'EIF3I\\n', 'MAFG\\n', 'DBT\\n', 'CRNKL1\\n', 'PROK1\\n', 'AJUBA\\n', 'UTP6\\n', 'KLC4\\n', 'FBXW12\\n', 'KRTAP13-1\\n', 'ZNF696\\n', 'GPSM1\\n', 'CD19\\n', 'BLOC1S1\\n', 'TBC1D10C\\n', 'ADRM1\\n', 'XRCC2\\n', 'NOL12\\n', 'ALDOC\\n', 'RALGAPB\\n', 'ZNF136\\n', 'PSIP1\\n', 'KRTAP10-7\\n', 'TCF7L2\\n', 'EFNB2\\n', 'PADI1\\n', 'ASB8\\n', 'NAPG\\n', 'TRIM63\\n', 'PPP2R5C\\n', 'F2\\n', 'ARID2\\n', 'AGTR1\\n', 'CNOT4\\n', 'OR2AP1\\n', 'PEMT\\n', 'BMP1\\n', 'AKAP10\\n', 'BUD23\\n', '956533\\n', 'CCNT2\\n', 'SLC22A5\\n', 'ADAM10\\n', 'FGA\\n', 'INTS5\\n', 'OR51B5\\n', 'ERCC4\\n', 'ABAT\\n', 'RPS5\\n', 'ZNF189\\n', 'STAT5A\\n', 'TLE3\\n', 'EPHA7\\n', 'RAB5C\\n', 'E2F5\\n', 'CD74\\n', 'RHOD\\n', 'ROCK1\\n', 'SF3B6\\n', 'OR10Z1\\n', 'DBNL\\n', 'LDHAL6B\\n', 'HOXA1\\n', 'OR13C4\\n', 'KNTC1\\n', 'SDCBP\\n', 'ZNF658\\n', 'ZNF559\\n', 'OR10A4\\n', 'COL5A3\\n', 'RARRES2\\n', 'RPL3\\n', 'SSR1\\n', 'OR1J2\\n', 'SOCS6\\n', 'RNF130\\n', 'POLR1H\\n', 'EFEMP2\\n', 'CEP192\\n', 'SLC6A13\\n', 'P4HB\\n', 'CPT1B\\n', 'ARHGAP20\\n', 'OR2C3\\n', 'FGF10\\n', 'H4C6\\n', 'IFITM1\\n', 'SF1\\n', 'FOXG1\\n', 'HECTD3\\n', 'OR2B11\\n', 'COX6A1\\n', 'PDE7B\\n', 'CRY1\\n', 'CENPX\\n', 'LSS\\n', 'RFC1\\n', 'OR1C1\\n', 'CBL\\n', 'THOP1\\n', 'HLA-DPA1\\n', 'SNAP91\\n', 'FBXO11\\n', 'SYT9\\n', 'TAF3\\n', 'GTF2H1\\n', 'H2AC20\\n', 'FCHO1\\n', 'LDHC\\n', 'CAB39L\\n', 'CYP7A1\\n', 'ZNF573\\n', 'HAUS6\\n', 'PAK3\\n', 'HIPK1\\n', 'U2AF2\\n', 'DGKD\\n', 'PCGF2\\n', 'SCUBE3\\n', 'KRT85\\n', 'TTR\\n', 'SSR2\\n', 'CDC14B\\n', 'NEO1\\n', 'BIRC2\\n', 'PTGER2\\n', 'IRF7\\n', 'SOD1\\n', 'FERMT3\\n', 'ZNF746\\n', 'DIS3\\n', 'AP1G1\\n', 'GHRH\\n', 'FXYD3\\n', 'TBL3\\n', 'FLG2\\n', 'MAPK3\\n', 'DR1\\n', 'CANT1\\n', 'RPS15A\\n', 'CD68\\n', 'XPO5\\n', 'CFHR3\\n', 'CDC73\\n', 'ELOA2\\n', 'HMOX1\\n', 'KRTAP9-6\\n', 'DCTN4\\n', 'CSF3\\n', 'KIF24\\n', 'CALM1\\n', 'TRIM5\\n', 'RAP2B\\n', 'LCE3E\\n', 'SHANK2\\n', 'ARHGEF15\\n', 'UPF2\\n', 'SSNA1\\n', 'GABBR2\\n', 'EIF4G1\\n', 'GNA13\\n', 'CTSB\\n', 'EHMT2\\n', 'CLEC12A\\n', 'FGFR4\\n', 'HSPG2\\n', 'BDP1\\n', 'SNAP29\\n', 'BRMS1\\n', 'HTR1A\\n', 'PPARGC1B\\n', 'TNFAIP6\\n', 'NR1H3\\n', 'SUZ12\\n', 'SMAD1\\n', 'MTHFD2\\n', 'IL4I1\\n', 'CD207\\n', 'IQCB1\\n', 'RGL1\\n', 'BRF1\\n', 'LAMTOR5\\n', 'TAS2R13\\n', 'SPCS3\\n', 'SUPT4H1\\n', 'FGF16\\n', 'STAT3\\n', 'ZNF568\\n', 'RETN\\n', 'CYP1A1\\n', 'OLFM4\\n', 'ZNF25\\n', 'NR1H4\\n', 'AP2A1\\n', 'F13A1\\n', 'KLC3\\n', 'PYGL\\n', 'LAG3\\n', 'OR2C1\\n', 'NEURL1B\\n', 'TRNT1\\n', 'SEC31A\\n', 'DNA2\\n', 'SLC15A4\\n', 'TAS2R60\\n', 'MKRN1\\n', 'RPL4\\n', 'ARF6\\n', 'SPSB2\\n', 'CD3G\\n', 'TLR9\\n', 'KDM4C\\n', 'ZNF528\\n', 'ACTB\\n', 'PYY\\n', 'ASB15\\n', 'UBE2D3\\n', 'ASAH1\\n', 'SCRIB\\n', 'LGALS1\\n', 'AURKB\\n', 'PFDN4\\n', 'NDUFC2\\n', 'PDS5B\\n', 'BST2\\n', 'SRSF5\\n', 'OR2J3\\n', 'ARHGEF1\\n', 'GNA11\\n', 'DEFB133\\n', 'GTF2F2\\n', 'ARPC5\\n', 'MCM7\\n', 'SETD1B\\n', 'TAC1\\n', 'CAPN7\\n', 'PUF60\\n', 'OLR1\\n', 'HSP90AA1\\n', 'ZIM2\\n', 'VIM\\n', 'WRN\\n', 'KMT5C\\n', 'SCAMP1\\n', 'DNAJA4\\n', 'GALC\\n', 'DDX52\\n', 'SKA2\\n', 'SMARCA4\\n', 'U2AF1L5\\n', 'SYNGR1\\n', 'CD226\\n', 'ARNTL\\n', 'PER2\\n', 'MCHR2\\n', 'HLA-DQA2\\n', 'KCNS3\\n', 'TRIM29\\n', 'ZNF792\\n', 'AGO4\\n', 'ZDHHC7\\n', 'ZNF774\\n', 'GNG7\\n', 'OR13A1\\n', 'CCR4\\n', 'RAPGEF2\\n', 'ACTG1\\n', 'USP17L2\\n', 'SUPT16H\\n', 'PSMD10\\n', 'CREG1\\n', 'RXFP1\\n', 'RPL37A\\n', 'DYNC1H1\\n', 'IL12B\\n', 'TCF12\\n', 'KMT2D\\n', 'PSMC3IP\\n', 'DCUN1D3\\n', 'SMYD3\\n', 'UBE2G1\\n', 'OR4D6\\n', 'SARS1\\n', 'DSG3\\n', 'COL3A1\\n', 'VAMP3\\n', 'TAF4B\\n', 'SAA1\\n', 'S100A9\\n', 'ACSL1\\n', 'COL7A1\\n', 'RHOA\\n', 'KLHL11\\n', 'GAN\\n', 'TOP2B\\n', 'RIN1\\n', 'ELP3\\n', 'ZNF564\\n', 'SSU72\\n', 'MFGE8\\n', 'RGS7\\n', 'NEK2\\n', 'ARHGDIA\\n', 'REST\\n', 'KRT33B\\n', 'MED16\\n', 'LRSAM1\\n', 'NDEL1\\n', 'OR7E24\\n', 'CENPM\\n', 'ZNF549\\n', 'RHOT1\\n', 'ATP6V1D\\n', 'IFNA2\\n', 'RPP21\\n', 'TRIM3\\n', 'SPRED1\\n', 'PPP1R12A\\n', 'OR6K2\\n', 'CLOCK\\n', 'ATP6V0A1\\n', 'CCL16\\n', 'ZNF668\\n', 'OR6B1\\n', 'PBX1\\n', 'WNT9A\\n', 'KIF15\\n', 'SLC6A12\\n', 'CCND2\\n', 'TXNRD1\\n', 'ASB7\\n', 'SIGLEC9\\n', 'ZNF750\\n', 'RCOR1\\n', 'YBX1\\n', 'APLP2\\n', 'SSTR3\\n', 'ZNF777\\n', 'ARIH1\\n', 'TAS2R4\\n', 'H2BC1\\n', 'EPC1\\n', 'OR6C6\\n', 'RNF168\\n', 'CEP89\\n', 'CEBPG\\n', 'H4C1\\n', 'ZNF773\\n', 'GABBR1\\n', 'FBXO4\\n', 'ZNF619\\n', 'GALR2\\n', 'NTSR2\\n', 'PPP2R5E\\n', 'SMC1B\\n', 'H3C11\\n', 'NELFA\\n', 'ZNF446\\n', 'PARK7\\n', 'KIF9\\n', 'NRG1\\n', 'POLE\\n', 'H2AX\\n', 'ZNF530\\n', 'TAS2R19\\n', 'CYBB\\n', 'GATA5\\n', 'PNO1\\n', 'LNX1\\n', 'LEFTY2\\n', '884327\\n', 'ZNF26\\n', 'SGF29\\n', 'PRDX6\\n', 'PEX11A\\n', 'TAAR9\\n', 'KIF25\\n', 'CENPA\\n', 'INTS6\\n', 'ZNF485\\n', 'HERC2\\n', 'FGF22\\n', 'XRCC5\\n', 'VAMP2\\n', 'FGF8\\n', 'KBTBD7\\n', 'TAPBP\\n', 'PPFIA1\\n', 'KRT9\\n', 'ASB6\\n', 'H3C10\\n', 'ZNF75A\\n', 'GPR20\\n', 'FCAR\\n', 'LRRTM3\\n', 'HLA-DRB4\\n', 'MAGED1\\n', 'RHOU\\n', 'ZNF735\\n', 'CRHR2\\n', 'SUMO3\\n', 'MYO9A\\n', 'SULT2B1\\n', 'OR10A3\\n', 'CHMP3\\n', 'FGD3\\n', 'CD93\\n', 'H2AC16\\n', 'NFKB2\\n', 'YWHAH\\n', 'NPW\\n', 'KRTAP21-3\\n', 'ZNF425\\n', 'OR4K1\\n', 'OR51Q1\\n', 'MMP3\\n', 'KIF5A\\n', 'QSOX1\\n', 'CSH1\\n', 'OR56B1\\n', 'SLC16A1\\n', 'OR52L1\\n', 'RPL19\\n', 'SNRPG\\n', 'USP5\\n', 'TRIM62\\n', 'OR1L4\\n', 'FZR1\\n', 'FRS2\\n', 'LRP6\\n', 'EXOSC3\\n', 'SEC24D\\n', 'PNP\\n', 'CTSD\\n', 'C6orf120\\n', 'CD55\\n', 'TRIM26\\n', 'RPL34\\n', 'PTPN11\\n', 'PCBP1\\n', 'UNC13D\\n', 'OR1J1\\n', 'ICAM2\\n', 'RAB21\\n', 'CDKN2A\\n', 'SCLT1\\n', 'HACE1\\n', 'RAB3GAP2\\n', 'ARHGAP36\\n', 'PPP2R1B\\n', 'REEP4\\n', 'CSNK2A2\\n', 'TAS2R5\\n', 'HVCN1\\n', 'HERC6\\n', 'RPN2\\n', 'RAB9B\\n', 'ADAM8\\n', 'AGO2\\n', 'SMARCC2\\n', 'H2AW\\n', 'WWP1\\n', 'TWIST1\\n', 'PAK1\\n', 'AGPAT3\\n', 'CDK4\\n', 'CLCNKB\\n', 'HSPA1A\\n', 'GNB3\\n', 'ETFA\\n', 'PWP2\\n', 'SYMPK\\n', 'YEATS4\\n', 'PIAS3\\n', 'PDE4A\\n', 'RAD17\\n', 'SIGLEC8\\n', 'TIMP1\\n', 'SOCS2\\n', 'BAG5\\n', 'OR51V1\\n', 'H2BU1\\n', 'DDX5\\n', 'AGO1\\n', 'TRIM25\\n', 'H4C8\\n', 'GNG5\\n', 'USP19\\n', 'EPX\\n', 'RGS12\\n', 'DDB1\\n', 'OR10C1\\n', 'XRCC1\\n', 'IRF6\\n', 'PIAS1\\n', 'FKBP8\\n', 'EPM2A\\n', 'RPS28\\n', 'CD44\\n', 'ARHGEF40\\n', 'SFI1\\n', 'ANXA2\\n', 'MCM2\\n', 'FBXL4\\n', 'REPS2\\n', 'H3C3\\n', 'CLTC\\n', 'GPR31\\n', 'TMC6\\n', 'KRTAP4-5\\n', 'ACTL6A\\n', 'ARHGAP8\\n', 'SGIP1\\n', 'SP100\\n', 'PTK2B\\n', 'INTU\\n', 'GPR32\\n', 'KCTD6\\n', 'TUBA4A\\n', 'PHF21A\\n', 'ZNF473\\n', 'OR10A6\\n', 'UBE2M\\n', 'GM2A\\n', 'CHIT1\\n', 'NHLRC3\\n', 'RIOK1\\n', 'OR51M1\\n', 'RNF135\\n', 'ITGA11\\n', 'ERCC3\\n', 'PSMA2\\n', 'OR6N1\\n', 'RPS10\\n', 'JUNB\\n', 'HLA-F\\n', 'NCOR1\\n', 'SCAI\\n', 'GNG4\\n', 'FBXL5\\n', 'RNF25\\n', 'CHI3L1\\n', 'SLC6A11\\n', 'SPP2\\n', 'OR4F17\\n', 'TUBA3D\\n', 'NFYA\\n', 'TMSB4X\\n', 'GAA\\n', 'LGMN\\n', 'PCBP2\\n', 'GYPA\\n', 'CD109\\n', 'DCTN6\\n', 'ZNF782\\n', 'ZNF266\\n', 'IFI35\\n', 'RRAGC\\n', 'PSMB4\\n', 'SEL1L\\n', 'SPTBN5\\n', 'ARFGAP2\\n', 'TUBGCP5\\n', 'KRTAP1-5\\n', 'SRSF7\\n', 'WIPI2\\n', 'ZNF681\\n', 'MED25\\n', 'ZNF195\\n', 'ARHGEF4\\n', 'KRTAP1-3\\n', 'LYN\\n', 'RUVBL2\\n', 'WDR45B\\n', 'UBE3D\\n', 'OR2T11\\n', 'HAUS2\\n', 'PRPF8\\n', 'RAP1A\\n', 'UBE2V1\\n', 'RAB27B\\n', 'RAB6A\\n', 'HDAC5\\n', 'PTPRC\\n', 'LUM\\n', 'RPA1\\n', 'DGCR8\\n', 'SRP68\\n', 'WNT11\\n', 'EXOC5\\n', 'FPR3\\n', 'ZNF267\\n', 'ATP13A4\\n', 'LCE2C\\n', 'ASIC1\\n', 'ZNF565\\n', 'ZNF230\\n', 'ALAS1\\n', 'OR10V1\\n', 'INSR\\n', 'OR2L3\\n', 'POLR1A\\n', 'GLMN\\n', 'GNG3\\n', 'ZNF793\\n', 'CD59\\n', 'MED8\\n', 'MAPK4\\n', 'RPS27\\n', 'COG5\\n', 'OR8U9\\n', 'CRCP\\n', 'ZNF257\\n', 'SFRP1\\n', '956536\\n', 'HSPB1\\n', 'POLD1\\n', 'VWF\\n', 'OR1B1\\n', 'ZNF460\\n', 'H2BC11\\n', 'TYROBP\\n', 'KRTAP10-2\\n', 'TRIP12\\n', 'MAP2K6\\n', 'COMMD5\\n', 'MSL2\\n', 'ZNF215\\n', 'ANAPC10\\n', 'ZNF225\\n', 'AP4B1\\n', 'PKNOX1\\n', 'HSP90B1\\n', 'H2AC11\\n', 'CRYM\\n', 'ATP2A1\\n', 'PSMB10\\n', 'CALM2\\n', 'MAP2K1\\n', 'NR6A1\\n', 'BCAT1\\n', '390441\\n', 'RPS3\\n', 'CLU\\n', 'EPHB6\\n', 'MMP1\\n', 'TRAPPC11\\n', 'FOS\\n', 'CLEC4D\\n', 'NET1\\n', 'CTCF\\n', 'DDX21\\n', 'IMPDH1\\n', 'RRP8\\n', 'HTR1E\\n', 'DET1\\n', 'SHC3\\n', 'ITGAE\\n', 'SHC2\\n', 'CXADR\\n', 'PHF5A\\n', 'CASK\\n', 'NR4A3\\n', 'RAB4A\\n', 'FADS1\\n', 'UBE2A\\n', 'ZNF776\\n', 'ANO2\\n', 'RAB35\\n', 'C5\\n', 'JADE1\\n', 'MAT2B\\n', 'H2BC15\\n', 'TFAM\\n', 'KRT34\\n', 'RPL36A\\n', 'OR9Q2\\n', 'RAD51\\n', 'PSMA4\\n', 'HLA-DRB3\\n', 'RPL3L\\n', 'USP2\\n', 'ALAD\\n', 'NRGN\\n', 'USP14\\n', 'IER3\\n', 'ZFP14\\n', 'GRIN3A\\n', 'DHX9\\n', 'CD58\\n', 'DOCK11\\n', 'TMED7-TICAM2\\n', 'SIGLEC5\\n', 'SLC27A2\\n', 'SMC3\\n', 'AP2B1\\n', 'HTR6\\n', 'PCP2\\n', 'LPAR2\\n', 'MC5R\\n', 'SGPP1\\n', 'PABPC1\\n', 'HRH3\\n', 'PRKAA2\\n', 'TRAPPC10\\n', 'LNPEP\\n', 'LPAR4\\n', 'DLG4\\n', 'GOT1\\n', 'PABPN1\\n', 'ZNF627\\n', 'LSM7\\n', 'TNFAIP3\\n', 'EZH2\\n', 'POM121\\n', 'FANCA\\n', 'HOXA2\\n', 'BGN\\n', 'SULT1A2\\n', 'SERPINB1\\n', 'RAB33B\\n', 'VAV2\\n', 'TOP1\\n', 'KLK5\\n', 'ATN1\\n', 'H2BC18\\n', 'ATAT1\\n', 'LAMA4\\n', 'NEDD4L\\n', 'CLEC4C\\n', 'OR52D1\\n', 'TFDP1\\n', 'EPN1\\n', 'UBTF\\n', 'ROCK2\\n', 'H2BC9\\n', 'ARHGAP1\\n', 'TAF1L\\n', 'OR5A2\\n', 'CREBBP\\n', 'NMUR1\\n', 'OR1E2\\n', 'RFC4\\n', 'AGTRAP\\n', 'LONRF1\\n', 'RPS15\\n', 'RPS17\\n', 'MPIG6B\\n', 'NBAS\\n', 'MAFB\\n', 'CDK9\\n', 'CHD1L\\n', 'MIF\\n', 'KRTAP26-1\\n', 'CBX8\\n', 'OR52B6\\n', 'OR1L6\\n', 'PLPP2\\n', 'HEXB\\n', 'FRK\\n', 'PIK3R4\\n', 'ARHGAP22\\n', 'OR11H1\\n', 'DCP2\\n', 'ZNF563\\n', 'OR4C5\\n', 'SLC25A13\\n', 'SPN\\n', 'PDIA6\\n', 'GPSM3\\n', 'OPN5\\n', 'TEX264\\n', 'KRBOX4\\n', 'MT-CO3\\n', 'ZSWIM8\\n', 'ITGB7\\n', 'PSG8\\n', 'ATP9A\\n', 'GCG\\n', 'H4C13\\n', 'SYVN1\\n', 'HLA-DRB1\\n', 'GPR161\\n', 'NHLRC2\\n', 'RLN3\\n', 'ADA2\\n', 'ZFP1\\n', 'DAG1\\n', 'ZNF418\\n', 'POT1\\n', 'SLCO1B3\\n', 'OR52E2\\n', 'OR8D4\\n', 'YKT6\\n', 'PRKCQ\\n', 'HSD3B1\\n', 'BRS3\\n', 'PSMD13\\n', 'DMAP1\\n', 'NUP93\\n', 'ZNF212\\n', 'DNMT3A\\n', 'EPHB4\\n', 'KRT82\\n', 'ANPEP\\n', 'LEO1\\n', 'IDH1\\n', 'RPS6KA2\\n', 'SYTL4\\n', 'ATG9B\\n', 'OR1E1\\n', 'ZBTB16\\n', 'ZKSCAN8\\n', 'BCAN\\n', 'BEST3\\n', 'MCF2L\\n', 'OR2G2\\n', 'GTF2B\\n', 'SUMO1\\n', 'TRH\\n', 'ACOT12\\n', 'CEP57\\n', 'CALCA\\n', 'KDM2B\\n', 'EXOSC2\\n', 'STAMBP\\n', 'RTP2\\n', 'UBE2E3\\n', 'CLIP1\\n', 'SEC24C\\n', 'RDH8\\n', 'PSEN1\\n', 'ADH1C\\n', 'KIF13B\\n', 'EXOSC5\\n', 'ZNF274\\n', 'POLR1D\\n', 'CTSS\\n', 'CXCL12\\n', 'KRT8\\n', 'LAMTOR3\\n', 'ZNF708\\n', 'GNRH1\\n', 'RTP1\\n', 'GREB1\\n', 'PPP1CC\\n', 'ZNF430\\n', 'HNRNPF\\n', 'SENP3\\n', 'PIK3C2A\\n', 'INTS2\\n', 'VAPA\\n', 'RAI1\\n', 'CYP17A1\\n', 'OR6S1\\n', 'RPS19\\n', 'COMMD9\\n', 'PSMB5\\n', 'GHSR\\n', 'DCAF7\\n', 'CSF2\\n', 'PDE1B\\n', 'BRD8\\n', 'ZNF331\\n', 'STING1\\n', 'ARFGAP3\\n', 'SPRR2A\\n', 'RFC2\\n', 'RNF185\\n', 'CHMP2B\\n', 'H2BC3\\n', 'MYO5A\\n', 'CDK11B\\n', 'COL12A1\\n', 'UBR2\\n', 'OR2T35\\n', 'FGFR3\\n', 'RHOV\\n', 'HCRT\\n', 'ZNF599\\n', 'NPDC1\\n', 'CDKN2B\\n', 'POMC\\n', 'LCE3C\\n', 'LCE1B\\n', '341568\\n', 'OR3A3\\n', 'CARD11\\n', 'INCENP\\n', 'VEGFA\\n', 'USP25\\n', 'HLA-DOB\\n', 'OR13J1\\n', 'INTS10\\n', 'ATP1B1\\n', 'DHX38\\n', 'GFRA3\\n', 'LAMTOR4\\n', 'SNRPA\\n', 'OPN1MW2\\n', 'OR14I1\\n', 'OR5D13\\n', 'TRIM32\\n', 'OR6C70\\n', 'TRAP1\\n', 'OR4D1\\n', 'COTL1\\n', 'OR2M3\\n', 'GHDC\\n', 'SGK1\\n', 'RIPK2\\n', 'GRIN2A\\n', 'HSPA6\\n', 'ERLEC1\\n', 'SFN\\n', 'CENPC\\n', 'KRT33A\\n', 'ARHGEF9\\n', 'ZNF224\\n', 'ZNF682\\n', 'MAOA\\n', 'OR14J1\\n', 'LPAR1\\n', 'GSTP1\\n', 'MS4A2\\n', 'ZNF223\\n', 'CASP2\\n', 'TAF6L\\n', 'OR5D18\\n', 'TBL1X\\n', 'TNRC6C\\n', 'BRCA1\\n', 'TAF12\\n', 'ARTN\\n', 'ASB5\\n', 'PHF8\\n', 'MED31\\n', 'DLST\\n', 'ZNF705D\\n', 'POLK\\n', 'IL23A\\n', 'TEX10\\n', 'KRTAP5-5\\n', 'GRIN2D\\n', 'PSMD6\\n', 'ZNF720\\n', 'SKP1\\n', 'OR5H14\\n', 'SPRED2\\n', 'ATP8A2\\n', 'GNAO1\\n', 'HERC3\\n', 'HBB\\n', 'UBE2L3\\n', 'H2AC15\\n', 'TBC1D16\\n', 'CCL21\\n', 'RNF7\\n', 'ZNF227\\n', 'RAD51AP1\\n', 'HIBADH\\n', 'ATP7A\\n', 'CEP164\\n', 'SF3B3\\n', 'UTP14A\\n', 'ATP2A3\\n', 'ALDH3A1\\n', 'ZNF701\\n', 'SERPINB3\\n', 'GAPDHS\\n', 'ANXA1\\n', 'FFAR2\\n', 'FEM1A\\n', 'ITGAX\\n', 'ASB10\\n', 'TTN\\n', 'COL16A1\\n', 'LY6G6F\\n', 'PPIL6\\n', 'POLR2H\\n', 'POLR2A\\n', 'ZNF71\\n', 'OR5F1\\n', 'DAB2\\n', 'KLF4\\n', 'CHEK1\\n', 'ELP1\\n', 'PARP1\\n', 'TNFSF12\\n', 'ALYREF\\n', 'COPG2\\n', 'HGSNAT\\n', 'PPP3R1\\n', 'RPL23A\\n', 'PPP1R12B\\n', 'CASR\\n', 'CD300A\\n', 'B4GALT7\\n', 'LAMC2\\n', 'CFP\\n', 'RBBP8\\n', 'NRTN\\n', 'POLR3GL\\n', 'GOLGA2\\n', 'P2RY2\\n', 'PDCD11\\n', 'USP12\\n', 'HIF1A\\n', 'VCL\\n', 'PKM\\n', 'APAF1\\n', 'P2RY13\\n', 'KIF2C\\n', 'TUBB4A\\n', 'SNRPN\\n', 'LHB\\n', 'EIF3C\\n', 'KAT14\\n', 'P2RY10\\n', 'MED23\\n', 'GPS1\\n', 'ARPC1A\\n', 'GRM5\\n', 'ZNF493\\n', 'GJD4\\n', 'PSMF1\\n', 'AMY2B\\n', 'F9\\n', 'COL15A1\\n', 'PPARA\\n', 'MPRIP\\n', 'ZNF211\\n', 'NUMB\\n', 'ZNF41\\n', 'CPSF1\\n', 'MLLT1\\n', 'ARF3\\n', 'EVL\\n', 'OR52I2\\n', 'CHERP\\n', 'RPL12\\n', 'SURF4\\n', 'HNRNPH2\\n', 'USP34\\n', 'RHOF\\n', 'PTRH2\\n', 'USP30\\n', 'SETD2\\n', 'IMP3\\n', 'FUCA1\\n', 'SPINK5\\n', 'EREG\\n', 'PRDX2\\n', 'NDC80\\n', 'CFD\\n', 'HIVEP3\\n', 'ABCB9\\n', 'EBNA1BP2\\n', 'LIN37\\n', 'ALMS1\\n', 'VEGFD\\n', 'MYL3\\n', 'NPY2R\\n', 'ATXN7\\n', 'TAB3\\n', 'CCR6\\n', 'CCL23\\n', 'HMG20B\\n', 'ARPC2\\n', 'SPHK1\\n', 'IST1\\n', 'USP8\\n', 'TAS2R40\\n', 'TMPRSS6\\n', 'MYLIP\\n', 'PSMD9\\n', 'GLE1\\n', 'DYSF\\n', 'BCL10\\n', 'HSPA5\\n', 'ZNF213\\n', 'TGFA\\n', 'ABCB5\\n', 'ZNF155\\n', 'BRI3\\n', 'KRT3\\n', 'TCTN1\\n', 'RAB5B\\n', 'GPR143\\n', 'SETD1A\\n', 'TAT\\n', 'KLHDC3\\n', 'PLRG1\\n', 'AKT3\\n', 'COMP\\n', 'KRTAP2-1\\n', 'POLR3F\\n', 'LAMA3\\n', 'MARK3\\n', 'OR5M9\\n', 'ALOX15\\n', 'CTNNB1\\n', 'ANO10\\n', 'MAMLD1\\n', 'FBXW5\\n', 'F11R\\n', 'ANAPC15\\n', 'OR8B4\\n', 'EEF1AKMT4-ECE2\\n', 'CDC42\\n', 'GPR18\\n', 'GATA2\\n', 'PRKAR2B\\n', 'TOM1\\n', 'TAF7L\\n', 'ABI1\\n', 'MAP3K1\\n', 'ZNF546\\n', 'COLGALT2\\n', 'KRTAP10-9\\n', 'ZNF304\\n', 'HAUS3\\n', 'OR4N2\\n', 'PHC3\\n', 'ITK\\n', 'ASB18\\n', '100506888\\n', 'ILF2\\n', 'DYNLL1\\n', 'GAD1\\n', 'DSC2\\n', 'KRT7\\n', 'HDAC11\\n', 'PSMA8\\n', 'CCDC8\\n', 'KBTBD8\\n', 'SMG9\\n', 'ASB16\\n', 'ZCRB1\\n', 'HMOX2\\n', 'SATB2\\n', 'FGF9\\n', 'BPIFB2\\n', 'DCAF16\\n', 'KIF4A\\n', 'PSMB11\\n', 'CD63\\n', 'CPNE3\\n', 'PPY\\n', 'ARHGAP11B\\n', 'SLC9C2\\n', 'VDAC1\\n', 'NRG2\\n', 'MLYCD\\n', 'OR4F4\\n', 'KLK2\\n', 'KLRD1\\n', 'WEE1\\n', 'HEBP1\\n', 'C1orf35\\n', 'POLR3K\\n', 'RPL27A\\n', 'SLU7\\n', 'TBX5\\n', 'ZNF875\\n', 'FFAR4\\n', 'OR4C6\\n', 'OR4D2\\n', 'ADH1A\\n', 'CLEC7A\\n', 'PRKCG\\n', 'NXF2B\\n', 'FZD5\\n', 'CXCL6\\n', 'KRTAP10-1\\n', 'USP1\\n', 'OPRL1\\n', 'FBN3\\n', 'CSTF1\\n', 'TFF3\\n', 'UTP25\\n', 'ZNF587\\n', 'NCKAP1\\n', 'KISS1R\\n', 'BSG\\n', 'ARHGAP6\\n', 'C1D\\n', 'ELMO2\\n', 'SLAMF7\\n', 'PPP1R13B\\n', 'TRAF3\\n', 'DCAF13\\n', 'COG8\\n', 'NAE1\\n', 'AMFR\\n', 'PPIL4\\n', 'CUL4A\\n', 'NECAP2\\n', 'RAB13\\n', 'SPCS2\\n', 'PELI3\\n', 'NUP37\\n', 'UBE3C\\n', 'ANAPC1\\n', 'SRSF10\\n', 'CTH\\n', 'KRT74\\n', 'POU2F2\\n', 'TRIM41\\n', 'LSM5\\n', 'GNG13\\n', 'ANKRD1\\n', 'ITGA5\\n', 'KSR1\\n', 'STARD8\\n', 'PCNA\\n', 'ZNF691\\n', '813949\\n', 'RGS6\\n', 'USP13\\n', 'TRIM36\\n', 'RPL31\\n', 'COL5A2\\n', 'ELP6\\n', 'CXCR6\\n', 'ADCY6\\n', 'PLAU\\n', '956529\\n', 'CCNC\\n', 'ZNF300\\n', 'SMAD3\\n', 'OR5A1\\n', 'RBM8A\\n', 'FDPS\\n', 'PSMB7\\n', 'HNRNPA3\\n', 'PLK1\\n', 'ZNF771\\n', 'BTRC\\n', 'TALDO1\\n', 'ZNF584\\n', 'UBE2L6\\n', 'COL4A6\\n', 'CAMK2G\\n', 'ATP2A2\\n', 'CACNA1H\\n', 'FCN1\\n', 'PDGFRB\\n', 'COL23A1\\n', 'MLN\\n', 'FBL\\n', 'ITGB2\\n', 'ORC5\\n', 'HRG\\n', 'PDGFB\\n', 'AGO3\\n', 'BARD1\\n', 'GNAZ\\n', 'ESRRA\\n', 'OR14C36\\n', 'STAG3\\n', 'ADCY7\\n', 'CORT\\n', 'GPI\\n', 'DCAF11\\n', 'NIP7\\n', 'IGFBP1\\n', 'OR6M1\\n', 'FGF17\\n', 'INTS4\\n', 'ZNF597\\n', 'MAF1\\n', 'OR2A7\\n', 'HRH4\\n', 'PPIE\\n', 'KLB\\n', 'RRP36\\n', 'TAF5\\n', 'USP42\\n', 'LIN9\\n', 'MED26\\n', 'DNAJB6\\n', 'COMMD1\\n', 'DLL4\\n', 'ZNF12\\n', 'AQR\\n', 'SLC6A1\\n', 'QRFP\\n', 'ZNF285\\n', 'RNF103-CHMP3\\n', 'PRKAR1B\\n', 'OR51T1\\n', 'EIF4A1\\n', 'VPREB3\\n', 'NUP210\\n', 'RASAL3\\n', 'MLH3\\n', 'ST6GALNAC4\\n', 'GPR37L1\\n', 'NCKAP1L\\n', 'ATF2\\n', 'UBE2Q1\\n', 'NUP43\\n', 'CENPE\\n', 'EME1\\n', 'KLHL41\\n', 'MED13\\n', 'FN1\\n', 'DERA\\n', 'LAMC1\\n', 'SPSB1\\n', 'ZNF334\\n', 'GLI1\\n', 'H2AC4\\n', 'COL6A5\\n', 'OR6B3\\n', 'ADCY5\\n', 'TUBA3C\\n', 'NUP107\\n', 'KIT\\n', 'ZNF74\\n', 'TBL1XR1\\n', 'TGOLN2\\n', 'PLEKHG2\\n', 'ZFYVE9\\n', 'HLA-G\\n', 'ZNF433\\n', 'OR8B3\\n', 'POLR3B\\n', 'LDLR\\n', 'NUP42\\n', 'AOC3\\n', 'POU2F1\\n', 'TUBB\\n', 'OFD1\\n', 'ARL8A\\n', 'CASP14\\n', 'FLNB\\n', 'FCER2\\n', 'OR51E2\\n', 'CRTC3\\n', 'INTS9\\n', 'SPSB3\\n', 'BABAM1\\n', 'CLEC10A\\n', 'H3C12\\n', 'RDX\\n', 'KRTAP10-12\\n', 'USP17L17\\n', 'RORA\\n', 'OR2A5\\n', 'SH2B1\\n', 'OR4C13\\n', 'HTR2A\\n', 'RMI1\\n', 'OS9\\n', 'PSMD7\\n', 'ADRB2\\n', 'OSCAR\\n', 'RUNX2\\n', 'ADRA1B\\n', 'H2BC12\\n', 'ZNF662\\n', 'ZNF92\\n', 'IQGAP1\\n', 'RPS18\\n', 'COL4A1\\n', 'USP17L8\\n', 'CENPK\\n', 'WDR3\\n', 'ACTR2\\n', 'CEACAM1\\n', 'CUL2\\n', 'FCGR1A\\n', 'HSPH1\\n', 'CD101\\n', 'KCNAB1\\n', 'ELANE\\n', 'NAPRT\\n', 'PPP3CA\\n', 'ADCY9\\n', 'ZNF454\\n', 'APOA5\\n', 'OR11H4\\n', 'CXXC5\\n', 'CENPU\\n', 'KIF21A\\n', 'AAAS\\n', 'EVA1A\\n', 'GRM1\\n', 'ELOA\\n', 'GNGT2\\n', 'KRT23\\n', 'GCK\\n', 'THEM4\\n', 'ZNF839\\n', 'CAPZB\\n', 'FBXL3\\n', 'TRIM69\\n', 'CDC37\\n', 'OCRL\\n', 'FZD4\\n', 'TAS2R50\\n', 'DOCK7\\n', 'DNM1\\n', 'TAF10\\n', 'OR8I2\\n', 'TCF7\\n', 'ZNF577\\n', 'STAT5B\\n', 'TMEM179B\\n', 'OR51B2\\n', 'OR5L1\\n', 'CHST15\\n', 'LDHAL6A\\n', 'ZNF234\\n', 'ZNF416\\n', 'UBC\\n', 'TULP4\\n', 'NTN4\\n', 'ARSG\\n', 'RB1\\n', 'DPY30\\n', 'PTBP1\\n', 'ZNF555\\n', 'UBE2D1\\n', 'SP7\\n', 'ZNF324\\n', 'OR2W5P\\n', 'SCMH1\\n', 'ZNRF2\\n', 'ATP6V1B1\\n', 'ZNF775\\n', 'STIP1\\n', 'RPS4X\\n', 'DIAPH2\\n', 'OR2T29\\n', 'AP1M2\\n', 'COG7\\n', 'GRPR\\n', 'TGFB2\\n', 'PEDS1-UBE2V1\\n', 'RBBP4\\n', 'MAPKAPK5\\n', 'TIMELESS\\n', 'ARPC4\\n', 'BIRC5\\n', 'GPR68\\n', 'ICAM4\\n', 'CBFB\\n', 'COP1\\n', 'CD244\\n', 'ARHGAP44\\n', 'SRRT\\n', 'MBD6\\n', 'OR2AE1\\n', 'COL6A3\\n', 'GRN\\n', 'EIF3B\\n', 'DOCK1\\n', 'H4C11\\n', 'RPS14\\n', 'MED4\\n', 'UBA5\\n', 'OR2K2\\n', 'OR10AG1\\n', 'GGA1\\n', 'LIG3\\n', 'DYNC1LI2\\n', 'PSMD14\\n', 'OR4C15\\n', 'OR4C11\\n', 'ATRIP\\n', 'SRP72\\n', 'OR9A4\\n', 'TAF4\\n', 'ZNF705G\\n', 'GLB1\\n', 'NCAN\\n', 'IL2RA\\n', 'IFIH1\\n', 'ZNF268\\n', 'OR7G3\\n', 'SCNN1D\\n', 'RNASE3\\n', 'TMED3\\n', 'GPR37\\n', 'GRIN2C\\n', 'FTL\\n', 'SEC24A\\n', 'FBN1\\n', 'RAB14\\n', 'HSD3B2\\n', 'TRIB3\\n', 'WASF1\\n', 'SRP14\\n', 'CHST13\\n', 'HP\\n', 'MTMR3\\n', 'NGF\\n', 'PPIL1\\n', 'ZNF727\\n', 'TXN2\\n', 'SMURF1\\n', 'RNF14\\n', 'MMP8\\n', 'RPP14\\n', 'LIMS1\\n', 'OR4N5\\n', 'OR11H6\\n', 'MED10\\n', 'FCGR2A\\n', 'SFTPD\\n', 'RAF1\\n', 'P2RY12\\n', 'NABP2\\n', 'MPHOSPH10\\n', 'PROKR1\\n', 'ZNF664\\n', 'RNF152\\n', 'TAF13\\n', 'TTF1\\n', 'CAPN1\\n', 'DLD\\n', 'ARHGEF16\\n', 'RPL22\\n', 'MAPK14\\n', 'PRNP\\n', 'PRG3\\n', 'NDUFS4\\n', 'NOB1\\n', 'EGF\\n', 'EYA1\\n', 'HIF3A\\n', 'OPRM1\\n', 'PRKAG2\\n', 'ZNF605\\n', 'ABRAXAS1\\n', 'GOLM1\\n', 'ASB4\\n', 'ADRB1\\n', 'ZNF561\\n', 'ZNF586\\n', 'DTL\\n', 'CALR\\n', 'ACADM\\n', 'PRKAG3\\n', 'IL5RA\\n', 'KRT36\\n', 'FPR1\\n', 'ORC1\\n', 'IGFBP4\\n', 'SH3GL3\\n', 'HMGA1\\n', 'CENPS-CORT\\n', 'ORC2\\n', 'ZNF214\\n', 'OR1L1\\n', 'SBF2\\n', 'H2AJ\\n', 'UGCG\\n', 'RPP38\\n', 'IL2RB\\n', 'UBA6\\n', 'CCT5\\n', 'HEYL\\n', 'ZNF253\\n', 'ZNF154\\n', 'AKAP9\\n', 'ACOX2\\n', 'LCE1C\\n', 'PIK3R5\\n', 'LRRC7\\n', 'GPR183\\n', 'CDK6\\n', 'DERL2\\n', 'SEC23A\\n', 'SH3GL1\\n', 'NAPB\\n', 'MECP2\\n', 'PSMA1\\n', 'C12orf66\\n', 'FGL2\\n', 'S100A8\\n', 'HERC5\\n', 'CDK7\\n', 'OR10A7\\n', 'TSPAN15\\n', 'LSM4\\n', 'ARHGEF37\\n', 'FBXO17\\n', 'UTP18\\n', 'TFRC\\n', 'OR1S1\\n', 'CDK8\\n', 'OR5B17\\n', 'NLRX1\\n', 'USP26\\n', 'TRIM68\\n', 'OR2F2\\n', 'KRT6C\\n', 'ATG14\\n', 'TUBB1\\n', 'TNRC6A\\n', 'DIAPH3\\n', 'OR52E8\\n', 'KPNA1\\n', 'KRTAP10-10\\n', 'COG6\\n', 'SNRNP70\\n', 'HECTD2\\n', 'EBF1\\n', 'CC2D2A\\n', 'RXRB\\n', 'TEAD4\\n', 'APLN\\n', 'KMT2B\\n', 'BPI\\n', 'FZD3\\n', '155459\\n', 'IFNA17\\n', 'BMS1\\n', 'OR2T33\\n', 'MAN2B1\\n', 'PYGO1\\n', 'JUP\\n', 'HIPK2\\n', 'SLC38A9\\n', 'NCSTN\\n', 'RPL30\\n', 'FBXO6\\n', 'OR6C2\\n', 'UBE2D2\\n', 'TAF1B\\n', 'SIN3A\\n', 'RAB5A\\n', 'SEH1L\\n', 'ARHGEF12\\n', 'EIF3K\\n', 'PUM2\\n', 'PLCB4\\n', 'LBP\\n', 'FBXW9\\n', 'ANAPC4\\n', 'MALT1\\n', 'FABP5\\n', 'COX18\\n', 'ABCA1\\n', 'TNF\\n', 'ADGRE5\\n', 'GATAD2B\\n', 'CHL1\\n', 'ZNF34\\n', 'CD300E\\n', 'GPSM2\\n', 'RAB3D\\n', 'H4C14\\n', 'IFNA16\\n', 'NUDT2\\n', 'CHD3\\n', 'IKBKB\\n', 'ARRB2\\n', 'MAML1\\n', 'RTF1\\n', 'UNKL\\n', 'ZNF250\\n', 'CHRM2\\n', 'CPT1A\\n', 'PNPLA5\\n', 'MSI1\\n', 'SNAP25\\n', 'MSL3\\n', 'TF\\n', 'POLE4\\n', 'ADORA2A\\n', 'CHEK2\\n', 'STAT4\\n', 'CEACAM3\\n', 'B4GALT5\\n', 'ALDH3B1\\n', 'H3-4\\n', 'ZNF585B\\n', 'ZNF671\\n', 'ZDHHC21\\n', 'PRKAG1\\n', 'NUDC\\n', 'WSB1\\n', 'TAS2R46\\n', 'ZBED1\\n', 'IL7R\\n', 'CEP152\\n', 'MMP11\\n', 'HDAC2\\n', 'PROC\\n', 'BRPF1\\n', 'SAP30\\n', 'SIAH1\\n', 'OR4X2\\n', 'ZNF611\\n', 'FMNL3\\n', 'RAP1B\\n', 'TUBB2A\\n', 'ZNF514\\n', 'TAF1A\\n', 'OR8D1\\n', 'BHLHE40\\n', 'NOL6\\n', 'KL\\n', 'OR56A3\\n', 'TUBA1C\\n', 'CCL3L1\\n', 'CCAR1\\n', 'FGF7\\n', 'RGS9\\n', 'GNB1\\n', 'YEATS2\\n', 'AMER1\\n', 'SMO\\n', 'DBI\\n', 'ANAPC11\\n', 'TAF8\\n', 'MBD3\\n', 'CENPL\\n', 'FURIN\\n', 'NEFL\\n', 'DYNLL2\\n', 'KRT78\\n', 'IGFBP5\\n', 'PROKR2\\n', 'U2SURP\\n', 'PDE8A\\n', 'SLC22A1\\n', 'RAB3A\\n', 'GPC2\\n', 'POLR2K\\n', 'PGM2\\n', 'FGF6\\n', 'CYP21A2\\n', 'SNX9\\n', 'CXCL16\\n', 'MED6\\n', 'GNG11\\n', 'REEP3\\n', 'TRHR\\n', 'PAX6\\n', 'ADGRE3\\n', 'RUVBL1\\n', 'ASB12\\n', 'CNR1\\n', 'ECM1\\n', 'WDR18\\n', 'OR7A10\\n', 'RPL18\\n', 'POLE2\\n', 'ERCC2\\n', 'ZNF761\\n', 'PSMD1\\n', 'OR51S1\\n', 'CNTN1\\n', 'POLR2F\\n', 'NUP133\\n', 'H2AC13\\n', 'DYNLT2\\n', 'COL6A1\\n', 'KANK1\\n', 'OR51I2\\n', 'FDFT1\\n', 'SPC25\\n', 'ACTN2\\n', 'IFT140\\n', 'MUS81\\n', 'OR4E1\\n', 'TPX2\\n', 'RPA3\\n', 'DERL1\\n', 'H3C2\\n', 'IFI16\\n', 'NELFE\\n', 'ENAM\\n', 'APBB1\\n', 'HADHA\\n', 'OR2V2\\n', 'ASB1\\n', 'TCN1\\n', 'GEN1\\n', 'H2BC13\\n', 'SUV39H1\\n', 'CNKSR2\\n', 'KRTAP4-9\\n', 'RAB7A\\n', 'CDC34\\n', 'MAP3K7\\n', 'USP20\\n', 'MIB1\\n', 'ZNF442\\n', 'H2BC8\\n', 'KRTAP13-3\\n', 'CCNE1\\n', 'BEST4\\n', 'NBEAL2\\n', 'PAIP1\\n', 'AKR1D1\\n', 'UBB\\n', 'OR2A4\\n', 'DEPDC1B\\n', 'XRN2\\n', 'CXCL13\\n', 'GALNS\\n', 'FBXL12\\n', 'RPL8\\n', 'CRACR2A\\n', 'CNIH2\\n', 'SPTA1\\n', 'EIF3M\\n', 'NPFFR2\\n', 'PTGES2\\n', 'HCRTR2\\n', 'TINF2\\n', 'IRF9\\n', 'GAST\\n', 'RAB8A\\n', 'CDA\\n', 'SCNN1B\\n', 'KLHL5\\n', 'AKR1A1\\n', 'DEGS1\\n', 'MORF4L1\\n', 'MED15\\n', 'MCM5\\n', 'OR52N2\\n', 'IGF1\\n', 'ODAM\\n', 'KRTAP29-1\\n', 'IFI27\\n', 'MCEMP1\\n', 'MAFK\\n', 'NPS\\n', 'MPHOSPH6\\n', 'DOCK9\\n', 'CPSF2\\n', 'LRRTM4\\n', 'TCP1\\n', 'RNASE2\\n', 'SSRP1\\n', 'POLE3\\n', 'RGS16\\n', 'NCR3LG1\\n', 'RGS13\\n', 'UBAP1\\n', 'TMED2\\n', 'POLR2J\\n', 'RHOQ\\n', 'INO80D\\n', 'SYT8\\n', 'XCL1\\n', 'H2AC14\\n', 'CHMP4A\\n', 'PRR5\\n', 'IGLL1\\n', 'CCL1\\n', 'PHYKPL\\n', 'CSPG5\\n', 'U2AF1\\n', 'POLR1B\\n', 'CKAP5\\n', 'LMNB1\\n', 'OR5K1\\n', 'DMC1\\n', 'PAK2\\n', 'B9D1\\n', 'EIF3J\\n', 'EHD2\\n', 'PITPNA\\n', 'TRA2B\\n', 'NUCB1\\n', 'HCFC1\\n', 'ISY1\\n', 'OR8K5\\n', 'CD177\\n', 'AEBP2\\n', 'CALML5\\n', 'NAPA\\n', 'ATG9A\\n', 'FBXO30\\n', 'OR4A15\\n', 'PIANP\\n', 'MVP\\n', 'RAC1\\n', 'BRAP\\n', 'ZNF264\\n', 'GGPS1\\n', 'HOXD3\\n', 'SULT2A1\\n', 'RBBP6\\n', 'RPL9\\n', 'CBLB\\n', 'GNB5\\n', 'MC4R\\n', 'ATP2B3\\n', 'MYH11\\n', 'GCA\\n', 'RPL18A\\n', 'ZNF415\\n', 'ZNF333\\n', 'KRT84\\n', 'H2AC8\\n', 'HMGCS1\\n', 'TP73\\n', 'RAB6B\\n', 'PPM1A\\n', 'EDN3\\n', 'PLCG1\\n', 'KRTAP24-1\\n', 'ADH1B\\n', 'POLR2G\\n', 'CNKSR1\\n', 'MKS1\\n', 'TPTEP2-CSNK1E\\n', 'KLRC2\\n', 'TUBB6\\n', 'YY1\\n', 'OR52A1\\n', 'ZNF112\\n', 'CCT6A\\n', 'MED29\\n', 'EGFR\\n', 'RAD21\\n', 'OR9G4\\n', 'FBXO7\\n', 'ITGA4\\n', '441669\\n', 'HNRNPL\\n', 'TPD52\\n', 'KLHL3\\n', 'OR8H1\\n', 'ZNF101\\n', 'FGF19\\n', 'TAF6\\n', 'OR10G3\\n', 'PMF1-BGLAP\\n', 'OR6K3\\n', 'SLC22A2\\n', 'RAD50\\n', 'TFAP2B\\n', 'STAG1\\n', 'LCN2\\n', 'RPS26\\n', 'ALDH1B1\\n', 'N6AMT1\\n', 'FGFR1\\n', 'ADRB3\\n', 'CDCA5\\n', 'FANCL\\n', 'COL9A3\\n', 'LPAR3\\n', 'OR56A4\\n', 'ADAM17\\n', 'HLA-DQB2\\n', 'OR2G6\\n', 'SEPSECS\\n', 'DOK3\\n', 'CAMK2A\\n', 'USP24\\n', 'COL8A2\\n', 'TLN1\\n', 'TGFB1\\n', 'AGA\\n', 'CDC27\\n', 'NELFCD\\n', 'LAMB1\\n', 'RPRD1B\\n', 'DEFB105A\\n', 'ZNF610\\n', 'REEP2\\n', 'FBXL15\\n', 'LCK\\n', 'CCR10\\n', 'TSPAN14\\n', 'ZNRF1\\n', 'OR5B21\\n', 'OR2A14\\n', 'GOSR2\\n', 'E2F1\\n', 'PSMD4\\n', 'FSHR\\n', 'HECTD1\\n', 'NDUFS5\\n', 'RIN3\\n', 'ARHGEF10L\\n', 'IRF4\\n', 'TNFRSF1B\\n', 'RPS23\\n', 'OR6C4\\n', 'ZNF208\\n', 'OR4K15\\n', 'RAD51C\\n', 'RNF4\\n', 'LPCAT1\\n', 'USP17L12\\n', 'RNF138\\n', 'MEN1\\n', 'MON1A\\n', 'OR10K1\\n', 'CAPN3\\n', 'CTSF\\n', 'CENPT\\n', 'RINL\\n', 'SRSF3\\n', 'RAD1\\n', 'TNRC6B\\n', '155971\\n', 'GLA\\n', 'ZC3H8\\n', 'KRT13\\n', 'KLHL22\\n', 'ABCB1\\n', 'IL1RAP\\n', 'HNRNPK\\n', 'EDNRA\\n', 'F8\\n', 'OR5AC2\\n', 'RXFP4\\n', 'SLIT2\\n', 'WASF3\\n', 'BDKRB2\\n', 'GTF2A1\\n', 'TIMP2\\n', 'JAG2\\n', 'ZNF729\\n', 'ARCN1\\n', 'TGM5\\n', 'TAS2R1\\n', 'CCNE2\\n', 'ENY2\\n', 'APLNR\\n', 'ZNF20\\n', 'PDGFRA\\n', 'WNK3\\n', 'CCL4\\n', 'USP17L20\\n', 'COL9A2\\n', 'TAC3\\n', 'SRP9\\n', 'DYNLRB1\\n', 'NPC2\\n', 'HSPA2\\n', 'STRN\\n', 'ZNF506\\n', 'OR1I1\\n', 'ZNF302\\n', 'USP17L3\\n', 'AP1M1\\n', 'PCDH7\\n', 'NR2E1\\n', 'ESRP1\\n', 'TRRAP\\n', 'PPP2R5A\\n', 'CLIC2\\n', 'ARHGAP25\\n', 'ZNF175\\n', 'THOC1\\n', 'COL18A1\\n', 'GRP\\n', 'OR2T5\\n', 'MYBBP1A\\n', 'RANBP2\\n', 'BICD2\\n', 'TSC2\\n', 'SLC16A7\\n', 'PRSS23\\n', 'RPL35\\n', 'CAPZA1\\n', 'SERPINB6\\n', 'ITSN1\\n', 'SNAPC5\\n', 'F2R\\n', 'OR8U1\\n', 'OR1A1\\n', 'ARHGAP19\\n', 'CHUK\\n', 'FGF5\\n', 'RRP7A\\n', 'GNG8\\n', 'OR10W1\\n', 'ZNF233\\n', 'UPF3A\\n', 'ITGB3BP\\n', 'GIPR\\n', 'RPS12\\n', 'ZNF484\\n', 'ZNF70\\n', 'CENPS\\n', 'OR1G1\\n', 'RPL7\\n', 'EHMT1\\n', 'OR5W2\\n', 'DLG1\\n', 'SNRPD1\\n', 'UBE2G2\\n', 'FER\\n', 'RAB27A\\n', 'PENK\\n', 'RPL26\\n', 'HLA-DOA\\n', 'MED12\\n', 'LRRTM2\\n', 'AHR\\n', 'DCAF10\\n', 'SSTR4\\n', 'NME1-NME2\\n', 'S100A7\\n', 'CSNK1E\\n', 'APCS\\n', 'KDM5B\\n', 'PDE2A\\n', 'CCL25\\n', 'KRT40\\n', 'RCN1\\n', 'TRIM10\\n', 'SPP1\\n', 'HLA-DPB1\\n', 'ERCC6\\n', 'HCAR1\\n', 'GOT2\\n', 'OR13G1\\n', 'JAG1\\n', 'PPIH\\n', 'CYBA\\n', 'BRAF\\n', 'GRHL1\\n', 'ASB3\\n', 'HNRNPM\\n', 'CDCA8\\n', 'HLA-B\\n', 'RPL22L1\\n', 'PPARGC1A\\n', 'EGR2\\n', 'ALDH1A3\\n', 'TAF1D\\n', 'EIF2S3\\n', 'ARRB1\\n', 'HELZ2\\n', 'COL4A5\\n', 'XCL2\\n', 'EGR1\\n', 'EPHA10\\n', 'FBXW10\\n', 'ZNF615\\n', 'EEF1AKMT2\\n', 'LHX4\\n', 'TSPAN33\\n', 'PICK1\\n', 'LAMB3\\n', 'AVP\\n', '956531\\n', 'KIF26A\\n', 'RUNX1\\n', 'NBN\\n', 'OR11A1\\n', 'OPHN1\\n', 'EDN1\\n', 'RPS20\\n', 'IGFBP7\\n', 'LCE2D\\n', 'CCL28\\n', 'ARHGAP23\\n', 'PSMA6\\n', 'OTUB1\\n', 'KCTD7\\n', 'CAPN2\\n', 'MANBA\\n', 'HLA-E\\n', 'WNT7B\\n', 'WNT2B\\n', 'PTEN\\n', 'FCGR3A\\n', 'FOXO1\\n', 'KRTAP2-3\\n', 'HAUS7\\n', 'ZNF830\\n', 'OSM\\n', 'ATM\\n', 'ARG1\\n', 'FLNA\\n', 'G0S2\\n', 'FBXL20\\n', 'USF1\\n', 'KIFC1\\n', 'WWTR1\\n', 'PKP4\\n', 'GNG2\\n', 'PDXK\\n', 'ITGAV\\n', 'SH2D1B\\n', 'PRKAR1A\\n', 'OR10P1\\n', 'PSMD11\\n', 'SDR9C7\\n', 'LAT\\n', 'SCN8A\\n', 'UBE2U\\n', 'BCL9L\\n', 'TAAR2\\n', 'GNA14\\n', 'OAS1\\n', 'MYH10\\n', 'ZNF791\\n', 'LTN1\\n', 'RPS4Y1\\n', 'CDC45\\n', 'ZNF160\\n', 'BOP1\\n', 'IGF2R\\n', 'RCE1\\n', 'U2AF1L4\\n', 'OR52N1\\n', 'CXCL2\\n', 'ZNF417\\n', 'TNFRSF10D\\n', 'RAD51D\\n', 'H2BC4\\n', 'H2AC1\\n', 'UBE2C\\n', 'MIS18BP1\\n', 'ASB11\\n', 'GATA1\\n', 'NUP88\\n', 'OR1N2\\n', 'COX6B1\\n', 'HOMER1\\n', 'ZNF660\\n', 'F5\\n', 'FGB\\n', 'OR4C16\\n', 'UEVLD\\n', 'RPS21\\n', 'KRT17\\n', 'ARHGEF19\\n', 'PLCB2\\n', 'RRAGB\\n', 'PRELP\\n', 'TAS1R2\\n', 'DLL1\\n', 'TLR10\\n', 'SEC11C\\n', 'ZNF254\\n', 'RBFOX2\\n', 'ARHGDIB\\n', 'CDC40\\n', 'CLP1\\n', 'MXRA8\\n', 'MAGOHB\\n', 'MEF2C\\n', 'IFNA6\\n', 'PTPRJ\\n', 'EMD\\n', 'UBE2S\\n', 'TTBK2\\n', 'AKAP13\\n', 'ZNF556\\n', 'GPR83\\n', 'MIB2\\n', 'FCER1G\\n', 'SNRPB\\n', 'PTGES3\\n', 'SLC27A1\\n', 'CD99L2\\n', 'NUP205\\n', 'CHD1\\n', 'SDSL\\n', 'OR2J1\\n', 'GYG1\\n', 'ITGAM\\n', 'LCE2A\\n', 'UBE2H\\n', 'CMTM6\\n', 'SLC25A12\\n', 'KRT26\\n', 'NSL1\\n', 'NME2\\n', 'H2BC6\\n', 'SPIDR\\n', 'OR13C2\\n', 'AHRR\\n', 'TAL1\\n', 'SUPT5H\\n', 'OR2S2\\n', 'KRTAP11-1\\n', 'GNAS\\n', 'KRTAP3-2\\n', 'MED30\\n', 'TAS2R14\\n', 'PPP4R2\\n', 'CTSA\\n', 'GNAI1\\n', 'GSPT1\\n', 'KIFC3\\n', 'TUBA8\\n', 'COL4A4\\n', 'PCF11\\n', 'MMP25\\n', 'FGFR2\\n', 'HLA-DMB\\n', 'GRK3\\n', 'OR2AK2\\n', 'CST3\\n', 'CUL4B\\n', 'MAPK12\\n', 'RPTOR\\n', 'KIFC2\\n', 'PRKG1\\n', 'SGO2\\n', 'COLEC12\\n', 'NCOA2\\n', 'AAK1\\n', 'CLASP2\\n', 'DIAPH1\\n', 'ARHGEF17\\n', 'RAD9A\\n', 'SNRPD3\\n', 'COMMD3-BMI1\\n', 'ICAM3\\n', 'USP9X\\n', 'CRTC2\\n', 'HCAR3\\n', 'ZKSCAN1\\n', 'NCK1\\n', 'OR52Z1\\n', 'ITGA9\\n', 'KRT1\\n', 'ANGPT1\\n', 'LIN7B\\n', 'ZNF583\\n', 'BCAT2\\n', 'VPS72\\n', 'SERPINA1\\n', 'KIF23\\n', 'KALRN\\n', 'MCRS1\\n', 'ZNF699\\n', 'FUS\\n', 'DROSHA\\n', 'NCOA1\\n', 'FOSB\\n', 'COX8A\\n', 'PSMB6\\n', 'COX7C\\n', 'H2BC7\\n', 'ZNF688\\n', 'CCND1\\n', 'HOXB2\\n', 'CALU\\n', 'OR3A1\\n', 'USP17L4\\n', 'GABPB1\\n', 'CEACAM5\\n', 'HOXC4\\n', 'UTS2B\\n', 'DNAJC5\\n', 'IFNA21\\n', 'COX11\\n', 'TIRAP\\n', 'PIK3R2\\n', 'DGKH\\n', 'UGT1A3\\n', 'OR2L8\\n', 'OR6C74\\n', 'MTARC2\\n', 'EXOSC4\\n', 'EBAG9\\n', 'GPC1\\n', 'ADRA1A\\n', 'OR51D1\\n', 'TAB1\\n', 'CDKN1A\\n', 'TRIM21\\n', 'KDM3A\\n', 'KIF4B\\n', 'PSMC4\\n', 'RGS10\\n', 'TAS2R31\\n', 'SUPT3H\\n', 'ADHFE1\\n', 'YWHAQ\\n', 'DNM3\\n', 'KCNH6\\n', 'KIF2B\\n', 'OR10R2\\n', 'CEP290\\n', 'FOXA1\\n', 'GP6\\n', 'FAF2\\n', 'TYK2\\n', 'ATP6V0C\\n', 'NPFFR1\\n', 'CHML\\n', 'HTR1B\\n', 'COL26A1\\n', 'PFKFB3\\n', 'ITPR2\\n', 'IL4R\\n', 'CDK2\\n', 'CEP43\\n', 'GSTK1\\n', 'LAS1L\\n', 'ZNF705E\\n', 'HABP4\\n', 'TAS2R10\\n', 'CYB5R3\\n', 'OXGR1\\n', 'NUP50\\n', 'MRE11\\n', 'FAM20C\\n', 'COX20\\n', 'GRIN2B\\n', 'INO80\\n', 'SMARCA2\\n', 'GJA5\\n', 'NINL\\n', 'POLRMT\\n', 'GTF2H3\\n', 'IFT57\\n', 'F2RL2\\n', 'TAF1C\\n', 'RPL7A\\n', 'CPSF4\\n', 'FBXL8\\n', 'FOXO4\\n', 'GAS6\\n', 'KRTAP4-4\\n', 'PRMT7\\n', 'CENPQ\\n', 'DKC1\\n', 'OR4F3\\n', 'ASB14\\n', 'ZNF483\\n', 'TMEM63A\\n', 'HAUS5\\n', 'OR2T8\\n', 'MMP10\\n', 'UBE2J2\\n', 'ZNF726\\n', 'CPPED1\\n', 'FBXL19\\n', 'PPFIA4\\n', 'FASN\\n', 'SDCCAG8\\n', 'CD8A\\n', 'ZNF79\\n', 'OPN4\\n', 'KLK13\\n', 'LIN7C\\n', 'TSPAN5\\n', 'LAMA1\\n', 'SPPL2B\\n', 'MAGED2\\n', 'MAPKAPK2\\n', 'MEX3C\\n', 'HUS1\\n', 'OR2M5\\n', 'FBXW8\\n', 'ZNF490\\n', 'RACGAP1\\n', 'NPB\\n', 'YWHAG\\n', 'KMT2C\\n', 'TCTN3\\n', 'SEC61A2\\n', 'DOCK5\\n', 'CARM1\\n', 'CXCR4\\n', 'PRSS3\\n', 'ZNF770\\n', 'ZNF804B\\n', 'HDAC1\\n', 'ALDH3B2\\n', 'MLST8\\n', 'KRTAP21-2\\n', 'MGRN1\\n', 'NCBP1\\n', 'FGF2\\n', 'ARHGEF39\\n', 'ARHGAP17\\n', 'COL20A1\\n', 'NSD2\\n', 'CHMP4B\\n', 'POLB\\n', 'SERPINA10\\n', 'MBD2\\n', 'GLP2R\\n', 'ANKRD9\\n', 'COMMD2\\n', 'CTSK\\n', 'HBG1\\n', 'KRTAP9-8\\n', 'LDHA\\n', 'CNTRL\\n', 'GBP6\\n', 'ALB\\n', 'TLE2\\n', 'OR5D16\\n', 'TOPORS\\n', 'SYNJ1\\n', 'USF2\\n', 'MYL9\\n', 'FANCI\\n', 'PLAC8\\n', 'OR6C1\\n', 'CBX4\\n', 'ZNF557\\n', 'CTSV\\n', 'OR5H15\\n', 'NRG3\\n', 'ZNF286A\\n', 'AKR1C3\\n', 'LTBP1\\n', 'CSPG4\\n', 'OTUD3\\n', 'CYSTM1\\n', 'OR2D2\\n', 'H3C8\\n', 'LCP2\\n', 'WDR61\\n', 'EEFSEC\\n', 'PMF1\\n', 'SRP19\\n', 'CYSLTR2\\n', 'SIRT4\\n', 'XK\\n', 'OR2L2\\n', 'SLC44A2\\n', 'MMP15\\n', 'SH2B3\\n', 'SST\\n', 'KLHL25\\n', 'ZNF710\\n', 'DAAM1\\n', 'ZNF764\\n', 'MGAM\\n', 'HDAC4\\n', 'IP6K2\\n', 'OR9I1\\n', 'NDUFA2\\n', 'ALDH2\\n', 'KBTBD13\\n', 'NUMA1\\n', 'MED20\\n', 'OR1J4\\n', 'PPP6R1\\n', 'IGFALS\\n', 'HLA-C\\n', 'ADAMTS14\\n', 'FCHO2\\n', 'MLH1\\n', 'POLR3G\\n', 'ZNF543\\n', 'TUBB2B\\n', 'PTGS2\\n', 'TBC1D4\\n', 'CD36\\n', 'COPE\\n', 'SPARC\\n', 'WWOX\\n', 'TERT\\n', 'CCNA2\\n', 'B2M\\n', 'INTS3\\n', 'OR5L2\\n', 'MYH14\\n', 'TADA3\\n', 'SUCNR1\\n', 'MIS12\\n', 'GAD2\\n', 'FZD7\\n', 'ABCG2\\n', 'POLR3A\\n', 'MELTF\\n', 'HNRNPH1\\n', 'F13B\\n', 'CAND1\\n', 'ZNF100\\n', 'LAMB2\\n', 'LTBR\\n', 'ZNF131\\n', 'PAPOLA\\n', 'ESR2\\n', '3802042\\n', 'KBTBD6\\n', 'IL6\\n', 'UTS2R\\n', 'OR10X1\\n', 'PCNT\\n', 'ZNF470\\n', 'EXO1\\n', 'CSNK1A1\\n', 'MC3R\\n', 'STON1\\n', 'SNAP23\\n', 'TOLLIP\\n', 'CNOT1\\n', 'STK11\\n', 'ZNF529\\n', 'THOC2\\n', 'GUSB\\n', 'GJB3\\n', 'OR4M1\\n', 'DNAJB1\\n', 'PDPK1\\n', 'PRPF6\\n', 'CPSF3\\n', 'PRKDC\\n', 'RPGRIP1L\\n', 'TUBGCP2\\n', 'ZNF436\\n', 'NUP62\\n', 'SULT1A1\\n', 'UBE2V2\\n', 'PAPPA\\n', 'CEP63\\n', 'USP17L1\\n', 'SHISA5\\n', 'RPL11\\n', 'SNAPC4\\n', 'RGS1\\n', 'COL1A2\\n', 'PARP10\\n', 'NLGN4Y\\n', 'COL24A1\\n', 'CDC23\\n', 'PSMD12\\n', 'CRTC1\\n', 'POLR2I\\n', 'COL9A1\\n', 'RAMP3\\n', 'COMMD6\\n', 'MAT1A\\n', 'ME1\\n', 'MYD88\\n', 'OR2AG1\\n', 'ENPP4\\n', 'PROS1\\n', 'CHRM5\\n', 'LGALS3\\n', 'CMC2\\n', 'ULK3\\n', 'PSG2\\n', 'POLR1G\\n', 'H4C9\\n', 'TGM1\\n', 'WBP11\\n', 'NEURL2\\n', 'BATF\\n', 'PJA1\\n', 'OR13C5\\n', 'AADAC\\n', 'PSG11\\n', 'RPA2\\n', 'NFASC\\n', 'ITGA6\\n', 'RARA\\n', 'CSNK2A1\\n', 'ADRA1D\\n', 'CDC42EP5\\n', 'MT-CO2\\n', 'WDR20\\n', 'DECR2\\n', 'KLHL2\\n', 'AVPR2\\n', 'FBXL13\\n', 'GRSF1\\n', 'SRSF4\\n', 'THOC5\\n', 'IL1RN\\n', 'ZNF562\\n', 'KDR\\n', 'LRR1\\n', 'S1PR4\\n', 'IFNA8\\n', 'XCR1\\n', 'COPS4\\n', 'MCF2\\n', 'FIP1L1\\n', 'OR10G9\\n', 'CHRDL1\\n', 'COL14A1\\n', 'IHH\\n', 'RASGRF2\\n', 'PSTK\\n', 'SRGN\\n', 'HPSE\\n', 'DPP7\\n', 'CALM3\\n', 'PTPRB\\n', 'METTL7A\\n', 'DNASE1L1\\n', 'GOLGA1\\n', 'IRAK2\\n', 'NPBWR2\\n', 'OR5AN1\\n', 'STMN1\\n', 'ANAPC7\\n', 'CSK\\n', 'OR9K2\\n', 'NLN\\n', 'CCT8\\n', 'RNPS1\\n', 'ADAMTS7\\n', 'HECW2\\n', 'UBR4\\n', 'GPX2\\n', 'SRSF6\\n', 'MYC\\n', 'CDC37L1\\n', 'ZNF613\\n', 'CCL3\\n', 'MDC1\\n', 'H4C4\\n', 'PARN\\n', 'OTUD5\\n', 'ERBIN\\n', 'TAS2R16\\n', 'NEU1\\n', 'CHRM3\\n', 'NFATC1\\n', 'ARNT2\\n', 'OXER1\\n', 'VIP\\n', 'ZDHHC2\\n', 'OR52N4\\n', 'BTBD6\\n', 'ASB13\\n', 'OR3A2\\n', 'LILRA4\\n', 'OR2W1\\n', 'OR56B4\\n', 'ADAMTS9\\n', 'MTOR\\n', 'ZNF33B\\n', 'WDR75\\n', 'PELP1\\n', 'ATP6V1H\\n', 'RPS6\\n', 'RPLP1\\n', 'ARF4\\n', 'SELL\\n', 'FAM13B\\n', 'PERP\\n', 'PSMC2\\n', 'PPP2R1A\\n', 'POLA1\\n', 'NRIP1\\n', 'KITLG\\n', 'HTR4\\n', 'PIP4K2C\\n', 'FBXO27\\n', 'ZNF141\\n', 'ADORA2B\\n', 'POLR2L\\n', 'CCK\\n', 'PSMC1\\n', 'GPX7\\n', 'ABCC10\\n', 'SVIP\\n', 'RHOB\\n', 'ITPR1\\n', 'OR4F15\\n', 'STUB1\\n', 'SLC5A7\\n', 'ZKSCAN3\\n', 'DYNC1I1\\n', 'ZNF567\\n', 'NID1\\n', 'ORC3\\n', 'PEA15\\n', 'RBCK1\\n', 'TGS1\\n', 'WDR5\\n', 'ARHGAP32\\n', 'MFN1\\n', 'AKT1S1\\n', 'TRAT1\\n', 'PSG3\\n', 'POLR3C\\n', 'KIF3C\\n', 'EIF3E\\n', 'SRSF2\\n', 'PHF20\\n', 'MTA2\\n', 'PNOC\\n', 'OR6C3\\n', 'TAGLN2\\n', 'IL27RA\\n', 'HRNR\\n', 'DIMT1\\n', 'MPO\\n', 'GNGT1\\n', 'CSAD\\n', 'MANF\\n', 'RPL26L1\\n', 'UBE4A\\n', 'IFI30\\n', 'SUMO2\\n', 'TBP\\n', 'LILRB3\\n', 'RXFP3\\n', 'LDB1\\n', 'SLC11A1\\n', 'MGST1\\n', 'MTA1\\n', 'IL10\\n', 'MC2R\\n', 'POLR3D\\n', 'CDC5L\\n', 'MED13L\\n', 'RPL13A\\n', 'BBC3\\n', 'H4C12\\n', 'CRISPLD2\\n', 'OR1M1\\n', 'ZNF730\\n', 'LCE4A\\n', 'RXRA\\n', 'TLR1\\n', 'SLC25A21\\n', 'MAP1LC3C\\n', 'ACLY\\n', 'ADCY2\\n', 'COL4A2\\n', 'GPRC6A\\n', 'NR1H2\\n', 'ZNF721\\n', 'CLINT1\\n', 'CAMK2B\\n', 'ACTN4\\n', 'DDX58\\n', 'ZNF184\\n', 'FYN\\n', 'EXOSC7\\n', 'ZIM3\\n', 'H3C13\\n', 'WDR46\\n', 'USP17L11\\n', 'OR10A2\\n', 'TRAF1\\n', 'SMAD4\\n', 'IL1B\\n', 'ZNF37A\\n', 'RGS5\\n', 'ZNF626\\n', 'EIF3G\\n', 'STK11IP\\n', 'ESPL1\\n', 'MED11\\n', 'ZNF517\\n', 'SEC24B\\n', 'CETN2\\n', 'OGG1\\n', 'UNC79\\n', 'BRCC3\\n', '956532\\n', 'USP17L19\\n', 'TERF2\\n', 'TCIRG1\\n', 'TGFBR1\\n', 'OR5T2\\n', 'RNF19A\\n', 'GNA12\\n', 'TSHR\\n', 'TAF9B\\n', 'USP4\\n', 'GATAD2A\\n', 'KRT75\\n', 'FGR\\n', 'PTPRS\\n', 'SH2B2\\n', 'PIK3R1\\n', 'SF3B2\\n', 'ARNT\\n', 'TP53\\n', 'MAML2\\n', 'DVL3\\n', 'ERCC1\\n', 'OR10H5\\n', 'HBEGF\\n', 'MAP3K11\\n', 'RAP2C\\n', 'TGFB3\\n', 'RPLP2\\n', 'MTM1\\n', 'DENND2A\\n', 'VDAC2\\n', 'SESN1\\n', 'OR52K1\\n', 'ATP1A2\\n', 'ZNF43\\n', 'RAB12\\n', 'MYL12B\\n', 'OR4K13\\n', 'CAPN12\\n', 'RPL36AL\\n', 'NR5A2\\n', 'TERF1\\n', 'SPTBN2\\n', 'YWHAZ\\n', 'DDB2\\n', 'CAPN11\\n', 'CDK1\\n', 'GTF2H5\\n', 'NFKBIA\\n', 'POLH\\n', 'RBM4\\n', 'USP16\\n', 'OR11H2\\n', 'HLA-A\\n', 'COL1A1\\n', 'SCOC\\n', 'EEF2\\n', 'MAPK1\\n', 'BCL2\\n', 'LILRA2\\n', 'DYNLT1\\n', 'H3C4\\n', 'ZNF419\\n', 'CDC26\\n', 'VCP\\n', 'INSL5\\n', 'OR6Q1\\n', 'TFAP2A\\n', 'H4-16\\n', 'ZFP37\\n', 'CLTCL1\\n', 'JADE2\\n', 'ZNF680\\n', 'KRTAP19-2\\n', 'CYP2E1\\n', 'HLA-DQB1\\n', 'TP53BP1\\n', 'SRSF9\\n', 'RPL28\\n', 'NEDD1\\n', 'E2F8\\n', 'WDR19\\n', 'GPC3\\n', 'OR10J1\\n', 'LRRFIP1\\n', 'UBE3B\\n', 'FMNL2\\n', 'FAM120B\\n', 'RBL1\\n', 'AGL\\n', 'MAD2L1\\n', 'AGTR2\\n', 'BTBD1\\n', 'FGG\\n', 'GLP1R\\n'], np.int64(902): ['SNCAIP\\n'], np.int64(903): ['ATP5MC3\\n', 'TIMM17A\\n'], np.int64(904): ['AK7\\n'], np.int64(905): ['DNAJC6\\n', 'SNAPIN\\n'], np.int64(906): ['LSM6\\n'], np.int64(907): ['CLDN15\\n'], np.int64(908): ['RAB30\\n'], np.int64(909): ['SGK2\\n'], np.int64(910): ['NNT\\n'], np.int64(911): ['LTV1\\n'], np.int64(912): ['KIF5C\\n', 'EXOC6\\n'], np.int64(913): ['MERTK\\n'], np.int64(914): ['MT-ATP6\\n'], np.int64(915): ['MIA3\\n', 'FSTL3\\n'], np.int64(916): ['PITRM1\\n'], np.int64(917): ['BET1\\n'], np.int64(918): ['TNNT3\\n'], np.int64(919): ['HDGF\\n'], np.int64(920): ['TBC1D8B\\n'], np.int64(921): ['B3GLCT\\n', 'ADAMTS12\\n'], np.int64(922): ['IAPP\\n', 'THRB\\n'], np.int64(923): ['AKAP1\\n'], np.int64(924): ['ARSD\\n'], np.int64(925): ['MRPL14\\n', 'ERAL1\\n', 'MRPL15\\n', 'MRPL49\\n', 'MRPS2\\n', 'MRPS31\\n', 'MRPL35\\n', 'MRPL47\\n', 'MRPS22\\n', 'MRPL48\\n', 'MRPS11\\n', 'GFM2\\n', 'MRPS21\\n', 'MRPS26\\n', 'MRPL42\\n', 'MRPS25\\n', 'MRPL28\\n', 'MRPS15\\n', 'MRPL50\\n', 'MRPL44\\n', 'MRPL19\\n', 'MRPS23\\n', 'MRPL33\\n', 'MRPL10\\n', 'MRPS36\\n', 'CHCHD1\\n', 'MRPS35\\n', 'MRPL34\\n', 'MRPS10\\n', 'OXA1L\\n', 'MRPS18A\\n', 'MRPL57\\n', 'MTRF1L\\n', 'MRPL11\\n', 'MRPL16\\n', 'MRPS28\\n', 'PTCD3\\n', 'MRPL43\\n', 'MRPS9\\n', 'MRPS14\\n', 'MRPL36\\n', 'MRPS12\\n', 'MRPL24\\n', 'MRPS24\\n', 'MRPL27\\n', 'MRPL40\\n', 'MRPL30\\n', 'MRPL41\\n', 'MRPL38\\n', 'MRPL23\\n', 'MRPS6\\n', 'MRPL12\\n', 'MRPL46\\n', 'MRPL51\\n', 'GADD45GIP1\\n', 'MRPL55\\n', 'MRPL9\\n', 'AURKAIP1\\n', 'MRPL18\\n', 'MRPS16\\n', 'MRPS27\\n', 'MRPL54\\n', 'MRPS33\\n', 'MRPL22\\n', 'MRPL52\\n', 'MRPL32\\n', 'MTFMT\\n', 'TSFM\\n', 'MRPL39\\n', 'MRPL21\\n', 'MRPL53\\n', 'MRPL1\\n', 'MRPS30\\n', 'DAP3\\n', 'TUFM\\n', 'MRPS34\\n', 'MRPL4\\n', 'MRPL58\\n', 'MRPS17\\n'], np.int64(926): ['TNFSF11\\n'], np.int64(927): ['CITED1\\n'], np.int64(928): ['CD200R1\\n', 'LILRA1\\n', 'THBS2\\n'], np.int64(929): ['SEC22A\\n'], np.int64(930): ['DYNC2LI1\\n', 'WDR35\\n'], np.int64(931): ['ADSL\\n'], np.int64(932): ['WBP4\\n', 'SF3A2\\n'], np.int64(933): ['MYL12A\\n', 'EPHB1\\n', 'GIT1\\n', 'EPHA8\\n'], np.int64(934): ['ST3GAL4\\n', 'GCNT1\\n'], np.int64(935): ['SLC9A9\\n'], np.int64(936): ['KIR2DL2\\n', 'MICA\\n', 'JAML\\n', 'SIGLEC7\\n'], np.int64(937): ['ME2\\n'], np.int64(938): ['GOLIM4\\n'], np.int64(939): ['KRT25\\n', 'KRTAP6-1\\n', 'KRT27\\n'], np.int64(940): ['KCNK4\\n'], np.int64(941): ['MSLN\\n'], np.int64(942): ['EXOSC10\\n', 'NOP58\\n'], np.int64(943): ['MRPS18C\\n'], np.int64(944): ['ZNF732\\n'], np.int64(945): ['KMT5A\\n'], np.int64(946): ['PYGO2\\n'], np.int64(947): ['TSR3\\n'], np.int64(948): ['SOS2\\n', 'RHOT2\\n', 'ARHGEF38\\n']}\n",
      "********************\n",
      "distance_matrix\n",
      "[[0.  0.8 0.8 ... 0.4 0.8 0.8]\n",
      " [0.8 0.  0.8 ... 0.8 0.4 0. ]\n",
      " [0.8 0.8 0.  ... 0.8 0.8 0.8]\n",
      " ...\n",
      " [0.4 0.8 0.8 ... 0.  0.8 0.8]\n",
      " [0.8 0.4 0.8 ... 0.8 0.  0.4]\n",
      " [0.8 0.  0.8 ... 0.8 0.4 0. ]]\n",
      "********************\n"
     ]
    }
   ],
   "source": [
    "#| eval: false\n",
    "for key in cmmd_output.keys():\n",
    "    print(key)\n",
    "    print(cmmd_output[key])\n",
    "    print(\"*\" * 20)"
   ]
  },
  {
   "cell_type": "code",
   "execution_count": 8,
   "metadata": {},
   "outputs": [
    {
     "data": {
      "text/plain": [
       "(5609, 5609)"
      ]
     },
     "execution_count": 8,
     "metadata": {},
     "output_type": "execute_result"
    }
   ],
   "source": [
    "#| eval: false\n",
    "cmmd_output[\"distance_matrix\"].shape"
   ]
  },
  {
   "cell_type": "code",
   "execution_count": 9,
   "metadata": {},
   "outputs": [
    {
     "data": {
      "text/plain": [
       "array([[0. , 0.8, 0.8, ..., 0.4, 0.8, 0.8],\n",
       "       [0.8, 0. , 0.8, ..., 0.8, 0.4, 0. ],\n",
       "       [0.8, 0.8, 0. , ..., 0.8, 0.8, 0.8],\n",
       "       ...,\n",
       "       [0.4, 0.8, 0.8, ..., 0. , 0.8, 0.8],\n",
       "       [0.8, 0.4, 0.8, ..., 0.8, 0. , 0.4],\n",
       "       [0.8, 0. , 0.8, ..., 0.8, 0.4, 0. ]])"
      ]
     },
     "execution_count": 9,
     "metadata": {},
     "output_type": "execute_result"
    }
   ],
   "source": [
    "#| eval: false\n",
    "dm = cmmd_output[\"distance_matrix\"]\n",
    "dm"
   ]
  },
  {
   "cell_type": "code",
   "execution_count": 10,
   "metadata": {},
   "outputs": [
    {
     "data": {
      "text/plain": [
       "array([0. , 0.2, 0.4, 0.6, 0.8, 1. ])"
      ]
     },
     "execution_count": 10,
     "metadata": {},
     "output_type": "execute_result"
    }
   ],
   "source": [
    "#| eval: false\n",
    "np.unique(dm)"
   ]
  },
  {
   "cell_type": "code",
   "execution_count": 11,
   "metadata": {},
   "outputs": [
    {
     "data": {
      "image/png": "[encoded data removed]",
      "text/plain": [
       "<Figure size 640x480 with 1 Axes>"
      ]
     },
     "metadata": {},
     "output_type": "display_data"
    }
   ],
   "source": [
    "#| eval: false\n",
    "sns.histplot(cmmd_output[\"distance_matrix\"].flatten(), stat=\"density\");"
   ]
  },
  {
   "cell_type": "code",
   "execution_count": 12,
   "metadata": {},
   "outputs": [
    {
     "data": {
      "text/plain": [
       "array([[ 736,  751,  644,  860,  901],\n",
       "       [ 789,  924,  970,  944,  901],\n",
       "       [ 969,  935,  842,  902,  901],\n",
       "       ...,\n",
       "       [ 736,  751, 1002,  810,  901],\n",
       "       [ 789,  924,  988,  818,  901],\n",
       "       [ 789,  924,  970,  944,  901]])"
      ]
     },
     "execution_count": 12,
     "metadata": {},
     "output_type": "execute_result"
    }
   ],
   "source": [
    "#| eval: false\n",
    "gcm = cmmd_output[\"gene_community_matrix\"]\n",
    "gcm"
   ]
  },
  {
   "cell_type": "code",
   "execution_count": 13,
   "metadata": {},
   "outputs": [
    {
     "data": {
      "text/plain": [
       "(5609, 5)"
      ]
     },
     "execution_count": 13,
     "metadata": {},
     "output_type": "execute_result"
    }
   ],
   "source": [
    "#| eval: false\n",
    "gcm.shape"
   ]
  },
  {
   "cell_type": "code",
   "execution_count": 14,
   "metadata": {},
   "outputs": [
    {
     "data": {
      "text/plain": [
       "dict"
      ]
     },
     "execution_count": 14,
     "metadata": {},
     "output_type": "execute_result"
    }
   ],
   "source": [
    "#| eval: false\n",
    "l_constant = cmmd_output[\"l_constant\"]\n",
    "type(l_constant)"
   ]
  },
  {
   "cell_type": "code",
   "execution_count": 15,
   "metadata": {},
   "outputs": [
    {
     "data": {
      "text/plain": [
       "380"
      ]
     },
     "execution_count": 15,
     "metadata": {},
     "output_type": "execute_result"
    }
   ],
   "source": [
    "#| eval: false\n",
    "len(l_constant.keys())"
   ]
  },
  {
   "cell_type": "code",
   "execution_count": 16,
   "metadata": {},
   "outputs": [
    {
     "data": {
      "text/plain": [
       "dict_keys(['gene_community_matrix', 'l_constant', 'distance_matrix'])"
      ]
     },
     "execution_count": 16,
     "metadata": {},
     "output_type": "execute_result"
    }
   ],
   "source": [
    "cmmd_output.keys()"
   ]
  },
  {
   "cell_type": "code",
   "execution_count": null,
   "metadata": {},
   "outputs": [],
   "source": []
  }
 ],
 "metadata": {
  "kernelspec": {
   "display_name": "python3",
   "language": "python",
   "name": "python3"
  },
  "language_info": {
   "codemirror_mode": {
    "name": "ipython",
    "version": 3
   },
   "file_extension": ".py",
   "mimetype": "text/x-python",
   "name": "python",
   "nbconvert_exporter": "python",
   "pygments_lexer": "ipython3",
   "version": "3.12.5"
  }
 },
 "nbformat": 4,
 "nbformat_minor": 2
}
