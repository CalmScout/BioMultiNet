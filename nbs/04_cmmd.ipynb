{
 "cells": [
  {
   "cell_type": "markdown",
   "metadata": {},
   "source": [
    "# CmmD: Continual Multiplex network Module Detector"
   ]
  },
  {
   "cell_type": "markdown",
   "metadata": {},
   "source": [
    "Python implementation of the algorithm originally proposed in [\"The multilayer community structure of medulloblastoma\" by Iker Núñez-Carpintero et. al.](https://www.sciencedirect.com/science/article/pii/S2589004221003333).\n",
    "\n",
    "Implementation relies on [MolTi-DREAM](https://github.com/gilles-didier/MolTi-DREAM) for communities detection problem.\n",
    "\n",
    "* Make sure to add molti-console as an executable program from any directory by adding it to your ~/.bashrc file. (This file may change depending on your OS ditribution)"
   ]
  },
  {
   "cell_type": "markdown",
   "metadata": {},
   "source": [
    "## 0. Import libraries and define paths"
   ]
  },
  {
   "cell_type": "code",
   "execution_count": 1,
   "metadata": {},
   "outputs": [],
   "source": [
    "import os\n",
    "import sys\n",
    "import subprocess\n",
    "import numpy as np\n",
    "from concurrent.futures import ThreadPoolExecutor\n",
    "from scipy.spatial.distance import pdist, squareform\n",
    "import seaborn as sns\n",
    "import pickle\n",
    "from pathlib import Path\n",
    "import pathlib"
   ]
  },
  {
   "cell_type": "markdown",
   "metadata": {},
   "source": [
    "## 1. Define function for community detection"
   ]
  },
  {
   "cell_type": "code",
   "execution_count": 2,
   "metadata": {},
   "outputs": [],
   "source": [
    "def cmmd(nodelist:list[str]|None=None,\n",
    "         input_layers:list[str]=None,\n",
    "         resolution_start:float=None,\n",
    "         resolution_end:float=None,\n",
    "         interval:float=None, \n",
    "         distmethod:str=\"hamming\",\n",
    "         threads:int=1,\n",
    "         destfile_community_analysis:str=None):\n",
    "    \n",
    "    \"\"\"\n",
    "    Compute CmmD multilayer community trajectory analysis for a set of given networks.\n",
    "\n",
    "    Parameters\n",
    "    ----------\n",
    "    nodelist : list, optional\n",
    "        A list with the unique nodes that we want to appear in the final output. If not given,\n",
    "        all nodes of the multiplex will be in the final output (nodelist= NULL)\n",
    "    input_layers : list\n",
    "        A vector of strings containing the paths where the different network layers are located\n",
    "        in the system. Networks should be a two column file representing the edges of the graph.\n",
    "    resolution_start : float\n",
    "        The first gamma resolution parameter to use in the different MolTi's analysis\n",
    "    resolution_end : float\n",
    "        The last gamma resolution parameter to use in the different MolTi's analysis.\n",
    "    interval : float\n",
    "        The interval of the resolution parameter to use. \n",
    "    distmethod : str, optional\n",
    "        A distance method metric to use to compute the trajectories. Defaults to \"hamming\" for hamming\n",
    "        distance, but accepts any other metric supplied by scipy.spatial.distance.pdist.\n",
    "    threads : int, optional\n",
    "        The number of threads to use for the computation of the distance matrix. Defaults to 1.\n",
    "    destfile_community_analysis : str, optional\n",
    "        The path to save Molti's output files. Defaults to \"Output/\".\n",
    "\n",
    "    Returns\n",
    "    -------\n",
    "    A dictionary containing the following keys:\n",
    "        gene_community_matrix: A matrix where the rows correspond to the different genes, and the columns to the different community structures. The values of the matrix are the cluster to which the gene belongs in the corresponding community structure.\n",
    "        l_constant: A dictionary where the keys are the different community structures, and the values are the list of genes that belong to that community structure.\n",
    "        distance_matrix: A matrix with the hamming distances between all pairs of genes.\n",
    "    \"\"\"\n",
    "    # 0. check input correctness\n",
    "    if input_layers is None or len(input_layers) < 1:\n",
    "        raise ValueError(\"ERROR: Input_layers argument must be a list of at least 1 network file\")\n",
    "    \n",
    "    if not isinstance(resolution_end, (int, float)):\n",
    "        raise ValueError(\"ERROR: Resolution parameter must be a number\")\n",
    "    \n",
    "    if not isinstance(resolution_start, (int, float)):\n",
    "        raise ValueError(\"ERROR: Resolution parameter must be a number\")\n",
    "    \n",
    "    if not isinstance(interval, (int, float)):\n",
    "        raise ValueError(\"ERROR: Interval value must be a number\")\n",
    "    \n",
    "    if not isinstance(destfile_community_analysis, str):\n",
    "        raise ValueError(\"ERROR: destfile_community_analysis expects a character string\")\n",
    "    \n",
    "    assert distmethod in ['braycurtis', 'canberra', 'chebyshev', 'cityblock',\n",
    "                          'correlation', 'cosine', 'dice', 'euclidean', 'hamming',\n",
    "                          'jaccard', 'jensenshannon', 'kulczynski1', 'mahalanobis',\n",
    "                          'matching', 'minkowski', 'rogerstanimoto', 'russellrao',\n",
    "                          'seuclidean', 'sokalmichener', 'sokalsneath', 'sqeuclidean',\n",
    "                          'yule']\n",
    "    \n",
    "    if not isinstance(threads, int):\n",
    "        raise ValueError(\"ERROR: Threads must be a number corresponding to the number of cores available to use\")\n",
    "\n",
    "\n",
    "    def communities_detection(input_layers, resolution_start, resolution_end, interval, destfile_community_analysis, distmethod, threads):\n",
    "        # 1st part: community detection\n",
    "        # Prepare inputs to generate the console order for MolTi's run.\n",
    "        layers = \" \".join(input_layers)\n",
    "        \n",
    "        resolution_interval = np.arange(resolution_start, resolution_end + interval, interval)\n",
    "        desfile_vector = [f\"{destfile_community_analysis}{res}.csv\" for res in resolution_interval]\n",
    "        \n",
    "        # community analysis\n",
    "        for i, current_resolution in enumerate(resolution_interval):\n",
    "            current_destfile = desfile_vector[i]\n",
    "            system_order = f\"molti-console -o {current_destfile} -p {current_resolution} {layers} > /dev/null\"\n",
    "            subprocess.run(system_order, shell=True)\n",
    "\n",
    "    communities_detection(input_layers, resolution_start, resolution_end, interval, destfile_community_analysis, distmethod, threads)\n",
    "\n",
    "\n",
    "    def continual_multiplex_analysis(destfile_community_analysis):\n",
    "\n",
    "\n",
    "        # 2nd part: cmmd\n",
    "        # reading MolTi output files\n",
    "        output_files = [f for f in os.listdir(destfile_community_analysis) if \"_\" not in f]\n",
    "        \n",
    "        alllists = []\n",
    "        \n",
    "        for output_file in output_files:\n",
    "            with open(os.path.join(destfile_community_analysis, output_file), 'r') as file:\n",
    "                red = file.readlines()\n",
    "            \n",
    "            cluster_ids = [i for i, line in enumerate(red) if \"Cluster\" in line]\n",
    "            lista = []\n",
    "            \n",
    "            for j, st in enumerate(cluster_ids):\n",
    "                if j == len(cluster_ids) - 1:\n",
    "                    en = len(red)\n",
    "                else:\n",
    "                    en = cluster_ids[j + 1]\n",
    "                current_cluster = red[st:en]\n",
    "                current_cluster2 = current_cluster[:-2] if j != len(cluster_ids) - 1 else current_cluster[:-1]\n",
    "                lista.append(current_cluster2[1:])\n",
    "            \n",
    "            alllists.append(lista)\n",
    "        \n",
    "        allgenes = list(set([gene for sublist in alllists for cluster in sublist for gene in cluster]))\n",
    "\n",
    "        if nodelist:\n",
    "            allgenes = list(set(allgenes).intersection(nodelist))\n",
    "        \n",
    "        # Calculating Gene/Community matrix\n",
    "        res_matrix = np.zeros((len(allgenes), len(alllists) + 1), dtype=int)\n",
    "        gene_indices = {gene: idx for idx, gene in enumerate(allgenes)}\n",
    "        \n",
    "        for j, output_file_list in enumerate(alllists):\n",
    "            for k, cluster in enumerate(output_file_list):\n",
    "                for gene in cluster:\n",
    "                    res_matrix[gene_indices[gene], j] = k + 1\n",
    "        \n",
    "        patterns = [\"_\".join(map(str, res_matrix[i, :-1])) for i in range(len(allgenes))]\n",
    "        res_matrix[:, -1] = np.array(patterns, dtype=str)\n",
    "        \n",
    "        # porcentajes = np.linspace(0, 100, num=21)\n",
    "        # for i, percentage in enumerate(np.round(np.linspace(0, 100, len(allgenes)), 4)):\n",
    "        #     if percentage in porcentajes:\n",
    "        #         print(f\"Progress: {percentage}%\")\n",
    "        \n",
    "        # Calculating Hamming distances for all gene pairs\n",
    "        gene_community_matrix = res_matrix[:, :-1].astype(int)\n",
    "        genes_same_communities = {pattern: [] for pattern in np.unique(gene_community_matrix[:,-1])}\n",
    "        \n",
    "        for i, pattern in enumerate(gene_community_matrix[:,-1]):\n",
    "            genes_same_communities[pattern].append(allgenes[i])\n",
    "        \n",
    "        with ThreadPoolExecutor(max_workers=threads) as executor:\n",
    "            distance_matrix = squareform(pdist(gene_community_matrix, metric=distmethod))\n",
    "        \n",
    "        final_output = {\n",
    "            \"gene_community_matrix\": gene_community_matrix,\n",
    "            \"l_constant\": genes_same_communities,\n",
    "            \"distance_matrix\": distance_matrix\n",
    "        }\n",
    "        \n",
    "        return final_output\n",
    "    \n",
    "    final_output = continual_multiplex_analysis(destfile_community_analysis)\n",
    "    \n",
    "    return final_output"
   ]
  },
  {
   "cell_type": "code",
   "execution_count": 3,
   "metadata": {},
   "outputs": [],
   "source": [
    "prefix = \"../data/networks-tiny-tiny/\"\n",
    "input_layers = [prefix + \"1.csv\",\n",
    "                prefix + \"2.csv\"]\n",
    "\n",
    "cmmd_output = cmmd(nodelist = None,\n",
    "     input_layers = input_layers,\n",
    "     resolution_start = 0,\n",
    "     resolution_end = 2,\n",
    "     interval = 0.5,\n",
    "     destfile_community_analysis = \"../out/communities/\",\n",
    "     distmethod = \"hamming\",\n",
    "     threads = 6)\n"
   ]
  },
  {
   "cell_type": "markdown",
   "metadata": {},
   "source": [
    "Save object to the disk:"
   ]
  },
  {
   "cell_type": "code",
   "execution_count": 4,
   "metadata": {},
   "outputs": [],
   "source": [
    "# # save object to file\n",
    "# path_save = Path(\"../out/cmmd_pickle/\")\n",
    "# assert path_save.exists()\n",
    "\n",
    "# # pickle the object\n",
    "# with open(path_save / \"cmmd_output.pkl\", 'wb') as handle:\n",
    "#     pickle.dump(cmmd_output, handle, protocol=pickle.HIGHEST_PROTOCOL)"
   ]
  },
  {
   "cell_type": "code",
   "execution_count": 5,
   "metadata": {},
   "outputs": [],
   "source": [
    "# def test_cmmd(cmmd:dict, path_save:pathlib.Path|str=Path(\"../out/cmmd_pickle/cmmd_output.pkl\")) -> None:\n",
    "#     # load the cmmd object\n",
    "#     with open(path_save, 'rb') as handle:\n",
    "#         cmmd_old = pickle.load(handle)\n",
    "#     assert (cmmd[\"distance_matrix\"] == cmmd_old[\"distance_matrix\"]).all()\n",
    "#     assert (cmmd[\"gene_community_matrix\"] == cmmd_old[\"gene_community_matrix\"]).all()\n",
    "#     assert cmmd[\"l_constant\"] == cmmd_old[\"l_constant\"]"
   ]
  },
  {
   "cell_type": "markdown",
   "metadata": {},
   "source": [
    "Confirm new and old objects generate the same output:"
   ]
  },
  {
   "cell_type": "code",
   "execution_count": 6,
   "metadata": {},
   "outputs": [
    {
     "data": {
      "text/plain": [
       "dict_keys(['gene_community_matrix', 'l_constant', 'distance_matrix'])"
      ]
     },
     "execution_count": 6,
     "metadata": {},
     "output_type": "execute_result"
    }
   ],
   "source": [
    "#| eval: false\n",
    "cmmd_output.keys()"
   ]
  },
  {
   "cell_type": "code",
   "execution_count": 7,
   "metadata": {},
   "outputs": [
    {
     "name": "stdout",
     "output_type": "stream",
     "text": [
      "gene_community_matrix\n",
      "[[848 986 961 896 901]\n",
      " [938 751 908 984 901]\n",
      " [784 890 991 984 901]\n",
      " ...\n",
      " [969 935 842 902 901]\n",
      " [  0 310   0   0 901]\n",
      " [966 751 644 860 901]]\n",
      "********************\n",
      "l_constant\n",
      "{np.int64(20): ['SLC18A1\\n', 'DDC\\n'], np.int64(60): ['RDH13\\n'], np.int64(126): ['OAT\\n'], np.int64(143): ['SLC6A14\\n', 'SLC43A2\\n', 'SLC6A19\\n'], np.int64(168): ['TYR\\n', 'SLC7A8\\n', 'TH\\n'], np.int64(195): ['HS3ST3A1\\n'], np.int64(227): ['CYP2D6\\n'], np.int64(239): ['CYP2C9\\n'], np.int64(308): ['SLC9A4\\n'], np.int64(443): ['HACD1\\n'], np.int64(448): ['GCSH\\n'], np.int64(450): ['NDUFAB1\\n', 'NDUFAF7\\n'], np.int64(466): ['NDUFA5\\n'], np.int64(478): ['NDUFC1\\n'], np.int64(482): ['SARDH\\n', 'CHDH\\n'], np.int64(514): ['DLAT\\n'], np.int64(522): ['SLC36A4\\n'], np.int64(553): ['SLC5A10\\n', 'SLC2A6\\n'], np.int64(582): ['DAO\\n'], np.int64(588): ['KCNQ4\\n'], np.int64(589): ['ADAMTS16\\n'], np.int64(590): ['SLITRK1\\n'], np.int64(591): ['HCN1\\n'], np.int64(592): ['KCNG2\\n'], np.int64(593): ['PXN\\n', 'MYL6\\n', 'TPM4\\n', 'DMD\\n'], np.int64(594): ['HPRT1\\n'], np.int64(595): ['DUS2\\n'], np.int64(596): ['EXOSC1\\n'], np.int64(597): ['TIMM9\\n'], np.int64(598): ['ADAT2\\n'], np.int64(599): ['GABRR3\\n', 'GABRR2\\n'], np.int64(600): ['PDK4\\n'], np.int64(601): ['ZNF383\\n'], np.int64(602): ['GRPEL1\\n'], np.int64(603): ['CNOT6\\n'], np.int64(604): ['ESAM\\n'], np.int64(605): ['EIF2AK2\\n', 'MX1\\n'], np.int64(606): ['MRPL37\\n'], np.int64(607): ['PLEKHA3\\n'], np.int64(608): ['ARPC3\\n', 'EFNB1\\n'], np.int64(609): ['ZNF521\\n'], np.int64(610): ['LYPD4\\n'], np.int64(611): ['ITFG2\\n'], np.int64(612): ['DDX23\\n'], np.int64(613): ['MMP20\\n'], np.int64(614): ['FNBP1L\\n'], np.int64(615): ['KRTAP12-1\\n'], np.int64(616): ['PRKD1\\n'], np.int64(617): ['DOT1L\\n'], np.int64(618): ['KRTAP10-6\\n'], np.int64(619): ['CHAC2\\n'], np.int64(620): ['UCHL3\\n'], np.int64(621): ['JMJD1C\\n', 'GATA6\\n'], np.int64(622): ['LRP12\\n'], np.int64(623): ['MUC17\\n'], np.int64(624): ['FANCF\\n'], np.int64(625): ['LILRB5\\n'], np.int64(626): ['NMNAT3\\n'], np.int64(627): ['WNT10A\\n'], np.int64(628): ['SDHB\\n', 'NDUFS6\\n', 'NDUFS1\\n', 'COQ10A\\n', 'NDUFB2\\n', 'NDUFS2\\n', 'UQCR11\\n', 'LRPPRC\\n'], np.int64(629): ['GJB4\\n', 'GJD2\\n'], np.int64(630): ['MMGT1\\n', 'LRRC8C\\n'], np.int64(631): ['TMEM132A\\n'], np.int64(632): ['BLOC1S4\\n'], np.int64(633): ['HTD2\\n'], np.int64(634): ['TNFSF13\\n', 'TNFRSF11B\\n'], np.int64(635): ['CACNA1S\\n'], np.int64(636): ['MUC12\\n', 'GALNT16\\n'], np.int64(637): ['ADPGK\\n'], np.int64(638): ['ENPEP\\n'], np.int64(639): ['PARVA\\n'], np.int64(640): ['NOX4\\n'], np.int64(641): ['TTC37\\n'], np.int64(642): ['AK5\\n'], np.int64(643): ['SOCS5\\n'], np.int64(644): ['IPPK\\n'], np.int64(645): ['AK6\\n'], np.int64(646): ['TPI1\\n'], np.int64(647): ['DOK6\\n'], np.int64(648): ['TEX101\\n', 'RAET1L\\n'], np.int64(649): ['ENO2\\n'], np.int64(650): ['BRPF3\\n'], np.int64(651): ['TRIM11\\n'], np.int64(652): ['PTGR1\\n'], np.int64(653): ['SLC29A1\\n', 'SLC29A2\\n'], np.int64(654): ['KRTAP10-3\\n'], np.int64(655): ['CD163\\n'], np.int64(656): ['GPIHBP1\\n'], np.int64(657): ['FKBP14\\n'], np.int64(658): ['MT-ND1\\n', 'NDUFB10\\n', 'NDUFA11\\n', 'NDUFB8\\n', 'NUBPL\\n', 'NDUFB9\\n', 'NDUFAF4\\n', 'NDUFB4\\n', 'SCO1\\n', 'NDUFA10\\n', 'NDUFA3\\n', 'NDUFB7\\n'], np.int64(659): ['POLD2\\n', 'HMGN1\\n'], np.int64(660): ['DENND1B\\n'], np.int64(661): ['RBL2\\n'], np.int64(662): ['SFTPA1\\n'], np.int64(663): ['TOMM22\\n'], np.int64(664): ['ZNF439\\n'], np.int64(665): ['AMBRA1\\n', 'TBC1D7\\n'], np.int64(666): ['IL31RA\\n'], np.int64(667): ['CD1B\\n', 'PILRA\\n'], np.int64(668): ['TPGS1\\n'], np.int64(669): ['SBSPON\\n'], np.int64(670): ['LCLAT1\\n'], np.int64(671): ['MAN2A2\\n', 'COG3\\n'], np.int64(672): ['NIPAL1\\n', 'NIPAL4\\n'], np.int64(673): ['IFNA13\\n', 'IRF5\\n'], np.int64(674): ['ATP6V1E2\\n'], np.int64(675): ['STX17\\n'], np.int64(676): ['TBC1D10A\\n'], np.int64(677): ['LY6G6D\\n'], np.int64(678): ['CHCHD5\\n'], np.int64(679): ['OCLN\\n'], np.int64(680): ['RBM28\\n', 'NOL9\\n'], np.int64(681): ['PLET1\\n'], np.int64(682): ['RIC1\\n'], np.int64(683): ['PLA2G4D\\n'], np.int64(684): ['TIMM23\\n'], np.int64(685): ['VPS29\\n'], np.int64(686): ['CYP4A22\\n'], np.int64(687): ['PLAAT5\\n'], np.int64(688): ['HTR2B\\n', 'ARHGEF25\\n'], np.int64(689): ['TCAP\\n'], np.int64(690): ['TXNRD2\\n', 'GPX8\\n'], np.int64(691): ['NT5C1B\\n'], np.int64(692): ['PLA2G2F\\n'], np.int64(693): ['GPHB5\\n'], np.int64(694): ['UGT1A5\\n'], np.int64(695): ['PPP6R3\\n'], np.int64(696): ['MED28\\n'], np.int64(697): ['MCEE\\n'], np.int64(698): ['TAAR5\\n', 'INSL3\\n', 'RXFP2\\n', 'CRHR1\\n'], np.int64(699): ['FZD6\\n', 'RYK\\n'], np.int64(700): ['TPCN1\\n'], np.int64(701): ['GPAT2\\n', 'LIPH\\n'], np.int64(702): ['POC1B-GALNT4\\n'], np.int64(703): ['CHMP5\\n', '155908\\n'], np.int64(704): ['ADAMTS15\\n', 'SPON2\\n'], np.int64(705): ['PRKCI\\n'], np.int64(706): ['SMYD2\\n'], np.int64(707): ['PAM16\\n', 'USP17L5\\n', 'TIMM17B\\n', 'TIMM8B\\n', 'HSPA9\\n', 'CHCHD4\\n'], np.int64(708): ['VNN3\\n'], np.int64(709): ['SLC17A5\\n'], np.int64(710): ['THSD7A\\n'], np.int64(711): ['886418\\n'], np.int64(712): ['ZNF124\\n'], np.int64(713): ['SMAD9\\n', 'ACVRL1\\n'], np.int64(714): ['AZGP1\\n'], np.int64(715): ['MAX\\n'], np.int64(716): ['CHMP6\\n'], np.int64(717): ['DYNLRB2\\n'], np.int64(718): ['TNNI2\\n'], np.int64(719): ['KRTAP5-7\\n'], np.int64(720): ['NEIL3\\n'], np.int64(721): ['CHCHD10\\n'], np.int64(722): ['NDUFAF6\\n'], np.int64(723): ['CLTA\\n', 'SH3KBP1\\n', 'PCSK9\\n'], np.int64(724): ['SESN2\\n'], np.int64(725): ['COX16\\n', 'SESN3\\n'], np.int64(726): ['TMOD3\\n'], np.int64(727): ['TRIM72\\n'], np.int64(728): ['CYFIP2\\n'], np.int64(729): ['JAK3\\n'], np.int64(730): ['ABCG1\\n'], np.int64(731): ['AMD1\\n'], np.int64(732): ['LPIN3\\n'], np.int64(733): ['KCNK13\\n', 'KCNK2\\n'], np.int64(734): ['TNS4\\n'], np.int64(735): ['ANKRD27\\n'], np.int64(736): ['KCNK17\\n'], np.int64(737): ['KIR2DL3\\n'], np.int64(738): ['ENPP7\\n'], np.int64(739): ['ST3GAL6\\n'], np.int64(740): ['GALNT11\\n'], np.int64(741): ['REPS1\\n', 'SYT12\\n', 'VAMP4\\n', 'STON1-GTF2A1L\\n', 'NECAP1\\n'], np.int64(742): ['NRP1\\n'], np.int64(743): ['BMT2\\n', 'FNIP1\\n'], np.int64(744): ['888777\\n'], np.int64(745): ['FCSK\\n'], np.int64(746): ['KLHL13\\n'], np.int64(747): ['EPB41L3\\n'], np.int64(748): ['CHCHD3\\n', 'ATP5ME\\n'], np.int64(749): ['ZNF740\\n', 'ZNF226\\n'], np.int64(750): ['ADAMTS13\\n'], np.int64(751): ['KRTAP5-3\\n'], np.int64(752): ['PPP1CB\\n', 'NR1D1\\n', 'PPP1CA\\n', 'SIRT1\\n'], np.int64(753): ['KCNA7\\n'], np.int64(754): ['DEFB107A\\n', 'DEFB103A\\n', 'DEFB115\\n', 'DEFA3\\n'], np.int64(755): ['MTMR2\\n'], np.int64(756): ['SYT10\\n'], np.int64(757): ['DENND1A\\n'], np.int64(758): ['GDAP1\\n', 'PEX14\\n', 'SLC25A17\\n', 'PEX3\\n'], np.int64(759): ['3636229\\n'], np.int64(760): ['NSMCE4A\\n'], np.int64(761): ['TNFSF4\\n'], np.int64(762): ['SAG\\n'], np.int64(763): ['DSE\\n'], np.int64(764): ['CNOT7\\n'], np.int64(765): ['DENND6B\\n'], np.int64(766): ['GNPAT\\n'], np.int64(767): ['YIPF6\\n'], np.int64(768): ['TRIM34\\n'], np.int64(769): ['KLRG1\\n'], np.int64(770): ['3361714\\n'], np.int64(771): ['LMF1\\n'], np.int64(772): ['KIF27\\n', 'KDELR1\\n', 'KIF1B\\n'], np.int64(773): ['CERS4\\n', 'SPHK2\\n'], np.int64(774): ['ADAMTS1\\n', 'PLG\\n', 'ADAMTS18\\n'], np.int64(775): ['ZNF480\\n', 'ZNF169\\n'], np.int64(776): ['CACNG6\\n'], np.int64(777): ['DEFB112\\n'], np.int64(778): ['ELAC2\\n'], np.int64(779): ['ITGA8\\n'], np.int64(780): ['RFT1\\n'], np.int64(781): ['ATP2B1\\n', 'ATP7B\\n', 'ATP8B3\\n', 'ATP10A\\n'], np.int64(782): ['MUC16\\n'], np.int64(783): ['SNRPD2\\n', 'ZRSR2\\n', 'SMNDC1\\n'], np.int64(784): ['ARAP1\\n'], np.int64(785): ['CHCHD7\\n', 'TIMM10B\\n'], np.int64(786): ['MUC13\\n'], np.int64(787): ['ARFIP2\\n'], np.int64(788): ['LCE1F\\n', 'LCE1D\\n'], np.int64(789): ['THSD4\\n'], np.int64(790): ['RAB39B\\n', 'RAB17\\n'], np.int64(791): ['DMAC2L\\n'], np.int64(792): ['CHRNA4\\n'], np.int64(793): ['ALS2CL\\n', 'TRAPPC5\\n'], np.int64(794): ['NR2C2\\n'], np.int64(795): ['PRLH\\n'], np.int64(796): ['LIPF\\n'], np.int64(797): ['CASTOR2\\n'], np.int64(798): ['KRT19\\n'], np.int64(799): ['PARD6B\\n'], np.int64(800): ['ANKLE2\\n'], np.int64(801): ['KIF20B\\n', 'NSF\\n'], np.int64(802): ['MUC19\\n'], np.int64(803): ['PJA2\\n'], np.int64(804): ['ATP6V0D2\\n'], np.int64(805): ['CDK19\\n'], np.int64(806): ['SLC41A2\\n'], np.int64(807): ['NRBP1\\n', 'NR2F1\\n'], np.int64(808): ['SF3B5\\n'], np.int64(809): ['CLCA4\\n'], np.int64(810): ['GPHN\\n'], np.int64(811): ['OTC\\n', 'TIMM10\\n'], np.int64(812): ['3644711\\n', 'PLA2G1B\\n', 'PLA2G4E\\n'], np.int64(813): ['RAB1B\\n'], np.int64(814): ['IL1RAPL2\\n'], np.int64(815): ['CFLAR\\n', 'FADD\\n', 'CDC25B\\n'], np.int64(816): ['RPEL1\\n'], np.int64(817): ['KDELR3\\n'], np.int64(818): ['ABI2\\n'], np.int64(819): ['TRMT10A\\n'], np.int64(820): ['PDE10A\\n', 'TAAR8\\n'], np.int64(821): ['PGLYRP2\\n'], np.int64(822): ['KRT79\\n'], np.int64(823): ['MDH1\\n'], np.int64(824): ['IFNL1\\n'], np.int64(825): ['UBQLN1\\n'], np.int64(826): ['MT-ND2\\n', 'MT-ND5\\n', 'NDUFS7\\n', 'NDUFAF3\\n', 'NDUFA13\\n'], np.int64(827): ['HIRA\\n'], np.int64(828): ['ST3GAL1\\n', 'ST6GAL2\\n'], np.int64(829): ['E2F4\\n'], np.int64(830): ['AP4E1\\n'], np.int64(831): ['TTLL9\\n'], np.int64(832): ['MYBPC2\\n', 'SORBS1\\n', 'TPM2\\n'], np.int64(833): ['CACNG4\\n', 'CACNG8\\n'], np.int64(834): ['PAOX\\n'], np.int64(835): ['ENAH\\n'], np.int64(836): ['GSTO1\\n'], np.int64(837): ['MT1G\\n'], np.int64(838): ['TNXB\\n'], np.int64(839): ['XBP1\\n'], np.int64(840): ['FMOD\\n'], np.int64(841): ['CATSPERD\\n'], np.int64(842): ['PTHLH\\n'], np.int64(843): ['PLA2R1\\n', 'GPAT4\\n'], np.int64(844): ['WNK2\\n'], np.int64(845): ['CACNA2D3\\n', 'CACNB2\\n'], np.int64(846): ['ARAP3\\n'], np.int64(847): ['NR2C2AP\\n'], np.int64(848): ['ATP4A\\n'], np.int64(849): ['PARD6G\\n'], np.int64(850): ['KDM2A\\n'], np.int64(851): ['ZFP69B\\n'], np.int64(852): ['TTC21B\\n', 'UCN2\\n'], np.int64(853): ['NTS\\n'], np.int64(854): ['TBC1D17\\n'], np.int64(855): ['NT5C1B-RDH14\\n'], np.int64(856): ['CLCA1\\n'], np.int64(857): ['CASTOR1\\n'], np.int64(858): ['NGEF\\n'], np.int64(859): ['KCNU1\\n'], np.int64(860): ['CACNA2D2\\n', 'SCN4A\\n'], np.int64(861): ['ST8SIA2\\n'], np.int64(862): ['FAAP100\\n'], np.int64(863): ['CASC3\\n'], np.int64(864): ['PARP9\\n'], np.int64(865): ['IL18R1\\n'], np.int64(866): ['MLKL\\n', 'TRPC1\\n'], np.int64(867): ['DSC3\\n', 'KRTAP19-6\\n', 'KRT18\\n'], np.int64(868): ['VAC14\\n'], np.int64(869): ['MRGBP\\n'], np.int64(870): ['MIGA2\\n'], np.int64(871): ['RBP4\\n'], np.int64(872): ['LTBP3\\n'], np.int64(873): ['GLTP\\n', 'SUMF1\\n', 'B4GALNT1\\n'], np.int64(874): ['ATP10D\\n'], np.int64(875): ['MED9\\n'], np.int64(876): ['PRKG2\\n'], np.int64(877): ['TCHH\\n', 'KRT37\\n'], np.int64(878): ['OPN1MW3\\n'], np.int64(879): ['ZNF558\\n'], np.int64(880): ['APOBEC4\\n'], np.int64(881): ['COL25A1\\n'], np.int64(882): ['CLEC4G\\n'], np.int64(883): ['DEFB130A\\n', 'DEFB113\\n', 'DEFB131A\\n', 'DEFA5\\n', 'DEFB136\\n'], np.int64(884): ['PLXNA3\\n'], np.int64(885): ['DEPDC7\\n', 'ARHGAP11A\\n'], np.int64(886): ['UGT2A2\\n'], np.int64(887): ['CNTN3\\n'], np.int64(888): ['NIPA2\\n'], np.int64(889): ['EP400\\n'], np.int64(890): ['ARHGEF6\\n'], np.int64(891): ['INPP5E\\n'], np.int64(892): ['KRTAP8-1\\n', 'KRTAP13-2\\n', 'KRTAP2-4\\n', 'KRT6B\\n', 'KRTAP19-3\\n', 'KRT28\\n', 'KRT77\\n', 'CSTA\\n', 'PCSK6\\n', 'KRT5\\n', 'KRTAP27-1\\n', 'KRTAP4-8\\n', 'LORICRIN\\n', 'KRTAP17-1\\n', 'PRSS8\\n'], np.int64(893): ['NME3\\n'], np.int64(894): ['TNNT1\\n', 'MYH3\\n', 'MYL4\\n'], np.int64(895): ['ADAMTS20\\n'], np.int64(896): ['MSL1\\n'], np.int64(897): ['CYP4F22\\n'], np.int64(898): ['PLCD4\\n'], np.int64(899): ['ACBD7\\n'], np.int64(900): ['ECE2\\n'], np.int64(901): ['ZNF500\\n', '904054\\n', 'PKP1\\n', 'ASB16\\n', 'JUND\\n', 'GABARAPL1\\n', 'CD59\\n', 'USP17L19\\n', 'CDC5L\\n', 'H2BC7\\n', 'NUCB1\\n', 'OR5J2\\n', 'FGF17\\n', 'IL18BP\\n', 'RPA1\\n', 'CCT5\\n', 'ARHGAP20\\n', 'PMF1-BGLAP\\n', 'KCNH6\\n', 'RPL36AL\\n', 'HSPH1\\n', 'TAAR9\\n', 'CEP72\\n', 'FMNL1\\n', 'LHX4\\n', 'ZNF716\\n', 'DYNC1LI2\\n', 'PRKACB\\n', 'IGFBP5\\n', 'PSMA2\\n', 'RAB4A\\n', 'OR4D10\\n', 'KLHL3\\n', 'PDAP1\\n', 'CDKN2B\\n', 'ZNF248\\n', 'SYCE2\\n', 'RAMP3\\n', 'OR6B2\\n', 'ZFP28\\n', 'SNX3\\n', 'KITLG\\n', 'RAP1B\\n', 'SIAH1\\n', 'PERP\\n', 'MAP3K14\\n', 'HSD3B1\\n', 'CD33\\n', 'NAPG\\n', 'SPPL2B\\n', 'RNASET2\\n', 'OR2G2\\n', 'DERL1\\n', 'CKS1B\\n', 'GRK3\\n', 'LMAN2\\n', 'TNNC1\\n', 'PDE6A\\n', 'FBXO11\\n', 'PTK2B\\n', 'HRH4\\n', 'MDM4\\n', 'TRAPPC2\\n', 'IFNA4\\n', 'OR2AE1\\n', 'SSR2\\n', 'CHD9\\n', 'CLASP2\\n', 'CSPG4\\n', 'POLB\\n', 'OR4F5\\n', 'GP6\\n', 'CXCL2\\n', 'FCER2\\n', 'GPS2\\n', 'KRT15\\n', 'COPS5\\n', 'OR5K2\\n', 'VNN1\\n', 'H3-3B\\n', 'MELTF\\n', 'OR5P2\\n', 'GLE1\\n', 'ZNF528\\n', 'ZNF347\\n', 'YWHAB\\n', 'RPP14\\n', 'DLC1\\n', 'BTC\\n', 'MFN1\\n', 'SIGLEC8\\n', 'CXCL12\\n', 'MVP\\n', '956532\\n', 'ZNF705G\\n', 'EGF\\n', 'SEC61B\\n', 'ZNF227\\n', 'CDK13\\n', 'ZFP2\\n', 'RNF19A\\n', 'SDR9C7\\n', 'PRKAR1B\\n', 'RPL32\\n', 'INTS9\\n', 'SPINK9\\n', 'U2AF1L5\\n', 'CDH2\\n', 'ZNF442\\n', 'MNDA\\n', 'H3-3A\\n', 'ARHGAP45\\n', 'SNCA\\n', 'UBD\\n', 'ARNT\\n', 'SRGAP2\\n', 'NR1H3\\n', 'CENPI\\n', 'HLA-DPA1\\n', 'FCGR3B\\n', 'CLEC7A\\n', 'RHOD\\n', 'KIF11\\n', 'PROK1\\n', 'OR2C1\\n', 'RPS19BP1\\n', 'SSR1\\n', 'USP8\\n', 'ZNF691\\n', 'TAF9B\\n', 'DYNC1I1\\n', 'KRTAP23-1\\n', 'CDK1\\n', 'CALM3\\n', 'KIF5A\\n', 'ARHGEF35\\n', 'CFD\\n', 'GCA\\n', 'TAOK1\\n', 'KRTAP4-9\\n', 'SF3B2\\n', 'RUNX1\\n', 'PJA1\\n', 'ZNF589\\n', 'OR10G4\\n', 'GHSR\\n', 'CEP250\\n', 'COX18\\n', 'ZNF138\\n', 'POLR2C\\n', 'NDEL1\\n', 'U2AF1\\n', 'HAUS8\\n', 'ZNF747\\n', 'RAB6A\\n', 'TICAM1\\n', 'ICAM3\\n', 'RPL35\\n', 'UBE2O\\n', 'EIF3I\\n', 'ORM2\\n', 'OR7A5\\n', 'OR2G3\\n', 'TSPAN5\\n', 'IMPDH1\\n', 'SERPIND1\\n', 'CTSC\\n', 'GPLD1\\n', 'GABPB1\\n', 'WDR3\\n', 'PLCG1\\n', 'GZMH\\n', 'AGXT2\\n', 'MCM6\\n', 'AMER1\\n', 'EPHA2\\n', 'ZNF770\\n', 'DAB2\\n', 'USP17L3\\n', 'AVP\\n', 'GATAD2B\\n', 'SOCS6\\n', 'CUL5\\n', 'ZFP90\\n', 'AHRR\\n', 'KCNS3\\n', 'AKT1\\n', 'IKBKG\\n', 'ALDH1B1\\n', 'CENPL\\n', 'BUB1B\\n', 'HEYL\\n', 'POLR2D\\n', 'A2M\\n', 'COL6A3\\n', 'RNASE1\\n', 'AHI1\\n', 'NEURL2\\n', 'HLA-DPB1\\n', 'TGM1\\n', 'DMBT1\\n', 'ASB4\\n', 'IFT46\\n', 'ALDH9A1\\n', 'COL26A1\\n', 'KNL1\\n', 'OR5M1\\n', 'RAD51B\\n', 'MINK1\\n', 'KIF13B\\n', 'OR5C1\\n', 'CGA\\n', 'CXCL3\\n', 'MED8\\n', 'FOLR1\\n', 'GEN1\\n', 'PAK2\\n', 'NXF2B\\n', 'SMG1\\n', 'EVL\\n', 'PRL\\n', 'USP15\\n', 'PHLPP1\\n', 'HEATR1\\n', 'LCE6A\\n', 'NIT2\\n', 'AVPR1B\\n', 'EPS15L1\\n', 'UBE2E1\\n', 'ETS1\\n', 'NDUFB3\\n', 'OR2A42\\n', 'ABI1\\n', 'COL6A5\\n', 'TUBA3E\\n', 'SCUBE3\\n', 'VDAC2\\n', 'RAB27B\\n', 'CD300A\\n', 'ESRRA\\n', 'OR51A2\\n', 'ATP6V0C\\n', 'SESN1\\n', 'EXO1\\n', 'CREG1\\n', 'UBXN7\\n', 'PRMT5\\n', 'GSTK1\\n', 'ADCY1\\n', 'OR5AP2\\n', 'FPR1\\n', 'CTH\\n', 'GPX7\\n', 'DERA\\n', 'EPHA4\\n', 'XCR1\\n', 'OSM\\n', 'OR10R2\\n', 'ARHGEF15\\n', 'MGAM\\n', 'OR2L3\\n', 'PPIE\\n', 'PLXNB1\\n', 'B4GALT7\\n', 'KRTAP10-12\\n', 'OR56A4\\n', 'NECAP2\\n', 'PTPRJ\\n', 'SYT5\\n', 'RORA\\n', 'IVL\\n', 'CDC42\\n', 'ZNF41\\n', 'OR4C15\\n', 'SF3B3\\n', 'ALDH1A3\\n', 'SPRED1\\n', 'EVA1A\\n', 'OR7G1\\n', 'CHTOP\\n', 'SF3B6\\n', 'USP17L30\\n', 'SERPINA3\\n', 'UEVLD\\n', 'YWHAZ\\n', 'TAS2R39\\n', 'HSPA1B\\n', 'CDK7\\n', 'OPTN\\n', 'CNKSR2\\n', 'NMU\\n', 'PADI1\\n', 'COL7A1\\n', 'WWC1\\n', '100861532\\n', 'IFITM1\\n', 'AXIN2\\n', 'ADGRE3\\n', 'KRTAP4-2\\n', 'PCGF2\\n', 'BCAN\\n', 'CCKAR\\n', 'RIOK1\\n', 'KIF24\\n', 'KLK5\\n', 'BRPF1\\n', 'LHFPL2\\n', 'GRK2\\n', 'CAND1\\n', 'FPR2\\n', 'YWHAQ\\n', 'GTF2H2\\n', 'B9D1\\n', 'TNFSF12\\n', 'CUL2\\n', 'PSMC3IP\\n', 'ARID2\\n', 'BTBD1\\n', 'KMT2C\\n', 'OR4A15\\n', 'FAF2\\n', 'ERLEC1\\n', 'CTSK\\n', 'RINL\\n', 'POLG2\\n', 'ATP6V1H\\n', 'SEC13\\n', 'HECTD2\\n', 'PICK1\\n', 'CAB39L\\n', 'RPL23A\\n', 'RPS3A\\n', 'PF4\\n', 'UBE3C\\n', 'TFRC\\n', 'TMED10\\n', 'PIK3R3\\n', 'DYNLT1\\n', 'CENPA\\n', 'CPSF1\\n', 'ARCN1\\n', 'OR4C11\\n', 'MTNR1B\\n', 'PELI3\\n', 'TRIM25\\n', 'DSG4\\n', 'LAMP1\\n', 'RPL13A\\n', 'FCGR1A\\n', 'ARHGEF2\\n', 'TREM1\\n', 'EYA1\\n', 'SEM1\\n', 'B9D2\\n', 'KCNAB1\\n', 'ATF2\\n', 'GCC1\\n', 'INS\\n', 'RUNX2\\n', 'UBE2V2\\n', 'GTPBP2\\n', 'ICAM2\\n', 'SRSF7\\n', 'TAGLN2\\n', 'JUP\\n', 'GHRHR\\n', 'NRG3\\n', 'FBXL22\\n', 'ELOC\\n', 'TMSB4X\\n', 'RAD23B\\n', 'CFTR\\n', 'RPS15A\\n', 'KCNC2\\n', 'ROBO2\\n', 'KDM2B\\n', 'KIF4B\\n', 'CUL1\\n', 'ZNF777\\n', 'MIB2\\n', 'TAF1\\n', 'CCL21\\n', 'DMAP1\\n', 'H4C6\\n', 'ZNF668\\n', 'OR52A1\\n', 'ZNF540\\n', 'USP44\\n', 'HTR1B\\n', 'MTMR3\\n', 'OR1J4\\n', 'PSMC3\\n', 'SEC22B\\n', 'EPHA7\\n', 'PEBP1\\n', 'RBBP7\\n', 'ADORA1\\n', 'GRM8\\n', 'RPS20\\n', 'CARD9\\n', 'SATB2\\n', 'CASP3\\n', 'HOXA2\\n', 'WDR33\\n', 'OR51G1\\n', 'NR6A1\\n', 'SSTR2\\n', 'LSM7\\n', 'ELOA\\n', 'TLN1\\n', 'HUWE1\\n', 'YES1\\n', 'CIAO2B\\n', 'TRIP10\\n', 'PYGO1\\n', 'KRTAP5-8\\n', 'AOX1\\n', 'CTCF\\n', 'ZNRF1\\n', 'CXCL6\\n', 'TGFB2\\n', 'KRT26\\n', 'RAB5A\\n', 'SERPINB1\\n', 'HDAC2\\n', 'GH2\\n', 'RPL28\\n', 'ZNF302\\n', 'NCAPD3\\n', 'C4B\\n', 'CEACAM5\\n', 'PMVK\\n', 'RAPGEF2\\n', 'CDCA5\\n', 'H2BC10\\n', 'USP4\\n', 'KLC1\\n', 'TGFBR2\\n', 'OR6C68\\n', 'KRT82\\n', 'SYVN1\\n', 'RBM5\\n', 'RPL10A\\n', 'LILRA2\\n', 'OR2L13\\n', 'CDC26\\n', 'CHRM5\\n', 'OGT\\n', 'ZNF718\\n', 'SNU13\\n', 'VPREB1\\n', 'COL4A1\\n', 'PHC3\\n', 'POLR1D\\n', 'TCN1\\n', '162699\\n', 'JUN\\n', 'TRHR\\n', 'COLGALT2\\n', 'RAB1A\\n', 'SNRNP27\\n', 'PITPNA\\n', 'ZNF660\\n', 'GPRC6A\\n', 'HLA-DOA\\n', 'FCF1\\n', 'COMMD5\\n', 'EIF4A2\\n', 'MED31\\n', 'PPP2R5C\\n', 'ABRAXAS1\\n', 'ADAM22\\n', 'ZNF75A\\n', 'TUBB\\n', 'NCBP2\\n', 'PAIP1\\n', 'NPBWR2\\n', 'NTHL1\\n', 'SMG9\\n', 'KIF21A\\n', 'PPP2R5E\\n', 'GPAM\\n', 'SUPT7L\\n', 'ASB10\\n', 'TP53RK\\n', 'CXCR3\\n', 'CRTC1\\n', 'ZNF221\\n', 'ZNF143\\n', 'DECR2\\n', 'RBM4\\n', 'ZNF506\\n', 'POLR2A\\n', 'RPS18\\n', 'SF3B1\\n', 'FGF1\\n', 'ELAVL2\\n', 'FLNA\\n', 'MTHFD1L\\n', 'PLPP2\\n', 'CXCR2\\n', 'UBE2D3\\n', 'SERPING1\\n', 'TAF1A\\n', 'ZNF230\\n', 'NUP42\\n', 'CLTCL1\\n', 'NCAM1\\n', 'LTA4H\\n', 'KRT40\\n', 'CHMP4B\\n', 'GPC2\\n', 'UBAP1\\n', 'UBE2B\\n', 'WNT2B\\n', 'COL9A2\\n', 'FBXO7\\n', 'ZNF600\\n', 'CREM\\n', 'ZNF730\\n', 'KRTAP9-8\\n', 'FABP5\\n', 'PRSS3\\n', 'BBOX1\\n', 'COL6A2\\n', 'MED16\\n', 'S100A8\\n', 'MLEC\\n', 'S100A11\\n', 'WASF3\\n', 'H4C4\\n', 'GRIN2C\\n', 'MED22\\n', 'VPS45\\n', 'ACADS\\n', 'RFC3\\n', 'PIAS3\\n', 'CENPF\\n', 'H3C8\\n', 'DENND4A\\n', 'EIF3B\\n', 'GRIA1\\n', 'ERBB3\\n', 'RNF128\\n', 'YEATS2\\n', 'HAUS6\\n', 'ADH1B\\n', 'RHOA\\n', 'LPAR2\\n', 'ZNF485\\n', 'KRT36\\n', 'ADRA2A\\n', 'CBX4\\n', 'CENPH\\n', 'TRNT1\\n', 'BAG5\\n', 'PDGFRB\\n', 'ALDOA\\n', 'COPS3\\n', 'ZNF334\\n', 'ZNF585B\\n', 'CD200\\n', 'OR8D1\\n', 'PCNA\\n', 'JADE2\\n', 'ZNF25\\n', 'PTPRA\\n', 'NAE1\\n', 'NDRG1\\n', 'EPAS1\\n', 'KRTAP4-5\\n', 'CLCN2\\n', 'ASB9\\n', 'EAF1\\n', 'TGOLN2\\n', 'OR52Z1\\n', 'GATA1\\n', 'OR9I1\\n', 'ELP6\\n', 'ACTR1B\\n', 'TADA3\\n', 'RB1\\n', 'DLG1\\n', 'COL8A1\\n', 'PADI2\\n', 'CALCR\\n', 'CCL19\\n', 'SPTA1\\n', 'CD68\\n', 'CD4\\n', 'VHL\\n', 'YWHAG\\n', 'NTN4\\n', 'ZNF554\\n', 'CBX2\\n', 'DNAJC3\\n', 'RUNX3\\n', 'PKNOX1\\n', 'JAK2\\n', 'SOD1\\n', 'SMARCA2\\n', 'CYB5R3\\n', 'RAB7A\\n', 'DENND2A\\n', 'ATP11B\\n', 'PMF1\\n', 'SDS\\n', 'FLNB\\n', 'NUP160\\n', 'FGF5\\n', 'OR1L8\\n', 'HSF1\\n', 'BRD8\\n', 'SPP1\\n', 'MBD1\\n', 'EPC1\\n', 'CHRDL1\\n', 'PRKAA2\\n', 'SAA1\\n', 'DDAH1\\n', 'ACTR10\\n', 'MAML2\\n', 'MAFB\\n', 'OR2B11\\n', 'TLR10\\n', 'CALU\\n', 'OR2T35\\n', 'OR52I2\\n', 'AADAC\\n', 'PRKAB1\\n', 'RPP38\\n', 'TRIO\\n', 'SPTBN1\\n', 'KDM5B\\n', 'ATP1B3\\n', 'TFAP2A\\n', 'CDK5R1\\n', 'POU2F1\\n', 'KLRF1\\n', 'PPIH\\n', 'EIF4G1\\n', 'CCNH\\n', 'HECW2\\n', 'ELN\\n', 'GMNN\\n', 'BCL9L\\n', 'DDA1\\n', 'ARHGEF39\\n', 'ANO6\\n', 'SF3A1\\n', 'SRSF9\\n', 'FOLR3\\n', 'CLEC2B\\n', 'PECAM1\\n', 'CRK\\n', 'ATP1B1\\n', 'ZNF706\\n', 'TAS1R2\\n', 'PTTG1\\n', 'RPL31\\n', 'ZNF680\\n', 'CSK\\n', 'RCHY1\\n', 'ITGB8\\n', 'TAS2R40\\n', 'OR5B3\\n', 'KRTAP25-1\\n', 'LRRC41\\n', 'OR2G6\\n', 'INTS13\\n', 'OR52N4\\n', 'HSP90AA1\\n', 'PNP\\n', 'SBF2\\n', 'VAMP2\\n', 'DDB1\\n', 'RPS24\\n', 'STARD8\\n', 'LIN7C\\n', 'SUV39H1\\n', 'SEC23A\\n', 'OR4D1\\n', 'MMP25\\n', 'PSMC4\\n', 'PRTN3\\n', 'KRTAP2-1\\n', 'GAST\\n', 'WDR45B\\n', 'NEU1\\n', 'SARS1\\n', 'ATP6V1B1\\n', 'BMP15\\n', 'KIT\\n', 'ZNF670\\n', 'RNF213\\n', 'PPY\\n', 'OR51J1\\n', 'H2AC14\\n', 'ZSCAN25\\n', 'NFATC1\\n', 'P2RY1\\n', 'ABCB5\\n', 'TMPRSS6\\n', 'MAP2K6\\n', 'EDNRB\\n', 'SLAMF7\\n', 'FGA\\n', 'XRN1\\n', 'CAMK2G\\n', 'CYP1A1\\n', 'OR52W1\\n', 'DCAF11\\n', 'CCL22\\n', 'USP19\\n', 'HTR1E\\n', 'OR8K3\\n', 'KIF18A\\n', 'CTNNB1\\n', 'CHL1\\n', 'ADCY3\\n', 'GAA\\n', 'GDI2\\n', 'GNG13\\n', 'PDIA6\\n', 'ZNF616\\n', 'DLL4\\n', 'LAMC2\\n', 'KMT2B\\n', 'ZNF620\\n', 'SPSB1\\n', 'PAPPA\\n', 'EBF1\\n', 'IL2RG\\n', 'PTK6\\n', 'HNRNPUL1\\n', 'P2RY2\\n', 'HEBP2\\n', 'F9\\n', 'SEC61A1\\n', 'SLC11A1\\n', 'COL24A1\\n', 'UBE3B\\n', 'IGF2BP1\\n', 'ARHGAP19\\n', 'COL10A1\\n', 'IMP3\\n', 'ZNF420\\n', 'CSTF2\\n', 'OR5A2\\n', 'SEC31A\\n', 'GTF2A1\\n', 'RGS22\\n', 'ADGRG3\\n', 'ZNF839\\n', 'NFIL3\\n', 'ST6GALNAC4\\n', 'TWIST1\\n', 'CCL20\\n', 'ANAPC16\\n', 'PSMC6\\n', 'PDS5A\\n', 'RPL26\\n', 'RAC1\\n', 'RNPS1\\n', 'RNF4\\n', 'PSMF1\\n', 'PTPRN2\\n', 'RHNO1\\n', 'OR2M3\\n', 'RPL8\\n', 'TRIM36\\n', 'GNA15\\n', 'HTR6\\n', 'RNF168\\n', 'RNF14\\n', 'MKS1\\n', 'AFP\\n', 'BAP1\\n', 'H2BC11\\n', 'MAFG\\n', 'PARP10\\n', 'UFL1\\n', 'CDC20\\n', 'LIN9\\n', 'PTGS2\\n', 'LDLRAP1\\n', 'SGF29\\n', 'CAMP\\n', 'FGF10\\n', 'OASL\\n', 'TTN\\n', 'SRP72\\n', 'EFNB2\\n', 'BET1L\\n', 'MOSPD2\\n', 'SUMO3\\n', 'F2\\n', 'MON1A\\n', 'POLA1\\n', 'PLCB4\\n', 'PRSS23\\n', 'SRP68\\n', 'OR2M2\\n', 'SHISA5\\n', 'MMP3\\n', 'OR2W3\\n', 'NUP214\\n', 'MYH10\\n', 'MCHR1\\n', 'RHOU\\n', 'ZNF699\\n', 'EPGN\\n', 'TUBA8\\n', 'SLC32A1\\n', 'ZFP14\\n', 'MMP9\\n', 'TAF13\\n', 'CTSO\\n', 'IQCB1\\n', 'H2AC12\\n', 'TEX10\\n', 'BIRC2\\n', 'S1PR3\\n', 'QSOX1\\n', 'BABAM2\\n', 'ZNF750\\n', 'MRTFA\\n', 'KRT33B\\n', 'PA2G4\\n', 'OR56B4\\n', 'DNMT3A\\n', 'SERPINB6\\n', 'TIMELESS\\n', 'CPNE1\\n', 'TSC1\\n', 'ZNF79\\n', 'GALNS\\n', 'TXK\\n', 'ARMC8\\n', 'STXBP2\\n', 'ZNF254\\n', 'U2AF1L4\\n', 'H3C10\\n', 'OR10G9\\n', 'NPFFR2\\n', 'UTP4\\n', 'CACNA1H\\n', 'PSMA3\\n', 'FGF18\\n', 'SMC3\\n', 'FBN3\\n', 'CD96\\n', 'NPEPPS\\n', 'DNM2\\n', 'ACD\\n', 'FBXL15\\n', 'RAB5B\\n', 'XRCC1\\n', 'ADRM1\\n', 'H2BC13\\n', 'CLCNKA\\n', 'PCP2\\n', 'METTL7A\\n', 'NINL\\n', 'RIPK1\\n', 'SMYD3\\n', 'KRTAP2-3\\n', 'DNMT1\\n', 'ZNF460\\n', 'INSL5\\n', 'ILF2\\n', 'RALGAPB\\n', 'HNRNPH1\\n', 'GPR84\\n', 'NAPA\\n', 'LTB4R2\\n', 'PDPK1\\n', 'CD101\\n', 'ACTR2\\n', 'RRP9\\n', 'F8\\n', 'SIGLEC14\\n', 'RARA\\n', 'RPL37A\\n', 'CLSPN\\n', 'RPL3L\\n', 'GTF2H1\\n', 'GPR143\\n', 'CAB39\\n', 'RPGRIP1L\\n', 'PIK3R4\\n', 'ADH6\\n', 'HDAC5\\n', 'OR51B2\\n', 'EHD2\\n', 'TUBB3\\n', 'SPSB4\\n', 'PSMD14\\n', 'RAB3GAP2\\n', 'KLK13\\n', 'COPS8\\n', 'DERL2\\n', 'NLRX1\\n', 'COMMD2\\n', 'CD207\\n', 'OBSL1\\n', 'LTN1\\n', 'OPN1MW\\n', 'RPL12\\n', 'SRSF11\\n', 'SLC16A1\\n', 'POLRMT\\n', 'KLC3\\n', 'ARPC4\\n', 'MED11\\n', 'LUM\\n', 'TCEA1\\n', 'RAD18\\n', 'ALDH3A1\\n', 'TPR\\n', 'ZNF519\\n', 'FAM20C\\n', 'OR2L2\\n', 'EGLN3\\n', 'USP22\\n', 'MTARC2\\n', 'NRIP1\\n', 'AADAT\\n', 'RBCK1\\n', 'NUP50\\n', 'SLC22A5\\n', 'ITGB2\\n', 'CHMP2A\\n', 'DCP2\\n', 'PRKAG3\\n', 'OR4F6\\n', 'DCAF6\\n', 'ADH1C\\n', 'TRAF3\\n', 'SEC11C\\n', 'ZNF180\\n', 'WIPI2\\n', 'GTF2E2\\n', 'TAAR2\\n', 'PLEKHO2\\n', 'RAB27A\\n', '155971\\n', 'BOP1\\n', 'TCF7\\n', 'H2AB1\\n', 'TAS2R30\\n', 'TFDP2\\n', 'TMOD4\\n', 'STON1\\n', 'SULT1A1\\n', 'TOP2B\\n', 'BCL2\\n', 'WNT9A\\n', 'KRTAP9-2\\n', 'BRAP\\n', 'RPS26\\n', 'S1PR2\\n', 'GUSB\\n', '728929\\n', 'ITGA9\\n', 'CCL13\\n', 'ZNF75D\\n', 'KLHL11\\n', 'ZNF546\\n', 'ZNF627\\n', 'PTGER2\\n', 'KRT6C\\n', 'CPNE3\\n', 'HP\\n', 'ZNF445\\n', 'PTPN6\\n', 'AAK1\\n', 'AKAP9\\n', 'E2F5\\n', 'TRAP1\\n', 'CD74\\n', 'ATM\\n', 'RPP21\\n', 'FEM1B\\n', 'MCM2\\n', 'FTL\\n', 'AGK\\n', 'ZNF18\\n', 'EXOSC9\\n', 'ARSA\\n', 'TAT\\n', 'GJD4\\n', 'MTREX\\n', 'MET\\n', 'PRKACG\\n', 'ZNF703\\n', 'FBXW9\\n', 'GNAT2\\n', 'NUDT2\\n', 'ZNF764\\n', 'ZNF212\\n', 'CNOT4\\n', 'HOXB3\\n', 'FBXW12\\n', 'OR5T2\\n', 'GPC1\\n', 'CEP290\\n', 'ABL1\\n', 'N6AMT1\\n', 'RSPO2\\n', 'BDP1\\n', 'TGFA\\n', 'KRTAP4-4\\n', 'SRF\\n', 'ARHGAP22\\n', 'NME2\\n', 'PPP2CB\\n', 'OR4F16\\n', 'H4C15\\n', 'AGRN\\n', 'TAS1R1\\n', 'POLR3GL\\n', 'RFC2\\n', 'IRF6\\n', 'CD58\\n', 'TRIM9\\n', 'GP9\\n', 'CAPNS1\\n', 'CKAP5\\n', 'OR2A25\\n', 'RFC5\\n', 'CENPT\\n', 'CTSV\\n', 'ARFGAP2\\n', 'GLB1\\n', 'GLA\\n', 'ZNF30\\n', '390441\\n', 'BRCC3\\n', 'H3C7\\n', 'LGALS3\\n', 'TAS2R10\\n', 'FBXO27\\n', 'SPRED2\\n', 'ACOX2\\n', 'COL4A3\\n', 'KMT2D\\n', 'CDKN2C\\n', 'MSL2\\n', 'BUB3\\n', 'BRS3\\n', 'TGS1\\n', 'NPFFR1\\n', 'UBE2D2\\n', 'OR1N1\\n', 'POLR3C\\n', 'SLC22A2\\n', 'SULT1A2\\n', 'RBFOX2\\n', 'DCTN5\\n', 'USP17L28\\n', 'HLA-C\\n', 'SFRP2\\n', 'GMIP\\n', 'DCAF16\\n', 'VPS28\\n', 'OR2AT4\\n', 'PMCH\\n', 'ESPL1\\n', 'SLC24A5\\n', 'OR11H6\\n', 'IL13RA2\\n', 'EXOSC4\\n', 'H4C3\\n', 'CAPN1\\n', 'OR56B1\\n', 'MAPKAPK2\\n', 'CCNB2\\n', 'MAGED1\\n', 'GGA3\\n', 'SREBF1\\n', 'ELP1\\n', 'BBC3\\n', 'IFIH1\\n', 'OR8B8\\n', 'CCNT2\\n', 'ABCC9\\n', 'TMED9\\n', 'PSMD2\\n', 'PLK4\\n', 'ITGAL\\n', 'YKT6\\n', 'TBX5\\n', '813949\\n', 'PYY\\n', 'CD40LG\\n', 'SPDL1\\n', 'OR4K15\\n', 'ZNF77\\n', 'CYP17A1\\n', 'LDHB\\n', 'ADORA3\\n', 'SMURF1\\n', 'FGD3\\n', 'SEC24A\\n', 'OTUD3\\n', 'TOPBP1\\n', 'GHDC\\n', 'CSNK1G2\\n', 'ZNF582\\n', 'ZNF517\\n', 'ITPR1\\n', 'PRDM9\\n', 'ZNF761\\n', 'HMGCS1\\n', 'TAF1D\\n', 'ASB13\\n', 'BCAT1\\n', 'OCRL\\n', 'OR6K6\\n', 'IL2RB\\n', 'H4C12\\n', 'PTGIS\\n', 'KCTD6\\n', 'PRKN\\n', 'OR5D13\\n', 'CLIP1\\n', 'FCGR3A\\n', 'AKR1C3\\n', 'GPSM2\\n', 'ZNF415\\n', 'TOLLIP\\n', 'OR4K17\\n', 'CCKBR\\n', 'NOTCH1\\n', 'CCR8\\n', 'A1BG\\n', 'LMO7\\n', 'PDE7B\\n', 'RAD21\\n', 'HMOX1\\n', 'ZNF583\\n', 'ZNF563\\n', 'OR9K2\\n', 'RPL19\\n', 'TNFRSF1B\\n', 'NPY4R\\n', 'KRTAP13-1\\n', 'RNF114\\n', 'LRP1\\n', 'SLCO1B3\\n', 'PERM1\\n', 'TRAF1\\n', 'ITPR2\\n', 'ZNF195\\n', 'MT-CO1\\n', 'H2AC15\\n', 'RNF115\\n', 'OR10A4\\n', 'NEO1\\n', 'SF1\\n', 'GRIN2A\\n', 'TXN2\\n', 'LPAR6\\n', 'USP16\\n', 'GRN\\n', 'ZNF197\\n', 'RAD9B\\n', 'ATXN7\\n', 'HGS\\n', 'PLD1\\n', 'MAP3K3\\n', 'ERCC5\\n', 'USP17L18\\n', 'MPHOSPH10\\n', 'NDC80\\n', 'VPS35L\\n', 'IQGAP2\\n', 'NFKB1\\n', 'DDX42\\n', 'DYNC1H1\\n', 'LCK\\n', 'RPL30\\n', 'PRKAG1\\n', 'RTP3\\n', 'TAF12\\n', 'PARP1\\n', 'OXT\\n', 'ZSWIM8\\n', 'AGT\\n', 'FTSJ3\\n', 'PPARA\\n', 'OR8H2\\n', 'WDR46\\n', 'UTS2B\\n', 'MAPRE1\\n', 'ANXA1\\n', 'RPL22\\n', 'SENP8\\n', 'OR2AP1\\n', 'EIF3L\\n', 'CDK11B\\n', 'CSTF2T\\n', 'ZNF217\\n', 'LPAR1\\n', 'HBG1\\n', 'OR56A1\\n', 'ATP6AP2\\n', 'COL5A2\\n', 'PSAP\\n', 'TAB3\\n', 'DOK3\\n', 'FANCA\\n', 'TEAD4\\n', 'CAPZB\\n', 'ICOS\\n', 'ZFP1\\n', 'RPL22L1\\n', 'IBSP\\n', 'ITK\\n', 'HSPA6\\n', 'OR8A1\\n', 'ZNF440\\n', 'ATP2B4\\n', 'RRP7A\\n', 'OR10J1\\n', 'POLR3A\\n', 'G0S2\\n', 'ELP3\\n', 'TMED7\\n', 'SH2D1B\\n', 'DZIP3\\n', 'TAF11\\n', 'RGS4\\n', 'BICD2\\n', 'ORM1\\n', 'DSG1\\n', 'STAG1\\n', 'PER2\\n', 'ASH2L\\n', '35556781\\n', 'CCR2\\n', 'OR1N2\\n', 'OR8D2\\n', 'ZNF658\\n', 'AOC2\\n', 'TIMP3\\n', 'UBE2I\\n', 'POM121\\n', 'OR14C36\\n', 'PHC1\\n', 'EGR1\\n', 'CBX8\\n', 'PRPF6\\n', 'RPL15\\n', 'SOCS2\\n', 'APEH\\n', 'ARHGEF17\\n', 'INTS10\\n', 'MAT2B\\n', 'CLTC\\n', 'LCE2C\\n', 'TUBB2A\\n', 'PSIP1\\n', 'RLN2\\n', 'OR13H1\\n', 'TRIM21\\n', 'CAP1\\n', 'PRNP\\n', 'ATP7A\\n', 'PPP1CC\\n', 'FN1\\n', 'MED1\\n', 'MCM4\\n', 'UBTF\\n', 'RING1\\n', 'H2AC6\\n', 'TNKS2\\n', 'IGF2R\\n', 'DTX1\\n', 'HAUS3\\n', 'ULBP3\\n', 'H4C14\\n', 'RARRES2\\n', 'SLC7A9\\n', 'MAFF\\n', 'PARP2\\n', 'RHOJ\\n', 'WWTR1\\n', 'OR2H2\\n', 'ZNF667\\n', 'MS4A2\\n', 'ENY2\\n', 'SLC22A8\\n', 'SRSF1\\n', 'MMP8\\n', 'ZNF100\\n', 'MGST1\\n', 'SPTBN4\\n', 'NUP35\\n', 'IGLL1\\n', 'ZNF551\\n', 'GNB3\\n', 'FBXO22\\n', 'CLINT1\\n', 'OR5H1\\n', 'ELANE\\n', 'RACGAP1\\n', 'FBXL8\\n', 'OR4D5\\n', 'OR1K1\\n', 'GNS\\n', 'RBM8A\\n', 'KRT33A\\n', 'ABAT\\n', 'OR13A1\\n', 'POP7\\n', 'GRSF1\\n', 'OR5T1\\n', 'MADCAM1\\n', 'ZNF418\\n', 'MAN2B1\\n', 'WNT11\\n', 'H3C2\\n', 'ZNF350\\n', 'FUCA1\\n', 'IFNA16\\n', 'USF1\\n', 'CPB1\\n', 'SH3GL3\\n', 'MAT1A\\n', 'CD244\\n', 'DVL3\\n', 'NUP133\\n', 'KLK2\\n', 'CUL3\\n', 'HDAC7\\n', 'GNAL\\n', 'ADSS2\\n', 'RELA\\n', 'S1PR4\\n', 'ZNF268\\n', 'LAMB2\\n', 'LPCAT1\\n', 'NEDD8\\n', 'IMP4\\n', 'BRF1\\n', 'TRAT1\\n', 'VCP\\n', 'RASGRP3\\n', 'TAP1\\n', 'STAT5A\\n', 'OR4K5\\n', 'NR1H4\\n', 'RPA2\\n', 'COMMD1\\n', 'OR6B3\\n', 'MCF2L\\n', 'NID1\\n', 'MAP3K7\\n', 'PRPF19\\n', 'ADAMTS5\\n', 'TPTEP2-CSNK1E\\n', 'GRB2\\n', 'OR3A1\\n', 'DYNLL2\\n', 'RANGAP1\\n', 'TAS2R3\\n', 'MYLIP\\n', 'ZNF549\\n', 'GRHL1\\n', 'COMMD3\\n', 'MAP2K4\\n', 'ALOX15\\n', 'PROS1\\n', 'ZDHHC2\\n', 'DCUN1D1\\n', 'TAL1\\n', 'OR52N2\\n', 'P4HA3\\n', 'THOC7\\n', 'HLA-DRB3\\n', 'COG8\\n', 'NFAM1\\n', 'FBXL3\\n', 'NOD2\\n', 'NEDD1\\n', 'EFNA2\\n', 'ADRA2B\\n', 'PRKAA1\\n', 'ZNF282\\n', 'WRN\\n', 'RORC\\n', 'ARHGAP32\\n', 'FLG2\\n', 'SMG6\\n', 'RPL10L\\n', 'PTPN11\\n', 'CD8A\\n', 'CFP\\n', 'SMARCA5\\n', '884327\\n', 'OR10H5\\n', 'FFAR3\\n', 'P2RY6\\n', 'NPB\\n', 'CAPZA1\\n', 'UBE2H\\n', 'FOSB\\n', 'LTB4R\\n', 'MALT1\\n', 'GNAT1\\n', 'TRAF2\\n', 'CCR5\\n', 'ADCY5\\n', 'ATP2A3\\n', 'WNT5A\\n', 'TRIM37\\n', 'KIF2C\\n', '3802042\\n', 'BCKDK\\n', 'TRAF6\\n', 'SH3GL2\\n', 'SPARC\\n', 'SLC27A1\\n', 'FFAR1\\n', 'AURKA\\n', 'GPR55\\n', 'ATG14\\n', 'ALAS1\\n', 'ZNF33B\\n', 'KMT5C\\n', 'GRP\\n', 'E2F2\\n', 'PDS5B\\n', 'H2AC13\\n', 'PSMB9\\n', 'PRDX2\\n', 'RRAGD\\n', 'FBXW4\\n', 'FBXW5\\n', 'KRT84\\n', 'OR4K14\\n', 'OR2D2\\n', 'CCT6A\\n', 'OR5D16\\n', 'EEF1AKMT2\\n', 'CHMP3\\n', 'ARSB\\n', 'SDCBP\\n', 'OR4F29\\n', 'COL5A3\\n', 'KIF18B\\n', 'AMELX\\n', 'PLIN1\\n', 'TSHB\\n', 'ZNF704\\n', 'SHANK2\\n', 'EXOSC3\\n', 'RGS12\\n', 'ZNF461\\n', 'ABCB1\\n', 'FOS\\n', 'RXFP1\\n', 'SH3RF1\\n', 'HLA-A\\n', 'AGTR2\\n', 'GFRA2\\n', 'SLIT2\\n', 'RAB12\\n', 'ORC5\\n', 'OR14I1\\n', 'RXRA\\n', 'POLR2F\\n', 'PSG2\\n', 'POLR3B\\n', 'PRKDC\\n', 'ANO10\\n', 'ATG7\\n', 'ITGA3\\n', 'SYT9\\n', 'UTP18\\n', 'CD80\\n', 'OXER1\\n', 'EXOSC7\\n', 'CRISPLD2\\n', 'HRG\\n', 'EGR2\\n', 'UBE2A\\n', 'H4C2\\n', 'SKA1\\n', 'ECHS1\\n', 'STRN\\n', 'MLLT1\\n', 'RAD50\\n', 'ERBB4\\n', 'ARNTL\\n', 'SOAT2\\n', 'RTP4\\n', 'ZNF655\\n', 'KCMF1\\n', 'UTP6\\n', 'ZNF273\\n', 'CHMP2B\\n', 'ITGAX\\n', 'NBEAL2\\n', 'ARHGEF12\\n', 'ZNF300\\n', 'ANXA2\\n', 'SLC9C1\\n', 'AP2M1\\n', 'OR5D18\\n', 'ZIM2\\n', 'NOL11\\n', 'USP7\\n', 'NDUFS5\\n', 'OR7C1\\n', 'MED13\\n', 'ZNF354A\\n', 'APH1B\\n', 'PPM1A\\n', 'IL5RA\\n', 'ANGPTL4\\n', 'MAPKAPK5\\n', 'PLA2G4C\\n', 'SIRPB1\\n', 'CXXC5\\n', 'TICAM2\\n', 'WAS\\n', 'PLRG1\\n', 'FOXO1\\n', 'CXCL9\\n', 'LIPN\\n', 'H2BC15\\n', 'FSCN1\\n', 'CXCL1\\n', 'RNASE2\\n', 'THBD\\n', 'CCR6\\n', 'SLC4A1\\n', 'STON2\\n', 'COL11A2\\n', 'ZNF286A\\n', 'ZNF446\\n', 'AKT3\\n', 'ATP1A2\\n', 'KLF4\\n', 'CCT3\\n', 'SNRNP200\\n', 'U2SURP\\n', 'BRMS1\\n', 'ITGA1\\n', 'FBXO4\\n', 'EDEM2\\n', 'RPS7\\n', 'CHEK1\\n', 'RAD51D\\n', 'TIAM1\\n', 'STX1A\\n', 'OR4A5\\n', 'CEBPG\\n', 'SNAPC4\\n', 'HCFC1\\n', 'CSF3\\n', 'TRIM71\\n', 'PSMD7\\n', 'ENAM\\n', 'NPAS2\\n', 'OR13F1\\n', 'CHEK2\\n', 'OR5AN1\\n', 'NXT1\\n', 'MYB\\n', 'FUCA2\\n', 'SULT2B1\\n', 'RAB3A\\n', 'AJUBA\\n', 'OR2W1\\n', 'ZNF471\\n', 'CXCL13\\n', 'OR5K3\\n', 'TFAP2B\\n', 'ITGB3BP\\n', 'GIPR\\n', 'OR4X1\\n', 'KRTAP9-4\\n', 'TERT\\n', 'OR6K2\\n', 'RNF152\\n', 'COL18A1\\n', 'PSMD1\\n', 'ADCY9\\n', 'AGGF1\\n', 'AXIN1\\n', 'HTR1A\\n', 'KIF9\\n', 'SUDS3\\n', 'NCOR1\\n', 'DLG4\\n', 'ZNF256\\n', 'CHST13\\n', 'ADAMTS9\\n', 'XRCC5\\n', 'DSP\\n', 'USP42\\n', 'OR6N2\\n', 'COL6A1\\n', 'RNF111\\n', 'PHF8\\n', 'PEMT\\n', 'TCF7L2\\n', 'RBBP6\\n', 'TNFRSF1A\\n', 'CUL4B\\n', 'DEFA4\\n', 'HTR4\\n', 'PSMC1\\n', 'SRP9\\n', 'CENPJ\\n', 'TAF7\\n', 'NEFL\\n', 'DOCK10\\n', 'UGT1A3\\n', 'MYL3\\n', 'PROKR1\\n', 'NDUFC2\\n', 'RHO\\n', 'KRT14\\n', 'SIK1B\\n', 'APOBEC3G\\n', 'GPR39\\n', 'AZU1\\n', 'DOCK8\\n', 'LAMTOR1\\n', 'CLEC4D\\n', '956528\\n', 'RLN3\\n', 'OR13C4\\n', 'OR2J1\\n', 'TRAPPC6B\\n', 'CHI3L1\\n', 'OR5A1\\n', 'BLOC1S1\\n', 'PDCD11\\n', 'ZNF700\\n', 'PHF20\\n', 'KRT13\\n', 'XK\\n', 'DGCR8\\n', 'SPTBN5\\n', 'DEFA1\\n', 'ARF1\\n', 'MAGOH\\n', 'DIAPH1\\n', 'NOB1\\n', 'IFNA6\\n', 'RPL26L1\\n', 'SNRNP70\\n', 'RPA3\\n', 'LAIR1\\n', 'ERP44\\n', 'PHC2\\n', 'SEL1L\\n', 'PRR5\\n', 'ZNF611\\n', 'RPS9\\n', 'BLM\\n', 'TRAPPC6A\\n', 'ALDOB\\n', 'ARHGAP10\\n', 'ZNF708\\n', 'ERCC6L\\n', 'HSPA1A\\n', 'PIAS1\\n', 'ZNF626\\n', 'MYH14\\n', 'UBA7\\n', 'MAFK\\n', 'PTGES2\\n', 'SYMPK\\n', 'ARAF\\n', 'CSNK1D\\n', 'GTF2H4\\n', 'ZNF564\\n', 'GHRL\\n', 'HLA-DRB5\\n', 'OR1D2\\n', 'HIBADH\\n', 'ARFGAP3\\n', 'H2BC9\\n', 'PAFAH1B2\\n', 'DOCK7\\n', 'RTP2\\n', 'COX20\\n', 'ENGASE\\n', 'OR5H2\\n', 'MTOR\\n', 'AKT2\\n', 'RPL4\\n', 'FGD1\\n', 'CARD11\\n', 'CYP4B1\\n', 'ADH7\\n', 'UBE2E3\\n', 'FSHR\\n', 'ACSL1\\n', 'STING1\\n', 'LRRC7\\n', 'OPN5\\n', 'MRE11\\n', 'OR5H14\\n', 'LIMK1\\n', 'MZT2B\\n', 'CYP21A2\\n', 'FGFR1\\n', 'USP26\\n', 'H3C4\\n', 'OR52K1\\n', 'B2M\\n', 'OR12D2\\n', 'DYNLT2\\n', 'OR2L5\\n', 'ZNF398\\n', 'HLA-DRB4\\n', 'SYCP1\\n', 'IST1\\n', 'ZNF721\\n', 'AMBN\\n', 'NDC1\\n', 'OFD1\\n', 'MTA1\\n', 'CXCL11\\n', 'PNO1\\n', 'RPS6\\n', 'WDR20\\n', 'TUBA3C\\n', 'OBSCN\\n', 'SAP30\\n', 'MC2R\\n', 'WDR19\\n', 'CARM1\\n', 'ATP13A4\\n', 'SRSF3\\n', 'ARHGEF16\\n', 'QRFPR\\n', 'AVPR1A\\n', 'COPG2\\n', 'RGS5\\n', 'OR2AG1\\n', 'OR10A5\\n', 'HNRNPH2\\n', 'OR52L1\\n', 'TAPBP\\n', 'COL8A2\\n', 'NR2F6\\n', 'YWHAH\\n', 'ULK3\\n', 'LIN37\\n', 'H2AC11\\n', 'RPS10\\n', 'HRNR\\n', 'C5AR1\\n', 'BRIP1\\n', 'LYZ\\n', 'LPAR3\\n', 'EDN3\\n', 'KRTAP9-6\\n', 'ABCC10\\n', 'IRF2\\n', 'ZNF3\\n', 'BPIFB2\\n', 'GYPA\\n', 'TLE3\\n', 'KRTAP1-3\\n', 'DNAJC13\\n', 'DHX15\\n', 'STAM2\\n', 'HERC1\\n', 'ENPP4\\n', 'RHOBTB2\\n', 'CSTF3\\n', 'UNC13D\\n', 'HVCN1\\n', 'HES1\\n', 'KIF3C\\n', 'OR2A14\\n', 'RPL39\\n', 'ALDH2\\n', 'ZFP69\\n', 'RGS7\\n', 'KRTAP24-1\\n', 'USP2\\n', 'GOT1\\n', 'TRIM39\\n', 'ZNF324\\n', 'EIF2S3\\n', 'TRAIP\\n', 'COPS7A\\n', 'RBBP8\\n', 'KIF26A\\n', 'RPL24\\n', 'SNRPA\\n', 'MLH1\\n', 'AP1M1\\n', 'LMNA\\n', 'HSPA8\\n', 'POLR3D\\n', 'DGKH\\n', 'MED25\\n', 'NRG1\\n', 'INTS6\\n', 'GTF3C2\\n', 'ARHGAP36\\n', 'MYC\\n', 'OR6F1\\n', 'ARHGEF4\\n', 'DHH\\n', 'TAF10\\n', 'H2AC4\\n', 'ZNF436\\n', 'UTP25\\n', 'RPS2\\n', 'BMI1\\n', 'CAPN12\\n', 'USP17L27\\n', 'OTUD5\\n', 'FRS2\\n', 'DRD4\\n', 'LAMTOR2\\n', 'OR2T34\\n', 'KIF1C\\n', 'F5\\n', 'ZNF140\\n', 'RGS19\\n', 'GPR45\\n', 'LHB\\n', 'ZNF586\\n', 'ZNF736\\n', 'SLC16A7\\n', 'KCNJ9\\n', 'OR8B12\\n', 'AP2A2\\n', 'NPY5R\\n', 'SCNN1D\\n', 'RAPGEF3\\n', 'WAPL\\n', 'COG5\\n', 'OR9A4\\n', 'YBX1\\n', 'PSMC5\\n', 'ZNF160\\n', 'ALDH3B2\\n', 'ZNF790\\n', 'OR2B3\\n', 'H4C5\\n', 'VTN\\n', 'FBXO21\\n', 'SET\\n', 'KRT71\\n', 'USP24\\n', 'ADCY6\\n', 'TSPAN14\\n', 'ERCC4\\n', 'XPO1\\n', 'LAMA1\\n', 'PPP4R2\\n', 'UBA3\\n', 'NUAK1\\n', 'MID1\\n', 'OR8H3\\n', 'FBXL16\\n', 'CYCS\\n', 'TRIM69\\n', 'RBP3\\n', 'MED30\\n', 'GHRH\\n', 'PAX3\\n', 'DR1\\n', 'MUS81\\n', 'ANAPC1\\n', 'CBLB\\n', 'INTS3\\n', 'MC4R\\n', 'S100P\\n', 'SERPINE1\\n', 'SPSB2\\n', 'FCHO1\\n', 'BNIP1\\n', 'KDM4B\\n', 'BUD23\\n', 'ALDOC\\n', 'NRTN\\n', 'HMGA1\\n', 'DLG3\\n', 'OR51T1\\n', 'ARHGAP31\\n', 'SRGAP1\\n', 'CLEC3B\\n', 'IL12B\\n', 'CXCL16\\n', 'GOLGA1\\n', 'PDXK\\n', 'NID2\\n', 'RELB\\n', 'OR4S2\\n', 'ARHGEF19\\n', 'FGFR3\\n', 'CLP1\\n', 'OR2T33\\n', 'PEDS1-UBE2V1\\n', 'OR2W5P\\n', 'SCN3B\\n', 'DDX58\\n', 'TAS2R14\\n', 'OR2M4\\n', 'CETN2\\n', 'TYK2\\n', 'CCL4L2\\n', 'EIF3C\\n', 'PSMA8\\n', 'USP9X\\n', 'ZNF33A\\n', 'AAAS\\n', 'TNRC6B\\n', 'ARHGEF1\\n', 'FBXL19\\n', 'TRIM63\\n', 'IRF3\\n', 'KLHL25\\n', 'OR4K1\\n', 'FGF8\\n', 'IDH1\\n', 'TAS2R31\\n', 'PIK3CA\\n', 'DAG1\\n', 'ZFYVE9\\n', 'FXYD6\\n', 'EPS15\\n', 'IL7R\\n', 'F13A1\\n', 'ESRP1\\n', 'COL14A1\\n', 'RGS9\\n', 'PNPLA5\\n', 'HLA-B\\n', 'TLE1\\n', 'OR51I2\\n', 'RUVBL1\\n', 'RXFP4\\n', 'TOP1\\n', 'ZNF70\\n', 'ZNF285\\n', 'ASB3\\n', 'AP1S2\\n', 'MAMLD1\\n', 'NOL6\\n', 'SRSF6\\n', 'KIF3A\\n', 'KRTAP1-4\\n', 'EED\\n', 'OR2T8\\n', 'CNTN1\\n', 'PROKR2\\n', 'EPHB2\\n', 'ZNF584\\n', 'ZNF664\\n', 'SH2B1\\n', 'USP17L25\\n', 'SGIP1\\n', 'ZNF131\\n', 'POLH\\n', 'OR1J1\\n', 'TFF3\\n', 'GNAT3\\n', 'FCGR2A\\n', 'RAB6B\\n', 'RPL39L\\n', 'RHOV\\n', 'CEACAM3\\n', 'ZNF746\\n', 'RPS11\\n', 'ALS2\\n', 'ATP13A5\\n', 'GOLM1\\n', 'ULK1\\n', 'FXYD3\\n', 'PSMD12\\n', 'CHIT1\\n', 'KCNB1\\n', 'GAN\\n', 'PPBP\\n', 'PPARGC1B\\n', 'YWHAE\\n', 'DDB2\\n', 'PPP2R3B\\n', 'RAP2C\\n', 'CDC34\\n', 'GPS1\\n', 'RCN1\\n', 'NEURL1B\\n', 'CEACAM6\\n', 'PARK7\\n', 'PPFIA4\\n', 'RRP36\\n', 'USP5\\n', 'MIA2\\n', 'GSN\\n', 'HLA-F\\n', 'GNA14\\n', 'APP\\n', 'FRK\\n', 'ZNF621\\n', 'OR2T11\\n', 'ZNF429\\n', 'IFNA2\\n', 'INTS5\\n', 'LIN7B\\n', 'EIF3J\\n', 'ZNF311\\n', 'KDM7A\\n', 'H2AZ1\\n', 'IRAK1\\n', 'GOLGA7\\n', 'ADRB2\\n', 'SHC1\\n', 'RXRB\\n', 'TLR1\\n', 'OR1L6\\n', 'HGF\\n', 'XRCC2\\n', 'CDKN2D\\n', 'OR10H2\\n', 'RNF185\\n', 'RPL9\\n', 'PPP2R1A\\n', 'RIN3\\n', 'ATRIP\\n', 'TRIM62\\n', 'GRM3\\n', 'UQCRB\\n', 'PPARGC1A\\n', 'PPFIA1\\n', 'USF2\\n', 'CYBA\\n', 'KIF7\\n', 'CENPS-CORT\\n', 'NUMB\\n', 'SUPT3H\\n', 'CALM1\\n', 'AGTPBP1\\n', 'CASR\\n', 'OR10AD1\\n', 'APCS\\n', 'PDGFB\\n', 'KBTBD8\\n', 'SH2B2\\n', 'MIF\\n', 'DAB2IP\\n', 'PDGFA\\n', 'NUP210\\n', 'ANAPC2\\n', 'VPS36\\n', 'RAD1\\n', 'FGL2\\n', 'ZNF432\\n', 'PCM1\\n', 'RAC3\\n', 'CEP152\\n', 'PAF1\\n', 'ARNT2\\n', 'EPHA3\\n', 'OR7G3\\n', 'DENND2D\\n', 'TSHR\\n', 'MAML3\\n', 'MDM2\\n', 'CAPZA3\\n', 'NUP43\\n', 'ADCY8\\n', 'C1orf35\\n', 'OR1S1\\n', 'ATP2A2\\n', 'ZNF468\\n', 'TCF12\\n', 'PTRH2\\n', 'PENK\\n', 'REEP6\\n', 'FCAR\\n', 'H4C1\\n', 'RAD51C\\n', 'RPS27L\\n', 'SCNN1B\\n', 'KLHDC3\\n', 'FANCI\\n', 'UBA1\\n', 'FOXK1\\n', 'NCF1\\n', 'SYT2\\n', 'USP17L22\\n', 'CD19\\n', 'JAG1\\n', 'UTP14A\\n', 'VPS72\\n', 'ATP6V0A1\\n', 'ATP2A1\\n', 'PLCG2\\n', 'PIP4K2C\\n', 'ZNF571\\n', 'SERPINB10\\n', '441669\\n', 'OR2T27\\n', 'GBP6\\n', 'CST3\\n', 'TMBIM1\\n', 'SRRM1\\n', 'NOP56\\n', 'ASAH1\\n', 'MMP1\\n', 'NCF4\\n', 'IL1RAP\\n', 'OR4C13\\n', 'CBL\\n', 'ZNF561\\n', 'TIAM2\\n', 'CCAR1\\n', 'NABP2\\n', 'BCAP31\\n', 'AGA\\n', 'GPX3\\n', 'ARHGAP25\\n', 'THOC1\\n', 'SERPINA10\\n', 'PRKAG2\\n', 'AP4B1\\n', 'TRIM3\\n', 'XAB2\\n', 'HECTD3\\n', 'EIF3G\\n', 'GORASP1\\n', 'CCT2\\n', 'HLA-DOB\\n', 'PQBP1\\n', 'ARPC1A\\n', 'OR2T3\\n', 'MAF1\\n', 'MAP3K11\\n', 'FCER1A\\n', 'GTF2F2\\n', 'TLR6\\n', 'TF\\n', 'CEP131\\n', 'WDR43\\n', 'UBE4A\\n', 'OR2C3\\n', 'SFI1\\n', 'ARHGAP29\\n', 'RPL23\\n', 'SPRR2D\\n', 'CCNB1\\n', 'FGF9\\n', 'ANAPC11\\n', 'HSPB1\\n', 'DNAJB6\\n', 'CRTAM\\n', 'ZNF681\\n', 'CD109\\n', 'GAS6\\n', 'TPX2\\n', 'FBL\\n', 'SIRPA\\n', 'CXCL8\\n', 'UGCG\\n', 'OR8H1\\n', 'BGN\\n', 'FABP7\\n', 'OR4F3\\n', 'APOA2\\n', 'OR51M1\\n', 'TAF1B\\n', 'ANKRD1\\n', 'IHH\\n', 'TCTN3\\n', 'BDKRB1\\n', 'HEY2\\n', 'IFT27\\n', 'PRSS2\\n', 'CSF2RA\\n', 'GMFG\\n', 'SCRIB\\n', 'IFT140\\n', 'NCKAP1\\n', 'OR4A16\\n', 'RPS12\\n', 'TUBA1B\\n', 'SNRNP25\\n', 'SETD1B\\n', 'RPRD1B\\n', 'SPTSSA\\n', 'GALR3\\n', 'EPHA5\\n', 'CDK6\\n', 'PRPF8\\n', 'STAG3\\n', 'MMP15\\n', 'COPB1\\n', 'SDC1\\n', 'ZNF676\\n', 'PPIA\\n', 'PBX1\\n', 'KRT23\\n', 'HOXD3\\n', 'SH2B3\\n', 'OR4N4\\n', 'HAUS1\\n', 'TEX12\\n', 'BCKDHB\\n', 'ZNF26\\n', 'SHH\\n', 'MAPK13\\n', 'CTDP1\\n', 'NRGN\\n', 'NDUFA7\\n', 'SYT8\\n', 'COX11\\n', 'PVALB\\n', 'OR4D6\\n', 'TMEM67\\n', 'CAMK2D\\n', 'ATR\\n', 'TOP2A\\n', 'RPL21\\n', 'CD3G\\n', 'TAS2R4\\n', 'TACR3\\n', 'COPS6\\n', 'ATP9A\\n', 'SPIDR\\n', 'FOXA1\\n', 'RNF103-CHMP3\\n', 'BST2\\n', 'UBE2M\\n', 'CNR1\\n', 'H3C15\\n', 'EHMT2\\n', 'SPTAN1\\n', 'STAMBP\\n', 'SYNGR1\\n', 'RNF7\\n', 'CYP2E1\\n', 'RRAGC\\n', 'FBXW11\\n', 'WNT3A\\n', 'JUNB\\n', 'MYDGF\\n', 'DTX3L\\n', 'OR5L1\\n', 'OR6Y1\\n', 'PSMD9\\n', 'NUMA1\\n', 'SFTPD\\n', 'BLMH\\n', 'BRCA2\\n', 'USP12\\n', 'MME\\n', 'SUPT4H1\\n', 'SARNP\\n', 'OR5B2\\n', 'OR10K1\\n', 'LDB1\\n', 'TBXA2R\\n', 'SRSF4\\n', 'RBSN\\n', 'GNB2\\n', 'RPL17\\n', 'NSL1\\n', 'TRAPPC10\\n', 'ANAPC10\\n', 'VIP\\n', 'PLBD1\\n', 'DEK\\n', 'PRKCD\\n', 'INTS2\\n', 'MED17\\n', 'ZNF613\\n', 'KRTAP10-2\\n', 'GNAZ\\n', 'PRCP\\n', 'OR4D9\\n', 'KCNJ11\\n', 'GNRH2\\n', 'THOC5\\n', 'OSCAR\\n', 'VCAN\\n', 'CREBBP\\n', 'HADHA\\n', 'ZNF530\\n', 'MARK3\\n', 'OR7A17\\n', 'GOSR2\\n', 'PSMB3\\n', 'RRAGB\\n', 'AHCTF1\\n', 'CCT4\\n', 'BMS1\\n', 'SEH1L\\n', 'TSPAN33\\n', 'PWP2\\n', 'RPS21\\n', 'RAD9A\\n', 'GSPT2\\n', 'NR2E1\\n', 'UBE2L6\\n', 'DVL1\\n', 'HOXA1\\n', 'ARHGAP11B\\n', 'OR10Z1\\n', 'NANOG\\n', 'ACTR3\\n', 'LAMA4\\n', 'TSR1\\n', 'CEP76\\n', 'PSMA7\\n', 'POLE2\\n', 'ICAM4\\n', 'OR2T29\\n', 'H2AC21\\n', 'TGFBR1\\n', 'CD47\\n', 'ZNF548\\n', 'FBXL4\\n', 'HEXB\\n', 'SUZ12\\n', 'CSTF1\\n', 'GADD45A\\n', 'CHD1L\\n', 'CHD4\\n', 'TGM5\\n', 'NOS2\\n', 'SPTBN2\\n', 'HNRNPF\\n', 'EMILIN1\\n', 'IL12A\\n', 'ZNF776\\n', 'SURF4\\n', 'ODF2\\n', 'LDHAL6A\\n', '79296\\n', 'ZNF705E\\n', 'LIN7A\\n', 'HSP90B1\\n', 'FBXL5\\n', 'PUF60\\n', 'ZNF544\\n', 'KL\\n', 'INTS8\\n', 'ANO2\\n', 'SPRR2A\\n', 'ATP2B3\\n', 'MED13L\\n', 'KRTAP3-2\\n', 'CSH1\\n', 'ADHFE1\\n', 'AGO2\\n', 'RPL35A\\n', 'ZNF615\\n', 'USP17L20\\n', 'CYP7A1\\n', 'IFNA10\\n', 'HLA-DQB2\\n', 'C1D\\n', 'DYSF\\n', 'CD226\\n', 'ZNF426\\n', 'ZNF792\\n', 'NGF\\n', 'TAS2R41\\n', 'OR51B5\\n', 'GPI\\n', 'ITGAE\\n', 'TRIM32\\n', 'KIF2B\\n', 'CHERP\\n', 'CD63\\n', 'TBL1XR1\\n', 'ZNF510\\n', 'POLR1F\\n', 'PSMA5\\n', 'VAV1\\n', 'IL1RL1\\n', 'SIN3A\\n', 'AKAP13\\n', 'PRKACA\\n', 'CCR9\\n', 'ZNF696\\n', 'OR10P1\\n', 'ARHGEF10L\\n', 'HIPK1\\n', 'NUP98\\n', 'OR51G2\\n', 'LSM4\\n', 'SFN\\n', 'PSG3\\n', 'CR1\\n', 'PAFAH1B1\\n', 'TAF1L\\n', '155459\\n', 'TAS2R9\\n', 'NUF2\\n', 'EEFSEC\\n', 'INPP5B\\n', 'HELZ2\\n', 'HGSNAT\\n', 'ZKSCAN4\\n', 'KRT20\\n', 'CTSD\\n', 'LAT\\n', 'POLR1G\\n', 'GNAS\\n', 'STK10\\n', 'PUM2\\n', 'OR10H4\\n', 'MAD2L1\\n', 'LBP\\n', 'P2RY11\\n', 'SSRP1\\n', 'E2F3\\n', 'MCF2\\n', 'OR1I1\\n', 'BECN1\\n', 'DSG2\\n', 'P2RY13\\n', 'ZNF775\\n', 'EP300\\n', 'PGAM1\\n', 'OR5V1\\n', 'NRG2\\n', 'SELL\\n', 'GABPA\\n', 'SULT1A3\\n', 'OR4X2\\n', 'UBA52\\n', 'LGMN\\n', 'RPL7A\\n', 'RPL27\\n', 'NOD1\\n', 'USP20\\n', 'BPI\\n', 'DBI\\n', 'NPY\\n', 'PKP4\\n', 'TYROBP\\n', 'RAB4B\\n', 'RAB14\\n', 'ZIM3\\n', 'UTS2R\\n', 'CCR10\\n', 'SLC2A3\\n', 'ZNF599\\n', 'HEY1\\n', 'OR10A6\\n', 'WDR5\\n', 'SEC24C\\n', 'PSEN1\\n', 'OR1B1\\n', 'OR4D2\\n', 'HEBP1\\n', 'MEF2C\\n', 'WNK3\\n', 'KDM6A\\n', 'CEP164\\n', 'CCR3\\n', 'ITGAM\\n', 'FAM120B\\n', 'RNF25\\n', 'ZNF514\\n', 'CSNK2A1\\n', 'TAB2\\n', 'DEFA1B\\n', 'AHSG\\n', 'LRRTM4\\n', 'ATP6V1G1\\n', 'OR7E24\\n', 'ADH5\\n', 'RAB24\\n', 'OR51A4\\n', 'TRAF7\\n', 'GCK\\n', 'TREML2\\n', 'HSP90AB1\\n', 'SLX1B\\n', 'PER1\\n', 'OR6C1\\n', 'EIF3D\\n', 'RPS8\\n', 'H2AW\\n', 'SGK1\\n', 'CTSW\\n', 'EPN2\\n', 'ALCAM\\n', 'RMI2\\n', 'SLC22A1\\n', 'S100A12\\n', 'TAAR6\\n', 'DCUN1D5\\n', 'OR4B1\\n', 'PSMD8\\n', 'RRP8\\n', 'CENPE\\n', 'CCL28\\n', 'ADRA2C\\n', 'MAPK1\\n', 'ANAPC15\\n', 'FCN1\\n', 'RNASEL\\n', 'MORF4L1\\n', 'DIS3\\n', 'ENDOD1\\n', 'NUP205\\n', 'GBP4\\n', 'NUP155\\n', 'FZD2\\n', 'KDM4C\\n', 'RAD51\\n', 'GSTP1\\n', 'ORC2\\n', 'IRS1\\n', 'SMAD3\\n', 'CYSLTR2\\n', 'ITGA11\\n', 'AGPAT2\\n', 'IL3\\n', 'PNLIP\\n', 'CD99L2\\n', 'CDC6\\n', 'ATP6V0E2\\n', 'AGPAT3\\n', 'PNOC\\n', 'MYBBP1A\\n', 'OR2A12\\n', 'MKRN1\\n', 'RHOQ\\n', 'SLC2A5\\n', 'CTSH\\n', 'TPD52\\n', 'ITGA2B\\n', 'NUP107\\n', 'PYGB\\n', 'KIR3DL1\\n', 'FAM114A2\\n', 'OR2H1\\n', 'DCTN1\\n', 'EPM2A\\n', 'TNFRSF10D\\n', 'GPR37L1\\n', 'SRC\\n', 'NMB\\n', 'POU2F2\\n', 'TADA1\\n', 'ROCK1\\n', 'KBTBD13\\n', 'RASAL3\\n', 'ZNF430\\n', 'OR4N2\\n', 'DNAJA4\\n', 'CFH\\n', 'NRG4\\n', 'OR10A3\\n', 'ZNF665\\n', 'ZNF679\\n', 'ZNF568\\n', 'ORC1\\n', 'C12orf66\\n', 'ZNF23\\n', 'RPS23\\n', 'OR51A7\\n', 'NEURL1\\n', 'HSPA5\\n', 'LRP6\\n', 'KRTAP29-1\\n', 'SPC24\\n', 'AGO4\\n', 'IGF1\\n', 'AKR1D1\\n', 'KIF6\\n', 'OR1J2\\n', 'GLIPR1\\n', 'LEFTY2\\n', 'NMUR1\\n', 'COPA\\n', 'RNF135\\n', 'HMOX2\\n', 'UBE2Q2\\n', 'TAS2R46\\n', 'CANT1\\n', 'DDX5\\n', 'NFKB2\\n', 'NAPRT\\n', 'GGH\\n', 'SLC25A12\\n', 'PSTPIP1\\n', 'MSI1\\n', 'PFDN4\\n', 'ZNF17\\n', 'ZNF560\\n', 'ABHD5\\n', 'KRTAP13-3\\n', 'IL1B\\n', 'ZNF331\\n', 'TACR2\\n', 'OR5AR1\\n', 'OR52M1\\n', 'ZNF443\\n', 'GOT2\\n', 'FBXL12\\n', 'ADGRE5\\n', 'GNA11\\n', 'TP73\\n', 'GOLGA2\\n', 'CAV1\\n', 'OPN4\\n', 'KMT2A\\n', 'NUP58\\n', 'IL4R\\n', 'ZNF274\\n', 'CD40\\n', 'AHCYL1\\n', 'LCE3E\\n', 'EXOSC5\\n', 'TBC1D16\\n', 'FZD3\\n', 'OR10AG1\\n', 'ZNF136\\n', 'LRRTM3\\n', 'ZNF264\\n', 'NCK2\\n', 'USP17L10\\n', 'OR10A2\\n', 'ASB17\\n', 'NTSR1\\n', 'TAF9\\n', 'MT-CO2\\n', 'LEO1\\n', 'OAZ2\\n', 'ATP6V1A\\n', 'ERI1\\n', 'TULP4\\n', 'CHUK\\n', 'NDUFA6\\n', 'ATP11A\\n', 'HSD3B2\\n', 'EREG\\n', 'YEATS4\\n', 'CABLES1\\n', 'OR52D1\\n', 'SPP2\\n', 'USP17L1\\n', 'RAB44\\n', 'IL5\\n', 'MCRS1\\n', 'OR5L2\\n', 'OR6B1\\n', 'PPP2CA\\n', 'GNAI3\\n', 'TAS2R19\\n', 'COL4A4\\n', 'OR2F2\\n', 'UBE2G2\\n', 'POLE3\\n', 'CRHR2\\n', 'ZNF692\\n', 'CNIH2\\n', 'CFHR3\\n', 'OR4P4\\n', 'CCDC22\\n', 'CENPX\\n', 'KLHL9\\n', 'DYNLRB1\\n', 'PPP1R13B\\n', 'ZNF662\\n', 'FIP1L1\\n', 'POLK\\n', 'ATAT1\\n', 'NR5A2\\n', 'GTF2H5\\n', 'CLEC12A\\n', 'ZKSCAN1\\n', 'PGLYRP1\\n', 'OR8U9\\n', 'DLL1\\n', 'TAF6\\n', 'IL4I1\\n', 'OGG1\\n', 'ZNF157\\n', 'KIF2A\\n', 'PVR\\n', 'KNG1\\n', 'H3C11\\n', 'GCGR\\n', 'RAB5C\\n', 'RPS4X\\n', 'OR8D4\\n', 'TTBK2\\n', 'ADRA1A\\n', 'CRH\\n', 'OR4A47\\n', 'FEM1C\\n', 'KPNA1\\n', '341568\\n', 'SIGLEC9\\n', 'RIN1\\n', 'ZNF425\\n', 'NCOA3\\n', 'LDLR\\n', 'LAMTOR3\\n', 'EFTUD2\\n', 'GSK3B\\n', 'NLN\\n', 'PSMC2\\n', 'OR10X1\\n', 'ZNF473\\n', 'OR51B6\\n', 'ARHGAP15\\n', 'PRKAR2B\\n', 'MYL9\\n', 'RTP5\\n', 'COPE\\n', 'TAF3\\n', 'NUDC\\n', 'RPAP2\\n', 'ZNF333\\n', 'FGF22\\n', 'SNRPF\\n', 'LCP2\\n', 'MYH11\\n', 'MCPH1\\n', 'ARHGAP23\\n', 'ITGA4\\n', 'ZNF454\\n', 'MED24\\n', 'KIFC1\\n', '100506888\\n', 'PSMB4\\n', 'SYNJ1\\n', 'LCE4A\\n', 'RAC2\\n', 'UBR4\\n', 'ARHGAP17\\n', 'ZNF573\\n', 'ARHGEF3\\n', 'AGO3\\n', 'OR51F2\\n', 'TAS2R38\\n', 'OR8U3\\n', 'NELFE\\n', 'DCTN6\\n', 'OSTF1\\n', 'GNA13\\n', 'OR51Q1\\n', 'CYP4A11\\n', 'EDN1\\n', 'L1CAM\\n', 'CXCR4\\n', 'RAB33B\\n', 'OR6Q1\\n', 'IL6R\\n', 'TXNDC5\\n', 'HUS1\\n', 'OR13J1\\n', 'CXADR\\n', 'MAP2K7\\n', 'CD36\\n', 'MLN\\n', 'OR8G5\\n', 'GJA5\\n', 'NMUR2\\n', 'OR2F1\\n', 'ACOT12\\n', 'HJURP\\n', 'EPHA10\\n', 'DNMT3L\\n', 'EHMT1\\n', 'RPL5\\n', 'KBTBD7\\n', 'SIRT3\\n', 'INO80\\n', 'ACTG1\\n', 'RPL14\\n', 'HOXB2\\n', 'IRF7\\n', 'GAK\\n', 'ITGA7\\n', 'GNGT1\\n', 'GPR18\\n', 'ZNF2\\n', 'TBL3\\n', 'TALDO1\\n', 'ZNF250\\n', 'OR1M1\\n', 'TNFRSF10A\\n', 'CWC22\\n', 'EBNA1BP2\\n', 'FCHO2\\n', 'OR13C2\\n', 'ARL8A\\n', 'NALCN\\n', 'TAF4B\\n', 'AVPR2\\n', 'ME1\\n', 'ELL3\\n', 'CPPED1\\n', 'SOS1\\n', 'SAP130\\n', 'LCE2D\\n', 'LTBP1\\n', 'CSTB\\n', 'MGRN1\\n', 'PTPRC\\n', 'KEAP1\\n', 'HBEGF\\n', 'REEP3\\n', 'PPP1R12A\\n', 'WWP1\\n', 'OR5B17\\n', 'FBN1\\n', 'ZNF688\\n', 'OSTM1\\n', 'COL16A1\\n', 'OR5M11\\n', 'ASB5\\n', 'KDM3A\\n', 'NPBWR1\\n', 'REEP5\\n', 'PRKAR1A\\n', 'KRAS\\n', 'SSTR5\\n', 'SKA2\\n', 'PSME4\\n', 'OR7A10\\n', 'DHX9\\n', 'SPCS2\\n', 'BCL10\\n', 'CSNK2B\\n', 'FGFR4\\n', 'LPAR4\\n', 'PFKFB3\\n', 'POLR1C\\n', 'ZNF215\\n', 'GPR31\\n', 'SNRPG\\n', 'OR51L1\\n', 'SQLE\\n', 'TRAPPC11\\n', 'ATG9A\\n', 'TACR1\\n', 'H3C3\\n', 'ZNF556\\n', 'WDR48\\n', 'CCND1\\n', 'TUBA4A\\n', 'CYLD\\n', 'PIK3R5\\n', 'CBX5\\n', 'PSMA1\\n', 'GATAD2A\\n', 'COMMD9\\n', 'IL10\\n', 'ZNF570\\n', 'CXCR1\\n', 'CEBPB\\n', 'GFI1\\n', 'OR1D5\\n', 'RPL3\\n', 'COL12A1\\n', 'POLR2I\\n', 'IL1A\\n', 'TIMP1\\n', 'OR51B4\\n', 'SPSB3\\n', 'HERC5\\n', 'LCE1B\\n', 'TMC6\\n', 'AP1S1\\n', 'RPS6KA2\\n', 'MFGE8\\n', 'FAM20A\\n', 'ADRA1B\\n', 'CDC37L1\\n', 'HPD\\n', 'SSTR3\\n', 'MED6\\n', 'DCUN1D4\\n', 'TAF2\\n', 'AQR\\n', 'RHOF\\n', 'EIF2S1\\n', 'OR2A2\\n', 'ARPC5\\n', 'SSTR1\\n', 'SDCCAG8\\n', 'RPLP1\\n', 'STAT5B\\n', 'H2BC21\\n', 'RCOR1\\n', 'NCR3LG1\\n', 'ITSN1\\n', 'RPL18A\\n', 'BRAF\\n', 'KLRD1\\n', 'UNC79\\n', 'ZNF799\\n', 'VIPR2\\n', 'RDH8\\n', 'TAS2R5\\n', 'GNG3\\n', 'FBXL7\\n', 'SNRPB\\n', 'TLL2\\n', 'VDAC3\\n', 'BSG\\n', 'TUBGCP3\\n', 'AP2S1\\n', 'UIMC1\\n', 'ERBB2\\n', 'H2AJ\\n', 'CXCL10\\n', 'HCRT\\n', 'RBMX\\n', 'TXNRD1\\n', 'MAPK3\\n', 'FGB\\n', 'CASP8\\n', 'KRT75\\n', 'PRDX6\\n', 'TAF5\\n', 'OR8K1\\n', 'ZNF493\\n', 'KRT1\\n', 'THUMPD1\\n', 'MED14\\n', 'EIF3F\\n', 'ARHGAP6\\n', 'RFC1\\n', 'CTNNA1\\n', 'ZNF577\\n', 'IL27RA\\n', 'LMAN1L\\n', 'PHF21A\\n', 'COMMD6\\n', 'OR2J2\\n', 'TDG\\n', 'ZNF597\\n', 'VPREB3\\n', 'DNMT3B\\n', 'GPR65\\n', 'CX3CR1\\n', 'TUBB4B\\n', 'PSMB7\\n', 'OR4C6\\n', 'PIK3R2\\n', 'RPL7\\n', 'SRSF5\\n', 'RIPK2\\n', 'RPL38\\n', 'ALAD\\n', 'GTF2A2\\n', 'PTK2\\n', 'OR2T1\\n', 'AGTR1\\n', 'SULT2A1\\n', 'EPHB6\\n', 'CCNA2\\n', 'APOA1\\n', 'EIF4E\\n', 'RRH\\n', 'KRT83\\n', 'OR6C74\\n', 'PPARG\\n', 'AKT1S1\\n', 'OR6S1\\n', 'TBC1D10C\\n', 'PPP2R5A\\n', 'ARHGEF5\\n', 'CEP97\\n', 'SGO1\\n', 'OR4F15\\n', 'ZNF317\\n', 'OR4C3\\n', 'SNRPD3\\n', 'SUCNR1\\n', 'MAOA\\n', 'RAB21\\n', 'APLP2\\n', 'RPL13\\n', 'TCP1\\n', 'CYSTM1\\n', 'RPN2\\n', 'EGFR\\n', 'SELP\\n', 'MTA3\\n', 'OS9\\n', 'OR5D14\\n', 'OR5W2\\n', 'LTF\\n', 'NIP7\\n', 'SP100\\n', 'BANF1\\n', 'ERCC1\\n', 'HBA1\\n', 'OR6C76\\n', 'PSMD6\\n', 'GRM1\\n', 'MCM7\\n', 'ZDHHC7\\n', 'ZNF354B\\n', 'CC2D2A\\n', 'DSC2\\n', 'TAS2R60\\n', 'PTX3\\n', 'DEGS1\\n', 'H2AZ2\\n', 'HDAC4\\n', 'IFI27\\n', 'EVPL\\n', 'IL23A\\n', 'GSDMD\\n', 'TMEM179B\\n', 'MED4\\n', 'LDHA\\n', 'SRSF10\\n', 'ITGAV\\n', 'ZNF419\\n', 'ARHGEF9\\n', 'SRGN\\n', 'NDUFA1\\n', 'H3-4\\n', 'TAF4\\n', 'ZNF785\\n', 'STAT1\\n', 'USP34\\n', 'CRY1\\n', 'DCTN2\\n', 'RGS11\\n', 'SPCS1\\n', 'HCRTR2\\n', 'EXOSC2\\n', 'MTM1\\n', 'DTX2\\n', 'GATA3\\n', 'TNFRSF11A\\n', 'OR2T12\\n', 'UBE3D\\n', 'UBB\\n', 'COX6B1\\n', 'TNIK\\n', 'KRT6A\\n', 'IFNA8\\n', 'ADRA1D\\n', 'DYNC1LI1\\n', 'ZNF778\\n', 'RAB31\\n', 'P4HA1\\n', 'VAV2\\n', 'H2AC16\\n', 'PLA2G6\\n', 'DAAM1\\n', 'CMTM6\\n', 'KRTAP10-7\\n', 'DIAPH2\\n', 'PRLHR\\n', 'PDE2A\\n', 'RNF123\\n', 'GM2A\\n', 'GCG\\n', 'ACADVL\\n', 'RPLP2\\n', 'KRT74\\n', 'SNAP23\\n', 'RPL11\\n', 'COPZ2\\n', 'WSB2\\n', 'MMP10\\n', 'H2AC7\\n', 'USP25\\n', 'OR8B3\\n', 'BMP4\\n', 'LY6G6F\\n', 'GNG8\\n', 'UBA5\\n', 'SUPT5H\\n', 'KRTAP4-3\\n', 'TOM1\\n', 'TBP\\n', 'PPP3R1\\n', 'ITGA2\\n', 'COL1A1\\n', 'ZNF726\\n', 'FPR3\\n', 'OR11H2\\n', 'CCT8\\n', 'CEACAM8\\n', 'FBXL13\\n', 'HLA-DRB1\\n', 'CNOT9\\n', 'OR9Q2\\n', 'OR4D11\\n', 'TAS2R8\\n', 'FANCL\\n', 'OR51E1\\n', 'GFRA3\\n', 'ZNF682\\n', 'PRKCSH\\n', 'KRT7\\n', 'ZNF92\\n', 'H2AC17\\n', 'TRIM50\\n', 'WSB1\\n', 'SMARCD3\\n', 'PDIA3\\n', 'PFKL\\n', 'KAT14\\n', 'CRYM\\n', 'IL3RA\\n', 'ADCYAP1\\n', 'HLA-DQA2\\n', 'ZKSCAN5\\n', 'PREB\\n', 'PLAU\\n', 'UBE3A\\n', 'SEPSECS\\n', 'KRTAP5-2\\n', 'BABAM1\\n', 'SHMT1\\n', 'SUMO2\\n', 'APLNR\\n', 'MCM5\\n', 'TAC3\\n', 'LDHAL6B\\n', 'IGF2\\n', 'GBP7\\n', 'MYBL2\\n', 'COL20A1\\n', 'IER3\\n', 'KLHL2\\n', 'HMGB1\\n', 'ATN1\\n', 'CPSF4\\n', 'KNTC1\\n', 'IFI16\\n', 'IMPDH2\\n', 'PAX6\\n', 'OR5K4\\n', 'OR1L1\\n', 'S1PR1\\n', 'GNGT2\\n', 'ERBIN\\n', 'DIMT1\\n', 'OR2Y1\\n', 'ZNF624\\n', 'ARHGEF40\\n', 'USP17L11\\n', 'THOC6\\n', 'ZNF101\\n', 'PLCB1\\n', 'CDK9\\n', 'TUBGCP6\\n', 'KAT2B\\n', 'GNG4\\n', 'EPHA1\\n', 'TAS2R16\\n', 'CHD1\\n', 'EEF1AKMT4-ECE2\\n', 'RAP1A\\n', 'MAP3K1\\n', 'VWF\\n', 'OPN1SW\\n', 'THBS1\\n', 'TNC\\n', 'ZNF416\\n', 'CSNK2A2\\n', 'MDC1\\n', 'ALPL\\n', 'OR13C5\\n', 'FASN\\n', 'ORC3\\n', 'XRCC6\\n', 'PSMB10\\n', 'RPL10\\n', 'HCAR3\\n', 'OR4M2\\n', 'CTR9\\n', 'RPS4Y2\\n', 'ATP6V1B2\\n', 'OR6X1\\n', 'VAMP7\\n', 'CENPP\\n', 'EZH2\\n', 'UCN\\n', 'RGS10\\n', 'MBD6\\n', 'PSME1\\n', 'APOA5\\n', 'EIF4G3\\n', 'ZNF701\\n', 'POLR3F\\n', 'SNX9\\n', 'ORC6\\n', 'ULBP1\\n', 'CNOT11\\n', 'VDAC1\\n', 'RGS6\\n', 'ELP2\\n', 'NCOA6\\n', 'CPLX1\\n', 'NDUFB5\\n', 'BIRC3\\n', 'UBE2U\\n', 'TOPORS\\n', 'CTSL\\n', 'KIFC3\\n', 'MVB12B\\n', 'PSMD13\\n', 'DSC1\\n', 'ESR1\\n', 'GJB3\\n', 'CPT1A\\n', 'CASP2\\n', 'YY1\\n', 'MECP2\\n', 'USP10\\n', 'SH3GL1\\n', 'CAMK2A\\n', 'LCE3C\\n', 'OR5P3\\n', 'FGF23\\n', 'ZNF417\\n', 'ZNF304\\n', 'KDM6B\\n', 'HAUS4\\n', 'PLK1\\n', 'TRIM48\\n', 'CCND2\\n', 'TAS2R50\\n', 'OR51E2\\n', 'TBL1X\\n', 'IL6\\n', 'DVL2\\n', 'FBXO6\\n', 'SLC22A6\\n', 'MANF\\n', 'PPP2R1B\\n', 'SIAH2\\n', 'FGF3\\n', 'REEP4\\n', 'CCNF\\n', 'GLP2R\\n', 'PDPR\\n', 'DET1\\n', 'GALR1\\n', 'TUBAL3\\n', 'CDK2\\n', 'BCAT2\\n', 'ZNF737\\n', 'PYGL\\n', 'DHX38\\n', 'PCBP2\\n', 'RASGRP1\\n', 'POLDIP3\\n', 'ABCB9\\n', 'MNAT1\\n', 'ZC3H8\\n', 'SIGLEC5\\n', 'TOP3A\\n', 'KIFC2\\n', 'OR2T10\\n', 'KRT17\\n', 'MED26\\n', 'KSR1\\n', 'CYBB\\n', 'KRTAP10-1\\n', 'KIF26B\\n', 'NDE1\\n', 'SRRT\\n', 'MPIG6B\\n', 'OR6C3\\n', 'PICALM\\n', 'HOMER1\\n', 'OR13D1\\n', 'RAB3D\\n', 'SNRPN\\n', 'EIF4A1\\n', 'NEDD4L\\n', 'UBE2D1\\n', 'TAF15\\n', 'ELOB\\n', 'BIN2\\n', 'SPTB\\n', 'ZNF234\\n', 'SCMH1\\n', 'PRDX1\\n', 'SENP3\\n', 'STOM\\n', 'USP21\\n', 'ZNF470\\n', 'BUB1\\n', 'E2F8\\n', 'ADH4\\n', 'IFT57\\n', 'GUCY2D\\n', 'PROK2\\n', 'CALCA\\n', 'B4GALT5\\n', 'FOXO4\\n', 'CENPC\\n', 'RPL37\\n', 'RAI1\\n', 'CTSZ\\n', 'NFYA\\n', 'SUPT20H\\n', 'PSMA6\\n', 'NCOR2\\n', 'CBLL2\\n', 'SLC18A3\\n', 'IL2RA\\n', 'SLC6A12\\n', 'CRCP\\n', 'UTP11\\n', 'APLN\\n', 'OR6V1\\n', 'PRLR\\n', 'HTR1D\\n', 'PIK3CD\\n', 'DNAJC5\\n', 'MCEMP1\\n', 'UPF2\\n', 'CTSE\\n', 'CDK4\\n', 'TFB2M\\n', 'CUL7\\n', 'AGFG1\\n', 'RASGEF1A\\n', 'LEP\\n', 'UBE2S\\n', 'MIS18BP1\\n', 'RGS13\\n', 'CASP14\\n', 'KIF15\\n', 'NLGN4Y\\n', 'KRTAP10-10\\n', 'USP14\\n', 'ZNF619\\n', 'EIF3H\\n', 'ETFA\\n', 'UPF3A\\n', 'PHF19\\n', 'ARHGEF10\\n', 'ZNF484\\n', 'POP5\\n', 'RHOT1\\n', 'PSMD3\\n', 'AGL\\n', 'MMP17\\n', 'VAMP8\\n', 'POLR3G\\n', 'ZNF774\\n', 'OR6T1\\n', 'SSNA1\\n', 'ZNF320\\n', 'SLC2A4\\n', 'GYG1\\n', 'PAK3\\n', 'EDEM1\\n', 'IGFBP1\\n', 'FGF7\\n', 'DROSHA\\n', 'PSMB6\\n', 'KRT9\\n', 'PSG11\\n', 'RNF34\\n', 'PEA15\\n', 'PLAUR\\n', 'CFL1\\n', 'OR10J5\\n', 'ASB1\\n', 'WDR61\\n', 'OR4M1\\n', 'STBD1\\n', 'POLR2K\\n', 'OR1E2\\n', 'RAB8A\\n', 'FBXO44\\n', 'ZNF671\\n', 'CABLES2\\n', 'MED10\\n', 'RPS25\\n', 'C9\\n', 'COG6\\n', 'RUVBL2\\n', 'LCE2A\\n', 'GRIN3A\\n', 'TUBB4A\\n', 'POLR2B\\n', 'PSENEN\\n', 'CCR4\\n', 'RAB9B\\n', 'KAT2A\\n', 'MCM3\\n', 'PRPF40A\\n', 'ATXN7L3\\n', 'OR7C2\\n', 'ACTL6A\\n', 'TP53BP1\\n', 'HRC\\n', 'OR11H1\\n', 'CEACAM1\\n', 'CAPN5\\n', 'SOCS1\\n', 'GNB5\\n', 'ZNF354C\\n', 'ALDH7A1\\n', 'AOC3\\n', 'NELFA\\n', 'COL9A1\\n', 'CHRM2\\n', 'CKAP4\\n', 'RMI1\\n', 'NUP153\\n', 'GRPR\\n', 'GFRA1\\n', 'KLHL22\\n', 'PRG2\\n', 'CTSF\\n', 'HRH1\\n', 'F2RL1\\n', 'TERF2\\n', 'PTGER3\\n', 'GTF2F1\\n', 'AP1G1\\n', 'KDM1A\\n', 'HRH3\\n', 'ZC3H11A\\n', 'IL1RN\\n', 'ZNF224\\n', 'DDX39A\\n', 'USP3\\n', 'RAB41\\n', 'STAT4\\n', 'MED27\\n', 'IGFALS\\n', 'OR5H15\\n', 'CORT\\n', 'BCAR1\\n', 'DOCK1\\n', 'KDELR2\\n', 'MLST8\\n', 'POLR2G\\n', 'PTAFR\\n', 'DEFB105A\\n', 'UBE2J2\\n', 'RPL29\\n', 'FBXW8\\n', 'LEF1\\n', 'MIS12\\n', 'DCAF1\\n', 'DCAF7\\n', 'CD44\\n', 'CHRNB4\\n', 'OR2V1\\n', 'WWOX\\n', 'SOCS3\\n', 'USP30\\n', 'ZNF257\\n', 'GAPDHS\\n', 'IFNA17\\n', 'FGF2\\n', 'PPP3CA\\n', 'PSMD11\\n', 'TMEM30A\\n', 'CAPZA2\\n', 'MC5R\\n', 'NMBR\\n', 'OR2A1\\n', 'RGS18\\n', 'CAPN11\\n', 'PTPRS\\n', 'DNASE1L1\\n', 'ABCG2\\n', 'TRAPPC1\\n', 'EXOSC8\\n', 'OR2A5\\n', 'ZWILCH\\n', 'ACBD3\\n', 'TOR1A\\n', 'EMD\\n', 'BRCA1\\n', 'OR52E4\\n', 'TUBA3D\\n', 'XCL1\\n', 'PPM1B\\n', 'COL4A2\\n', 'AEBP2\\n', 'INTU\\n', 'SNW1\\n', 'KRTAP19-2\\n', 'TNKS\\n', 'PLAC8\\n', 'GPSM3\\n', 'PSMB11\\n', 'ZNRF2\\n', 'APBB1\\n', 'ZNF791\\n', 'ECM1\\n', 'PTGES3\\n', 'OR2B6\\n', 'OR2A7\\n', 'CCNE1\\n', 'PRG3\\n', 'HDAC1\\n', 'PHYKPL\\n', 'KLHL5\\n', 'PAPOLA\\n', 'MAML1\\n', 'FZD4\\n', 'ZNF675\\n', 'CEP135\\n', 'NOS1\\n', 'SKP1\\n', 'NBN\\n', 'PHF5A\\n', 'IFNA7\\n', 'OR4N5\\n', 'ANO5\\n', 'TAS2R43\\n', 'RPS13\\n', 'COMP\\n', 'DBT\\n', 'TOMM70\\n', 'TNFSF12-TNFSF13\\n', 'UGT1A9\\n', 'CACNA1D\\n', 'CAV2\\n', 'DCAF13\\n', 'USP17L17\\n', 'FBXO2\\n', 'COMT\\n', 'OAS2\\n', 'INTS11\\n', 'LCN2\\n', 'ZNF233\\n', 'HSPG2\\n', 'HDAC3\\n', 'ZNF184\\n', 'RAD51AP1\\n', 'ERLIN2\\n', 'OR56A3\\n', 'ELOA2\\n', 'EPN1\\n', 'COL5A1\\n', 'H2AC18\\n', 'DYNLL1\\n', 'PPP4C\\n', 'UBE2K\\n', 'ZNF559\\n', 'CDT1\\n', 'CXCL5\\n', 'SGPP1\\n', 'HK3\\n', 'COX6A1\\n', 'FBXW10\\n', 'DCUN1D3\\n', 'KIF22\\n', 'ITCH\\n', 'REST\\n', 'QRFP\\n', 'POT1\\n', 'OR10A7\\n', 'ADAM10\\n', 'KANK1\\n', 'EDNRA\\n', 'MAVS\\n', 'ARHGDIA\\n', 'ACADSB\\n', 'SEC61G\\n', 'SETD2\\n', 'GPR37\\n', 'VIM\\n', 'CSF1\\n', 'RRN3\\n', 'PDE7A\\n', 'TTF1\\n', 'PCF11\\n', 'ZCRB1\\n', 'ZNF155\\n', 'PIAS4\\n', 'KIF19\\n', 'CMC2\\n', 'KIF23\\n', 'JADE1\\n', 'PTBP1\\n', 'OR13C3\\n', 'OR5H6\\n', 'SERPINB3\\n', 'TAC1\\n', 'COL15A1\\n', 'TSC2\\n', 'XPO5\\n', 'CLPS\\n', 'HAO1\\n', 'DNM1\\n', 'H3C12\\n', 'MXRA8\\n', 'UBR1\\n', 'TLR9\\n', 'ALDH3A2\\n', 'DCTN3\\n', 'TCF7L1\\n', 'INO80C\\n', 'GPX2\\n', 'CASK\\n', 'OR52E8\\n', 'INCENP\\n', 'CPSF3\\n', 'KCTD7\\n', 'CD177\\n', 'CDC73\\n', 'NUP85\\n', 'OR13C8\\n', 'STUB1\\n', 'USP17L4\\n', 'ZNF605\\n', 'SNURF\\n', 'RPS4Y1\\n', 'PDE4A\\n', 'PLEKHA1\\n', 'NCK1\\n', 'GPR183\\n', 'ITGB7\\n', 'WASF1\\n', 'GLYAT\\n', 'GATA2\\n', 'MAP1LC3C\\n', 'CDC7\\n', 'OR52K2\\n', 'LAMA5\\n', 'LHCGR\\n', 'CAMK2B\\n', 'KRTAP19-7\\n', 'RAB7B\\n', 'RPS5\\n', 'SEMA4D\\n', 'ACP3\\n', 'GREB1\\n', 'LAMP2\\n', 'GPR132\\n', 'PSMB1\\n', 'ZFP37\\n', 'JAG2\\n', 'SLC10A1\\n', 'DDX47\\n', 'TSPAN15\\n', 'GNG2\\n', 'GPR161\\n', 'DTL\\n', 'OR10T2\\n', 'LONRF1\\n', 'RAD17\\n', 'ARG1\\n', 'CD14\\n', 'PRKCB\\n', 'ODAM\\n', 'STARD13\\n', 'ZNF490\\n', 'ZNF10\\n', 'GNB4\\n', 'NCBP1\\n', 'GLI3\\n', 'OR51H1\\n', 'TRIP12\\n', 'COL9A3\\n', 'VEGFA\\n', 'GNG7\\n', 'OR1E1\\n', 'GPR27\\n', 'S100A7\\n', 'GAPVD1\\n', 'H2AC1\\n', 'SSU72\\n', 'NDUFS4\\n', 'OR2J3\\n', 'PPP6R1\\n', 'COG1\\n', 'PDE1A\\n', 'MZT1\\n', 'ALB\\n', 'FFAR2\\n', 'NUP188\\n', 'UNG\\n', 'CALML5\\n', 'EIF3M\\n', 'NOL12\\n', 'DDX39B\\n', 'ARHGEF37\\n', 'OR3A2\\n', 'RPSA\\n', 'CRTC2\\n', 'MAD1L1\\n', 'KLB\\n', 'OLR1\\n', 'OAS1\\n', 'POLD1\\n', 'NEDD4\\n', 'NPSR1\\n', 'ADRB3\\n', 'ARHGDIB\\n', 'ZNF709\\n', 'SOX2\\n', 'OGDH\\n', 'ZNF12\\n', 'FGD4\\n', 'PEX13\\n', 'OR14A16\\n', 'REEP1\\n', 'DOCK2\\n', 'BST1\\n', 'P4HB\\n', 'DYNC1I2\\n', 'KRTAP10-9\\n', 'USP13\\n', 'ZNF337\\n', 'CNKSR1\\n', 'PTPRB\\n', '956536\\n', 'RGR\\n', 'P2RY12\\n', 'TUBA1C\\n', 'RBBP4\\n', 'CSF2RB\\n', 'ANAPC7\\n', 'SYNE1\\n', 'THOP1\\n', 'CSNK1E\\n', 'MED7\\n', 'NFASC\\n', 'UBE2Q1\\n', 'OR6C6\\n', 'TLE2\\n', 'ASB6\\n', 'NET1\\n', 'MCHR2\\n', 'H2BC8\\n', 'GNG11\\n', 'ZNF585A\\n', 'USP17L21\\n', 'EIF3E\\n', 'FER\\n', 'IDE\\n', 'ZNF543\\n', 'H2BC5\\n', 'PABPN1\\n', 'PROC\\n', 'ADAM8\\n', 'NELFB\\n', 'LAS1L\\n', 'FBXO9\\n', 'UBE2L3\\n', 'LAMTOR4\\n', 'JAK1\\n', 'SLC6A1\\n', 'ACTR8\\n', 'NUP88\\n', 'TBC1D20\\n', 'XCL2\\n', 'CTSG\\n', 'F2R\\n', 'OR6N1\\n', 'OR7G2\\n', 'NAPB\\n', 'ZNF614\\n', 'PRDX4\\n', 'RBX1\\n', 'RPS28\\n', 'COX8A\\n', 'SFTPA2\\n', 'EBAG9\\n', 'CDH1\\n', 'MPHOSPH6\\n', 'ESR2\\n', 'MC3R\\n', 'GTF2B\\n', 'SLC6A13\\n', 'PCLAF\\n', 'TGFB3\\n', 'CIITA\\n', 'SF3B4\\n', 'RBL1\\n', 'ADH1A\\n', 'HNRNPL\\n', 'PPP2R5B\\n', 'TRIB3\\n', 'OR8U1\\n', 'RASA1\\n', 'FERMT3\\n', 'OR4C16\\n', 'PRMT3\\n', 'POLD3\\n', 'COPS4\\n', 'ZIK1\\n', 'RPL41\\n', 'ECHDC2\\n', 'SMARCA4\\n', 'TMEM63A\\n', 'RNF146\\n', 'IKZF1\\n', 'HLA-E\\n', 'RAF1\\n', 'ORMDL3\\n', 'AMTN\\n', 'CD55\\n', 'AGO1\\n', '956529\\n', 'CCNT1\\n', 'MAGED2\\n', 'FYN\\n', 'THOC2\\n', 'STMN1\\n', 'ARHGAP8\\n', 'OR1S2\\n', 'RPTOR\\n', 'PFN1\\n', 'FBXL14\\n', 'CDKN1A\\n', 'PIANP\\n', 'DCAF17\\n', 'PSTK\\n', 'NOTCH3\\n', 'RPS29\\n', 'ADORA2A\\n', 'WDR36\\n', 'DNM3\\n', 'OR1L4\\n', 'CCL3L1\\n', 'TEX264\\n', 'SNAPC5\\n', 'LSM5\\n', 'PCYOX1L\\n', 'COL4A5\\n', 'SP7\\n', 'RPL6\\n', 'NPC2\\n', 'OR2V2\\n', 'GAB1\\n', 'P2RY10\\n', 'TINF2\\n', 'OR1L3\\n', 'SRP14\\n', 'ACTN2\\n', 'EIF3K\\n', 'CAPN3\\n', 'PGM2\\n', 'ASB2\\n', 'MMP2\\n', 'RTP1\\n', 'COLGALT1\\n', 'CD300E\\n', 'WDTC1\\n', 'CD3E\\n', 'CRACR2A\\n', 'VAV3\\n', 'TNRC6A\\n', 'BCL2L1\\n', 'PSMD5\\n', 'GABBR2\\n', 'NPY1R\\n', 'SAP18\\n', 'OR8G1\\n', 'UBE2G1\\n', 'NME1-NME2\\n', 'H2AX\\n', 'HNRNPA3\\n', 'ZNF37A\\n', 'NR4A3\\n', 'ADA2\\n', 'ALYREF\\n', 'OR4K2\\n', 'PSME3\\n', 'UTP14C\\n', 'OR2B2\\n', 'PRKAB2\\n', 'GAL\\n', 'OPRD1\\n', 'WNT6\\n', 'FTH1\\n', 'PELI1\\n', 'OR4F21\\n', 'TERF2IP\\n', 'OR9Q1\\n', 'DSG3\\n', 'ZNF496\\n', 'GATA5\\n', 'ARSG\\n', 'RTF1\\n', 'SERPINB12\\n', 'ZNF875\\n', 'FBXW2\\n', 'AMFR\\n', 'MYO9A\\n', 'ZNF99\\n', 'ZNF431\\n', 'FGF6\\n', 'CLEC5A\\n', 'RDX\\n', 'AGTRAP\\n', 'B4GALT1\\n', 'CARNS1\\n', 'COPS2\\n', 'BDKRB2\\n', 'NEK2\\n', 'ACADM\\n', 'SDSL\\n', 'RNF144B\\n', '956527\\n', 'IFT88\\n', 'REPS2\\n', 'OR1C1\\n', 'ANO8\\n', 'CENPU\\n', 'CCL1\\n', 'TAS2R1\\n', 'ZNF200\\n', 'KRT81\\n', 'IRF4\\n', 'SEC24D\\n', 'GBP5\\n', 'TAF7L\\n', 'CEP192\\n', 'OR2AK2\\n', 'PDE1B\\n', 'XPC\\n', 'HCAR1\\n', 'SNRNP48\\n', 'ZKSCAN7\\n', 'GRIN1\\n', 'SLC27A2\\n', 'ACOX1\\n', 'HIPK2\\n', 'GRM6\\n', 'FGFR2\\n', 'CCL23\\n', 'NFYC\\n', 'ADCY4\\n', 'SCN8A\\n', 'BIRC5\\n', 'AP4S1\\n', 'C5\\n', 'LIG3\\n', 'ZNF550\\n', 'THEM4\\n', 'LILRB3\\n', 'ERCC8\\n', 'WNT7B\\n', 'BHLHE40\\n', 'RPS14\\n', 'CENPK\\n', 'OR52N1\\n', 'DDX52\\n', 'MED29\\n', 'PRKG1\\n', 'RBBP5\\n', 'DPY30\\n', 'MSL3\\n', 'MEAF6\\n', 'OR10J3\\n', 'ERCC3\\n', 'SLU7\\n', 'TBC1D4\\n', 'KIF25\\n', 'MIB1\\n', 'FGD2\\n', 'OR9G4\\n', 'APOB\\n', 'ERCC6\\n', 'NUB1\\n', 'PDHX\\n', 'TAF6L\\n', 'NUP93\\n', 'OR5B12\\n', 'GNG10\\n', 'P2RY14\\n', 'CD3D\\n', 'AMY2B\\n', 'ZW10\\n', 'GALR2\\n', 'KDR\\n', 'PTEN\\n', 'ARIH2\\n', 'KLHL41\\n', 'ETF1\\n', 'RPS15\\n', 'NCKAP1L\\n', 'TAF8\\n', 'ASIC1\\n', 'CDA\\n', 'DKC1\\n', 'CEP57\\n', 'MLNR\\n', 'TFAM\\n', 'FOXG1\\n', 'HERC6\\n', 'KLHL21\\n', 'FBXO41\\n', 'HIF3A\\n', 'WEE1\\n', 'KRBOX4\\n', 'ATP8B4\\n', 'PKP3\\n', 'MPRIP\\n', 'ABR\\n', 'FGR\\n', 'TRAPPC4\\n', 'AURKB\\n', 'RCC2\\n', 'LNPEP\\n', 'KHSRP\\n', 'CD1D\\n', 'FUS\\n', 'RPS17\\n', 'TRH\\n', 'KLHL42\\n', 'RNF130\\n', 'MYD88\\n', 'VCL\\n', 'PRKCG\\n', 'SLC25A21\\n', 'NOS3\\n', 'GTF2H3\\n', 'OR5M9\\n', 'CD86\\n', 'TRIM10\\n', 'MLYCD\\n', 'PGR\\n', 'PDE8A\\n', 'ARHGAP1\\n', 'PDE4D\\n', 'CTNNBL1\\n', 'ASB12\\n', 'MAPKAPK3\\n', 'STC2\\n', 'PIK3CB\\n', 'CTSB\\n', 'GAD1\\n', 'RAB18\\n', 'BEST4\\n', 'KRT8\\n', 'MAPK11\\n', 'IFI35\\n', 'SLC22A3\\n', 'NFYB\\n', 'POLR2L\\n', 'HLA-DQB1\\n', 'INO80D\\n', 'ZNF684\\n', 'CSPG5\\n', 'DBNL\\n', 'NFKBIA\\n', 'ACTN4\\n', 'LSS\\n', 'OR2T5\\n', 'GTF2E1\\n', 'S1PR5\\n', 'SYTL4\\n', 'POLR3K\\n', 'ZNF772\\n', 'AKAP10\\n', 'POLE\\n', 'ITGB6\\n', 'KLRC2\\n', 'FLRT2\\n', 'PRMT7\\n', 'RGS20\\n', 'GPR83\\n', 'CLASP1\\n', 'ZNF189\\n', 'ABCA1\\n', 'FGG\\n', 'P2RX1\\n', 'PTH\\n', 'ZNF253\\n', 'USP33\\n', 'TAS1R3\\n', 'H3C6\\n', 'OR4C5\\n', 'ARTN\\n', 'SLC25A13\\n', 'MLH3\\n', 'NFE2\\n', '3707572\\n', 'GPC4\\n', 'PSMD10\\n', 'DOCK11\\n', 'CEP41\\n', 'CDC45\\n', 'PACSIN3\\n', 'LHX2\\n', 'LAMB3\\n', 'ZNF707\\n', 'CCL5\\n', 'MEN1\\n', 'DDX46\\n', 'HAUS5\\n', 'DOCK9\\n', 'ZNF547\\n', 'PSME2\\n', 'ALOX5\\n', 'ZNF830\\n', 'CSAD\\n', 'HABP4\\n', 'NDUFV1\\n', 'SUPT16H\\n', 'CTSS\\n', 'GPR20\\n', 'H4C9\\n', 'OR13G1\\n', 'FGF20\\n', 'REEP2\\n', 'GAB2\\n', 'APH1A\\n', 'LHX3\\n', 'UBE2D4\\n', 'TMEM115\\n', 'MED20\\n', 'PTGER4\\n', 'FGF16\\n', 'HPSE\\n', 'ROCK2\\n', 'PPIL4\\n', 'KIF4A\\n', 'RCE1\\n', 'CCNC\\n', 'LAMA3\\n', 'OR5M8\\n', 'ATG4B\\n', 'RXFP3\\n', 'EEF2\\n', 'SST\\n', 'WBP11\\n', 'SCARB2\\n', 'ZNF213\\n', 'ZNF782\\n', 'TREM2\\n', 'SSTR4\\n', 'HERC2\\n', 'SLC44A2\\n', 'OR6C4\\n', 'ZNF705A\\n', 'TRA2B\\n', 'FGF19\\n', 'OR5M10\\n', 'SCLT1\\n', 'DHX37\\n', 'GALC\\n', 'C3AR1\\n', 'SMC2\\n', 'COG7\\n', 'CHMP4A\\n', 'CD300LG\\n', 'TNRC6C\\n', 'TIMP2\\n', 'C6orf120\\n', 'CENPN\\n', 'CLEC10A\\n', 'CPT1C\\n', 'H2AC20\\n', 'GP1BA\\n', 'PRPF4\\n', 'BATF\\n', 'CD93\\n', 'ZNF557\\n', 'RPS3\\n', 'TPP2\\n', 'EFEMP2\\n', 'NCSTN\\n', 'H2BC1\\n', 'SRSF2\\n', 'CEP63\\n', 'OR52E6\\n', 'GNAI1\\n', 'ZNF74\\n', 'TNF\\n', 'ARF4\\n', 'CDKN2A\\n', 'AP2A1\\n', 'ATG9B\\n', 'PAK1\\n', 'POLR1E\\n', 'OR10C1\\n', 'EPX\\n', 'IQGAP1\\n', 'GPR150\\n', 'FMNL3\\n', 'IGFBP7\\n', 'ADRB1\\n', 'KRTAP11-1\\n', 'AP1M2\\n', 'ZKSCAN8\\n', 'POLD4\\n', 'TENT4A\\n', 'OR14J1\\n', 'ASB8\\n', 'OXTR\\n', 'NXF1\\n', 'OR2T4\\n', 'ZNF211\\n', 'ADCY2\\n', 'MPO\\n', 'PPIL3\\n', 'AHR\\n', 'FZD7\\n', 'ASB15\\n', 'H2BC3\\n', 'LILRA4\\n', 'CD53\\n', 'RAB13\\n', 'COX7C\\n', 'SNAP91\\n', 'APOOL\\n', 'FADS1\\n', 'MS4A3\\n', '956533\\n', 'RGS21\\n', 'FAM13B\\n', 'DMC1\\n', 'GPC6\\n', 'KCNAB2\\n', 'IGFBP4\\n', 'DLGAP4\\n', 'PGM1\\n', 'CNTRL\\n', 'RGL1\\n', 'BCKDHA\\n', 'HMG20B\\n', 'EPHB4\\n', 'U2AF2\\n', 'OR6M1\\n', 'HDAC11\\n', 'LAMC1\\n', 'TAAR1\\n', 'ISY1\\n', 'OPHN1\\n', 'CCL16\\n', 'OR9A2\\n', 'HECTD1\\n', 'MAGOHB\\n', 'ATP6V0B\\n', 'LCE1C\\n', 'TUBG1\\n', 'OR4L1\\n', 'IRAK4\\n', 'CNIH1\\n', 'ZNF202\\n', 'APOE\\n', 'CALM2\\n', 'HNRNPM\\n', 'KRT78\\n', 'KBTBD6\\n', 'LAG3\\n', 'ZNF34\\n', 'ANGPT1\\n', 'DZIP1\\n', 'GBP1\\n', 'ZNF689\\n', 'ZNF555\\n', 'RAMP1\\n', 'FKBP4\\n', 'IFT122\\n', 'DDX21\\n', 'ZNF649\\n', 'H2AC19\\n', 'STK11IP\\n', 'SEC24B\\n', 'IRF9\\n', 'SEC61A2\\n', 'GNL3\\n', 'CDC23\\n', 'DIAPH3\\n', 'BEST3\\n', 'OR8J1\\n', 'FRMPD3\\n', 'PREX2\\n', 'COPS7B\\n', 'OR10V1\\n', 'H4C11\\n', 'SCAI\\n', 'LY96\\n', 'ALMS1\\n', 'KRTAP21-3\\n', 'HACE1\\n', 'ANKRD9\\n', 'UBE2F\\n', 'PAXIP1\\n', 'CCL25\\n', 'CCNA1\\n', 'H4C13\\n', 'PELP1\\n', 'KIF3B\\n', 'IFNA21\\n', 'OR5I1\\n', 'BARD1\\n', 'SMC1A\\n', 'VAMP3\\n', 'SLC6A11\\n', 'STIM1\\n', 'CCL3\\n', 'OR51S1\\n', 'PEX11A\\n', 'OR5AC2\\n', 'TERF1\\n', 'LRR1\\n', 'CDO1\\n', 'UBA6\\n', 'GSR\\n', 'ANPEP\\n', 'OR52J3\\n', 'MED23\\n', 'RAP2B\\n', 'TTR\\n', 'ORC4\\n', 'OR52I1\\n', 'TAB1\\n', 'RFC4\\n', 'ABCA13\\n', 'ZNF771\\n', 'GGA1\\n', 'ZNF720\\n', 'INSR\\n', 'TRRAP\\n', 'SHC3\\n', 'LRRFIP1\\n', 'ATP6V1D\\n', 'OR8G2P\\n', 'SVIP\\n', 'ARFGAP1\\n', 'MAPK8\\n', 'RAB2A\\n', 'SFTPC\\n', 'XRN2\\n', 'PKM\\n', 'E2F1\\n', 'LNX1\\n', 'SMAD7\\n', 'GRK5\\n', 'HDAC8\\n', 'ZNRF3\\n', 'COL17A1\\n', 'PDE3A\\n', 'RNASE3\\n', 'OR52H1\\n', 'S100A9\\n', 'GRM2\\n', 'FBXO17\\n', 'ACTB\\n', 'TNFAIP3\\n', 'COL1A2\\n', 'UPF3B\\n', 'RAB37\\n', 'COTL1\\n', 'ZNF729\\n', 'ARHGAP9\\n', 'FABP12\\n', 'H2BC18\\n', 'RGS16\\n', 'GAD2\\n', 'ZNF223\\n', 'SNAP25\\n', 'RPL18\\n', 'KLRK1\\n', 'GRM5\\n', 'OR1A1\\n', 'OR2M5\\n', 'OR52B2\\n', 'ZNF727\\n', 'NELFCD\\n', 'ZNF565\\n', 'UBQLN2\\n', 'OR10G7\\n', 'FBXO32\\n', 'CDC16\\n', 'ACTL6B\\n', 'NDUFA2\\n', 'GTF3A\\n', 'ZNF793\\n', 'ASB18\\n', 'DNA2\\n', 'SLPI\\n', 'HLA-DRA\\n', 'TNFAIP6\\n', 'COL23A1\\n', 'CEP70\\n', 'TCIRG1\\n', 'LMNB1\\n', 'TFDP1\\n', 'OR51I1\\n', 'TRIM45\\n', 'JAM3\\n', 'KRBA1\\n', 'OR2T6\\n', 'ACKR3\\n', 'SREBF2\\n', 'GIP\\n', 'DOCK5\\n', 'USP17L8\\n', 'ITGB3\\n', 'HTR2A\\n', '956531\\n', 'OR6C70\\n', 'NUP37\\n', 'VEGFD\\n', 'ELP4\\n', 'CRTC3\\n', 'LTBR\\n', 'ZNF735\\n', 'FDPS\\n', 'H2BC14\\n', 'AR\\n', 'PSMB2\\n', 'USP17L2\\n', 'KPNB1\\n', 'PSMD4\\n', 'CLCNKB\\n', 'PPIL1\\n', 'PIGR\\n', 'KRTAP1-5\\n', 'MMP19\\n', 'BRI3\\n', 'COMMD4\\n', 'CRNKL1\\n', 'ASB7\\n', 'SDC2\\n', 'PPP1R12B\\n', 'LRG1\\n', 'OPRK1\\n', 'ACTN1\\n', 'RPL36\\n', 'MMP13\\n', 'ZNF562\\n', 'DLD\\n', 'LGALS1\\n', 'OR2K2\\n', 'KRTAP26-1\\n', 'PIK3R1\\n', 'DGKD\\n', 'GNB1\\n', 'RPS16\\n', 'UBE2R2\\n', 'CRISP3\\n', 'ERCC2\\n', 'PPP2R5D\\n', 'PDGFRA\\n', 'NUP62\\n', 'STK11\\n', 'DDX49\\n', 'OR10H1\\n', 'OR10G3\\n', 'YPEL5\\n', 'PARN\\n', 'USP17L12\\n', 'CDC40\\n', 'ZBTB16\\n', 'ZNF266\\n', 'SERPINA1\\n', 'ZNF606\\n', 'BTBD6\\n', 'MAGT1\\n', 'FZD5\\n', 'RAE1\\n', 'NCAN\\n', 'UBE2C\\n', 'H2AC8\\n', 'STIP1\\n', 'GPSM1\\n', 'ZNF483\\n', 'GNA12\\n', 'OR56A5\\n', 'IRS2\\n', 'SPN\\n', 'ZNF479\\n', 'SFRP1\\n', 'CCK\\n', 'TCF3\\n', 'F2RL3\\n', 'MYL12B\\n', 'SCOC\\n', 'TUBB8\\n', 'NCOA2\\n', 'KAT6A\\n', 'OR6A2\\n', 'PLCB2\\n', 'TUBB2B\\n', 'ING5\\n', 'BBS2\\n', 'MEX3C\\n', 'GGPS1\\n', 'BCAS2\\n', 'VAPA\\n', 'CCL4\\n', 'ZNF433\\n', 'COL28A1\\n', 'H2BC12\\n', 'SLC9C2\\n', 'SPCS3\\n', 'FURIN\\n', 'CXCR6\\n', 'UBR2\\n', 'GPR4\\n', 'CORIN\\n', 'CHD3\\n', 'ZNF610\\n', 'SERPINC1\\n', 'THRAP3\\n', 'COL4A6\\n', 'RPS6KA1\\n', 'HERC3\\n', 'POLR2E\\n', 'COMMD3-BMI1\\n', 'CDCA8\\n', 'TLR2\\n', 'DCN\\n', 'GPR32\\n', 'ZNF860\\n', 'TRIM5\\n', 'APAF1\\n', 'KAT5\\n', 'GPER1\\n', 'OR8B4\\n', 'TUBA1A\\n', 'MED15\\n', 'GRIN2D\\n', 'SETD1A\\n', 'NSD2\\n', 'CHST15\\n', 'ARRB2\\n', 'YAP1\\n', 'SYK\\n', 'OPTC\\n', 'TCTN1\\n', 'OR6K3\\n', 'SNRPD1\\n', 'DOK4\\n', 'ZNF208\\n', 'ARHGEF18\\n', 'PCNT\\n', 'CLIC2\\n', 'QPCT\\n', 'FMNL2\\n', 'CAPN14\\n', 'TRIM41\\n', 'OR1A2\\n', 'AP2B1\\n', 'IKBKB\\n', 'PCDH7\\n', 'CAPN2\\n', 'FKBP8\\n', 'SCTR\\n', 'PHAX\\n', 'NRAS\\n', 'DLST\\n', 'CALR\\n', 'NCOA1\\n', 'SPINK5\\n', 'OR2Z1\\n', 'LRTOMT\\n', 'COLEC12\\n', 'GSPT1\\n', '155030\\n', 'OR3A3\\n', 'TUBG2\\n', 'MFAP3\\n', 'CDC27\\n', 'OR8I2\\n', 'F13B\\n', 'OR5B21\\n', 'FBXW7\\n', 'BMP1\\n', 'ZNF205\\n', 'F11R\\n', 'ZNF112\\n', 'H4C8\\n', 'MOV10\\n', 'KRTAP21-2\\n', 'PKP2\\n', 'IGFBP3\\n', 'CLEC4C\\n', 'OR4F4\\n', 'MMP11\\n', 'OR8K5\\n', 'TUBB6\\n', 'H4-16\\n', 'CAPN6\\n', 'TRIM29\\n', 'GNAO1\\n', 'OR11H4\\n', 'GRM4\\n', 'HOXD1\\n', 'APC\\n', 'CX3CL1\\n', 'PRDM7\\n', 'PNPLA2\\n', 'SIRT4\\n', 'SUMO1\\n', 'WDR18\\n', 'RPL36A\\n', 'RPS19\\n', 'OR5F1\\n', 'H2BU1\\n', 'MTA2\\n', 'SNAPC2\\n', 'PABPC1\\n', 'CDK8\\n', 'VGF\\n', 'CDC37\\n', 'PRKAR2A\\n', 'ARIH1\\n', 'ACKR4\\n', 'KRT34\\n', 'OR11A1\\n', 'SLC38A9\\n', 'SCAMP1\\n', 'CENPS\\n', '956535\\n', 'CDC42EP5\\n', 'OR6P1\\n', 'HAUS7\\n', 'RHOB\\n', 'ADAMTS7\\n', 'CEP43\\n', 'ZNF607\\n', 'MAP2K2\\n', 'H2BC17\\n', 'ISG20L2\\n', 'PRELP\\n', 'H2BC6\\n', 'RGS1\\n', 'SNAP29\\n', 'CLOCK\\n', 'PRKCQ\\n', 'LRRTM2\\n', 'DNAJB1\\n', 'TRIM68\\n', 'H3C1\\n', 'ACER3\\n', 'KALRN\\n', 'ITGA5\\n', 'VWA1\\n', 'ZNF141\\n', 'USP1\\n', 'POLR1H\\n', 'CDK5RAP2\\n', 'DPP7\\n', 'SPC25\\n', 'SPHK1\\n', 'ADORA2B\\n', 'CLU\\n', 'WDR75\\n', 'OR11L1\\n', 'FDFT1\\n', 'WASF2\\n', 'ZNF225\\n', 'ZNF324B\\n', 'SLC5A7\\n', 'OR5K1\\n', 'SLCO4C1\\n', 'CCZ1\\n', 'CPSF2\\n', 'EIF1AX\\n', 'TBC1D1\\n', 'COL3A1\\n', 'ZNF552\\n', 'IRAG2\\n', 'NHLRC3\\n', 'POLR2J\\n', 'FGF4\\n', 'C3\\n', 'LDHC\\n', 'TUBGCP2\\n', 'DRD1\\n', 'PCBP1\\n', 'ZNF773\\n', 'POLR2H\\n', 'BYSL\\n', 'ASB14\\n', 'ISG15\\n', 'TMX3\\n', 'ZNF43\\n', 'PIK3C2A\\n', 'UBE2V1\\n', 'OR2AG2\\n', 'OR6C65\\n', 'ZNF214\\n', 'SLIT1\\n', 'OR6C2\\n', 'HIF1A\\n', 'ITGB1\\n', 'TLR4\\n', 'CTSA\\n', 'CDC14B\\n', 'CUL4A\\n', 'OPRL1\\n', 'GNG12\\n', 'MUL1\\n', 'TMED7-TICAM2\\n', 'CCNE2\\n', 'MTHFD2\\n', 'ADAM17\\n', 'TXNL4A\\n', 'TUBGCP5\\n', 'OR4F17\\n', 'SKP2\\n', 'OR10W1\\n', 'UNKL\\n', 'LYN\\n', 'DEFB118\\n', 'POMC\\n', 'UTS2\\n', 'USP47\\n', 'TAF1C\\n', 'GLMN\\n', 'RASGRF2\\n', 'ADCY7\\n', 'SRI\\n', 'CCDC8\\n', 'TGFB1\\n', 'SCG3\\n', 'RCL1\\n', 'SMAD4\\n', 'OR5T3\\n', 'COL27A1\\n', 'RPL27A\\n', 'GRIN2B\\n', 'OR8B2\\n', 'ELMO2\\n', 'ACLY\\n', 'POLR1A\\n', 'UBC\\n', 'ASB11\\n', 'CHRM3\\n', 'FCER1G\\n', 'MAPK4\\n', 'MBD2\\n', 'PSMA4\\n', 'HRAS\\n', 'RNF217\\n', 'MAP2K1\\n', 'SMARCC2\\n', 'RNF138\\n', 'OPN1MW2\\n', 'ACTR1A\\n', 'ZNF710\\n', 'OR52B6\\n', 'RETN\\n', 'OR2L8\\n', 'CEP78\\n', 'EIF3A\\n', 'ZNF705D\\n', 'HLA-DMB\\n', 'ARF6\\n', 'DCTN4\\n', 'MYO5A\\n', 'IL17F\\n', 'FBXL20\\n', 'GNAI2\\n', 'PSMB8\\n', 'OR51D1\\n', 'LRSAM1\\n', 'PNRC2\\n', 'PLEKHG2\\n', 'ASXL1\\n', 'FBXO30\\n', 'LMAN2L\\n', 'OLFM4\\n', 'NPY4R2\\n', 'GPC3\\n', 'LAMTOR5\\n', 'COPG1\\n', 'MBD3\\n', 'ZBED1\\n', 'PSMB5\\n', 'PPIL6\\n', 'NTSR2\\n', 'UBE2N\\n', 'KRT85\\n', 'EXOC5\\n', 'ITPK1\\n', 'H3C14\\n', 'ITGA6\\n', 'HOXC4\\n', 'IP6K2\\n', 'EIF4A3\\n', 'OR52R1\\n', 'CENPM\\n', 'CCP110\\n', 'ZNF154\\n', 'ANAPC4\\n', 'PRMT6\\n', 'CD9\\n', 'BTRC\\n', 'TIRAP\\n', 'ZNF804B\\n', 'RPS27A\\n', 'HSPA2\\n', 'AKR1A1\\n', 'SNRPA1\\n', 'SNRPE\\n', 'INTS4\\n', 'ARF3\\n', 'NPY2R\\n', 'CCNK\\n', 'NHLRC2\\n', 'RHOG\\n', 'CHGB\\n', 'ITPR3\\n', 'LILRA3\\n', 'GABBR1\\n', 'CASQ2\\n', 'CSF2\\n', 'OR2A4\\n', 'CEP89\\n', 'DSN1\\n', 'RPLP0\\n', 'SMC1B\\n', 'MED12\\n', 'POLR1B\\n', 'DCAF10\\n', 'HNRNPC\\n', 'CCL27\\n', 'FFAR4\\n', 'HNRNPK\\n', 'UBE2Z\\n', 'LAMB1\\n', 'ZNF566\\n', 'USP11\\n', 'RNF5\\n', 'KLHL20\\n', 'ADAMTS14\\n', 'KRTAP5-5\\n', 'KLC4\\n', 'APRT\\n', 'ALDH3B1\\n', 'SLC15A4\\n', 'ISY1-RAB43\\n', 'CENPQ\\n', 'DEPDC1B\\n', 'GNRH1\\n', 'GPR68\\n', 'UBAC1\\n', 'FABP1\\n', 'TAS2R13\\n', 'BTK\\n', 'CYFIP1\\n', 'DEFB133\\n', 'OR4C12\\n', 'OXGR1\\n', 'ZNF394\\n', 'MANBA\\n', 'HAUS2\\n', 'PTH2\\n', 'ARHGEF33\\n', 'CREB1\\n', 'ZNF114\\n', 'ZNF343\\n', 'ST14\\n', 'TP53\\n', 'SLC8A1\\n', 'ABCA3\\n', 'FZR1\\n', 'ARPC2\\n', 'ZNF529\\n', 'RPP30\\n', 'KRT10\\n', 'ZNF567\\n', 'TRIM26\\n', 'OR4S1\\n', 'POLE4\\n', 'OR1G1\\n', 'RPL34\\n', 'HLA-G\\n', 'CNOT1\\n', 'RAB3IP\\n', 'RGS17\\n', 'KRT73\\n', 'EEF1A1\\n', 'AREG\\n', 'ARHGAP44\\n', 'OR4K13\\n', 'OR51V1\\n', 'SP1\\n', 'LIMS1\\n', 'ZDHHC21\\n', 'ZNF267\\n', 'STAT3\\n', 'MT-CO3\\n', 'IRAK2\\n', 'NUP54\\n', 'GPR17\\n', 'OR10H3\\n', 'HSPA14\\n', 'THOC3\\n', 'H2BC4\\n', 'NBAS\\n', 'GLI1\\n', 'PRCC\\n', 'SMAD1\\n', 'RNF220\\n', 'MAPK12\\n', 'NPDC1\\n', 'CUL9\\n', 'GLP1R\\n', 'IFI30\\n', 'MAPK14\\n', 'RANBP2\\n', 'OR2S2\\n', 'GNG5\\n', 'ZNF71\\n', 'ZNF175\\n', 'CHML\\n', 'ARRB1\\n', 'NOC4L\\n', 'F2RL2\\n', 'NPS\\n', 'NR1H2\\n', 'USP17L29\\n', 'SMO\\n', 'H3C13\\n', 'KISS1R\\n', 'KRT3\\n', 'ANAPC5\\n', 'KRT12\\n', 'HBB\\n', 'NPW\\n', 'GAPDH\\n', 'SGO2\\n', 'OR52E2\\n', 'TUBB1\\n', 'KIF12\\n', 'SRP19\\n', 'STAG2\\n', 'ZNF587\\n', 'OR2T2\\n', 'RPTN\\n', 'G6PD\\n', 'FBXO40\\n', 'ZNF45\\n', 'CENPO\\n', 'ATP8A2\\n', 'OR4E1\\n', 'PTGDR\\n', 'HIVEP3\\n', 'RAB35\\n', 'KRT16\\n', 'IL33\\n', 'SHC2\\n', 'OR1Q1\\n', 'RPS27\\n', 'COP1\\n', 'OR52N5\\n', 'TBK1\\n', 'FBXO15\\n', 'ZNF20\\n', 'PYCARD\\n', 'OPRM1\\n', 'ZWINT\\n', 'CBFB\\n', 'PSG8\\n', 'TMED2\\n', 'RYR2\\n', 'GTF3C5\\n', 'CSNK1A1\\n', 'ELL\\n', 'ZKSCAN3\\n', 'PDGFC\\n', 'TMED3\\n', 'FEM1A\\n', 'NR1I3\\n', 'ZNF641\\n', 'OR6C75\\n', 'OTUB1\\n', 'KIF21B\\n', 'EME1\\n', 'CPT1B\\n', 'CAPN7\\n'], np.int64(902): ['SNCAIP\\n'], np.int64(903): ['ATP5MC3\\n', 'TIMM17A\\n'], np.int64(904): ['AK7\\n'], np.int64(905): ['DNAJC6\\n', 'SNAPIN\\n'], np.int64(906): ['LSM6\\n'], np.int64(907): ['CLDN15\\n'], np.int64(908): ['RAB30\\n'], np.int64(909): ['SGK2\\n'], np.int64(910): ['NNT\\n'], np.int64(911): ['LTV1\\n'], np.int64(912): ['KIF5C\\n', 'EXOC6\\n'], np.int64(913): ['MERTK\\n'], np.int64(914): ['MT-ATP6\\n'], np.int64(915): ['MIA3\\n', 'FSTL3\\n'], np.int64(916): ['PITRM1\\n'], np.int64(917): ['BET1\\n'], np.int64(918): ['TNNT3\\n'], np.int64(919): ['HDGF\\n'], np.int64(920): ['TBC1D8B\\n'], np.int64(921): ['B3GLCT\\n', 'ADAMTS12\\n'], np.int64(922): ['THRB\\n', 'IAPP\\n'], np.int64(923): ['AKAP1\\n'], np.int64(924): ['ARSD\\n'], np.int64(925): ['MRPL15\\n', 'MRPL38\\n', 'MRPL22\\n', 'MRPS26\\n', 'MRPS31\\n', 'MRPL51\\n', 'MRPL52\\n', 'MRPS28\\n', 'MRPS17\\n', 'MRPL12\\n', 'MRPL9\\n', 'PTCD3\\n', 'MRPS36\\n', 'MRPS22\\n', 'MRPS33\\n', 'MRPL39\\n', 'MRPS15\\n', 'MRPL47\\n', 'OXA1L\\n', 'TUFM\\n', 'MRPS35\\n', 'MRPL48\\n', 'ERAL1\\n', 'MRPS30\\n', 'MRPL35\\n', 'MRPL41\\n', 'MRPS18A\\n', 'MRPL21\\n', 'GFM2\\n', 'MRPL30\\n', 'MRPL27\\n', 'MRPL43\\n', 'MRPL32\\n', 'MRPS10\\n', 'MRPL49\\n', 'MRPL4\\n', 'MRPL11\\n', 'MRPS27\\n', 'MRPS14\\n', 'MRPL58\\n', 'MRPL40\\n', 'MRPS25\\n', 'MRPL23\\n', 'MRPL36\\n', 'MRPL14\\n', 'MRPS24\\n', 'MRPS34\\n', 'MRPS11\\n', 'MTFMT\\n', 'MRPL53\\n', 'MRPS2\\n', 'MRPL10\\n', 'MRPS23\\n', 'MRPS21\\n', 'MRPL33\\n', 'MTRF1L\\n', 'MRPL34\\n', 'MRPL46\\n', 'MRPL28\\n', 'MRPL18\\n', 'MRPL44\\n', 'TSFM\\n', 'MRPS6\\n', 'MRPL1\\n', 'MRPL50\\n', 'MRPL42\\n', 'MRPL24\\n', 'CHCHD1\\n', 'AURKAIP1\\n', 'MRPL19\\n', 'MRPL57\\n', 'MRPS16\\n', 'MRPS9\\n', 'MRPL55\\n', 'DAP3\\n', 'MRPL54\\n', 'GADD45GIP1\\n', 'MRPL16\\n', 'MRPS12\\n'], np.int64(926): ['TNFSF11\\n'], np.int64(927): ['CITED1\\n'], np.int64(928): ['CD200R1\\n', 'THBS2\\n', 'LILRA1\\n'], np.int64(929): ['SEC22A\\n'], np.int64(930): ['WDR35\\n', 'DYNC2LI1\\n'], np.int64(931): ['ADSL\\n'], np.int64(932): ['WBP4\\n', 'SF3A2\\n'], np.int64(933): ['EPHA8\\n', 'GIT1\\n', 'EPHB1\\n', 'MYL12A\\n'], np.int64(934): ['ST3GAL4\\n', 'GCNT1\\n'], np.int64(935): ['SLC9A9\\n'], np.int64(936): ['SIGLEC7\\n', 'MICA\\n', 'KIR2DL2\\n', 'JAML\\n'], np.int64(937): ['ME2\\n'], np.int64(938): ['GOLIM4\\n'], np.int64(939): ['KRT27\\n', 'KRTAP6-1\\n', 'KRT25\\n'], np.int64(940): ['KCNK4\\n'], np.int64(941): ['MSLN\\n'], np.int64(942): ['NOP58\\n', 'EXOSC10\\n'], np.int64(943): ['MRPS18C\\n'], np.int64(944): ['ZNF732\\n'], np.int64(945): ['KMT5A\\n'], np.int64(946): ['PYGO2\\n'], np.int64(947): ['TSR3\\n'], np.int64(948): ['SOS2\\n', 'RHOT2\\n', 'ARHGEF38\\n']}\n",
      "********************\n",
      "distance_matrix\n",
      "[[0.  0.8 0.8 ... 0.8 0.8 0.8]\n",
      " [0.8 0.  0.6 ... 0.8 0.8 0.6]\n",
      " [0.8 0.6 0.  ... 0.8 0.8 0.8]\n",
      " ...\n",
      " [0.8 0.8 0.8 ... 0.  0.8 0.8]\n",
      " [0.8 0.8 0.8 ... 0.8 0.  0.8]\n",
      " [0.8 0.6 0.8 ... 0.8 0.8 0. ]]\n",
      "********************\n"
     ]
    }
   ],
   "source": [
    "#| eval: false\n",
    "for key in cmmd_output.keys():\n",
    "    print(key)\n",
    "    print(cmmd_output[key])\n",
    "    print(\"*\" * 20)"
   ]
  },
  {
   "cell_type": "code",
   "execution_count": 8,
   "metadata": {},
   "outputs": [
    {
     "data": {
      "text/plain": [
       "(5609, 5609)"
      ]
     },
     "execution_count": 8,
     "metadata": {},
     "output_type": "execute_result"
    }
   ],
   "source": [
    "#| eval: false\n",
    "cmmd_output[\"distance_matrix\"].shape"
   ]
  },
  {
   "cell_type": "code",
   "execution_count": 9,
   "metadata": {},
   "outputs": [
    {
     "data": {
      "text/plain": [
       "array([[0. , 0.8, 0.8, ..., 0.8, 0.8, 0.8],\n",
       "       [0.8, 0. , 0.6, ..., 0.8, 0.8, 0.6],\n",
       "       [0.8, 0.6, 0. , ..., 0.8, 0.8, 0.8],\n",
       "       ...,\n",
       "       [0.8, 0.8, 0.8, ..., 0. , 0.8, 0.8],\n",
       "       [0.8, 0.8, 0.8, ..., 0.8, 0. , 0.8],\n",
       "       [0.8, 0.6, 0.8, ..., 0.8, 0.8, 0. ]])"
      ]
     },
     "execution_count": 9,
     "metadata": {},
     "output_type": "execute_result"
    }
   ],
   "source": [
    "#| eval: false\n",
    "dm = cmmd_output[\"distance_matrix\"]\n",
    "dm"
   ]
  },
  {
   "cell_type": "code",
   "execution_count": 10,
   "metadata": {},
   "outputs": [
    {
     "data": {
      "text/plain": [
       "array([0. , 0.2, 0.4, 0.6, 0.8, 1. ])"
      ]
     },
     "execution_count": 10,
     "metadata": {},
     "output_type": "execute_result"
    }
   ],
   "source": [
    "#| eval: false\n",
    "np.unique(dm)"
   ]
  },
  {
   "cell_type": "code",
   "execution_count": 11,
   "metadata": {},
   "outputs": [
    {
     "data": {
      "image/png": "[encoded data removed]",
      "text/plain": [
       "<Figure size 640x480 with 1 Axes>"
      ]
     },
     "metadata": {},
     "output_type": "display_data"
    }
   ],
   "source": [
    "#| eval: false\n",
    "sns.histplot(cmmd_output[\"distance_matrix\"].flatten(), stat=\"density\");"
   ]
  },
  {
   "cell_type": "code",
   "execution_count": 12,
   "metadata": {},
   "outputs": [
    {
     "data": {
      "text/plain": [
       "array([[848, 986, 961, 896, 901],\n",
       "       [938, 751, 908, 984, 901],\n",
       "       [784, 890, 991, 984, 901],\n",
       "       ...,\n",
       "       [969, 935, 842, 902, 901],\n",
       "       [  0, 310,   0,   0, 901],\n",
       "       [966, 751, 644, 860, 901]])"
      ]
     },
     "execution_count": 12,
     "metadata": {},
     "output_type": "execute_result"
    }
   ],
   "source": [
    "#| eval: false\n",
    "gcm = cmmd_output[\"gene_community_matrix\"]\n",
    "gcm"
   ]
  },
  {
   "cell_type": "code",
   "execution_count": 13,
   "metadata": {},
   "outputs": [
    {
     "data": {
      "text/plain": [
       "(5609, 5)"
      ]
     },
     "execution_count": 13,
     "metadata": {},
     "output_type": "execute_result"
    }
   ],
   "source": [
    "#| eval: false\n",
    "gcm.shape"
   ]
  },
  {
   "cell_type": "code",
   "execution_count": 14,
   "metadata": {},
   "outputs": [
    {
     "data": {
      "text/plain": [
       "dict"
      ]
     },
     "execution_count": 14,
     "metadata": {},
     "output_type": "execute_result"
    }
   ],
   "source": [
    "#| eval: false\n",
    "l_constant = cmmd_output[\"l_constant\"]\n",
    "type(l_constant)"
   ]
  },
  {
   "cell_type": "code",
   "execution_count": 15,
   "metadata": {},
   "outputs": [
    {
     "data": {
      "text/plain": [
       "380"
      ]
     },
     "execution_count": 15,
     "metadata": {},
     "output_type": "execute_result"
    }
   ],
   "source": [
    "#| eval: false\n",
    "len(l_constant.keys())"
   ]
  },
  {
   "cell_type": "code",
   "execution_count": 16,
   "metadata": {},
   "outputs": [
    {
     "data": {
      "text/plain": [
       "dict_keys(['gene_community_matrix', 'l_constant', 'distance_matrix'])"
      ]
     },
     "execution_count": 16,
     "metadata": {},
     "output_type": "execute_result"
    }
   ],
   "source": [
    "cmmd_output.keys()"
   ]
  },
  {
   "cell_type": "code",
   "execution_count": null,
   "metadata": {},
   "outputs": [],
   "source": []
  }
 ],
 "metadata": {
  "kernelspec": {
   "display_name": "python3",
   "language": "python",
   "name": "python3"
  },
  "language_info": {
   "codemirror_mode": {
    "name": "ipython",
    "version": 3
   },
   "file_extension": ".py",
   "mimetype": "text/x-python",
   "name": "python",
   "nbconvert_exporter": "python",
   "pygments_lexer": "ipython3",
   "version": "3.12.5"
  }
 },
 "nbformat": 4,
 "nbformat_minor": 2
}
