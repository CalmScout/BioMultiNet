{
 "cells": [
  {
   "cell_type": "markdown",
   "metadata": {},
   "source": [
    "# CmmD: Continual Multiplex network Module Detector"
   ]
  },
  {
   "cell_type": "markdown",
   "metadata": {},
   "source": [
    "Python implementation of the algorithm originally proposed in [\"The multilayer community structure of medulloblastoma\" by Iker Núñez-Carpintero et. al.](https://www.sciencedirect.com/science/article/pii/S2589004221003333).\n",
    "\n",
    "Implementation relies on [MolTi-DREAM](https://github.com/gilles-didier/MolTi-DREAM) for communities detection problem.\n",
    "\n",
    "* Make sure to add molti-console as an executable program from any directory by adding it to your ~/.bashrc file. (This file may change depending on your OS ditribution)"
   ]
  },
  {
   "cell_type": "markdown",
   "metadata": {},
   "source": [
    "## 0. Import libraries and define paths"
   ]
  },
  {
   "cell_type": "code",
   "execution_count": 1,
   "metadata": {},
   "outputs": [],
   "source": [
    "import os\n",
    "import sys\n",
    "import subprocess\n",
    "import numpy as np\n",
    "from concurrent.futures import ThreadPoolExecutor\n",
    "from scipy.spatial.distance import pdist, squareform\n",
    "import seaborn as sns\n",
    "import pickle\n",
    "from pathlib import Path\n",
    "import pathlib\n",
    "import time"
   ]
  },
  {
   "cell_type": "markdown",
   "metadata": {},
   "source": [
    "Auxiliary function to measure the execution time:"
   ]
  },
  {
   "cell_type": "code",
   "execution_count": 2,
   "metadata": {},
   "outputs": [],
   "source": [
    "def time_it(func):\n",
    "    def wrapper(*args, **kwargs):\n",
    "        start_time = time.perf_counter()\n",
    "        result = func(*args, **kwargs)\n",
    "        end_time = time.perf_counter()\n",
    "        execution_time = end_time - start_time\n",
    "        minutes = int(execution_time // 60)\n",
    "        seconds = execution_time % 60\n",
    "        print(f\"Function '{func.__name__}' executed in {minutes} minutes, {seconds:.2f} seconds\")\n",
    "        return result\n",
    "    return wrapper"
   ]
  },
  {
   "cell_type": "markdown",
   "metadata": {},
   "source": [
    "## 1. Define function for community detection"
   ]
  },
  {
   "cell_type": "code",
   "execution_count": 3,
   "metadata": {},
   "outputs": [],
   "source": [
    "@time_it\n",
    "def communities_detection(input_layers:list[str]=None,\n",
    "                          gamma_min:float=None,\n",
    "                          gamma_max:float=None,\n",
    "                          gamma_step:float=None,\n",
    "                          path_to_communities:str=None,\n",
    "                          method:str=\"molti\"):\n",
    "    # Prepare inputs to generate the console order for MolTi's run.\n",
    "    layers = \" \".join(input_layers)\n",
    "    \n",
    "    resolution_gamma_step = np.arange(gamma_min, gamma_max + gamma_step, gamma_step)\n",
    "    desfile_vector = [f\"{path_to_communities}{res}.csv\" for res in resolution_gamma_step]\n",
    "    \n",
    "    # community analysis\n",
    "    if method == \"molti\":\n",
    "        for i, current_resolution in enumerate(resolution_gamma_step):\n",
    "            current_destfile = desfile_vector[i]\n",
    "            system_order = f\"molti-console -o {current_destfile} -p {current_resolution} {layers} > /dev/null\"\n",
    "            subprocess.run(system_order, shell=True)"
   ]
  },
  {
   "cell_type": "code",
   "execution_count": 4,
   "metadata": {},
   "outputs": [],
   "source": [
    "@time_it\n",
    "def continual_multiplex_analysis(nodelist:list[str]=None,\n",
    "                                 path_to_communities:str=None,\n",
    "                                 distmethod:str=\"hamming\",\n",
    "                                 n_jobs:int=1):\n",
    "        # reading MolTi output files\n",
    "        output_files = [f for f in os.listdir(path_to_communities) if \"_\" not in f]\n",
    "        \n",
    "        alllists = []\n",
    "        \n",
    "        for output_file in output_files:\n",
    "            with open(os.path.join(path_to_communities, output_file), 'r') as file:\n",
    "                red = file.readlines()\n",
    "            \n",
    "            cluster_ids = [i for i, line in enumerate(red) if \"Cluster\" in line]\n",
    "            lista = []\n",
    "            \n",
    "            for j, st in enumerate(cluster_ids):\n",
    "                if j == len(cluster_ids) - 1:\n",
    "                    en = len(red)\n",
    "                else:\n",
    "                    en = cluster_ids[j + 1]\n",
    "                current_cluster = red[st:en]\n",
    "                current_cluster2 = current_cluster[:-2] if j != len(cluster_ids) - 1 else current_cluster[:-1]\n",
    "                lista.append(current_cluster2[1:])\n",
    "            \n",
    "            alllists.append(lista)\n",
    "        \n",
    "        allgenes = list(set([gene for sublist in alllists for cluster in sublist for gene in cluster]))\n",
    "\n",
    "        if nodelist:\n",
    "            allgenes = list(set(allgenes).intersection(nodelist))\n",
    "        \n",
    "        # Calculating Gene/Community matrix\n",
    "        res_matrix = np.zeros((len(allgenes), len(alllists) + 1), dtype=int)\n",
    "        gene_indices = {gene: idx for idx, gene in enumerate(allgenes)}\n",
    "        \n",
    "        for j, output_file_list in enumerate(alllists):\n",
    "            for k, cluster in enumerate(output_file_list):\n",
    "                for gene in cluster:\n",
    "                    res_matrix[gene_indices[gene], j] = k + 1\n",
    "        \n",
    "        patterns = [\"_\".join(map(str, res_matrix[i, :-1])) for i in range(len(allgenes))]\n",
    "        res_matrix[:, -1] = np.array(patterns, dtype=str)\n",
    "        \n",
    "        # porcentajes = np.linspace(0, 100, num=21)\n",
    "        # for i, percentage in enumerate(np.round(np.linspace(0, 100, len(allgenes)), 4)):\n",
    "        #     if percentage in porcentajes:\n",
    "        #         print(f\"Progress: {percentage}%\")\n",
    "        \n",
    "        # Calculating Hamming distances for all gene pairs\n",
    "        gene_community_matrix = res_matrix[:, :-1].astype(int)\n",
    "        genes_same_communities = {pattern: [] for pattern in np.unique(gene_community_matrix[:,-1])}\n",
    "        \n",
    "        for i, pattern in enumerate(gene_community_matrix[:,-1]):\n",
    "            genes_same_communities[pattern].append(allgenes[i])\n",
    "        \n",
    "        with ThreadPoolExecutor(max_workers=n_jobs) as executor:\n",
    "            distance_matrix = squareform(pdist(gene_community_matrix, metric=distmethod))\n",
    "        \n",
    "        final_output = {\n",
    "            \"gene_community_matrix\": gene_community_matrix,\n",
    "            \"l_constant\": genes_same_communities,\n",
    "            \"distance_matrix\": distance_matrix\n",
    "        }\n",
    "        \n",
    "        return final_output"
   ]
  },
  {
   "cell_type": "code",
   "execution_count": 5,
   "metadata": {},
   "outputs": [],
   "source": [
    "def cmmd(nodelist:list[str]|None=None,\n",
    "         input_layers:list[str]=None,\n",
    "         gamma_min:float=None,\n",
    "         gamma_max:float=None,\n",
    "         gamma_step:float=None, \n",
    "         distmethod:str=\"hamming\",\n",
    "         method:str=\"molti\",\n",
    "         n_jobs:int=1,\n",
    "         path_to_communities:str=None):\n",
    "    \n",
    "    \"\"\"\n",
    "    Compute CmmD multilayer community trajectory analysis for a set of given networks.\n",
    "\n",
    "    Parameters\n",
    "    ----------\n",
    "    nodelist : list, optional\n",
    "        A list with the unique nodes that we want to appear in the final output. If not given,\n",
    "        all nodes of the multiplex will be in the final output (nodelist= NULL)\n",
    "    input_layers : list\n",
    "        A vector of strings containing the paths where the different network layers are located\n",
    "        in the system. Networks should be a two column file representing the edges of the graph.\n",
    "    gamma_min : float\n",
    "        The first gamma resolution parameter to use in the different MolTi's analysis\n",
    "    gamma_max : float\n",
    "        The last gamma resolution parameter to use in the different MolTi's analysis.\n",
    "    gamma_step : float\n",
    "        The gamma_step of the resolution parameter to use. \n",
    "    distmethod : str, optional\n",
    "        A distance method metric to use to compute the trajectories. Defaults to \"hamming\" for hamming\n",
    "        distance, but accepts any other metric supplied by scipy.spatial.distance.pdist.\n",
    "    n_jobs : int, optional\n",
    "        The number of n_jobs to use for the computation of the distance matrix. Defaults to 1.\n",
    "    path_to_communities : str, optional\n",
    "        The path to save Molti's output files. Defaults to \"Output/\".\n",
    "\n",
    "    Returns\n",
    "    -------\n",
    "    A dictionary containing the following keys:\n",
    "        gene_community_matrix: A matrix where the rows correspond to the different genes, and the columns to the different community structures. The values of the matrix are the cluster to which the gene belongs in the corresponding community structure.\n",
    "        l_constant: A dictionary where the keys are the different community structures, and the values are the list of genes that belong to that community structure.\n",
    "        distance_matrix: A matrix with the hamming distances between all pairs of genes.\n",
    "    \"\"\"\n",
    "    # 0. check input correctness\n",
    "    if input_layers is None or len(input_layers) < 1:\n",
    "        raise ValueError(\"ERROR: Input_layers argument must be a list of at least 1 network file\")\n",
    "    \n",
    "    if not isinstance(gamma_max, (int, float)):\n",
    "        raise ValueError(\"ERROR: Resolution parameter must be a number\")\n",
    "    \n",
    "    if not isinstance(gamma_min, (int, float)):\n",
    "        raise ValueError(\"ERROR: Resolution parameter must be a number\")\n",
    "    \n",
    "    if not isinstance(gamma_step, (int, float)):\n",
    "        raise ValueError(\"ERROR: gamma_step value must be a number\")\n",
    "    \n",
    "    if not isinstance(path_to_communities, str):\n",
    "        raise ValueError(\"ERROR: path_to_communities expects a character string\")\n",
    "    \n",
    "    assert distmethod in ['braycurtis', 'canberra', 'chebyshev', 'cityblock',\n",
    "                          'correlation', 'cosine', 'dice', 'euclidean', 'hamming',\n",
    "                          'jaccard', 'jensenshannon', 'kulczynski1', 'mahalanobis',\n",
    "                          'matching', 'minkowski', 'rogerstanimoto', 'russellrao',\n",
    "                          'seuclidean', 'sokalmichener', 'sokalsneath', 'sqeuclidean',\n",
    "                          'yule']\n",
    "    \n",
    "    if not isinstance(n_jobs, int):\n",
    "        raise ValueError(\"ERROR: n_jobs must be a number corresponding to the number of cores available to use\")\n",
    "\n",
    "    # 1st part: community detection\n",
    "    communities_detection(input_layers=input_layers, gamma_min=gamma_min, gamma_max=gamma_max,\n",
    "                          gamma_step=gamma_step, method=method, path_to_communities=path_to_communities)\n",
    "    \n",
    "    # 2nd part: cmmd\n",
    "    final_output = continual_multiplex_analysis(nodelist=nodelist,\n",
    "                                                path_to_communities=path_to_communities,\n",
    "                                                distmethod=distmethod,\n",
    "                                                n_jobs=n_jobs)\n",
    "    \n",
    "    return final_output"
   ]
  },
  {
   "cell_type": "code",
   "execution_count": 6,
   "metadata": {},
   "outputs": [
    {
     "name": "stdout",
     "output_type": "stream",
     "text": [
      "Function 'communities_detection' executed in 0 minutes, 29.58 seconds\n",
      "Function 'continual_multiplex_analysis' executed in 0 minutes, 0.17 seconds\n"
     ]
    }
   ],
   "source": [
    "prefix = \"../data/networks-tiny-tiny/\"\n",
    "input_layers = [prefix + \"1.csv\",\n",
    "                prefix + \"2.csv\"]\n",
    "\n",
    "cmmd_output = cmmd(nodelist = None,\n",
    "     input_layers = input_layers,\n",
    "     gamma_min = 0,\n",
    "     gamma_max = 2,\n",
    "     gamma_step = 0.5,\n",
    "     path_to_communities = \"../out/communities/\",\n",
    "     distmethod = \"hamming\",\n",
    "     n_jobs = 6)\n"
   ]
  },
  {
   "cell_type": "markdown",
   "metadata": {},
   "source": [
    "Save object to the disk:"
   ]
  },
  {
   "cell_type": "code",
   "execution_count": 7,
   "metadata": {},
   "outputs": [],
   "source": [
    "# # save object to file\n",
    "# path_save = Path(\"../out/cmmd_pickle/\")\n",
    "# assert path_save.exists()\n",
    "\n",
    "# # pickle the object\n",
    "# with open(path_save / \"cmmd_output.pkl\", 'wb') as handle:\n",
    "#     pickle.dump(cmmd_output, handle, protocol=pickle.HIGHEST_PROTOCOL)"
   ]
  },
  {
   "cell_type": "code",
   "execution_count": 8,
   "metadata": {},
   "outputs": [],
   "source": [
    "# def test_cmmd(cmmd:dict, path_save:pathlib.Path|str=Path(\"../out/cmmd_pickle/cmmd_output.pkl\")) -> None:\n",
    "#     # load the cmmd object\n",
    "#     with open(path_save, 'rb') as handle:\n",
    "#         cmmd_old = pickle.load(handle)\n",
    "#     assert (cmmd[\"distance_matrix\"] == cmmd_old[\"distance_matrix\"]).all()\n",
    "#     assert (cmmd[\"gene_community_matrix\"] == cmmd_old[\"gene_community_matrix\"]).all()\n",
    "#     assert cmmd[\"l_constant\"] == cmmd_old[\"l_constant\"]"
   ]
  },
  {
   "cell_type": "markdown",
   "metadata": {},
   "source": [
    "Confirm new and old objects generate the same output:"
   ]
  },
  {
   "cell_type": "code",
   "execution_count": 9,
   "metadata": {},
   "outputs": [
    {
     "data": {
      "text/plain": [
       "dict_keys(['gene_community_matrix', 'l_constant', 'distance_matrix'])"
      ]
     },
     "execution_count": 9,
     "metadata": {},
     "output_type": "execute_result"
    }
   ],
   "source": [
    "#| eval: false\n",
    "cmmd_output.keys()"
   ]
  },
  {
   "cell_type": "code",
   "execution_count": 10,
   "metadata": {},
   "outputs": [
    {
     "name": "stdout",
     "output_type": "stream",
     "text": [
      "gene_community_matrix\n",
      "[[ 736  751 1002  810  901]\n",
      " [ 789  924  927  964  901]\n",
      " [   0  797  983  974  901]\n",
      " ...\n",
      " [   0  924  782  818  901]\n",
      " [ 789  924  782  818  901]\n",
      " [ 969  935  908  963  901]]\n",
      "********************\n",
      "l_constant\n",
      "{np.int64(20): ['SLC18A1\\n', 'DDC\\n'], np.int64(60): ['RDH13\\n'], np.int64(126): ['OAT\\n'], np.int64(143): ['SLC43A2\\n', 'SLC6A19\\n', 'SLC6A14\\n'], np.int64(168): ['SLC7A8\\n', 'TH\\n', 'TYR\\n'], np.int64(195): ['HS3ST3A1\\n'], np.int64(227): ['CYP2D6\\n'], np.int64(239): ['CYP2C9\\n'], np.int64(308): ['SLC9A4\\n'], np.int64(443): ['HACD1\\n'], np.int64(448): ['GCSH\\n'], np.int64(450): ['NDUFAF7\\n', 'NDUFAB1\\n'], np.int64(466): ['NDUFA5\\n'], np.int64(478): ['NDUFC1\\n'], np.int64(482): ['SARDH\\n', 'CHDH\\n'], np.int64(514): ['DLAT\\n'], np.int64(522): ['SLC36A4\\n'], np.int64(553): ['SLC2A6\\n', 'SLC5A10\\n'], np.int64(582): ['DAO\\n'], np.int64(588): ['KCNQ4\\n'], np.int64(589): ['ADAMTS16\\n'], np.int64(590): ['SLITRK1\\n'], np.int64(591): ['HCN1\\n'], np.int64(592): ['KCNG2\\n'], np.int64(593): ['MYL6\\n', 'TPM4\\n', 'DMD\\n', 'PXN\\n'], np.int64(594): ['HPRT1\\n'], np.int64(595): ['DUS2\\n'], np.int64(596): ['EXOSC1\\n'], np.int64(597): ['TIMM9\\n'], np.int64(598): ['ADAT2\\n'], np.int64(599): ['GABRR3\\n', 'GABRR2\\n'], np.int64(600): ['PDK4\\n'], np.int64(601): ['ZNF383\\n'], np.int64(602): ['GRPEL1\\n'], np.int64(603): ['CNOT6\\n'], np.int64(604): ['ESAM\\n'], np.int64(605): ['EIF2AK2\\n', 'MX1\\n'], np.int64(606): ['MRPL37\\n'], np.int64(607): ['PLEKHA3\\n'], np.int64(608): ['EFNB1\\n', 'ARPC3\\n'], np.int64(609): ['ZNF521\\n'], np.int64(610): ['LYPD4\\n'], np.int64(611): ['ITFG2\\n'], np.int64(612): ['DDX23\\n'], np.int64(613): ['MMP20\\n'], np.int64(614): ['FNBP1L\\n'], np.int64(615): ['KRTAP12-1\\n'], np.int64(616): ['PRKD1\\n'], np.int64(617): ['DOT1L\\n'], np.int64(618): ['KRTAP10-6\\n'], np.int64(619): ['CHAC2\\n'], np.int64(620): ['UCHL3\\n'], np.int64(621): ['JMJD1C\\n', 'GATA6\\n'], np.int64(622): ['LRP12\\n'], np.int64(623): ['MUC17\\n'], np.int64(624): ['FANCF\\n'], np.int64(625): ['LILRB5\\n'], np.int64(626): ['NMNAT3\\n'], np.int64(627): ['WNT10A\\n'], np.int64(628): ['UQCR11\\n', 'NDUFB2\\n', 'NDUFS6\\n', 'LRPPRC\\n', 'COQ10A\\n', 'NDUFS1\\n', 'NDUFS2\\n', 'SDHB\\n'], np.int64(629): ['GJB4\\n', 'GJD2\\n'], np.int64(630): ['LRRC8C\\n', 'MMGT1\\n'], np.int64(631): ['TMEM132A\\n'], np.int64(632): ['BLOC1S4\\n'], np.int64(633): ['HTD2\\n'], np.int64(634): ['TNFSF13\\n', 'TNFRSF11B\\n'], np.int64(635): ['CACNA1S\\n'], np.int64(636): ['GALNT16\\n', 'MUC12\\n'], np.int64(637): ['ADPGK\\n'], np.int64(638): ['ENPEP\\n'], np.int64(639): ['PARVA\\n'], np.int64(640): ['NOX4\\n'], np.int64(641): ['TTC37\\n'], np.int64(642): ['AK5\\n'], np.int64(643): ['SOCS5\\n'], np.int64(644): ['IPPK\\n'], np.int64(645): ['AK6\\n'], np.int64(646): ['TPI1\\n'], np.int64(647): ['DOK6\\n'], np.int64(648): ['RAET1L\\n', 'TEX101\\n'], np.int64(649): ['ENO2\\n'], np.int64(650): ['BRPF3\\n'], np.int64(651): ['TRIM11\\n'], np.int64(652): ['PTGR1\\n'], np.int64(653): ['SLC29A1\\n', 'SLC29A2\\n'], np.int64(654): ['KRTAP10-3\\n'], np.int64(655): ['CD163\\n'], np.int64(656): ['GPIHBP1\\n'], np.int64(657): ['FKBP14\\n'], np.int64(658): ['NDUFA10\\n', 'NDUFB8\\n', 'NDUFB9\\n', 'NDUFB4\\n', 'NDUFA3\\n', 'SCO1\\n', 'NDUFB7\\n', 'MT-ND1\\n', 'NDUFA11\\n', 'NUBPL\\n', 'NDUFB10\\n', 'NDUFAF4\\n'], np.int64(659): ['POLD2\\n', 'HMGN1\\n'], np.int64(660): ['DENND1B\\n'], np.int64(661): ['RBL2\\n'], np.int64(662): ['SFTPA1\\n'], np.int64(663): ['TOMM22\\n'], np.int64(664): ['ZNF439\\n'], np.int64(665): ['TBC1D7\\n', 'AMBRA1\\n'], np.int64(666): ['IL31RA\\n'], np.int64(667): ['CD1B\\n', 'PILRA\\n'], np.int64(668): ['TPGS1\\n'], np.int64(669): ['SBSPON\\n'], np.int64(670): ['LCLAT1\\n'], np.int64(671): ['MAN2A2\\n', 'COG3\\n'], np.int64(672): ['NIPAL1\\n', 'NIPAL4\\n'], np.int64(673): ['IRF5\\n', 'IFNA13\\n'], np.int64(674): ['ATP6V1E2\\n'], np.int64(675): ['STX17\\n'], np.int64(676): ['TBC1D10A\\n'], np.int64(677): ['LY6G6D\\n'], np.int64(678): ['CHCHD5\\n'], np.int64(679): ['OCLN\\n'], np.int64(680): ['NOL9\\n', 'RBM28\\n'], np.int64(681): ['PLET1\\n'], np.int64(682): ['RIC1\\n'], np.int64(683): ['PLA2G4D\\n'], np.int64(684): ['TIMM23\\n'], np.int64(685): ['VPS29\\n'], np.int64(686): ['CYP4A22\\n'], np.int64(687): ['PLAAT5\\n'], np.int64(688): ['ARHGEF25\\n', 'HTR2B\\n'], np.int64(689): ['TCAP\\n'], np.int64(690): ['GPX8\\n', 'TXNRD2\\n'], np.int64(691): ['NT5C1B\\n'], np.int64(692): ['PLA2G2F\\n'], np.int64(693): ['GPHB5\\n'], np.int64(694): ['UGT1A5\\n'], np.int64(695): ['PPP6R3\\n'], np.int64(696): ['MED28\\n'], np.int64(697): ['MCEE\\n'], np.int64(698): ['CRHR1\\n', 'INSL3\\n', 'TAAR5\\n', 'RXFP2\\n'], np.int64(699): ['FZD6\\n', 'RYK\\n'], np.int64(700): ['TPCN1\\n'], np.int64(701): ['GPAT2\\n', 'LIPH\\n'], np.int64(702): ['POC1B-GALNT4\\n'], np.int64(703): ['155908\\n', 'CHMP5\\n'], np.int64(704): ['ADAMTS15\\n', 'SPON2\\n'], np.int64(705): ['PRKCI\\n'], np.int64(706): ['SMYD2\\n'], np.int64(707): ['HSPA9\\n', 'USP17L5\\n', 'PAM16\\n', 'TIMM8B\\n', 'CHCHD4\\n', 'TIMM17B\\n'], np.int64(708): ['VNN3\\n'], np.int64(709): ['SLC17A5\\n'], np.int64(710): ['THSD7A\\n'], np.int64(711): ['886418\\n'], np.int64(712): ['ZNF124\\n'], np.int64(713): ['ACVRL1\\n', 'SMAD9\\n'], np.int64(714): ['AZGP1\\n'], np.int64(715): ['MAX\\n'], np.int64(716): ['CHMP6\\n'], np.int64(717): ['DYNLRB2\\n'], np.int64(718): ['TNNI2\\n'], np.int64(719): ['KRTAP5-7\\n'], np.int64(720): ['NEIL3\\n'], np.int64(721): ['CHCHD10\\n'], np.int64(722): ['NDUFAF6\\n'], np.int64(723): ['SH3KBP1\\n', 'PCSK9\\n', 'CLTA\\n'], np.int64(724): ['SESN2\\n'], np.int64(725): ['COX16\\n', 'SESN3\\n'], np.int64(726): ['TMOD3\\n'], np.int64(727): ['TRIM72\\n'], np.int64(728): ['CYFIP2\\n'], np.int64(729): ['JAK3\\n'], np.int64(730): ['ABCG1\\n'], np.int64(731): ['AMD1\\n'], np.int64(732): ['LPIN3\\n'], np.int64(733): ['KCNK2\\n', 'KCNK13\\n'], np.int64(734): ['TNS4\\n'], np.int64(735): ['ANKRD27\\n'], np.int64(736): ['KCNK17\\n'], np.int64(737): ['KIR2DL3\\n'], np.int64(738): ['ENPP7\\n'], np.int64(739): ['ST3GAL6\\n'], np.int64(740): ['GALNT11\\n'], np.int64(741): ['REPS1\\n', 'VAMP4\\n', 'SYT12\\n', 'NECAP1\\n', 'STON1-GTF2A1L\\n'], np.int64(742): ['NRP1\\n'], np.int64(743): ['BMT2\\n', 'FNIP1\\n'], np.int64(744): ['888777\\n'], np.int64(745): ['FCSK\\n'], np.int64(746): ['KLHL13\\n'], np.int64(747): ['EPB41L3\\n'], np.int64(748): ['CHCHD3\\n', 'ATP5ME\\n'], np.int64(749): ['ZNF740\\n', 'ZNF226\\n'], np.int64(750): ['ADAMTS13\\n'], np.int64(751): ['KRTAP5-3\\n'], np.int64(752): ['SIRT1\\n', 'NR1D1\\n', 'PPP1CA\\n', 'PPP1CB\\n'], np.int64(753): ['KCNA7\\n'], np.int64(754): ['DEFB115\\n', 'DEFB103A\\n', 'DEFB107A\\n', 'DEFA3\\n'], np.int64(755): ['MTMR2\\n'], np.int64(756): ['SYT10\\n'], np.int64(757): ['DENND1A\\n'], np.int64(758): ['PEX14\\n', 'PEX3\\n', 'GDAP1\\n', 'SLC25A17\\n'], np.int64(759): ['3636229\\n'], np.int64(760): ['NSMCE4A\\n'], np.int64(761): ['TNFSF4\\n'], np.int64(762): ['SAG\\n'], np.int64(763): ['DSE\\n'], np.int64(764): ['CNOT7\\n'], np.int64(765): ['DENND6B\\n'], np.int64(766): ['GNPAT\\n'], np.int64(767): ['YIPF6\\n'], np.int64(768): ['TRIM34\\n'], np.int64(769): ['KLRG1\\n'], np.int64(770): ['3361714\\n'], np.int64(771): ['LMF1\\n'], np.int64(772): ['KIF1B\\n', 'KIF27\\n', 'KDELR1\\n'], np.int64(773): ['SPHK2\\n', 'CERS4\\n'], np.int64(774): ['PLG\\n', 'ADAMTS1\\n', 'ADAMTS18\\n'], np.int64(775): ['ZNF480\\n', 'ZNF169\\n'], np.int64(776): ['CACNG6\\n'], np.int64(777): ['DEFB112\\n'], np.int64(778): ['ELAC2\\n'], np.int64(779): ['ITGA8\\n'], np.int64(780): ['RFT1\\n'], np.int64(781): ['ATP10A\\n', 'ATP8B3\\n', 'ATP7B\\n', 'ATP2B1\\n'], np.int64(782): ['MUC16\\n'], np.int64(783): ['SNRPD2\\n', 'SMNDC1\\n', 'ZRSR2\\n'], np.int64(784): ['ARAP1\\n'], np.int64(785): ['CHCHD7\\n', 'TIMM10B\\n'], np.int64(786): ['MUC13\\n'], np.int64(787): ['ARFIP2\\n'], np.int64(788): ['LCE1F\\n', 'LCE1D\\n'], np.int64(789): ['THSD4\\n'], np.int64(790): ['RAB17\\n', 'RAB39B\\n'], np.int64(791): ['DMAC2L\\n'], np.int64(792): ['CHRNA4\\n'], np.int64(793): ['TRAPPC5\\n', 'ALS2CL\\n'], np.int64(794): ['NR2C2\\n'], np.int64(795): ['PRLH\\n'], np.int64(796): ['LIPF\\n'], np.int64(797): ['CASTOR2\\n'], np.int64(798): ['KRT19\\n'], np.int64(799): ['PARD6B\\n'], np.int64(800): ['ANKLE2\\n'], np.int64(801): ['KIF20B\\n', 'NSF\\n'], np.int64(802): ['MUC19\\n'], np.int64(803): ['PJA2\\n'], np.int64(804): ['ATP6V0D2\\n'], np.int64(805): ['CDK19\\n'], np.int64(806): ['SLC41A2\\n'], np.int64(807): ['NR2F1\\n', 'NRBP1\\n'], np.int64(808): ['SF3B5\\n'], np.int64(809): ['CLCA4\\n'], np.int64(810): ['GPHN\\n'], np.int64(811): ['TIMM10\\n', 'OTC\\n'], np.int64(812): ['PLA2G4E\\n', 'PLA2G1B\\n', '3644711\\n'], np.int64(813): ['RAB1B\\n'], np.int64(814): ['IL1RAPL2\\n'], np.int64(815): ['FADD\\n', 'CDC25B\\n', 'CFLAR\\n'], np.int64(816): ['RPEL1\\n'], np.int64(817): ['KDELR3\\n'], np.int64(818): ['ABI2\\n'], np.int64(819): ['TRMT10A\\n'], np.int64(820): ['PDE10A\\n', 'TAAR8\\n'], np.int64(821): ['PGLYRP2\\n'], np.int64(822): ['KRT79\\n'], np.int64(823): ['MDH1\\n'], np.int64(824): ['IFNL1\\n'], np.int64(825): ['UBQLN1\\n'], np.int64(826): ['MT-ND2\\n', 'NDUFA13\\n', 'NDUFS7\\n', 'NDUFAF3\\n', 'MT-ND5\\n'], np.int64(827): ['HIRA\\n'], np.int64(828): ['ST6GAL2\\n', 'ST3GAL1\\n'], np.int64(829): ['E2F4\\n'], np.int64(830): ['AP4E1\\n'], np.int64(831): ['TTLL9\\n'], np.int64(832): ['MYBPC2\\n', 'TPM2\\n', 'SORBS1\\n'], np.int64(833): ['CACNG8\\n', 'CACNG4\\n'], np.int64(834): ['PAOX\\n'], np.int64(835): ['ENAH\\n'], np.int64(836): ['GSTO1\\n'], np.int64(837): ['MT1G\\n'], np.int64(838): ['TNXB\\n'], np.int64(839): ['XBP1\\n'], np.int64(840): ['FMOD\\n'], np.int64(841): ['CATSPERD\\n'], np.int64(842): ['PTHLH\\n'], np.int64(843): ['PLA2R1\\n', 'GPAT4\\n'], np.int64(844): ['WNK2\\n'], np.int64(845): ['CACNB2\\n', 'CACNA2D3\\n'], np.int64(846): ['ARAP3\\n'], np.int64(847): ['NR2C2AP\\n'], np.int64(848): ['ATP4A\\n'], np.int64(849): ['PARD6G\\n'], np.int64(850): ['KDM2A\\n'], np.int64(851): ['ZFP69B\\n'], np.int64(852): ['TTC21B\\n', 'UCN2\\n'], np.int64(853): ['NTS\\n'], np.int64(854): ['TBC1D17\\n'], np.int64(855): ['NT5C1B-RDH14\\n'], np.int64(856): ['CLCA1\\n'], np.int64(857): ['CASTOR1\\n'], np.int64(858): ['NGEF\\n'], np.int64(859): ['KCNU1\\n'], np.int64(860): ['CACNA2D2\\n', 'SCN4A\\n'], np.int64(861): ['ST8SIA2\\n'], np.int64(862): ['FAAP100\\n'], np.int64(863): ['CASC3\\n'], np.int64(864): ['PARP9\\n'], np.int64(865): ['IL18R1\\n'], np.int64(866): ['MLKL\\n', 'TRPC1\\n'], np.int64(867): ['DSC3\\n', 'KRTAP19-6\\n', 'KRT18\\n'], np.int64(868): ['VAC14\\n'], np.int64(869): ['MRGBP\\n'], np.int64(870): ['MIGA2\\n'], np.int64(871): ['RBP4\\n'], np.int64(872): ['LTBP3\\n'], np.int64(873): ['B4GALNT1\\n', 'GLTP\\n', 'SUMF1\\n'], np.int64(874): ['ATP10D\\n'], np.int64(875): ['MED9\\n'], np.int64(876): ['PRKG2\\n'], np.int64(877): ['KRT37\\n', 'TCHH\\n'], np.int64(878): ['OPN1MW3\\n'], np.int64(879): ['ZNF558\\n'], np.int64(880): ['APOBEC4\\n'], np.int64(881): ['COL25A1\\n'], np.int64(882): ['CLEC4G\\n'], np.int64(883): ['DEFB130A\\n', 'DEFA5\\n', 'DEFB113\\n', 'DEFB131A\\n', 'DEFB136\\n'], np.int64(884): ['PLXNA3\\n'], np.int64(885): ['ARHGAP11A\\n', 'DEPDC7\\n'], np.int64(886): ['UGT2A2\\n'], np.int64(887): ['CNTN3\\n'], np.int64(888): ['NIPA2\\n'], np.int64(889): ['EP400\\n'], np.int64(890): ['ARHGEF6\\n'], np.int64(891): ['INPP5E\\n'], np.int64(892): ['LORICRIN\\n', 'KRT5\\n', 'KRTAP13-2\\n', 'KRTAP8-1\\n', 'KRTAP2-4\\n', 'PCSK6\\n', 'CSTA\\n', 'KRT6B\\n', 'KRTAP4-8\\n', 'KRT28\\n', 'KRTAP19-3\\n', 'KRT77\\n', 'PRSS8\\n', 'KRTAP17-1\\n', 'KRTAP27-1\\n'], np.int64(893): ['NME3\\n'], np.int64(894): ['MYL4\\n', 'MYH3\\n', 'TNNT1\\n'], np.int64(895): ['ADAMTS20\\n'], np.int64(896): ['MSL1\\n'], np.int64(897): ['CYP4F22\\n'], np.int64(898): ['PLCD4\\n'], np.int64(899): ['ACBD7\\n'], np.int64(900): ['ECE2\\n'], np.int64(901): ['RBCK1\\n', 'GP1BA\\n', 'ITGB3\\n', 'CYLD\\n', 'RAB8A\\n', 'OR4F29\\n', 'REEP3\\n', 'MCF2L\\n', 'TFAM\\n', 'RFC2\\n', 'BBC3\\n', 'UBE2Q2\\n', 'HSPA8\\n', 'IL23A\\n', 'COLGALT2\\n', 'OR2V1\\n', 'INS\\n', 'ASB9\\n', 'SEC31A\\n', 'CAV1\\n', 'CEP41\\n', 'SEMA4D\\n', 'RPS5\\n', 'ZNF689\\n', 'HLA-C\\n', 'KNL1\\n', 'OR4F17\\n', 'ENPP4\\n', 'POLR1C\\n', 'MYL12B\\n', 'DDX47\\n', 'TLL2\\n', 'ZNF782\\n', 'IRF6\\n', 'OR11H4\\n', 'ADH1C\\n', 'DHX9\\n', 'DNAJA4\\n', 'TAF7L\\n', 'YKT6\\n', 'RPL34\\n', 'THOP1\\n', 'MIB2\\n', 'SDC2\\n', 'TLR1\\n', 'MED27\\n', 'BRMS1\\n', 'CD86\\n', 'BST2\\n', 'CUL5\\n', 'CAMK2G\\n', 'CBLL2\\n', 'RNF5\\n', 'EED\\n', 'ZNF529\\n', 'LRRTM2\\n', 'ATP6V1B2\\n', 'ZNRF1\\n', 'BMP15\\n', 'USF2\\n', 'GLP1R\\n', 'ROBO2\\n', 'GPR143\\n', 'LEO1\\n', 'ZNF775\\n', 'MMP25\\n', 'PPP2R5E\\n', 'TEX264\\n', 'APBB1\\n', 'CTSA\\n', 'ZDHHC2\\n', 'NFYB\\n', 'GPC2\\n', 'SDCCAG8\\n', 'FBXL8\\n', 'NR1H3\\n', 'OR8B2\\n', 'OR8B8\\n', 'PDE7B\\n', 'OR5D14\\n', 'PTPRS\\n', 'CD4\\n', 'HRH4\\n', 'POLD1\\n', 'WIPI2\\n', 'UIMC1\\n', 'HOXD1\\n', 'PSMA1\\n', 'ARSG\\n', 'UTP14C\\n', 'UTS2B\\n', 'THOC5\\n', 'SLC22A8\\n', 'ORC1\\n', 'ZNF17\\n', 'HJURP\\n', 'HLA-DRB4\\n', 'AADAC\\n', 'NUF2\\n', 'RPL10\\n', 'TCTN3\\n', 'SNRPB\\n', 'ELMO2\\n', 'HBG1\\n', 'OR8J1\\n', 'XPC\\n', 'TNFRSF1A\\n', 'CARM1\\n', 'TP73\\n', 'ACKR3\\n', 'IFNA8\\n', 'RAMP1\\n', 'DGKH\\n', 'IER3\\n', 'STAG1\\n', 'SRSF3\\n', 'ERCC3\\n', 'WSB1\\n', 'ZNF221\\n', 'ZNF660\\n', 'ITGB8\\n', 'OR7G2\\n', 'ALB\\n', 'TMPRSS6\\n', 'LAMB1\\n', 'NR1H2\\n', 'TNFAIP6\\n', 'JAG1\\n', 'DCAF13\\n', 'NDE1\\n', 'ESR1\\n', 'TUBB3\\n', 'CREBBP\\n', 'SPP2\\n', 'CRCP\\n', 'CREM\\n', 'ICAM3\\n', 'PNOC\\n', 'USP8\\n', 'KIF4A\\n', 'MNAT1\\n', 'IL1RN\\n', 'OR4S1\\n', 'RBBP4\\n', 'TAF4\\n', 'TAS2R50\\n', 'NUP205\\n', 'PGLYRP1\\n', 'ZNF266\\n', 'VCAN\\n', 'FANCA\\n', 'TRIM62\\n', 'STIP1\\n', 'SCN3B\\n', 'GRM3\\n', 'SNRNP48\\n', 'UGT1A9\\n', 'PTGDR\\n', 'GTF2F1\\n', 'LMNB1\\n', 'SYVN1\\n', 'PAPOLA\\n', 'ILF2\\n', 'WASF3\\n', 'NDUFA1\\n', 'KRT85\\n', 'ZNF773\\n', 'DDX21\\n', 'GFRA3\\n', 'ANKRD1\\n', 'TRIM21\\n', 'KLHL42\\n', 'FGF20\\n', 'DVL1\\n', 'USP47\\n', 'UNC13D\\n', 'LPCAT1\\n', 'CTSV\\n', 'SYT8\\n', 'COTL1\\n', 'AMBN\\n', 'ROCK1\\n', 'ORMDL3\\n', 'RNASET2\\n', 'CDH1\\n', 'STAMBP\\n', 'GNB2\\n', 'OR1J4\\n', 'PRLHR\\n', 'FCAR\\n', 'CDC37L1\\n', 'OR2T1\\n', 'MEAF6\\n', 'GPR4\\n', 'OR5D18\\n', 'PRKAB1\\n', 'KRTAP11-1\\n', 'POLR2K\\n', 'KBTBD7\\n', 'EXOSC7\\n', 'NTSR2\\n', 'FEM1A\\n', 'CCL4L2\\n', 'OR2W5P\\n', 'COPS3\\n', 'IL10\\n', 'CCR4\\n', 'THEM4\\n', 'KL\\n', 'H4C5\\n', 'PSMC2\\n', 'PLRG1\\n', 'KIFC2\\n', 'CRY1\\n', 'ZNF143\\n', 'RGS1\\n', 'ZNF157\\n', 'TIMELESS\\n', 'OR9Q1\\n', 'STING1\\n', 'GATA1\\n', 'ADRM1\\n', 'ARHGAP10\\n', 'FBN1\\n', 'BDP1\\n', 'ADORA1\\n', 'COPG1\\n', 'DOK3\\n', 'PSMB8\\n', 'PDE4A\\n', 'KRT73\\n', 'EHD2\\n', 'ARHGEF2\\n', 'PTGIS\\n', 'ZNF493\\n', 'MC5R\\n', 'GAD2\\n', 'CPT1C\\n', 'VDAC2\\n', 'TOP2A\\n', 'USP34\\n', 'SLC38A9\\n', 'LCE3E\\n', 'HLA-G\\n', 'NSD2\\n', 'C12orf66\\n', 'ZNF706\\n', 'CMTM6\\n', 'PRKAR2B\\n', 'ITGAE\\n', 'CTNNB1\\n', 'CHMP4B\\n', 'TAF1L\\n', 'HSP90B1\\n', 'OR10Z1\\n', 'SPTAN1\\n', 'HTR2A\\n', 'SAP18\\n', 'HBEGF\\n', 'CTSL\\n', 'ELP6\\n', 'OR2T10\\n', 'CDC14B\\n', 'CSF2RB\\n', 'SLC8A1\\n', 'DNAJB6\\n', 'INTS10\\n', 'EEF1AKMT4-ECE2\\n', 'ITGA2B\\n', 'NOTCH3\\n', 'ICOS\\n', 'KRTAP1-4\\n', 'CIAO2B\\n', 'ZNF619\\n', 'ARHGEF3\\n', 'MLST8\\n', 'LCE1C\\n', 'CUL4B\\n', 'SFTPC\\n', 'ZNF667\\n', 'CD300A\\n', 'H2AC12\\n', 'OR6A2\\n', 'DDX52\\n', 'ARPC4\\n', 'CAPN5\\n', 'FYN\\n', 'TXNL4A\\n', 'CTSW\\n', 'ATP13A4\\n', 'OR5AP2\\n', 'RPS9\\n', 'AVPR1A\\n', 'HERC6\\n', 'FUCA2\\n', 'KDM7A\\n', 'WDR5\\n', 'ARHGEF16\\n', 'CAV2\\n', 'RPS19\\n', 'BTRC\\n', 'SULT2B1\\n', 'KMT2C\\n', 'CCL25\\n', 'GBP7\\n', 'PIAS3\\n', 'KBTBD6\\n', 'TGS1\\n', 'PIK3CA\\n', 'OR8D4\\n', 'ZNF461\\n', 'RNF146\\n', 'COPA\\n', 'TREM2\\n', 'PSMD6\\n', 'TAS2R43\\n', 'MARK3\\n', 'PDPR\\n', 'WNT7B\\n', 'PAK1\\n', 'CDC7\\n', 'ARL8A\\n', 'INSL5\\n', 'H3C12\\n', 'TGFBR1\\n', 'UGCG\\n', 'GNG7\\n', 'CSNK1D\\n', 'CDT1\\n', 'GPC4\\n', 'ZWINT\\n', 'SETD2\\n', 'SLC24A5\\n', 'WDR48\\n', 'HTR4\\n', 'KCNC2\\n', 'HLA-DQB1\\n', 'ACOX1\\n', 'COL20A1\\n', 'LTB4R\\n', 'AGFG1\\n', 'ABCB1\\n', 'PLEKHA1\\n', 'GTF2H3\\n', 'COG6\\n', 'BTBD6\\n', 'MAPK1\\n', 'U2AF1\\n', 'EGLN3\\n', 'PDPK1\\n', 'EFNA2\\n', 'PPIL6\\n', 'TDG\\n', 'KIF24\\n', 'TSC1\\n', 'NCK1\\n', 'WDR75\\n', 'ZNF703\\n', 'OR11H2\\n', 'SNURF\\n', 'ASB4\\n', 'ZNF517\\n', 'PACSIN3\\n', 'RTP2\\n', 'CGA\\n', 'PPBP\\n', 'GABPA\\n', 'CCL20\\n', 'OR8K5\\n', 'EIF4E\\n', 'ICAM2\\n', 'RGS19\\n', 'SEPSECS\\n', 'CDKN2C\\n', 'CALM2\\n', 'ZNF300\\n', 'ATP2A3\\n', 'KLF4\\n', 'CENPS-CORT\\n', 'HTR1B\\n', 'CDC34\\n', 'USP17L27\\n', 'SCNN1B\\n', 'NFAM1\\n', 'LTN1\\n', 'IL27RA\\n', 'TAF9\\n', 'ATP1A2\\n', 'RAC2\\n', 'PRKAR1B\\n', 'UBA7\\n', 'RIPK1\\n', 'LYN\\n', 'ISG15\\n', 'MXRA8\\n', 'FBXL19\\n', 'PGM2\\n', 'PUM2\\n', 'EME1\\n', 'CCNE1\\n', 'KMT5C\\n', 'ADAM17\\n', 'RAE1\\n', 'TAS2R31\\n', 'MAT1A\\n', 'TSPAN33\\n', 'SDR9C7\\n', 'ALMS1\\n', 'EYA1\\n', 'OR10A2\\n', 'CPPED1\\n', 'OR2M3\\n', 'H2AC4\\n', 'OR2M2\\n', 'MAP2K1\\n', 'MMP10\\n', 'ARPC2\\n', 'SRP72\\n', 'RAF1\\n', 'ATP11A\\n', 'AGK\\n', 'PRKAR2A\\n', 'NPW\\n', 'ARTN\\n', 'ZNF286A\\n', 'NR2E1\\n', 'P2RY2\\n', 'FTSJ3\\n', 'ZNF621\\n', 'CDH2\\n', 'TRIM37\\n', 'CCL27\\n', 'HP\\n', 'ATP6V1D\\n', 'MYBBP1A\\n', 'TOP1\\n', 'ATM\\n', 'EXOSC4\\n', 'SEL1L\\n', 'ARF1\\n', 'TTBK2\\n', 'TAS2R30\\n', 'LTBR\\n', 'AGO2\\n', 'BCAS2\\n', 'C5\\n', 'TRIM45\\n', 'TFF3\\n', 'LTF\\n', 'ATG9A\\n', 'OR11H1\\n', 'DENND2D\\n', 'RORC\\n', 'LY96\\n', 'LHX3\\n', 'DEFB105A\\n', 'ZNF420\\n', 'RCE1\\n', 'SLC16A7\\n', 'TFRC\\n', 'IRAG2\\n', 'GNAI1\\n', 'EIF3C\\n', 'APH1B\\n', 'PCGF2\\n', 'IL4I1\\n', 'KLHL41\\n', 'RING1\\n', 'OR5D16\\n', 'MTMR3\\n', 'GHRL\\n', 'SEC24D\\n', 'ITSN1\\n', 'DCP2\\n', 'TRIM36\\n', 'NTHL1\\n', 'NMUR1\\n', 'CRACR2A\\n', 'ATXN7\\n', 'FBXL7\\n', 'CLCN2\\n', 'ATAT1\\n', 'KIF2B\\n', 'SH2B3\\n', 'CEP89\\n', 'EPHA10\\n', 'OR4N4\\n', 'RRP36\\n', 'ZNF736\\n', 'SMARCA2\\n', 'SSTR3\\n', 'ACLY\\n', 'OR4K5\\n', 'GSN\\n', 'PTBP1\\n', 'EPHA5\\n', 'CR1\\n', 'UBE2B\\n', 'EZH2\\n', 'GAS6\\n', 'CHD1L\\n', 'ZNF607\\n', 'NUDT2\\n', 'SIRT4\\n', 'TSPAN15\\n', 'RAB13\\n', 'VPS35L\\n', 'DRD1\\n', 'SMARCA5\\n', '3802042\\n', 'LCE2C\\n', 'EVL\\n', 'DCUN1D1\\n', 'GNG12\\n', 'IDH1\\n', 'EMD\\n', 'THOC6\\n', 'OCRL\\n', 'CHERP\\n', 'EDNRB\\n', 'POLRMT\\n', 'SNAP23\\n', 'BYSL\\n', 'FBN3\\n', 'UBR4\\n', 'ABCA13\\n', 'UTP25\\n', 'HEXB\\n', 'KDELR2\\n', 'SIGLEC8\\n', 'PSME2\\n', 'PCNT\\n', 'CRISP3\\n', 'RXFP3\\n', 'PREX2\\n', 'PHF20\\n', 'SUMO2\\n', 'OR6B3\\n', 'C6orf120\\n', 'UBE2I\\n', 'B9D1\\n', 'KRT71\\n', 'P2RY14\\n', 'SYNJ1\\n', 'ADAM22\\n', 'SLC18A3\\n', 'LMNA\\n', 'TRRAP\\n', 'ARF6\\n', 'TRIM69\\n', 'SMYD3\\n', 'PPP1CC\\n', 'OR10A4\\n', 'CCT5\\n', 'CENPT\\n', 'KDR\\n', 'ZNF727\\n', 'NBEAL2\\n', 'PNRC2\\n', 'GHDC\\n', 'ADAM8\\n', 'ATG9B\\n', 'MPHOSPH6\\n', 'CDC5L\\n', 'GIP\\n', 'PIK3R2\\n', 'DDB1\\n', 'OR5V1\\n', 'OR2T11\\n', 'CD96\\n', 'MED4\\n', 'UTS2\\n', 'KRT74\\n', 'GTF2B\\n', 'MMP11\\n', 'TRAPPC4\\n', 'CEP164\\n', 'OR10X1\\n', 'TULP4\\n', 'FANCI\\n', 'SPTBN4\\n', 'ZNF585A\\n', 'RARA\\n', 'CYP4B1\\n', 'CUL7\\n', 'H2BC3\\n', 'DCAF1\\n', 'SNRNP25\\n', 'FBXO40\\n', 'FBXO15\\n', 'APOE\\n', 'PRG3\\n', 'RPS8\\n', 'CHEK1\\n', 'RAB3A\\n', 'HTR6\\n', 'ZNF440\\n', 'FGR\\n', 'GABBR1\\n', 'OR6T1\\n', 'OR5AN1\\n', 'TIRAP\\n', 'APOA2\\n', 'SRP14\\n', 'PLIN1\\n', 'SEC24C\\n', 'OR6C68\\n', 'EXOSC2\\n', 'ERCC6\\n', 'TNFRSF10A\\n', 'CUL1\\n', 'KLHL5\\n', 'ARIH2\\n', 'AP2A1\\n', 'FPR1\\n', 'UBE2D1\\n', 'DDAH1\\n', 'TRAPPC10\\n', 'TRAPPC6B\\n', 'NOB1\\n', 'CCNC\\n', 'MGRN1\\n', 'GPR55\\n', 'TF\\n', 'LPAR1\\n', 'KRT12\\n', 'VGF\\n', 'POLK\\n', 'SUMO3\\n', 'OGDH\\n', 'ZNF729\\n', 'OR2AE1\\n', 'SUPT20H\\n', 'ARHGDIA\\n', 'IL4R\\n', 'NOS1\\n', 'HIF3A\\n', 'CYP2E1\\n', 'KLHL3\\n', 'PPFIA4\\n', 'KRTAP5-8\\n', 'ZNF573\\n', 'VWA1\\n', 'CD3G\\n', 'ZNF730\\n', 'NFYA\\n', 'OR11H6\\n', 'AMTN\\n', 'PKP1\\n', 'ENY2\\n', 'OR1I1\\n', 'OR4D5\\n', 'H4C15\\n', 'RNF34\\n', 'SMARCA4\\n', 'H2AJ\\n', 'TIMP1\\n', 'CFP\\n', 'ERCC5\\n', 'ALDH1B1\\n', 'GOLGA2\\n', 'FGF7\\n', 'CACNA1H\\n', 'IFNA16\\n', 'PSIP1\\n', 'H2AB1\\n', 'NFKB1\\n', 'REEP2\\n', 'ZNF25\\n', 'PROS1\\n', 'PPARGC1A\\n', 'FAM114A2\\n', 'HTR1E\\n', 'NRAS\\n', 'DDB2\\n', 'PSMB4\\n', 'TMED7\\n', 'PMF1-BGLAP\\n', 'CYB5R3\\n', 'SDS\\n', 'ZNF761\\n', 'GGPS1\\n', 'OR4K1\\n', 'CD14\\n', 'ZNF701\\n', 'CST3\\n', 'KLHDC3\\n', 'LPAR2\\n', 'ISG20L2\\n', 'RPL27\\n', 'LRRTM3\\n', 'DEFA1\\n', 'ST6GALNAC4\\n', 'FAF2\\n', 'DOK4\\n', 'KRTAP2-3\\n', 'HLA-F\\n', 'ASB12\\n', 'ZNF777\\n', 'GCA\\n', 'TAF8\\n', 'OR10J3\\n', 'FABP7\\n', 'TRAPPC11\\n', 'HMOX2\\n', 'CNOT11\\n', 'ANXA2\\n', 'OAS2\\n', 'GTF2H1\\n', 'DOCK5\\n', 'CAPN3\\n', 'ARHGAP8\\n', 'PPP2R3B\\n', 'RPP14\\n', 'APOA5\\n', 'U2AF2\\n', 'EXOSC3\\n', 'PICK1\\n', 'GNG4\\n', 'OR51V1\\n', 'OR56A3\\n', 'USP17L2\\n', 'ALOX15\\n', 'LAMTOR5\\n', 'PRKAA1\\n', 'MED13\\n', 'H2AC20\\n', 'POLR3C\\n', 'NCKAP1L\\n', 'UCN\\n', 'JAG2\\n', 'TUBB1\\n', 'TMED3\\n', 'SF1\\n', '956527\\n', 'MVB12B\\n', 'KIF2C\\n', 'LAMTOR1\\n', 'H3-4\\n', 'P2RY12\\n', 'RGS13\\n', 'H2BC13\\n', 'CCT6A\\n', 'GIPR\\n', 'ZFP37\\n', 'OR4A15\\n', 'NPBWR2\\n', 'HTR1D\\n', 'LIN9\\n', 'SHC3\\n', 'ZNF75A\\n', 'STAT5A\\n', 'GEN1\\n', 'MAGOH\\n', 'INTS11\\n', 'SELP\\n', 'CAPN11\\n', 'SLC6A1\\n', 'ITGA3\\n', 'COMMD9\\n', 'ANAPC1\\n', 'COPS2\\n', 'SSR2\\n', 'NALCN\\n', 'AGPAT3\\n', 'ELN\\n', 'TUBA3C\\n', 'ZNF233\\n', 'OR4F6\\n', 'EREG\\n', 'ZNF790\\n', 'GALR1\\n', 'BAG5\\n', 'UBE3A\\n', 'OR5K2\\n', 'RPL38\\n', 'PEX13\\n', 'COL18A1\\n', 'CKAP4\\n', 'HRAS\\n', 'KIF7\\n', 'PSMD7\\n', 'RPL12\\n', 'UBE3D\\n', 'SPRR2A\\n', 'ZKSCAN4\\n', 'OR13F1\\n', 'GNG5\\n', 'OR2AP1\\n', 'CALM1\\n', 'FOLR1\\n', 'TAF2\\n', 'GALC\\n', 'PAF1\\n', 'EBNA1BP2\\n', 'DLG1\\n', 'GALNS\\n', 'PLAC8\\n', 'PROKR1\\n', 'GPSM1\\n', 'ZNF215\\n', 'PROK1\\n', 'HEYL\\n', 'ABCC9\\n', 'SIK1B\\n', 'KDM1A\\n', 'LPAR6\\n', 'PSMB7\\n', 'P2RY13\\n', 'OR2W3\\n', 'CHD3\\n', 'OR10P1\\n', 'ZNF735\\n', 'KAT2A\\n', 'NAPB\\n', 'RNF217\\n', 'COL4A2\\n', 'OTUB1\\n', 'KRTAP13-1\\n', 'FBXO9\\n', 'CYP1A1\\n', 'TAB3\\n', 'H3-3B\\n', 'OSTM1\\n', 'MAPK14\\n', 'UBA52\\n', 'OR1A1\\n', 'PTRH2\\n', 'NFE2\\n', 'CYSTM1\\n', 'PLCB2\\n', 'RBSN\\n', 'XRN1\\n', 'CCND2\\n', 'P2RY6\\n', 'ZNF18\\n', 'PHAX\\n', 'TUBB8\\n', 'CLIC2\\n', 'KRT33B\\n', 'MCM6\\n', 'TRA2B\\n', 'SELL\\n', 'CHL1\\n', 'HCRT\\n', 'JUND\\n', 'KRTAP29-1\\n', 'AKT1S1\\n', 'TUBB4A\\n', 'SNAP25\\n', 'PRKAG2\\n', 'UTP6\\n', 'GNAT2\\n', 'ALDH1A3\\n', 'SIRPA\\n', 'IL7R\\n', 'SP7\\n', 'POLR3K\\n', 'IFNA2\\n', 'H3C2\\n', 'IFIH1\\n', 'TINF2\\n', 'MYC\\n', 'PERP\\n', 'TRHR\\n', 'DAAM1\\n', 'CAMK2A\\n', 'CASP3\\n', 'NMB\\n', 'FCHO2\\n', 'FBXW4\\n', 'YES1\\n', 'ANXA1\\n', 'GNG2\\n', 'LIMS1\\n', 'PTEN\\n', 'SNAP29\\n', 'RRAGD\\n', 'ARSB\\n', 'PPP2R5D\\n', 'ATP2A2\\n', 'COMMD3-BMI1\\n', 'ZNF227\\n', 'BRF1\\n', 'CSNK1A1\\n', 'TRIM68\\n', 'KRT13\\n', 'RXFP1\\n', 'MZT1\\n', 'GPR45\\n', 'OR10AG1\\n', 'ASB10\\n', 'CRTC2\\n', 'F13A1\\n', 'NUP35\\n', 'MYH14\\n', 'REST\\n', 'DOCK9\\n', 'SEM1\\n', 'ATP9A\\n', 'CD58\\n', 'DNMT3L\\n', 'PSMD13\\n', 'MAML1\\n', '728929\\n', 'SLC25A12\\n', 'SPTBN5\\n', 'PAFAH1B1\\n', 'EPHA7\\n', 'RCC2\\n', 'CTCF\\n', 'RASGRP1\\n', 'RRN3\\n', 'GABBR2\\n', 'RPL19\\n', 'PGR\\n', 'LILRA2\\n', 'OR2F1\\n', 'PVR\\n', 'GRB2\\n', 'SF3B2\\n', 'VDAC3\\n', 'OR5C1\\n', 'OR51I1\\n', 'RPS3A\\n', 'FBXO4\\n', 'GLB1\\n', 'HNRNPK\\n', 'KAT14\\n', 'H2BC9\\n', 'NMUR2\\n', 'LMAN2\\n', 'TREM1\\n', 'ZNF471\\n', 'ARF4\\n', 'H3C15\\n', 'IL2RB\\n', 'CETN2\\n', 'TOMM70\\n', 'PARP2\\n', 'OR8H1\\n', 'CXCL10\\n', 'KLC1\\n', 'PRTN3\\n', 'SAP30\\n', 'IRF4\\n', 'INTS3\\n', 'PPP6R1\\n', 'OPN1SW\\n', 'FOXG1\\n', 'BABAM2\\n', 'PCDH7\\n', 'ATXN7L3\\n', 'CD80\\n', 'USP20\\n', 'CXCL3\\n', 'TBL1X\\n', 'ZNF331\\n', 'EAF1\\n', 'ETS1\\n', 'POLR3D\\n', 'ACTN2\\n', 'OR7C1\\n', '956536\\n', 'L1CAM\\n', 'DTX2\\n', 'OR52B6\\n', 'ARID2\\n', 'YWHAG\\n', 'OR2G2\\n', 'KLRK1\\n', 'SPTB\\n', 'HELZ2\\n', 'BCL10\\n', 'GPER1\\n', 'UTP14A\\n', 'PKP3\\n', 'CAPNS1\\n', 'FCGR3B\\n', 'POLR2H\\n', 'RPRD1B\\n', 'BIRC2\\n', 'REEP5\\n', 'TEX10\\n', 'AEBP2\\n', 'TRIM48\\n', 'PRELP\\n', 'PPP2R1A\\n', 'MED22\\n', 'E2F3\\n', 'H3C11\\n', 'ARAF\\n', 'NRG4\\n', 'RBM5\\n', 'OR2T33\\n', 'KRT6C\\n', 'ZNF613\\n', 'GPR37\\n', 'ACTG1\\n', 'SERPINC1\\n', 'NUMA1\\n', 'OR5K1\\n', 'YWHAQ\\n', 'MT-CO2\\n', 'ADCY7\\n', 'UBE2R2\\n', 'YWHAZ\\n', 'BCAN\\n', 'MMP1\\n', 'CSPG5\\n', 'ZNF273\\n', 'OXT\\n', 'OR2T29\\n', 'NUP188\\n', 'PPIL4\\n', 'PQBP1\\n', 'OR1E1\\n', 'H2AC19\\n', 'ZNF561\\n', 'HCRTR2\\n', 'OR6C2\\n', 'JADE1\\n', 'ZNF705G\\n', 'OTUD5\\n', 'HGS\\n', 'GRIN1\\n', 'CASQ2\\n', 'ELOA2\\n', 'CDK8\\n', 'RRP9\\n', 'DEGS1\\n', 'ARHGAP36\\n', 'COL12A1\\n', 'TAS2R10\\n', 'CRH\\n', 'CDC42EP5\\n', 'LAMA1\\n', 'ITGAV\\n', 'SP1\\n', 'GOLGA1\\n', 'HIF1A\\n', 'MYLIP\\n', 'NEDD4\\n', 'NCSTN\\n', 'KRBA1\\n', 'GNB4\\n', 'GRK3\\n', 'LRSAM1\\n', 'TMED2\\n', 'COPS7A\\n', 'NUP210\\n', 'TAT\\n', 'ASB17\\n', 'USP13\\n', 'WWP1\\n', 'OR1D2\\n', 'KANK1\\n', 'PGAM1\\n', 'BST1\\n', 'TRIM25\\n', 'PDGFB\\n', 'GRN\\n', 'CCR10\\n', 'IKBKG\\n', 'SRSF6\\n', 'ME1\\n', 'OPRK1\\n', 'CYP7A1\\n', 'SFTPA2\\n', 'ERLEC1\\n', 'OR4P4\\n', 'CLEC12A\\n', 'GRP\\n', 'GNA14\\n', 'NFATC1\\n', 'SCN8A\\n', 'ANO10\\n', 'ZNF704\\n', 'ADCY6\\n', 'GPR150\\n', 'MAPK13\\n', 'OR4F21\\n', 'GRM4\\n', 'NCBP1\\n', 'ESR2\\n', 'DSP\\n', 'KIF19\\n', 'FZD5\\n', 'ZNF570\\n', 'GBP1\\n', 'ZNF23\\n', 'SLC22A5\\n', 'FGF3\\n', 'VCL\\n', 'JAK2\\n', 'NOC4L\\n', 'TFDP2\\n', 'MAPK12\\n', 'CBL\\n', 'UBE2V2\\n', 'RPP21\\n', 'GLYAT\\n', 'BRAP\\n', 'IFT140\\n', 'POLR2F\\n', 'NPFFR2\\n', 'GPR83\\n', 'KRTAP10-2\\n', 'HSP90AA1\\n', 'POLR2J\\n', 'PTPRA\\n', 'GATA5\\n', 'OR2A42\\n', 'GOT2\\n', 'OR4C5\\n', 'RPS20\\n', 'LTB4R2\\n', 'OR7A5\\n', 'C1D\\n', 'ELP1\\n', 'RPL9\\n', 'RAD9A\\n', 'AAK1\\n', 'RNASE3\\n', 'RHNO1\\n', 'SPCS3\\n', 'FGFR4\\n', 'POLE4\\n', 'SRC\\n', 'DNAJC13\\n', 'MPRIP\\n', 'EIF3E\\n', 'RGS20\\n', 'WASF1\\n', 'CD244\\n', 'IGF2\\n', 'RAD51AP1\\n', 'SMAD1\\n', 'TMEM63A\\n', 'ATF2\\n', 'ZNF710\\n', 'CAPZB\\n', 'SERPINB1\\n', 'PSMA2\\n', 'LEFTY2\\n', 'MPO\\n', 'RPL41\\n', 'CCNK\\n', 'MED30\\n', 'SFRP1\\n', 'CYSLTR2\\n', 'SRSF5\\n', 'TAAR9\\n', 'KIF18A\\n', 'ZNRF3\\n', 'HCAR1\\n', 'RPS27A\\n', 'RPS23\\n', 'DTX1\\n', 'TMEM67\\n', 'TUBA3D\\n', 'RPS4Y1\\n', 'SOAT2\\n', 'OBSCN\\n', 'PSMD2\\n', 'LRRC41\\n', 'OR10A6\\n', 'ZNF195\\n', 'ZNF205\\n', 'THBD\\n', 'GPX2\\n', 'ADRA1A\\n', 'GCGR\\n', 'ZNF804B\\n', 'DGKD\\n', 'ZNF564\\n', 'THOC7\\n', 'GNB5\\n', 'MID1\\n', 'RPL35A\\n', 'OR10A5\\n', 'ATP6V1H\\n', 'COL6A5\\n', 'GAB1\\n', 'QSOX1\\n', 'PTK6\\n', 'CAPN14\\n', 'AOC2\\n', 'ZNF792\\n', 'SLU7\\n', 'OR2AG2\\n', 'GTF2H5\\n', 'SPTSSA\\n', 'TAF1C\\n', 'CCNH\\n', 'REEP6\\n', 'PRKACA\\n', 'RPL11\\n', 'POLR1H\\n', 'PABPC1\\n', 'PRR5\\n', 'COG7\\n', 'EPHB2\\n', 'PPP2R1B\\n', 'CTH\\n', 'NRTN\\n', 'GTF2H4\\n', 'ZNF140\\n', 'POLR2C\\n', 'IL18BP\\n', 'EDN3\\n', 'ZNF610\\n', 'COL1A2\\n', 'ZW10\\n', 'EPHA1\\n', 'IL33\\n', 'CCL28\\n', 'DENND2A\\n', 'CHST15\\n', 'TAF1A\\n', 'TNFAIP3\\n', 'TAS2R14\\n', 'CDC37\\n', 'NDUFA2\\n', 'ZFP1\\n', 'F9\\n', 'BAP1\\n', 'HDAC8\\n', 'EGFR\\n', 'OR1K1\\n', 'NCOA3\\n', 'RPS28\\n', 'PRPF19\\n', 'ENGASE\\n', 'ZNF285\\n', 'NRG3\\n', 'MUS81\\n', 'NDEL1\\n', 'MIS12\\n', 'P2RY1\\n', 'TSR1\\n', 'AAAS\\n', 'NMBR\\n', 'ACADSB\\n', 'PSMA6\\n', 'CNKSR1\\n', 'OR9G4\\n', 'GAA\\n', 'XK\\n', 'NR1H4\\n', 'JAK1\\n', 'HOXB2\\n', 'NXF2B\\n', 'GABPB1\\n', 'ULBP1\\n', 'COP1\\n', 'NCOR1\\n', 'PRKACG\\n', 'RHOB\\n', 'ZNF354A\\n', 'PPM1B\\n', 'ARNT2\\n', 'TAF4B\\n', 'TBC1D1\\n', 'SHISA5\\n', 'SPC25\\n', 'STOM\\n', 'GCC1\\n', 'IFT57\\n', 'UBE2E3\\n', 'HAUS3\\n', 'KRTAP21-2\\n', 'ARHGEF10\\n', 'FDPS\\n', 'DCTN2\\n', 'BUB1B\\n', 'GSPT1\\n', 'CNR1\\n', 'CRISPLD2\\n', 'IFNA4\\n', 'OR4L1\\n', 'OR11L1\\n', 'SPTA1\\n', 'PIK3R3\\n', 'UBA5\\n', 'KRTAP10-10\\n', 'AMELX\\n', 'NBN\\n', 'KCNJ11\\n', 'UBA6\\n', 'TUBA1A\\n', 'ADRA1B\\n', 'BMS1\\n', 'LRRTM4\\n', 'PRLR\\n', 'OR51M1\\n', 'OR6C6\\n', 'RGR\\n', 'COMMD4\\n', 'C4B\\n', 'RPL36A\\n', 'RPL7\\n', 'NEDD1\\n', 'OR4D10\\n', 'CSTB\\n', 'HAUS5\\n', 'DNMT1\\n', 'ALDOC\\n', 'ULK1\\n', 'PHF5A\\n', 'F2RL2\\n', 'BCKDHA\\n', 'CLEC4D\\n', 'SLPI\\n', 'CENPP\\n', 'OR7C2\\n', 'ZNF432\\n', 'RPS21\\n', 'NUP153\\n', 'JADE2\\n', 'PNLIP\\n', 'ZNF662\\n', 'NDUFB5\\n', 'FEM1B\\n', 'CAPZA3\\n', 'OR6M1\\n', 'FZR1\\n', 'SAA1\\n', 'PSMD1\\n', 'NPBWR1\\n', 'GNAI2\\n', 'ELP2\\n', 'ZNF496\\n', 'RAB41\\n', 'LRRC7\\n', 'ADCYAP1\\n', 'SYNE1\\n', 'IST1\\n', 'COL6A3\\n', 'DYNLT1\\n', 'TNF\\n', 'RBP3\\n', 'ALDH9A1\\n', 'CENPC\\n', 'HRH3\\n', 'PRKAR1A\\n', 'OR8U1\\n', 'ASH2L\\n', 'TOP2B\\n', 'CCL19\\n', 'OR8U9\\n', 'RPS25\\n', 'GUSB\\n', 'PSEN1\\n', 'CD109\\n', 'GGH\\n', 'FBXO41\\n', 'PRKAB2\\n', 'RFC4\\n', 'VAMP7\\n', 'COPZ2\\n', 'HNRNPM\\n', 'GNA12\\n', 'FAM13B\\n', 'TIAM2\\n', 'IRAK1\\n', 'TMSB4X\\n', 'FGD2\\n', 'MAPK11\\n', 'CD59\\n', 'NET1\\n', 'TUBAL3\\n', 'RNF25\\n', 'RPL7A\\n', 'SOCS3\\n', 'MBD6\\n', 'PYGL\\n', 'RBBP7\\n', 'TBC1D20\\n', 'RBBP8\\n', 'CD300LG\\n', 'ABI1\\n', 'DYNLL2\\n', 'DET1\\n', 'FUCA1\\n', 'IDE\\n', 'MCHR2\\n', 'TUBG1\\n', 'OR2T35\\n', 'ARHGEF1\\n', 'SULT1A3\\n', 'CENPU\\n', 'TMED10\\n', 'OR7G1\\n', 'KRT9\\n', 'KIF21B\\n', 'GJB3\\n', 'TAS1R2\\n', 'ZNF624\\n', 'CX3CR1\\n', 'GRM6\\n', 'MYH11\\n', 'PFDN4\\n', 'DEFB133\\n', 'ZWILCH\\n', 'ZNF33B\\n', 'USP17L30\\n', 'ADAMTS7\\n', 'ITK\\n', 'AQR\\n', 'ARHGAP25\\n', 'GALR3\\n', 'H3C6\\n', 'ARFGAP1\\n', 'KRTAP10-1\\n', 'TNFRSF11A\\n', 'TUBB6\\n', 'PDGFA\\n', 'IL12A\\n', 'GHRHR\\n', 'KIF3C\\n', 'MCM7\\n', 'CIITA\\n', 'RANBP2\\n', 'GNAO1\\n', 'LHX2\\n', 'ZNF875\\n', 'HERC3\\n', 'RYR2\\n', 'RPN2\\n', 'EXOSC5\\n', 'TLR6\\n', 'ITGB3BP\\n', 'SLC10A1\\n', 'KMT2A\\n', 'CRNKL1\\n', 'OR5M1\\n', 'PDE7A\\n', 'PHF8\\n', 'C5AR1\\n', 'EFTUD2\\n', 'ALYREF\\n', 'RGS10\\n', 'TCIRG1\\n', 'PRPF40A\\n', 'RNF111\\n', 'TPR\\n', 'CCL3\\n', 'OR5K4\\n', 'PPP3CA\\n', 'ZNF343\\n', 'DAB2\\n', 'TAF12\\n', 'AP2S1\\n', 'WNT3A\\n', 'PGM1\\n', 'ALDH2\\n', 'OR8B3\\n', 'MAGOHB\\n', 'DMAP1\\n', 'WDR3\\n', 'MED11\\n', 'KRBOX4\\n', 'ZNF77\\n', 'MEN1\\n', 'PITPNA\\n', 'PDE3A\\n', 'TWIST1\\n', 'ARHGEF37\\n', 'POU2F1\\n', 'ZNF676\\n', '3707572\\n', 'NOD1\\n', 'CTR9\\n', 'PPP2R5A\\n', 'UBE2S\\n', 'ZDHHC21\\n', 'RORA\\n', 'CCR2\\n', 'ACTR8\\n', 'ZNF721\\n', 'NAPG\\n', 'KRTAP4-2\\n', 'NOD2\\n', 'NUP133\\n', 'TAF11\\n', 'PDGFRB\\n', 'PELI1\\n', 'RNF115\\n', 'ALS2\\n', 'H2BC14\\n', 'SMURF1\\n', 'TAS2R1\\n', 'IRS1\\n', 'OR8I2\\n', 'PPFIA1\\n', 'MAFK\\n', 'CD226\\n', 'HAUS2\\n', 'ARHGAP44\\n', 'RTP3\\n', 'COX7C\\n', 'LSM7\\n', 'CLU\\n', 'IFI16\\n', 'TRAF7\\n', 'SPP1\\n', 'OAS1\\n', 'RPS26\\n', '884327\\n', 'OR7E24\\n', 'IL2RG\\n', 'PFN1\\n', 'USP21\\n', 'USP15\\n', 'POLE3\\n', 'CPT1A\\n', 'HOMER1\\n', 'CLTC\\n', 'CD74\\n', 'SH2D1B\\n', 'LAMA4\\n', 'CXCL13\\n', 'DVL2\\n', 'OR14A16\\n', 'KRTAP10-7\\n', 'STAM2\\n', 'OPRL1\\n', 'SULT1A1\\n', 'THUMPD1\\n', 'ZNF557\\n', 'OXTR\\n', 'LCN2\\n', 'SERPIND1\\n', 'ERP44\\n', 'CTSG\\n', 'OR2D2\\n', 'CDC40\\n', 'ZNF707\\n', 'LIMK1\\n', 'CENPS\\n', 'ASB11\\n', 'OR6N1\\n', 'ZNF571\\n', 'OR4F4\\n', 'HRH1\\n', 'POLR3F\\n', 'AHR\\n', 'TAS2R8\\n', 'OR1L1\\n', 'PKP4\\n', 'TAAR2\\n', 'MED31\\n', 'DEK\\n', 'OR52K1\\n', 'BIRC3\\n', 'POLR1A\\n', 'CCT3\\n', 'ZNF3\\n', 'CCK\\n', 'MMP19\\n', 'ZNF510\\n', 'HDAC11\\n', 'CD40\\n', 'UNKL\\n', 'UBE2A\\n', 'GPS1\\n', 'BTC\\n', 'ZKSCAN1\\n', 'PSG11\\n', 'MT-CO3\\n', 'BLOC1S1\\n', 'CCT8\\n', 'TTF1\\n', 'PPY\\n', 'ITGA7\\n', 'KIF2A\\n', 'DROSHA\\n', 'PABPN1\\n', 'MAPKAPK2\\n', 'ZSWIM8\\n', 'FBXW11\\n', 'AHCYL1\\n', 'FGF17\\n', 'POLE\\n', 'SOD1\\n', 'TRIP10\\n', 'IFI30\\n', 'CFD\\n', 'RHOBTB2\\n', 'SIAH1\\n', 'CCL21\\n', 'GLI1\\n', 'PTK2\\n', 'ZCRB1\\n', 'MAFB\\n', 'RPLP2\\n', 'RPS15A\\n', 'TSPAN14\\n', 'CDKN2B\\n', 'ZNF778\\n', 'USP44\\n', 'PSME4\\n', 'PIK3CB\\n', 'LCE3C\\n', 'PLAUR\\n', 'TADA1\\n', 'IFT122\\n', 'SEC61A2\\n', 'S100A9\\n', 'DSC1\\n', 'GSK3B\\n', 'AKT3\\n', 'PJA1\\n', 'CD3D\\n', 'ZNF217\\n', 'ARPC5\\n', 'ZNF175\\n', 'GGA3\\n', 'PRSS23\\n', 'PNP\\n', 'TAS2R13\\n', 'INCENP\\n', 'TRIM10\\n', 'HNRNPF\\n', 'ZNF577\\n', 'POLR1B\\n', 'TMOD4\\n', 'FABP1\\n', 'OAZ2\\n', 'ZNF470\\n', 'TUBG2\\n', 'PRKCD\\n', 'NR2F6\\n', 'CDC6\\n', 'AGRN\\n', 'ITGA5\\n', 'OR52M1\\n', 'SNX9\\n', 'DNA2\\n', 'ZNF665\\n', 'CHMP2B\\n', 'SRSF7\\n', 'ELANE\\n', 'PNO1\\n', 'CCDC22\\n', 'PLPP2\\n', 'ARHGEF39\\n', 'GABARAPL1\\n', 'OR52I2\\n', 'ZNF554\\n', 'GATA2\\n', 'NPY5R\\n', 'CD300E\\n', 'APOBEC3G\\n', 'VAV2\\n', 'CDA\\n', 'MAPKAPK3\\n', 'PTGES2\\n', 'H3C13\\n', 'MCRS1\\n', 'SVIP\\n', 'TNIK\\n', 'RDH8\\n', 'TPD52\\n', 'H2BC11\\n', 'PSMD9\\n', 'FBXL13\\n', 'OR51B5\\n', 'KRT20\\n', 'APOOL\\n', 'BMI1\\n', 'BCL2\\n', 'ABAT\\n', 'OR4A47\\n', 'SNRNP27\\n', 'HMGB1\\n', 'TAF13\\n', 'DYNLT2\\n', 'FBXO6\\n', 'OR2B11\\n', 'OR4K14\\n', 'TUBGCP5\\n', 'ATP11B\\n', 'HOXC4\\n', 'OR2T34\\n', 'BCL2L1\\n', 'SMG1\\n', 'LGMN\\n', 'PRKCQ\\n', 'MON1A\\n', 'AXIN1\\n', 'IFNA10\\n', 'MLN\\n', 'CSF2RA\\n', 'KRT82\\n', 'SCARB2\\n', 'EGR1\\n', 'OR4K15\\n', 'NEO1\\n', 'MFGE8\\n', 'AKAP9\\n', 'CD47\\n', 'RPL3\\n', 'GAD1\\n', 'DNAJB1\\n', 'DKC1\\n', 'POLB\\n', 'SOCS1\\n', 'CSNK2B\\n', 'SQLE\\n', 'TBC1D16\\n', 'KIF3B\\n', 'SYCP1\\n', 'RHOT1\\n', 'IQGAP1\\n', 'NEK2\\n', 'HSPA6\\n', 'ZNF746\\n', 'OR51B2\\n', 'KRTAP4-9\\n', 'HERC5\\n', 'DCAF7\\n', 'ADA2\\n', 'USP11\\n', 'FCER1A\\n', 'S100A12\\n', 'OR6C70\\n', 'HOXA2\\n', 'RPL17\\n', 'RTP4\\n', 'NELFA\\n', 'TLR10\\n', 'RAD51\\n', 'IL6\\n', 'LHCGR\\n', 'CNKSR2\\n', 'NFIL3\\n', 'USP17L21\\n', 'GRM5\\n', 'SRP68\\n', 'ZNF213\\n', 'TAC1\\n', 'CALU\\n', 'SNCA\\n', 'CSNK2A1\\n', 'BIRC5\\n', 'USP17L25\\n', 'RNASEL\\n', 'ENAM\\n', 'TCN1\\n', 'SPINK9\\n', 'ALDH3B1\\n', '956529\\n', 'CEP250\\n', 'ADCY1\\n', 'RAB21\\n', 'GRPR\\n', 'EDEM2\\n', '100861532\\n', 'HLA-B\\n', 'COG8\\n', 'DOCK8\\n', 'EGR2\\n', 'SLC7A9\\n', 'COL7A1\\n', 'USP3\\n', 'MCF2\\n', 'CPNE3\\n', 'NUP160\\n', 'TOPORS\\n', 'PSENEN\\n', 'TSHR\\n', 'CAPN6\\n', 'GPR132\\n', 'ZNF649\\n', 'KAT2B\\n', 'CYCS\\n', 'SSNA1\\n', 'DEPDC1B\\n', 'CD68\\n', 'EIF4A3\\n', 'ZNF212\\n', 'MAPKAPK5\\n', 'POLH\\n', 'APOB\\n', 'DYNC1I1\\n', 'VDAC1\\n', 'OPTC\\n', 'GSTK1\\n', 'PTPN6\\n', 'WDR33\\n', 'TFAP2B\\n', 'PTGS2\\n', 'TRIM9\\n', 'CDCA8\\n', 'COL9A2\\n', 'POLR2I\\n', 'TRIM3\\n', 'RINL\\n', 'GNAI3\\n', 'ACTL6B\\n', 'OR10H5\\n', 'CALML5\\n', 'KRT84\\n', 'P2RY11\\n', 'KLHL11\\n', 'SEC61B\\n', 'TERF2\\n', 'OR51G1\\n', 'SST\\n', 'HNRNPUL1\\n', 'GRM8\\n', 'CUL2\\n', 'STAT1\\n', 'PLCB4\\n', 'KIF26A\\n', 'A1BG\\n', 'KIF13B\\n', 'POLR3G\\n', 'OR10H4\\n', 'OR2AK2\\n', 'DOCK7\\n', 'PF4\\n', 'OXER1\\n', 'TNFSF12\\n', 'GRIA1\\n', 'ANAPC4\\n', 'ZNF234\\n', 'ZNRF2\\n', 'CHEK2\\n', 'PDAP1\\n', 'ATP6V0B\\n', 'STMN1\\n', 'ZNF354B\\n', 'PROKR2\\n', 'ADGRE3\\n', 'ZNF264\\n', 'ZNF426\\n', 'FGF10\\n', 'N6AMT1\\n', 'COL5A2\\n', 'AGL\\n', 'H3C1\\n', 'ITCH\\n', 'RASGRF2\\n', 'KRT75\\n', 'MCM3\\n', 'EIF3F\\n', 'ERCC2\\n', 'CNTN1\\n', 'MORF4L1\\n', 'RPS27\\n', 'ST14\\n', 'HLA-A\\n', 'SENP3\\n', 'MCM4\\n', 'KIF26B\\n', 'IL2RA\\n', 'PIK3C2A\\n', 'SLX1B\\n', 'F5\\n', 'KCNAB1\\n', 'HERC2\\n', 'CDK6\\n', 'RPL22L1\\n', 'CSH1\\n', 'ZNF684\\n', 'ZNF681\\n', 'ZNF528\\n', 'OR4E1\\n', 'APRT\\n', 'CCNE2\\n', 'COL3A1\\n', 'IMP3\\n', 'OR2V2\\n', 'CHGB\\n', 'FCF1\\n', 'USP17L22\\n', 'KRTAP10-9\\n', 'GPX3\\n', 'RPLP1\\n', 'RMI2\\n', 'GTF2E1\\n', 'RIN1\\n', 'COMMD2\\n', 'FBXO7\\n', 'RPL23A\\n', 'E2F1\\n', 'POT1\\n', 'RPLP0\\n', 'TLR2\\n', 'CTNNBL1\\n', 'POLR3B\\n', 'RRAGB\\n', 'SLC9C1\\n', 'CNOT9\\n', 'HSPA1B\\n', 'CSTF2T\\n', 'IL3RA\\n', 'ZKSCAN5\\n', 'DNAJC3\\n', 'OR8D2\\n', 'TNRC6A\\n', 'COL6A1\\n', 'APCS\\n', 'TACR3\\n', 'RNASE2\\n', 'OR14C36\\n', 'RCN1\\n', 'ASB15\\n', 'ATP6V0E2\\n', 'COL15A1\\n', 'LUM\\n', 'SPSB4\\n', 'CCNB2\\n', 'OR13C4\\n', 'ZFP14\\n', 'PIP4K2C\\n', 'AKAP13\\n', 'ZNF20\\n', 'TAF6L\\n', 'TFAP2A\\n', 'CEP131\\n', 'NUAK1\\n', 'ACP3\\n', 'H2AC1\\n', 'IFNA6\\n', 'NRG2\\n', 'UBE2F\\n', 'HBB\\n', 'CRTC3\\n', 'RAB3IP\\n', 'CLEC5A\\n', 'MELTF\\n', 'CCNT1\\n', 'SLC22A2\\n', 'KDM4C\\n', 'BHLHE40\\n', 'NCOA1\\n', 'OR52K2\\n', 'AP1S2\\n', 'CCNA2\\n', 'USP17L19\\n', 'NANOG\\n', 'HABP4\\n', 'CXCL12\\n', 'RAD9B\\n', 'EFEMP2\\n', 'FBXW9\\n', 'NRG1\\n', 'SF3A1\\n', 'GGA1\\n', 'IGFBP7\\n', 'RGS17\\n', 'HMG20B\\n', 'LAG3\\n', 'TRIM26\\n', 'ZNF460\\n', 'ANAPC15\\n', 'BRI3\\n', 'BCAP31\\n', 'OR11A1\\n', 'OR8H2\\n', 'FABP5\\n', 'PTGES3\\n', 'YEATS2\\n', 'OR5T2\\n', 'STK11\\n', 'PICALM\\n', 'RIN3\\n', 'SNAPC5\\n', 'METTL7A\\n', 'OR51G2\\n', 'ZNF304\\n', 'ECM1\\n', 'TCF12\\n', 'OR5B17\\n', 'HCAR3\\n', 'RNASE1\\n', 'BMP1\\n', 'ZNF197\\n', 'KRT40\\n', 'LEF1\\n', 'PPARGC1B\\n', 'LAMTOR3\\n', 'TAC3\\n', 'HSD3B2\\n', 'HDAC1\\n', 'NPY2R\\n', 'B9D2\\n', 'OR4X2\\n', 'CKAP5\\n', 'HECTD2\\n', 'CDK5RAP2\\n', 'RPL18A\\n', 'INO80C\\n', 'AGGF1\\n', 'ARHGAP32\\n', 'TNFSF12-TNFSF13\\n', 'TRAF1\\n', 'PLAU\\n', 'GAN\\n', 'CYP4A11\\n', 'IGF2BP1\\n', 'LY6G6F\\n', 'HUS1\\n', 'OR2S2\\n', 'ACKR4\\n', 'TACR1\\n', 'RAD51D\\n', 'MAGED2\\n', 'ADH1B\\n', 'CD55\\n', 'TAS2R40\\n', 'PMVK\\n', 'MBD3\\n', 'CUL4A\\n', 'TXNDC5\\n', 'PKM\\n', 'LGALS1\\n', 'DVL3\\n', 'CTSF\\n', 'IKZF1\\n', 'CD99L2\\n', 'RPA2\\n', 'FBL\\n', '155459\\n', 'ERCC1\\n', 'RASAL3\\n', 'MED17\\n', 'TXNRD1\\n', 'NUB1\\n', 'PSMC3\\n', 'TLE3\\n', 'ARHGEF15\\n', 'NUP93\\n', 'GOLM1\\n', 'CDC23\\n', 'PVALB\\n', 'OR2L3\\n', 'OR6F1\\n', 'ZNF658\\n', 'PSMD11\\n', 'ZNF131\\n', 'DECR2\\n', 'CPSF2\\n', 'MRE11\\n', 'POP7\\n', 'ZNF37A\\n', 'OR13J1\\n', 'NHLRC3\\n', 'PRMT3\\n', 'PLK4\\n', 'EDNRA\\n', 'ZNF774\\n', 'SMAD3\\n', 'H2BC6\\n', 'BABAM1\\n', 'B4GALT1\\n', 'DCTN1\\n', 'ZIK1\\n', 'ZNF611\\n', 'HGF\\n', 'PSMD4\\n', 'KALRN\\n', 'TRIM63\\n', 'OR2T5\\n', 'COMT\\n', 'RPS19BP1\\n', 'ORC3\\n', 'OR4C15\\n', 'OR52E2\\n', 'CDKN2A\\n', 'OR2T3\\n', 'GOT1\\n', 'IRF7\\n', 'ELOB\\n', 'OR1A2\\n', 'GATAD2A\\n', 'FUS\\n', 'PDGFRA\\n', 'AP4B1\\n', 'IL17F\\n', 'RAB6A\\n', 'DZIP3\\n', 'CREG1\\n', 'WNT11\\n', 'BTBD1\\n', 'NELFCD\\n', '155971\\n', 'RAD51C\\n', 'SETD1A\\n', '79296\\n', 'RBMX\\n', 'RACGAP1\\n', 'EIF3G\\n', 'MGST1\\n', 'LPAR4\\n', 'SOX2\\n', 'NPB\\n', 'GFRA1\\n', 'CEACAM8\\n', 'RNF7\\n', 'RGS7\\n', 'FOSB\\n', 'RBBP6\\n', 'SEC22B\\n', 'GHRH\\n', 'ZNF584\\n', 'FBXL15\\n', 'OPN4\\n', 'IQGAP2\\n', 'EEF1AKMT2\\n', 'AP1M2\\n', 'OR5M9\\n', 'TBL3\\n', 'HECTD3\\n', 'SFTPD\\n', 'MCPH1\\n', 'ZNF333\\n', 'ZNF705A\\n', 'ZNF268\\n', 'TIMP2\\n', 'ARHGAP15\\n', 'CFL1\\n', 'MNDA\\n', 'ZNF257\\n', 'CCKAR\\n', 'HADHA\\n', '162699\\n', 'MED25\\n', 'OR52D1\\n', 'ZNF771\\n', 'APEH\\n', 'RAB27B\\n', 'LNX1\\n', 'TRAIP\\n', 'GNG3\\n', 'SMAD4\\n', 'GATA3\\n', 'DYNC1LI1\\n', 'NUP37\\n', 'ANAPC7\\n', 'APOA1\\n', 'ZNF230\\n', 'HSPB1\\n', 'THOC1\\n', 'OR52N4\\n', 'OTUD3\\n', 'DNMT3B\\n', 'FBXL4\\n', 'ABHD5\\n', 'LAMB3\\n', 'HDAC4\\n', 'BET1L\\n', 'FLG2\\n', 'TADA3\\n', 'SUPT16H\\n', 'PSMB1\\n', 'CSTF1\\n', 'ZNF324\\n', 'DHX15\\n', 'TAF5\\n', 'ZNF75D\\n', 'RELA\\n', 'SLCO4C1\\n', 'GALR2\\n', 'COL4A1\\n', 'CSNK1E\\n', 'LCE2A\\n', 'ZBTB16\\n', 'KPNA1\\n', 'FBXW5\\n', 'OR4D6\\n', 'BRIP1\\n', 'COPS5\\n', 'PSMB2\\n', 'MC4R\\n', 'ZNF566\\n', 'PHC1\\n', 'KIFC1\\n', 'CDCA5\\n', 'H2BC5\\n', 'ITGA6\\n', 'CEACAM1\\n', 'ARIH1\\n', 'KRTAP4-4\\n', 'CD33\\n', 'SFN\\n', 'UBE2D3\\n', 'KPNB1\\n', 'UBE3B\\n', 'OR51E1\\n', 'PRKCB\\n', 'SHANK2\\n', 'COL4A5\\n', 'OR8U3\\n', 'GNG11\\n', 'OR51A4\\n', 'FBXL5\\n', 'GRIN3A\\n', 'ZNF668\\n', 'TOP3A\\n', 'ATP6V1B1\\n', 'OR4F16\\n', 'KNTC1\\n', 'PTK2B\\n', 'IRF9\\n', 'DDX39B\\n', 'SFRP2\\n', 'TRIM29\\n', 'PDE6A\\n', 'MIS18BP1\\n', 'IL5RA\\n', 'OR1L4\\n', 'RXFP4\\n', 'EP300\\n', 'PRCC\\n', 'TAF6\\n', 'POLD3\\n', 'H2BC10\\n', 'RNF168\\n', 'USP17L10\\n', 'FGF5\\n', 'FCGR2A\\n', 'IGLL1\\n', 'CCL16\\n', 'PTPRC\\n', 'IGFBP4\\n', 'MTM1\\n', 'REPS2\\n', 'RANGAP1\\n', 'DGCR8\\n', 'PRCP\\n', 'RPS6KA1\\n', 'JUP\\n', 'PLA2G6\\n', 'TICAM2\\n', 'OR6K3\\n', 'ZNF705D\\n', 'DDA1\\n', 'TAF3\\n', 'RNF152\\n', 'GPSM2\\n', 'PIAS1\\n', 'DCTN6\\n', 'MED1\\n', 'OSCAR\\n', 'CNTRL\\n', 'CEP57\\n', 'SURF4\\n', 'PSMB6\\n', 'CNIH2\\n', 'MIA2\\n', 'SH3GL2\\n', 'PLBD1\\n', 'PCF11\\n', 'RHOU\\n', 'SERPINA10\\n', 'PPP2CB\\n', 'PSTPIP1\\n', 'SDSL\\n', 'NCAPD3\\n', 'MAP3K14\\n', 'ZNF417\\n', 'SKA1\\n', 'WNT2B\\n', 'KRT33A\\n', 'LHFPL2\\n', 'NCOA2\\n', 'OR2H2\\n', 'ZNF184\\n', 'OR10AD1\\n', 'TMED7-TICAM2\\n', 'PIAS4\\n', 'AGTR1\\n', 'PSMB11\\n', 'AGPAT2\\n', 'CEP78\\n', 'BBOX1\\n', 'ZNF776\\n', 'OSM\\n', 'KRT23\\n', 'ATP6AP2\\n', 'ZC3H8\\n', 'PPP4R2\\n', 'RFC3\\n', 'KIF6\\n', 'ELP3\\n', 'KCTD6\\n', 'OR10A7\\n', 'SERPINE1\\n', 'CHD9\\n', 'NUCB1\\n', 'OR4D1\\n', 'CD53\\n', 'OR10C1\\n', 'LDHC\\n', 'NGF\\n', 'VIPR2\\n', 'LMO7\\n', 'PDGFC\\n', 'CAPZA1\\n', 'TAS2R5\\n', 'ELL3\\n', 'SHMT1\\n', 'ZNF483\\n', 'ZNF334\\n', 'TAL1\\n', 'DERA\\n', 'OR51Q1\\n', 'KRT3\\n', 'ASB14\\n', 'QRFPR\\n', 'SRGAP2\\n', 'NELFB\\n', 'COPB1\\n', 'SPSB1\\n', 'INO80\\n', 'OR5M10\\n', 'YEATS4\\n', 'RALGAPB\\n', 'CEP192\\n', 'LCE2D\\n', 'POLA1\\n', 'PADI2\\n', 'VCP\\n', 'SCRIB\\n', 'PER1\\n', 'BDKRB1\\n', 'GRIN2A\\n', 'SNRNP200\\n', 'WDR36\\n', 'HOXA1\\n', 'ADRA1D\\n', 'RGS12\\n', 'H4C1\\n', 'CSPG4\\n', 'SPDL1\\n', 'UTS2R\\n', 'OASL\\n', 'PLCG1\\n', 'HSPA5\\n', 'ITPR1\\n', 'KRT6A\\n', 'FGD4\\n', 'TENT4A\\n', 'CASK\\n', 'ZNF200\\n', 'RTP5\\n', 'SIRT3\\n', 'ZNF839\\n', 'OR52A1\\n', 'ARHGEF9\\n', 'OR2T2\\n', 'ZNF324B\\n', 'KLRC2\\n', 'SLCO1B3\\n', 'OR4S2\\n', 'F13B\\n', 'LMAN2L\\n', 'RHOF\\n', 'OR6Q1\\n', 'MMP3\\n', 'CLEC10A\\n', 'RPS17\\n', 'SNRPD1\\n', 'WAS\\n', 'OR5AR1\\n', 'ESRP1\\n', 'DYNC1I2\\n', 'WASF2\\n', 'PIANP\\n', 'ZNF562\\n', 'OR2M5\\n', 'FMNL3\\n', '35556781\\n', 'IGFBP5\\n', 'IGFALS\\n', 'TAS2R16\\n', 'MTHFD2\\n', 'RETN\\n', 'CDC26\\n', 'BRCA1\\n', 'CTSH\\n', 'DSG2\\n', 'NDUFS5\\n', 'MAGED1\\n', 'ITGB2\\n', 'RAB27A\\n', 'CDK13\\n', 'OR10H2\\n', 'IL3\\n', 'LAMTOR4\\n', 'CSAD\\n', 'RPL35\\n', 'CD40LG\\n', 'TRAF3\\n', 'P4HA1\\n', 'ZNF430\\n', 'CDC42\\n', 'MED20\\n', 'FASN\\n', 'IMPDH1\\n', 'ZNF614\\n', 'H2AC6\\n', 'ZNF597\\n', 'HEATR1\\n', 'POMC\\n', 'OR1C1\\n', 'STARD8\\n', 'CNOT4\\n', 'RAMP3\\n', 'GOLGA7\\n', 'MTA3\\n', 'BNIP1\\n', 'ERCC8\\n', 'GPR65\\n', 'PPIL1\\n', 'RFC5\\n', 'OPRD1\\n', 'PYGB\\n', 'CDK11B\\n', 'GAST\\n', 'FOLR3\\n', 'PCLAF\\n', 'GMNN\\n', 'S1PR2\\n', 'AVP\\n', 'HBA1\\n', 'F8\\n', 'TAS1R1\\n', 'OR56B4\\n', 'CDC20\\n', 'EPHA3\\n', 'ORC5\\n', 'NDC1\\n', 'OFD1\\n', 'MYO5A\\n', 'ZFP69\\n', 'DCAF6\\n', 'OR5W2\\n', 'KRT17\\n', 'STRN\\n', 'NPAS2\\n', 'JAM3\\n', 'EPM2A\\n', 'SSTR1\\n', 'ATP6V1G1\\n', 'CLSPN\\n', 'SGO2\\n', 'RPL26L1\\n', 'GAPDHS\\n', 'H2BC15\\n', 'OR10G7\\n', 'HIPK2\\n', 'KCNS3\\n', 'CEP97\\n', 'USP17L18\\n', 'FERMT3\\n', 'TP53RK\\n', 'NOTCH1\\n', 'SKP2\\n', 'IMP4\\n', 'WDR19\\n', 'MEX3C\\n', 'TCP1\\n', 'PPP1R12B\\n', 'LIN7C\\n', 'IFI27\\n', 'KRT8\\n', 'RBX1\\n', 'C9\\n', 'BCAT2\\n', 'COX6A1\\n', 'FCER1G\\n', 'HAO1\\n', 'ZNF620\\n', 'STAT4\\n', 'UBE2V1\\n', 'E2F2\\n', 'NMU\\n', 'SHC1\\n', 'ZNF248\\n', 'TAS2R4\\n', 'RLN2\\n', 'KRTAP3-2\\n', 'TEX12\\n', 'POLR1D\\n', 'PTPN11\\n', 'SF3B6\\n', 'SHH\\n', 'NPDC1\\n', 'TAF1\\n', 'USP17L1\\n', 'RPL14\\n', 'KLK5\\n', 'MAT2B\\n', 'PFKL\\n', 'SIGLEC14\\n', 'MBD2\\n', 'UNG\\n', 'TGFA\\n', 'ZNF599\\n', 'ZNF311\\n', 'EIF3A\\n', 'RNF14\\n', 'COL9A3\\n', 'BDKRB2\\n', 'HLA-E\\n', 'TRIM5\\n', 'KCNB1\\n', 'NCAM1\\n', 'ZNF302\\n', 'ZNF446\\n', 'CYP17A1\\n', 'GPAM\\n', 'ACSL1\\n', 'MAD1L1\\n', 'UBE2G2\\n', 'MAP2K2\\n', 'EXO1\\n', 'S1PR3\\n', 'BRPF1\\n', 'RUNX2\\n', 'COX6B1\\n', 'FBXO21\\n', 'YBX1\\n', 'CARNS1\\n', 'ZNF41\\n', 'OR1B1\\n', 'CCL4\\n', 'OR5H6\\n', 'SLC22A6\\n', 'OPTN\\n', 'CENPM\\n', 'WWOX\\n', 'RHOJ\\n', 'FOXA1\\n', 'ATP1B3\\n', 'ARFGAP2\\n', 'OLFM4\\n', 'ULK3\\n', 'RAPGEF2\\n', 'FKBP8\\n', 'COMMD3\\n', 'SMARCD3\\n', 'FFAR3\\n', 'MOSPD2\\n', 'OR2Z1\\n', 'CTSK\\n', 'ADCY2\\n', 'OR2Y1\\n', 'UBE2D4\\n', 'ATP2B3\\n', 'FGD1\\n', 'GNAT3\\n', 'OR14I1\\n', 'OR3A3\\n', 'OR56A4\\n', 'TOPBP1\\n', 'RRH\\n', 'EVA1A\\n', 'OR2B3\\n', 'XCR1\\n', 'HES1\\n', 'DBI\\n', 'OR3A2\\n', 'ANKRD9\\n', 'USF1\\n', 'KCNH6\\n', 'COL5A3\\n', 'ADCY4\\n', 'SYMPK\\n', 'CSTF3\\n', 'GLE1\\n', 'RAB44\\n', 'HNRNPL\\n', 'CCP110\\n', 'DENND4A\\n', 'CSK\\n', 'SKA2\\n', 'CTSZ\\n', 'RPS29\\n', 'UBE2J2\\n', 'PLEKHG2\\n', 'USP17L28\\n', 'KIF11\\n', 'KRTAP1-5\\n', 'RPSA\\n', 'MT-CO1\\n', 'CNIH1\\n', 'OR5T3\\n', 'CD177\\n', 'GPR20\\n', 'NUMB\\n', 'PRDM7\\n', 'OR5L2\\n', 'OR10G4\\n', 'TRIM41\\n', 'CD101\\n', 'ATP6V0C\\n', 'ZNF99\\n', 'TLN1\\n', 'MGAM\\n', 'GNAZ\\n', 'OR4F15\\n', 'OR6N2\\n', 'GP9\\n', 'HCFC1\\n', 'KIF3A\\n', 'TRAT1\\n', 'KRTAP19-2\\n', 'ITGA4\\n', 'PPIE\\n', 'ESRRA\\n', 'OR8G5\\n', 'RNF123\\n', 'BCKDHB\\n', 'MAFF\\n', 'ZNF415\\n', 'RNF114\\n', 'SCNN1D\\n', 'FBXL12\\n', 'CACNA1D\\n', 'YWHAH\\n', 'PRL\\n', 'TAF15\\n', 'KIR3DL1\\n', 'ZNF223\\n', 'ACADVL\\n', 'HNRNPH2\\n', 'OR52L1\\n', 'ZNF546\\n', 'HPSE\\n', 'OR6B2\\n', 'MED7\\n', 'SUPT5H\\n', 'KRT14\\n', 'KLB\\n', 'PIK3R5\\n', 'P2RY10\\n', 'VEGFD\\n', 'S100A8\\n', 'MYO9A\\n', 'ZNF737\\n', 'ZNF514\\n', 'CPT1B\\n', 'PNPLA2\\n', 'AR\\n', 'HLA-DRA\\n', 'OR51B4\\n', 'OR3A1\\n', 'CD8A\\n', 'CLEC7A\\n', 'UBE4A\\n', 'DPP7\\n', 'PSMC3IP\\n', 'MAP2K4\\n', 'FBXW2\\n', 'CORIN\\n', 'SNAPC2\\n', 'RPL15\\n', 'DNASE1L1\\n', 'CAND1\\n', 'PPP4C\\n', 'CDO1\\n', 'UPF2\\n', 'UBR2\\n', 'ANAPC11\\n', 'AKR1A1\\n', 'ZNF552\\n', 'CENPX\\n', 'VPREB1\\n', 'ADRB3\\n', 'H4C11\\n', 'SLC2A3\\n', 'RPL36\\n', 'ACTR2\\n', 'TUBA8\\n', 'SCOC\\n', 'SKP1\\n', 'NTN4\\n', 'FLNA\\n', 'DCUN1D3\\n', 'ROCK2\\n', 'SPIDR\\n', 'ZNF429\\n', 'CPSF4\\n', 'RASGRP3\\n', 'RGS9\\n', 'PSMB10\\n', 'USP14\\n', 'VAMP2\\n', 'OR52E4\\n', 'EIF4G1\\n', 'IL12B\\n', 'RAB24\\n', 'ZNF468\\n', 'CXCL6\\n', 'RAPGEF3\\n', 'MED14\\n', 'CEP76\\n', 'GLI3\\n', 'POLDIP3\\n', 'ZNF189\\n', 'USP42\\n', 'RAB5B\\n', 'EIF3B\\n', 'CD207\\n', 'SIGLEC5\\n', 'RGS6\\n', 'ZNF433\\n', 'HIVEP3\\n', 'JUN\\n', 'PAX3\\n', 'ADAM10\\n', 'PAK3\\n', 'COX20\\n', 'DNMT3A\\n', 'OR2L5\\n', 'OR8B12\\n', 'SREBF2\\n', 'CLCNKA\\n', 'FLNB\\n', 'GHSR\\n', 'PSG3\\n', 'RDX\\n', 'HDAC3\\n', 'GPC3\\n', 'CCND1\\n', 'CENPA\\n', 'GRM1\\n', 'PPP2R5C\\n', 'NOP56\\n', 'BPIFB2\\n', 'COL23A1\\n', 'CEACAM6\\n', 'ACOT12\\n', 'COPS7B\\n', 'NLN\\n', 'HDAC7\\n', 'TSC2\\n', 'CCL3L1\\n', 'RHOD\\n', 'TAS2R60\\n', 'SYT9\\n', 'OR2A1\\n', 'NOL11\\n', 'ZNF79\\n', 'GLA\\n', 'SREBF1\\n', 'ZNF586\\n', 'OPHN1\\n', 'ARHGDIB\\n', 'ZNF568\\n', 'TOLLIP\\n', 'IFNA7\\n', 'HMGA1\\n', 'RPL27A\\n', 'COG5\\n', 'ADH5\\n', 'PTH\\n', 'PLEKHO2\\n', 'ALAD\\n', 'CXCR3\\n', 'LCE1B\\n', 'PTX3\\n', 'ZNF500\\n', 'TNFRSF10D\\n', 'OR4F3\\n', 'OR9K2\\n', 'GRIN2D\\n', 'HLA-DMB\\n', 'SSTR2\\n', 'PSMB9\\n', 'MPHOSPH10\\n', 'GPR32\\n', 'CXCL9\\n', 'CALM3\\n', 'DMC1\\n', 'MAN2B1\\n', 'PEBP1\\n', 'PTGER3\\n', 'TRAP1\\n', 'HSPA1A\\n', 'CCZ1\\n', 'POLR1G\\n', 'FFAR4\\n', 'GPC1\\n', 'COL27A1\\n', 'KISS1R\\n', 'KCNJ9\\n', 'CD44\\n', 'CEBPB\\n', 'OR2W1\\n', 'SDCBP\\n', 'NR4A3\\n', 'GPS2\\n', 'OPN1MW\\n', 'OR2A5\\n', 'CHRM3\\n', 'USP33\\n', 'OR6C65\\n', 'OR52R1\\n', 'BLMH\\n', 'KRT1\\n', 'RBBP5\\n', 'RAP2B\\n', 'SH3RF1\\n', 'RARRES2\\n', 'ELP4\\n', 'MED16\\n', 'PSMA3\\n', 'ZNF670\\n', 'RAB12\\n', 'H2AC17\\n', 'FGL2\\n', 'PEA15\\n', 'ADRA2A\\n', 'LIN7B\\n', 'GRIN2C\\n', 'MDC1\\n', 'FOXO4\\n', 'NPSR1\\n', 'RGL1\\n', 'CNOT1\\n', 'PDS5B\\n', 'DDX58\\n', 'OR5P3\\n', 'ZNF549\\n', 'PAK2\\n', 'PREB\\n', 'BBS2\\n', 'DIAPH1\\n', 'H3C14\\n', 'RPL3L\\n', 'CBX8\\n', 'COL8A1\\n', 'GPRC6A\\n', 'EBF1\\n', 'MTREX\\n', 'OR1M1\\n', 'KIFC3\\n', 'RAP1A\\n', 'RPS10\\n', 'ZNF394\\n', 'ZNF587\\n', 'CRYM\\n', 'ABR\\n', 'ZNF225\\n', 'POLD4\\n', 'UBE2C\\n', 'RNF130\\n', 'TOM1\\n', 'COPS6\\n', 'OR52H1\\n', 'ARSA\\n', 'CEP63\\n', 'CSF1\\n', 'SH2B2\\n', 'RPS6KA2\\n', 'FADS1\\n', 'ZNF211\\n', 'COX11\\n', 'YWHAB\\n', 'MTNR1B\\n', 'SSTR4\\n', 'ZNF589\\n', 'PBX1\\n', 'LIG3\\n', 'MCHR1\\n', 'FIP1L1\\n', 'ZNF33A\\n', 'OPRM1\\n', 'RRP7A\\n', 'SPCS2\\n', 'ZKSCAN8\\n', 'KRTAP25-1\\n', 'OR8D1\\n', 'OR10G3\\n', 'SMC2\\n', 'PADI1\\n', 'KLHL21\\n', 'TGFBR2\\n', 'CPNE1\\n', 'DHX37\\n', 'FBXO32\\n', 'CEACAM3\\n', 'CCL1\\n', 'ZFP2\\n', 'MAF1\\n', 'FLRT2\\n', 'NINL\\n', 'MLEC\\n', 'TYROBP\\n', 'EPHA2\\n', 'ZNF547\\n', 'YPEL5\\n', 'RPTN\\n', 'AGTR2\\n', 'GSPT2\\n', 'BTK\\n', 'H2BC1\\n', 'SNRPG\\n', 'OR4C12\\n', 'STAG3\\n', 'TLR9\\n', 'KBTBD13\\n', 'SERPINA1\\n', 'PSME3\\n', 'MSL2\\n', 'PIGR\\n', 'POLR3A\\n', 'SF3B4\\n', 'CDC45\\n', 'ZNF436\\n', 'YAP1\\n', 'C3AR1\\n', 'U2SURP\\n', 'NOL12\\n', 'INTS9\\n', 'FSCN1\\n', 'RPL23\\n', 'KEAP1\\n', 'ZNF560\\n', 'CAB39L\\n', 'WDR20\\n', 'OR1L6\\n', 'KIF5A\\n', 'SPCS1\\n', 'ERBB4\\n', 'ZNF442\\n', 'UQCRB\\n', 'SLC15A4\\n', 'COL11A2\\n', 'PRKG1\\n', 'HDAC5\\n', 'ARHGAP45\\n', 'OR2K2\\n', 'FGF4\\n', 'HPD\\n', 'SPTBN1\\n', 'APAF1\\n', 'ADCY3\\n', 'F11R\\n', 'TBX5\\n', 'BMP4\\n', 'POLR2E\\n', 'MTA2\\n', 'CHRM2\\n', 'NPEPPS\\n', 'ARHGAP17\\n', 'TAS2R9\\n', 'POLR3GL\\n', 'FBXW10\\n', 'WEE1\\n', 'MFN1\\n', 'TUBGCP6\\n', 'OR1S2\\n', 'ANO6\\n', 'MKRN1\\n', 'RFC1\\n', 'HLA-DQA2\\n', 'TSHB\\n', 'COL4A6\\n', 'CCNF\\n', 'ZNF716\\n', 'TRAF6\\n', 'COL5A1\\n', 'NCAN\\n', 'GNS\\n', 'DOCK10\\n', 'RPL29\\n', 'CXCL2\\n', 'UBE2Q1\\n', 'RAP1B\\n', 'VIP\\n', 'PIK3R4\\n', 'LDHAL6A\\n', 'OR5M11\\n', 'ASB5\\n', 'ADGRG3\\n', 'GNG13\\n', 'PSME1\\n', 'AREG\\n', 'STK10\\n', 'BUB1\\n', 'GTPBP2\\n', 'DLD\\n', 'LBP\\n', 'SSU72\\n', 'ACTR10\\n', 'OR8G1\\n', 'OR1D5\\n', 'SRSF11\\n', 'BANF1\\n', 'OR2A4\\n', 'MED15\\n', '956528\\n', 'PSMD8\\n', 'RAD50\\n', 'ADAMTS9\\n', 'OR6B1\\n', 'CEP135\\n', 'RPL22\\n', 'IMPDH2\\n', 'ZNF551\\n', 'STXBP2\\n', 'GRK2\\n', 'DAG1\\n', '390441\\n', 'ZNF793\\n', 'PLCG2\\n', 'AXIN2\\n', 'ODF2\\n', 'KSR1\\n', 'FBXO17\\n', 'UBE2U\\n', 'CLP1\\n', 'PPIH\\n', 'GTF3C5\\n', 'OR2J2\\n', 'CASR\\n', 'SOCS2\\n', 'USP12\\n', 'OR51A2\\n', 'PDE1B\\n', 'OR52N1\\n', 'RAD1\\n', 'ZNF160\\n', 'MTARC2\\n', 'HSPH1\\n', 'POLR1F\\n', 'LAS1L\\n', 'ZNF682\\n', 'H4C13\\n', 'NEDD8\\n', 'DYNC1H1\\n', 'NEU1\\n', 'APLN\\n', 'GNRH1\\n', 'ZNF772\\n', 'IFITM1\\n', 'OR51D1\\n', 'FZD2\\n', 'UBD\\n', 'SERPINB12\\n', 'MIF\\n', 'RASGEF1A\\n', 'INTS2\\n', 'ANO5\\n', 'OSTF1\\n', 'RSPO2\\n', 'ZNF664\\n', 'ATP1B1\\n', 'ACTB\\n', 'H4C4\\n', 'TCEA1\\n', 'AP1G1\\n', 'NCOR2\\n', 'OR52N5\\n', 'USP10\\n', 'RPL37\\n', 'ENDOD1\\n', 'AP1M1\\n', 'OR2B2\\n', '956531\\n', 'RRAGC\\n', 'HECW2\\n', 'KLRD1\\n', 'ABCG2\\n', 'GNB3\\n', 'PSG8\\n', 'RHOQ\\n', 'ZNF705E\\n', 'S1PR5\\n', 'KRT34\\n', 'H2BC18\\n', 'H4C6\\n', 'SYNGR1\\n', 'SLAMF7\\n', 'FMNL1\\n', 'GRSF1\\n', 'TAP1\\n', 'SNW1\\n', 'CLPS\\n', 'ERCC6L\\n', 'ACTN4\\n', 'FRMPD3\\n', 'PAIP1\\n', 'MKS1\\n', 'UBAP1\\n', 'OR5H15\\n', 'MALT1\\n', 'PSAP\\n', 'SCAI\\n', 'KRTAP21-3\\n', 'TAB1\\n', 'MADCAM1\\n', 'SRP19\\n', '813949\\n', 'INTS4\\n', 'RAB31\\n', 'COL1A1\\n', 'DSN1\\n', 'ZNF473\\n', 'SRSF9\\n', 'PDE8A\\n', 'RPL13\\n', 'POLR1E\\n', 'PCBP2\\n', 'BGN\\n', 'NABP2\\n', 'OR5P2\\n', 'VAMP3\\n', 'BRD8\\n', 'PYGO1\\n', 'ALDOB\\n', 'STON1\\n', 'NUP85\\n', 'ZNF347\\n', 'STK11IP\\n', 'KRTAP24-1\\n', 'FGB\\n', 'USP22\\n', 'CABLES1\\n', 'ZNF563\\n', 'DIMT1\\n', 'POLR2A\\n', 'PSMD12\\n', 'DNM2\\n', 'SLC27A1\\n', 'ERBIN\\n', 'NAPRT\\n', 'GBP6\\n', 'DLL4\\n', 'RPP38\\n', 'PARP1\\n', 'RLN3\\n', 'H2BC8\\n', 'TAPBP\\n', 'IGFBP3\\n', 'OR2M4\\n', 'NCF4\\n', 'ZNF100\\n', 'NEURL1\\n', 'ATP7A\\n', 'ZNF688\\n', 'GORASP1\\n', 'MLYCD\\n', 'SUMO1\\n', 'SEC13\\n', 'ZNF559\\n', 'MYBL2\\n', 'TGFB3\\n', 'PCNA\\n', 'LRRFIP1\\n', 'FGFR1\\n', 'ZNF791\\n', 'OR2G3\\n', 'MAP1LC3C\\n', 'IL5\\n', 'RASA1\\n', 'LRTOMT\\n', 'KRAS\\n', 'FPR2\\n', 'PRSS3\\n', 'IFT27\\n', 'RPS18\\n', 'DIAPH2\\n', 'ZIM2\\n', 'ADRB1\\n', 'KLC4\\n', 'ARCN1\\n', 'POLE2\\n', 'XRCC1\\n', 'TYK2\\n', 'OR2AG1\\n', 'COMP\\n', 'DIAPH3\\n', 'ZNF26\\n', 'APH1A\\n', 'HEBP2\\n', 'PTGER4\\n', 'SNRPF\\n', 'RPL10A\\n', 'HDAC2\\n', 'DNM1\\n', 'G6PD\\n', 'GNA15\\n', 'TFDP1\\n', 'ZNF750\\n', 'ZNF726\\n', 'H3-3A\\n', 'LONRF1\\n', 'COMMD6\\n', 'BRS3\\n', 'DCUN1D5\\n', 'TAS2R46\\n', 'OR51T1\\n', 'OR2F2\\n', 'FTH1\\n', 'RAB6B\\n', 'SIAH2\\n', 'BRAF\\n', 'CENPQ\\n', 'FXYD3\\n', 'APP\\n', 'MLH1\\n', 'EIF2S3\\n', 'ZNF155\\n', 'CASP14\\n', 'IRAK2\\n', 'TGOLN2\\n', 'TRIO\\n', 'OR2L2\\n', 'FRK\\n', 'OR4M2\\n', 'PPP2R5B\\n', 'OR10G9\\n', 'MAD2L1\\n', 'KRTAP5-2\\n', 'HGSNAT\\n', 'UBC\\n', 'ZNF506\\n', 'POM121\\n', 'CHMP3\\n', 'ZNF615\\n', 'USP17L29\\n', 'WAPL\\n', 'AGTPBP1\\n', 'OR8H3\\n', 'EEFSEC\\n', 'MAML3\\n', 'DLG3\\n', 'EIF4A2\\n', 'SERPINA3\\n', 'IKBKB\\n', 'FXYD6\\n', 'H2AC15\\n', 'EIF3J\\n', 'CEACAM5\\n', 'BPI\\n', 'GNL3\\n', 'H2AC21\\n', 'H4-16\\n', 'NID1\\n', 'NDUFA6\\n', 'RPS7\\n', 'PSMA7\\n', 'TUBA1B\\n', 'OR1G1\\n', 'CDK9\\n', 'GP6\\n', 'PHLPP1\\n', 'IRS2\\n', 'WDR43\\n', 'SDC1\\n', 'QRFP\\n', 'SBF2\\n', 'OR52J3\\n', 'COL16A1\\n', 'OR1J1\\n', 'ADAMTS5\\n', 'SSR1\\n', 'MMP9\\n', 'DCAF11\\n', 'ALDH7A1\\n', 'TAGLN2\\n', 'EPN2\\n', 'FCER2\\n', 'RPS13\\n', '155030\\n', 'ALDH3A1\\n', 'STX1A\\n', 'PROK2\\n', 'NUP62\\n', 'RNF144B\\n', 'KRT81\\n', 'OR4A5\\n', 'RIPK2\\n', 'TUBA3E\\n', 'H2AC7\\n', 'RNF135\\n', 'WNK3\\n', 'KIF1C\\n', 'RBM4\\n', 'GNA13\\n', 'IFT88\\n', 'CHRM5\\n', 'OR52E6\\n', 'ACBD3\\n', 'SNRPE\\n', 'NAE1\\n', 'ZNF799\\n', 'FZD3\\n', 'ZNF556\\n', 'TGM5\\n', 'EPHB4\\n', 'H4C14\\n', '441669\\n', 'ARHGAP6\\n', 'PLXNB1\\n', 'FGF6\\n', 'OBSL1\\n', 'KIF23\\n', 'ALDH3B2\\n', 'ARPC1A\\n', 'TP53BP1\\n', 'PSMC5\\n', 'H2AC18\\n', 'EIF3M\\n', 'TRIM32\\n', 'PERM1\\n', 'USP17L8\\n', 'DLGAP4\\n', 'RTP1\\n', 'EXOC5\\n', 'MANF\\n', 'HTR1A\\n', 'LRR1\\n', 'MLH3\\n', 'PHF21A\\n', 'SPRR2D\\n', 'FGF9\\n', 'S100A7\\n', 'GAK\\n', 'MAP2K7\\n', 'TXK\\n', 'TLE2\\n', 'MINK1\\n', 'NDUFA7\\n', 'PTPRJ\\n', 'APLP2\\n', 'MAFG\\n', 'SCTR\\n', 'MAML2\\n', 'LILRA4\\n', 'RCOR1\\n', 'PELP1\\n', 'NLGN4Y\\n', 'ARHGEF35\\n', 'TMEM115\\n', 'ZNF692\\n', 'OR5D13\\n', 'GJD4\\n', 'FGF16\\n', 'ZNF764\\n', 'OR10H3\\n', 'MMP17\\n', 'FKBP4\\n', 'KHSRP\\n', 'LAMP2\\n', 'PRKN\\n', 'EBAG9\\n', 'PMF1\\n', 'ZNF398\\n', 'RPL39\\n', 'ERLIN2\\n', 'ZNF770\\n', 'TAF1B\\n', 'SUDS3\\n', 'RGS11\\n', 'SLC6A12\\n', 'EHMT1\\n', 'CYFIP1\\n', 'RPL32\\n', 'TNFRSF1B\\n', 'THOC3\\n', 'MTOR\\n', 'EPHB6\\n', 'MTA1\\n', 'SIGLEC9\\n', 'HMGCS1\\n', 'NUP42\\n', 'RAC1\\n', 'OR2L8\\n', 'PLK1\\n', 'EPGN\\n', 'CCAR1\\n', 'GTF2A2\\n', 'DAB2IP\\n', 'DERL1\\n', 'RNF103-CHMP3\\n', 'H2AW\\n', 'EIF1AX\\n', 'UBE2L6\\n', 'LCE6A\\n', 'CFTR\\n', 'LMAN1L\\n', 'P4HB\\n', 'SH2B1\\n', 'FGFR2\\n', 'MAPK4\\n', 'KIT\\n', 'MAP3K1\\n', 'RNPS1\\n', 'SP100\\n', 'USP7\\n', 'LCE4A\\n', 'RUVBL1\\n', 'TRAF2\\n', 'FAM20C\\n', 'TAF7\\n', 'FBXO2\\n', 'PSMD3\\n', 'CSF2\\n', 'KLK13\\n', 'ATR\\n', 'ASB1\\n', 'DOCK1\\n', 'UBTF\\n', 'OR56A5\\n', 'ASB2\\n', 'IL1A\\n', 'MPIG6B\\n', 'PHF19\\n', 'PEX11A\\n', 'PRKAG1\\n', 'NUP58\\n', 'PRNP\\n', 'DDX42\\n', 'PPM1A\\n', 'SFI1\\n', 'SRSF1\\n', 'ZNF202\\n', 'PHC3\\n', 'TBL1XR1\\n', 'SHC2\\n', 'CCR3\\n', 'S100P\\n', 'RUNX3\\n', 'CUL9\\n', 'RAB3GAP2\\n', 'USP5\\n', 'UTP18\\n', 'DHX38\\n', 'VAV3\\n', 'KRT15\\n', 'STAT5B\\n', 'CENPK\\n', 'SEC11C\\n', 'ANAPC10\\n', 'MCM2\\n', 'HRNR\\n', 'LAMB2\\n', 'ARG1\\n', 'OR5I1\\n', 'IBSP\\n', 'KRTAP23-1\\n', 'MAP3K7\\n', 'NME2\\n', 'VPS72\\n', 'ETFA\\n', 'CDC27\\n', 'P2RX1\\n', 'RGS5\\n', 'DYNLRB1\\n', 'TLE1\\n', 'CTSS\\n', 'GMIP\\n', 'OR10V1\\n', 'CXXC5\\n', 'OR12D2\\n', 'GLIPR1\\n', 'PRKACB\\n', 'FN1\\n', 'CDK7\\n', 'S1PR4\\n', 'CYP21A2\\n', 'FAM20A\\n', 'MEF2C\\n', 'ASB16\\n', 'CLASP1\\n', 'DEFA4\\n', 'RMI1\\n', 'PRPF4\\n', 'ATP2A1\\n', 'SYT2\\n', 'LAMC2\\n', 'ZNF317\\n', 'OR6C76\\n', 'OR1L3\\n', 'FBXL3\\n', 'SMG9\\n', 'OPN5\\n', 'CORT\\n', 'ACADM\\n', 'ASAH1\\n', 'OLR1\\n', 'USP4\\n', 'RAB7B\\n', 'ZNF484\\n', 'KCTD7\\n', 'USP17L20\\n', 'EIF2S1\\n', 'CBX4\\n', 'OR2B6\\n', 'QPCT\\n', 'AP1S1\\n', 'ITPK1\\n', 'TMEM30A\\n', 'ANAPC5\\n', 'NUP214\\n', 'SERPINB3\\n', 'RHOV\\n', 'ACTR3\\n', 'KDM6B\\n', 'DR1\\n', 'SRSF10\\n', 'DDX49\\n', 'FABP12\\n', 'CMC2\\n', 'ZNF10\\n', 'AFP\\n', 'EIF3K\\n', 'AOC3\\n', 'TNKS2\\n', 'HLA-DOA\\n', 'PTGER2\\n', 'COL17A1\\n', 'OR4C3\\n', 'ZNF253\\n', 'OR5A2\\n', 'SPN\\n', 'RPS6\\n', 'LAIR1\\n', 'ASB6\\n', 'APLNR\\n', 'NPFFR1\\n', 'DCAF10\\n', 'ZNF555\\n', 'SNRNP70\\n', 'CBFB\\n', 'CTSE\\n', 'ERCC4\\n', 'OR5M8\\n', 'CXCR2\\n', 'ZNF718\\n', 'MYB\\n', 'FURIN\\n', 'H3C8\\n', 'DLL1\\n', 'H2BC17\\n', 'A2M\\n', 'KRTAP13-3\\n', 'ADRB2\\n', 'VAV1\\n', 'OR52E8\\n', 'ZDHHC7\\n', 'ZNF605\\n', 'TBC1D10C\\n', 'TAS2R38\\n', 'MYL3\\n', 'MMP15\\n', 'OR51A7\\n', 'NUP54\\n', 'ZNF606\\n', 'OR8A1\\n', 'WDR18\\n', 'LHX4\\n', 'SLC25A13\\n', 'OR6V1\\n', 'OR9Q2\\n', 'OR10K1\\n', 'HNRNPC\\n', 'ZKSCAN3\\n', 'KRTAP1-3\\n', 'KRTAP9-2\\n', 'HEY2\\n', 'TREML2\\n', 'RNF4\\n', 'OR4K17\\n', 'KRTAP9-4\\n', 'NXF1\\n', 'COL26A1\\n', 'UBE2D2\\n', 'ZNF136\\n', 'NPS\\n', 'USP16\\n', 'ZNF641\\n', 'TAF1D\\n', 'OR5H1\\n', 'RBL1\\n', 'VAMP8\\n', 'OR6P1\\n', 'DIS3\\n', 'CWC22\\n', 'POU2F2\\n', 'SLC2A5\\n', 'CAPN1\\n', 'ATG7\\n', 'ITGAX\\n', 'RGS22\\n', 'ADH7\\n', 'B2M\\n', 'ZNF92\\n', 'HSPG2\\n', 'TCF3\\n', 'OR5B2\\n', 'ZNF419\\n', 'CRTC1\\n', 'ZNF267\\n', 'SULT1A2\\n', 'CEP43\\n', 'WDR46\\n', 'VTN\\n', 'TMX3\\n', 'CAMP\\n', 'S1PR1\\n', 'GRIN2B\\n', 'UBE3C\\n', 'PSMB5\\n', 'OR2T8\\n', 'RHO\\n', 'ZNF550\\n', 'ZNF350\\n', 'HAUS8\\n', 'ZFP28\\n', 'OXGR1\\n', 'AJUBA\\n', 'RXRA\\n', 'ADGRE5\\n', 'CENPN\\n', 'FSHR\\n', 'KLK2\\n', 'LAMTOR2\\n', 'DLG4\\n', 'SLC11A1\\n', 'SMC1B\\n', 'OR52W1\\n', 'FBXO22\\n', 'DSC2\\n', 'ARHGEF5\\n', 'CDK2\\n', 'OR1E2\\n', 'CLEC3B\\n', 'DYNC1LI2\\n', 'AKAP10\\n', 'REEP4\\n', 'SCLT1\\n', 'GPR39\\n', 'OR6C75\\n', 'HSPA2\\n', 'HEBP1\\n', 'ZNF627\\n', 'DEFA1B\\n', 'ZNF141\\n', 'ZKSCAN7\\n', 'PKP2\\n', 'SCMH1\\n', 'PLD1\\n', 'NXT1\\n', 'MFAP3\\n', 'HNRNPA3\\n', 'TAOK1\\n', 'TMEM179B\\n', 'GCG\\n', 'RAD51B\\n', 'TRIM71\\n', 'GTF2A1\\n', 'CLTCL1\\n', 'OR4N2\\n', 'TSPAN5\\n', 'OR1J2\\n', 'OR10H1\\n', 'GOSR2\\n', 'ZNF45\\n', 'OR52Z1\\n', 'F2RL3\\n', 'RRP8\\n', 'AGO4\\n', 'RTF1\\n', 'HVCN1\\n', 'AVPR2\\n', 'GAL\\n', 'RAI1\\n', 'USP2\\n', 'ZNF138\\n', 'EVPL\\n', 'KLHL22\\n', 'PDIA3\\n', 'INTU\\n', 'KBTBD8\\n', 'G0S2\\n', 'ZNF585B\\n', 'ZNF418\\n', 'HAUS7\\n', 'TAAR6\\n', 'LDLR\\n', 'HIPK1\\n', 'PLCB1\\n', 'SPHK1\\n', 'CLEC2B\\n', 'CCL23\\n', 'ADCY8\\n', 'OR5B12\\n', 'TAS2R3\\n', 'POP5\\n', 'KLRF1\\n', 'GSDMD\\n', 'PARP10\\n', 'COG1\\n', 'ARHGEF17\\n', 'ARHGEF40\\n', 'WBP11\\n', 'ATP2B4\\n', 'KLC3\\n', 'SEH1L\\n', 'FGF2\\n', 'EMILIN1\\n', 'CSF3\\n', 'OR4C6\\n', 'ARF3\\n', 'PDE4D\\n', 'CCL13\\n', 'ACADS\\n', 'SENP8\\n', 'ZIM3\\n', 'INTS8\\n', 'ADHFE1\\n', 'FBXW7\\n', 'MANBA\\n', 'ZNF12\\n', 'SNRPD3\\n', 'WSB2\\n', 'FER\\n', 'CRTAM\\n', 'ALAS1\\n', 'OR5L1\\n', 'ZNF282\\n', 'OR1L8\\n', 'H2AZ2\\n', 'ALDH3A2\\n', 'SNRPA\\n', 'PPP3R1\\n', 'OR51I2\\n', 'FFAR2\\n', 'COMMD5\\n', 'OR4M1\\n', 'ABCB9\\n', 'ERI1\\n', 'TTR\\n', 'KITLG\\n', 'LAMA5\\n', 'ATG4B\\n', 'GPR27\\n', 'USP26\\n', 'ALOX5\\n', 'CCDC8\\n', 'BOP1\\n', 'PHYKPL\\n', 'ZNF30\\n', 'ING5\\n', 'OR4A16\\n', 'ARNTL\\n', 'SPSB2\\n', 'ZNF544\\n', 'MECP2\\n', 'DSG4\\n', 'OR8B4\\n', 'PPP2CA\\n', 'H2BC4\\n', 'OR4X1\\n', 'MOV10\\n', 'P4HA3\\n', 'C3\\n', 'RAD23B\\n', 'ZNF679\\n', 'SUCNR1\\n', 'SMAD7\\n', 'ZNF626\\n', 'ARHGAP11B\\n', 'TCTN1\\n', 'TAS2R19\\n', 'TOR1A\\n', 'CPB1\\n', 'ALPL\\n', 'F2RL1\\n', 'RBM8A\\n', 'SATB2\\n', 'PRKAG3\\n', 'ARHGAP1\\n', 'DERL2\\n', 'CXCL11\\n', 'ERBB3\\n', 'KIF18B\\n', 'PAXIP1\\n', 'IL6R\\n', 'AKR1C3\\n', 'GUCY2D\\n', 'TBXA2R\\n', 'KIF12\\n', 'XRCC2\\n', 'AHI1\\n', 'CXCL5\\n', 'COL28A1\\n', 'ADAMTS14\\n', 'SEC61A1\\n', 'ITGA1\\n', 'TAB2\\n', 'OR2J1\\n', 'PDHX\\n', 'H2AC8\\n', 'INTS13\\n', 'FCN1\\n', 'TRAPPC6A\\n', 'USP25\\n', 'ESPL1\\n', 'OR56A1\\n', 'PSMB3\\n', 'RNF128\\n', 'ZNF530\\n', 'RPL21\\n', 'AGT\\n', 'HLA-DQB2\\n', 'RAP2C\\n', 'MED26\\n', 'SPRED1\\n', 'UBE2K\\n', 'TCF7L1\\n', 'TAF10\\n', 'TMED9\\n', 'SNAPC4\\n', 'RAB37\\n', 'CHST13\\n', 'SPARC\\n', 'OR6K2\\n', 'CLEC4C\\n', 'PRKDC\\n', 'SLC2A4\\n', 'ASIC1\\n', 'C1orf35\\n', 'ITGB7\\n', 'KRTAP9-8\\n', 'NDUFC2\\n', 'RGS16\\n', 'RGS21\\n', 'U2AF1L5\\n', 'TRIM39\\n', 'TMBIM1\\n', 'ORM1\\n', 'ADH4\\n', 'CASP2\\n', 'ARHGEF33\\n', 'MAP2K6\\n', 'OR8K1\\n', 'KMT2B\\n', 'OR6K6\\n', 'CANT1\\n', 'OR51S1\\n', 'TGFB2\\n', 'OR2A25\\n', 'GPR17\\n', 'OR51H1\\n', 'PRMT7\\n', 'SNRPN\\n', 'NRIP1\\n', 'CXCR1\\n', 'BRCC3\\n', 'PA2G4\\n', 'FDFT1\\n', 'FCGR3A\\n', 'REEP1\\n', 'KDM6A\\n', 'AGA\\n', 'U2AF1L4\\n', 'VWF\\n', 'ALDOA\\n', 'CENPO\\n', 'OR5AC2\\n', 'GNAS\\n', 'IRAK4\\n', 'GPR68\\n', 'OR56B1\\n', 'PDE1A\\n', 'SLC22A1\\n', 'SPC24\\n', 'VPS45\\n', 'NCOA6\\n', 'SARNP\\n', 'SLC5A7\\n', 'GSR\\n', 'CDKN1A\\n', 'TAF9B\\n', 'USP19\\n', 'H3C4\\n', 'NEURL2\\n', 'LYZ\\n', 'FCHO1\\n', 'SF3B3\\n', 'MBD1\\n', 'GAB2\\n', 'COLGALT1\\n', 'E2F8\\n', 'GFI1\\n', 'RAB18\\n', 'ATN1\\n', 'FOXK1\\n', 'IGFBP1\\n', 'RAB1A\\n', 'SLC6A11\\n', 'UEVLD\\n', 'FBXO27\\n', 'NR5A2\\n', '100506888\\n', 'SRGAP1\\n', 'LDHAL6B\\n', 'PRDX1\\n', 'PARN\\n', 'BCKDK\\n', 'HIBADH\\n', 'HLA-DRB5\\n', 'PTTG1\\n', 'PSMA5\\n', 'SCUBE3\\n', 'EPHA4\\n', 'ARHGEF18\\n', 'IL13RA2\\n', 'ATP6V0A1\\n', 'HSD3B1\\n', 'XRCC6\\n', 'IRF2\\n', 'ZNF567\\n', '904054\\n', 'TRIB3\\n', 'GNGT2\\n', 'SGF29\\n', 'SLIT2\\n', 'NID2\\n', 'ZNF2\\n', 'E2F5\\n', 'DLST\\n', 'UBE2H\\n', 'CASP8\\n', 'CHI3L1\\n', 'CEBPG\\n', 'MTHFD1L\\n', 'CD93\\n', 'NR1I3\\n', 'AMFR\\n', 'GNAL\\n', 'FGD3\\n', 'SERPING1\\n', 'ZNF180\\n', 'EPAS1\\n', 'SF3B1\\n', 'ABCC10\\n', '956533\\n', 'MYL9\\n', 'GPSM3\\n', 'FPR3\\n', 'GTF2H2\\n', 'VIM\\n', 'ELL\\n', 'SPSB3\\n', 'SMC3\\n', 'RUNX1\\n', 'ORC6\\n', 'RPS24\\n', 'ZNF709\\n', 'LNPEP\\n', 'NDUFS4\\n', 'NECAP2\\n', 'HAUS6\\n', 'NEURL1B\\n', 'GZMH\\n', 'PEMT\\n', 'ABCA3\\n', 'TBK1\\n', 'ZNF74\\n', 'PPARA\\n', 'ADRA2C\\n', 'GNRH2\\n', 'H2AZ1\\n', 'CARD11\\n', 'OR6Y1\\n', 'KRT10\\n', 'PDCD11\\n', 'INTS5\\n', 'RPL39L\\n', 'RPL24\\n', 'MDM4\\n', 'TUBA1C\\n', 'PPARG\\n', 'DNAJC5\\n', 'MS4A2\\n', 'DTL\\n', 'RAB5C\\n', 'SH3GL3\\n', 'RCHY1\\n', 'CKS1B\\n', 'POLR2B\\n', 'RAB9B\\n', 'OR7A17\\n', 'COL24A1\\n', 'COL6A2\\n', 'HACE1\\n', 'USP9X\\n', 'BATF\\n', 'ADH1A\\n', 'STON2\\n', 'ZNF830\\n', 'NPY1R\\n', 'PIK3R1\\n', 'UTP11\\n', 'GAPVD1\\n', 'CTSD\\n', 'COX8A\\n', 'TAS2R41\\n', 'PRMT5\\n', 'ARHGAP22\\n', 'GTF3C2\\n', 'PPIL3\\n', 'GAPDH\\n', 'FBXW8\\n', 'DDX39A\\n', 'CENPH\\n', 'BICD2\\n', 'FGF8\\n', 'SRRT\\n', 'CD200\\n', 'ITGB1\\n', 'UPF3A\\n', 'SYT5\\n', 'DCAF16\\n', 'ASB8\\n', 'MED13L\\n', 'GYG1\\n', 'DYNLL1\\n', 'ARHGAP20\\n', 'EEF1A1\\n', 'AMER1\\n', 'TUBGCP3\\n', 'KIF9\\n', 'DEFB118\\n', 'MED8\\n', 'CCNA1\\n', 'CBX5\\n', 'ZNF214\\n', 'RPS2\\n', 'PCP2\\n', 'SOS1\\n', 'CDK1\\n', 'OR51F2\\n', 'DCAF17\\n', 'RPL5\\n', 'ITGA9\\n', 'ISY1-RAB43\\n', 'ARHGEF19\\n', 'H2AC16\\n', 'ZNF691\\n', 'LILRB3\\n', 'ZNF208\\n', 'KIF15\\n', 'XAB2\\n', 'DMBT1\\n', 'IFI35\\n', 'RBFOX2\\n', 'AZU1\\n', 'CDC16\\n', 'ORC2\\n', 'ZNF70\\n', 'FBXL16\\n', 'UFL1\\n', 'TERF2IP\\n', 'ACD\\n', 'ZNF320\\n', 'PTPRB\\n', 'CDC73\\n', 'GPR84\\n', 'MAVS\\n', 'RAD21\\n', 'RAB14\\n', 'CLIP1\\n', 'KRT7\\n', 'SNX3\\n', 'ATP8A2\\n', 'NFKB2\\n', 'MAOA\\n', 'CCT4\\n', 'COPE\\n', 'KRTAP10-12\\n', 'F2R\\n', 'ZNF254\\n', 'FCGR1A\\n', 'TRIM50\\n', 'PSG2\\n', 'OR52B2\\n', 'PPP1R13B\\n', 'MSL3\\n', 'OR2T27\\n', 'OR1N1\\n', 'NSL1\\n', 'TUBB2A\\n', 'RNF138\\n', 'ABCA1\\n', 'FOS\\n', 'ADCY9\\n', 'TNRC6B\\n', 'VPREB3\\n', 'KAT5\\n', 'ZNF479\\n', 'SSRP1\\n', 'OR10R2\\n', 'PDIA6\\n', 'INPP5B\\n', 'FZD7\\n', 'ZNF416\\n', 'ACTN1\\n', 'EIF3H\\n', 'XRN2\\n', 'ADORA2B\\n', 'RPL10L\\n', 'HERC1\\n', 'KRTAP9-6\\n', 'AGTRAP\\n', 'WDR45B\\n', 'USP30\\n', 'GNAT1\\n', 'NRGN\\n', 'CXCR4\\n', 'B4GALT5\\n', 'FMNL2\\n', 'EGF\\n', 'AP2M1\\n', 'HLA-DOB\\n', 'ZNF114\\n', 'PSMF1\\n', 'EDN1\\n', 'ATRIP\\n', 'NOS3\\n', 'PAFAH1B2\\n', 'LSM4\\n', 'TACR2\\n', 'TICAM1\\n', 'PTPRN2\\n', 'JUNB\\n', 'CHUK\\n', 'CBX2\\n', 'ANAPC16\\n', 'UBQLN2\\n', 'COPS4\\n', 'PKNOX1\\n', 'GTF2F2\\n', 'BEST4\\n', 'MYH10\\n', 'OR9A2\\n', 'VPS28\\n', 'ITGAM\\n', 'TERF1\\n', 'CTSO\\n', 'GNGT1\\n', 'COL9A1\\n', 'RAB3D\\n', 'ZNF696\\n', 'IFT46\\n', 'SGIP1\\n', 'CHRDL1\\n', 'SEC23A\\n', 'FGF19\\n', 'AGO1\\n', 'SAP130\\n', 'ZNF71\\n', 'COL10A1\\n', 'CCR8\\n', 'COLEC12\\n', 'BRCA2\\n', 'HLA-DRB1\\n', 'ICAM4\\n', 'STUB1\\n', 'AGO3\\n', 'TAS2R39\\n', 'MMP2\\n', 'SERPINB10\\n', 'GNG8\\n', 'GPI\\n', 'CLOCK\\n', 'FFAR1\\n', 'TFB2M\\n', 'CCR5\\n', 'TUBA4A\\n', 'CPLX1\\n', 'MDM2\\n', 'BCAT1\\n', 'KDM4B\\n', 'PYY\\n', 'KAT6A\\n', 'NUP98\\n', 'KRT36\\n', 'CHTOP\\n', 'ZNF600\\n', 'PRSS2\\n', 'ULBP3\\n', 'H2AC11\\n', 'IFNA21\\n', 'FGF22\\n', 'CRK\\n', 'NCBP2\\n', 'GLMN\\n', 'KIF21A\\n', 'PCYOX1L\\n', 'H2BC21\\n', 'GPLD1\\n', 'MME\\n', 'ASB3\\n', 'UBA1\\n', 'OR5F1\\n', 'KRT16\\n', 'OR51E2\\n', 'FBXO30\\n', 'YY1\\n', 'SRSF2\\n', 'OR2H1\\n', 'MED12\\n', 'NEDD4L\\n', 'RNF19A\\n', 'STC2\\n', 'ABRAXAS1\\n', 'MZT2B\\n', 'OR7G3\\n', 'MLNR\\n', 'DZIP1\\n', 'HK3\\n', 'NLRX1\\n', 'LDLRAP1\\n', '956535\\n', 'OR52I1\\n', 'WDR61\\n', 'RPP30\\n', 'GMFG\\n', 'MED23\\n', 'ZNF445\\n', 'RAB7A\\n', 'ECHS1\\n', 'ZNF785\\n', 'SCAMP1\\n', 'RPL4\\n', 'LIN37\\n', 'KDM3A\\n', 'USP17L17\\n', 'KCMF1\\n', 'DBT\\n', 'CD3E\\n', 'MC3R\\n', 'RAB4B\\n', 'SPINK5\\n', 'CALCA\\n', 'SCG3\\n', 'PPIA\\n', 'OR2G6\\n', 'CCR6\\n', 'COL14A1\\n', 'TUBGCP2\\n', 'CPSF1\\n', 'CCNB1\\n', 'H4C12\\n', 'ZNF655\\n', 'MC2R\\n', 'COX18\\n', 'NCR3LG1\\n', 'SERPINB6\\n', 'FBXL14\\n', 'KRTAP5-5\\n', 'HOXD3\\n', 'VHL\\n', 'DNM3\\n', 'HLA-DPB1\\n', 'IL1B\\n', 'ZSCAN25\\n', 'SRSF4\\n', 'THOC2\\n', 'DHH\\n', 'TRH\\n', 'NPC2\\n', 'SGK1\\n', 'CX3CL1\\n', 'OR9I1\\n', 'MED6\\n', 'FGF23\\n', 'TNNC1\\n', 'PRDM9\\n', 'RUVBL2\\n', 'AMY2B\\n', '341568\\n', 'TAAR1\\n', 'PSMC4\\n', 'ZNF443\\n', 'CHMP2A\\n', 'LIPN\\n', 'ZNF565\\n', 'PFKFB3\\n', 'ELAVL2\\n', 'LRG1\\n', 'H2AC14\\n', 'KRTAP4-5\\n', 'DSG1\\n', 'CAPN12\\n', 'PRPF6\\n', 'NTSR1\\n', 'NFASC\\n', 'GRK5\\n', 'TP53\\n', 'TXN2\\n', 'UBE2G1\\n', 'H2AC13\\n', 'LTBP1\\n', 'CREB1\\n', 'SMO\\n', 'EIF3L\\n', 'GTF2E2\\n', 'ARHGAP31\\n', 'TTN\\n', 'KRT78\\n', 'HAUS1\\n', 'ITGAL\\n', 'UBE2M\\n', 'OR5T1\\n', 'TCF7L2\\n', 'OR2AT4\\n', 'KCNAB2\\n', 'OR5B21\\n', 'KRTAP26-1\\n', 'ELOC\\n', 'MYDGF\\n', 'SIN3A\\n', 'BCAR1\\n', 'SNU13\\n', 'GBP5\\n', 'ZNF720\\n', 'ASB13\\n', 'SUPT7L\\n', 'MAPK3\\n', 'OR5H14\\n', 'TGFB1\\n', 'FBXL22\\n', 'OR13C3\\n', 'HECTD1\\n', 'DTX3L\\n', 'SULT2A1\\n', 'BIN2\\n', 'TUBB2B\\n', 'NME1-NME2\\n', 'CDKN2D\\n', 'PELI3\\n', 'ADCY5\\n', 'PCM1\\n', 'GPR18\\n', 'ARMC8\\n', 'SUZ12\\n', 'BSG\\n', 'IGF2R\\n', 'GNG10\\n', 'CCL5\\n', 'HAUS4\\n', 'OR2A7\\n', 'STIM1\\n', 'PSMA4\\n', 'XPO1\\n', 'HSPA14\\n', 'ZNF583\\n', 'CAPN2\\n', 'LIN7A\\n', 'DCTN5\\n', 'EPN1\\n', 'ODAM\\n', 'TNKS\\n', 'MED10\\n', 'BARD1\\n', 'LSM5\\n', 'CD1D\\n', 'CAPZA2\\n', 'TPTEP2-CSNK1E\\n', 'OR2C3\\n', 'LRP6\\n', 'SETD1B\\n', 'ZNF337\\n', 'OR13H1\\n', 'SNRPA1\\n', 'EPX\\n', 'COMMD1\\n', 'XRCC5\\n', 'TGM1\\n', 'CHMP4A\\n', 'OR6S1\\n', 'OGG1\\n', 'ARHGAP19\\n', 'UBE2E1\\n', 'ZNF543\\n', 'USP1\\n', 'SLC32A1\\n', 'APC\\n', 'RAD18\\n', 'CEP72\\n', 'OR6C4\\n', 'IL1RAP\\n', 'ACTL6A\\n', 'RPS14\\n', 'OR13C8\\n', 'USP17L4\\n', 'EXOSC9\\n', 'ELOA\\n', 'DOCK11\\n', 'INSR\\n', 'TUBB\\n', 'OPN1MW2\\n', 'EPS15L1\\n', 'RHOA\\n', 'BCL9L\\n', 'NCKAP1\\n', 'GYPA\\n', 'NCF1\\n', 'MAMLD1\\n', 'OR4N5\\n', 'RPL28\\n', 'UBE2L3\\n', 'GTF3A\\n', 'CD19\\n', 'OR4K2\\n', 'ISY1\\n', 'PCBP1\\n', 'CTNNA1\\n', 'ZNF671\\n', 'PSMC6\\n', 'RPL36AL\\n', 'GM2A\\n', 'OR5J2\\n', 'GADD45A\\n', 'IHH\\n', 'ZNF616\\n', 'LDB1\\n', 'RPGRIP1L\\n', 'AP2A2\\n', 'H2AX\\n', 'XCL1\\n', 'NR6A1\\n', 'PWP2\\n', 'SPRED2\\n', 'PDS5A\\n', 'GPR161\\n', 'DOCK2\\n', 'PAPPA\\n', 'AOX1\\n', 'NBAS\\n', 'UPF3B\\n', 'PSMD5\\n', 'MLLT1\\n', 'HLA-DPA1\\n', 'DCUN1D4\\n', 'ZNF860\\n', 'CARD9\\n', 'EIF3I\\n', 'ANPEP\\n', 'ACTR1A\\n', 'RAB2A\\n', 'FGFR3\\n', 'ORC4\\n', 'NELFE\\n', 'IVL\\n', 'ARNT\\n', 'GPR183\\n', 'BUD23\\n', 'ITPR3\\n', 'ZNF256\\n', 'BUB3\\n', 'NDC80\\n', 'TIMP3\\n', 'AP2B1\\n', 'DCN\\n', 'NUP88\\n', 'GREB1\\n', 'UBE2N\\n', 'INTS6\\n', 'CRHR2\\n', 'CCR9\\n', 'BLM\\n', 'SLC6A13\\n', 'LSS\\n', 'SNAP91\\n', 'EPC1\\n', 'OR10T2\\n', 'UBB\\n', 'MED24\\n', 'NUP50\\n', 'SYK\\n', 'LILRA3\\n', '956532\\n', 'WRN\\n', 'OS9\\n', 'OR1S1\\n', 'ZNF112\\n', 'HRG\\n', 'CENPE\\n', 'CCKBR\\n', 'OR51L1\\n', 'TRNT1\\n', 'H3C7\\n', 'PDE2A\\n', 'MCEMP1\\n', 'RPL8\\n', 'ECHDC2\\n', 'ATG14\\n', 'SUV39H1\\n', 'KLHL20\\n', 'LAMC1\\n', 'RPL13A\\n', 'DPY30\\n', 'PUF60\\n', 'CBLB\\n', 'YWHAE\\n', 'ADSS2\\n', 'XPO5\\n', 'EIF3D\\n', 'PSMD10\\n', 'OR4D11\\n', 'CTSC\\n', 'RGS4\\n', 'MAP3K11\\n', 'OR2J3\\n', 'IP6K2\\n', 'MMP8\\n', 'AHRR\\n', 'ZNF485\\n', 'H4C8\\n', 'KMT2D\\n', 'HOXB3\\n', 'NUDC\\n', 'EFNB2\\n', 'SGO1\\n', 'ARRB1\\n', 'KLHL25\\n', 'RIOK1\\n', 'SET\\n', 'RPS4Y2\\n', 'GH2\\n', 'ZC3H11A\\n', 'OR2T12\\n', 'BEST3\\n', 'XCL2\\n', 'RXRB\\n', 'MAGT1\\n', 'NFYC\\n', 'CD63\\n', 'HSF1\\n', 'AGXT2\\n', 'UBAC1\\n', 'MS4A3\\n', 'PARK7\\n', 'OR4K13\\n', 'SLC4A1\\n', 'UNC79\\n', 'ANO8\\n', 'FGA\\n', 'CEP290\\n', 'STARD13\\n', 'ITGB6\\n', 'TPP2\\n', 'RPTOR\\n', 'OR2A14\\n', 'IL1RL1\\n', 'RPL18\\n', 'COPS8\\n', 'RNF213\\n', 'SRGN\\n', 'PHC2\\n', 'NHLRC2\\n', 'SLC16A1\\n', 'DLC1\\n', 'GATAD2B\\n', 'KRT26\\n', 'AHCTF1\\n', 'AKT1\\n', 'CLINT1\\n', 'HRC\\n', 'CYBA\\n', 'STAT3\\n', 'ZNF34\\n', 'PTAFR\\n', 'OR2A2\\n', 'CD9\\n', 'LCK\\n', 'H4C2\\n', 'TRAPPC2\\n', 'PRMT6\\n', 'DRD4\\n', 'CAP1\\n', 'IQCB1\\n', 'WWTR1\\n', 'TCF7\\n', 'ZNF454\\n', 'SESN1\\n', 'RPL37A\\n', 'DCTN3\\n', 'LCP2\\n', 'FGG\\n', 'S100A11\\n', 'ZNF250\\n', 'CALR\\n', 'RNF220\\n', 'PIK3CD\\n', 'EEF2\\n', 'CAPN7\\n', 'FZD4\\n', 'BECN1\\n', 'UBXN7\\n', 'H3C10\\n', 'CAMK2D\\n', 'CHIT1\\n', 'AKR1D1\\n', 'CENPF\\n', 'PRDX2\\n', 'FOXO1\\n', 'CXCL1\\n', 'KRTAP4-3\\n', 'PER2\\n', 'ASXL1\\n', 'OR13G1\\n', 'ZNF699\\n', 'ZNF43\\n', 'FBXL20\\n', 'OR9A4\\n', 'SLC22A3\\n', 'HEY1\\n', 'CSNK1G2\\n', 'USP17L12\\n', 'RAB5A\\n', 'CEP70\\n', 'OR10W1\\n', 'CFH\\n', 'H3C3\\n', 'ADRA2B\\n', 'TERT\\n', 'RGS18\\n', 'ALCAM\\n', 'OR1Q1\\n', 'RAB33B\\n', 'KIF4B\\n', 'ZNF354C\\n', 'ZNF425\\n', 'OR2T4\\n', 'CYBB\\n', 'CCT2\\n', 'OR13C5\\n', 'SLC9C2\\n', 'SMARCC2\\n', 'PNPLA5\\n', 'HLA-DRB3\\n', 'PSMD14\\n', 'RPS27L\\n', 'ZNF747\\n', 'GPC6\\n', 'H2BU1\\n', 'H2BC12\\n', 'OR7A10\\n', 'ARHGEF12\\n', 'USP24\\n', 'OR2T6\\n', 'FBXO44\\n', 'NPY4R\\n', 'OR13C2\\n', 'GPR37L1\\n', 'AKT2\\n', 'ETF1\\n', 'NOS2\\n', 'SIRPB1\\n', 'WNT5A\\n', 'POLR2D\\n', 'PECAM1\\n', 'PRPF8\\n', 'ATP8B4\\n', 'ARRB2\\n', 'VNN1\\n', 'RPS11\\n', 'FBXO11\\n', 'UBE2O\\n', 'CXADR\\n', 'COL4A4\\n', 'GBP4\\n', 'KIF25\\n', 'RPS15\\n', 'POLG2\\n', 'OR5H2\\n', 'RPL26\\n', 'CEP152\\n', 'ZNF582\\n', 'ITGA11\\n', 'ZFYVE9\\n', 'MVP\\n', 'GFRA2\\n', 'TNRC6C\\n', 'PSTK\\n', 'CFHR3\\n', 'WDTC1\\n', 'ZNF274\\n', 'SSTR5\\n', 'GPR31\\n', 'WNT6\\n', 'ZNF154\\n', 'TLR4\\n', 'LHB\\n', 'HNRNPH1\\n', 'ANO2\\n', 'CAMK2B\\n', 'OR6C3\\n', 'OR14J1\\n', 'OR10J5\\n', 'ADH6\\n', 'PRKCSH\\n', 'CCL22\\n', 'OR2L13\\n', 'OR5K3\\n', 'THBS1\\n', 'OR10J1\\n', 'MIB1\\n', 'ITGA2\\n', 'RPS3\\n', 'LAMA3\\n', 'SMC1A\\n', 'ZNF101\\n', 'FTL\\n', 'EHMT2\\n', 'MCM5\\n', 'OR1N2\\n', 'GPX7\\n', 'AURKB\\n', 'RAC3\\n', 'MAPRE1\\n', 'CD36\\n', 'USP17L11\\n', 'ATP6V1A\\n', 'ZBED1\\n', 'NAPA\\n', 'FANCL\\n', 'NUP43\\n', 'H2BC7\\n', 'OR4C13\\n', 'ANGPTL4\\n', 'PROC\\n', 'UTP4\\n', 'OR13A1\\n', 'UBR1\\n', 'TALDO1\\n', 'HSP90AB1\\n', 'ZNF675\\n', 'ITPR2\\n', 'COPG2\\n', 'SLC44A2\\n', 'CHML\\n', 'NIT2\\n', 'ATP13A5\\n', 'HUWE1\\n', 'FEM1C\\n', 'NOL6\\n', 'KRTAP19-7\\n', 'TRIP12\\n', 'OR4D9\\n', 'ERBB2\\n', 'RPS4X\\n', 'KIF22\\n', 'ASB7\\n', 'SARS1\\n', 'MMP13\\n', 'OR4C11\\n', 'OR8K3\\n', 'CLASP2\\n', 'TMC6\\n', 'MSI1\\n', 'RPL31\\n', 'ZFP90\\n', 'NDUFV1\\n', 'ZNF680\\n', 'WWC1\\n', 'COL4A3\\n', 'RPA3\\n', 'OR5A1\\n', 'TNC\\n', 'RPAP2\\n', 'NFKBIA\\n', 'ZNF224\\n', 'PAX6\\n', 'EDEM1\\n', 'LDHB\\n', 'ABCB5\\n', 'KLHL9\\n', 'AP4S1\\n', 'VPS36\\n', 'VEGFA\\n', 'OR4C16\\n', 'TBP\\n', 'PRDX4\\n', 'CENPI\\n', 'CXCL16\\n', 'CTDP1\\n', 'UBE2Z\\n', 'FRS2\\n', 'GNB1\\n', 'FGF1\\n', 'SRRM1\\n', 'ARHGEF10L\\n', 'TAS1R3\\n', 'FAM120B\\n', 'OR51J1\\n', 'CDK4\\n', 'STBD1\\n', 'TUBB4B\\n', 'SLC25A21\\n', 'THRAP3\\n', 'ARHGAP23\\n', 'ORM2\\n', 'OR2C1\\n', 'SH3GL1\\n', 'INO80D\\n', 'NPY4R2\\n', 'AHSG\\n', 'PTH2\\n', 'ANGPT1\\n', 'H4C9\\n', 'CLCNKB\\n', 'EIF4A1\\n', 'HMOX1\\n', 'DDX5\\n', 'ASB18\\n', 'KDM5B\\n', 'B4GALT7\\n', 'PSMA8\\n', 'GSTP1\\n', 'SRF\\n', 'LPAR3\\n', 'PSMC1\\n', 'MET\\n', 'SLC27A2\\n', 'SEC61G\\n', 'TIAM1\\n', 'RPL6\\n', 'CXCL8\\n', 'ZNF431\\n', 'ANAPC2\\n', 'RNF185\\n', 'ARHGEF4\\n', 'MAP3K3\\n', 'RAB4A\\n', 'PENK\\n', 'SEC24B\\n', 'USP17L3\\n', 'CTSB\\n', 'H4C3\\n', 'DDX46\\n', 'NIP7\\n', 'PLA2G4C\\n', 'RPS16\\n', 'ARHGAP9\\n', 'PRKCG\\n', 'CPSF3\\n', 'AVPR1B\\n', 'OR8G2P\\n', 'NUP155\\n', 'ARFGAP3\\n', 'SRP9\\n', 'ARHGAP29\\n', 'SYTL4\\n', 'LTA4H\\n', 'GRM2\\n', 'LAT\\n', 'NDRG1\\n', 'SGPP1\\n', 'FBXW12\\n', 'ADORA2A\\n', 'GDI2\\n', 'TBC1D4\\n', 'GLP2R\\n', 'CALCR\\n', 'FGF18\\n', 'UBA3\\n', 'COL8A2\\n', 'KRT83\\n', 'CENPJ\\n', 'DBNL\\n', 'KRTAP2-1\\n', 'LDHA\\n', 'CDK5R1\\n', 'POLR2L\\n', 'DSG3\\n', 'TEAD4\\n', 'RHOG\\n', 'ZNF490\\n', 'RPS12\\n', 'RELB\\n', 'OR6C74\\n', 'CHRNB4\\n', 'CHD1\\n', 'SRI\\n', 'ZNF548\\n', 'MRTFA\\n', 'KDM2B\\n', 'ZNF700\\n', 'SPTBN2\\n', 'UGT1A3\\n', 'NPY\\n', 'CCNT2\\n', 'RCL1\\n', 'POLR2G\\n', 'IGF1\\n', 'DCTN4\\n', 'AADAT\\n', 'PRDX6\\n', 'OR4F5\\n', 'OR4B1\\n', 'TRAPPC1\\n', 'GNA11\\n', 'ZNF540\\n', 'SLIT1\\n', 'CC2D2A\\n', 'CAB39\\n', 'ACTR1B\\n', 'SUPT3H\\n', 'ADORA3\\n', 'OR52N2\\n', 'OR51B6\\n', 'LEP\\n', 'NEFL\\n', 'F2\\n', 'CSTF2\\n', 'CXCR6\\n', 'PPP1R12A\\n', 'PRKAA2\\n', 'SYCE2\\n', 'ABL1\\n', 'EPS15\\n', 'OR5B3\\n', 'PDXK\\n', 'AURKA\\n', 'RB1\\n', 'LAMP1\\n', 'RPL30\\n', 'EIF4G3\\n', 'VAPA\\n', 'CHD4\\n', 'SMG6\\n', 'OR10A3\\n', 'ACOX2\\n', 'SUPT4H1\\n', 'GJA5\\n', 'PRG2\\n', 'IFNA17\\n', 'OR6X1\\n', 'LGALS3\\n', 'KLHL2\\n', 'SPPL2B\\n', 'NDUFB3\\n', 'ZNF519\\n', 'TPX2\\n', 'RPA1\\n', 'GRHL1\\n', 'NUP107\\n', 'RAB35\\n', 'OGT\\n', 'SOCS6\\n', 'OR6C1\\n', 'SEC24A\\n', 'MED29\\n', 'OR2A12\\n', 'ZNF708\\n', 'PEDS1-UBE2V1\\n', 'IRF3\\n', 'CABLES2\\n', 'KNG1\\n', 'MUL1\\n', 'RAD17\\n', 'ACER3\\n', 'PYCARD\\n', 'OR13D1\\n', 'PMCH\\n', 'STAG2\\n', 'GCK\\n', 'EXOSC8\\n', 'CENPL\\n', 'NCK2\\n', 'WNT9A\\n', 'CUL3\\n', 'OR4D2\\n', 'DYSF\\n', 'LRP1\\n', 'CSNK2A2\\n', 'MYD88\\n', 'MAPK8\\n'], np.int64(902): ['SNCAIP\\n'], np.int64(903): ['TIMM17A\\n', 'ATP5MC3\\n'], np.int64(904): ['AK7\\n'], np.int64(905): ['DNAJC6\\n', 'SNAPIN\\n'], np.int64(906): ['LSM6\\n'], np.int64(907): ['CLDN15\\n'], np.int64(908): ['RAB30\\n'], np.int64(909): ['SGK2\\n'], np.int64(910): ['NNT\\n'], np.int64(911): ['LTV1\\n'], np.int64(912): ['KIF5C\\n', 'EXOC6\\n'], np.int64(913): ['MERTK\\n'], np.int64(914): ['MT-ATP6\\n'], np.int64(915): ['FSTL3\\n', 'MIA3\\n'], np.int64(916): ['PITRM1\\n'], np.int64(917): ['BET1\\n'], np.int64(918): ['TNNT3\\n'], np.int64(919): ['HDGF\\n'], np.int64(920): ['TBC1D8B\\n'], np.int64(921): ['B3GLCT\\n', 'ADAMTS12\\n'], np.int64(922): ['IAPP\\n', 'THRB\\n'], np.int64(923): ['AKAP1\\n'], np.int64(924): ['ARSD\\n'], np.int64(925): ['MRPL43\\n', 'MRPS23\\n', 'MRPS6\\n', 'MRPL23\\n', 'MRPL28\\n', 'MRPL16\\n', 'MRPS24\\n', 'MRPS28\\n', 'MRPS35\\n', 'DAP3\\n', 'MRPS14\\n', 'MRPL39\\n', 'MRPL42\\n', 'OXA1L\\n', 'MRPS25\\n', 'TSFM\\n', 'CHCHD1\\n', 'MRPS21\\n', 'MRPS9\\n', 'MRPL32\\n', 'MRPL51\\n', 'MTRF1L\\n', 'MRPL52\\n', 'MRPL58\\n', 'MRPS18A\\n', 'MRPL27\\n', 'MRPL12\\n', 'MRPL40\\n', 'MRPS17\\n', 'MRPS33\\n', 'MRPL41\\n', 'MRPL9\\n', 'MRPL50\\n', 'MRPL55\\n', 'GADD45GIP1\\n', 'TUFM\\n', 'MRPS10\\n', 'MRPL35\\n', 'MRPL24\\n', 'MRPS30\\n', 'MRPS22\\n', 'MRPL21\\n', 'MTFMT\\n', 'MRPL53\\n', 'MRPS12\\n', 'MRPL34\\n', 'MRPS27\\n', 'ERAL1\\n', 'MRPS11\\n', 'MRPS15\\n', 'MRPL49\\n', 'MRPL48\\n', 'MRPL10\\n', 'MRPL54\\n', 'MRPL15\\n', 'PTCD3\\n', 'MRPS36\\n', 'MRPL36\\n', 'MRPL18\\n', 'MRPS31\\n', 'MRPS34\\n', 'MRPL4\\n', 'MRPS2\\n', 'MRPL14\\n', 'MRPL1\\n', 'GFM2\\n', 'MRPS16\\n', 'AURKAIP1\\n', 'MRPL11\\n', 'MRPL33\\n', 'MRPL38\\n', 'MRPS26\\n', 'MRPL30\\n', 'MRPL46\\n', 'MRPL44\\n', 'MRPL22\\n', 'MRPL19\\n', 'MRPL57\\n', 'MRPL47\\n'], np.int64(926): ['TNFSF11\\n'], np.int64(927): ['CITED1\\n'], np.int64(928): ['LILRA1\\n', 'THBS2\\n', 'CD200R1\\n'], np.int64(929): ['SEC22A\\n'], np.int64(930): ['WDR35\\n', 'DYNC2LI1\\n'], np.int64(931): ['ADSL\\n'], np.int64(932): ['WBP4\\n', 'SF3A2\\n'], np.int64(933): ['EPHA8\\n', 'GIT1\\n', 'MYL12A\\n', 'EPHB1\\n'], np.int64(934): ['GCNT1\\n', 'ST3GAL4\\n'], np.int64(935): ['SLC9A9\\n'], np.int64(936): ['KIR2DL2\\n', 'JAML\\n', 'SIGLEC7\\n', 'MICA\\n'], np.int64(937): ['ME2\\n'], np.int64(938): ['GOLIM4\\n'], np.int64(939): ['KRTAP6-1\\n', 'KRT27\\n', 'KRT25\\n'], np.int64(940): ['KCNK4\\n'], np.int64(941): ['MSLN\\n'], np.int64(942): ['EXOSC10\\n', 'NOP58\\n'], np.int64(943): ['MRPS18C\\n'], np.int64(944): ['ZNF732\\n'], np.int64(945): ['KMT5A\\n'], np.int64(946): ['PYGO2\\n'], np.int64(947): ['TSR3\\n'], np.int64(948): ['RHOT2\\n', 'SOS2\\n', 'ARHGEF38\\n']}\n",
      "********************\n",
      "distance_matrix\n",
      "[[0.  0.8 0.8 ... 0.8 0.8 0.8]\n",
      " [0.8 0.  0.8 ... 0.6 0.4 0.8]\n",
      " [0.8 0.8 0.  ... 0.6 0.8 0.8]\n",
      " ...\n",
      " [0.8 0.6 0.6 ... 0.  0.2 0.8]\n",
      " [0.8 0.4 0.8 ... 0.2 0.  0.8]\n",
      " [0.8 0.8 0.8 ... 0.8 0.8 0. ]]\n",
      "********************\n"
     ]
    }
   ],
   "source": [
    "#| eval: false\n",
    "for key in cmmd_output.keys():\n",
    "    print(key)\n",
    "    print(cmmd_output[key])\n",
    "    print(\"*\" * 20)"
   ]
  },
  {
   "cell_type": "code",
   "execution_count": 11,
   "metadata": {},
   "outputs": [
    {
     "data": {
      "text/plain": [
       "(5609, 5609)"
      ]
     },
     "execution_count": 11,
     "metadata": {},
     "output_type": "execute_result"
    }
   ],
   "source": [
    "#| eval: false\n",
    "cmmd_output[\"distance_matrix\"].shape"
   ]
  },
  {
   "cell_type": "code",
   "execution_count": 12,
   "metadata": {},
   "outputs": [
    {
     "data": {
      "text/plain": [
       "array([[0. , 0.8, 0.8, ..., 0.8, 0.8, 0.8],\n",
       "       [0.8, 0. , 0.8, ..., 0.6, 0.4, 0.8],\n",
       "       [0.8, 0.8, 0. , ..., 0.6, 0.8, 0.8],\n",
       "       ...,\n",
       "       [0.8, 0.6, 0.6, ..., 0. , 0.2, 0.8],\n",
       "       [0.8, 0.4, 0.8, ..., 0.2, 0. , 0.8],\n",
       "       [0.8, 0.8, 0.8, ..., 0.8, 0.8, 0. ]])"
      ]
     },
     "execution_count": 12,
     "metadata": {},
     "output_type": "execute_result"
    }
   ],
   "source": [
    "#| eval: false\n",
    "dm = cmmd_output[\"distance_matrix\"]\n",
    "dm"
   ]
  },
  {
   "cell_type": "code",
   "execution_count": 13,
   "metadata": {},
   "outputs": [
    {
     "data": {
      "text/plain": [
       "array([0. , 0.2, 0.4, 0.6, 0.8, 1. ])"
      ]
     },
     "execution_count": 13,
     "metadata": {},
     "output_type": "execute_result"
    }
   ],
   "source": [
    "#| eval: false\n",
    "np.unique(dm)"
   ]
  },
  {
   "cell_type": "code",
   "execution_count": 14,
   "metadata": {},
   "outputs": [
    {
     "data": {
      "image/png": "[encoded data removed]",
      "text/plain": [
       "<Figure size 640x480 with 1 Axes>"
      ]
     },
     "metadata": {},
     "output_type": "display_data"
    }
   ],
   "source": [
    "#| eval: false\n",
    "sns.histplot(cmmd_output[\"distance_matrix\"].flatten(), stat=\"density\");"
   ]
  },
  {
   "cell_type": "code",
   "execution_count": 15,
   "metadata": {},
   "outputs": [
    {
     "data": {
      "text/plain": [
       "array([[ 736,  751, 1002,  810,  901],\n",
       "       [ 789,  924,  927,  964,  901],\n",
       "       [   0,  797,  983,  974,  901],\n",
       "       ...,\n",
       "       [   0,  924,  782,  818,  901],\n",
       "       [ 789,  924,  782,  818,  901],\n",
       "       [ 969,  935,  908,  963,  901]])"
      ]
     },
     "execution_count": 15,
     "metadata": {},
     "output_type": "execute_result"
    }
   ],
   "source": [
    "#| eval: false\n",
    "gcm = cmmd_output[\"gene_community_matrix\"]\n",
    "gcm"
   ]
  },
  {
   "cell_type": "code",
   "execution_count": 16,
   "metadata": {},
   "outputs": [
    {
     "data": {
      "text/plain": [
       "(5609, 5)"
      ]
     },
     "execution_count": 16,
     "metadata": {},
     "output_type": "execute_result"
    }
   ],
   "source": [
    "#| eval: false\n",
    "gcm.shape"
   ]
  },
  {
   "cell_type": "code",
   "execution_count": 17,
   "metadata": {},
   "outputs": [
    {
     "data": {
      "text/plain": [
       "dict"
      ]
     },
     "execution_count": 17,
     "metadata": {},
     "output_type": "execute_result"
    }
   ],
   "source": [
    "#| eval: false\n",
    "l_constant = cmmd_output[\"l_constant\"]\n",
    "type(l_constant)"
   ]
  },
  {
   "cell_type": "code",
   "execution_count": 18,
   "metadata": {},
   "outputs": [
    {
     "data": {
      "text/plain": [
       "380"
      ]
     },
     "execution_count": 18,
     "metadata": {},
     "output_type": "execute_result"
    }
   ],
   "source": [
    "#| eval: false\n",
    "len(l_constant.keys())"
   ]
  },
  {
   "cell_type": "code",
   "execution_count": 19,
   "metadata": {},
   "outputs": [
    {
     "data": {
      "text/plain": [
       "dict_keys(['gene_community_matrix', 'l_constant', 'distance_matrix'])"
      ]
     },
     "execution_count": 19,
     "metadata": {},
     "output_type": "execute_result"
    }
   ],
   "source": [
    "cmmd_output.keys()"
   ]
  },
  {
   "cell_type": "code",
   "execution_count": null,
   "metadata": {},
   "outputs": [],
   "source": []
  }
 ],
 "metadata": {
  "kernelspec": {
   "display_name": "python3",
   "language": "python",
   "name": "python3"
  },
  "language_info": {
   "codemirror_mode": {
    "name": "ipython",
    "version": 3
   },
   "file_extension": ".py",
   "mimetype": "text/x-python",
   "name": "python",
   "nbconvert_exporter": "python",
   "pygments_lexer": "ipython3",
   "version": "3.12.5"
  }
 },
 "nbformat": 4,
 "nbformat_minor": 2
}
